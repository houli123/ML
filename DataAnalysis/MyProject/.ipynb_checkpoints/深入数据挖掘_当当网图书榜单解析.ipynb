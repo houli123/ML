{
 "cells": [
  {
   "cell_type": "markdown",
   "metadata": {
    "id": "D80A867A75694CC696CF4F65074A13F1",
    "jupyter": {},
    "notebookId": "6672aac654443711a5cb7d1d",
    "runtime": {
     "execution_status": null,
     "is_visible": false,
     "status": "default"
    },
    "scrolled": false,
    "slideshow": {
     "slide_type": "slide"
    },
    "tags": []
   },
   "source": [
    "# 1.项目背景"
   ]
  },
  {
   "cell_type": "markdown",
   "metadata": {
    "id": "A47B12EE8E6641ED9FD38EE0BF5A805D",
    "jupyter": {},
    "notebookId": "6672aac654443711a5cb7d1d",
    "runtime": {
     "execution_status": null,
     "is_visible": false,
     "status": "default"
    },
    "scrolled": false,
    "slideshow": {
     "slide_type": "slide"
    },
    "tags": []
   },
   "source": [
    "在图书市场中，了解读者的行为和需求对于制定有效的营销策略至关重要。本项目通过分析当当网2020至2023年的畅销书排行榜数据，利用可视化分析和数据挖掘技术，对上榜图书和作者进行深入分析，出版商和网站能够更好地理解读者的需求，从而制定更有效的市场策略，提升用户满意度，最终推动业务发展。"
   ]
  },
  {
   "cell_type": "markdown",
   "metadata": {
    "id": "D5302ACC4921487BBD1DBED4E0E636D3",
    "jupyter": {},
    "notebookId": "6672aac654443711a5cb7d1d",
    "runtime": {
     "execution_status": null,
     "is_visible": false,
     "status": "default"
    },
    "scrolled": false,
    "slideshow": {
     "slide_type": "slide"
    },
    "tags": []
   },
   "source": [
    "**碎碎念：谢谢大家长期的支持，你们的点赞+收藏+Fork是对我的肯定，也是我继续写项目的动力，我会继续给大家带来更加优质的项目的，谢谢！本数据集，来自每周挑战中[下载地址](https://www.heywhale.com/mw/dataset/66613ba63f6df7924cddb3b5/file) 读者可以自行下载。如果对项目有疑问的话，可以在公众号与我取得联系，谢谢！**  \n",
    "\n",
    "公众号:[蓝皮怪的数据坊](https://mp.weixin.qq.com/mp/appmsgalbum?__biz=MzkzOTY5Njg3OA==&action=getalbum&album_id=3452981528261705738&scene=173&sessionid=1715406110&enterid=1715406254&from_msgid=2247483857&from_itemidx=1&count=3&nolastread=1&uin=&key=&devicetype=Windows+10+x64&version=63090a13&lang=zh_CN&ascene=0&session_us=gh_66f4f59896ce)  \n",
    "知乎：[知乎ID—蓝皮怪](https://www.zhihu.com/people/lan-pi-guai-44)  \n",
    "CSDN:[CSDN—蓝皮怪](https://blog.csdn.net/m0_53814833?type=blog)  \n",
    "![Image Name](https://cdn.kesci.com/upload/sd9s3de2h7.png)  "
   ]
  },
  {
   "cell_type": "markdown",
   "metadata": {
    "id": "1FE7421462934534BF02AF320A605D82",
    "jupyter": {},
    "notebookId": "6672aac654443711a5cb7d1d",
    "runtime": {
     "execution_status": null,
     "is_visible": false,
     "status": "default"
    },
    "scrolled": false,
    "slideshow": {
     "slide_type": "slide"
    },
    "tags": []
   },
   "source": [
    "# 2.数据说明"
   ]
  },
  {
   "cell_type": "markdown",
   "metadata": {
    "id": "37703EC3A8AC48CAAE32BA33620416F6",
    "jupyter": {},
    "notebookId": "6672aac654443711a5cb7d1d",
    "runtime": {
     "execution_status": null,
     "is_visible": false,
     "status": "default"
    },
    "scrolled": false,
    "slideshow": {
     "slide_type": "slide"
    },
    "tags": []
   },
   "source": [
    "| 字段       | 说明                                                                 |  \n",
    "|------------|----------------------------------------------------------------------|  \n",
    "| 排行榜类型 | 数据对应的年份，例如2020年、2021年等。                              |  \n",
    "| 排序       | 书籍在榜单中的排名。                                                |  \n",
    "| 书名       | 图书的名称，包括副标题等。                                          |  \n",
    "| 评论数     | 图书在当当网上的评论数量。                                          |  \n",
    "| 推荐值     | 图书的推荐值，通常是百分比形式，表示读者的推荐程度。                |  \n",
    "| 作者       | 图书的作者。                                                        |  \n",
    "| 出版日期   | 图书的出版日期。                                                    |  \n",
    "| 出版社     | 出版该书籍的出版社。                                                |  \n",
    "| 原价       | 图书的原价。                                                        |  \n",
    "| 售价       | 图书的折扣价。                                                      |  \n",
    "| 折扣比例   | 图书的折扣比例，通常表示为几折。                                    |  \n",
    "| 电子书价格 | 图书的电子书价格。                                                  |"
   ]
  },
  {
   "cell_type": "markdown",
   "metadata": {
    "id": "6D6E798823404E3DBDAD5CE0C401FCDE",
    "jupyter": {},
    "notebookId": "6672aac654443711a5cb7d1d",
    "runtime": {
     "execution_status": null,
     "is_visible": false,
     "status": "default"
    },
    "scrolled": false,
    "slideshow": {
     "slide_type": "slide"
    },
    "tags": []
   },
   "source": [
    "# 3.Python库导入及数据读取"
   ]
  },
  {
   "cell_type": "code",
   "execution_count": 2,
   "metadata": {
    "id": "D6C727AA24C44D7EA1D817CEDB7803E4",
    "jupyter": {},
    "notebookId": "6672aac654443711a5cb7d1d",
    "scrolled": false,
    "slideshow": {
     "slide_type": "slide"
    },
    "tags": []
   },
   "outputs": [],
   "source": [
    "import pandas as pd\n",
    "import numpy as np\n",
    "import seaborn as sns\n",
    "import matplotlib.pyplot as plt\n",
    "from sklearn.preprocessing import MinMaxScaler,StandardScaler\n",
    "from scipy.stats import spearmanr\n",
    "from scipy.stats import kruskal"
   ]
  },
  {
   "cell_type": "code",
   "execution_count": 3,
   "metadata": {
    "id": "603EDD0A489D4D2C9B5740D76D6068EA",
    "jupyter": {},
    "notebookId": "6672aac654443711a5cb7d1d",
    "scrolled": false,
    "slideshow": {
     "slide_type": "slide"
    },
    "tags": []
   },
   "outputs": [
    {
     "data": {
      "text/html": [
       "<div>\n",
       "<style scoped>\n",
       "    .dataframe tbody tr th:only-of-type {\n",
       "        vertical-align: middle;\n",
       "    }\n",
       "\n",
       "    .dataframe tbody tr th {\n",
       "        vertical-align: top;\n",
       "    }\n",
       "\n",
       "    .dataframe thead th {\n",
       "        text-align: right;\n",
       "    }\n",
       "</style>\n",
       "<table border=\"1\" class=\"dataframe\">\n",
       "  <thead>\n",
       "    <tr style=\"text-align: right;\">\n",
       "      <th></th>\n",
       "      <th>书名</th>\n",
       "      <th>作者</th>\n",
       "      <th>出版日期</th>\n",
       "      <th>出版社</th>\n",
       "      <th>原价</th>\n",
       "      <th>折扣价</th>\n",
       "      <th>折扣比例</th>\n",
       "      <th>排序</th>\n",
       "      <th>排行榜类型</th>\n",
       "      <th>推荐值</th>\n",
       "      <th>电子书价格</th>\n",
       "      <th>评论数</th>\n",
       "    </tr>\n",
       "  </thead>\n",
       "  <tbody>\n",
       "    <tr>\n",
       "      <th>0</th>\n",
       "      <td>你当像鸟飞往你的山（中文版销量超200万册，比尔・盖茨年度特别推</td>\n",
       "      <td>塔拉</td>\n",
       "      <td>2019-11-01</td>\n",
       "      <td>南海出版公司</td>\n",
       "      <td>44.25</td>\n",
       "      <td>59.0</td>\n",
       "      <td>7.5折</td>\n",
       "      <td>1</td>\n",
       "      <td>2020年</td>\n",
       "      <td>100%</td>\n",
       "      <td>24.99</td>\n",
       "      <td>1705642.0</td>\n",
       "    </tr>\n",
       "    <tr>\n",
       "      <th>1</th>\n",
       "      <td>人间失格（日本小说家太宰治代表作，一个对村上春树影响至深的绝</td>\n",
       "      <td>太宰治</td>\n",
       "      <td>2015-08-01</td>\n",
       "      <td>作家出版社</td>\n",
       "      <td>9.80</td>\n",
       "      <td>25.0</td>\n",
       "      <td>3.9折</td>\n",
       "      <td>2</td>\n",
       "      <td>2020年</td>\n",
       "      <td>99.8%</td>\n",
       "      <td>4.99</td>\n",
       "      <td>2227301.0</td>\n",
       "    </tr>\n",
       "    <tr>\n",
       "      <th>2</th>\n",
       "      <td>乌合之众 : 大众心理研究（群体心理学创始人古斯塔夫・勒庞代表作</td>\n",
       "      <td>古斯塔夫・勒庞</td>\n",
       "      <td>2018-04-06</td>\n",
       "      <td>民主与建设出版社</td>\n",
       "      <td>10.10</td>\n",
       "      <td>26.0</td>\n",
       "      <td>3.9折</td>\n",
       "      <td>3</td>\n",
       "      <td>2020年</td>\n",
       "      <td>100%</td>\n",
       "      <td>NaN</td>\n",
       "      <td>752375.0</td>\n",
       "    </tr>\n",
       "    <tr>\n",
       "      <th>3</th>\n",
       "      <td>神奇校车・图画书版（全12册）</td>\n",
       "      <td>乔安娜柯尔</td>\n",
       "      <td>2018-05-10</td>\n",
       "      <td>贵州人民出版社</td>\n",
       "      <td>165.00</td>\n",
       "      <td>198.0</td>\n",
       "      <td>8.3折</td>\n",
       "      <td>4</td>\n",
       "      <td>2020年</td>\n",
       "      <td>99.9%</td>\n",
       "      <td>NaN</td>\n",
       "      <td>1784300.0</td>\n",
       "    </tr>\n",
       "    <tr>\n",
       "      <th>4</th>\n",
       "      <td>作家榜名著：月亮与六便士（159万+读者高分推荐版！好评率高达99</td>\n",
       "      <td>毛姆</td>\n",
       "      <td>2017-01-10</td>\n",
       "      <td>浙江文艺出版社</td>\n",
       "      <td>39.80</td>\n",
       "      <td>39.8</td>\n",
       "      <td>10.0折</td>\n",
       "      <td>5</td>\n",
       "      <td>2020年</td>\n",
       "      <td>100%</td>\n",
       "      <td>3.99</td>\n",
       "      <td>1590551.0</td>\n",
       "    </tr>\n",
       "  </tbody>\n",
       "</table>\n",
       "</div>"
      ],
      "text/plain": [
       "                                  书名       作者        出版日期       出版社      原价  \\\n",
       "0   你当像鸟飞往你的山（中文版销量超200万册，比尔・盖茨年度特别推       塔拉  2019-11-01    南海出版公司   44.25   \n",
       "1     人间失格（日本小说家太宰治代表作，一个对村上春树影响至深的绝      太宰治  2015-08-01     作家出版社    9.80   \n",
       "2   乌合之众 : 大众心理研究（群体心理学创始人古斯塔夫・勒庞代表作  古斯塔夫・勒庞  2018-04-06  民主与建设出版社   10.10   \n",
       "3                    神奇校车・图画书版（全12册）    乔安娜柯尔  2018-05-10   贵州人民出版社  165.00   \n",
       "4  作家榜名著：月亮与六便士（159万+读者高分推荐版！好评率高达99       毛姆  2017-01-10   浙江文艺出版社   39.80   \n",
       "\n",
       "     折扣价   折扣比例  排序  排行榜类型    推荐值  电子书价格        评论数  \n",
       "0   59.0   7.5折   1  2020年   100%  24.99  1705642.0  \n",
       "1   25.0   3.9折   2  2020年  99.8%   4.99  2227301.0  \n",
       "2   26.0   3.9折   3  2020年   100%    NaN   752375.0  \n",
       "3  198.0   8.3折   4  2020年  99.9%    NaN  1784300.0  \n",
       "4   39.8  10.0折   5  2020年   100%   3.99  1590551.0  "
      ]
     },
     "execution_count": 3,
     "metadata": {},
     "output_type": "execute_result"
    }
   ],
   "source": [
    "data = pd.read_excel(\"当当网2000本读者最爱的课外书.xlsx\", encoding='utf-8')\n",
    "data.head()"
   ]
  },
  {
   "cell_type": "markdown",
   "metadata": {
    "id": "DA5F4403CE5F4C4A9E19B0E2561E1C6E",
    "jupyter": {},
    "notebookId": "6672aac654443711a5cb7d1d",
    "runtime": {
     "execution_status": null,
     "is_visible": false,
     "status": "default"
    },
    "scrolled": false,
    "slideshow": {
     "slide_type": "slide"
    },
    "tags": []
   },
   "source": [
    "# 4.数据预览与数据预处理"
   ]
  },
  {
   "cell_type": "code",
   "execution_count": 4,
   "metadata": {
    "id": "2A305B9A4E5240ECB682E496A57D5F72",
    "jupyter": {},
    "notebookId": "6672aac654443711a5cb7d1d",
    "scrolled": false,
    "slideshow": {
     "slide_type": "slide"
    },
    "tags": []
   },
   "outputs": [
    {
     "data": {
      "text/plain": [
       "(2000, 12)"
      ]
     },
     "execution_count": 4,
     "metadata": {},
     "output_type": "execute_result"
    }
   ],
   "source": [
    "#查看数据维度\n",
    "data.shape"
   ]
  },
  {
   "cell_type": "code",
   "execution_count": 5,
   "metadata": {
    "id": "9C0997642EE944E58216E74499BB34AF",
    "jupyter": {},
    "notebookId": "6672aac654443711a5cb7d1d",
    "scrolled": false,
    "slideshow": {
     "slide_type": "slide"
    },
    "tags": []
   },
   "outputs": [
    {
     "name": "stdout",
     "output_type": "stream",
     "text": [
      "<class 'pandas.core.frame.DataFrame'>\n",
      "RangeIndex: 2000 entries, 0 to 1999\n",
      "Data columns (total 12 columns):\n",
      "书名       2000 non-null object\n",
      "作者       1997 non-null object\n",
      "出版日期     1999 non-null object\n",
      "出版社      2000 non-null object\n",
      "原价       2000 non-null float64\n",
      "折扣价      2000 non-null float64\n",
      "折扣比例     2000 non-null object\n",
      "排序       2000 non-null int64\n",
      "排行榜类型    2000 non-null object\n",
      "推荐值      2000 non-null object\n",
      "电子书价格    693 non-null float64\n",
      "评论数      1996 non-null float64\n",
      "dtypes: float64(4), int64(1), object(7)\n",
      "memory usage: 187.6+ KB\n"
     ]
    }
   ],
   "source": [
    "#查看数据信息\n",
    "data.info()"
   ]
  },
  {
   "cell_type": "code",
   "execution_count": 6,
   "metadata": {
    "id": "AD4401E7EA404D6E9076E4781ECCFB8E",
    "jupyter": {},
    "notebookId": "6672aac654443711a5cb7d1d",
    "scrolled": false,
    "slideshow": {
     "slide_type": "slide"
    },
    "tags": []
   },
   "outputs": [
    {
     "data": {
      "text/plain": [
       "书名          0\n",
       "作者          3\n",
       "出版日期        1\n",
       "出版社         0\n",
       "原价          0\n",
       "折扣价         0\n",
       "折扣比例        0\n",
       "排序          0\n",
       "排行榜类型       0\n",
       "推荐值         0\n",
       "电子书价格    1307\n",
       "评论数         4\n",
       "dtype: int64"
      ]
     },
     "execution_count": 6,
     "metadata": {},
     "output_type": "execute_result"
    }
   ],
   "source": [
    "#查看各列缺失值\n",
    "data.isna().sum()"
   ]
  },
  {
   "cell_type": "code",
   "execution_count": 7,
   "metadata": {
    "id": "939D46E173C24F39A214F36CDF21EFF4",
    "jupyter": {},
    "notebookId": "6672aac654443711a5cb7d1d",
    "scrolled": false,
    "slideshow": {
     "slide_type": "slide"
    },
    "tags": []
   },
   "outputs": [
    {
     "data": {
      "text/plain": [
       "0"
      ]
     },
     "execution_count": 7,
     "metadata": {},
     "output_type": "execute_result"
    }
   ],
   "source": [
    "#查看重复值\n",
    "data.duplicated().sum()"
   ]
  },
  {
   "cell_type": "markdown",
   "metadata": {
    "id": "429E97F38E014F16B26F968F78CFA6E0",
    "jupyter": {},
    "notebookId": "6672aac654443711a5cb7d1d",
    "runtime": {
     "execution_status": null,
     "is_visible": false,
     "status": "default"
    },
    "scrolled": false,
    "slideshow": {
     "slide_type": "slide"
    },
    "tags": []
   },
   "source": [
    "考虑到电子书价格缺失值占比过大，这里直接删除这一特征列"
   ]
  },
  {
   "cell_type": "code",
   "execution_count": 8,
   "metadata": {
    "id": "A355F2EB18214D79886E83890BF0A7CA",
    "jupyter": {},
    "notebookId": "6672aac654443711a5cb7d1d",
    "scrolled": false,
    "slideshow": {
     "slide_type": "slide"
    },
    "tags": []
   },
   "outputs": [],
   "source": [
    "data.drop(columns=['电子书价格'],inplace=True)"
   ]
  },
  {
   "cell_type": "code",
   "execution_count": 9,
   "metadata": {
    "id": "0E9AE9B83679439290D21B8515230F11",
    "jupyter": {},
    "notebookId": "6672aac654443711a5cb7d1d",
    "scrolled": false,
    "slideshow": {
     "slide_type": "slide"
    },
    "tags": []
   },
   "outputs": [
    {
     "data": {
      "text/html": [
       "<div>\n",
       "<style scoped>\n",
       "    .dataframe tbody tr th:only-of-type {\n",
       "        vertical-align: middle;\n",
       "    }\n",
       "\n",
       "    .dataframe tbody tr th {\n",
       "        vertical-align: top;\n",
       "    }\n",
       "\n",
       "    .dataframe thead th {\n",
       "        text-align: right;\n",
       "    }\n",
       "</style>\n",
       "<table border=\"1\" class=\"dataframe\">\n",
       "  <thead>\n",
       "    <tr style=\"text-align: right;\">\n",
       "      <th></th>\n",
       "      <th>书名</th>\n",
       "      <th>作者</th>\n",
       "      <th>出版日期</th>\n",
       "      <th>出版社</th>\n",
       "      <th>原价</th>\n",
       "      <th>折扣价</th>\n",
       "      <th>折扣比例</th>\n",
       "      <th>排序</th>\n",
       "      <th>排行榜类型</th>\n",
       "      <th>推荐值</th>\n",
       "      <th>评论数</th>\n",
       "    </tr>\n",
       "  </thead>\n",
       "  <tbody>\n",
       "    <tr>\n",
       "      <th>233</th>\n",
       "      <td>一级建造师 2020教材 2020版一级建造师 建筑工程管理与实务</td>\n",
       "      <td>NaN</td>\n",
       "      <td>NaN</td>\n",
       "      <td>中国建筑工业出版社</td>\n",
       "      <td>61.60</td>\n",
       "      <td>78.0</td>\n",
       "      <td>7.9折</td>\n",
       "      <td>234</td>\n",
       "      <td>2020年</td>\n",
       "      <td>100%</td>\n",
       "      <td>233874.0</td>\n",
       "    </tr>\n",
       "    <tr>\n",
       "      <th>731</th>\n",
       "      <td>中国共产党简史（32开）2021党史学习教育系列读物领导干部学习指</td>\n",
       "      <td>NaN</td>\n",
       "      <td>2021-02-25</td>\n",
       "      <td>人民出版社</td>\n",
       "      <td>41.20</td>\n",
       "      <td>42.0</td>\n",
       "      <td>9.8折</td>\n",
       "      <td>232</td>\n",
       "      <td>2021年</td>\n",
       "      <td>100%</td>\n",
       "      <td>23789.0</td>\n",
       "    </tr>\n",
       "    <tr>\n",
       "      <th>1355</th>\n",
       "      <td>习近平谈治国理政（第四卷）（中文平装）</td>\n",
       "      <td>习近平</td>\n",
       "      <td>2022-06-30</td>\n",
       "      <td>外文出版社</td>\n",
       "      <td>65.00</td>\n",
       "      <td>80.0</td>\n",
       "      <td>8.1折</td>\n",
       "      <td>356</td>\n",
       "      <td>2022年</td>\n",
       "      <td>0%</td>\n",
       "      <td>NaN</td>\n",
       "    </tr>\n",
       "    <tr>\n",
       "      <th>1715</th>\n",
       "      <td>《习近平新时代中国特色社会主义思想学习纲要（2023年版）》小字</td>\n",
       "      <td>中共中央宣传部</td>\n",
       "      <td>2023-04-08</td>\n",
       "      <td>学习出版社</td>\n",
       "      <td>13.60</td>\n",
       "      <td>16.0</td>\n",
       "      <td>8.5折</td>\n",
       "      <td>216</td>\n",
       "      <td>2023年</td>\n",
       "      <td>0%</td>\n",
       "      <td>NaN</td>\n",
       "    </tr>\n",
       "    <tr>\n",
       "      <th>1866</th>\n",
       "      <td>习近平著作选读第二卷普及本 （100册以上团购请联系团购电话4001</td>\n",
       "      <td>习近平</td>\n",
       "      <td>2023-04-07</td>\n",
       "      <td>人民出版社</td>\n",
       "      <td>28.90</td>\n",
       "      <td>34.0</td>\n",
       "      <td>8.5折</td>\n",
       "      <td>367</td>\n",
       "      <td>2023年</td>\n",
       "      <td>0%</td>\n",
       "      <td>NaN</td>\n",
       "    </tr>\n",
       "    <tr>\n",
       "      <th>1869</th>\n",
       "      <td>习近平著作选读第一卷普及本 （100册以上团购请联系团购电话4001</td>\n",
       "      <td>习近平</td>\n",
       "      <td>2023-04-07</td>\n",
       "      <td>人民出版社</td>\n",
       "      <td>29.75</td>\n",
       "      <td>35.0</td>\n",
       "      <td>8.5折</td>\n",
       "      <td>370</td>\n",
       "      <td>2023年</td>\n",
       "      <td>0%</td>\n",
       "      <td>NaN</td>\n",
       "    </tr>\n",
       "    <tr>\n",
       "      <th>1908</th>\n",
       "      <td>写给青少年的古文观止全套5册正版小古文小学初中高中注音详解注释</td>\n",
       "      <td>NaN</td>\n",
       "      <td>2022-05-01</td>\n",
       "      <td>民主与建设出版社</td>\n",
       "      <td>25.90</td>\n",
       "      <td>228.0</td>\n",
       "      <td>1.1折</td>\n",
       "      <td>409</td>\n",
       "      <td>2023年</td>\n",
       "      <td>100%</td>\n",
       "      <td>40487.0</td>\n",
       "    </tr>\n",
       "  </tbody>\n",
       "</table>\n",
       "</div>"
      ],
      "text/plain": [
       "                                      书名       作者        出版日期        出版社  \\\n",
       "233    一级建造师 2020教材 2020版一级建造师 建筑工程管理与实务      NaN         NaN  中国建筑工业出版社   \n",
       "731    中国共产党简史（32开）2021党史学习教育系列读物领导干部学习指      NaN  2021-02-25      人民出版社   \n",
       "1355                 习近平谈治国理政（第四卷）（中文平装）      习近平  2022-06-30      外文出版社   \n",
       "1715    《习近平新时代中国特色社会主义思想学习纲要（2023年版）》小字  中共中央宣传部  2023-04-08      学习出版社   \n",
       "1866  习近平著作选读第二卷普及本 （100册以上团购请联系团购电话4001      习近平  2023-04-07      人民出版社   \n",
       "1869  习近平著作选读第一卷普及本 （100册以上团购请联系团购电话4001      习近平  2023-04-07      人民出版社   \n",
       "1908     写给青少年的古文观止全套5册正版小古文小学初中高中注音详解注释      NaN  2022-05-01   民主与建设出版社   \n",
       "\n",
       "         原价    折扣价  折扣比例   排序  排行榜类型   推荐值       评论数  \n",
       "233   61.60   78.0  7.9折  234  2020年  100%  233874.0  \n",
       "731   41.20   42.0  9.8折  232  2021年  100%   23789.0  \n",
       "1355  65.00   80.0  8.1折  356  2022年    0%       NaN  \n",
       "1715  13.60   16.0  8.5折  216  2023年    0%       NaN  \n",
       "1866  28.90   34.0  8.5折  367  2023年    0%       NaN  \n",
       "1869  29.75   35.0  8.5折  370  2023年    0%       NaN  \n",
       "1908  25.90  228.0  1.1折  409  2023年  100%   40487.0  "
      ]
     },
     "execution_count": 9,
     "metadata": {},
     "output_type": "execute_result"
    }
   ],
   "source": [
    "# 输出其他缺失值的行\n",
    "data[data.isna().any(axis=1)]"
   ]
  },
  {
   "cell_type": "markdown",
   "metadata": {
    "id": "254491ED2F6C403483816FB2B2C31C65",
    "jupyter": {},
    "notebookId": "6672aac654443711a5cb7d1d",
    "runtime": {
     "execution_status": null,
     "is_visible": false,
     "status": "default"
    },
    "scrolled": false,
    "slideshow": {
     "slide_type": "slide"
    },
    "tags": []
   },
   "source": [
    "通过观察，缺失值，针对评论数的缺失值，考虑可能是较为特殊的书籍，后续使用平均值来替换，而且发现存在推荐值为0的书籍，考虑是否因为不存在评论，导致推荐值为0，后续进一步处理查看。  \n",
    "通过ISBN在[国家出版发行信息公共服务平台](http://book.cppinfo.cn/home/index)查到了出版日期，日期是2020年5月，没写具体的日，就按5月1日吧，然后缺失作者的书籍，也在里面查到，并且替换这些缺失值。  \n",
    "![Image Name](https://cdn.kesci.com/upload/senl29fheh.png?imageView2/0/w/960/h/960)  \n",
    "\n",
    "![Image Name](https://cdn.kesci.com/upload/sep64h6i7k.png?imageView2/0/w/960/h/960)  \n",
    "\n",
    "\n",
    "![Image Name](https://cdn.kesci.com/upload/sep68hh1xr.png?imageView2/0/w/960/h/960)  \n"
   ]
  },
  {
   "cell_type": "code",
   "execution_count": 10,
   "metadata": {
    "id": "B6C0E7C3DF7447A893F18DB9B23F1B3A",
    "jupyter": {},
    "notebookId": "6672aac654443711a5cb7d1d",
    "scrolled": false,
    "slideshow": {
     "slide_type": "slide"
    },
    "tags": []
   },
   "outputs": [],
   "source": [
    "data.loc[data['书名'] == '一级建造师 2020教材 2020版一级建造师 建筑工程管理与实务', '作者'] = '全国一级建造师执业资格考试用书编写委员会'\n",
    "data.loc[data['书名'] == '一级建造师 2020教材 2020版一级建造师 建筑工程管理与实务', '出版日期'] = '2020-05-01'\n",
    "data.loc[data['书名'] == '中国共产党简史（32开）2021党史学习教育系列读物领导干部学习指', '作者'] = '中国共产党简史编写组'\n",
    "data.loc[data['书名'] == '写给青少年的古文观止全套5册正版小古文小学初中高中注音详解注释', '作者'] = '伊泽'"
   ]
  },
  {
   "cell_type": "code",
   "execution_count": 11,
   "metadata": {
    "id": "1647C3E0E1784329827F2BF1F620220F",
    "jupyter": {},
    "notebookId": "6672aac654443711a5cb7d1d",
    "scrolled": false,
    "slideshow": {
     "slide_type": "slide"
    },
    "tags": []
   },
   "outputs": [
    {
     "data": {
      "text/html": [
       "<div>\n",
       "<style scoped>\n",
       "    .dataframe tbody tr th:only-of-type {\n",
       "        vertical-align: middle;\n",
       "    }\n",
       "\n",
       "    .dataframe tbody tr th {\n",
       "        vertical-align: top;\n",
       "    }\n",
       "\n",
       "    .dataframe thead th {\n",
       "        text-align: right;\n",
       "    }\n",
       "</style>\n",
       "<table border=\"1\" class=\"dataframe\">\n",
       "  <thead>\n",
       "    <tr style=\"text-align: right;\">\n",
       "      <th></th>\n",
       "      <th>书名</th>\n",
       "      <th>作者</th>\n",
       "      <th>出版日期</th>\n",
       "      <th>出版社</th>\n",
       "      <th>原价</th>\n",
       "      <th>折扣价</th>\n",
       "      <th>折扣比例</th>\n",
       "      <th>排序</th>\n",
       "      <th>排行榜类型</th>\n",
       "      <th>推荐值</th>\n",
       "      <th>评论数</th>\n",
       "    </tr>\n",
       "  </thead>\n",
       "  <tbody>\n",
       "    <tr>\n",
       "      <th>1355</th>\n",
       "      <td>习近平谈治国理政（第四卷）（中文平装）</td>\n",
       "      <td>习近平</td>\n",
       "      <td>2022-06-30</td>\n",
       "      <td>外文出版社</td>\n",
       "      <td>65.00</td>\n",
       "      <td>80.0</td>\n",
       "      <td>8.1折</td>\n",
       "      <td>356</td>\n",
       "      <td>2022年</td>\n",
       "      <td>0%</td>\n",
       "      <td>NaN</td>\n",
       "    </tr>\n",
       "    <tr>\n",
       "      <th>1715</th>\n",
       "      <td>《习近平新时代中国特色社会主义思想学习纲要（2023年版）》小字</td>\n",
       "      <td>中共中央宣传部</td>\n",
       "      <td>2023-04-08</td>\n",
       "      <td>学习出版社</td>\n",
       "      <td>13.60</td>\n",
       "      <td>16.0</td>\n",
       "      <td>8.5折</td>\n",
       "      <td>216</td>\n",
       "      <td>2023年</td>\n",
       "      <td>0%</td>\n",
       "      <td>NaN</td>\n",
       "    </tr>\n",
       "    <tr>\n",
       "      <th>1866</th>\n",
       "      <td>习近平著作选读第二卷普及本 （100册以上团购请联系团购电话4001</td>\n",
       "      <td>习近平</td>\n",
       "      <td>2023-04-07</td>\n",
       "      <td>人民出版社</td>\n",
       "      <td>28.90</td>\n",
       "      <td>34.0</td>\n",
       "      <td>8.5折</td>\n",
       "      <td>367</td>\n",
       "      <td>2023年</td>\n",
       "      <td>0%</td>\n",
       "      <td>NaN</td>\n",
       "    </tr>\n",
       "    <tr>\n",
       "      <th>1869</th>\n",
       "      <td>习近平著作选读第一卷普及本 （100册以上团购请联系团购电话4001</td>\n",
       "      <td>习近平</td>\n",
       "      <td>2023-04-07</td>\n",
       "      <td>人民出版社</td>\n",
       "      <td>29.75</td>\n",
       "      <td>35.0</td>\n",
       "      <td>8.5折</td>\n",
       "      <td>370</td>\n",
       "      <td>2023年</td>\n",
       "      <td>0%</td>\n",
       "      <td>NaN</td>\n",
       "    </tr>\n",
       "  </tbody>\n",
       "</table>\n",
       "</div>"
      ],
      "text/plain": [
       "                                      书名       作者        出版日期    出版社     原价  \\\n",
       "1355                 习近平谈治国理政（第四卷）（中文平装）      习近平  2022-06-30  外文出版社  65.00   \n",
       "1715    《习近平新时代中国特色社会主义思想学习纲要（2023年版）》小字  中共中央宣传部  2023-04-08  学习出版社  13.60   \n",
       "1866  习近平著作选读第二卷普及本 （100册以上团购请联系团购电话4001      习近平  2023-04-07  人民出版社  28.90   \n",
       "1869  习近平著作选读第一卷普及本 （100册以上团购请联系团购电话4001      习近平  2023-04-07  人民出版社  29.75   \n",
       "\n",
       "       折扣价  折扣比例   排序  排行榜类型 推荐值  评论数  \n",
       "1355  80.0  8.1折  356  2022年  0%  NaN  \n",
       "1715  16.0  8.5折  216  2023年  0%  NaN  \n",
       "1866  34.0  8.5折  367  2023年  0%  NaN  \n",
       "1869  35.0  8.5折  370  2023年  0%  NaN  "
      ]
     },
     "execution_count": 11,
     "metadata": {},
     "output_type": "execute_result"
    }
   ],
   "source": [
    "data[data['推荐值'] == '0%']"
   ]
  },
  {
   "cell_type": "markdown",
   "metadata": {
    "id": "C5A554C57FCB42BDA40502D55D030A21",
    "jupyter": {},
    "notebookId": "6672aac654443711a5cb7d1d",
    "runtime": {
     "execution_status": null,
     "is_visible": false,
     "status": "default"
    },
    "scrolled": false,
    "slideshow": {
     "slide_type": "slide"
    },
    "tags": []
   },
   "source": [
    "果然，推荐值为0的书籍，都是没有评论的，把推荐值为0%的值，替换成100%（我认为这种书籍推荐值就应该是100%），评论数的话就用平均值填充吧。"
   ]
  },
  {
   "cell_type": "code",
   "execution_count": 12,
   "metadata": {
    "id": "40C34723E1294CCEA1C8B40E58F69219",
    "jupyter": {},
    "notebookId": "6672aac654443711a5cb7d1d",
    "scrolled": false,
    "slideshow": {
     "slide_type": "slide"
    },
    "tags": []
   },
   "outputs": [],
   "source": [
    "data['推荐值'] = data['推荐值'].replace('0%', '100%')\n",
    "data['评论数'] = data['评论数'].fillna(data['评论数'].mean())"
   ]
  },
  {
   "cell_type": "code",
   "execution_count": 13,
   "metadata": {
    "id": "41D9F4C37FC94F9EA35117C1C4E1AE76",
    "jupyter": {},
    "notebookId": "6672aac654443711a5cb7d1d",
    "scrolled": false,
    "slideshow": {
     "slide_type": "slide"
    },
    "tags": []
   },
   "outputs": [],
   "source": [
    "# 将排行榜类型中的“xxxx年”改成“xxxx”\n",
    "data['排行榜类型'] = data['排行榜类型'].str.replace('年', '').astype(int)\n",
    "\n",
    "# 将评论数转换为整数\n",
    "data['评论数'] = data['评论数'].astype(int)\n",
    "\n",
    "# 将出版日期转换为日期格式\n",
    "data['出版日期'] = pd.to_datetime(data['出版日期'])\n",
    "\n",
    "# 将折扣比例转换为浮点数，并去掉'折'字符\n",
    "data['折扣比例'] = data['折扣比例'].str.replace('折', '').astype(float)\n",
    "\n",
    "# 将推荐值从百分比字符串转换为浮点数\n",
    "data['推荐值(%)'] = data['推荐值'].str.replace('%', '').astype(float) \n",
    "data.drop(columns=['推荐值'], inplace=True)"
   ]
  },
  {
   "cell_type": "code",
   "execution_count": 14,
   "metadata": {
    "id": "DD6CACD7C5AA4CDC8377E7B41DCDEBC6",
    "jupyter": {},
    "notebookId": "6672aac654443711a5cb7d1d",
    "scrolled": false,
    "slideshow": {
     "slide_type": "slide"
    },
    "tags": []
   },
   "outputs": [
    {
     "data": {
      "text/html": [
       "<div>\n",
       "<style scoped>\n",
       "    .dataframe tbody tr th:only-of-type {\n",
       "        vertical-align: middle;\n",
       "    }\n",
       "\n",
       "    .dataframe tbody tr th {\n",
       "        vertical-align: top;\n",
       "    }\n",
       "\n",
       "    .dataframe thead th {\n",
       "        text-align: right;\n",
       "    }\n",
       "</style>\n",
       "<table border=\"1\" class=\"dataframe\">\n",
       "  <thead>\n",
       "    <tr style=\"text-align: right;\">\n",
       "      <th></th>\n",
       "      <th>书名</th>\n",
       "      <th>作者</th>\n",
       "      <th>出版日期</th>\n",
       "      <th>出版社</th>\n",
       "      <th>原价</th>\n",
       "      <th>折扣价</th>\n",
       "      <th>折扣比例</th>\n",
       "      <th>排序</th>\n",
       "      <th>排行榜类型</th>\n",
       "      <th>评论数</th>\n",
       "      <th>推荐值(%)</th>\n",
       "    </tr>\n",
       "  </thead>\n",
       "  <tbody>\n",
       "    <tr>\n",
       "      <th>0</th>\n",
       "      <td>你当像鸟飞往你的山（中文版销量超200万册，比尔・盖茨年度特别推</td>\n",
       "      <td>塔拉</td>\n",
       "      <td>2019-11-01</td>\n",
       "      <td>南海出版公司</td>\n",
       "      <td>44.25</td>\n",
       "      <td>59.0</td>\n",
       "      <td>7.5</td>\n",
       "      <td>1</td>\n",
       "      <td>2020</td>\n",
       "      <td>1705642</td>\n",
       "      <td>100.0</td>\n",
       "    </tr>\n",
       "    <tr>\n",
       "      <th>1</th>\n",
       "      <td>人间失格（日本小说家太宰治代表作，一个对村上春树影响至深的绝</td>\n",
       "      <td>太宰治</td>\n",
       "      <td>2015-08-01</td>\n",
       "      <td>作家出版社</td>\n",
       "      <td>9.80</td>\n",
       "      <td>25.0</td>\n",
       "      <td>3.9</td>\n",
       "      <td>2</td>\n",
       "      <td>2020</td>\n",
       "      <td>2227301</td>\n",
       "      <td>99.8</td>\n",
       "    </tr>\n",
       "    <tr>\n",
       "      <th>2</th>\n",
       "      <td>乌合之众 : 大众心理研究（群体心理学创始人古斯塔夫・勒庞代表作</td>\n",
       "      <td>古斯塔夫・勒庞</td>\n",
       "      <td>2018-04-06</td>\n",
       "      <td>民主与建设出版社</td>\n",
       "      <td>10.10</td>\n",
       "      <td>26.0</td>\n",
       "      <td>3.9</td>\n",
       "      <td>3</td>\n",
       "      <td>2020</td>\n",
       "      <td>752375</td>\n",
       "      <td>100.0</td>\n",
       "    </tr>\n",
       "    <tr>\n",
       "      <th>3</th>\n",
       "      <td>神奇校车・图画书版（全12册）</td>\n",
       "      <td>乔安娜柯尔</td>\n",
       "      <td>2018-05-10</td>\n",
       "      <td>贵州人民出版社</td>\n",
       "      <td>165.00</td>\n",
       "      <td>198.0</td>\n",
       "      <td>8.3</td>\n",
       "      <td>4</td>\n",
       "      <td>2020</td>\n",
       "      <td>1784300</td>\n",
       "      <td>99.9</td>\n",
       "    </tr>\n",
       "    <tr>\n",
       "      <th>4</th>\n",
       "      <td>作家榜名著：月亮与六便士（159万+读者高分推荐版！好评率高达99</td>\n",
       "      <td>毛姆</td>\n",
       "      <td>2017-01-10</td>\n",
       "      <td>浙江文艺出版社</td>\n",
       "      <td>39.80</td>\n",
       "      <td>39.8</td>\n",
       "      <td>10.0</td>\n",
       "      <td>5</td>\n",
       "      <td>2020</td>\n",
       "      <td>1590551</td>\n",
       "      <td>100.0</td>\n",
       "    </tr>\n",
       "  </tbody>\n",
       "</table>\n",
       "</div>"
      ],
      "text/plain": [
       "                                  书名       作者       出版日期       出版社      原价  \\\n",
       "0   你当像鸟飞往你的山（中文版销量超200万册，比尔・盖茨年度特别推       塔拉 2019-11-01    南海出版公司   44.25   \n",
       "1     人间失格（日本小说家太宰治代表作，一个对村上春树影响至深的绝      太宰治 2015-08-01     作家出版社    9.80   \n",
       "2   乌合之众 : 大众心理研究（群体心理学创始人古斯塔夫・勒庞代表作  古斯塔夫・勒庞 2018-04-06  民主与建设出版社   10.10   \n",
       "3                    神奇校车・图画书版（全12册）    乔安娜柯尔 2018-05-10   贵州人民出版社  165.00   \n",
       "4  作家榜名著：月亮与六便士（159万+读者高分推荐版！好评率高达99       毛姆 2017-01-10   浙江文艺出版社   39.80   \n",
       "\n",
       "     折扣价  折扣比例  排序  排行榜类型      评论数  推荐值(%)  \n",
       "0   59.0   7.5   1   2020  1705642   100.0  \n",
       "1   25.0   3.9   2   2020  2227301    99.8  \n",
       "2   26.0   3.9   3   2020   752375   100.0  \n",
       "3  198.0   8.3   4   2020  1784300    99.9  \n",
       "4   39.8  10.0   5   2020  1590551   100.0  "
      ]
     },
     "execution_count": 14,
     "metadata": {},
     "output_type": "execute_result"
    }
   ],
   "source": [
    "data.head()"
   ]
  },
  {
   "cell_type": "markdown",
   "metadata": {
    "id": "986268ECCA8F417ABDDD490C1B979A1B",
    "jupyter": {},
    "notebookId": "6672aac654443711a5cb7d1d",
    "runtime": {
     "execution_status": null,
     "is_visible": false,
     "status": "default"
    },
    "scrolled": false,
    "slideshow": {
     "slide_type": "slide"
    },
    "tags": []
   },
   "source": [
    "# 5.描述性统计"
   ]
  },
  {
   "cell_type": "code",
   "execution_count": 15,
   "metadata": {
    "id": "C65E4C2565DE4E529D4A1150843A0289",
    "jupyter": {},
    "notebookId": "6672aac654443711a5cb7d1d",
    "scrolled": false,
    "slideshow": {
     "slide_type": "slide"
    },
    "tags": []
   },
   "outputs": [
    {
     "data": {
      "text/html": [
       "<div>\n",
       "<style scoped>\n",
       "    .dataframe tbody tr th:only-of-type {\n",
       "        vertical-align: middle;\n",
       "    }\n",
       "\n",
       "    .dataframe tbody tr th {\n",
       "        vertical-align: top;\n",
       "    }\n",
       "\n",
       "    .dataframe thead th {\n",
       "        text-align: right;\n",
       "    }\n",
       "</style>\n",
       "<table border=\"1\" class=\"dataframe\">\n",
       "  <thead>\n",
       "    <tr style=\"text-align: right;\">\n",
       "      <th></th>\n",
       "      <th>书名</th>\n",
       "      <th>作者</th>\n",
       "      <th>出版日期</th>\n",
       "      <th>出版社</th>\n",
       "      <th>原价</th>\n",
       "      <th>折扣价</th>\n",
       "      <th>折扣比例</th>\n",
       "      <th>排序</th>\n",
       "      <th>排行榜类型</th>\n",
       "      <th>评论数</th>\n",
       "      <th>推荐值(%)</th>\n",
       "    </tr>\n",
       "  </thead>\n",
       "  <tbody>\n",
       "    <tr>\n",
       "      <th>count</th>\n",
       "      <td>2000</td>\n",
       "      <td>2000</td>\n",
       "      <td>2000</td>\n",
       "      <td>2000</td>\n",
       "      <td>2000.000000</td>\n",
       "      <td>2000.000000</td>\n",
       "      <td>2000.000000</td>\n",
       "      <td>2000.000000</td>\n",
       "      <td>2000.000000</td>\n",
       "      <td>2.000000e+03</td>\n",
       "      <td>2000.000000</td>\n",
       "    </tr>\n",
       "    <tr>\n",
       "      <th>unique</th>\n",
       "      <td>1093</td>\n",
       "      <td>698</td>\n",
       "      <td>361</td>\n",
       "      <td>176</td>\n",
       "      <td>NaN</td>\n",
       "      <td>NaN</td>\n",
       "      <td>NaN</td>\n",
       "      <td>NaN</td>\n",
       "      <td>NaN</td>\n",
       "      <td>NaN</td>\n",
       "      <td>NaN</td>\n",
       "    </tr>\n",
       "    <tr>\n",
       "      <th>top</th>\n",
       "      <td>围城</td>\n",
       "      <td>东野圭吾</td>\n",
       "      <td>2018-04-01 00:00:00</td>\n",
       "      <td>时代文艺出版社</td>\n",
       "      <td>NaN</td>\n",
       "      <td>NaN</td>\n",
       "      <td>NaN</td>\n",
       "      <td>NaN</td>\n",
       "      <td>NaN</td>\n",
       "      <td>NaN</td>\n",
       "      <td>NaN</td>\n",
       "    </tr>\n",
       "    <tr>\n",
       "      <th>freq</th>\n",
       "      <td>5</td>\n",
       "      <td>30</td>\n",
       "      <td>49</td>\n",
       "      <td>90</td>\n",
       "      <td>NaN</td>\n",
       "      <td>NaN</td>\n",
       "      <td>NaN</td>\n",
       "      <td>NaN</td>\n",
       "      <td>NaN</td>\n",
       "      <td>NaN</td>\n",
       "      <td>NaN</td>\n",
       "    </tr>\n",
       "    <tr>\n",
       "      <th>first</th>\n",
       "      <td>NaN</td>\n",
       "      <td>NaN</td>\n",
       "      <td>1982-03-01 00:00:00</td>\n",
       "      <td>NaN</td>\n",
       "      <td>NaN</td>\n",
       "      <td>NaN</td>\n",
       "      <td>NaN</td>\n",
       "      <td>NaN</td>\n",
       "      <td>NaN</td>\n",
       "      <td>NaN</td>\n",
       "      <td>NaN</td>\n",
       "    </tr>\n",
       "    <tr>\n",
       "      <th>last</th>\n",
       "      <td>NaN</td>\n",
       "      <td>NaN</td>\n",
       "      <td>2023-12-01 00:00:00</td>\n",
       "      <td>NaN</td>\n",
       "      <td>NaN</td>\n",
       "      <td>NaN</td>\n",
       "      <td>NaN</td>\n",
       "      <td>NaN</td>\n",
       "      <td>NaN</td>\n",
       "      <td>NaN</td>\n",
       "      <td>NaN</td>\n",
       "    </tr>\n",
       "    <tr>\n",
       "      <th>mean</th>\n",
       "      <td>NaN</td>\n",
       "      <td>NaN</td>\n",
       "      <td>NaN</td>\n",
       "      <td>NaN</td>\n",
       "      <td>46.239330</td>\n",
       "      <td>61.707300</td>\n",
       "      <td>7.392000</td>\n",
       "      <td>250.500000</td>\n",
       "      <td>2021.500000</td>\n",
       "      <td>3.780995e+05</td>\n",
       "      <td>99.915200</td>\n",
       "    </tr>\n",
       "    <tr>\n",
       "      <th>std</th>\n",
       "      <td>NaN</td>\n",
       "      <td>NaN</td>\n",
       "      <td>NaN</td>\n",
       "      <td>NaN</td>\n",
       "      <td>50.857349</td>\n",
       "      <td>66.719261</td>\n",
       "      <td>2.151418</td>\n",
       "      <td>144.373376</td>\n",
       "      <td>1.118314</td>\n",
       "      <td>4.222731e+05</td>\n",
       "      <td>0.361807</td>\n",
       "    </tr>\n",
       "    <tr>\n",
       "      <th>min</th>\n",
       "      <td>NaN</td>\n",
       "      <td>NaN</td>\n",
       "      <td>NaN</td>\n",
       "      <td>NaN</td>\n",
       "      <td>2.100000</td>\n",
       "      <td>14.800000</td>\n",
       "      <td>0.800000</td>\n",
       "      <td>1.000000</td>\n",
       "      <td>2020.000000</td>\n",
       "      <td>4.900000e+01</td>\n",
       "      <td>93.500000</td>\n",
       "    </tr>\n",
       "    <tr>\n",
       "      <th>25%</th>\n",
       "      <td>NaN</td>\n",
       "      <td>NaN</td>\n",
       "      <td>NaN</td>\n",
       "      <td>NaN</td>\n",
       "      <td>19.375000</td>\n",
       "      <td>29.900000</td>\n",
       "      <td>6.000000</td>\n",
       "      <td>125.750000</td>\n",
       "      <td>2020.750000</td>\n",
       "      <td>1.303068e+05</td>\n",
       "      <td>99.900000</td>\n",
       "    </tr>\n",
       "    <tr>\n",
       "      <th>50%</th>\n",
       "      <td>NaN</td>\n",
       "      <td>NaN</td>\n",
       "      <td>NaN</td>\n",
       "      <td>NaN</td>\n",
       "      <td>34.500000</td>\n",
       "      <td>45.000000</td>\n",
       "      <td>7.500000</td>\n",
       "      <td>250.500000</td>\n",
       "      <td>2021.500000</td>\n",
       "      <td>2.399835e+05</td>\n",
       "      <td>100.000000</td>\n",
       "    </tr>\n",
       "    <tr>\n",
       "      <th>75%</th>\n",
       "      <td>NaN</td>\n",
       "      <td>NaN</td>\n",
       "      <td>NaN</td>\n",
       "      <td>NaN</td>\n",
       "      <td>51.000000</td>\n",
       "      <td>64.000000</td>\n",
       "      <td>9.300000</td>\n",
       "      <td>375.250000</td>\n",
       "      <td>2022.250000</td>\n",
       "      <td>4.302940e+05</td>\n",
       "      <td>100.000000</td>\n",
       "    </tr>\n",
       "    <tr>\n",
       "      <th>max</th>\n",
       "      <td>NaN</td>\n",
       "      <td>NaN</td>\n",
       "      <td>NaN</td>\n",
       "      <td>NaN</td>\n",
       "      <td>598.500000</td>\n",
       "      <td>828.000000</td>\n",
       "      <td>10.000000</td>\n",
       "      <td>500.000000</td>\n",
       "      <td>2023.000000</td>\n",
       "      <td>3.427401e+06</td>\n",
       "      <td>100.000000</td>\n",
       "    </tr>\n",
       "  </tbody>\n",
       "</table>\n",
       "</div>"
      ],
      "text/plain": [
       "          书名    作者                 出版日期      出版社           原价          折扣价  \\\n",
       "count   2000  2000                 2000     2000  2000.000000  2000.000000   \n",
       "unique  1093   698                  361      176          NaN          NaN   \n",
       "top       围城  东野圭吾  2018-04-01 00:00:00  时代文艺出版社          NaN          NaN   \n",
       "freq       5    30                   49       90          NaN          NaN   \n",
       "first    NaN   NaN  1982-03-01 00:00:00      NaN          NaN          NaN   \n",
       "last     NaN   NaN  2023-12-01 00:00:00      NaN          NaN          NaN   \n",
       "mean     NaN   NaN                  NaN      NaN    46.239330    61.707300   \n",
       "std      NaN   NaN                  NaN      NaN    50.857349    66.719261   \n",
       "min      NaN   NaN                  NaN      NaN     2.100000    14.800000   \n",
       "25%      NaN   NaN                  NaN      NaN    19.375000    29.900000   \n",
       "50%      NaN   NaN                  NaN      NaN    34.500000    45.000000   \n",
       "75%      NaN   NaN                  NaN      NaN    51.000000    64.000000   \n",
       "max      NaN   NaN                  NaN      NaN   598.500000   828.000000   \n",
       "\n",
       "               折扣比例           排序        排行榜类型           评论数       推荐值(%)  \n",
       "count   2000.000000  2000.000000  2000.000000  2.000000e+03  2000.000000  \n",
       "unique          NaN          NaN          NaN           NaN          NaN  \n",
       "top             NaN          NaN          NaN           NaN          NaN  \n",
       "freq            NaN          NaN          NaN           NaN          NaN  \n",
       "first           NaN          NaN          NaN           NaN          NaN  \n",
       "last            NaN          NaN          NaN           NaN          NaN  \n",
       "mean       7.392000   250.500000  2021.500000  3.780995e+05    99.915200  \n",
       "std        2.151418   144.373376     1.118314  4.222731e+05     0.361807  \n",
       "min        0.800000     1.000000  2020.000000  4.900000e+01    93.500000  \n",
       "25%        6.000000   125.750000  2020.750000  1.303068e+05    99.900000  \n",
       "50%        7.500000   250.500000  2021.500000  2.399835e+05   100.000000  \n",
       "75%        9.300000   375.250000  2022.250000  4.302940e+05   100.000000  \n",
       "max       10.000000   500.000000  2023.000000  3.427401e+06   100.000000  "
      ]
     },
     "execution_count": 15,
     "metadata": {},
     "output_type": "execute_result"
    }
   ],
   "source": [
    "data.describe(include='all')"
   ]
  },
  {
   "cell_type": "code",
   "execution_count": 16,
   "metadata": {
    "id": "87075B8AFFEE4ED8AE3DBBF9D000AFAA",
    "jupyter": {},
    "notebookId": "6672aac654443711a5cb7d1d",
    "scrolled": false,
    "slideshow": {
     "slide_type": "slide"
    },
    "tags": []
   },
   "outputs": [
    {
     "data": {
      "text/html": [
       "<div>\n",
       "<style scoped>\n",
       "    .dataframe tbody tr th:only-of-type {\n",
       "        vertical-align: middle;\n",
       "    }\n",
       "\n",
       "    .dataframe tbody tr th {\n",
       "        vertical-align: top;\n",
       "    }\n",
       "\n",
       "    .dataframe thead th {\n",
       "        text-align: right;\n",
       "    }\n",
       "</style>\n",
       "<table border=\"1\" class=\"dataframe\">\n",
       "  <thead>\n",
       "    <tr style=\"text-align: right;\">\n",
       "      <th></th>\n",
       "      <th>书名</th>\n",
       "      <th>作者</th>\n",
       "      <th>出版日期</th>\n",
       "      <th>出版社</th>\n",
       "      <th>原价</th>\n",
       "      <th>折扣价</th>\n",
       "      <th>折扣比例</th>\n",
       "      <th>排序</th>\n",
       "      <th>排行榜类型</th>\n",
       "      <th>评论数</th>\n",
       "      <th>推荐值(%)</th>\n",
       "    </tr>\n",
       "  </thead>\n",
       "  <tbody>\n",
       "    <tr>\n",
       "      <th>53</th>\n",
       "      <td>围城</td>\n",
       "      <td>钱钟书</td>\n",
       "      <td>1991-02-01</td>\n",
       "      <td>人民文学出版社</td>\n",
       "      <td>28.3</td>\n",
       "      <td>39.0</td>\n",
       "      <td>7.3</td>\n",
       "      <td>54</td>\n",
       "      <td>2020</td>\n",
       "      <td>1218152</td>\n",
       "      <td>99.8</td>\n",
       "    </tr>\n",
       "    <tr>\n",
       "      <th>561</th>\n",
       "      <td>围城</td>\n",
       "      <td>钱钟书</td>\n",
       "      <td>1991-02-01</td>\n",
       "      <td>人民文学出版社</td>\n",
       "      <td>28.3</td>\n",
       "      <td>39.0</td>\n",
       "      <td>7.3</td>\n",
       "      <td>62</td>\n",
       "      <td>2021</td>\n",
       "      <td>1218152</td>\n",
       "      <td>99.8</td>\n",
       "    </tr>\n",
       "    <tr>\n",
       "      <th>1264</th>\n",
       "      <td>围城</td>\n",
       "      <td>钱钟书</td>\n",
       "      <td>2017-06-01</td>\n",
       "      <td>人民文学出版社</td>\n",
       "      <td>36.0</td>\n",
       "      <td>36.0</td>\n",
       "      <td>10.0</td>\n",
       "      <td>265</td>\n",
       "      <td>2022</td>\n",
       "      <td>332753</td>\n",
       "      <td>99.9</td>\n",
       "    </tr>\n",
       "    <tr>\n",
       "      <th>1288</th>\n",
       "      <td>围城</td>\n",
       "      <td>钱钟书</td>\n",
       "      <td>1991-02-01</td>\n",
       "      <td>人民文学出版社</td>\n",
       "      <td>28.3</td>\n",
       "      <td>39.0</td>\n",
       "      <td>7.3</td>\n",
       "      <td>289</td>\n",
       "      <td>2022</td>\n",
       "      <td>1218152</td>\n",
       "      <td>99.8</td>\n",
       "    </tr>\n",
       "    <tr>\n",
       "      <th>1647</th>\n",
       "      <td>围城</td>\n",
       "      <td>钱钟书</td>\n",
       "      <td>2017-06-01</td>\n",
       "      <td>人民文学出版社</td>\n",
       "      <td>36.0</td>\n",
       "      <td>36.0</td>\n",
       "      <td>10.0</td>\n",
       "      <td>148</td>\n",
       "      <td>2023</td>\n",
       "      <td>332753</td>\n",
       "      <td>99.9</td>\n",
       "    </tr>\n",
       "  </tbody>\n",
       "</table>\n",
       "</div>"
      ],
      "text/plain": [
       "      书名   作者       出版日期      出版社    原价   折扣价  折扣比例   排序  排行榜类型      评论数  \\\n",
       "53    围城  钱钟书 1991-02-01  人民文学出版社  28.3  39.0   7.3   54   2020  1218152   \n",
       "561   围城  钱钟书 1991-02-01  人民文学出版社  28.3  39.0   7.3   62   2021  1218152   \n",
       "1264  围城  钱钟书 2017-06-01  人民文学出版社  36.0  36.0  10.0  265   2022   332753   \n",
       "1288  围城  钱钟书 1991-02-01  人民文学出版社  28.3  39.0   7.3  289   2022  1218152   \n",
       "1647  围城  钱钟书 2017-06-01  人民文学出版社  36.0  36.0  10.0  148   2023   332753   \n",
       "\n",
       "      推荐值(%)  \n",
       "53      99.8  \n",
       "561     99.8  \n",
       "1264    99.9  \n",
       "1288    99.8  \n",
       "1647    99.9  "
      ]
     },
     "execution_count": 16,
     "metadata": {},
     "output_type": "execute_result"
    }
   ],
   "source": [
    "data[data['书名'] == '围城']"
   ]
  },
  {
   "cell_type": "markdown",
   "metadata": {
    "id": "A3158523F0E44C90AD9474D670C9B0C0",
    "jupyter": {},
    "notebookId": "6672aac654443711a5cb7d1d",
    "runtime": {
     "execution_status": null,
     "is_visible": false,
     "status": "default"
    },
    "scrolled": false,
    "slideshow": {
     "slide_type": "slide"
    },
    "tags": []
   },
   "source": [
    "因为出版日期不同，导致在22年，两个版本都上榜了，所以《围城》上榜了5次。"
   ]
  },
  {
   "cell_type": "markdown",
   "metadata": {
    "id": "C8425B020BD5415ABA481E5927498A66",
    "jupyter": {},
    "notebookId": "6672aac654443711a5cb7d1d",
    "runtime": {
     "execution_status": null,
     "is_visible": false,
     "status": "default"
    },
    "scrolled": false,
    "slideshow": {
     "slide_type": "slide"
    },
    "tags": []
   },
   "source": [
    "* **书名**：共有2000条记录，其中1094个不同的书名，出现最多的书名是“围城”，出现了5次。  \n",
    "* **作者**：共有698个不同的作者，最常见的作者是东野圭吾，有30本书。  \n",
    "* **出版日期**：数据集中最早的出版日期为1982年3月1日，最晚的为2023年12月1日。  \n",
    "* **出版社**：共有176个不同的出版社，最常见的出版社是时代文艺出版社，有90本书。  \n",
    "* **原价**：图书的原价范围从14.8到828元，平均值约为61.71元。  \n",
    "* **售价**：图书的售价范围从2.1到455.4元，平均值约为32.42元。  \n",
    "* **折扣比例**：折扣比例从0.8到9.9折，平均值约为5.26折。  \n",
    "* **评论数**：评论数从49到3427401，平均值约为377124.7条。  \n",
    "* **推荐值(%)**：推荐值的平均值为99.915%。"
   ]
  },
  {
   "cell_type": "markdown",
   "metadata": {
    "id": "43494AE50A3648E680C393B5C04A25AF",
    "jupyter": {},
    "notebookId": "6672aac654443711a5cb7d1d",
    "runtime": {
     "execution_status": null,
     "is_visible": false,
     "status": "default"
    },
    "scrolled": false,
    "slideshow": {
     "slide_type": "slide"
    },
    "tags": []
   },
   "source": [
    "# 6.基于书籍进行分析"
   ]
  },
  {
   "cell_type": "markdown",
   "metadata": {
    "id": "1C79918EE929403D89BE90B36749BAC2",
    "jupyter": {},
    "notebookId": "6672aac654443711a5cb7d1d",
    "runtime": {
     "execution_status": null,
     "is_visible": false,
     "status": "default"
    },
    "scrolled": false,
    "slideshow": {
     "slide_type": "slide"
    },
    "tags": []
   },
   "source": [
    "## 6.1构建新的数据"
   ]
  },
  {
   "cell_type": "markdown",
   "metadata": {
    "id": "7951DC4F73C6486DB6E173E44EA2868B",
    "jupyter": {},
    "notebookId": "6672aac654443711a5cb7d1d",
    "runtime": {
     "execution_status": null,
     "is_visible": false,
     "status": "default"
    },
    "scrolled": false,
    "slideshow": {
     "slide_type": "slide"
    },
    "tags": []
   },
   "source": [
    "**考虑到只要书名、作者以及出版日期、出版社一致，那么评论数、原价、折扣价、折扣比例、推荐值都是一样的，所以可以构建一个新的数据。**"
   ]
  },
  {
   "cell_type": "code",
   "execution_count": 17,
   "metadata": {
    "id": "EC75C8C8FCEC4FFBA077C6B1DDE1B6F0",
    "jupyter": {},
    "notebookId": "6672aac654443711a5cb7d1d",
    "slideshow": {
     "slide_type": "slide"
    },
    "tags": []
   },
   "outputs": [
    {
     "name": "stderr",
     "output_type": "stream",
     "text": [
      "D:\\0\\Anaconda3\\lib\\site-packages\\pandas\\core\\groupby.py:4291: FutureWarning: using a dict with renaming is deprecated and will be removed in a future version\n",
      "  return super(DataFrameGroupBy, self).aggregate(arg, *args, **kwargs)\n"
     ]
    },
    {
     "ename": "KeyError",
     "evalue": "'售价'",
     "output_type": "error",
     "traceback": [
      "\u001b[1;31m---------------------------------------------------------------------------\u001b[0m",
      "\u001b[1;31mKeyError\u001b[0m                                  Traceback (most recent call last)",
      "\u001b[1;32mD:\\0\\Anaconda3\\lib\\site-packages\\pandas\\core\\indexes\\base.py\u001b[0m in \u001b[0;36mget_loc\u001b[1;34m(self, key, method, tolerance)\u001b[0m\n\u001b[0;32m   2524\u001b[0m             \u001b[1;32mtry\u001b[0m\u001b[1;33m:\u001b[0m\u001b[1;33m\u001b[0m\u001b[0m\n\u001b[1;32m-> 2525\u001b[1;33m                 \u001b[1;32mreturn\u001b[0m \u001b[0mself\u001b[0m\u001b[1;33m.\u001b[0m\u001b[0m_engine\u001b[0m\u001b[1;33m.\u001b[0m\u001b[0mget_loc\u001b[0m\u001b[1;33m(\u001b[0m\u001b[0mkey\u001b[0m\u001b[1;33m)\u001b[0m\u001b[1;33m\u001b[0m\u001b[0m\n\u001b[0m\u001b[0;32m   2526\u001b[0m             \u001b[1;32mexcept\u001b[0m \u001b[0mKeyError\u001b[0m\u001b[1;33m:\u001b[0m\u001b[1;33m\u001b[0m\u001b[0m\n",
      "\u001b[1;32mpandas/_libs/index.pyx\u001b[0m in \u001b[0;36mpandas._libs.index.IndexEngine.get_loc\u001b[1;34m()\u001b[0m\n",
      "\u001b[1;32mpandas/_libs/index.pyx\u001b[0m in \u001b[0;36mpandas._libs.index.IndexEngine.get_loc\u001b[1;34m()\u001b[0m\n",
      "\u001b[1;32mpandas/_libs/hashtable_class_helper.pxi\u001b[0m in \u001b[0;36mpandas._libs.hashtable.PyObjectHashTable.get_item\u001b[1;34m()\u001b[0m\n",
      "\u001b[1;32mpandas/_libs/hashtable_class_helper.pxi\u001b[0m in \u001b[0;36mpandas._libs.hashtable.PyObjectHashTable.get_item\u001b[1;34m()\u001b[0m\n",
      "\u001b[1;31mKeyError\u001b[0m: '售价'",
      "\nDuring handling of the above exception, another exception occurred:\n",
      "\u001b[1;31mKeyError\u001b[0m                                  Traceback (most recent call last)",
      "\u001b[1;32m<ipython-input-17-dfe30912db8b>\u001b[0m in \u001b[0;36m<module>\u001b[1;34m()\u001b[0m\n\u001b[0;32m     31\u001b[0m     \u001b[1;34m'折扣比例'\u001b[0m\u001b[1;33m:\u001b[0m \u001b[1;34m'first'\u001b[0m\u001b[1;33m,\u001b[0m\u001b[1;33m\u001b[0m\u001b[0m\n\u001b[0;32m     32\u001b[0m     \u001b[1;34m'评论数'\u001b[0m\u001b[1;33m:\u001b[0m \u001b[1;34m'first'\u001b[0m\u001b[1;33m,\u001b[0m\u001b[1;33m\u001b[0m\u001b[0m\n\u001b[1;32m---> 33\u001b[1;33m     \u001b[1;34m'推荐值(%)'\u001b[0m\u001b[1;33m:\u001b[0m \u001b[1;34m'first'\u001b[0m\u001b[1;33m\u001b[0m\u001b[0m\n\u001b[0m\u001b[0;32m     34\u001b[0m }).reset_index()\n\u001b[0;32m     35\u001b[0m \u001b[0mbook_data\u001b[0m \u001b[1;33m=\u001b[0m \u001b[0mbook_data\u001b[0m\u001b[1;33m.\u001b[0m\u001b[0mmerge\u001b[0m\u001b[1;33m(\u001b[0m\u001b[0mgrouped_data\u001b[0m\u001b[1;33m,\u001b[0m \u001b[0mon\u001b[0m\u001b[1;33m=\u001b[0m\u001b[1;34m'书名'\u001b[0m\u001b[1;33m,\u001b[0m \u001b[0mhow\u001b[0m\u001b[1;33m=\u001b[0m\u001b[1;34m'left'\u001b[0m\u001b[1;33m)\u001b[0m\u001b[1;33m\u001b[0m\u001b[0m\n",
      "\u001b[1;32mD:\\0\\Anaconda3\\lib\\site-packages\\pandas\\core\\groupby.py\u001b[0m in \u001b[0;36maggregate\u001b[1;34m(self, arg, *args, **kwargs)\u001b[0m\n\u001b[0;32m   4289\u001b[0m         versionadded=''))\n\u001b[0;32m   4290\u001b[0m     \u001b[1;32mdef\u001b[0m \u001b[0maggregate\u001b[0m\u001b[1;33m(\u001b[0m\u001b[0mself\u001b[0m\u001b[1;33m,\u001b[0m \u001b[0marg\u001b[0m\u001b[1;33m,\u001b[0m \u001b[1;33m*\u001b[0m\u001b[0margs\u001b[0m\u001b[1;33m,\u001b[0m \u001b[1;33m**\u001b[0m\u001b[0mkwargs\u001b[0m\u001b[1;33m)\u001b[0m\u001b[1;33m:\u001b[0m\u001b[1;33m\u001b[0m\u001b[0m\n\u001b[1;32m-> 4291\u001b[1;33m         \u001b[1;32mreturn\u001b[0m \u001b[0msuper\u001b[0m\u001b[1;33m(\u001b[0m\u001b[0mDataFrameGroupBy\u001b[0m\u001b[1;33m,\u001b[0m \u001b[0mself\u001b[0m\u001b[1;33m)\u001b[0m\u001b[1;33m.\u001b[0m\u001b[0maggregate\u001b[0m\u001b[1;33m(\u001b[0m\u001b[0marg\u001b[0m\u001b[1;33m,\u001b[0m \u001b[1;33m*\u001b[0m\u001b[0margs\u001b[0m\u001b[1;33m,\u001b[0m \u001b[1;33m**\u001b[0m\u001b[0mkwargs\u001b[0m\u001b[1;33m)\u001b[0m\u001b[1;33m\u001b[0m\u001b[0m\n\u001b[0m\u001b[0;32m   4292\u001b[0m \u001b[1;33m\u001b[0m\u001b[0m\n\u001b[0;32m   4293\u001b[0m     \u001b[0magg\u001b[0m \u001b[1;33m=\u001b[0m \u001b[0maggregate\u001b[0m\u001b[1;33m\u001b[0m\u001b[0m\n",
      "\u001b[1;32mD:\\0\\Anaconda3\\lib\\site-packages\\pandas\\core\\groupby.py\u001b[0m in \u001b[0;36maggregate\u001b[1;34m(self, arg, *args, **kwargs)\u001b[0m\n\u001b[0;32m   3722\u001b[0m \u001b[1;33m\u001b[0m\u001b[0m\n\u001b[0;32m   3723\u001b[0m         \u001b[0m_level\u001b[0m \u001b[1;33m=\u001b[0m \u001b[0mkwargs\u001b[0m\u001b[1;33m.\u001b[0m\u001b[0mpop\u001b[0m\u001b[1;33m(\u001b[0m\u001b[1;34m'_level'\u001b[0m\u001b[1;33m,\u001b[0m \u001b[1;32mNone\u001b[0m\u001b[1;33m)\u001b[0m\u001b[1;33m\u001b[0m\u001b[0m\n\u001b[1;32m-> 3724\u001b[1;33m         \u001b[0mresult\u001b[0m\u001b[1;33m,\u001b[0m \u001b[0mhow\u001b[0m \u001b[1;33m=\u001b[0m \u001b[0mself\u001b[0m\u001b[1;33m.\u001b[0m\u001b[0m_aggregate\u001b[0m\u001b[1;33m(\u001b[0m\u001b[0marg\u001b[0m\u001b[1;33m,\u001b[0m \u001b[0m_level\u001b[0m\u001b[1;33m=\u001b[0m\u001b[0m_level\u001b[0m\u001b[1;33m,\u001b[0m \u001b[1;33m*\u001b[0m\u001b[0margs\u001b[0m\u001b[1;33m,\u001b[0m \u001b[1;33m**\u001b[0m\u001b[0mkwargs\u001b[0m\u001b[1;33m)\u001b[0m\u001b[1;33m\u001b[0m\u001b[0m\n\u001b[0m\u001b[0;32m   3725\u001b[0m         \u001b[1;32mif\u001b[0m \u001b[0mhow\u001b[0m \u001b[1;32mis\u001b[0m \u001b[1;32mNone\u001b[0m\u001b[1;33m:\u001b[0m\u001b[1;33m\u001b[0m\u001b[0m\n\u001b[0;32m   3726\u001b[0m             \u001b[1;32mreturn\u001b[0m \u001b[0mresult\u001b[0m\u001b[1;33m\u001b[0m\u001b[0m\n",
      "\u001b[1;32mD:\\0\\Anaconda3\\lib\\site-packages\\pandas\\core\\base.py\u001b[0m in \u001b[0;36m_aggregate\u001b[1;34m(self, arg, *args, **kwargs)\u001b[0m\n\u001b[0;32m    476\u001b[0m \u001b[1;33m\u001b[0m\u001b[0m\n\u001b[0;32m    477\u001b[0m                 \u001b[1;32mtry\u001b[0m\u001b[1;33m:\u001b[0m\u001b[1;33m\u001b[0m\u001b[0m\n\u001b[1;32m--> 478\u001b[1;33m                     \u001b[0mresult\u001b[0m \u001b[1;33m=\u001b[0m \u001b[0m_agg\u001b[0m\u001b[1;33m(\u001b[0m\u001b[0marg\u001b[0m\u001b[1;33m,\u001b[0m \u001b[0m_agg_1dim\u001b[0m\u001b[1;33m)\u001b[0m\u001b[1;33m\u001b[0m\u001b[0m\n\u001b[0m\u001b[0;32m    479\u001b[0m                 \u001b[1;32mexcept\u001b[0m \u001b[0mSpecificationError\u001b[0m\u001b[1;33m:\u001b[0m\u001b[1;33m\u001b[0m\u001b[0m\n\u001b[0;32m    480\u001b[0m \u001b[1;33m\u001b[0m\u001b[0m\n",
      "\u001b[1;32mD:\\0\\Anaconda3\\lib\\site-packages\\pandas\\core\\base.py\u001b[0m in \u001b[0;36m_agg\u001b[1;34m(arg, func)\u001b[0m\n\u001b[0;32m    427\u001b[0m                 \u001b[0mresult\u001b[0m \u001b[1;33m=\u001b[0m \u001b[0mcompat\u001b[0m\u001b[1;33m.\u001b[0m\u001b[0mOrderedDict\u001b[0m\u001b[1;33m(\u001b[0m\u001b[1;33m)\u001b[0m\u001b[1;33m\u001b[0m\u001b[0m\n\u001b[0;32m    428\u001b[0m                 \u001b[1;32mfor\u001b[0m \u001b[0mfname\u001b[0m\u001b[1;33m,\u001b[0m \u001b[0magg_how\u001b[0m \u001b[1;32min\u001b[0m \u001b[0mcompat\u001b[0m\u001b[1;33m.\u001b[0m\u001b[0miteritems\u001b[0m\u001b[1;33m(\u001b[0m\u001b[0marg\u001b[0m\u001b[1;33m)\u001b[0m\u001b[1;33m:\u001b[0m\u001b[1;33m\u001b[0m\u001b[0m\n\u001b[1;32m--> 429\u001b[1;33m                     \u001b[0mresult\u001b[0m\u001b[1;33m[\u001b[0m\u001b[0mfname\u001b[0m\u001b[1;33m]\u001b[0m \u001b[1;33m=\u001b[0m \u001b[0mfunc\u001b[0m\u001b[1;33m(\u001b[0m\u001b[0mfname\u001b[0m\u001b[1;33m,\u001b[0m \u001b[0magg_how\u001b[0m\u001b[1;33m)\u001b[0m\u001b[1;33m\u001b[0m\u001b[0m\n\u001b[0m\u001b[0;32m    430\u001b[0m                 \u001b[1;32mreturn\u001b[0m \u001b[0mresult\u001b[0m\u001b[1;33m\u001b[0m\u001b[0m\n\u001b[0;32m    431\u001b[0m \u001b[1;33m\u001b[0m\u001b[0m\n",
      "\u001b[1;32mD:\\0\\Anaconda3\\lib\\site-packages\\pandas\\core\\base.py\u001b[0m in \u001b[0;36m_agg_1dim\u001b[1;34m(name, how, subset)\u001b[0m\n\u001b[0;32m    406\u001b[0m                 \u001b[0maggregate\u001b[0m \u001b[0ma\u001b[0m \u001b[1;36m1\u001b[0m\u001b[1;33m-\u001b[0m\u001b[0mdim\u001b[0m \u001b[1;32mwith\u001b[0m \u001b[0mhow\u001b[0m\u001b[1;33m\u001b[0m\u001b[0m\n\u001b[0;32m    407\u001b[0m                 \"\"\"\n\u001b[1;32m--> 408\u001b[1;33m                 \u001b[0mcolg\u001b[0m \u001b[1;33m=\u001b[0m \u001b[0mself\u001b[0m\u001b[1;33m.\u001b[0m\u001b[0m_gotitem\u001b[0m\u001b[1;33m(\u001b[0m\u001b[0mname\u001b[0m\u001b[1;33m,\u001b[0m \u001b[0mndim\u001b[0m\u001b[1;33m=\u001b[0m\u001b[1;36m1\u001b[0m\u001b[1;33m,\u001b[0m \u001b[0msubset\u001b[0m\u001b[1;33m=\u001b[0m\u001b[0msubset\u001b[0m\u001b[1;33m)\u001b[0m\u001b[1;33m\u001b[0m\u001b[0m\n\u001b[0m\u001b[0;32m    409\u001b[0m                 \u001b[1;32mif\u001b[0m \u001b[0mcolg\u001b[0m\u001b[1;33m.\u001b[0m\u001b[0mndim\u001b[0m \u001b[1;33m!=\u001b[0m \u001b[1;36m1\u001b[0m\u001b[1;33m:\u001b[0m\u001b[1;33m\u001b[0m\u001b[0m\n\u001b[0;32m    410\u001b[0m                     raise SpecificationError(\"nested dictionary is ambiguous \"\n",
      "\u001b[1;32mD:\\0\\Anaconda3\\lib\\site-packages\\pandas\\core\\groupby.py\u001b[0m in \u001b[0;36m_gotitem\u001b[1;34m(self, key, ndim, subset)\u001b[0m\n\u001b[0;32m   4316\u001b[0m         \u001b[1;32melif\u001b[0m \u001b[0mndim\u001b[0m \u001b[1;33m==\u001b[0m \u001b[1;36m1\u001b[0m\u001b[1;33m:\u001b[0m\u001b[1;33m\u001b[0m\u001b[0m\n\u001b[0;32m   4317\u001b[0m             \u001b[1;32mif\u001b[0m \u001b[0msubset\u001b[0m \u001b[1;32mis\u001b[0m \u001b[1;32mNone\u001b[0m\u001b[1;33m:\u001b[0m\u001b[1;33m\u001b[0m\u001b[0m\n\u001b[1;32m-> 4318\u001b[1;33m                 \u001b[0msubset\u001b[0m \u001b[1;33m=\u001b[0m \u001b[0mself\u001b[0m\u001b[1;33m.\u001b[0m\u001b[0mobj\u001b[0m\u001b[1;33m[\u001b[0m\u001b[0mkey\u001b[0m\u001b[1;33m]\u001b[0m\u001b[1;33m\u001b[0m\u001b[0m\n\u001b[0m\u001b[0;32m   4319\u001b[0m             return SeriesGroupBy(subset, selection=key,\n\u001b[0;32m   4320\u001b[0m                                  grouper=self.grouper)\n",
      "\u001b[1;32mD:\\0\\Anaconda3\\lib\\site-packages\\pandas\\core\\frame.py\u001b[0m in \u001b[0;36m__getitem__\u001b[1;34m(self, key)\u001b[0m\n\u001b[0;32m   2137\u001b[0m             \u001b[1;32mreturn\u001b[0m \u001b[0mself\u001b[0m\u001b[1;33m.\u001b[0m\u001b[0m_getitem_multilevel\u001b[0m\u001b[1;33m(\u001b[0m\u001b[0mkey\u001b[0m\u001b[1;33m)\u001b[0m\u001b[1;33m\u001b[0m\u001b[0m\n\u001b[0;32m   2138\u001b[0m         \u001b[1;32melse\u001b[0m\u001b[1;33m:\u001b[0m\u001b[1;33m\u001b[0m\u001b[0m\n\u001b[1;32m-> 2139\u001b[1;33m             \u001b[1;32mreturn\u001b[0m \u001b[0mself\u001b[0m\u001b[1;33m.\u001b[0m\u001b[0m_getitem_column\u001b[0m\u001b[1;33m(\u001b[0m\u001b[0mkey\u001b[0m\u001b[1;33m)\u001b[0m\u001b[1;33m\u001b[0m\u001b[0m\n\u001b[0m\u001b[0;32m   2140\u001b[0m \u001b[1;33m\u001b[0m\u001b[0m\n\u001b[0;32m   2141\u001b[0m     \u001b[1;32mdef\u001b[0m \u001b[0m_getitem_column\u001b[0m\u001b[1;33m(\u001b[0m\u001b[0mself\u001b[0m\u001b[1;33m,\u001b[0m \u001b[0mkey\u001b[0m\u001b[1;33m)\u001b[0m\u001b[1;33m:\u001b[0m\u001b[1;33m\u001b[0m\u001b[0m\n",
      "\u001b[1;32mD:\\0\\Anaconda3\\lib\\site-packages\\pandas\\core\\frame.py\u001b[0m in \u001b[0;36m_getitem_column\u001b[1;34m(self, key)\u001b[0m\n\u001b[0;32m   2144\u001b[0m         \u001b[1;31m# get column\u001b[0m\u001b[1;33m\u001b[0m\u001b[1;33m\u001b[0m\u001b[0m\n\u001b[0;32m   2145\u001b[0m         \u001b[1;32mif\u001b[0m \u001b[0mself\u001b[0m\u001b[1;33m.\u001b[0m\u001b[0mcolumns\u001b[0m\u001b[1;33m.\u001b[0m\u001b[0mis_unique\u001b[0m\u001b[1;33m:\u001b[0m\u001b[1;33m\u001b[0m\u001b[0m\n\u001b[1;32m-> 2146\u001b[1;33m             \u001b[1;32mreturn\u001b[0m \u001b[0mself\u001b[0m\u001b[1;33m.\u001b[0m\u001b[0m_get_item_cache\u001b[0m\u001b[1;33m(\u001b[0m\u001b[0mkey\u001b[0m\u001b[1;33m)\u001b[0m\u001b[1;33m\u001b[0m\u001b[0m\n\u001b[0m\u001b[0;32m   2147\u001b[0m \u001b[1;33m\u001b[0m\u001b[0m\n\u001b[0;32m   2148\u001b[0m         \u001b[1;31m# duplicate columns & possible reduce dimensionality\u001b[0m\u001b[1;33m\u001b[0m\u001b[1;33m\u001b[0m\u001b[0m\n",
      "\u001b[1;32mD:\\0\\Anaconda3\\lib\\site-packages\\pandas\\core\\generic.py\u001b[0m in \u001b[0;36m_get_item_cache\u001b[1;34m(self, item)\u001b[0m\n\u001b[0;32m   1840\u001b[0m         \u001b[0mres\u001b[0m \u001b[1;33m=\u001b[0m \u001b[0mcache\u001b[0m\u001b[1;33m.\u001b[0m\u001b[0mget\u001b[0m\u001b[1;33m(\u001b[0m\u001b[0mitem\u001b[0m\u001b[1;33m)\u001b[0m\u001b[1;33m\u001b[0m\u001b[0m\n\u001b[0;32m   1841\u001b[0m         \u001b[1;32mif\u001b[0m \u001b[0mres\u001b[0m \u001b[1;32mis\u001b[0m \u001b[1;32mNone\u001b[0m\u001b[1;33m:\u001b[0m\u001b[1;33m\u001b[0m\u001b[0m\n\u001b[1;32m-> 1842\u001b[1;33m             \u001b[0mvalues\u001b[0m \u001b[1;33m=\u001b[0m \u001b[0mself\u001b[0m\u001b[1;33m.\u001b[0m\u001b[0m_data\u001b[0m\u001b[1;33m.\u001b[0m\u001b[0mget\u001b[0m\u001b[1;33m(\u001b[0m\u001b[0mitem\u001b[0m\u001b[1;33m)\u001b[0m\u001b[1;33m\u001b[0m\u001b[0m\n\u001b[0m\u001b[0;32m   1843\u001b[0m             \u001b[0mres\u001b[0m \u001b[1;33m=\u001b[0m \u001b[0mself\u001b[0m\u001b[1;33m.\u001b[0m\u001b[0m_box_item_values\u001b[0m\u001b[1;33m(\u001b[0m\u001b[0mitem\u001b[0m\u001b[1;33m,\u001b[0m \u001b[0mvalues\u001b[0m\u001b[1;33m)\u001b[0m\u001b[1;33m\u001b[0m\u001b[0m\n\u001b[0;32m   1844\u001b[0m             \u001b[0mcache\u001b[0m\u001b[1;33m[\u001b[0m\u001b[0mitem\u001b[0m\u001b[1;33m]\u001b[0m \u001b[1;33m=\u001b[0m \u001b[0mres\u001b[0m\u001b[1;33m\u001b[0m\u001b[0m\n",
      "\u001b[1;32mD:\\0\\Anaconda3\\lib\\site-packages\\pandas\\core\\internals.py\u001b[0m in \u001b[0;36mget\u001b[1;34m(self, item, fastpath)\u001b[0m\n\u001b[0;32m   3841\u001b[0m \u001b[1;33m\u001b[0m\u001b[0m\n\u001b[0;32m   3842\u001b[0m             \u001b[1;32mif\u001b[0m \u001b[1;32mnot\u001b[0m \u001b[0misna\u001b[0m\u001b[1;33m(\u001b[0m\u001b[0mitem\u001b[0m\u001b[1;33m)\u001b[0m\u001b[1;33m:\u001b[0m\u001b[1;33m\u001b[0m\u001b[0m\n\u001b[1;32m-> 3843\u001b[1;33m                 \u001b[0mloc\u001b[0m \u001b[1;33m=\u001b[0m \u001b[0mself\u001b[0m\u001b[1;33m.\u001b[0m\u001b[0mitems\u001b[0m\u001b[1;33m.\u001b[0m\u001b[0mget_loc\u001b[0m\u001b[1;33m(\u001b[0m\u001b[0mitem\u001b[0m\u001b[1;33m)\u001b[0m\u001b[1;33m\u001b[0m\u001b[0m\n\u001b[0m\u001b[0;32m   3844\u001b[0m             \u001b[1;32melse\u001b[0m\u001b[1;33m:\u001b[0m\u001b[1;33m\u001b[0m\u001b[0m\n\u001b[0;32m   3845\u001b[0m                 \u001b[0mindexer\u001b[0m \u001b[1;33m=\u001b[0m \u001b[0mnp\u001b[0m\u001b[1;33m.\u001b[0m\u001b[0marange\u001b[0m\u001b[1;33m(\u001b[0m\u001b[0mlen\u001b[0m\u001b[1;33m(\u001b[0m\u001b[0mself\u001b[0m\u001b[1;33m.\u001b[0m\u001b[0mitems\u001b[0m\u001b[1;33m)\u001b[0m\u001b[1;33m)\u001b[0m\u001b[1;33m[\u001b[0m\u001b[0misna\u001b[0m\u001b[1;33m(\u001b[0m\u001b[0mself\u001b[0m\u001b[1;33m.\u001b[0m\u001b[0mitems\u001b[0m\u001b[1;33m)\u001b[0m\u001b[1;33m]\u001b[0m\u001b[1;33m\u001b[0m\u001b[0m\n",
      "\u001b[1;32mD:\\0\\Anaconda3\\lib\\site-packages\\pandas\\core\\indexes\\base.py\u001b[0m in \u001b[0;36mget_loc\u001b[1;34m(self, key, method, tolerance)\u001b[0m\n\u001b[0;32m   2525\u001b[0m                 \u001b[1;32mreturn\u001b[0m \u001b[0mself\u001b[0m\u001b[1;33m.\u001b[0m\u001b[0m_engine\u001b[0m\u001b[1;33m.\u001b[0m\u001b[0mget_loc\u001b[0m\u001b[1;33m(\u001b[0m\u001b[0mkey\u001b[0m\u001b[1;33m)\u001b[0m\u001b[1;33m\u001b[0m\u001b[0m\n\u001b[0;32m   2526\u001b[0m             \u001b[1;32mexcept\u001b[0m \u001b[0mKeyError\u001b[0m\u001b[1;33m:\u001b[0m\u001b[1;33m\u001b[0m\u001b[0m\n\u001b[1;32m-> 2527\u001b[1;33m                 \u001b[1;32mreturn\u001b[0m \u001b[0mself\u001b[0m\u001b[1;33m.\u001b[0m\u001b[0m_engine\u001b[0m\u001b[1;33m.\u001b[0m\u001b[0mget_loc\u001b[0m\u001b[1;33m(\u001b[0m\u001b[0mself\u001b[0m\u001b[1;33m.\u001b[0m\u001b[0m_maybe_cast_indexer\u001b[0m\u001b[1;33m(\u001b[0m\u001b[0mkey\u001b[0m\u001b[1;33m)\u001b[0m\u001b[1;33m)\u001b[0m\u001b[1;33m\u001b[0m\u001b[0m\n\u001b[0m\u001b[0;32m   2528\u001b[0m \u001b[1;33m\u001b[0m\u001b[0m\n\u001b[0;32m   2529\u001b[0m         \u001b[0mindexer\u001b[0m \u001b[1;33m=\u001b[0m \u001b[0mself\u001b[0m\u001b[1;33m.\u001b[0m\u001b[0mget_indexer\u001b[0m\u001b[1;33m(\u001b[0m\u001b[1;33m[\u001b[0m\u001b[0mkey\u001b[0m\u001b[1;33m]\u001b[0m\u001b[1;33m,\u001b[0m \u001b[0mmethod\u001b[0m\u001b[1;33m=\u001b[0m\u001b[0mmethod\u001b[0m\u001b[1;33m,\u001b[0m \u001b[0mtolerance\u001b[0m\u001b[1;33m=\u001b[0m\u001b[0mtolerance\u001b[0m\u001b[1;33m)\u001b[0m\u001b[1;33m\u001b[0m\u001b[0m\n",
      "\u001b[1;32mpandas/_libs/index.pyx\u001b[0m in \u001b[0;36mpandas._libs.index.IndexEngine.get_loc\u001b[1;34m()\u001b[0m\n",
      "\u001b[1;32mpandas/_libs/index.pyx\u001b[0m in \u001b[0;36mpandas._libs.index.IndexEngine.get_loc\u001b[1;34m()\u001b[0m\n",
      "\u001b[1;32mpandas/_libs/hashtable_class_helper.pxi\u001b[0m in \u001b[0;36mpandas._libs.hashtable.PyObjectHashTable.get_item\u001b[1;34m()\u001b[0m\n",
      "\u001b[1;32mpandas/_libs/hashtable_class_helper.pxi\u001b[0m in \u001b[0;36mpandas._libs.hashtable.PyObjectHashTable.get_item\u001b[1;34m()\u001b[0m\n",
      "\u001b[1;31mKeyError\u001b[0m: '售价'"
     ]
    }
   ],
   "source": [
    "book_data = pd.DataFrame()\n",
    "\n",
    "# 获取所有唯一的书名、出版日期和作者\n",
    "unique_books = data[['书名', '出版日期', '作者','出版社']].drop_duplicates()\n",
    "\n",
    "# 初始化新数据框\n",
    "book_data['书名'] = unique_books['书名']\n",
    "book_data['出版日期'] = unique_books['出版日期']\n",
    "book_data['作者'] = unique_books['作者']\n",
    "book_data['出版社'] = unique_books['出版社']\n",
    "\n",
    "# 添加年份列，默认值为\"未上榜\"\n",
    "for year in [2020, 2021, 2022, 2023]:\n",
    "    book_data[str(year) + '排名'] = '未上榜'\n",
    "\n",
    "# 填充各年的排名\n",
    "for index, row in data.iterrows():\n",
    "    book_name = row['书名']\n",
    "    author = row['作者']\n",
    "    pub_date = row['出版日期']\n",
    "    pub_house = row['出版社']\n",
    "    year = row['排行榜类型']\n",
    "    rank = row['排序']\n",
    "    mask = (book_data['书名'] == book_name) & (book_data['出版日期'] == pub_date) & (book_data['作者'] == author) & (book_data['出版社'] == pub_house)\n",
    "    book_data.loc[mask, str(year) + '排名'] = rank\n",
    "\n",
    "# 使用 groupby 和 agg 整理数据\n",
    "grouped_data = data.groupby('书名').agg({\n",
    "    '原价': 'first',\n",
    "    '售价': 'first',\n",
    "    '折扣比例': 'first',\n",
    "    '评论数': 'first',\n",
    "    '推荐值(%)': 'first'\n",
    "}).reset_index()\n",
    "book_data = book_data.merge(grouped_data, on='书名', how='left')\n",
    "# 计算上榜次数\n",
    "book_data['上榜次数'] = book_data[['2020排名', '2021排名', '2022排名', '2023排名']].apply(lambda x: x[x != '未上榜'].count(), axis=1)\n",
    "book_data.head()"
   ]
  },
  {
   "cell_type": "markdown",
   "metadata": {
    "id": "E8EEBDDD12C844449328DC195BE35864",
    "jupyter": {},
    "notebookId": "6672aac654443711a5cb7d1d",
    "runtime": {
     "execution_status": null,
     "is_visible": false,
     "status": "default"
    },
    "scrolled": false,
    "slideshow": {
     "slide_type": "slide"
    },
    "tags": []
   },
   "source": [
    "## 6.2书籍上榜情况"
   ]
  },
  {
   "cell_type": "code",
   "execution_count": 18,
   "metadata": {
    "id": "F45C392A7D0D4FDFB64D7A33AAF153D7",
    "jupyter": {},
    "notebookId": "6672aac654443711a5cb7d1d",
    "scrolled": false,
    "slideshow": {
     "slide_type": "slide"
    },
    "tags": []
   },
   "outputs": [
    {
     "ename": "ValueError",
     "evalue": "Could not interpret input '上榜次数'",
     "output_type": "error",
     "traceback": [
      "\u001b[1;31m---------------------------------------------------------------------------\u001b[0m",
      "\u001b[1;31mValueError\u001b[0m                                Traceback (most recent call last)",
      "\u001b[1;32m<ipython-input-18-ec15dde659a8>\u001b[0m in \u001b[0;36m<module>\u001b[1;34m()\u001b[0m\n\u001b[0;32m      1\u001b[0m \u001b[1;31m# 绘制上榜次数分布图\u001b[0m\u001b[1;33m\u001b[0m\u001b[1;33m\u001b[0m\u001b[0m\n\u001b[0;32m      2\u001b[0m \u001b[0mplt\u001b[0m\u001b[1;33m.\u001b[0m\u001b[0mfigure\u001b[0m\u001b[1;33m(\u001b[0m\u001b[0mfigsize\u001b[0m\u001b[1;33m=\u001b[0m\u001b[1;33m(\u001b[0m\u001b[1;36m12\u001b[0m\u001b[1;33m,\u001b[0m \u001b[1;36m6\u001b[0m\u001b[1;33m)\u001b[0m\u001b[1;33m)\u001b[0m\u001b[1;33m\u001b[0m\u001b[0m\n\u001b[1;32m----> 3\u001b[1;33m \u001b[0msns\u001b[0m\u001b[1;33m.\u001b[0m\u001b[0mcountplot\u001b[0m\u001b[1;33m(\u001b[0m\u001b[0mx\u001b[0m\u001b[1;33m=\u001b[0m\u001b[1;34m'上榜次数'\u001b[0m\u001b[1;33m,\u001b[0m \u001b[0mdata\u001b[0m\u001b[1;33m=\u001b[0m\u001b[0mbook_data\u001b[0m\u001b[1;33m)\u001b[0m\u001b[1;33m\u001b[0m\u001b[0m\n\u001b[0m\u001b[0;32m      4\u001b[0m \u001b[0mplt\u001b[0m\u001b[1;33m.\u001b[0m\u001b[0mtitle\u001b[0m\u001b[1;33m(\u001b[0m\u001b[1;34m'上榜次数分布'\u001b[0m\u001b[1;33m)\u001b[0m\u001b[1;33m\u001b[0m\u001b[0m\n\u001b[0;32m      5\u001b[0m \u001b[0mplt\u001b[0m\u001b[1;33m.\u001b[0m\u001b[0mxlabel\u001b[0m\u001b[1;33m(\u001b[0m\u001b[1;34m'上榜次数'\u001b[0m\u001b[1;33m)\u001b[0m\u001b[1;33m\u001b[0m\u001b[0m\n",
      "\u001b[1;32mD:\\0\\Anaconda3\\lib\\site-packages\\seaborn\\categorical.py\u001b[0m in \u001b[0;36mcountplot\u001b[1;34m(x, y, hue, data, order, hue_order, orient, color, palette, saturation, dodge, ax, **kwargs)\u001b[0m\n\u001b[0;32m   3357\u001b[0m                           \u001b[0mestimator\u001b[0m\u001b[1;33m,\u001b[0m \u001b[0mci\u001b[0m\u001b[1;33m,\u001b[0m \u001b[0mn_boot\u001b[0m\u001b[1;33m,\u001b[0m \u001b[0munits\u001b[0m\u001b[1;33m,\u001b[0m\u001b[1;33m\u001b[0m\u001b[0m\n\u001b[0;32m   3358\u001b[0m                           \u001b[0morient\u001b[0m\u001b[1;33m,\u001b[0m \u001b[0mcolor\u001b[0m\u001b[1;33m,\u001b[0m \u001b[0mpalette\u001b[0m\u001b[1;33m,\u001b[0m \u001b[0msaturation\u001b[0m\u001b[1;33m,\u001b[0m\u001b[1;33m\u001b[0m\u001b[0m\n\u001b[1;32m-> 3359\u001b[1;33m                           errcolor, errwidth, capsize, dodge)\n\u001b[0m\u001b[0;32m   3360\u001b[0m \u001b[1;33m\u001b[0m\u001b[0m\n\u001b[0;32m   3361\u001b[0m     \u001b[0mplotter\u001b[0m\u001b[1;33m.\u001b[0m\u001b[0mvalue_label\u001b[0m \u001b[1;33m=\u001b[0m \u001b[1;34m\"count\"\u001b[0m\u001b[1;33m\u001b[0m\u001b[0m\n",
      "\u001b[1;32mD:\\0\\Anaconda3\\lib\\site-packages\\seaborn\\categorical.py\u001b[0m in \u001b[0;36m__init__\u001b[1;34m(self, x, y, hue, data, order, hue_order, estimator, ci, n_boot, units, orient, color, palette, saturation, errcolor, errwidth, capsize, dodge)\u001b[0m\n\u001b[0;32m   1594\u001b[0m         \u001b[1;34m\"\"\"Initialize the plotter.\"\"\"\u001b[0m\u001b[1;33m\u001b[0m\u001b[0m\n\u001b[0;32m   1595\u001b[0m         self.establish_variables(x, y, hue, data, orient,\n\u001b[1;32m-> 1596\u001b[1;33m                                  order, hue_order, units)\n\u001b[0m\u001b[0;32m   1597\u001b[0m         \u001b[0mself\u001b[0m\u001b[1;33m.\u001b[0m\u001b[0mestablish_colors\u001b[0m\u001b[1;33m(\u001b[0m\u001b[0mcolor\u001b[0m\u001b[1;33m,\u001b[0m \u001b[0mpalette\u001b[0m\u001b[1;33m,\u001b[0m \u001b[0msaturation\u001b[0m\u001b[1;33m)\u001b[0m\u001b[1;33m\u001b[0m\u001b[0m\n\u001b[0;32m   1598\u001b[0m         \u001b[0mself\u001b[0m\u001b[1;33m.\u001b[0m\u001b[0mestimate_statistic\u001b[0m\u001b[1;33m(\u001b[0m\u001b[0mestimator\u001b[0m\u001b[1;33m,\u001b[0m \u001b[0mci\u001b[0m\u001b[1;33m,\u001b[0m \u001b[0mn_boot\u001b[0m\u001b[1;33m)\u001b[0m\u001b[1;33m\u001b[0m\u001b[0m\n",
      "\u001b[1;32mD:\\0\\Anaconda3\\lib\\site-packages\\seaborn\\categorical.py\u001b[0m in \u001b[0;36mestablish_variables\u001b[1;34m(self, x, y, hue, data, orient, order, hue_order, units)\u001b[0m\n\u001b[0;32m    149\u001b[0m                 \u001b[1;32mif\u001b[0m \u001b[0misinstance\u001b[0m\u001b[1;33m(\u001b[0m\u001b[0minput\u001b[0m\u001b[1;33m,\u001b[0m \u001b[0mstring_types\u001b[0m\u001b[1;33m)\u001b[0m\u001b[1;33m:\u001b[0m\u001b[1;33m\u001b[0m\u001b[0m\n\u001b[0;32m    150\u001b[0m                     \u001b[0merr\u001b[0m \u001b[1;33m=\u001b[0m \u001b[1;34m\"Could not interpret input '{}'\"\u001b[0m\u001b[1;33m.\u001b[0m\u001b[0mformat\u001b[0m\u001b[1;33m(\u001b[0m\u001b[0minput\u001b[0m\u001b[1;33m)\u001b[0m\u001b[1;33m\u001b[0m\u001b[0m\n\u001b[1;32m--> 151\u001b[1;33m                     \u001b[1;32mraise\u001b[0m \u001b[0mValueError\u001b[0m\u001b[1;33m(\u001b[0m\u001b[0merr\u001b[0m\u001b[1;33m)\u001b[0m\u001b[1;33m\u001b[0m\u001b[0m\n\u001b[0m\u001b[0;32m    152\u001b[0m \u001b[1;33m\u001b[0m\u001b[0m\n\u001b[0;32m    153\u001b[0m             \u001b[1;31m# Figure out the plotting orientation\u001b[0m\u001b[1;33m\u001b[0m\u001b[1;33m\u001b[0m\u001b[0m\n",
      "\u001b[1;31mValueError\u001b[0m: Could not interpret input '上榜次数'"
     ]
    },
    {
     "data": {
      "text/plain": [
       "<matplotlib.figure.Figure at 0x228ef920a90>"
      ]
     },
     "metadata": {},
     "output_type": "display_data"
    }
   ],
   "source": [
    "# 绘制上榜次数分布图\n",
    "plt.figure(figsize=(12, 6))\n",
    "sns.countplot(x='上榜次数', data=book_data)\n",
    "plt.title('上榜次数分布')\n",
    "plt.xlabel('上榜次数')\n",
    "plt.ylabel('书籍数量')\n",
    "plt.show()"
   ]
  },
  {
   "cell_type": "markdown",
   "metadata": {
    "id": "4FBA28AE4E5F412D9AD96F1522702B8A",
    "jupyter": {},
    "notebookId": "6672aac654443711a5cb7d1d",
    "runtime": {
     "execution_status": null,
     "is_visible": false,
     "status": "default"
    },
    "scrolled": false,
    "slideshow": {
     "slide_type": "slide"
    },
    "tags": []
   },
   "source": [
    "大多数书籍（同一个出版社、同一个出版日期）只上榜过一次，可能是有些书籍出版时间在2020年以后，还有可能是存在同一书名，不同出版社、不同出版日期的情况，但是也足以证明，能够保持3次及以上上榜的书籍，都是非常不容易的。"
   ]
  },
  {
   "cell_type": "markdown",
   "metadata": {
    "id": "2964AF58BCA0444D8899008444114966",
    "jupyter": {},
    "notebookId": "6672aac654443711a5cb7d1d",
    "runtime": {
     "execution_status": null,
     "is_visible": false,
     "status": "default"
    },
    "scrolled": false,
    "slideshow": {
     "slide_type": "slide"
    },
    "tags": []
   },
   "source": [
    "## 6.3书籍价格分布"
   ]
  },
  {
   "cell_type": "code",
   "execution_count": 21,
   "metadata": {
    "id": "B84C16CDD07B47C38D907FC8D9C26E68",
    "jupyter": {},
    "notebookId": "6672aac654443711a5cb7d1d",
    "scrolled": false,
    "slideshow": {
     "slide_type": "slide"
    },
    "tags": []
   },
   "outputs": [
    {
     "ename": "AttributeError",
     "evalue": "module 'seaborn' has no attribute 'histplot'",
     "output_type": "error",
     "traceback": [
      "\u001b[1;31m---------------------------------------------------------------------------\u001b[0m",
      "\u001b[1;31mAttributeError\u001b[0m                            Traceback (most recent call last)",
      "\u001b[1;32m<ipython-input-21-eae82394d714>\u001b[0m in \u001b[0;36m<module>\u001b[1;34m()\u001b[0m\n\u001b[0;32m      3\u001b[0m \u001b[1;31m# 原价分布\u001b[0m\u001b[1;33m\u001b[0m\u001b[1;33m\u001b[0m\u001b[0m\n\u001b[0;32m      4\u001b[0m \u001b[0mplt\u001b[0m\u001b[1;33m.\u001b[0m\u001b[0msubplot\u001b[0m\u001b[1;33m(\u001b[0m\u001b[1;36m1\u001b[0m\u001b[1;33m,\u001b[0m \u001b[1;36m3\u001b[0m\u001b[1;33m,\u001b[0m \u001b[1;36m1\u001b[0m\u001b[1;33m)\u001b[0m\u001b[1;33m\u001b[0m\u001b[0m\n\u001b[1;32m----> 5\u001b[1;33m \u001b[0msns\u001b[0m\u001b[1;33m.\u001b[0m\u001b[0mhistplot\u001b[0m\u001b[1;33m(\u001b[0m\u001b[0mbook_data\u001b[0m\u001b[1;33m[\u001b[0m\u001b[1;34m'原价'\u001b[0m\u001b[1;33m]\u001b[0m\u001b[1;33m,\u001b[0m \u001b[0mbins\u001b[0m\u001b[1;33m=\u001b[0m\u001b[1;36m30\u001b[0m\u001b[1;33m,\u001b[0m \u001b[0mkde\u001b[0m\u001b[1;33m=\u001b[0m\u001b[1;32mTrue\u001b[0m\u001b[1;33m)\u001b[0m\u001b[1;33m\u001b[0m\u001b[0m\n\u001b[0m\u001b[0;32m      6\u001b[0m \u001b[0mplt\u001b[0m\u001b[1;33m.\u001b[0m\u001b[0mtitle\u001b[0m\u001b[1;33m(\u001b[0m\u001b[1;34m'原价分布'\u001b[0m\u001b[1;33m)\u001b[0m\u001b[1;33m\u001b[0m\u001b[0m\n\u001b[0;32m      7\u001b[0m \u001b[0mplt\u001b[0m\u001b[1;33m.\u001b[0m\u001b[0mxlabel\u001b[0m\u001b[1;33m(\u001b[0m\u001b[1;34m'原价（元）'\u001b[0m\u001b[1;33m)\u001b[0m\u001b[1;33m\u001b[0m\u001b[0m\n",
      "\u001b[1;31mAttributeError\u001b[0m: module 'seaborn' has no attribute 'histplot'"
     ]
    },
    {
     "data": {
      "image/png": "[encoded data removed]",
      "text/plain": [
       "<matplotlib.figure.Figure at 0x228f012e550>"
      ]
     },
     "metadata": {},
     "output_type": "display_data"
    }
   ],
   "source": [
    "plt.figure(figsize=(12, 6))\n",
    "\n",
    "# 原价分布\n",
    "plt.subplot(1, 3, 1)\n",
    "sns.histplot(book_data['原价'], bins=30, kde=True)\n",
    "plt.title('原价分布')\n",
    "plt.xlabel('原价（元）')\n",
    "plt.ylabel('频数')\n",
    "\n",
    "# 售价分布\n",
    "plt.subplot(1, 3, 2)\n",
    "sns.histplot(book_data['售价'], bins=30, kde=True)\n",
    "plt.title('售价分布')\n",
    "plt.xlabel('售价（元）')\n",
    "plt.ylabel('频数')\n",
    "\n",
    "# 折扣比例分布\n",
    "plt.subplot(1, 3, 3)\n",
    "sns.histplot(book_data['折扣比例'], bins=30, kde=True)\n",
    "plt.title('折扣比例分布')\n",
    "plt.xlabel('折扣比例')\n",
    "plt.ylabel('频数')\n",
    "\n",
    "plt.tight_layout()\n",
    "plt.show()\n"
   ]
  },
  {
   "cell_type": "markdown",
   "metadata": {
    "id": "D40BEC155129414C847F4DBD7E05CD45",
    "jupyter": {},
    "notebookId": "6672aac654443711a5cb7d1d",
    "runtime": {
     "execution_status": null,
     "is_visible": false,
     "status": "default"
    },
    "scrolled": false,
    "slideshow": {
     "slide_type": "slide"
    },
    "tags": []
   },
   "source": [
    "1. **原价分布**：原价集中在20元到100元之间，有少数书籍的原价较高，超过200元。  \n",
    "2. **售价分布**：售价也主要集中在20元到100元之间，分布与原价类似，但整体偏低。  \n",
    "3. **折扣比例分布**：折扣比例集中在4折到6折之间，少数书籍的折扣比例较低（折扣高）。"
   ]
  },
  {
   "cell_type": "markdown",
   "metadata": {
    "id": "03526EF53E9040199A3BD469FF0EDC22",
    "jupyter": {},
    "notebookId": "6672aac654443711a5cb7d1d",
    "runtime": {
     "execution_status": null,
     "is_visible": false,
     "status": "default"
    },
    "scrolled": false,
    "slideshow": {
     "slide_type": "slide"
    },
    "tags": []
   },
   "source": [
    "## 6.4书籍评论数与推荐值关系"
   ]
  },
  {
   "cell_type": "code",
   "execution_count": 1,
   "metadata": {
    "id": "56A4E0E26410494284F3CDA6B4200509",
    "jupyter": {},
    "notebookId": "6672aac654443711a5cb7d1d",
    "scrolled": false,
    "slideshow": {
     "slide_type": "slide"
    },
    "tags": []
   },
   "outputs": [
    {
     "ename": "NameError",
     "evalue": "name 'plt' is not defined",
     "output_type": "error",
     "traceback": [
      "\u001b[1;31m---------------------------------------------------------------------------\u001b[0m",
      "\u001b[1;31mNameError\u001b[0m                                 Traceback (most recent call last)",
      "\u001b[1;32m<ipython-input-1-feaf9acbcfb4>\u001b[0m in \u001b[0;36m<module>\u001b[1;34m()\u001b[0m\n\u001b[0;32m      1\u001b[0m \u001b[1;31m# 绘制评论数与推荐值的散点图，并添加趋势线\u001b[0m\u001b[1;33m\u001b[0m\u001b[1;33m\u001b[0m\u001b[0m\n\u001b[1;32m----> 2\u001b[1;33m \u001b[0mplt\u001b[0m\u001b[1;33m.\u001b[0m\u001b[0mfigure\u001b[0m\u001b[1;33m(\u001b[0m\u001b[0mfigsize\u001b[0m\u001b[1;33m=\u001b[0m\u001b[1;33m(\u001b[0m\u001b[1;36m12\u001b[0m\u001b[1;33m,\u001b[0m \u001b[1;36m6\u001b[0m\u001b[1;33m)\u001b[0m\u001b[1;33m)\u001b[0m\u001b[1;33m\u001b[0m\u001b[0m\n\u001b[0m\u001b[0;32m      3\u001b[0m \u001b[1;33m\u001b[0m\u001b[0m\n\u001b[0;32m      4\u001b[0m \u001b[1;31m# 散点图\u001b[0m\u001b[1;33m\u001b[0m\u001b[1;33m\u001b[0m\u001b[0m\n\u001b[0;32m      5\u001b[0m \u001b[0msns\u001b[0m\u001b[1;33m.\u001b[0m\u001b[0mscatterplot\u001b[0m\u001b[1;33m(\u001b[0m\u001b[0mx\u001b[0m\u001b[1;33m=\u001b[0m\u001b[1;34m'评论数'\u001b[0m\u001b[1;33m,\u001b[0m \u001b[0my\u001b[0m\u001b[1;33m=\u001b[0m\u001b[1;34m'推荐值(%)'\u001b[0m\u001b[1;33m,\u001b[0m \u001b[0mdata\u001b[0m\u001b[1;33m=\u001b[0m\u001b[0mbook_data\u001b[0m\u001b[1;33m)\u001b[0m\u001b[1;33m\u001b[0m\u001b[0m\n",
      "\u001b[1;31mNameError\u001b[0m: name 'plt' is not defined"
     ]
    }
   ],
   "source": [
    "# 绘制评论数与推荐值的散点图，并添加趋势线\n",
    "plt.figure(figsize=(12, 6))\n",
    "\n",
    "# 散点图\n",
    "sns.scatterplot(x='评论数', y='推荐值(%)', data=book_data)\n",
    "\n",
    "# 添加趋势线\n",
    "sns.regplot(x='评论数', y='推荐值(%)', data=book_data, scatter=False, color='red')\n",
    "\n",
    "plt.title('评论数与推荐值的关系')\n",
    "plt.xlabel('评论数')\n",
    "plt.ylabel('推荐值(%)')\n",
    "plt.xscale('log')  # 使用对数坐标以便更好地显示数据\n",
    "plt.show()"
   ]
  },
  {
   "cell_type": "markdown",
   "metadata": {
    "id": "F075AD97AC9D4669949EE23032589303",
    "jupyter": {},
    "notebookId": "6672aac654443711a5cb7d1d",
    "runtime": {
     "execution_status": null,
     "is_visible": false,
     "status": "default"
    },
    "scrolled": false,
    "slideshow": {
     "slide_type": "slide"
    },
    "tags": []
   },
   "source": [
    "从图中可以看出，评论数与推荐值整体关系并不是很明显,甚至当评论增多，推荐值有呈下降的趋势。"
   ]
  },
  {
   "cell_type": "markdown",
   "metadata": {
    "id": "EFC728972E3E45C2912A3A683008A593",
    "jupyter": {},
    "notebookId": "6672aac654443711a5cb7d1d",
    "runtime": {
     "execution_status": null,
     "is_visible": false,
     "status": "default"
    },
    "scrolled": false,
    "slideshow": {
     "slide_type": "slide"
    },
    "tags": []
   },
   "source": [
    "## 6.5各年排行前十的书籍"
   ]
  },
  {
   "cell_type": "code",
   "execution_count": 37,
   "metadata": {
    "id": "502B7BCAD950498CBBA4B8938B3134CF",
    "jupyter": {},
    "notebookId": "6672aac654443711a5cb7d1d",
    "scrolled": false,
    "slideshow": {
     "slide_type": "slide"
    },
    "tags": []
   },
   "outputs": [
    {
     "ename": "OptionError",
     "evalue": "\"No such keys(s): 'future.no_silent_downcasting'\"",
     "output_type": "error",
     "traceback": [
      "\u001b[1;31m---------------------------------------------------------------------------\u001b[0m",
      "\u001b[1;31mOptionError\u001b[0m                               Traceback (most recent call last)",
      "\u001b[1;32m<ipython-input-37-a06f058b50dc>\u001b[0m in \u001b[0;36m<module>\u001b[1;34m()\u001b[0m\n\u001b[1;32m----> 1\u001b[1;33m \u001b[0mpd\u001b[0m\u001b[1;33m.\u001b[0m\u001b[0mset_option\u001b[0m\u001b[1;33m(\u001b[0m\u001b[1;34m'future.no_silent_downcasting'\u001b[0m\u001b[1;33m,\u001b[0m \u001b[1;32mTrue\u001b[0m\u001b[1;33m)\u001b[0m\u001b[1;33m\u001b[0m\u001b[0m\n\u001b[0m\u001b[0;32m      2\u001b[0m \u001b[1;31m# 确保排名列为数值类型\u001b[0m\u001b[1;33m\u001b[0m\u001b[1;33m\u001b[0m\u001b[0m\n\u001b[0;32m      3\u001b[0m \u001b[1;32mfor\u001b[0m \u001b[0myear\u001b[0m \u001b[1;32min\u001b[0m \u001b[1;33m[\u001b[0m\u001b[1;36m2020\u001b[0m\u001b[1;33m,\u001b[0m \u001b[1;36m2021\u001b[0m\u001b[1;33m,\u001b[0m \u001b[1;36m2022\u001b[0m\u001b[1;33m,\u001b[0m \u001b[1;36m2023\u001b[0m\u001b[1;33m]\u001b[0m\u001b[1;33m:\u001b[0m\u001b[1;33m\u001b[0m\u001b[0m\n\u001b[0;32m      4\u001b[0m     \u001b[0mbook_data\u001b[0m\u001b[1;33m[\u001b[0m\u001b[0myear\u001b[0m\u001b[1;33m]\u001b[0m \u001b[1;33m=\u001b[0m \u001b[0mpd\u001b[0m\u001b[1;33m.\u001b[0m\u001b[0mto_numeric\u001b[0m\u001b[1;33m(\u001b[0m\u001b[0mbook_data\u001b[0m\u001b[1;33m[\u001b[0m\u001b[0mstr\u001b[0m\u001b[1;33m(\u001b[0m\u001b[0myear\u001b[0m\u001b[1;33m)\u001b[0m \u001b[1;33m+\u001b[0m \u001b[1;34m'排名'\u001b[0m\u001b[1;33m]\u001b[0m\u001b[1;33m.\u001b[0m\u001b[0mreplace\u001b[0m\u001b[1;33m(\u001b[0m\u001b[1;34m'未上榜'\u001b[0m\u001b[1;33m,\u001b[0m \u001b[1;36m500\u001b[0m\u001b[1;33m)\u001b[0m\u001b[1;33m,\u001b[0m \u001b[0merrors\u001b[0m\u001b[1;33m=\u001b[0m\u001b[1;34m'coerce'\u001b[0m\u001b[1;33m)\u001b[0m\u001b[1;33m\u001b[0m\u001b[0m\n\u001b[0;32m      5\u001b[0m \u001b[1;33m\u001b[0m\u001b[0m\n",
      "\u001b[1;32mD:\\0\\Anaconda3\\lib\\site-packages\\pandas\\core\\config.py\u001b[0m in \u001b[0;36m__call__\u001b[1;34m(self, *args, **kwds)\u001b[0m\n\u001b[0;32m    222\u001b[0m \u001b[1;33m\u001b[0m\u001b[0m\n\u001b[0;32m    223\u001b[0m     \u001b[1;32mdef\u001b[0m \u001b[0m__call__\u001b[0m\u001b[1;33m(\u001b[0m\u001b[0mself\u001b[0m\u001b[1;33m,\u001b[0m \u001b[1;33m*\u001b[0m\u001b[0margs\u001b[0m\u001b[1;33m,\u001b[0m \u001b[1;33m**\u001b[0m\u001b[0mkwds\u001b[0m\u001b[1;33m)\u001b[0m\u001b[1;33m:\u001b[0m\u001b[1;33m\u001b[0m\u001b[0m\n\u001b[1;32m--> 224\u001b[1;33m         \u001b[1;32mreturn\u001b[0m \u001b[0mself\u001b[0m\u001b[1;33m.\u001b[0m\u001b[0m__func__\u001b[0m\u001b[1;33m(\u001b[0m\u001b[1;33m*\u001b[0m\u001b[0margs\u001b[0m\u001b[1;33m,\u001b[0m \u001b[1;33m**\u001b[0m\u001b[0mkwds\u001b[0m\u001b[1;33m)\u001b[0m\u001b[1;33m\u001b[0m\u001b[0m\n\u001b[0m\u001b[0;32m    225\u001b[0m \u001b[1;33m\u001b[0m\u001b[0m\n\u001b[0;32m    226\u001b[0m     \u001b[1;33m@\u001b[0m\u001b[0mproperty\u001b[0m\u001b[1;33m\u001b[0m\u001b[0m\n",
      "\u001b[1;32mD:\\0\\Anaconda3\\lib\\site-packages\\pandas\\core\\config.py\u001b[0m in \u001b[0;36m_set_option\u001b[1;34m(*args, **kwargs)\u001b[0m\n\u001b[0;32m    117\u001b[0m \u001b[1;33m\u001b[0m\u001b[0m\n\u001b[0;32m    118\u001b[0m     \u001b[1;32mfor\u001b[0m \u001b[0mk\u001b[0m\u001b[1;33m,\u001b[0m \u001b[0mv\u001b[0m \u001b[1;32min\u001b[0m \u001b[0mzip\u001b[0m\u001b[1;33m(\u001b[0m\u001b[0margs\u001b[0m\u001b[1;33m[\u001b[0m\u001b[1;33m:\u001b[0m\u001b[1;33m:\u001b[0m\u001b[1;36m2\u001b[0m\u001b[1;33m]\u001b[0m\u001b[1;33m,\u001b[0m \u001b[0margs\u001b[0m\u001b[1;33m[\u001b[0m\u001b[1;36m1\u001b[0m\u001b[1;33m:\u001b[0m\u001b[1;33m:\u001b[0m\u001b[1;36m2\u001b[0m\u001b[1;33m]\u001b[0m\u001b[1;33m)\u001b[0m\u001b[1;33m:\u001b[0m\u001b[1;33m\u001b[0m\u001b[0m\n\u001b[1;32m--> 119\u001b[1;33m         \u001b[0mkey\u001b[0m \u001b[1;33m=\u001b[0m \u001b[0m_get_single_key\u001b[0m\u001b[1;33m(\u001b[0m\u001b[0mk\u001b[0m\u001b[1;33m,\u001b[0m \u001b[0msilent\u001b[0m\u001b[1;33m)\u001b[0m\u001b[1;33m\u001b[0m\u001b[0m\n\u001b[0m\u001b[0;32m    120\u001b[0m \u001b[1;33m\u001b[0m\u001b[0m\n\u001b[0;32m    121\u001b[0m         \u001b[0mo\u001b[0m \u001b[1;33m=\u001b[0m \u001b[0m_get_registered_option\u001b[0m\u001b[1;33m(\u001b[0m\u001b[0mkey\u001b[0m\u001b[1;33m)\u001b[0m\u001b[1;33m\u001b[0m\u001b[0m\n",
      "\u001b[1;32mD:\\0\\Anaconda3\\lib\\site-packages\\pandas\\core\\config.py\u001b[0m in \u001b[0;36m_get_single_key\u001b[1;34m(pat, silent)\u001b[0m\n\u001b[0;32m     81\u001b[0m         \u001b[1;32mif\u001b[0m \u001b[1;32mnot\u001b[0m \u001b[0msilent\u001b[0m\u001b[1;33m:\u001b[0m\u001b[1;33m\u001b[0m\u001b[0m\n\u001b[0;32m     82\u001b[0m             \u001b[0m_warn_if_deprecated\u001b[0m\u001b[1;33m(\u001b[0m\u001b[0mpat\u001b[0m\u001b[1;33m)\u001b[0m\u001b[1;33m\u001b[0m\u001b[0m\n\u001b[1;32m---> 83\u001b[1;33m         \u001b[1;32mraise\u001b[0m \u001b[0mOptionError\u001b[0m\u001b[1;33m(\u001b[0m\u001b[1;34m'No such keys(s): {pat!r}'\u001b[0m\u001b[1;33m.\u001b[0m\u001b[0mformat\u001b[0m\u001b[1;33m(\u001b[0m\u001b[0mpat\u001b[0m\u001b[1;33m=\u001b[0m\u001b[0mpat\u001b[0m\u001b[1;33m)\u001b[0m\u001b[1;33m)\u001b[0m\u001b[1;33m\u001b[0m\u001b[0m\n\u001b[0m\u001b[0;32m     84\u001b[0m     \u001b[1;32mif\u001b[0m \u001b[0mlen\u001b[0m\u001b[1;33m(\u001b[0m\u001b[0mkeys\u001b[0m\u001b[1;33m)\u001b[0m \u001b[1;33m>\u001b[0m \u001b[1;36m1\u001b[0m\u001b[1;33m:\u001b[0m\u001b[1;33m\u001b[0m\u001b[0m\n\u001b[0;32m     85\u001b[0m         \u001b[1;32mraise\u001b[0m \u001b[0mOptionError\u001b[0m\u001b[1;33m(\u001b[0m\u001b[1;34m'Pattern matched multiple keys'\u001b[0m\u001b[1;33m)\u001b[0m\u001b[1;33m\u001b[0m\u001b[0m\n",
      "\u001b[1;31mOptionError\u001b[0m: \"No such keys(s): 'future.no_silent_downcasting'\""
     ]
    }
   ],
   "source": [
    "pd.set_option('future.no_silent_downcasting', True)\n",
    "# 确保排名列为数值类型\n",
    "for year in [2020, 2021, 2022, 2023]:\n",
    "    book_data[year] = pd.to_numeric(book_data[str(year) + '排名'].replace('未上榜', 500), errors='coerce')\n",
    "\n",
    "# 获取每年排名前十的书籍\n",
    "top_10_2020 = book_data.nsmallest(10, 2020)\n",
    "top_10_2021 = book_data.nsmallest(10, 2021)\n",
    "top_10_2022 = book_data.nsmallest(10, 2022)\n",
    "top_10_2023 = book_data.nsmallest(10, 2023)\n",
    "\n",
    "# 绘制每年排名前十的书籍\n",
    "plt.figure(figsize=(20,20))\n",
    "\n",
    "# 2020年\n",
    "plt.subplot(2, 2, 1)\n",
    "sns.barplot(x=2020, y='书名', data=top_10_2020)\n",
    "plt.title('2020年排行前十的书籍')\n",
    "plt.xlabel('排名')\n",
    "plt.ylabel('书名')\n",
    "\n",
    "# 2021年\n",
    "plt.subplot(2, 2, 2)\n",
    "sns.barplot(x=2021, y='书名', data=top_10_2021)\n",
    "plt.title('2021年排行前十的书籍')\n",
    "plt.xlabel('排名')\n",
    "plt.ylabel('书名')\n",
    "\n",
    "# 2022年\n",
    "plt.subplot(2, 2, 3)\n",
    "sns.barplot(x=2022, y='书名', data=top_10_2022)\n",
    "plt.title('2022年排行前十的书籍')\n",
    "plt.xlabel('排名')\n",
    "plt.ylabel('书名')\n",
    "\n",
    "# 2023年\n",
    "plt.subplot(2, 2, 4)\n",
    "sns.barplot(x=2023, y='书名', data=top_10_2023)\n",
    "plt.title('2023年排行前十的书籍')\n",
    "plt.xlabel('排名')\n",
    "plt.ylabel('书名')\n",
    "\n",
    "plt.tight_layout()\n",
    "plt.show()"
   ]
  },
  {
   "cell_type": "markdown",
   "metadata": {
    "id": "3817B4209B4D4C89A1EF05569BBB0377",
    "jupyter": {},
    "notebookId": "6672aac654443711a5cb7d1d",
    "runtime": {
     "execution_status": null,
     "is_visible": false,
     "status": "default"
    },
    "scrolled": false,
    "slideshow": {
     "slide_type": "slide"
    },
    "tags": []
   },
   "source": [
    "## 6.6热门书籍推荐"
   ]
  },
  {
   "cell_type": "markdown",
   "metadata": {
    "id": "130BD2933B45455DBC378D8FDCE15FA2",
    "jupyter": {},
    "notebookId": "6672aac654443711a5cb7d1d",
    "runtime": {
     "execution_status": null,
     "is_visible": false,
     "status": "default"
    },
    "scrolled": false,
    "slideshow": {
     "slide_type": "slide"
    },
    "tags": []
   },
   "source": [
    "这里新增特征列“热力值”，当然这个评分标准，有较强的主观性，各位读者可以自行制定评分标准：  \n",
    "热力值 = 基础分（50）+ 上榜次数 * 5 + 归一化（四年平均排名（未上榜视为500名））[-20 —— +20] + 归一化（评论数）[-5 —— +5] + 归一化（推荐值）[-5 —— +5]  \n"
   ]
  },
  {
   "cell_type": "code",
   "execution_count": 38,
   "metadata": {
    "id": "6CFC4E560A8243F5B7BC25BFB646FF26",
    "jupyter": {},
    "notebookId": "6672aac654443711a5cb7d1d",
    "scrolled": false,
    "slideshow": {
     "slide_type": "slide"
    },
    "tags": []
   },
   "outputs": [
    {
     "ename": "KeyError",
     "evalue": "\"['评论数'] not in index\"",
     "output_type": "error",
     "traceback": [
      "\u001b[1;31m---------------------------------------------------------------------------\u001b[0m",
      "\u001b[1;31mKeyError\u001b[0m                                  Traceback (most recent call last)",
      "\u001b[1;32m<ipython-input-38-2a07f159778a>\u001b[0m in \u001b[0;36m<module>\u001b[1;34m()\u001b[0m\n\u001b[0;32m     15\u001b[0m \u001b[1;33m\u001b[0m\u001b[0m\n\u001b[0;32m     16\u001b[0m \u001b[1;31m# 归一化评论数\u001b[0m\u001b[1;33m\u001b[0m\u001b[1;33m\u001b[0m\u001b[0m\n\u001b[1;32m---> 17\u001b[1;33m \u001b[0mcomment_norm\u001b[0m \u001b[1;33m=\u001b[0m \u001b[0mscaler\u001b[0m\u001b[1;33m.\u001b[0m\u001b[0mfit_transform\u001b[0m\u001b[1;33m(\u001b[0m\u001b[0mbook_data\u001b[0m\u001b[1;33m[\u001b[0m\u001b[1;33m[\u001b[0m\u001b[1;34m'评论数'\u001b[0m\u001b[1;33m]\u001b[0m\u001b[1;33m]\u001b[0m\u001b[1;33m)\u001b[0m\u001b[1;33m\u001b[0m\u001b[0m\n\u001b[0m\u001b[0;32m     18\u001b[0m \u001b[0mcomment_norm\u001b[0m \u001b[1;33m=\u001b[0m \u001b[0mpd\u001b[0m\u001b[1;33m.\u001b[0m\u001b[0mSeries\u001b[0m\u001b[1;33m(\u001b[0m\u001b[0mcomment_norm\u001b[0m\u001b[1;33m.\u001b[0m\u001b[0mflatten\u001b[0m\u001b[1;33m(\u001b[0m\u001b[1;33m)\u001b[0m\u001b[1;33m,\u001b[0m \u001b[0mindex\u001b[0m\u001b[1;33m=\u001b[0m\u001b[0mbook_data\u001b[0m\u001b[1;33m.\u001b[0m\u001b[0mindex\u001b[0m\u001b[1;33m)\u001b[0m\u001b[1;33m\u001b[0m\u001b[0m\n\u001b[0;32m     19\u001b[0m \u001b[1;33m\u001b[0m\u001b[0m\n",
      "\u001b[1;32mD:\\0\\Anaconda3\\lib\\site-packages\\pandas\\core\\frame.py\u001b[0m in \u001b[0;36m__getitem__\u001b[1;34m(self, key)\u001b[0m\n\u001b[0;32m   2131\u001b[0m         \u001b[1;32mif\u001b[0m \u001b[0misinstance\u001b[0m\u001b[1;33m(\u001b[0m\u001b[0mkey\u001b[0m\u001b[1;33m,\u001b[0m \u001b[1;33m(\u001b[0m\u001b[0mSeries\u001b[0m\u001b[1;33m,\u001b[0m \u001b[0mnp\u001b[0m\u001b[1;33m.\u001b[0m\u001b[0mndarray\u001b[0m\u001b[1;33m,\u001b[0m \u001b[0mIndex\u001b[0m\u001b[1;33m,\u001b[0m \u001b[0mlist\u001b[0m\u001b[1;33m)\u001b[0m\u001b[1;33m)\u001b[0m\u001b[1;33m:\u001b[0m\u001b[1;33m\u001b[0m\u001b[0m\n\u001b[0;32m   2132\u001b[0m             \u001b[1;31m# either boolean or fancy integer index\u001b[0m\u001b[1;33m\u001b[0m\u001b[1;33m\u001b[0m\u001b[0m\n\u001b[1;32m-> 2133\u001b[1;33m             \u001b[1;32mreturn\u001b[0m \u001b[0mself\u001b[0m\u001b[1;33m.\u001b[0m\u001b[0m_getitem_array\u001b[0m\u001b[1;33m(\u001b[0m\u001b[0mkey\u001b[0m\u001b[1;33m)\u001b[0m\u001b[1;33m\u001b[0m\u001b[0m\n\u001b[0m\u001b[0;32m   2134\u001b[0m         \u001b[1;32melif\u001b[0m \u001b[0misinstance\u001b[0m\u001b[1;33m(\u001b[0m\u001b[0mkey\u001b[0m\u001b[1;33m,\u001b[0m \u001b[0mDataFrame\u001b[0m\u001b[1;33m)\u001b[0m\u001b[1;33m:\u001b[0m\u001b[1;33m\u001b[0m\u001b[0m\n\u001b[0;32m   2135\u001b[0m             \u001b[1;32mreturn\u001b[0m \u001b[0mself\u001b[0m\u001b[1;33m.\u001b[0m\u001b[0m_getitem_frame\u001b[0m\u001b[1;33m(\u001b[0m\u001b[0mkey\u001b[0m\u001b[1;33m)\u001b[0m\u001b[1;33m\u001b[0m\u001b[0m\n",
      "\u001b[1;32mD:\\0\\Anaconda3\\lib\\site-packages\\pandas\\core\\frame.py\u001b[0m in \u001b[0;36m_getitem_array\u001b[1;34m(self, key)\u001b[0m\n\u001b[0;32m   2175\u001b[0m             \u001b[1;32mreturn\u001b[0m \u001b[0mself\u001b[0m\u001b[1;33m.\u001b[0m\u001b[0m_take\u001b[0m\u001b[1;33m(\u001b[0m\u001b[0mindexer\u001b[0m\u001b[1;33m,\u001b[0m \u001b[0maxis\u001b[0m\u001b[1;33m=\u001b[0m\u001b[1;36m0\u001b[0m\u001b[1;33m,\u001b[0m \u001b[0mconvert\u001b[0m\u001b[1;33m=\u001b[0m\u001b[1;32mFalse\u001b[0m\u001b[1;33m)\u001b[0m\u001b[1;33m\u001b[0m\u001b[0m\n\u001b[0;32m   2176\u001b[0m         \u001b[1;32melse\u001b[0m\u001b[1;33m:\u001b[0m\u001b[1;33m\u001b[0m\u001b[0m\n\u001b[1;32m-> 2177\u001b[1;33m             \u001b[0mindexer\u001b[0m \u001b[1;33m=\u001b[0m \u001b[0mself\u001b[0m\u001b[1;33m.\u001b[0m\u001b[0mloc\u001b[0m\u001b[1;33m.\u001b[0m\u001b[0m_convert_to_indexer\u001b[0m\u001b[1;33m(\u001b[0m\u001b[0mkey\u001b[0m\u001b[1;33m,\u001b[0m \u001b[0maxis\u001b[0m\u001b[1;33m=\u001b[0m\u001b[1;36m1\u001b[0m\u001b[1;33m)\u001b[0m\u001b[1;33m\u001b[0m\u001b[0m\n\u001b[0m\u001b[0;32m   2178\u001b[0m             \u001b[1;32mreturn\u001b[0m \u001b[0mself\u001b[0m\u001b[1;33m.\u001b[0m\u001b[0m_take\u001b[0m\u001b[1;33m(\u001b[0m\u001b[0mindexer\u001b[0m\u001b[1;33m,\u001b[0m \u001b[0maxis\u001b[0m\u001b[1;33m=\u001b[0m\u001b[1;36m1\u001b[0m\u001b[1;33m,\u001b[0m \u001b[0mconvert\u001b[0m\u001b[1;33m=\u001b[0m\u001b[1;32mTrue\u001b[0m\u001b[1;33m)\u001b[0m\u001b[1;33m\u001b[0m\u001b[0m\n\u001b[0;32m   2179\u001b[0m \u001b[1;33m\u001b[0m\u001b[0m\n",
      "\u001b[1;32mD:\\0\\Anaconda3\\lib\\site-packages\\pandas\\core\\indexing.py\u001b[0m in \u001b[0;36m_convert_to_indexer\u001b[1;34m(self, obj, axis, is_setter)\u001b[0m\n\u001b[0;32m   1267\u001b[0m                 \u001b[1;32mif\u001b[0m \u001b[0mmask\u001b[0m\u001b[1;33m.\u001b[0m\u001b[0many\u001b[0m\u001b[1;33m(\u001b[0m\u001b[1;33m)\u001b[0m\u001b[1;33m:\u001b[0m\u001b[1;33m\u001b[0m\u001b[0m\n\u001b[0;32m   1268\u001b[0m                     raise KeyError('{mask} not in index'\n\u001b[1;32m-> 1269\u001b[1;33m                                    .format(mask=objarr[mask]))\n\u001b[0m\u001b[0;32m   1270\u001b[0m \u001b[1;33m\u001b[0m\u001b[0m\n\u001b[0;32m   1271\u001b[0m                 \u001b[1;32mreturn\u001b[0m \u001b[0m_values_from_object\u001b[0m\u001b[1;33m(\u001b[0m\u001b[0mindexer\u001b[0m\u001b[1;33m)\u001b[0m\u001b[1;33m\u001b[0m\u001b[0m\n",
      "\u001b[1;31mKeyError\u001b[0m: \"['评论数'] not in index\""
     ]
    }
   ],
   "source": [
    "# 处理排名数据，将未上榜视为500名\n",
    "for year in [2020, 2021, 2022, 2023]:\n",
    "    book_data[year] = book_data[str(year) + '排名'].replace('未上榜', 500)\n",
    "    book_data[year] = pd.to_numeric(book_data[year], errors='coerce')\n",
    "\n",
    "# 计算四年的平均排名\n",
    "book_data['平均排名'] = book_data[[2020, 2021, 2022, 2023]].mean(axis=1)\n",
    "\n",
    "# 归一化处理\n",
    "scaler = MinMaxScaler()\n",
    "\n",
    "# 归一化平均排名，500分为1，0分为0，确保排名越小越好\n",
    "avg_rank_norm = scaler.fit_transform(book_data[['平均排名']])\n",
    "avg_rank_norm = pd.Series(avg_rank_norm.flatten(), index=book_data.index)\n",
    "\n",
    "# 归一化评论数\n",
    "comment_norm = scaler.fit_transform(book_data[['评论数']])\n",
    "comment_norm = pd.Series(comment_norm.flatten(), index=book_data.index)\n",
    "\n",
    "# 归一化推荐值\n",
    "recommend_norm = scaler.fit_transform(book_data[['推荐值(%)']])\n",
    "recommend_norm = pd.Series(recommend_norm.flatten(), index=book_data.index)\n",
    "\n",
    "# 计算热力值\n",
    "base_score = 50\n",
    "times_ranked_scores = book_data['上榜次数'] * 5\n",
    "avg_rank_scores = (1 - avg_rank_norm) * 40 - 20\n",
    "comment_scores = comment_norm * 10 - 5\n",
    "recommend_scores = recommend_norm * 10 - 5\n",
    "\n",
    "book_data['热力值'] = base_score + times_ranked_scores + avg_rank_scores + comment_scores + recommend_scores\n",
    "\n",
    "# 删除用来构建特征的列\n",
    "book_data.drop(columns=[2020, 2021, 2022, 2023], inplace=True)\n",
    "\n",
    "# 按热力值排序\n",
    "book_data = book_data.sort_values(by='热力值', ascending=False)"
   ]
  },
  {
   "cell_type": "code",
   "execution_count": null,
   "metadata": {
    "id": "D71AD7B3215A42839112A2D293987357",
    "jupyter": {},
    "notebookId": "6672aac654443711a5cb7d1d",
    "scrolled": false,
    "slideshow": {
     "slide_type": "slide"
    },
    "tags": []
   },
   "outputs": [],
   "source": [
    "book_data.head(10)"
   ]
  },
  {
   "cell_type": "code",
   "execution_count": null,
   "metadata": {
    "id": "E9C05D9E961D4762947D652435BBC555",
    "jupyter": {},
    "notebookId": "6672aac654443711a5cb7d1d",
    "scrolled": false,
    "slideshow": {
     "slide_type": "slide"
    },
    "tags": []
   },
   "outputs": [],
   "source": [
    "plt.figure(figsize=(12,6))\n",
    "plt.barh(book_data.head(10)[\"书名\"], book_data.head(10)[\"热力值\"], color='skyblue')\n",
    "plt.xlabel('热力值')\n",
    "plt.title('前十热门书籍')\n",
    "plt.gca().invert_yaxis()\n",
    "plt.tight_layout()\n",
    "plt.show()"
   ]
  },
  {
   "cell_type": "markdown",
   "metadata": {
    "id": "BA00F36D091D45D9BFAABE7B33E2A6F4",
    "jupyter": {},
    "notebookId": "6672aac654443711a5cb7d1d",
    "runtime": {
     "execution_status": null,
     "is_visible": false,
     "status": "default"
    },
    "scrolled": false,
    "slideshow": {
     "slide_type": "slide"
    },
    "tags": []
   },
   "source": [
    "这样就得到了，热力值前十的作品，可以看到，都是排名常年靠前的，可以通过这个指标，去购买或者和朋友推荐一些具有高热度的书籍，这些书籍往往不会踩坑。"
   ]
  },
  {
   "cell_type": "markdown",
   "metadata": {
    "id": "2865FF3596134941AA7F5A0B2AC91267",
    "jupyter": {},
    "notebookId": "6672aac654443711a5cb7d1d",
    "runtime": {
     "execution_status": null,
     "is_visible": false,
     "status": "default"
    },
    "scrolled": false,
    "slideshow": {
     "slide_type": "slide"
    },
    "tags": []
   },
   "source": [
    "## 6.7相关性检验"
   ]
  },
  {
   "cell_type": "code",
   "execution_count": 39,
   "metadata": {
    "id": "ECC87049EB0B40419DA0DE2B423A516E",
    "jupyter": {},
    "notebookId": "6672aac654443711a5cb7d1d",
    "scrolled": false,
    "slideshow": {
     "slide_type": "slide"
    },
    "tags": []
   },
   "outputs": [
    {
     "ename": "KeyError",
     "evalue": "\"['上榜次数' '评论数' '推荐值(%)' '原价' '售价' '折扣比例'] not in index\"",
     "output_type": "error",
     "traceback": [
      "\u001b[1;31m---------------------------------------------------------------------------\u001b[0m",
      "\u001b[1;31mKeyError\u001b[0m                                  Traceback (most recent call last)",
      "\u001b[1;32m<ipython-input-39-5bf7c48b393e>\u001b[0m in \u001b[0;36m<module>\u001b[1;34m()\u001b[0m\n\u001b[0;32m      2\u001b[0m \u001b[0mfeatures\u001b[0m \u001b[1;33m=\u001b[0m \u001b[1;33m[\u001b[0m\u001b[1;34m'出版年份'\u001b[0m\u001b[1;33m,\u001b[0m\u001b[1;34m'平均排名'\u001b[0m\u001b[1;33m,\u001b[0m \u001b[1;34m'上榜次数'\u001b[0m\u001b[1;33m,\u001b[0m \u001b[1;34m'评论数'\u001b[0m\u001b[1;33m,\u001b[0m \u001b[1;34m'推荐值(%)'\u001b[0m\u001b[1;33m,\u001b[0m \u001b[1;34m'原价'\u001b[0m\u001b[1;33m,\u001b[0m \u001b[1;34m'售价'\u001b[0m\u001b[1;33m,\u001b[0m \u001b[1;34m'折扣比例'\u001b[0m\u001b[1;33m]\u001b[0m\u001b[1;33m\u001b[0m\u001b[0m\n\u001b[0;32m      3\u001b[0m \u001b[1;31m# 计算斯皮尔曼相关性矩阵和p值矩阵\u001b[0m\u001b[1;33m\u001b[0m\u001b[1;33m\u001b[0m\u001b[0m\n\u001b[1;32m----> 4\u001b[1;33m \u001b[0mspearman_corr_matrix\u001b[0m \u001b[1;33m=\u001b[0m \u001b[0mbook_data\u001b[0m\u001b[1;33m[\u001b[0m\u001b[0mfeatures\u001b[0m\u001b[1;33m]\u001b[0m\u001b[1;33m.\u001b[0m\u001b[0mcorr\u001b[0m\u001b[1;33m(\u001b[0m\u001b[0mmethod\u001b[0m\u001b[1;33m=\u001b[0m\u001b[1;34m'spearman'\u001b[0m\u001b[1;33m)\u001b[0m\u001b[1;33m\u001b[0m\u001b[0m\n\u001b[0m\u001b[0;32m      5\u001b[0m \u001b[0mpvals\u001b[0m \u001b[1;33m=\u001b[0m \u001b[0mbook_data\u001b[0m\u001b[1;33m[\u001b[0m\u001b[0mfeatures\u001b[0m\u001b[1;33m]\u001b[0m\u001b[1;33m.\u001b[0m\u001b[0mcorr\u001b[0m\u001b[1;33m(\u001b[0m\u001b[0mmethod\u001b[0m\u001b[1;33m=\u001b[0m\u001b[1;32mlambda\u001b[0m \u001b[0mx\u001b[0m\u001b[1;33m,\u001b[0m \u001b[0my\u001b[0m\u001b[1;33m:\u001b[0m \u001b[0mspearmanr\u001b[0m\u001b[1;33m(\u001b[0m\u001b[0mx\u001b[0m\u001b[1;33m,\u001b[0m \u001b[0my\u001b[0m\u001b[1;33m)\u001b[0m\u001b[1;33m[\u001b[0m\u001b[1;36m1\u001b[0m\u001b[1;33m]\u001b[0m\u001b[1;33m)\u001b[0m \u001b[1;33m-\u001b[0m \u001b[0mnp\u001b[0m\u001b[1;33m.\u001b[0m\u001b[0meye\u001b[0m\u001b[1;33m(\u001b[0m\u001b[0mlen\u001b[0m\u001b[1;33m(\u001b[0m\u001b[0mbook_data\u001b[0m\u001b[1;33m[\u001b[0m\u001b[0mfeatures\u001b[0m\u001b[1;33m]\u001b[0m\u001b[1;33m.\u001b[0m\u001b[0mcolumns\u001b[0m\u001b[1;33m)\u001b[0m\u001b[1;33m)\u001b[0m\u001b[1;33m\u001b[0m\u001b[0m\n\u001b[0;32m      6\u001b[0m \u001b[1;33m\u001b[0m\u001b[0m\n",
      "\u001b[1;32mD:\\0\\Anaconda3\\lib\\site-packages\\pandas\\core\\frame.py\u001b[0m in \u001b[0;36m__getitem__\u001b[1;34m(self, key)\u001b[0m\n\u001b[0;32m   2131\u001b[0m         \u001b[1;32mif\u001b[0m \u001b[0misinstance\u001b[0m\u001b[1;33m(\u001b[0m\u001b[0mkey\u001b[0m\u001b[1;33m,\u001b[0m \u001b[1;33m(\u001b[0m\u001b[0mSeries\u001b[0m\u001b[1;33m,\u001b[0m \u001b[0mnp\u001b[0m\u001b[1;33m.\u001b[0m\u001b[0mndarray\u001b[0m\u001b[1;33m,\u001b[0m \u001b[0mIndex\u001b[0m\u001b[1;33m,\u001b[0m \u001b[0mlist\u001b[0m\u001b[1;33m)\u001b[0m\u001b[1;33m)\u001b[0m\u001b[1;33m:\u001b[0m\u001b[1;33m\u001b[0m\u001b[0m\n\u001b[0;32m   2132\u001b[0m             \u001b[1;31m# either boolean or fancy integer index\u001b[0m\u001b[1;33m\u001b[0m\u001b[1;33m\u001b[0m\u001b[0m\n\u001b[1;32m-> 2133\u001b[1;33m             \u001b[1;32mreturn\u001b[0m \u001b[0mself\u001b[0m\u001b[1;33m.\u001b[0m\u001b[0m_getitem_array\u001b[0m\u001b[1;33m(\u001b[0m\u001b[0mkey\u001b[0m\u001b[1;33m)\u001b[0m\u001b[1;33m\u001b[0m\u001b[0m\n\u001b[0m\u001b[0;32m   2134\u001b[0m         \u001b[1;32melif\u001b[0m \u001b[0misinstance\u001b[0m\u001b[1;33m(\u001b[0m\u001b[0mkey\u001b[0m\u001b[1;33m,\u001b[0m \u001b[0mDataFrame\u001b[0m\u001b[1;33m)\u001b[0m\u001b[1;33m:\u001b[0m\u001b[1;33m\u001b[0m\u001b[0m\n\u001b[0;32m   2135\u001b[0m             \u001b[1;32mreturn\u001b[0m \u001b[0mself\u001b[0m\u001b[1;33m.\u001b[0m\u001b[0m_getitem_frame\u001b[0m\u001b[1;33m(\u001b[0m\u001b[0mkey\u001b[0m\u001b[1;33m)\u001b[0m\u001b[1;33m\u001b[0m\u001b[0m\n",
      "\u001b[1;32mD:\\0\\Anaconda3\\lib\\site-packages\\pandas\\core\\frame.py\u001b[0m in \u001b[0;36m_getitem_array\u001b[1;34m(self, key)\u001b[0m\n\u001b[0;32m   2175\u001b[0m             \u001b[1;32mreturn\u001b[0m \u001b[0mself\u001b[0m\u001b[1;33m.\u001b[0m\u001b[0m_take\u001b[0m\u001b[1;33m(\u001b[0m\u001b[0mindexer\u001b[0m\u001b[1;33m,\u001b[0m \u001b[0maxis\u001b[0m\u001b[1;33m=\u001b[0m\u001b[1;36m0\u001b[0m\u001b[1;33m,\u001b[0m \u001b[0mconvert\u001b[0m\u001b[1;33m=\u001b[0m\u001b[1;32mFalse\u001b[0m\u001b[1;33m)\u001b[0m\u001b[1;33m\u001b[0m\u001b[0m\n\u001b[0;32m   2176\u001b[0m         \u001b[1;32melse\u001b[0m\u001b[1;33m:\u001b[0m\u001b[1;33m\u001b[0m\u001b[0m\n\u001b[1;32m-> 2177\u001b[1;33m             \u001b[0mindexer\u001b[0m \u001b[1;33m=\u001b[0m \u001b[0mself\u001b[0m\u001b[1;33m.\u001b[0m\u001b[0mloc\u001b[0m\u001b[1;33m.\u001b[0m\u001b[0m_convert_to_indexer\u001b[0m\u001b[1;33m(\u001b[0m\u001b[0mkey\u001b[0m\u001b[1;33m,\u001b[0m \u001b[0maxis\u001b[0m\u001b[1;33m=\u001b[0m\u001b[1;36m1\u001b[0m\u001b[1;33m)\u001b[0m\u001b[1;33m\u001b[0m\u001b[0m\n\u001b[0m\u001b[0;32m   2178\u001b[0m             \u001b[1;32mreturn\u001b[0m \u001b[0mself\u001b[0m\u001b[1;33m.\u001b[0m\u001b[0m_take\u001b[0m\u001b[1;33m(\u001b[0m\u001b[0mindexer\u001b[0m\u001b[1;33m,\u001b[0m \u001b[0maxis\u001b[0m\u001b[1;33m=\u001b[0m\u001b[1;36m1\u001b[0m\u001b[1;33m,\u001b[0m \u001b[0mconvert\u001b[0m\u001b[1;33m=\u001b[0m\u001b[1;32mTrue\u001b[0m\u001b[1;33m)\u001b[0m\u001b[1;33m\u001b[0m\u001b[0m\n\u001b[0;32m   2179\u001b[0m \u001b[1;33m\u001b[0m\u001b[0m\n",
      "\u001b[1;32mD:\\0\\Anaconda3\\lib\\site-packages\\pandas\\core\\indexing.py\u001b[0m in \u001b[0;36m_convert_to_indexer\u001b[1;34m(self, obj, axis, is_setter)\u001b[0m\n\u001b[0;32m   1267\u001b[0m                 \u001b[1;32mif\u001b[0m \u001b[0mmask\u001b[0m\u001b[1;33m.\u001b[0m\u001b[0many\u001b[0m\u001b[1;33m(\u001b[0m\u001b[1;33m)\u001b[0m\u001b[1;33m:\u001b[0m\u001b[1;33m\u001b[0m\u001b[0m\n\u001b[0;32m   1268\u001b[0m                     raise KeyError('{mask} not in index'\n\u001b[1;32m-> 1269\u001b[1;33m                                    .format(mask=objarr[mask]))\n\u001b[0m\u001b[0;32m   1270\u001b[0m \u001b[1;33m\u001b[0m\u001b[0m\n\u001b[0;32m   1271\u001b[0m                 \u001b[1;32mreturn\u001b[0m \u001b[0m_values_from_object\u001b[0m\u001b[1;33m(\u001b[0m\u001b[0mindexer\u001b[0m\u001b[1;33m)\u001b[0m\u001b[1;33m\u001b[0m\u001b[0m\n",
      "\u001b[1;31mKeyError\u001b[0m: \"['上榜次数' '评论数' '推荐值(%)' '原价' '售价' '折扣比例'] not in index\""
     ]
    }
   ],
   "source": [
    "book_data['出版年份'] = book_data['出版日期'].dt.year\n",
    "features = ['出版年份','平均排名', '上榜次数', '评论数', '推荐值(%)', '原价', '售价', '折扣比例']\n",
    "# 计算斯皮尔曼相关性矩阵和p值矩阵\n",
    "spearman_corr_matrix = book_data[features].corr(method='spearman')\n",
    "pvals = book_data[features].corr(method=lambda x, y: spearmanr(x, y)[1]) - np.eye(len(book_data[features].columns))\n",
    "\n",
    "# 转换 p 值为星号\n",
    "def convert_pvalue_to_asterisks(pvalue):\n",
    "    if pvalue <= 0.001:\n",
    "        return \"***\"\n",
    "    elif pvalue <= 0.01:\n",
    "        return \"**\"\n",
    "    elif pvalue <= 0.05:\n",
    "        return \"*\"\n",
    "    return \"\"\n",
    "\n",
    "# 应用转换函数\n",
    "pval_star = pvals.applymap(lambda x: convert_pvalue_to_asterisks(x))\n",
    "\n",
    "# 转换成 numpy 类型\n",
    "corr_star_annot = pval_star.to_numpy()\n",
    "\n",
    "# 定制 labels\n",
    "corr_labels = spearman_corr_matrix.to_numpy()\n",
    "p_labels = corr_star_annot\n",
    "shape = corr_labels.shape\n",
    "\n",
    "# 合并 labels\n",
    "labels = (np.asarray([\"{0:.2f}\\n{1}\".format(data, p) for data, p in zip(corr_labels.flatten(), p_labels.flatten())])).reshape(shape)\n",
    "\n",
    "# 绘制热力图\n",
    "fig, ax = plt.subplots(figsize=(12, 10), dpi=100, facecolor=\"w\")\n",
    "sns.heatmap(spearman_corr_matrix, annot=labels, fmt='', cmap='coolwarm',\n",
    "            vmin=-1, vmax=1, annot_kws={\"size\":10, \"fontweight\":\"bold\"},\n",
    "            linecolor=\"k\", linewidths=.2, cbar_kws={\"aspect\":13}, ax=ax)\n",
    "\n",
    "ax.tick_params(bottom=False, labelbottom=True, labeltop=False,\n",
    "            left=False, pad=1, labelsize=12)\n",
    "ax.yaxis.set_tick_params(labelrotation=0)\n",
    "\n",
    "# 自定义 colorbar 标签格式\n",
    "cbar = ax.collections[0].colorbar\n",
    "cbar.ax.tick_params(direction=\"in\", width=.5, labelsize=10)\n",
    "cbar.set_ticks([-1, -0.5, 0, 0.5, 1])\n",
    "cbar.set_ticklabels([\"-1.00\", \"-0.50\", \"0.00\", \"0.50\", \"1.00\"])\n",
    "cbar.outline.set_visible(True)\n",
    "cbar.outline.set_linewidth(.5)\n",
    "\n",
    "plt.title('斯皮尔曼相关性矩阵')\n",
    "plt.show()"
   ]
  },
  {
   "cell_type": "markdown",
   "metadata": {
    "id": "D6A79653E90E47ACABEDFD80C282DBE7",
    "jupyter": {},
    "notebookId": "6672aac654443711a5cb7d1d",
    "runtime": {
     "execution_status": null,
     "is_visible": false,
     "status": "default"
    },
    "scrolled": false,
    "slideshow": {
     "slide_type": "slide"
    },
    "tags": []
   },
   "source": [
    "**出版年份：**  \n",
    "\n",
    "* 较新的书籍通常有较高的推荐值，但评论数和上榜次数较少，而且原价和售价也比较高。  \n",
    "\n",
    "**平均排名：**  \n",
    "\n",
    "* 上榜次数与排名有很强的负相关关系，意味着排名越靠前的书籍上榜次数越多。  \n",
    "* 评论数与排名有中等强度的负相关关系，意味着排名越靠前的书籍评论数越多。  \n",
    "\n",
    "**上榜次数：**  \n",
    "\n",
    "* 上榜次数与评论数之间有中等强度的正相关关系，意味着上榜次数越多的书籍评论数越多。  \n",
    "* 上榜次数与推荐值、原价、售价和折扣比例之间有弱的负相关关系。  \n",
    "\n",
    "**评论数：**  \n",
    "\n",
    "* 评论数与推荐值之间有中等强度的负相关关系。  \n",
    "* 评论数与折扣比例之间有弱的正相关关系。  \n",
    "\n",
    "**推荐值(%)：**  \n",
    "\n",
    "* 推荐值与评论数有较强的负相关关系，意味着评论数较多的书籍推荐值较低。  \n",
    "\n",
    "\n",
    "**售价：**  \n",
    "\n",
    "* 售价与折扣比例有中等强度的正相关性，意味着书籍的售价越高，折扣比例也较高。"
   ]
  },
  {
   "cell_type": "markdown",
   "metadata": {
    "id": "9B7B26324CCB4BCA88E8512190E2FD51",
    "jupyter": {},
    "notebookId": "6672aac654443711a5cb7d1d",
    "runtime": {
     "execution_status": null,
     "is_visible": false,
     "status": "default"
    },
    "scrolled": false,
    "slideshow": {
     "slide_type": "slide"
    },
    "tags": []
   },
   "source": [
    "# 7.基于作者分析"
   ]
  },
  {
   "cell_type": "markdown",
   "metadata": {
    "id": "EE3077AC61A145AC96B1BFB8CD19BE36",
    "jupyter": {},
    "notebookId": "6672aac654443711a5cb7d1d",
    "runtime": {
     "execution_status": null,
     "is_visible": false,
     "status": "default"
    },
    "scrolled": false,
    "slideshow": {
     "slide_type": "slide"
    },
    "tags": []
   },
   "source": [
    "## 7.1数据预处理"
   ]
  },
  {
   "cell_type": "code",
   "execution_count": null,
   "metadata": {
    "id": "37E50FDC4A994EEB9D9F67819DF18397",
    "jupyter": {},
    "notebookId": "6672aac654443711a5cb7d1d",
    "scrolled": false,
    "slideshow": {
     "slide_type": "slide"
    },
    "tags": []
   },
   "outputs": [],
   "source": [
    "authors = data['作者'].unique()\n",
    "author_data = pd.DataFrame(authors, columns=['作者'])\n",
    "\n",
    "# 计算总上榜次数\n",
    "author_data['总上榜次数'] = author_data['作者'].apply(lambda x: data[data['作者'] == x].shape[0])\n",
    "\n",
    "# 计算每年的最高排名\n",
    "for year in [2020, 2021, 2022, 2023]:\n",
    "    yearly_rank = data[data['排行榜类型'] == year].groupby('作者')['排序'].min().reset_index()\n",
    "    yearly_rank.columns = ['作者', f'{year}年最高排名']\n",
    "    author_data = author_data.merge(yearly_rank, on='作者', how='left')\n",
    "\n",
    "# 计算作品平均评论数和推荐值\n",
    "avg_comments = data.groupby('作者')['评论数'].mean().reset_index()\n",
    "avg_comments.columns = ['作者', '作品平均评论数']\n",
    "\n",
    "avg_recommend = data.groupby('作者')['推荐值(%)'].mean().reset_index()\n",
    "avg_recommend.columns = ['作者', '作品平均推荐值']\n",
    "\n",
    "author_data = author_data.merge(avg_comments, on='作者', how='left')\n",
    "author_data = author_data.merge(avg_recommend, on='作者', how='left')\n",
    "\n",
    "author_data.head()"
   ]
  },
  {
   "cell_type": "markdown",
   "metadata": {
    "id": "177FF468375341309058C87B46BD2740",
    "jupyter": {},
    "notebookId": "6672aac654443711a5cb7d1d",
    "runtime": {
     "execution_status": null,
     "is_visible": false,
     "status": "default"
    },
    "scrolled": false,
    "slideshow": {
     "slide_type": "slide"
    },
    "tags": []
   },
   "source": [
    "## 7.2总上榜次数分析"
   ]
  },
  {
   "cell_type": "code",
   "execution_count": null,
   "metadata": {
    "id": "B8A5C61576D341A49C16BD1EC0BAAB96",
    "jupyter": {},
    "notebookId": "6672aac654443711a5cb7d1d",
    "scrolled": false,
    "slideshow": {
     "slide_type": "slide"
    },
    "tags": []
   },
   "outputs": [],
   "source": [
    "plt.figure(figsize=(8,10))\n",
    "sns.violinplot(y='总上榜次数', data=author_data)\n",
    "plt.title('作者总上榜次数分布情况')\n",
    "plt.ylabel('总上榜次数')\n",
    "plt.show()"
   ]
  },
  {
   "cell_type": "markdown",
   "metadata": {
    "id": "0194E5264D65482996E21D30FAA9BD0A",
    "jupyter": {},
    "notebookId": "6672aac654443711a5cb7d1d",
    "runtime": {
     "execution_status": null,
     "is_visible": false,
     "status": "default"
    },
    "scrolled": false,
    "slideshow": {
     "slide_type": "slide"
    },
    "tags": []
   },
   "source": [
    "通过此图，可以发现，大多数作者总上榜次数在5次以下，少部分作者达到了惊人的20次以上，进一步绘制总上榜次数前10的作者。"
   ]
  },
  {
   "cell_type": "code",
   "execution_count": null,
   "metadata": {
    "id": "8A1554AB2CB345BA8808D464FAB3EC01",
    "jupyter": {},
    "notebookId": "6672aac654443711a5cb7d1d",
    "scrolled": false,
    "slideshow": {
     "slide_type": "slide"
    },
    "tags": []
   },
   "outputs": [],
   "source": [
    "# 获取总上榜次数前10的作者\n",
    "top10_authors = author_data.nlargest(10, '总上榜次数')\n",
    "\n",
    "plt.figure(figsize=(12, 8))\n",
    "sns.barplot(x='总上榜次数', y='作者', data=top10_authors)\n",
    "plt.title('总上榜次数前10的作者')\n",
    "plt.xlabel('总上榜次数')\n",
    "plt.ylabel('作者')\n",
    "plt.show()"
   ]
  },
  {
   "cell_type": "markdown",
   "metadata": {
    "id": "57BB6C9296A74630B4DE46A222A2D2D3",
    "jupyter": {},
    "notebookId": "6672aac654443711a5cb7d1d",
    "runtime": {
     "execution_status": null,
     "is_visible": false,
     "status": "default"
    },
    "scrolled": false,
    "slideshow": {
     "slide_type": "slide"
    },
    "tags": []
   },
   "source": [
    "可以看到东野圭吾总上榜次数来到惊人的30次，通过此图，可以更好的观察到哪些作者的作品受大众欢迎。"
   ]
  },
  {
   "cell_type": "markdown",
   "metadata": {
    "id": "E6291E9F98C1463597E93F0A518D50F0",
    "jupyter": {},
    "notebookId": "6672aac654443711a5cb7d1d",
    "runtime": {
     "execution_status": null,
     "is_visible": false,
     "status": "default"
    },
    "scrolled": false,
    "slideshow": {
     "slide_type": "slide"
    },
    "tags": []
   },
   "source": [
    "## 7.3热门作者推荐"
   ]
  },
  {
   "cell_type": "markdown",
   "metadata": {
    "id": "3856BFC8B2D04A3599F29003DC73D013",
    "jupyter": {},
    "notebookId": "6672aac654443711a5cb7d1d",
    "runtime": {
     "execution_status": null,
     "is_visible": false,
     "status": "default"
    },
    "scrolled": false,
    "slideshow": {
     "slide_type": "slide"
    },
    "tags": []
   },
   "source": [
    "这里继续新增特征列“热力值”，当然这个评分标准，各位读者可以自行制定评分标准：  \n",
    "热力值 = 基础分（50）+ 归一化（上榜次数）[0——+30] + 归一化（四年最高平均排名（未上榜视为500名））[-10 —— +10] + 归一化（作品平均评论数）[-5 —— +5] + 归一化（作品平均推荐值）[-5 —— +5]  \n"
   ]
  },
  {
   "cell_type": "code",
   "execution_count": null,
   "metadata": {
    "id": "E00C2256B79541E9A51990E08BFB0689",
    "jupyter": {},
    "notebookId": "6672aac654443711a5cb7d1d",
    "scrolled": false,
    "slideshow": {
     "slide_type": "slide"
    },
    "tags": []
   },
   "outputs": [],
   "source": [
    "# 处理排名数据，将未上榜视为500名\n",
    "for year in [2020, 2021, 2022, 2023]:\n",
    "    author_data[year] = author_data[str(year) + '年最高排名'].replace('未上榜', 500)\n",
    "    author_data[year] = pd.to_numeric(author_data[year], errors='coerce')\n",
    "\n",
    "# 计算四年的平均最高排名\n",
    "author_data['平均最高排名'] = author_data[[2020, 2021, 2022, 2023]].mean(axis=1)\n",
    "\n",
    "# 归一化上榜次数\n",
    "author_data['上榜次数归一化'] = scaler.fit_transform(author_data[['总上榜次数']])\n",
    "\n",
    "# 归一化平均排名，500分为1，0分为0，确保排名越小越好\n",
    "avg_rank_norm = scaler.fit_transform(author_data[['平均最高排名']])\n",
    "avg_rank_norm = pd.Series(avg_rank_norm.flatten(), index=author_data.index)\n",
    "\n",
    "# 归一化评论数\n",
    "comment_norm = scaler.fit_transform(author_data[['作品平均评论数']])\n",
    "comment_norm = pd.Series(comment_norm.flatten(), index=author_data.index)\n",
    "\n",
    "# 归一化推荐值\n",
    "recommend_norm = scaler.fit_transform(author_data[['作品平均推荐值']])\n",
    "recommend_norm = pd.Series(recommend_norm.flatten(), index=author_data.index)\n",
    "\n",
    "# 计算热力值\n",
    "base_score = 50\n",
    "times_ranked_scores = author_data['上榜次数归一化'] * 30\n",
    "avg_rank_scores = (1 - avg_rank_norm) * 20 - 10\n",
    "comment_scores = comment_norm * 10 - 5\n",
    "recommend_scores = recommend_norm * 10 - 5\n",
    "\n",
    "author_data['热力值'] = base_score + times_ranked_scores + avg_rank_scores + comment_scores + recommend_scores\n",
    "\n",
    "# 删除用来构建特征的列\n",
    "author_data.drop(columns=[2020, 2021, 2022, 2023, '平均最高排名','上榜次数归一化'], inplace=True)\n",
    "\n",
    "# 按热力值排序\n",
    "author_data = author_data.sort_values(by='热力值', ascending=False)"
   ]
  },
  {
   "cell_type": "code",
   "execution_count": null,
   "metadata": {
    "id": "FD5FC906320449F09BF00CCFF8B9A79C",
    "jupyter": {},
    "notebookId": "6672aac654443711a5cb7d1d",
    "scrolled": false,
    "slideshow": {
     "slide_type": "slide"
    },
    "tags": []
   },
   "outputs": [],
   "source": [
    "author_data.head(10)"
   ]
  },
  {
   "cell_type": "code",
   "execution_count": null,
   "metadata": {
    "id": "7B9756858F504339ACBE21F60AD33654",
    "jupyter": {},
    "notebookId": "6672aac654443711a5cb7d1d",
    "scrolled": false,
    "slideshow": {
     "slide_type": "slide"
    },
    "tags": []
   },
   "outputs": [],
   "source": [
    "plt.figure(figsize=(12,6))\n",
    "plt.barh(author_data.head(10)[\"作者\"], author_data.head(10)[\"热力值\"], color='pink')\n",
    "plt.xlabel('热力值')\n",
    "plt.title('前十热门作者')\n",
    "plt.gca().invert_yaxis()\n",
    "plt.tight_layout()\n",
    "plt.show()"
   ]
  },
  {
   "cell_type": "markdown",
   "metadata": {
    "id": "85C206EA591A4ACDB4AE262BC2E911AB",
    "jupyter": {},
    "notebookId": "6672aac654443711a5cb7d1d",
    "runtime": {
     "execution_status": null,
     "is_visible": false,
     "status": "default"
    },
    "scrolled": false,
    "slideshow": {
     "slide_type": "slide"
    },
    "tags": []
   },
   "source": [
    "# 8.总结"
   ]
  },
  {
   "cell_type": "markdown",
   "metadata": {
    "id": "9D5F650590094B9A816B62A79F18632F",
    "jupyter": {},
    "notebookId": "6672aac654443711a5cb7d1d",
    "runtime": {
     "execution_status": null,
     "is_visible": false,
     "status": "default"
    },
    "scrolled": false,
    "slideshow": {
     "slide_type": "slide"
    },
    "tags": []
   },
   "source": [
    "本项目通过描述性统计对数据进行初步探索，然后针对书籍和作者分别构建了两个新的数据，通过可视化分析来研究热门书籍与作者，并且通过斯皮尔曼相关性分析，研究了书籍特征的相关性，最终得到的结论如下：  \n",
    "**1.原始数据特征：**  \n",
    "* **书名**：共有2000条记录，其中1094个不同的书名，出现最多的书名是“围城”，出现了5次。  \n",
    "* **作者**：共有698个不同的作者，最常见的作者是东野圭吾，有30本书。  \n",
    "* **出版日期**：数据集中最早的出版日期为1982年3月1日，最晚的为2023年12月1日。  \n",
    "* **出版社**：共有176个不同的出版社，最常见的出版社是时代文艺出版社，有90本书。  \n",
    "* **原价**：图书的原价范围从14.8到828元，平均值约为61.71元。  \n",
    "* **售价**：图书的售价范围从2.1到455.4元，平均值约为32.42元。  \n",
    "* **折扣比例**：折扣比例从0.8到9.9折，平均值约为5.26折。  \n",
    "* **评论数**：评论数从49到3427401，平均值约为377124.7条。  \n",
    "* **推荐值(%)**：推荐值的平均值为99.915%。  \n",
    "\n",
    "**2.基于书籍进行分析：**  \n",
    "* 大多数书籍（同一个出版社、同一个出版日期）只上榜过一次，能够保持3次及以上上榜的书籍，都是非常不容易的。  \n",
    "*  原价集中在20元到100元之间，有少数书籍的原价较高，超过200元；售价也主要集中在20元到100元之间，分布与原价类似，但整体偏低；折扣比例集中在4折到6折之间。  \n",
    "*  通过构建热力值特征，得出热度最高的10个作品：《三体》、《百年孤独》、《你当像鸟飞往你的山》、《正面管教》、《白夜行》、《云边有个小卖铺》、《月亮与六便士》、《蛤蟆先生去看心理医生》、《人生海海》、《少年读史记》，这10本书在历年排名中均靠前，而且有着较高的推荐值，基本上买这几本书不会踩雷。  \n",
    "*  通过斯皮尔曼相关性分析：  \n",
    "\t* 较新的书籍通常有较高的推荐值，但评论数和上榜次数较少，而且原价和售价也比较高。  \n",
    "\t* 上榜次数与排名有很强的负相关关系，意味着排名越靠前的书籍上榜次数越多。  \n",
    "\t* 评论数与排名有中等强度的负相关关系，意味着排名越靠前的书籍评论数越多。  \n",
    "\t* 上榜次数与评论数之间有中等强度的正相关关系，意味着上榜次数越多的书籍评论数越多。  \n",
    "\t* 上榜次数与推荐值、原价、售价和折扣比例之间有弱的负相关关系。  \n",
    "\t* 评论数与推荐值之间有中等强度的负相关关系。  \n",
    "\t* 评论数与折扣比例之间有弱的正相关关系。  \n",
    "\t* 推荐值与评论数有较强的负相关关系，意味着评论数较多的书籍推荐值较低。  \n",
    "\t* 售价与折扣比例有中等强度的正相关性，意味着书籍的售价越高，折扣比例也较高。  \n",
    "\n",
    "**3.基于作者分析：**  \n",
    "* 大多数作者总上榜次数在5次以下，少部分作者达到了20次以上，甚至东野圭吾总上榜次数来到惊人的30次！  \n",
    "* 通过构建热力值特征，得出热度最高的十位作者：东野圭吾、余华、毛姆、刘慈欣、曹文轩、鲁迅、北猫、乔安娜柯尔、张嘉佳、加西亚·马尔克斯，表明这些作者创作了很多优秀的作品，购买他们的作品不容易踩雷。"
   ]
  }
 ],
 "metadata": {
  "kernelspec": {
   "display_name": "Python 3",
   "language": "python",
   "name": "python3"
  },
  "language_info": {
   "codemirror_mode": {
    "name": "ipython",
    "version": 3
   },
   "file_extension": ".py",
   "mimetype": "text/x-python",
   "name": "python",
   "nbconvert_exporter": "python",
   "pygments_lexer": "ipython3",
   "version": "3.6.4"
  }
 },
 "nbformat": 4,
 "nbformat_minor": 1
}
