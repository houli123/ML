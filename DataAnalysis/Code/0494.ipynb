{
 "cells": [
  {
   "cell_type": "markdown",
   "metadata": {},
   "source": [
    "### 1、 购物车项目的改进\n",
    "请增加购物车项目的修改和删除功能：\n",
    "- （1）输入商品编号\n",
    "- （2）若购物车中有该商品，则输入修改数量\n",
    "- （3）若修改数量为0，删除该商品，否则修改对应数量\n",
    "- （4）-1退出购物车\n",
    "- （5）显示购物车信息"
   ]
  },
  {
   "cell_type": "markdown",
   "metadata": {},
   "source": [
    "任务分析  \n",
    "- 购物车程序，主要是数据的存储、购物流程的设计、购物金额的计算、以及购物信息的显示。可以将任务分解为以下步骤：\n",
    "- 创建一个存储商品信息的字典goodsdic，将商品编号作为键。\n",
    "- 创建一个存储购物车信息的字典mycart，将商品编号作为键。\n",
    "- 键盘输入用户要购买的商品编号nid。\n",
    "- 设置while循环条件。\n",
    "- 若商品字典中没有该商品，则提示用户\"该商品不存在，请重新输入\"。\n",
    "- 若购物车字典中没有该商品，则提示用户继续输入购买数量 num。将商品编号nid和购买数量 num存储到购物车字典。\n",
    "- 若购物车中有该商品，则提示用户已选购该商品以及购买数量，并请用户重新输入购买数量。\n",
    "- 若购买数量 num为0，删从购物车中除该商品。\n",
    "- 若购买数量 num大于0，将商品编号nid和购买数量 num存储到购物车字典。\n",
    "- 若键盘输入的是\"-1\"，则购物结束。\n",
    "- 初始化购物的总金额summoney。\n",
    "- 遍历购物车字典，计算购物的总金额。\n",
    "- 显示购物信息和总金额。\n"
   ]
  },
  {
   "cell_type": "code",
   "execution_count": 14,
   "metadata": {},
   "outputs": [
    {
     "name": "stdout",
     "output_type": "stream",
     "text": [
      "请输入购买的商品编号(输入-1结账)：101\n",
      "请输入购买数量:1\n",
      "请输入购买的商品编号(输入-1结账)：101\n",
      "你已选购该商品，请输入修改数量：0\n",
      "请输入购买的商品编号(输入-1结账)：-1\n",
      "商品编号    \t商品名称    \t商品价格    \t商品数量    \t小计      \n",
      "购物车里商品的总价格为0\n"
     ]
    }
   ],
   "source": [
    "goodsdic={\n",
    "    \"101\":(\"签字笔(黑)\",3.0),\"102\":(\"签字笔(红)\",3.0),\n",
    "    \"103\":(\"荧光笔\",10.0),\"104\":(\"铅笔\",2.0),\n",
    "    \"201\":(\"笔记本A4\",18.5),\"202\":(\"笔记本B5\",14.0),\n",
    "    \"203\":(\"练习本A4\",2.5),\"204\":(\"练习本B5\",2.0)}\n",
    "mycart={}\n",
    "while(True):\n",
    "    nid=input(\"请输入购买的商品编号(输入-1结账)：\")\n",
    "    if(nid==\"-1\"):\n",
    "        break\n",
    "    if(nid not in goodsdic):\n",
    "        print(\"该商品不存在，请重新输入！\")\n",
    "        continue\n",
    "    if(nid in mycart):\n",
    "        num=int(input(\"你已选购该商品，请输入修改数量：\"))\n",
    "        if num==0:\n",
    "            del mycart[nid]\n",
    "        else:\n",
    "            mycart[nid]=[goodsdic[nid][0],goodsdic[nid][1],num]     \n",
    "    else:\n",
    "        num=int(input(\"请输入购买数量:\"))\n",
    "        mycart[nid]=[goodsdic[nid][0],goodsdic[nid][1],num]\n",
    "print(\"{:<8}\\t{:<8}\\t{:<8}\\t{:<8}\\t{:<8}\".format(\"商品编号\",\"商品名称\",\"商品价格\",\"商品数量\",\"小计\"),)\n",
    "summoney=0\n",
    "for goods in mycart:\n",
    "    money=mycart[goods][1]*mycart[goods][2]\n",
    "    summoney+=money\n",
    "    print(\"{0:{5}<8}\\t{1:{5}<8}\\t{2:<8}\\t{3:<8}\\t{4:<8}\".format(goods,mycart[goods][0],mycart[goods][1],mycart[goods][2],money,chr(12288)))\n",
    "#  <表示左对齐 6表示占6个字符 chr(12288)表示中文空格\n",
    "print(\"购物车里商品的总价格为{}\".format(summoney))"
   ]
  },
  {
   "cell_type": "markdown",
   "metadata": {},
   "source": [
    "### 2、卡号和密码生成\n",
    "\n",
    "1、随机生成100个卡号；\n",
    "卡号以6102023开头， 后面3位依次是 （001， 002， 003，...，100），\n",
    "\n",
    "生成关于银行卡号的字典， 默认每个卡号的初始密码为卡号后四位;\n",
    "\n",
    "输出卡号和密码信息， 格式如下:\n",
    "卡号              密码\n",
    "6102009001 9001"
   ]
  },
  {
   "cell_type": "code",
   "execution_count": null,
   "metadata": {},
   "outputs": [],
   "source": [
    "card=[f'6102023{i:03}' for i in range(1,101)]\n",
    "card_num={}\n",
    "for i in card:\n",
    "    card_num[i]=i[-4:]\n",
    "print(\"卡号\\t密码\")\n",
    "for key,value in card_num.items():\n",
    "    print(key,value)"
   ]
  }
 ],
 "metadata": {
  "hide_input": false,
  "kernelspec": {
   "display_name": "Python 3",
   "language": "python",
   "name": "python3"
  },
  "language_info": {
   "codemirror_mode": {
    "name": "ipython",
    "version": 3
   },
   "file_extension": ".py",
   "mimetype": "text/x-python",
   "name": "python",
   "nbconvert_exporter": "python",
   "pygments_lexer": "ipython3",
   "version": "3.6.4"
  },
  "toc": {
   "base_numbering": 1,
   "nav_menu": {},
   "number_sections": true,
   "sideBar": true,
   "skip_h1_title": false,
   "title_cell": "Table of Contents",
   "title_sidebar": "Contents",
   "toc_cell": false,
   "toc_position": {},
   "toc_section_display": true,
   "toc_window_display": false
  }
 },
 "nbformat": 4,
 "nbformat_minor": 2
}
