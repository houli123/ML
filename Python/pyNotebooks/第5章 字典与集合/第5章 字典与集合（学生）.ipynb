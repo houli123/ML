{
 "cells": [
  {
   "attachments": {},
   "cell_type": "markdown",
   "metadata": {},
   "source": [
    "<img src=\"img/首页.png\" width=\"1200\" height=\"700\" align=\"center\" />"
   ]
  },
  {
   "attachments": {},
   "cell_type": "markdown",
   "metadata": {},
   "source": [
    "##  知识点思维导图\n",
    "\n",
    "<img src=\"img/思维导图.png\" width=\"1000\" height=\"800\" align=\"left\" />"
   ]
  },
  {
   "attachments": {},
   "cell_type": "markdown",
   "metadata": {},
   "source": [
    "#  本章能力目标：\n",
    "* ## 能使用字典类型对象存储数据\n",
    "* ## 能使用集合进行对象去重，关系测试"
   ]
  },
  {
   "attachments": {},
   "cell_type": "markdown",
   "metadata": {},
   "source": [
    "## 5.1 购物车\n",
    "（1）输入要购买的商品编号  \n",
    "（2）若购物车中没有该商品，则继续输入购买数量  \n",
    "（3）若购物车中已有该商品，则提示“你已选购该商品，请选购新的商品”  \n",
    "（4）将商品信息及数量加入购物车  \n",
    "（5）-1退出购物车  \n",
    "（6）显示购物车信息和购物的总金额。  \n"
   ]
  },
  {
   "attachments": {},
   "cell_type": "markdown",
   "metadata": {},
   "source": [
    "## 5.2 预备知识\n",
    "### 5.2.1 字典组合数据类型\n",
    "- 字典dict是Python 语言的基石。字典活跃在所有 Python 程序的背后。\n",
    "- Python字典是一种“键值”（key：value）的映射类型，就像我们使用的汉语字典，每个汉字及其解释就构成了一本字典。\n",
    "- 键值对是一种二元关系，源于属性和值的映射关系。键值对实质上是一种映射关系。\n",
    "- 基本上所有的编程语言都有键值对存储技术。Python字典的特别之处在于键和值都可以是任意数据类型。"
   ]
  },
  {
   "attachments": {},
   "cell_type": "markdown",
   "metadata": {},
   "source": [
    "- 字典由两部分视图构成：键视图和值视图。键视图不能包含重复的 元素，值视图能。在键视图中，键和值是成对出现的。\n",
    "<img src=\"img/5-dict.png\" width=\"600\" height=\"600\" align=\"left\" />br><br>\n"
   ]
  },
  {
   "attachments": {},
   "cell_type": "markdown",
   "metadata": {},
   "source": [
    "### 5.2.2 字典常用操作\n",
    "我们可以通过以下两种方法创建字典。 \n",
    "- 1 dict（）函数。  \n",
    "- 2 {key1：value1，key2：value2，...，key_n：value_n}：指定具体 的字典键值对，键值对之间以逗号分隔，最后用大括号括起来。  \n",
    "#### 初始化字典\n",
    "- 字典可以这样描述：字典dict{键key：值value}\n",
    "- 创建字典的语法： \n",
    "     字典名 = {键1：值1，键2：值2，…}  \n",
    "- 字典中的key必须唯一。字符串、整数等都可以作为key。\n",
    "- 我们可以一次性创建字典的数据。\n"
   ]
  },
  {
   "cell_type": "code",
   "execution_count": 12,
   "metadata": {},
   "outputs": [
    {
     "name": "stdout",
     "output_type": "stream",
     "text": [
      "<class 'type'>\n"
     ]
    }
   ],
   "source": [
    "#list(\"abcd\")\n",
    "tuple(\"abcd\")\n",
    "str(123)\n",
    "print(type(tuple))"
   ]
  },
  {
   "cell_type": "code",
   "execution_count": 11,
   "metadata": {},
   "outputs": [
    {
     "name": "stdout",
     "output_type": "stream",
     "text": [
      "<class 'dict'>\n"
     ]
    }
   ],
   "source": [
    "#创建字典\n",
    "dict1={\"a\":\"apple\",\"b\":\"banana\",\"g\":\"grape\",\"o\":\"orange\"}\n",
    "sd={\"中国\":\"北京\",\"美国\":\"华盛顿\",\"法国\":\"巴黎\"}\n",
    "print(type(dict1))\n"
   ]
  },
  {
   "attachments": {},
   "cell_type": "markdown",
   "metadata": {},
   "source": [
    "#### 创建空字典\n",
    "- 先创建一个空字典，再去添加字典的元素。步骤如下：\n",
    "- 首先，创建一个空字典：sd = {}\n",
    "- 添加一个元素：sd[“中国”] = “北京”\n",
    "- 添加和修改字典元素的语法是一样的：字典[键] = 值\n",
    "- 想看一下整个字典： print(sd)\n",
    "- 运行结果如下：{“中国” : “北京”}"
   ]
  },
  {
   "cell_type": "code",
   "execution_count": null,
   "metadata": {},
   "outputs": [],
   "source": [
    "#创建一个空字典\n",
    "sd={}"
   ]
  },
  {
   "attachments": {},
   "cell_type": "markdown",
   "metadata": {},
   "source": [
    "#### 修改和添加元素"
   ]
  },
  {
   "cell_type": "code",
   "execution_count": null,
   "metadata": {},
   "outputs": [],
   "source": [
    "sd[\"中国\"]=\"北京\"\n",
    "sd[\"美国\"]=\"华盛顿\"\n",
    "sd[\"法国\"]=\"巴黎\"\n"
   ]
  },
  {
   "attachments": {},
   "cell_type": "markdown",
   "metadata": {},
   "source": [
    "#### 输出字典"
   ]
  },
  {
   "cell_type": "code",
   "execution_count": 14,
   "metadata": {},
   "outputs": [
    {
     "name": "stdout",
     "output_type": "stream",
     "text": [
      "{'中国': '北京', '美国': '华盛顿', '法国': '巴黎'}\n",
      "{'中国': '大北京', '美国': '华盛顿', '法国': '巴黎'}\n"
     ]
    }
   ],
   "source": [
    "print(sd)\n",
    "sd[\"中国\"]=\"大北京\"\n",
    "print(sd)"
   ]
  },
  {
   "attachments": {},
   "cell_type": "markdown",
   "metadata": {},
   "source": [
    "#### 访问字典元素\n",
    "- 语法： 字典[键]\n",
    "注意，这里使用方括号来指定你想要找的键key。\n",
    "例如 print(sd[\"法国\"])\n",
    "- 字典查数据的语法，与列表有点类似，都是用中括号，但是列表是用的是索引：\n",
    "- 列表[索引]\n",
    "例如 list[0]、list[3:5]、list[-1]。\n",
    "- 字典是无序的，先输入的数据不一定出现在前面。\n"
   ]
  },
  {
   "cell_type": "code",
   "execution_count": 15,
   "metadata": {},
   "outputs": [
    {
     "name": "stdout",
     "output_type": "stream",
     "text": [
      "巴黎\n"
     ]
    }
   ],
   "source": [
    "print(sd[\"法国\"])"
   ]
  },
  {
   "attachments": {},
   "cell_type": "markdown",
   "metadata": {},
   "source": [
    "#### 字典的删除\n",
    "- 字典的删除，有两种方法：删除字典中的一个元素、清除字典的所有元素\n",
    "- 通过键删除字典中的元素， \n",
    "<字典>.pop(<键>)  \n",
    "或  \n",
    "del(<字典> [<键>])  \n",
    "- 清除字典中的所有元素\n",
    "<字典>.clear()  \n",
    "或  \n",
    "del(<字典>)  \n"
   ]
  },
  {
   "cell_type": "code",
   "execution_count": 21,
   "metadata": {},
   "outputs": [
    {
     "name": "stdout",
     "output_type": "stream",
     "text": [
      "{'2': 'two', '3': 'three', '4': 'four'}\n",
      "{'3': 'three', '4': 'four'}\n",
      "{}\n"
     ]
    }
   ],
   "source": [
    "#创建一个字典\n",
    "enum={\"1\":\"one\",\"2\":\"two\",\"3\":\"three\",\"4\":\"four\"}\n",
    "#使用pop()方法删除一个元素\n",
    "enum.pop(\"1\")\n",
    "print(enum)\n",
    "#使用del()函数删除一个元素\n",
    "del(enum[\"2\"])\n",
    "print(enum)\n",
    "#使用clear()函数清空字典\n",
    "enum.clear()\n",
    "print(enum)"
   ]
  },
  {
   "attachments": {},
   "cell_type": "markdown",
   "metadata": {},
   "source": [
    "#### 求字典的长度"
   ]
  },
  {
   "cell_type": "code",
   "execution_count": 20,
   "metadata": {},
   "outputs": [
    {
     "name": "stdout",
     "output_type": "stream",
     "text": [
      "4\n"
     ]
    }
   ],
   "source": [
    "#求字典的长度\n",
    "enum={\"1\":\"one\",\"2\":\"two\",\"3\":\"three\",\"4\":\"four\"}\n",
    "print(len(enum))"
   ]
  },
  {
   "attachments": {},
   "cell_type": "markdown",
   "metadata": {},
   "source": [
    "#### 遍历字典元素\n",
    "- 一个Python字典可能包含数百万个键值对，如何遍历数据呢？\n",
    "- 简单的查询一个元素，语法：字典[键]\n",
    "- 复杂的查询和处理，最好是使用遍历for语法。\n",
    "- 有多种遍历字典的方式：\n",
    "    - 遍历字典的所有键。\n",
    "    - 遍历字典的所有值。\n",
    "    - 遍历字典的所有键值对。<br><br><br>\n",
    "<img src=\"img/5-dict-1.png\" width=\"700\" height=\"700\" align=\"left\" />\n",
    "\n"
   ]
  },
  {
   "attachments": {},
   "cell_type": "markdown",
   "metadata": {},
   "source": [
    "* 遍历健"
   ]
  },
  {
   "cell_type": "code",
   "execution_count": 25,
   "metadata": {},
   "outputs": [
    {
     "name": "stdout",
     "output_type": "stream",
     "text": [
      "方案1遍历key值\n",
      "101\n",
      "('鱼香肉丝', 38)\n",
      "102\n",
      "('红烧鲈鱼', 48)\n",
      "103\n",
      "('红油鸡丝', 36)\n",
      "104\n",
      "('芥末木耳', 25)\n",
      "\n",
      "101\n",
      "102\n",
      "103\n",
      "104\n"
     ]
    }
   ],
   "source": [
    "print(\"方案1遍历key值\")\n",
    "menu={\"101\":(\"鱼香肉丝\",38),\n",
    "      \"102\":(\"红烧鲈鱼\",48),\n",
    "      \"103\":(\"红油鸡丝\",36),\n",
    "      \"104\":(\"芥末木耳\",25)\n",
    "     }\n",
    "for key in menu:\n",
    "    print(key)\n",
    "    print(menu[key])\n",
    "print()\n",
    "\n",
    "for key in menu.keys():\n",
    "    print(key)"
   ]
  },
  {
   "attachments": {},
   "cell_type": "markdown",
   "metadata": {},
   "source": [
    "* 遍历值"
   ]
  },
  {
   "cell_type": "code",
   "execution_count": 33,
   "metadata": {},
   "outputs": [
    {
     "name": "stdout",
     "output_type": "stream",
     "text": [
      "方案1遍历key值\n",
      "('鱼香肉丝', 38)\n",
      "('红烧鲈鱼', 48)\n",
      "('红油鸡丝', 36)\n",
      "('芥末木耳', 25)\n"
     ]
    }
   ],
   "source": [
    "print(\"方案1遍历key值\")\n",
    "menu={\"101\":(\"鱼香肉丝\",38),\n",
    "      \"102\":(\"红烧鲈鱼\",48),\n",
    "      \"103\":(\"红油鸡丝\",36),\n",
    "      \"104\":(\"芥末木耳\",25)\n",
    "     }\n",
    "for value in menu.values():\n",
    "    print(value)"
   ]
  },
  {
   "attachments": {},
   "cell_type": "markdown",
   "metadata": {},
   "source": [
    "* 遍历字典元素"
   ]
  },
  {
   "cell_type": "code",
   "execution_count": 34,
   "metadata": {},
   "outputs": [
    {
     "name": "stdout",
     "output_type": "stream",
     "text": [
      "方案1遍历key值\n",
      "('101', ('鱼香肉丝', 38))\n",
      "('102', ('红烧鲈鱼', 48))\n",
      "('103', ('红油鸡丝', 36))\n",
      "('104', ('芥末木耳', 25))\n"
     ]
    }
   ],
   "source": [
    "print(\"方案1遍历key值\")\n",
    "menu={\"101\":(\"鱼香肉丝\",38),\n",
    "      \"102\":(\"红烧鲈鱼\",48),\n",
    "      \"103\":(\"红油鸡丝\",36),\n",
    "      \"104\":(\"芥末木耳\",25)\n",
    "     }\n",
    "for kv in menu.items():\n",
    "    print(kv)"
   ]
  },
  {
   "attachments": {},
   "cell_type": "markdown",
   "metadata": {},
   "source": [
    "* 遍历字典的键值对"
   ]
  },
  {
   "cell_type": "code",
   "execution_count": 35,
   "metadata": {},
   "outputs": [
    {
     "name": "stdout",
     "output_type": "stream",
     "text": [
      "方案1遍历key值\n",
      "101: ('鱼香肉丝', 38)\n",
      "102: ('红烧鲈鱼', 48)\n",
      "103: ('红油鸡丝', 36)\n",
      "104: ('芥末木耳', 25)\n"
     ]
    }
   ],
   "source": [
    "print(\"方案1遍历key值\")\n",
    "menu={\"101\":(\"鱼香肉丝\",38),\n",
    "      \"102\":(\"红烧鲈鱼\",48),\n",
    "      \"103\":(\"红油鸡丝\",36),\n",
    "      \"104\":(\"芥末木耳\",25)\n",
    "     }\n",
    "for key,value in menu.items():\n",
    "    print(key+\":\",value)"
   ]
  },
  {
   "attachments": {},
   "cell_type": "markdown",
   "metadata": {},
   "source": [
    "## 5.3 课堂练习之创建字典"
   ]
  },
  {
   "attachments": {},
   "cell_type": "markdown",
   "metadata": {},
   "source": [
    "###  5.3.1 使用一个字典来存储家人的信息\n",
    "* 包括姓名、年龄和兴趣爱好。输出字典信息。"
   ]
  },
  {
   "cell_type": "code",
   "execution_count": 1,
   "metadata": {},
   "outputs": [
    {
     "name": "stdout",
     "output_type": "stream",
     "text": [
      "d: (40, 'swim', 'shenzhen')\n",
      "m: (30, 'run', 'guangzhou')\n",
      "b: (18, 'basketball', 'beijin')\n",
      "s: (15, 'run', 'hangzhou')\n"
     ]
    }
   ],
   "source": [
    "jt={\"d\":(40,\"swim\",\"shenzhen\"),\n",
    "    \"m\":(30,\"run\",\"guangzhou\"),\n",
    "    \"b\":(18,\"basketball\",\"beijin\"),\n",
    "    \"s\":(15,\"run\",\"hangzhou\")\n",
    "   }\n",
    "for key,value in jt.items():\n",
    "    print(key+\":\",value)\n"
   ]
  },
  {
   "attachments": {},
   "cell_type": "markdown",
   "metadata": {},
   "source": [
    "### 5.3.2 创建一个名为cities 的字典\n",
    "* 其中将城市名用作键；对于每座城市， 都列出该城市所属的国家、人口以及一个有关该城市的事件。输出字典信息。"
   ]
  },
  {
   "cell_type": "code",
   "execution_count": 28,
   "metadata": {},
   "outputs": [
    {
     "name": "stdout",
     "output_type": "stream",
     "text": [
      "d: (40, 'swim', 'shenzhen')\n",
      "m: (30, 'run', 'guangzhou')\n",
      "b: (18, 'basketball', 'beijin')\n",
      "s: (15, 'run', 'hangzhou')\n"
     ]
    }
   ],
   "source": [
    "city={\n",
    "      '广州':{\n",
    "      'county':'中国',\n",
    "      'population':'1500',\n",
    "      'fact':'noodle',\n",
    "    },\n",
    "      '华盛顿':{\n",
    "      'county':'美国',\n",
    "      'population':'2500',\n",
    "      'fact':'chip',\n",
    "    },\n",
    "      '巴黎':{\n",
    "      'county':'法国',\n",
    "      'population':'5500',\n",
    "      'fact':'xiangshui',\n",
    "    }\n",
    "}\n",
    "for key,value in jt.items():\n",
    "    print(key+\":\",value)"
   ]
  },
  {
   "attachments": {},
   "cell_type": "markdown",
   "metadata": {},
   "source": [
    "### 5.3.3 创建多个字典，对于每个字典，都只保存一种植物的信息\n",
    "* 例如用rose保存玫瑰的信息；在每个字典中，包含植物的名称及多项属性。将这些字典存储在一个名为plants的列表中，再遍历该列表，输出植物信息。"
   ]
  },
  {
   "cell_type": "code",
   "execution_count": 34,
   "metadata": {},
   "outputs": [
    {
     "name": "stdout",
     "output_type": "stream",
     "text": [
      "{'植物名称': '常春藤', '适宜生长': '南方', '养殖': '耐阴，不喜水，春秋两季施肥'}\n",
      "{'植物名称': '芦荟', '适宜生长': '南方', '功效': ''}\n"
     ]
    }
   ],
   "source": [
    "adict={\"植物名称\":\"常春藤\",\"适宜生长\":\"南方\",\"养殖\":\"耐阴，不喜水，春秋两季施肥\"}\n",
    "bdict={\"植物名称\":\"芦荟\",\"适宜生长\":\"南方\",\"功效\":\"\"}\n",
    "print(adict)\n",
    "print(bdict)"
   ]
  },
  {
   "attachments": {},
   "cell_type": "markdown",
   "metadata": {},
   "source": [
    "## 5.4 课堂练习之遍历字典"
   ]
  },
  {
   "attachments": {},
   "cell_type": "markdown",
   "metadata": {},
   "source": [
    "1．遍历上题中存储家人信息的字典，将存储在该字典中的每个元素都单独一行显示输出。"
   ]
  },
  {
   "cell_type": "code",
   "execution_count": 42,
   "metadata": {},
   "outputs": [
    {
     "name": "stdout",
     "output_type": "stream",
     "text": [
      "mum:name=mz,age=30,location=shenzhen,\n",
      "-------------\n",
      "dad:name=jb,age=40,location=shenzhen,\n",
      "-------------\n",
      "me:name=lb,age=18,location=shenzhen,\n",
      "-------------\n"
     ]
    }
   ],
   "source": [
    "family={\n",
    "      'mum':{\n",
    "      'name':'mz',\n",
    "      'age':'30',\n",
    "      'location':'shenzhen',\n",
    "    },\n",
    "      'dad':{\n",
    "      'name':'jb',\n",
    "      'age':'40',\n",
    "      'location':'shenzhen',\n",
    "    },\n",
    "      'me':{\n",
    "      'name':'lb',\n",
    "      'age':'18',\n",
    "      'location':'shenzhen',\n",
    "    },\n",
    "    \n",
    "}\n",
    "for key,value in family.items():\n",
    "    print(key+\":\",end=\"\")\n",
    "    for infoKey,info in value.items():\n",
    "        print(infoKey+\"=\"+info,end=\",\")\n",
    "    print(\"\\n-------------\")\n"
   ]
  },
  {
   "cell_type": "code",
   "execution_count": null,
   "metadata": {},
   "outputs": [],
   "source": []
  },
  {
   "attachments": {},
   "cell_type": "markdown",
   "metadata": {},
   "source": [
    "## 5.5 项目实战\n",
    "### 5.5.1 购物车项目分析\n",
    "- 购物车程序，主要是数据的存储、购物流程的设计、购物金额的计算、以及购物信息的显示。可以将任务分解为以下步骤：<br>\n",
    "（1）创建一个存储商品信息的字典goodsdic，将商品编号作为键。  \n",
    "（2）创建一个存储购物车信息的字典mycart，将商品编号作为键。  \n",
    "（3）键盘输入用户要购买的商品编号nid。  \n",
    "（4）设置while循环条件。  \n",
    "（5）若商品字典中没有该商品，则提示用户\"该商品不存在，请重新输入\"。  \n",
    "（6）若购物车字典中有该商品，则提示用户\"你已选购该商品，请选购新的商品\"。  \n",
    "（7）若购物车字典中没有该商品，则提示用户继续输入购买数量 num。  \n",
    "（8）将商品编号nid和购买数量 num存储到购物车字典，可以把商品名称和商品价格也存储到购物车字典。  \n",
    "（9）若键盘输入的是\"-1\"，则购物结束。  \n",
    "（10）初始化购物的总金额summoney。  \n",
    "（11）遍历购物车字典，计算购物的总金额。  \n",
    "（12）显示购物信息和总金额。  <br>\n",
    "<img src=\"img/购物.png\" width=\"500\" height=\"500\" align=\"left\" />"
   ]
  },
  {
   "attachments": {},
   "cell_type": "markdown",
   "metadata": {},
   "source": [
    "### 5.5.2 购物车项目实现"
   ]
  },
  {
   "cell_type": "code",
   "execution_count": 52,
   "metadata": {},
   "outputs": [
    {
     "name": "stdout",
     "output_type": "stream",
     "text": [
      "请输入购买的商品编号(输入-1结账)：101\n",
      "请输入购买数量:1\n",
      "请输入购买的商品编号(输入-1结账)：-1\n",
      "商品编号     \t商品名称    \t商品价格    \t商品数量    \t小计      \n",
      "101　　　\t签字笔(黑)　　\t3.0     \t1       \t3.0     \n",
      "购物车里商品的总价格为3.0\n"
     ]
    }
   ],
   "source": [
    "goodsdic={\n",
    "    \"101\":(\"签字笔(黑)\",3.0),\"102\":(\"签字笔(红)\",3.0),\n",
    "    \"103\":(\"荧光笔\",10.0),\"104\":(\"铅笔\",2.0),\n",
    "    \"201\":(\"笔记本A4\",18.5),\"202\":(\"笔记本B5\",14.0),\n",
    "    \"203\":(\"练习本A4\",2.5),\"204\":(\"练习本B5\",2.0)}\n",
    "mycart={}\n",
    "while(True):\n",
    "    nid=input(\"请输入购买的商品编号(输入-1结账)：\")\n",
    "    if(nid==\"-1\"):\n",
    "        break\n",
    "    if(nid not in goodsdic):\n",
    "        print(\"该商品不存在，请重新输入！\")\n",
    "        continue\n",
    "    if(nid in mycart):\n",
    "        print(\"你已选购该商品，请选购新的商品!\")\n",
    "        continue\n",
    "    num=int(input(\"请输入购买数量:\"))\n",
    "    mycart[nid]=[goodsdic[nid][0],goodsdic[nid][1],num]\n",
    "print(\"{:<8}\\t{:<8}\\t{:<8}\\t{:<8}\\t{:<8}\".format(\"商品编号     \",\"商品名称    \",\"商品价格    \",\n",
    "\"商品数量    \",\"小计    \"),)\n",
    "summoney=0\n",
    "for goods in mycart:\n",
    "    money=mycart[goods][1]*mycart[goods][2]\n",
    "    summoney+=money\n",
    "    print(\"{0:{5}<6}\\t{1:{5}<8}\\t{2:<8}\\t{3:<8}\\t{4:<8}\".format(goods,mycart[goods][0],\n",
    "mycart[goods][1],mycart[goods][2],money,chr(12288)))\n",
    "#     <表示左对齐 6表示占6个字符 chr(12288)表示中文空格\n",
    "    print(\"购物车里商品的总价格为{}\".format(summoney))"
   ]
  },
  {
   "attachments": {},
   "cell_type": "markdown",
   "metadata": {},
   "source": [
    "## 5.6 总结与提高"
   ]
  },
  {
   "cell_type": "code",
   "execution_count": null,
   "metadata": {},
   "outputs": [],
   "source": []
  },
  {
   "attachments": {},
   "cell_type": "markdown",
   "metadata": {},
   "source": [
    "### 对字典的键排序\n",
    "* 可以用sorted()函数对字典的健排序\n",
    "* 如果对字符进行排序，sorted()方法是按照字符对应的Unicode编码大小进行排序的\n"
   ]
  },
  {
   "cell_type": "code",
   "execution_count": 10,
   "metadata": {},
   "outputs": [
    {
     "name": "stdout",
     "output_type": "stream",
     "text": [
      "按照字典健(国家)排序\n",
      "中国 122427.7\n",
      "加拿大 16403.9\n",
      "印度 24390.1\n",
      "巴西 20809.2\n",
      "德国 36518.7\n",
      "意大利 19211.4\n",
      "日本 48844.9\n",
      "法国 25748.1\n",
      "美国 193621.3\n",
      "英国 25650.5\n",
      "按照字典的值排序\n",
      "16403.9\n",
      "19211.4\n",
      "20809.2\n",
      "24390.1\n",
      "25650.5\n",
      "25748.1\n",
      "36518.7\n",
      "48844.9\n",
      "122427.7\n",
      "193621.3\n"
     ]
    }
   ],
   "source": [
    "gdpdict={\"美国\":193621.3,\n",
    "        \"加拿大\":16403.9,\n",
    "        \"意大利\":19211.4,\n",
    "        \"德国\":36518.7,\n",
    "         \"法国\":25748.1,\n",
    "         \"英国\":25650.5,\n",
    "         \"中国\":122427.7,\n",
    "         \"日本\":48844.9,\n",
    "         \"印度\":24390.1,\n",
    "         \"巴西\":20809.2\n",
    "        }\n",
    "print(\"按照字典健(国家)排序\")\n",
    "for key in sorted(gdpdict.keys()):\n",
    "    print(key,gdpdict[key])\n",
    "print(\"按照字典的值排序\")\n",
    "for v in sorted(gdpdict.values()):\n",
    "    print(v)"
   ]
  },
  {
   "attachments": {},
   "cell_type": "markdown",
   "metadata": {},
   "source": [
    "#### 列表对字符进行排序，是按照字符对应的Unicode编码大小进行排序的"
   ]
  },
  {
   "cell_type": "code",
   "execution_count": 3,
   "metadata": {},
   "outputs": [
    {
     "name": "stdout",
     "output_type": "stream",
     "text": [
      "20013\n",
      "21152\n",
      "21360\n",
      "24052\n",
      "24503\n",
      "24847\n",
      "27861\n",
      "32654\n",
      "33521\n"
     ]
    }
   ],
   "source": [
    "print(ord(\"中\"))\n",
    "print(ord(\"加\"))\n",
    "print(ord(\"印\"))\n",
    "print(ord(\"巴\"))\n",
    "print(ord(\"德\"))\n",
    "print(ord(\"意\"))\n",
    "print(ord(\"法\"))\n",
    "print(ord(\"美\"))\n",
    "print(ord(\"英\"))"
   ]
  },
  {
   "cell_type": "code",
   "execution_count": 4,
   "metadata": {},
   "outputs": [
    {
     "name": "stdout",
     "output_type": "stream",
     "text": [
      "97,90,119,67,81,98,116,['C', 'Q', 'Z', 'a', 'b', 't', 'w']\n"
     ]
    }
   ],
   "source": [
    "list3= ['a','Z','w','C','Q','b','t']\n",
    "for char in list3:\n",
    "    print(ord(char),end=\",\")\n",
    "\n",
    "list3.sort()\n",
    "print(list3)\n"
   ]
  },
  {
   "attachments": {},
   "cell_type": "markdown",
   "metadata": {},
   "source": [
    "### 用列表协助对字典的值排序\n"
   ]
  },
  {
   "cell_type": "code",
   "execution_count": 18,
   "metadata": {},
   "outputs": [
    {
     "name": "stdout",
     "output_type": "stream",
     "text": [
      "[('美国', 193621.3), ('加拿大', 16403.9), ('意大利', 19211.4), ('德国', 36518.7), ('法国', 25748.1), ('英国', 25650.5), ('中国', 122427.7), ('日本', 48844.9), ('印度', 24390.1), ('巴西', 20809.2)]\n",
      "默认方式排序\n",
      "[('中国', 122427.7), ('加拿大', 16403.9), ('印度', 24390.1), ('巴西', 20809.2), ('德国', 36518.7), ('意大利', 19211.4), ('日本', 48844.9), ('法国', 25748.1), ('美国', 193621.3), ('英国', 25650.5)]\n",
      "按照GDP数据排序\n",
      "[('加拿大', 16403.9), ('意大利', 19211.4), ('巴西', 20809.2), ('印度', 24390.1), ('英国', 25650.5), ('法国', 25748.1), ('德国', 36518.7), ('日本', 48844.9), ('中国', 122427.7), ('美国', 193621.3)]\n",
      "[('中国', 122427.7), ('加拿大', 16403.9), ('印度', 24390.1), ('巴西', 20809.2), ('德国', 36518.7), ('意大利', 19211.4), ('日本', 48844.9), ('法国', 25748.1), ('美国', 193621.3), ('英国', 25650.5)]\n"
     ]
    }
   ],
   "source": [
    "gdpdict={\"美国\":193621.3,\n",
    "        \"加拿大\":16403.9,\n",
    "        \"意大利\":19211.4,\n",
    "        \"德国\":36518.7,\n",
    "         \"法国\":25748.1,\n",
    "         \"英国\":25650.5,\n",
    "         \"中国\":122427.7,\n",
    "         \"日本\":48844.9,\n",
    "         \"印度\":24390.1,\n",
    "         \"巴西\":20809.2\n",
    "        }\n",
    "gdplist=list(gdpdict.items())\n",
    "print(gdplist)\n",
    "\n",
    "print(\"默认方式排序\")\n",
    "alist=sorted(gdplist)\n",
    "print(alist)\n",
    "print(\"按照GDP数据排序\")\n",
    "blist=sorted(gdplist,key=(lambda x:x[1]))\n",
    "print(blist)\n",
    "\n",
    "\n",
    "clist=sorted(gdplist,key=(lambda x:x[0]))\n",
    "print(clist)"
   ]
  },
  {
   "attachments": {},
   "cell_type": "markdown",
   "metadata": {},
   "source": [
    "### 使用lambda匿名函数"
   ]
  },
  {
   "attachments": {},
   "cell_type": "markdown",
   "metadata": {},
   "source": []
  },
  {
   "attachments": {},
   "cell_type": "markdown",
   "metadata": {},
   "source": [
    "#### sort()方法也可以实现对列表等数据类型排序\n",
    "sort()方法 和 sorted()函数区别：\n",
    ">* sort() 方法对列表进行原地排序，返回值是None\n",
    ">* sorted()函数 将返回一个新列表，原来列表的顺序没有发生改变\n"
   ]
  },
  {
   "cell_type": "code",
   "execution_count": 11,
   "metadata": {},
   "outputs": [
    {
     "name": "stdout",
     "output_type": "stream",
     "text": [
      "用sort()方法进行排序示例\n",
      "None\n",
      "[6, 7, 8, 9, 10]\n",
      "用sorted()函数进行排序示例\n",
      "[1, 2, 3, 4, 5]\n",
      "[1, 3, 5, 2, 4]\n"
     ]
    }
   ],
   "source": [
    "#用sort()方法排序\n",
    "print(\"用sort()方法进行排序示例\")\n",
    "list1 = [10,8,7,9,6]\n",
    "print(list1.sort())\n",
    "print(list1)\n",
    "\n",
    "#用sorted()函数进行排序\n",
    "print(\"用sorted()函数进行排序示例\")\n",
    "list2 = [1,3,5,2,4]\n",
    "print(sorted(list2))\n",
    "print(list2)"
   ]
  },
  {
   "attachments": {},
   "cell_type": "markdown",
   "metadata": {},
   "source": [
    "## 5.7 巩固与提高\n",
    "### 5.7.1 用户注册\n",
    "- 请编写程序，要求：输入用户注册信息（用户名和密码），用户名唯一，输入-1退出，然后显示所有注册信息。\n",
    "-  任务分析\n",
    "    - 用字典userdic存储用户的注册信息。\n",
    "    - 创建一个用户注册信息的字典userdic，将用户名作为键。\n",
    "    - 键盘输入要注册的用户名username。\n",
    "    - 设置while循环条件。\n",
    "    - 若字典中没有该用户名，则提示用户继续输入密码pwd。\n",
    "    - 若字典中有该用户名，则提示用户重新输入。\n",
    "    - 若键盘输入的是\"-1\"，则循环结束。\n",
    "    - 显示字典信息。\n"
   ]
  },
  {
   "cell_type": "code",
   "execution_count": null,
   "metadata": {},
   "outputs": [],
   "source": [
    "userdic={}\n",
    "while(1):\n",
    "    username=input(\"请输入注册用户名：\")\n",
    "    if(username=='-1'):\n",
    "        break\n",
    "    elif username not in userdic:\n",
    "        pwd=eval(input(\"请输入密码：\"))\n",
    "        userdic[username]=pwd\n",
    "    else:\n",
    "        print(\"请重新输入用户名\")\n",
    "print(userdic)"
   ]
  },
  {
   "attachments": {},
   "cell_type": "markdown",
   "metadata": {},
   "source": [
    "### 5.7.2 统计城市数量\n",
    "- 字典中的”省份-城市”定义如下:  \n",
    "{'山东':['济南','青岛','淄博','枣庄','东营','烟台','潍坊','济宁','泰安','威海','日照','莱芜',\n",
    "       '临沂','德州','聊城','滨州','菏泽'],\n",
    "'内蒙古':['呼和浩特','包头','乌海','赤峰','通辽','鄂尔多斯','呼伦贝尔','巴彦淖尔','乌兰察布',\n",
    "      '兴安盟','锡林郭勒盟','阿拉善盟','巴彦淖尔盟','乌兰察布盟'],\n",
    "'贵州':['贵阳','六盘水','遵义','安顺','铜仁地区','黔西南布依族苗族自治州','毕节地区',\n",
    "     '黔东南苗族侗族自治州','黔南布依族苗族自治州','黔南','黔东南','毕节','铜仁']}\n",
    "- 利用字典统计这三个省份的城市数量。\n",
    "- 任务分析\n",
    "    - 用字典dic存储 ”省份-城市”的信息。\n",
    "    - 创建一个存储 ”省份-城市”信息的字典dic，将省份名称作为键。\n",
    "    - 遍历字典dic的元素x。\n",
    "    - 在上述遍历中输出x的键和x的元素长度。"
   ]
  },
  {
   "cell_type": "code",
   "execution_count": null,
   "metadata": {
    "scrolled": true
   },
   "outputs": [],
   "source": [
    "dic={'山东':['济南','青岛','淄博','枣庄','东营','烟台','潍坊','济宁','泰安','威海','日照','莱芜',\n",
    " '临沂','德州','聊城','滨州','菏泽'],\n",
    "'内蒙古':['呼和浩特','包头','乌海','赤峰','通辽','鄂尔多斯','呼伦贝尔','巴彦淖尔','乌兰察布',\n",
    "'兴安盟','锡林郭勒盟','阿拉善盟','巴彦淖尔盟','乌兰察布盟'],\n",
    "'贵州':['贵阳','六盘水','遵义','安顺','铜仁地区','黔西南布依族苗族自治州','毕节地区', '黔东南苗族侗族自治州','黔南布依族苗族自治州','黔南','黔东南','毕节','铜仁']}\n",
    "for key,value in dic.items():\n",
    "    print(key+\":\",len(value))"
   ]
  },
  {
   "attachments": {},
   "cell_type": "markdown",
   "metadata": {},
   "source": [
    "### 5.7.3 点菜\n",
    "任务分析\n",
    "- 用字典menudic存储菜单信息。\n",
    "- 创建一个存储菜单信息的字典menudic，将菜单编号作为键。\n",
    "- 创建一个用户点菜信息的列表mymenulist，将菜单编号作为元素。\n",
    "- 键盘输入用户的点菜信息：菜单编号nid。\n",
    "- 设置while循环条件。\n",
    "- 若字典中没有该编号，则提示用户\"该菜单编号不存在，请重新输入\"。\n",
    "- 将编号nid存储到列表mymenulist。\n",
    "- 若键盘输入的是\"-1\"，则点菜结束。\n",
    "- 初始化总金额totalmoney。遍历字典，计算总金额。\n"
   ]
  },
  {
   "cell_type": "code",
   "execution_count": null,
   "metadata": {},
   "outputs": [],
   "source": [
    "menudic={\"101\":(\"鱼香肉丝\",38),\n",
    "        \"102\":(\"小炒肉\",32),\n",
    "        \"103\":(\"红烧鲈鱼\",48),\n",
    "        \"104\":(\"四喜丸子\",48),\n",
    "        \"201\":(\"红油鸡丝\",38),\n",
    "        \"202\":(\"凉拌土豆丝\",22),\n",
    "        \"203\":(\"芥末木耳\",25),\n",
    "        \"204\":(\"白灼青菜\",20)}\n",
    "nid=input(\"请输入菜品编号：\")\n",
    "mymenulist=[]\n",
    "while(nid !='-1'):\n",
    "    if nid not in menudic:\n",
    "        print(\"该菜单编号不存在，请重新输入\")\n",
    "    else:\n",
    "        mymenulist.append([nid,menudic[nid][0],menudic[nid][1]])\n",
    "    nid=input(\"请输入菜品编号：\")\n",
    "print(mymenulist)\n",
    "print(\"你的点菜情况如下：\")\n",
    "totalmoney=0\n",
    "for i in range(len(mymenulist)):\n",
    "    print((mymenulist[i])[1],end=\" \")\n",
    "    totalmoney+=(mymenulist[i])[2]\n",
    "print()\n",
    "print(\"总价格是{:6,.2f}\".format(totalmoney))"
   ]
  },
  {
   "attachments": {},
   "cell_type": "markdown",
   "metadata": {},
   "source": [
    "### 5.7.4 购物车项目的改进\n",
    "请增加购物车项目的修改和删除功能：\n",
    "- （1）输入商品编号\n",
    "- （2）若购物车中有该商品，则输入修改数量\n",
    "- （3）若修改数量为0，删除该商品，否则修改对应数量\n",
    "- （4）-1退出购物车\n",
    "- （5）显示购物车信息"
   ]
  },
  {
   "attachments": {},
   "cell_type": "markdown",
   "metadata": {},
   "source": [
    "任务分析  \n",
    "- 购物车程序，主要是数据的存储、购物流程的设计、购物金额的计算、以及购物信息的显示。可以将任务分解为以下步骤：\n",
    "- 创建一个存储商品信息的字典goodsdic，将商品编号作为键。\n",
    "- 创建一个存储购物车信息的字典mycart，将商品编号作为键。\n",
    "- 键盘输入用户要购买的商品编号nid。\n",
    "- 设置while循环条件。\n",
    "- 若商品字典中没有该商品，则提示用户\"该商品不存在，请重新输入\"。\n",
    "- 若购物车字典中没有该商品，则提示用户继续输入购买数量 num。将商品编号nid和购买数量 num存储到购物车字典。\n",
    "- 若购物车中有该商品，则提示用户已选购该商品以及购买数量，并请用户重新输入购买数量。\n",
    "- 若购买数量 num为0，删从购物车中除该商品。\n",
    "- 若购买数量 num大于0，将商品编号nid和购买数量 num存储到购物车字典。\n",
    "- 若键盘输入的是\"-1\"，则购物结束。\n",
    "- 初始化购物的总金额summoney。\n",
    "- 遍历购物车字典，计算购物的总金额。\n",
    "- 显示购物信息和总金额。\n"
   ]
  },
  {
   "cell_type": "code",
   "execution_count": 4,
   "metadata": {},
   "outputs": [
    {
     "name": "stdout",
     "output_type": "stream",
     "text": [
      "2\n",
      "不存在\n"
     ]
    }
   ],
   "source": [
    "goodsdic={\n",
    "    \"101\":(\"签字笔(黑)\",3.0),\"102\":(\"签字笔(红)\",3.0),\n",
    "    \"103\":(\"荧光笔\",10.0),\"104\":(\"铅笔\",2.0),\n",
    "    \"201\":(\"笔记本A4\",18.5),\"202\":(\"笔记本B5\",14.0),\n",
    "    \"203\":(\"练习本A4\",2.5),\"204\":(\"练习本B5\",2.0)}\n",
    "mycart={}\n",
    "while(True):\n",
    "    nid=input(\"请输入购买的商品编号(输入-1结账)：\")\n",
    "    if(nid==\"-1\"):\n",
    "        break\n",
    "    if(nid not in goodsdic):\n",
    "        print(\"该商品不存在，请重新输入！\")\n",
    "        continue\n",
    "    if(nid in mycart):\n",
    "        num=int(input(\"你已选购该商品，请输入修改数量：\"))\n",
    "        if num==0:\n",
    "            del mycart[nid]\n",
    "        else:\n",
    "            mycart[nid]=[goodsdic[nid][0],goodsdic[nid][1],num]     \n",
    "    else:\n",
    "        num=int(input(\"请输入购买数量:\"))\n",
    "        mycart[nid]=[goodsdic[nid][0],goodsdic[nid][1],num]\n",
    "print(\"{:<8}\\t{:<8}\\t{:<8}\\t{:<8}\\t{:<8}\".format(\"商品编号\",\"商品名称\",\"商品价格\",\"商品数量\",\"小计\"),)\n",
    "summoney=0\n",
    "for goods in mycart:\n",
    "    money=mycart[goods][1]*mycart[goods][2]\n",
    "    summoney+=money\n",
    "    print(\"{0:{5}<8}\\t{1:{5}<8}\\t{2:<8}\\t{3:<8}\\t{4:<8}\".format(goods,mycart[goods][0],mycart[goods][1],mycart[goods][2],money,chr(12288)))\n",
    "#  <表示左对齐 6表示占6个字符 chr(12288)表示中文空格\n",
    "print(\"购物车里商品的总价格为{}\".format(summoney))"
   ]
  },
  {
   "attachments": {},
   "cell_type": "markdown",
   "metadata": {},
   "source": [
    "## 5.8 集合\n",
    "集合（set）是一种可迭代的、无序的、不能包含重复元素的容器类 型的数据。\n",
    "### 5.8.1 组合数据类型\n",
    "Python组合数据类型包含了序列类型、字典类型和集合类型。Python的列表、元组和字符串都是序列类型。"
   ]
  },
  {
   "attachments": {},
   "cell_type": "markdown",
   "metadata": {},
   "source": [
    "### 5.8.2 集合\n",
    "\n",
    "- 集合类型与数学中集合的概念一致。是一组元素的集合，元素之间无序，每个元素都必须是独一无二的。\n",
    "- 集合没有索引和位置的概念，也不能分片。集合中元素可以增加或删除。\n",
    "- 集合用大括号表示，可以用赋值语句生成一个集合。\n",
    "- 例如：aset= {'apple', 'orange', 'apple', 'pear', 'orange', 'banana'}\n",
    "- 或者用函数set()创建集合。\n",
    "- 例如：bset = set()\n",
    "- 注意：创建一个空集合必须用set()，而不是{}，因为{}被用来创建一个空字典。\n",
    "<img src=\"img/5-set-1.png\" width=\"700\" height=\"700\" align=\"left\" />"
   ]
  },
  {
   "attachments": {},
   "cell_type": "markdown",
   "metadata": {},
   "source": [
    "#### 集合的特征"
   ]
  },
  {
   "cell_type": "code",
   "execution_count": null,
   "metadata": {},
   "outputs": [],
   "source": []
  },
  {
   "attachments": {},
   "cell_type": "markdown",
   "metadata": {},
   "source": [
    "#### 集合与列表"
   ]
  },
  {
   "cell_type": "code",
   "execution_count": null,
   "metadata": {},
   "outputs": [],
   "source": []
  },
  {
   "attachments": {},
   "cell_type": "markdown",
   "metadata": {},
   "source": [
    "#### 创建集合\n",
    "我们可以通过以下两种方式创建集合。 \n",
    "- 1 set（iterable）函数：参数iterable是可迭代对象（字符串、列表、 元组、集合和字典等）。   \n",
    "- 2 {元素1，元素2，元素3，⋯}：指定具体的集合元素，元素之间以 逗号分隔。对于集合元素，需要使用大括号括起来。  \n",
    "\n",
    "实例如下：\n",
    "- 怎么知道有多少支球队曾经获得过奥运会女排冠军？\n",
    "- 我们把球队放入集合中，定义一个集合teams，代码如下。  \n",
    "teams = {'日本','苏联','苏联','日本','苏联','中国','苏联',\n",
    "         '古巴','古巴','古巴','中国','巴西','巴西','中国',} \n",
    "print('有多少支曾经获得过奥运会女排冠军球队:',len(teams))  \n",
    "print(teams)  \n",
    "- 这是一个集合，按照集合的特性，会自动过滤掉了相同的数据，得到了不同的球队。"
   ]
  },
  {
   "cell_type": "code",
   "execution_count": null,
   "metadata": {},
   "outputs": [],
   "source": []
  },
  {
   "cell_type": "code",
   "execution_count": null,
   "metadata": {},
   "outputs": [],
   "source": []
  },
  {
   "cell_type": "code",
   "execution_count": 6,
   "metadata": {},
   "outputs": [
    {
     "name": "stdout",
     "output_type": "stream",
     "text": [
      "{('y', 2), ('x', 1)}\n"
     ]
    }
   ],
   "source": [
    "d1={\"x\":1,\"y\":2}\n",
    "print(set(d1.items()))"
   ]
  },
  {
   "attachments": {},
   "cell_type": "markdown",
   "metadata": {},
   "source": [
    "#### 增加集合元素\n",
    "add（elem）：添加元素，如果元素已经存在，则不能添加，不会 抛出错误。"
   ]
  },
  {
   "cell_type": "code",
   "execution_count": 10,
   "metadata": {},
   "outputs": [
    {
     "name": "stdout",
     "output_type": "stream",
     "text": [
      "None\n",
      "{1, 2, 3, 4, 5}\n"
     ]
    }
   ],
   "source": [
    "y={1,2,3,4,5}\n",
    "print(y.add(3))\n",
    "print(y)"
   ]
  },
  {
   "attachments": {},
   "cell_type": "markdown",
   "metadata": {},
   "source": [
    "#### 删除集合元素\n",
    "remove（elem）：删除元素，如果元素不存在，则抛出错误。   \n",
    "clear（）：清除集合。"
   ]
  },
  {
   "cell_type": "code",
   "execution_count": 13,
   "metadata": {},
   "outputs": [
    {
     "ename": "KeyError",
     "evalue": "7",
     "output_type": "error",
     "traceback": [
      "\u001b[1;31m---------------------------------------------------------------------------\u001b[0m",
      "\u001b[1;31mKeyError\u001b[0m                                  Traceback (most recent call last)",
      "\u001b[1;32m<ipython-input-13-1c4f99575db5>\u001b[0m in \u001b[0;36m<module>\u001b[1;34m\u001b[0m\n\u001b[0;32m      1\u001b[0m \u001b[0my\u001b[0m\u001b[1;33m=\u001b[0m\u001b[1;33m{\u001b[0m\u001b[1;36m1\u001b[0m\u001b[1;33m,\u001b[0m\u001b[1;36m2\u001b[0m\u001b[1;33m,\u001b[0m\u001b[1;36m3\u001b[0m\u001b[1;33m,\u001b[0m\u001b[1;36m4\u001b[0m\u001b[1;33m,\u001b[0m\u001b[1;36m5\u001b[0m\u001b[1;33m}\u001b[0m\u001b[1;33m\u001b[0m\u001b[1;33m\u001b[0m\u001b[0m\n\u001b[1;32m----> 2\u001b[1;33m \u001b[0mprint\u001b[0m\u001b[1;33m(\u001b[0m\u001b[0my\u001b[0m\u001b[1;33m.\u001b[0m\u001b[0mremove\u001b[0m\u001b[1;33m(\u001b[0m\u001b[1;36m7\u001b[0m\u001b[1;33m)\u001b[0m\u001b[1;33m)\u001b[0m\u001b[1;33m\u001b[0m\u001b[1;33m\u001b[0m\u001b[0m\n\u001b[0m",
      "\u001b[1;31mKeyError\u001b[0m: 7"
     ]
    }
   ],
   "source": [
    "y={1,2,3,4,5}\n",
    "print(y.remove(7))"
   ]
  },
  {
   "attachments": {},
   "cell_type": "markdown",
   "metadata": {},
   "source": [
    "#### 成员关系\n"
   ]
  },
  {
   "cell_type": "code",
   "execution_count": null,
   "metadata": {},
   "outputs": [],
   "source": []
  },
  {
   "attachments": {},
   "cell_type": "markdown",
   "metadata": {},
   "source": [
    "#### 集合的运算\n",
    "<img src=\"img/集合2.png\" width=\"500\" height=\"500\" align=\"left\" />"
   ]
  },
  {
   "cell_type": "code",
   "execution_count": 14,
   "metadata": {},
   "outputs": [],
   "source": [
    "x={1,2,3,4,5}\n",
    "y={1,2,3,6,7}\n"
   ]
  },
  {
   "attachments": {},
   "cell_type": "markdown",
   "metadata": {},
   "source": [
    "#### 集合的并集"
   ]
  },
  {
   "cell_type": "code",
   "execution_count": 15,
   "metadata": {},
   "outputs": [
    {
     "name": "stdout",
     "output_type": "stream",
     "text": [
      "并集： {1, 2, 3, 4, 5, 6, 7}\n"
     ]
    }
   ],
   "source": [
    "print(\"并集：\",x|y)"
   ]
  },
  {
   "attachments": {},
   "cell_type": "markdown",
   "metadata": {},
   "source": [
    "#### 集合的交集"
   ]
  },
  {
   "cell_type": "code",
   "execution_count": 16,
   "metadata": {},
   "outputs": [
    {
     "name": "stdout",
     "output_type": "stream",
     "text": [
      "并集： {1, 2, 3}\n"
     ]
    }
   ],
   "source": [
    "print(\"并集：\",x&y)"
   ]
  },
  {
   "attachments": {},
   "cell_type": "markdown",
   "metadata": {},
   "source": [
    "#### 集合的差集"
   ]
  },
  {
   "cell_type": "code",
   "execution_count": 17,
   "metadata": {},
   "outputs": [
    {
     "name": "stdout",
     "output_type": "stream",
     "text": [
      "并集： {4, 5}\n"
     ]
    }
   ],
   "source": [
    "print(\"并集：\",x-y)"
   ]
  },
  {
   "attachments": {},
   "cell_type": "markdown",
   "metadata": {},
   "source": [
    "#### 复合数据类型（容器类型）的总结\n",
    "<img src=\"img/5-types.png\" width=\"700\" height=\"600\" align=\"left\" />\n"
   ]
  },
  {
   "attachments": {},
   "cell_type": "markdown",
   "metadata": {},
   "source": [
    "## 5.9 课堂练习之创建集合\n",
    "- 1．使用一个集合来存储学生的兴趣爱好Hobbies。输出集合信息。\n",
    "- 2．使用一个字典来存储学生的信息，包括姓名、出生日期和兴趣爱好。\n",
    "- 3．输出集合信息Hobbies，在每一项集合信息后面，输出拥有该项信息的学生姓名和出生日期。"
   ]
  },
  {
   "cell_type": "code",
   "execution_count": 78,
   "metadata": {},
   "outputs": [
    {
     "name": "stdout",
     "output_type": "stream",
     "text": [
      "跳：luxy 1990 | \n",
      "------------------------\n",
      "吃：\n",
      "------------------------\n",
      "唱：jason 2000 | jay 2001 | \n",
      "------------------------\n"
     ]
    }
   ],
   "source": [
    "hobbies=set((\"唱\",\"跳\",\"吃\"))\n",
    "info={\"jason\":[2000,\"唱\"],\"luxy\":[1990,\"跳\"],\"jay\":[2001,\"唱\"]}\n",
    "for j in hobbies:\n",
    "    print(j,end=\"：\")\n",
    "    for i,k in info.items():\n",
    "        if j==k[1]:\n",
    "            print(i,k[0],'| ',end=\"\")\n",
    "    print('\\n------------------------')"
   ]
  }
 ],
 "metadata": {
  "hide_input": false,
  "kernelspec": {
   "display_name": "Python 3",
   "language": "python",
   "name": "python3"
  },
  "language_info": {
   "codemirror_mode": {
    "name": "ipython",
    "version": 3
   },
   "file_extension": ".py",
   "mimetype": "text/x-python",
   "name": "python",
   "nbconvert_exporter": "python",
   "pygments_lexer": "ipython3",
   "version": "3.8.8"
  },
  "toc": {
   "base_numbering": 1,
   "nav_menu": {},
   "number_sections": false,
   "sideBar": false,
   "skip_h1_title": false,
   "title_cell": "Table of Contents",
   "title_sidebar": "Contents",
   "toc_cell": false,
   "toc_position": {},
   "toc_section_display": false,
   "toc_window_display": false
  }
 },
 "nbformat": 4,
 "nbformat_minor": 2
}
