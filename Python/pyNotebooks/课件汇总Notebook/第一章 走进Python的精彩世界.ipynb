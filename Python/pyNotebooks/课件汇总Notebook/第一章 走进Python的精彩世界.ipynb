{
 "cells": [
  {
   "cell_type": "markdown",
   "metadata": {},
   "source": [
    "# 第一章 走进Python的精彩世界"
   ]
  },
  {
   "cell_type": "markdown",
   "metadata": {},
   "source": [
    "## 1.1 Python语言介绍"
   ]
  },
  {
   "cell_type": "markdown",
   "metadata": {},
   "source": [
    "### Python语言的概述\n",
    "- 编程语言排行榜（TIOBE-2022年8月）\n",
    "![](img/tiobe_rank.png)\n",
    "\n",
    "- 编程语言流行度（IEEE SPECTRUM 2021）\n",
    "![](img/ieee.png)\n",
    "\n",
    "近日，IEEE Spectrum发布了2020年的IEEE Spectrum编程语言排行榜。\n",
    "\n",
    "Python连续第四年夺冠。Java和C语言分列第二和第三。\n",
    "\n",
    "为了进行编程语言流行度的分析，IEEE Spectrum编程语言排行榜综合了八个来源的11个指标，通过加权和组合来进行排行的。\n",
    "\n",
    "这八个来源分别是CareerBuilder，GitHub，Google，Hacker News，IEEE，Reddit，Stack Overflow和Twitter。\n",
    "\n",
    "其11个指标分别是：\n",
    "\n",
    "1. 谷歌搜索的每种语言的点击次数。\n",
    "\n",
    "2. 谷歌趋势报告每种语言的索引。\n",
    "\n",
    "3. 推特上每种语言的点击次数。\n",
    "\n",
    "4. GitHub每种语言创建的新存储库数量。\n",
    "\n",
    "5. GitHub每种语言的活动存储库数量。\n",
    "\n",
    "6. Stack Overflow提及的每种语言的问题数量。\n",
    "\n",
    "7. Reddit的所有subreddit上测量了提及每种语言的帖子数。\n",
    "\n",
    "8. Hacker News提及每种语言的帖子数量。\n",
    "\n",
    "9. CareerBuilder上提及该语言的新职位空缺（少于30天的职位）的数量。\n",
    "\n",
    "10. IEEE求职站点上对不同编程语言的需求数量。\n",
    "\n",
    "11. IEEE Xplore数字图书馆提及的每种语言的文章数量。\n",
    "\n",
    "上述数值均为1年时间内的数值。\n",
    "\n",
    "与其它榜单不同的是，IEEE Spectrum编程语言排行榜可以让用户自己选择各个加权和组合的权重，来得到多种多样的排序结果。"
   ]
  },
  {
   "cell_type": "markdown",
   "metadata": {},
   "source": [
    "### Python语言的诞生\n",
    "Guido van Rossum，Python语言之父，Python名字的由来:<span class=\"burk\">Monty Python</span>喜剧团体\n",
    "![](img/guido.png)  \n",
    "1.1989年的圣诞节期间，吉多*范罗苏姆为了在阿姆斯特丹打发时间，决心开发一个新的解释程序，作为ABC语言的一种继承。\n",
    "\n",
    "2.ABC是由吉多参加设计的一种教学语言，就吉多本人看来，ABC这种语言非常优美和强大，是专门为非专业程序员设计的。但是ABC语言并没有成功，\n",
    "究其原因，吉多认为是非开发造成的。吉多决心在Python中避免这一错误，并获取了非常好的效果。\n",
    "\n",
    "3.之所以选中Python（蟒蛇）作为程序的名字，是因为他是BBC电视剧--蒙提*派森的飞行马戏团（Monty Python’s Flying Circus）的爱好者。  \n",
    "![](img/蟒蛇.png)\n",
    "\n",
    "4.1991年，第一个Python解释器诞生，它是用C语言实现的，并能够调用C语言的库文件。  \n",
    "![](img/Python历史.png)"
   ]
  },
  {
   "cell_type": "markdown",
   "metadata": {},
   "source": [
    "### Python语言的设计目标\n",
    "1.一门简单直观的语言并与主要竞争者一样强大  \n",
    "2.开源，以便任何人都可以为它做贡献  　　　\n",
    "3.代码像纯英语那样容易理解  \n",
    "4.适用于短期开发的日常任务  \n",
    "\n",
    "### Python语言的哲学\n",
    "![](img/py.png)\n",
    "\n",
    "\n",
    "同一样问题，用不同的语言解决，代码量差距还是很多的，一般情况下Python是Java的1/5，所以说:**人生苦短，我用Python。**"
   ]
  },
  {
   "cell_type": "markdown",
   "metadata": {},
   "source": [
    "### Python的优点\n",
    "- 简单、易学\n",
    "- 免费、开源\n",
    "- 面向对象\n",
    "- **丰富的库**\n",
    "- 可扩展性\n",
    "\n",
    "### Python2和Python3"
   ]
  },
  {
   "cell_type": "markdown",
   "metadata": {},
   "source": [
    "## 1.2 编程环境"
   ]
  },
  {
   "cell_type": "markdown",
   "metadata": {},
   "source": [
    "### 程序的编写和运行环境"
   ]
  },
  {
   "cell_type": "code",
   "execution_count": 1,
   "metadata": {},
   "outputs": [
    {
     "name": "stdout",
     "output_type": "stream",
     "text": [
      "结果是： 55\n"
     ]
    }
   ],
   "source": [
    "# 一段代码\n",
    "n = 10\n",
    "s = 0\n",
    "for i in range(1, n+1):\n",
    "    s += i\n",
    "print(\"结果是：\", s)"
   ]
  },
  {
   "cell_type": "markdown",
   "metadata": {},
   "source": [
    "- 演示代码在交互环境运行（单句执行）：命令行\n",
    "- 演示文本编辑器编辑程序，并用Python解释器执行\n",
    "- 演示代码在集成环境（IDE）中运行：VS Code或PyCharm\n",
    "- 演示代码在Jupyter notebook中运行：推荐的方式"
   ]
  },
  {
   "cell_type": "markdown",
   "metadata": {},
   "source": [
    "### Jupyter notebook的介绍\n",
    "- 文字和代码共同展现\n",
    "- 代码和结果共同展现\n",
    "- 代码即文档和笔记\n",
    "- 数据科学的最佳搭档\n",
    "- 文学编程"
   ]
  },
  {
   "cell_type": "markdown",
   "metadata": {},
   "source": [
    "## 1.3 Python程序"
   ]
  },
  {
   "cell_type": "code",
   "execution_count": 2,
   "metadata": {},
   "outputs": [
    {
     "name": "stdout",
     "output_type": "stream",
     "text": [
      "请输入英寸数：24\n",
      "24 inch = 60.96 cm\n"
     ]
    }
   ],
   "source": [
    "# 第一个程序\n",
    "inchStr = input(\"请输入英寸数：\")\n",
    "# 1英寸=2.54厘米\n",
    "cm = eval(inchStr) * 2.54\n",
    "print(\"{} inch = {} cm\".format(inchStr, cm))"
   ]
  },
  {
   "cell_type": "markdown",
   "metadata": {},
   "source": [
    "## 1.4 实战演练 \n",
    "摄氏温bai度与华氏温度的关系式  \n",
    ">华氏度 = 32°F（华氏温标单位）+ 摄氏度 × 1.8  \n",
    ">摄氏度 = (华氏度 - 32°F) ÷ 1.8\n",
    "\n",
    "- 华氏温标：dao华伦海特把冰、水、氯化铵和氯化钠的混合物的熔点定为零度，以0°F表示之，把冰的熔点定为32°F，把水的沸点定为212°F，在32→212的间隔内均分180等分，这样，参考点就有了较为准确的客观依据。这就是现在仍在许多国家使用的华氏温标，华氏温标确定之后，就有了华氏温度(指示数)。\n",
    "\n",
    "- 摄氏温标：摄耳修司( A·Celsiua)用水银作测温质，以冰的熔点为零度(标以0℃)，以水的沸点为100度(标以100℃)。他认定水银柱的长度随温度作线性变化，在0度和100度之间均分成100等份，每一份也就是每一个单位叫1摄氏度。这种规定办法就叫摄氏温标。"
   ]
  },
  {
   "cell_type": "code",
   "execution_count": null,
   "metadata": {},
   "outputs": [],
   "source": [
    "# 实战演练：上网找出华氏温度和摄氏温度的关系。从键盘输入华氏温度，转换输出摄氏温度\n"
   ]
  },
  {
   "cell_type": "markdown",
   "metadata": {},
   "source": [
    "## 1.5 演示一个爬虫"
   ]
  },
  {
   "cell_type": "code",
   "execution_count": 10,
   "metadata": {},
   "outputs": [
    {
     "data": {
      "text/html": [
       "<div>\n",
       "<style scoped>\n",
       "    .dataframe tbody tr th:only-of-type {\n",
       "        vertical-align: middle;\n",
       "    }\n",
       "\n",
       "    .dataframe tbody tr th {\n",
       "        vertical-align: top;\n",
       "    }\n",
       "\n",
       "    .dataframe thead th {\n",
       "        text-align: right;\n",
       "    }\n",
       "</style>\n",
       "<table border=\"1\" class=\"dataframe\">\n",
       "  <thead>\n",
       "    <tr style=\"text-align: right;\">\n",
       "      <th></th>\n",
       "      <th>电影名称</th>\n",
       "      <th>评分</th>\n",
       "      <th>评价人数</th>\n",
       "    </tr>\n",
       "  </thead>\n",
       "  <tbody>\n",
       "    <tr>\n",
       "      <th>0</th>\n",
       "      <td>肖申克的救赎</td>\n",
       "      <td>9.7</td>\n",
       "      <td>2115000</td>\n",
       "    </tr>\n",
       "    <tr>\n",
       "      <th>1</th>\n",
       "      <td>霸王别姬</td>\n",
       "      <td>9.6</td>\n",
       "      <td>1567370</td>\n",
       "    </tr>\n",
       "    <tr>\n",
       "      <th>2</th>\n",
       "      <td>阿甘正传</td>\n",
       "      <td>9.5</td>\n",
       "      <td>1597344</td>\n",
       "    </tr>\n",
       "    <tr>\n",
       "      <th>3</th>\n",
       "      <td>这个杀手不太冷</td>\n",
       "      <td>9.4</td>\n",
       "      <td>1785061</td>\n",
       "    </tr>\n",
       "    <tr>\n",
       "      <th>4</th>\n",
       "      <td>泰坦尼克号</td>\n",
       "      <td>9.4</td>\n",
       "      <td>1550143</td>\n",
       "    </tr>\n",
       "    <tr>\n",
       "      <th>5</th>\n",
       "      <td>美丽人生</td>\n",
       "      <td>9.5</td>\n",
       "      <td>996330</td>\n",
       "    </tr>\n",
       "    <tr>\n",
       "      <th>6</th>\n",
       "      <td>千与千寻</td>\n",
       "      <td>9.4</td>\n",
       "      <td>1661776</td>\n",
       "    </tr>\n",
       "    <tr>\n",
       "      <th>7</th>\n",
       "      <td>辛德勒的名单</td>\n",
       "      <td>9.5</td>\n",
       "      <td>812636</td>\n",
       "    </tr>\n",
       "    <tr>\n",
       "      <th>8</th>\n",
       "      <td>盗梦空间</td>\n",
       "      <td>9.3</td>\n",
       "      <td>1523728</td>\n",
       "    </tr>\n",
       "    <tr>\n",
       "      <th>9</th>\n",
       "      <td>忠犬八公的故事</td>\n",
       "      <td>9.4</td>\n",
       "      <td>1060169</td>\n",
       "    </tr>\n",
       "    <tr>\n",
       "      <th>10</th>\n",
       "      <td>海上钢琴师</td>\n",
       "      <td>9.3</td>\n",
       "      <td>1269278</td>\n",
       "    </tr>\n",
       "    <tr>\n",
       "      <th>11</th>\n",
       "      <td>楚门的世界</td>\n",
       "      <td>9.3</td>\n",
       "      <td>1144506</td>\n",
       "    </tr>\n",
       "    <tr>\n",
       "      <th>12</th>\n",
       "      <td>星际穿越</td>\n",
       "      <td>9.3</td>\n",
       "      <td>1203096</td>\n",
       "    </tr>\n",
       "    <tr>\n",
       "      <th>13</th>\n",
       "      <td>三傻大闹宝莱坞</td>\n",
       "      <td>9.2</td>\n",
       "      <td>1413475</td>\n",
       "    </tr>\n",
       "    <tr>\n",
       "      <th>14</th>\n",
       "      <td>机器人总动员</td>\n",
       "      <td>9.3</td>\n",
       "      <td>1000428</td>\n",
       "    </tr>\n",
       "    <tr>\n",
       "      <th>15</th>\n",
       "      <td>放牛班的春天</td>\n",
       "      <td>9.3</td>\n",
       "      <td>983489</td>\n",
       "    </tr>\n",
       "    <tr>\n",
       "      <th>16</th>\n",
       "      <td>大话西游之大圣娶亲</td>\n",
       "      <td>9.2</td>\n",
       "      <td>1124209</td>\n",
       "    </tr>\n",
       "    <tr>\n",
       "      <th>17</th>\n",
       "      <td>熔炉</td>\n",
       "      <td>9.3</td>\n",
       "      <td>690229</td>\n",
       "    </tr>\n",
       "    <tr>\n",
       "      <th>18</th>\n",
       "      <td>疯狂动物城</td>\n",
       "      <td>9.2</td>\n",
       "      <td>1350315</td>\n",
       "    </tr>\n",
       "    <tr>\n",
       "      <th>19</th>\n",
       "      <td>无间道</td>\n",
       "      <td>9.2</td>\n",
       "      <td>915385</td>\n",
       "    </tr>\n",
       "    <tr>\n",
       "      <th>20</th>\n",
       "      <td>龙猫</td>\n",
       "      <td>9.2</td>\n",
       "      <td>944846</td>\n",
       "    </tr>\n",
       "    <tr>\n",
       "      <th>21</th>\n",
       "      <td>教父</td>\n",
       "      <td>9.3</td>\n",
       "      <td>690415</td>\n",
       "    </tr>\n",
       "    <tr>\n",
       "      <th>22</th>\n",
       "      <td>当幸福来敲门</td>\n",
       "      <td>9.1</td>\n",
       "      <td>1138850</td>\n",
       "    </tr>\n",
       "    <tr>\n",
       "      <th>23</th>\n",
       "      <td>怦然心动</td>\n",
       "      <td>9.1</td>\n",
       "      <td>1320563</td>\n",
       "    </tr>\n",
       "    <tr>\n",
       "      <th>24</th>\n",
       "      <td>触不可及</td>\n",
       "      <td>9.2</td>\n",
       "      <td>736096</td>\n",
       "    </tr>\n",
       "  </tbody>\n",
       "</table>\n",
       "</div>"
      ],
      "text/plain": [
       "         电影名称   评分     评价人数\n",
       "0      肖申克的救赎  9.7  2115000\n",
       "1        霸王别姬  9.6  1567370\n",
       "2        阿甘正传  9.5  1597344\n",
       "3     这个杀手不太冷  9.4  1785061\n",
       "4       泰坦尼克号  9.4  1550143\n",
       "5        美丽人生  9.5   996330\n",
       "6        千与千寻  9.4  1661776\n",
       "7      辛德勒的名单  9.5   812636\n",
       "8        盗梦空间  9.3  1523728\n",
       "9     忠犬八公的故事  9.4  1060169\n",
       "10      海上钢琴师  9.3  1269278\n",
       "11      楚门的世界  9.3  1144506\n",
       "12       星际穿越  9.3  1203096\n",
       "13    三傻大闹宝莱坞  9.2  1413475\n",
       "14     机器人总动员  9.3  1000428\n",
       "15     放牛班的春天  9.3   983489\n",
       "16  大话西游之大圣娶亲  9.2  1124209\n",
       "17         熔炉  9.3   690229\n",
       "18      疯狂动物城  9.2  1350315\n",
       "19        无间道  9.2   915385\n",
       "20         龙猫  9.2   944846\n",
       "21         教父  9.3   690415\n",
       "22     当幸福来敲门  9.1  1138850\n",
       "23       怦然心动  9.1  1320563\n",
       "24       触不可及  9.2   736096"
      ]
     },
     "execution_count": 10,
     "metadata": {},
     "output_type": "execute_result"
    }
   ],
   "source": [
    "import re\n",
    "import requests\n",
    "from bs4 import BeautifulSoup\n",
    "import pandas as pd\n",
    "\n",
    "headers={'User-Agent': 'Mozilla/5.0 (Windows NT 6.1; Win64; x64) AppleWebKit/537.36 (KHTML, like Gecko) Chrome/79.0.3945.88 Safari/537.36'}\n",
    "contents = ''\n",
    "for i in range(10):\n",
    "    url = 'https://movie.douban.com/top250?start=' + str(i*25) + '&filter='\n",
    "    page = requests.get(url, headers=headers)\n",
    "    page.raise_for_status()\n",
    "    page.encoding = page.apparent_encoding\n",
    "    contents += page.text\n",
    "soup = BeautifulSoup(contents, \"lxml\")\n",
    "\n",
    "#电影中文名\n",
    "names = []\n",
    "for tag in soup.find_all(attrs={'class':'title'}):\n",
    "    if not tag.get_text().startswith(u'\\xa0/\\xa0'):\n",
    "        names.append(tag.get_text())\n",
    "\n",
    "#电影评分\n",
    "scores = []\n",
    "for tag in soup.find_all(attrs={'class':'rating_num'}):\n",
    "    scores.append(float(tag.get_text()))\n",
    "\n",
    "#评价人数\n",
    "rates = []\n",
    "for tag in soup.find_all(attrs={'class':'star'}):\n",
    "    rtag = tag.find_all('span')[-1]\n",
    "    rates.append(int(rtag.string[:-3]))\n",
    "#print(len(rates))\n",
    "\n",
    "df = pd.DataFrame({'电影名称':names,'评分':scores,'评价人数':rates})\n",
    "df"
   ]
  },
  {
   "cell_type": "code",
   "execution_count": null,
   "metadata": {},
   "outputs": [],
   "source": []
  }
 ],
 "metadata": {
  "kernelspec": {
   "display_name": "Python 3",
   "language": "python",
   "name": "python3"
  },
  "language_info": {
   "codemirror_mode": {
    "name": "ipython",
    "version": 3
   },
   "file_extension": ".py",
   "mimetype": "text/x-python",
   "name": "python",
   "nbconvert_exporter": "python",
   "pygments_lexer": "ipython3",
   "version": "3.8.8"
  },
  "toc": {
   "base_numbering": 1,
   "nav_menu": {},
   "number_sections": false,
   "sideBar": false,
   "skip_h1_title": false,
   "title_cell": "Table of Contents",
   "title_sidebar": "Contents",
   "toc_cell": false,
   "toc_position": {},
   "toc_section_display": false,
   "toc_window_display": false
  },
  "vscode": {
   "interpreter": {
    "hash": "287ce0282b01c1888cda87edf8a6ea705b55de1d257c8ee64a27122feab8970f"
   }
  }
 },
 "nbformat": 4,
 "nbformat_minor": 2
}
