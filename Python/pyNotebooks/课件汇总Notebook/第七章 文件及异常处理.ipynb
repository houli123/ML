{
 "cells": [
  {
   "cell_type": "markdown",
   "metadata": {},
   "source": [
    "# 第七章 文件及异常处理\n",
    "## 7.1 学生成绩处理与批量修改"
   ]
  },
  {
   "cell_type": "code",
   "execution_count": null,
   "metadata": {},
   "outputs": [],
   "source": []
  },
  {
   "cell_type": "markdown",
   "metadata": {},
   "source": [
    "## 7.2 预备知识--文件操作与openpyxl库\n",
    "### 7.2.1 文件"
   ]
  },
  {
   "attachments": {},
   "cell_type": "markdown",
   "metadata": {},
   "source": [
    "- 文件可分为文本文件和二进制文件两大类\n",
    "- 文本文件：由若干行以特定编码存储的字符组成，常见编码形式有ASCII编码，UNICODE编码等等。通常每行以换行符“\\n”结尾。在Windows系统中，扩展名为txt、log、ini、py的文件都属于文本文件。可用记事本之类的文本编辑器进行编辑。\n",
    "- 二进制文件：除文本文件以外的文件都可以称为二进制文件，其信息以字节串形式存储，不能用记事本或普通文字处理软件编辑，打开会是乱码，需使用相关软件进行解码后读取。常见的如各类office文档、音视频文件、可执行文件、图形图像文件等。\n"
   ]
  },
  {
   "cell_type": "markdown",
   "metadata": {},
   "source": [
    "### 7.2.2 文件常用操作\n",
    "#### 文件的打开\n",
    "我们在使用文件之前要先将文件打开，这通过open（）函数实现。   \n",
    "open（）函数的语法如下：   \n",
    "![](img/7-file.png)\n",
    "open（）函数中的参数还有很多，这里介绍4个常用参数，这些参数的含义如下。   \n",
    "- 1.file参数 file参数用于表示要打开的文件，可以是字符串或整数。如果file是 字符串，则表示文件名，文件名既可以是当前目录的相对路径，也可以 是绝对路径；如果file是整数，则表示一个已经打开的文件。   \n",
    "- 2.mode参数 mode参数用于设置文件打开模式，用字符串表示，例如rb表示以只 读模式打开二进制文件。用于设置文件打开模式的字符串中的每一个字 符都表示不同的含义，对这些字符的具体说明如下。 \n",
    "    - t：以文本文件模式打开文件。   \n",
    "    - b：以二进制文件模式打开文件。   \n",
    "    - r：以只读模式打开文件。  \n",
    "    - w：以只写模式打开文件，不能读内容。如果文件不存在，则创建 文件；如果文件存在，则覆盖文件的内容。   \n",
    "    - x：以独占创建模式打开文件，如果文件不存在，则创建并以写入模式打开；如果文件已存在，则引发FileExistsError异常。   \n",
    "    - a：以追加模式打开文件，不能读内容。如果文件不存在，则创建文件；如果文件存在，则在文件末尾追加。   \n",
    "    - +：以更新（读写）模式打开文件，必须与r、w或a组合使用，才能设置文件为读写模式。 这些字符可以进行组合，以表示不同类型的文件的打开模式，如下表所示。  \n",
    "![](img/7-file-1.png)\n",
    "\n",
    "- 3.encoding参数 encoding用来指定打开文件时的文件编码，默认是UTF-8编码，主要用于打开文本文件。   \n",
    "- 4.errors参数 errors参数用来指定在文本文件发生编码错误时如何处理。推荐erro rs参数的取值为'ignore'，表示在遇到编码错误时忽略该错误，程序会继 续执行，不会退出。\n"
   ]
  },
  {
   "cell_type": "code",
   "execution_count": null,
   "metadata": {},
   "outputs": [],
   "source": []
  },
  {
   "cell_type": "markdown",
   "metadata": {},
   "source": [
    "#### 文件的关闭\n",
    "在打开文件后，如果不再使用该文件，则应该将其关闭，会用到cl ose（）方法。"
   ]
  },
  {
   "cell_type": "code",
   "execution_count": null,
   "metadata": {},
   "outputs": [],
   "source": []
  },
  {
   "cell_type": "markdown",
   "metadata": {},
   "source": [
    "#### 文件的读写\n",
    "读写文本文件的相关方法如下。 \n",
    "- read（size=-1）：从文件中读取字符串，size限制读取的字符数，size=-1指对读取的字符数没有限制。   - readline（size=-1）：在读取到换行符或文件尾时返回单行字符串 。如果已经到文件尾，则返回一个空字符串。size是限制读取的字符数 ，size=-1表示没有限制。   \n",
    "- readlines（）：读取文件数据到一个字符串列表中，每一行数据都是列表的一个元素。   \n",
    "- write（s）：将字符串s写入文件中，并返回写入的字符数。   \n",
    "- writelines（lines）：向文件中写入一个字符串列表。不添加行分隔符，因此通常为每一行末尾都提供行分隔符。   \n",
    "- flush（）：刷新写缓冲区，在文件没有关闭的情况下将数据写入文件中。"
   ]
  },
  {
   "cell_type": "code",
   "execution_count": null,
   "metadata": {},
   "outputs": [],
   "source": []
  },
  {
   "cell_type": "markdown",
   "metadata": {},
   "source": [
    "#### with语句\n",
    "![](img/7-file-2.png)"
   ]
  },
  {
   "cell_type": "code",
   "execution_count": null,
   "metadata": {},
   "outputs": [],
   "source": []
  },
  {
   "cell_type": "markdown",
   "metadata": {},
   "source": [
    "### 7.2.3 openpyxl库常用方法\n",
    "#### 创建Excel文件"
   ]
  },
  {
   "cell_type": "code",
   "execution_count": null,
   "metadata": {},
   "outputs": [],
   "source": []
  },
  {
   "cell_type": "markdown",
   "metadata": {},
   "source": [
    "#### append函数"
   ]
  },
  {
   "cell_type": "code",
   "execution_count": null,
   "metadata": {},
   "outputs": [],
   "source": []
  },
  {
   "cell_type": "markdown",
   "metadata": {},
   "source": [
    "#### 保存文件"
   ]
  },
  {
   "cell_type": "code",
   "execution_count": null,
   "metadata": {},
   "outputs": [],
   "source": []
  },
  {
   "cell_type": "markdown",
   "metadata": {},
   "source": [
    "#### 读写Excel文件"
   ]
  },
  {
   "cell_type": "code",
   "execution_count": null,
   "metadata": {},
   "outputs": [],
   "source": []
  },
  {
   "cell_type": "markdown",
   "metadata": {},
   "source": [
    "#### 获取单元格内容"
   ]
  },
  {
   "cell_type": "code",
   "execution_count": null,
   "metadata": {},
   "outputs": [],
   "source": []
  },
  {
   "cell_type": "markdown",
   "metadata": {},
   "source": [
    "#### 单元格赋值"
   ]
  },
  {
   "cell_type": "code",
   "execution_count": null,
   "metadata": {},
   "outputs": [],
   "source": []
  },
  {
   "cell_type": "markdown",
   "metadata": {},
   "source": [
    "#### 获取行和列"
   ]
  },
  {
   "cell_type": "code",
   "execution_count": null,
   "metadata": {},
   "outputs": [],
   "source": []
  },
  {
   "cell_type": "markdown",
   "metadata": {},
   "source": [
    "#### 获取所有单元格"
   ]
  },
  {
   "cell_type": "code",
   "execution_count": null,
   "metadata": {},
   "outputs": [],
   "source": []
  },
  {
   "cell_type": "markdown",
   "metadata": {},
   "source": [
    "### 7.2.4 os库常用方法"
   ]
  },
  {
   "cell_type": "code",
   "execution_count": null,
   "metadata": {},
   "outputs": [],
   "source": []
  },
  {
   "cell_type": "markdown",
   "metadata": {},
   "source": [
    "## 7.3 任务分析\n",
    "### 7.3.1任务分析--单个文件格式转换"
   ]
  },
  {
   "cell_type": "code",
   "execution_count": null,
   "metadata": {},
   "outputs": [],
   "source": []
  },
  {
   "cell_type": "markdown",
   "metadata": {},
   "source": [
    "### 7.3.2 任务分析--批量文件格式转换"
   ]
  },
  {
   "cell_type": "code",
   "execution_count": null,
   "metadata": {},
   "outputs": [],
   "source": []
  },
  {
   "cell_type": "markdown",
   "metadata": {},
   "source": [
    "### 7.3.3 任务分析--单个文件内容修改"
   ]
  },
  {
   "cell_type": "code",
   "execution_count": null,
   "metadata": {},
   "outputs": [],
   "source": []
  },
  {
   "cell_type": "markdown",
   "metadata": {},
   "source": [
    "### 7.3.4 任务分析--批量文件内容修改"
   ]
  },
  {
   "cell_type": "code",
   "execution_count": null,
   "metadata": {},
   "outputs": [],
   "source": []
  },
  {
   "cell_type": "markdown",
   "metadata": {},
   "source": [
    "## 7.4 任务实现\n",
    "#### 单个文件格式转换"
   ]
  },
  {
   "cell_type": "code",
   "execution_count": null,
   "metadata": {},
   "outputs": [],
   "source": []
  },
  {
   "cell_type": "markdown",
   "metadata": {},
   "source": [
    "#### 批量文件格式转换"
   ]
  },
  {
   "cell_type": "code",
   "execution_count": null,
   "metadata": {},
   "outputs": [],
   "source": []
  },
  {
   "cell_type": "markdown",
   "metadata": {},
   "source": [
    "#### 单个文件内容修改"
   ]
  },
  {
   "cell_type": "code",
   "execution_count": null,
   "metadata": {},
   "outputs": [],
   "source": []
  },
  {
   "cell_type": "markdown",
   "metadata": {},
   "source": [
    "#### 批量文件内容修改"
   ]
  },
  {
   "cell_type": "code",
   "execution_count": null,
   "metadata": {},
   "outputs": [],
   "source": []
  },
  {
   "cell_type": "markdown",
   "metadata": {},
   "source": [
    "## 7.5 学生成绩文件异常处理"
   ]
  },
  {
   "cell_type": "code",
   "execution_count": null,
   "metadata": {},
   "outputs": [],
   "source": []
  },
  {
   "cell_type": "markdown",
   "metadata": {},
   "source": [
    "## 7.6 预备知识--异常\n",
    "为增强程序的健壮性，我们也需要考虑异常处理方面的内容。例如 ，在读取文件时需要考虑文件不存在、文件格式不正确等异常情况。\n",
    "### 7.6.1 异常"
   ]
  },
  {
   "cell_type": "code",
   "execution_count": null,
   "metadata": {},
   "outputs": [],
   "source": []
  },
  {
   "cell_type": "markdown",
   "metadata": {},
   "source": [
    "#### 除零异常\n",
    "![](img/7-exception.png)"
   ]
  },
  {
   "cell_type": "code",
   "execution_count": null,
   "metadata": {},
   "outputs": [],
   "source": []
  },
  {
   "cell_type": "markdown",
   "metadata": {},
   "source": [
    "#### 操作数类型异常"
   ]
  },
  {
   "cell_type": "code",
   "execution_count": null,
   "metadata": {},
   "outputs": [],
   "source": []
  },
  {
   "cell_type": "markdown",
   "metadata": {},
   "source": [
    "#### 命名异常"
   ]
  },
  {
   "cell_type": "code",
   "execution_count": null,
   "metadata": {},
   "outputs": [],
   "source": []
  },
  {
   "cell_type": "markdown",
   "metadata": {},
   "source": [
    "#### 文件不存在异常"
   ]
  },
  {
   "cell_type": "code",
   "execution_count": null,
   "metadata": {},
   "outputs": [],
   "source": []
  },
  {
   "cell_type": "markdown",
   "metadata": {},
   "source": [
    "#### 下标越界异常"
   ]
  },
  {
   "cell_type": "code",
   "execution_count": null,
   "metadata": {},
   "outputs": [],
   "source": []
  },
  {
   "cell_type": "markdown",
   "metadata": {},
   "source": [
    "#### 参数类型异常"
   ]
  },
  {
   "cell_type": "code",
   "execution_count": null,
   "metadata": {},
   "outputs": [],
   "source": []
  },
  {
   "cell_type": "markdown",
   "metadata": {},
   "source": [
    "### 7.6.2 常见异常结构处理\n",
    "#### try...except...\n",
    "异常捕获是通过try-except语句实现的，基本的try-except语句的语法 如下。在try代码块中包含在执行过程中可能引发异常的语句，如果没有发 生异常，则跳到except代码块执行，这就是异常捕获。\n",
    "![](img/7-exception-1.png)"
   ]
  },
  {
   "cell_type": "code",
   "execution_count": null,
   "metadata": {},
   "outputs": [],
   "source": []
  },
  {
   "cell_type": "markdown",
   "metadata": {},
   "source": [
    "#### try...except...else..."
   ]
  },
  {
   "cell_type": "code",
   "execution_count": null,
   "metadata": {},
   "outputs": [],
   "source": []
  },
  {
   "cell_type": "markdown",
   "metadata": {},
   "source": [
    "#### try...except...finally...\n",
    "![](img/7-exception-3.png)  \n",
    "无论是try代码块正常结束还是except代码块异常结束，都会执行fin ally代码块。"
   ]
  },
  {
   "cell_type": "code",
   "execution_count": null,
   "metadata": {},
   "outputs": [],
   "source": []
  },
  {
   "cell_type": "markdown",
   "metadata": {},
   "source": [
    "#### 捕捉多种异常的处理结构\n",
    "![](img/7-exception-2.png)"
   ]
  },
  {
   "cell_type": "code",
   "execution_count": null,
   "metadata": {},
   "outputs": [],
   "source": []
  },
  {
   "cell_type": "markdown",
   "metadata": {},
   "source": [
    "## 7.7 任务分析"
   ]
  },
  {
   "cell_type": "code",
   "execution_count": null,
   "metadata": {},
   "outputs": [],
   "source": []
  },
  {
   "cell_type": "markdown",
   "metadata": {},
   "source": [
    "## 7.8 任务实现"
   ]
  },
  {
   "cell_type": "code",
   "execution_count": null,
   "metadata": {},
   "outputs": [],
   "source": []
  },
  {
   "cell_type": "markdown",
   "metadata": {},
   "source": [
    "## 7.9 职业院校建设方案的分词和云图"
   ]
  },
  {
   "cell_type": "code",
   "execution_count": null,
   "metadata": {},
   "outputs": [],
   "source": []
  },
  {
   "cell_type": "markdown",
   "metadata": {},
   "source": [
    "## 7.10 预备知识--jieba库和wordcloud库\n",
    "### 7.10.1 jieba库"
   ]
  },
  {
   "cell_type": "code",
   "execution_count": null,
   "metadata": {},
   "outputs": [],
   "source": []
  },
  {
   "cell_type": "markdown",
   "metadata": {},
   "source": [
    "#### 精确模式"
   ]
  },
  {
   "cell_type": "code",
   "execution_count": null,
   "metadata": {},
   "outputs": [],
   "source": []
  },
  {
   "cell_type": "markdown",
   "metadata": {},
   "source": [
    "#### 全模式"
   ]
  },
  {
   "cell_type": "code",
   "execution_count": null,
   "metadata": {},
   "outputs": [],
   "source": []
  },
  {
   "cell_type": "markdown",
   "metadata": {},
   "source": [
    "#### 搜索引擎模式"
   ]
  },
  {
   "cell_type": "code",
   "execution_count": null,
   "metadata": {},
   "outputs": [],
   "source": []
  },
  {
   "cell_type": "markdown",
   "metadata": {},
   "source": [
    "### 7.10.2 wordcloud库"
   ]
  },
  {
   "cell_type": "code",
   "execution_count": null,
   "metadata": {},
   "outputs": [],
   "source": []
  },
  {
   "cell_type": "markdown",
   "metadata": {},
   "source": [
    "#### 创建词云图"
   ]
  },
  {
   "cell_type": "code",
   "execution_count": null,
   "metadata": {},
   "outputs": [],
   "source": []
  },
  {
   "cell_type": "markdown",
   "metadata": {},
   "source": [
    "## 7.11 任务分析\n",
    "### 7.11.1 词频统计"
   ]
  },
  {
   "cell_type": "code",
   "execution_count": null,
   "metadata": {},
   "outputs": [],
   "source": []
  },
  {
   "cell_type": "markdown",
   "metadata": {},
   "source": [
    "### 7.11.2 统计优化"
   ]
  },
  {
   "cell_type": "code",
   "execution_count": null,
   "metadata": {},
   "outputs": [],
   "source": []
  },
  {
   "cell_type": "markdown",
   "metadata": {},
   "source": [
    "### 7.11.3 词云图的绘制"
   ]
  },
  {
   "cell_type": "code",
   "execution_count": null,
   "metadata": {},
   "outputs": [],
   "source": []
  },
  {
   "cell_type": "markdown",
   "metadata": {},
   "source": [
    "## 7.12 任务实现\n",
    "#### 词频统计"
   ]
  },
  {
   "cell_type": "code",
   "execution_count": null,
   "metadata": {},
   "outputs": [],
   "source": []
  },
  {
   "cell_type": "markdown",
   "metadata": {},
   "source": [
    "#### 统计优化"
   ]
  },
  {
   "cell_type": "code",
   "execution_count": null,
   "metadata": {},
   "outputs": [],
   "source": []
  },
  {
   "cell_type": "markdown",
   "metadata": {},
   "source": [
    "#### 词云图绘制"
   ]
  },
  {
   "cell_type": "code",
   "execution_count": 7,
   "metadata": {},
   "outputs": [
    {
     "data": {
      "text/plain": [
       "<Figure size 864x576 with 0 Axes>"
      ]
     },
     "execution_count": 7,
     "metadata": {},
     "output_type": "execute_result"
    },
    {
     "data": {
      "text/plain": [
       "<matplotlib.image.AxesImage at 0x24579d95dd8>"
      ]
     },
     "execution_count": 7,
     "metadata": {},
     "output_type": "execute_result"
    },
    {
     "data": {
      "text/plain": [
       "(-0.5, 301.5, 299.5, -0.5)"
      ]
     },
     "execution_count": 7,
     "metadata": {},
     "output_type": "execute_result"
    },
    {
     "data": {
      "image/png": "[encoded data removed]",
      "text/plain": [
       "<Figure size 864x576 with 1 Axes>"
      ]
     },
     "metadata": {},
     "output_type": "display_data"
    }
   ],
   "source": [
    "import matplotlib.pyplot as plt\n",
    "from wordcloud import WordCloud,ImageColorGenerator\n",
    "from PIL import Image\n",
    "import jieba\n",
    "import numpy\n",
    "#打开图像并转化为数字矩阵\n",
    "img= numpy.array(Image.open(\"data/XXX.jpg\"))\n",
    "\n",
    "text_word = open('data/szpt.txt').read()\n",
    "\n",
    "wordlist= jieba.lcut(text_word, cut_all=True)\n",
    "wl_split = \"/\".join(wordlist)\n",
    "\n",
    "wc1 = WordCloud(background_color='WHITE', max_font_size=1000, mask=img,\n",
    "                font_path=\"C:\\\\Windows\\\\Fonts\\\\STKAITI.TTF\")\n",
    "\n",
    "my_wordcloud = wc1.generate(wl_split)\n",
    "\n",
    "#image_color = ImageColorGenerator(img)\n",
    "#wc1.recolor(color_func=image_color)\n",
    "plt.figure(figsize=(12,8))\n",
    "plt.imshow(my_wordcloud)\n",
    "plt.axis(\"off\")\n",
    "plt.show()"
   ]
  },
  {
   "cell_type": "markdown",
   "metadata": {},
   "source": [
    "## 7.13 总结与提高--os库其他成员、文件编码、再谈异常\n",
    "## 7.13.1 os库其他成员"
   ]
  },
  {
   "cell_type": "code",
   "execution_count": null,
   "metadata": {},
   "outputs": [],
   "source": []
  },
  {
   "cell_type": "markdown",
   "metadata": {},
   "source": [
    "### 7.13.2 文件编码"
   ]
  },
  {
   "cell_type": "code",
   "execution_count": null,
   "metadata": {},
   "outputs": [],
   "source": []
  },
  {
   "cell_type": "markdown",
   "metadata": {},
   "source": [
    "### 7.13.3 再谈异常"
   ]
  },
  {
   "cell_type": "code",
   "execution_count": null,
   "metadata": {},
   "outputs": [],
   "source": []
  },
  {
   "cell_type": "markdown",
   "metadata": {},
   "source": [
    "## 7.14 巩固与提高\n",
    "### 7.14.1 数据处理与文件另存"
   ]
  },
  {
   "cell_type": "code",
   "execution_count": null,
   "metadata": {},
   "outputs": [],
   "source": []
  },
  {
   "cell_type": "markdown",
   "metadata": {},
   "source": [
    "### 7.14.2 批量修改记事本文件编码格式"
   ]
  },
  {
   "cell_type": "code",
   "execution_count": null,
   "metadata": {},
   "outputs": [],
   "source": []
  },
  {
   "cell_type": "markdown",
   "metadata": {},
   "source": [
    "### 7.14.3 演员参演信息"
   ]
  },
  {
   "cell_type": "code",
   "execution_count": 1,
   "metadata": {},
   "outputs": [
    {
     "name": "stdout",
     "output_type": "stream",
     "text": [
      "('演员1', {'电影10', '电影1', '电影15', '电影7', '电影13', '电影5', '电影11', '电影8', '电影3', '电影4'})\n",
      "('演员2', {'电影2', '电影1', '电影5'})\n",
      "('演员3', {'电影1', '电影17', '电影6', '电影2', '电影18', '电影13', '电影5', '电影11', '电影8', '电影3', '电影4', '电影9'})\n",
      "('演员4', {'电影14', '电影10', '电影1', '电影17', '电影12', '电影16', '电影7', '电影2', '电影18', '电影11', '电影8', '电影4', '电影9'})\n",
      "('演员5', {'电影10', '电影6', '电影2', '电影3', '电影9'})\n",
      "('演员6', {'电影3', '电影7'})\n",
      "('演员7', {'电影12', '电影6', '电影7', '电影13', '电影4'})\n",
      "('演员8', {'电影15', '电影5', '电影8'})\n",
      "('演员9', {'电影14', '电影17', '电影12', '电影6', '电影9'})\n",
      "('演员10', {'电影14', '电影10', '电影18'})\n",
      "('演员11', {'电影15', '电影11'})\n",
      "('演员12', {'电影12'})\n",
      "('演员13', {'电影13', '电影16'})\n",
      "('演员14', {'电影14', '电影16'})\n",
      "('演员15', {'电影15'})\n",
      "('演员16', {'电影16'})\n"
     ]
    }
   ],
   "source": [
    "import openpyxl\n",
    "from openpyxl import Workbook\n",
    "\n",
    "def getData(filename):\n",
    "    actors = dict()\n",
    "    # 打开xlsx文件，并获取第一个worksheet\n",
    "    wb = openpyxl.load_workbook(filename)\n",
    "    ws = wb.worksheets[0]\n",
    "    # 遍历Excel文件中的所有行\n",
    "    for index, row in enumerate(ws.rows):\n",
    "        # 绕过第一行的表头\n",
    "        if index == 0:\n",
    "            continue\n",
    "        # 获取电影名称和演员列表\n",
    "        filmName, actor = row[0].value, row[2].value.split('，')\n",
    "        # 遍历该电影的所有演员，统计参演电影\n",
    "        for a in actor:\n",
    "            actors[a] = actors.get(a, set())\n",
    "            actors[a].add(filmName)\n",
    "    return actors\n",
    "\n",
    "data = getData('data/电影导演演员.xlsx')\n",
    "# 排序\n",
    "data = sorted(data.items(), key=lambda x:int(x[0][2:]))\n",
    "for item in data:\n",
    "    print(item)"
   ]
  },
  {
   "cell_type": "markdown",
   "metadata": {},
   "source": [
    "## 7.15 编程习题"
   ]
  },
  {
   "cell_type": "code",
   "execution_count": null,
   "metadata": {},
   "outputs": [],
   "source": []
  }
 ],
 "metadata": {
  "kernelspec": {
   "display_name": "Python 3.8.8 ('base')",
   "language": "python",
   "name": "python3"
  },
  "language_info": {
   "codemirror_mode": {
    "name": "ipython",
    "version": 3
   },
   "file_extension": ".py",
   "mimetype": "text/x-python",
   "name": "python",
   "nbconvert_exporter": "python",
   "pygments_lexer": "ipython3",
   "version": "3.8.8"
  },
  "toc": {
   "base_numbering": 1,
   "nav_menu": {},
   "number_sections": false,
   "sideBar": false,
   "skip_h1_title": false,
   "title_cell": "Table of Contents",
   "title_sidebar": "Contents",
   "toc_cell": false,
   "toc_position": {},
   "toc_section_display": false,
   "toc_window_display": false
  },
  "vscode": {
   "interpreter": {
    "hash": "287ce0282b01c1888cda87edf8a6ea705b55de1d257c8ee64a27122feab8970f"
   }
  }
 },
 "nbformat": 4,
 "nbformat_minor": 2
}
