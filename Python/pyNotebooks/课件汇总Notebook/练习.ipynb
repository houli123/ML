{
 "cells": [
  {
   "cell_type": "markdown",
   "metadata": {},
   "source": [
    "题目：有四个数字：1、2、3、4，能组成多少个互不相同且无重复数字的三位数？各是多少？"
   ]
  },
  {
   "cell_type": "code",
   "execution_count": 1,
   "metadata": {},
   "outputs": [],
   "source": [
    "# 判断n位数是否有相同的数字\n",
    "def isRep(num):\n",
    "    return len(set(str(num)))==len(str(num))"
   ]
  },
  {
   "cell_type": "code",
   "execution_count": 4,
   "metadata": {},
   "outputs": [
    {
     "name": "stdout",
     "output_type": "stream",
     "text": [
      "123 124 125 132 134 135 142 143 145 152 153 154 213 214 215 231 234 235 241 243 245 251 253 254 312 314 315 321 324 325 341 342 345 351 352 354 412 413 415 421 423 425 431 432 435 451 452 453 512 513 514 521 523 524 531 532 534 541 542 543 "
     ]
    }
   ],
   "source": [
    "lst = [1,2,3,4,5]\n",
    "rlst = [i*100+j*10+k for i in lst for j in lst for k in lst]\n",
    "for num in rlst:\n",
    "    if isRep(num):\n",
    "        print(num, end=\" \")"
   ]
  },
  {
   "cell_type": "markdown",
   "metadata": {},
   "source": [
    "题目：企业发放的奖金根据利润提成。利润(I)低于或等于10万元时，奖金可提10%；利润高于10万元，低于20万元时，低于10万元的部分按10%提成，高于10万元的部分，可提成7.5%；20万到40万之间时，高于20万元的部分，可提成5%；40万到60万之间时高于40万元的部分，可提成3%；60万到100万之间时，高于60万元的部分，可提成1.5%，高于100万元时，超过100万元的部分按1%提成，从键盘输入当月利润I，求应发放奖金总数？"
   ]
  },
  {
   "cell_type": "code",
   "execution_count": 5,
   "metadata": {},
   "outputs": [
    {
     "name": "stdout",
     "output_type": "stream",
     "text": [
      "净利润:160000\n",
      "4500.0\n",
      "10000.0\n",
      "14500.0\n"
     ]
    }
   ],
   "source": [
    "i = int(input('净利润:'))\n",
    "arr = [1000000,600000,400000,200000,100000,0]\n",
    "rat = [0.01,0.015,0.03,0.05,0.075,0.1]\n",
    "r = 0\n",
    "for idx in range(0,6):\n",
    "    if i>arr[idx]:\n",
    "        r+=(i-arr[idx])*rat[idx]\n",
    "        print((i-arr[idx])*rat[idx])\n",
    "        i=arr[idx]\n",
    "print(r)"
   ]
  },
  {
   "cell_type": "markdown",
   "metadata": {},
   "source": [
    "题目：一个整数，它加上100后是一个完全平方数，再加上168又是一个完全平方数，请问该数是多少？\n",
    "\n",
    "程序分析：\n",
    "\n",
    "假设该数为 x。\n",
    "\n",
    "1、则：x + 100 = n2, x + 100 + 168 = m2\n",
    "\n",
    "2、计算等式：m2 - n2 = (m + n)(m - n) = 168\n",
    "\n",
    "3、设置： m + n = i，m - n = j，i * j =168，i 和 j 至少一个是偶数\n",
    "\n",
    "4、可得： m = (i + j) / 2， n = (i - j) / 2，i 和 j 要么都是偶数，要么都是奇数。\n",
    "\n",
    "5、从 3 和 4 推导可知道，i 与 j 均是大于等于 2 的偶数。\n",
    "\n",
    "6、由于 i * j = 168， j>=2，则 1 < i < 168 / 2 + 1。\n",
    "\n",
    "7、接下来将 i 的所有数字循环计算即可。"
   ]
  },
  {
   "cell_type": "code",
   "execution_count": 6,
   "metadata": {},
   "outputs": [
    {
     "name": "stdout",
     "output_type": "stream",
     "text": [
      "-99.0\n",
      "21.0\n",
      "261.0\n",
      "1581.0\n"
     ]
    }
   ],
   "source": [
    "for i in range(1,85):\n",
    "    if 168 % i == 0:\n",
    "        j = 168 / i;\n",
    "        if  i > j and (i + j) % 2 == 0 and (i - j) % 2 == 0 :\n",
    "            m = (i + j) / 2\n",
    "            n = (i - j) / 2\n",
    "            x = n * n - 100\n",
    "            print(x)"
   ]
  },
  {
   "cell_type": "markdown",
   "metadata": {},
   "source": [
    "题目：输入某年某月某日，判断这一天是这一年的第几天？\n",
    "\n",
    "程序分析：以3月5日为例，应该先把前两个月的加起来，然后再加上5天即本年的第几天，特殊情况，闰年且输入月份大于2时需考虑多加一天："
   ]
  },
  {
   "cell_type": "code",
   "execution_count": 15,
   "metadata": {},
   "outputs": [
    {
     "name": "stdout",
     "output_type": "stream",
     "text": [
      "year:\n",
      "2020\n",
      "month:\n",
      "7\n",
      "day:\n",
      "16\n",
      "it is the 198th day.\n"
     ]
    }
   ],
   "source": [
    "year = int(input('year:\\n'))\n",
    "month = int(input('month:\\n'))\n",
    "day = int(input('day:\\n'))\n",
    "\n",
    "m = [0,31,28,31,30,31,30,31,31,30,31,30]\n",
    "months=list(np.cumsum(m))\n",
    "    \n",
    "#months = (0,31,59,90,120,151,181,212,243,273,304,334)\n",
    "if 0 < month <= 12:\n",
    "    sum = months[month - 1]\n",
    "else:\n",
    "    print('data error')\n",
    "sum += day\n",
    "leap = 0\n",
    "if (year % 400 == 0) or ((year % 4 == 0) and (year % 100 != 0)):\n",
    "    leap = 1\n",
    "if (leap == 1) and (month > 2):\n",
    "    sum += 1\n",
    "print('it is the %dth day.' % sum)"
   ]
  },
  {
   "cell_type": "markdown",
   "metadata": {},
   "source": [
    "题目：斐波那契数列。\n",
    "\n",
    "程序分析：斐波那契数列（Fibonacci sequence），又称黄金分割数列，指的是这样一个数列：0、1、1、2、3、5、8、13、21、34、……。"
   ]
  },
  {
   "cell_type": "code",
   "execution_count": 16,
   "metadata": {},
   "outputs": [
    {
     "name": "stdout",
     "output_type": "stream",
     "text": [
      "55\n"
     ]
    }
   ],
   "source": [
    "def fib(n):\n",
    "    a,b = 1,1\n",
    "    for i in range(n-1):\n",
    "        a,b = b,a+b\n",
    "    return a\n",
    " \n",
    "# 输出了第10个斐波那契数列\n",
    "print(fib(10))"
   ]
  },
  {
   "cell_type": "code",
   "execution_count": 18,
   "metadata": {},
   "outputs": [
    {
     "name": "stdout",
     "output_type": "stream",
     "text": [
      "55\n"
     ]
    }
   ],
   "source": [
    "# 使用递归\n",
    "def fib(n):\n",
    "    if n==1 or n==2:\n",
    "        return 1\n",
    "    return fib(n-1)+fib(n-2)\n",
    " \n",
    "# 输出了第10个斐波那契数列\n",
    "print(fib(10))"
   ]
  },
  {
   "cell_type": "code",
   "execution_count": 17,
   "metadata": {},
   "outputs": [
    {
     "name": "stdout",
     "output_type": "stream",
     "text": [
      "[1, 1, 2, 3, 5, 8, 13, 21, 34, 55]\n"
     ]
    }
   ],
   "source": [
    "def fib(n):\n",
    "    if n == 1:\n",
    "        return [1]\n",
    "    if n == 2:\n",
    "        return [1, 1]\n",
    "    fibs = [1, 1]\n",
    "    for i in range(2, n):\n",
    "        fibs.append(fibs[-1] + fibs[-2])\n",
    "    return fibs\n",
    " \n",
    "# 输出前 10 个斐波那契数列\n",
    "print(fib(10))"
   ]
  },
  {
   "cell_type": "markdown",
   "metadata": {},
   "source": [
    "题目：输出 9*9 乘法口诀表。\n",
    "\n",
    "程序分析：分行与列考虑，共9行9列，i控制行，j控制列。"
   ]
  },
  {
   "cell_type": "code",
   "execution_count": 23,
   "metadata": {},
   "outputs": [
    {
     "name": "stdout",
     "output_type": "stream",
     "text": [
      "\n",
      "1*1=1 \n",
      "2*1=2 2*2=4 \n",
      "3*1=3 3*2=6 3*3=9 \n",
      "4*1=4 4*2=8 4*3=12 4*4=16 \n",
      "5*1=5 5*2=10 5*3=15 5*4=20 5*5=25 \n",
      "6*1=6 6*2=12 6*3=18 6*4=24 6*5=30 6*6=36 \n",
      "7*1=7 7*2=14 7*3=21 7*4=28 7*5=35 7*6=42 7*7=49 \n",
      "8*1=8 8*2=16 8*3=24 8*4=32 8*5=40 8*6=48 8*7=56 8*8=64 \n",
      "9*1=9 9*2=18 9*3=27 9*4=36 9*5=45 9*6=54 9*7=63 9*8=72 9*9=81 "
     ]
    }
   ],
   "source": [
    "for i in range(1, 10):\n",
    "    print() \n",
    "    for j in range(1, i+1):\n",
    "        print(\"{}*{}={}\".format(i, j, i*j),end=\" \")"
   ]
  },
  {
   "cell_type": "markdown",
   "metadata": {},
   "source": [
    "题目：判断101-200之间有多少个素数，并输出所有素数。\n",
    "\n",
    "程序分析：判断素数的方法：用一个数分别去除2到sqrt(这个数)，如果能被整除，则表明此数不是素数，反之是素数。 　"
   ]
  },
  {
   "cell_type": "code",
   "execution_count": null,
   "metadata": {},
   "outputs": [],
   "source": []
  },
  {
   "cell_type": "markdown",
   "metadata": {},
   "source": [
    "题目：打印出所有的\"水仙花数\"，所谓\"水仙花数\"是指一个三位数，其各位数字立方和等于该数本身。例如：153是一个\"水仙花数\"，因为153=1的三次方＋5的三次方＋3的三次方。\n",
    "\n",
    "程序分析：利用for循环控制100-999个数，每个数分解出个位，十位，百位。"
   ]
  },
  {
   "cell_type": "code",
   "execution_count": 24,
   "metadata": {},
   "outputs": [
    {
     "name": "stdout",
     "output_type": "stream",
     "text": [
      "153\n",
      "370\n",
      "371\n",
      "407\n"
     ]
    }
   ],
   "source": [
    "for n in range(100,1000):\n",
    "    i = n // 100\n",
    "    j = n // 10 % 10\n",
    "    k = n % 10\n",
    "    if n == i*i*i + j*j*j + k*k*k: \n",
    "        print(n)"
   ]
  },
  {
   "cell_type": "markdown",
   "metadata": {},
   "source": [
    "题目：输入一行字符，分别统计出其中英文字母、空格、数字和其它字符的个数。\n",
    "\n",
    "程序分析：利用 while 或 for 语句,条件为输入的字符不为 '\\n'。"
   ]
  },
  {
   "cell_type": "code",
   "execution_count": null,
   "metadata": {},
   "outputs": [],
   "source": []
  },
  {
   "cell_type": "markdown",
   "metadata": {},
   "source": [
    "题目：求s=a+aa+aaa+aaaa+aa...a的值，其中a是一个数字。例如2+22+222+2222+22222(此时共有5个数相加)，几个数相加由键盘控制。\n",
    "\n",
    "程序分析：关键是计算出每一项的值。"
   ]
  },
  {
   "cell_type": "code",
   "execution_count": null,
   "metadata": {},
   "outputs": [],
   "source": []
  },
  {
   "cell_type": "code",
   "execution_count": 36,
   "metadata": {},
   "outputs": [
    {
     "name": "stdout",
     "output_type": "stream",
     "text": [
      "n = 3\n",
      "a = 5\n",
      "5\n",
      "55\n",
      "555\n",
      "计算和为： 615\n"
     ]
    }
   ],
   "source": [
    "Tn = 0\n",
    "Sn = []\n",
    "n = int(input('n = '))\n",
    "a = int(input('a = '))\n",
    "for count in range(n):\n",
    "    Tn = Tn + a\n",
    "    a = a * 10\n",
    "    Sn.append(Tn)\n",
    "    print(Tn)\n",
    "\n",
    "s = 0\n",
    "for i in Sn:\n",
    "    s += i\n",
    "print(\"计算和为：\",s)"
   ]
  },
  {
   "cell_type": "markdown",
   "metadata": {},
   "source": [
    "题目：一个数如果恰好等于它的因子之和，这个数就称为\"完数\"。例如6=1＋2＋3.编程找出1000以内的所有完数。"
   ]
  },
  {
   "cell_type": "code",
   "execution_count": 28,
   "metadata": {},
   "outputs": [
    {
     "name": "stdout",
     "output_type": "stream",
     "text": [
      "6\n",
      "1 2 3\n",
      "28\n",
      "1 2 4 7 14\n",
      "496\n",
      "1 2 4 8 16 31 62 124 248\n"
     ]
    }
   ],
   "source": [
    "for j in range(2,1001):\n",
    "    k = []\n",
    "    n = -1\n",
    "    s = j\n",
    "    for i in range(1,j):\n",
    "            if j % i == 0:\n",
    "                n += 1\n",
    "                s -= i\n",
    "                k.append(i)\n",
    "    \n",
    "    if s == 0:\n",
    "        print(j)\n",
    "        for i in range(n):\n",
    "            print(str(k[i]), end=\" \")\n",
    "        print(k[n])"
   ]
  },
  {
   "cell_type": "markdown",
   "metadata": {},
   "source": [
    "题目：一球从100米高度自由落下，每次落地后反跳回原高度的一半；再落下，求它在第10次落地时，共经过多少米？第10次反弹多高？"
   ]
  },
  {
   "cell_type": "code",
   "execution_count": 1,
   "metadata": {},
   "outputs": [
    {
     "name": "stdout",
     "output_type": "stream",
     "text": [
      "总高度：tour = 299.609375\n",
      "第10次反弹高度：height = 0.09765625\n"
     ]
    }
   ],
   "source": [
    "tour = []\n",
    "height = []\n",
    " \n",
    "hei = 100.0 # 起始高度\n",
    "tim = 10 # 次数\n",
    " \n",
    "for i in range(1, tim + 1):\n",
    "    # 从第二次开始，落地时的距离应该是反弹高度乘以2（弹到最高点再落下）\n",
    "    if i == 1:\n",
    "        tour.append(hei)\n",
    "    else:\n",
    "        tour.append(2*hei) \n",
    "    hei /= 2\n",
    "    height.append(hei)\n",
    "\n",
    "print('总高度：tour = {0}'.format(sum(tour)))\n",
    "print('第10次反弹高度：height = {0}'.format(height[-1]))"
   ]
  },
  {
   "cell_type": "markdown",
   "metadata": {},
   "source": [
    "题目：猴子吃桃问题：猴子第一天摘下若干个桃子，当即吃了一半，还不瘾，又多吃了一个第二天早上又将剩下的桃子吃掉一半，又多吃了一个。以后每天早上都吃了前一天剩下的一半零一个。到第10天早上想再吃时，见只剩下一个桃子了。求第一天共摘了多少。\n",
    "\n",
    "程序分析：采取逆向思维的方法，从后往前推断。"
   ]
  },
  {
   "cell_type": "code",
   "execution_count": 2,
   "metadata": {},
   "outputs": [
    {
     "name": "stdout",
     "output_type": "stream",
     "text": [
      "1534\n"
     ]
    }
   ],
   "source": [
    "x2 = 1\n",
    "for day in range(9,0,-1):\n",
    "    x1 = (x2 + 1) * 2\n",
    "    x2 = x1\n",
    "print(x1)"
   ]
  },
  {
   "cell_type": "markdown",
   "metadata": {},
   "source": [
    "题目：两个乒乓球队进行比赛，各出三人。甲队为a,b,c三人，乙队为x,y,z三人。已抽签决定比赛名单。有人向队员打听比赛的名单。a说他不和x比，c说他不和x,z比，请编程序找出三队赛手的名单。"
   ]
  },
  {
   "cell_type": "code",
   "execution_count": 18,
   "metadata": {},
   "outputs": [
    {
     "name": "stdout",
     "output_type": "stream",
     "text": [
      "a-z,b-x,c-y\n"
     ]
    }
   ],
   "source": [
    "res = [\"xyz\",\"xzy\",\"yxz\",\"yzx\",\"zxy\",\"zyx\"]\n",
    "for i in res:\n",
    "        if i[0]!=\"x\" and i[2]!=\"x\" and i[2]!=\"z\":\n",
    "            print(\"a-{},b-{},c-{}\".format(i[0],i[1],i[2]))\n"
   ]
  },
  {
   "cell_type": "code",
   "execution_count": 16,
   "metadata": {},
   "outputs": [
    {
     "name": "stdout",
     "output_type": "stream",
     "text": [
      "a vs z, b vs x, c vs y\n"
     ]
    }
   ],
   "source": [
    "import itertools\n",
    " \n",
    "for i in itertools.permutations('xyz'):\n",
    "    if i[0] != 'x' and i[2] != 'x' and i[2] != 'z':\n",
    "        print('a vs %s, b vs %s, c vs %s' % (i[0], i[1], i[2]))"
   ]
  },
  {
   "cell_type": "raw",
   "metadata": {},
   "source": [
    "题目：打印出如下图案（菱形）:\n",
    "\n",
    "   *\n",
    "  ***\n",
    " *****\n",
    "*******\n",
    " *****\n",
    "  ***\n",
    "   *\n",
    "程序分析：先把图形分成两部分来看待，前四行一个规律，后三行一个规律，利用双重for循环，第一层控制行，第二层控制列。"
   ]
  },
  {
   "cell_type": "code",
   "execution_count": 20,
   "metadata": {},
   "outputs": [
    {
     "name": "stdout",
     "output_type": "stream",
     "text": [
      "   *\n",
      "  ***\n",
      " *****\n",
      "*******\n",
      " *****\n",
      "  ***\n",
      "   *\n"
     ]
    }
   ],
   "source": [
    "for i in range(4):\n",
    "    for j in range(2 - i + 1):\n",
    "        print(' ',end=\"\")\n",
    "    for k in range(2 * i + 1):\n",
    "        print('*',end=\"\")\n",
    "    print()\n",
    "for i in range(3):\n",
    "    for j in range(i + 1):\n",
    "        print(' ',end=\"\")\n",
    "    for k in range(4 - 2 * i + 1):\n",
    "        print('*',end=\"\")\n",
    "    print()"
   ]
  },
  {
   "cell_type": "markdown",
   "metadata": {},
   "source": [
    "题目：有一分数序列：2/1，3/2，5/3，8/5，13/8，21/13...求出这个数列的前20项之和。\n",
    "\n",
    "程序分析：请抓住分子与分母的变化规律。"
   ]
  },
  {
   "cell_type": "code",
   "execution_count": 26,
   "metadata": {},
   "outputs": [
    {
     "name": "stdout",
     "output_type": "stream",
     "text": [
      "2.0/1.0 3.0/2.0 5.0/3.0 8.0/5.0 13.0/8.0 21.0/13.0 34.0/21.0 55.0/34.0 89.0/55.0 144.0/89.0 233.0/144.0 377.0/233.0 610.0/377.0 987.0/610.0 1597.0/987.0 2584.0/1597.0 4181.0/2584.0 6765.0/4181.0 10946.0/6765.0 17711.0/10946.0 \n",
      "32.66026079864164\n"
     ]
    }
   ],
   "source": [
    "a = 2.0\n",
    "b = 1.0\n",
    "s = 0\n",
    "for n in range(1,21):\n",
    "    s += a / b\n",
    "    print(str(a) + \"/\" + str(b), end=\" \")\n",
    "    t = a\n",
    "    a = a + b\n",
    "    b = t\n",
    "print()\n",
    "print(s)"
   ]
  },
  {
   "cell_type": "markdown",
   "metadata": {},
   "source": [
    "题目：求1+2!+3!+...+20!的和。\n",
    "\n",
    "程序分析：此程序只是把累加变成了累乘。"
   ]
  },
  {
   "cell_type": "code",
   "execution_count": 27,
   "metadata": {},
   "outputs": [
    {
     "name": "stdout",
     "output_type": "stream",
     "text": [
      "1! + 2! + 3! + ... + 20! = 2561327494111820313\n"
     ]
    }
   ],
   "source": [
    "n = 0\n",
    "s = 0\n",
    "t = 1\n",
    "for n in range(1,21):\n",
    "    t *= n\n",
    "    s += t\n",
    "print('1! + 2! + 3! + ... + 20! = {}'.format(s))"
   ]
  },
  {
   "cell_type": "markdown",
   "metadata": {},
   "source": [
    "**(递归)** 题目：利用递归函数调用方式，将所输入的5个字符，以相反顺序打印出来。"
   ]
  },
  {
   "cell_type": "code",
   "execution_count": 28,
   "metadata": {},
   "outputs": [
    {
     "name": "stdout",
     "output_type": "stream",
     "text": [
      "Input a string:hello\n",
      "o\n",
      "l\n",
      "l\n",
      "e\n",
      "h\n"
     ]
    }
   ],
   "source": [
    "def output(s,l):\n",
    "    if l==0:\n",
    "        return\n",
    "    print(s[l-1])\n",
    "    output(s,l-1)\n",
    "s = input('Input a string:')\n",
    "l = len(s)\n",
    "output(s,l)"
   ]
  },
  {
   "cell_type": "code",
   "execution_count": null,
   "metadata": {},
   "outputs": [],
   "source": []
  }
 ],
 "metadata": {
  "kernelspec": {
   "display_name": "Python 3",
   "language": "python",
   "name": "python3"
  },
  "language_info": {
   "codemirror_mode": {
    "name": "ipython",
    "version": 3
   },
   "file_extension": ".py",
   "mimetype": "text/x-python",
   "name": "python",
   "nbconvert_exporter": "python",
   "pygments_lexer": "ipython3",
   "version": "3.7.0"
  },
  "toc": {
   "base_numbering": 1,
   "nav_menu": {},
   "number_sections": false,
   "sideBar": false,
   "skip_h1_title": false,
   "title_cell": "Table of Contents",
   "title_sidebar": "Contents",
   "toc_cell": false,
   "toc_position": {},
   "toc_section_display": false,
   "toc_window_display": false
  }
 },
 "nbformat": 4,
 "nbformat_minor": 2
}
