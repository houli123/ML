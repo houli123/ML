{
 "cells": [
  {
   "cell_type": "markdown",
   "id": "f67845d9",
   "metadata": {},
   "source": [
    "<img src=\"img/首页.png\" width=\"900\" height=\"600\" align=\"center\" />"
   ]
  },
  {
   "cell_type": "markdown",
   "id": "b6eda894",
   "metadata": {},
   "source": [
    "##  知识点思维导图\n",
    "\n",
    "<img src=\"img/思维导图.png\" width=\"800\" height=\"800\" align=\"left\" />"
   ]
  },
  {
   "cell_type": "markdown",
   "id": "07fa6878",
   "metadata": {},
   "source": [
    "## 本章学习步骤：\n",
    "\n",
    "<img src=\"img/主要内容.png\" width=\"400\" height=\"400\" align=\"left\" />"
   ]
  },
  {
   "cell_type": "markdown",
   "id": "ed9d6060",
   "metadata": {},
   "source": [
    "## 3.1 抽奖游戏规则\n",
    "- 自选号码单式投注规则\n",
    "> 黑色球10选4+白色球5选1\n",
    "- 中奖规则\n",
    "> 中黑色球的个数+是否中白色球"
   ]
  },
  {
   "cell_type": "markdown",
   "id": "3b6c57d7",
   "metadata": {},
   "source": [
    "## 3.2 预备知识--列表list与随机数random库"
   ]
  },
  {
   "cell_type": "markdown",
   "id": "570c30fe",
   "metadata": {},
   "source": [
    "### 思考：\n",
    "> 计算机不仅对单个变量表示的数据进行处理，更多情况，计算机需要对一组数据进行批量处理。一些例子包括\n",
    "* 给定一组单词{python,data,function,list,loop}，计算并输出每个单词的长度；\n",
    "* 给定一个学院学生信息，统计一下男女生比例；\n",
    "* 一次实验产生了很多组数据，对这些大量数据进行分析；<br>\n",
    "\n",
    "这些数据该如何保存在变量中呢？"
   ]
  },
  {
   "cell_type": "markdown",
   "id": "3d3ae72e",
   "metadata": {},
   "source": [
    "### 3.2.1 组合数据类型分类\n",
    "组合数据类型为多个同类型或不同类型数据提供单一表示，组合数据类型分三类：序列类型、集合类型、映射类型\n",
    "\n",
    "<img src=\"img/组合数据分类.png\" width=\"400\" height=\"400\" align=\"left\" /></br> "
   ]
  },
  {
   "cell_type": "markdown",
   "id": "6a5519c7",
   "metadata": {},
   "source": [
    "### 3.2.2 序列和列表定义"
   ]
  },
  {
   "cell_type": "markdown",
   "id": "cbd56251",
   "metadata": {},
   "source": [
    "序列\n",
    ">序列（sequence）是一种可迭代的、元素有序的容器类型的数据。<br>\n",
    "<img src=\"img/3-seq.png\" width=\"400\" height=\"400\" align=\"left\" /><br> <br> <br><br><br><br><br>  <br> <br><br><br><br><br> <br><br>\n",
    "\n",
    "列表\n",
    ">- 列表（list）是一种可变序列类型，我们可以追加、插入、删除和替换列表中的元素。\n",
    "<img src=\"img/3-list.png\" width=\"400\" height=\"400\" align=\"left\" />"
   ]
  },
  {
   "cell_type": "markdown",
   "id": "7cbc7baa",
   "metadata": {},
   "source": [
    "### 3.2.3 列表常用操作"
   ]
  },
  {
   "cell_type": "markdown",
   "id": "748eca1b",
   "metadata": {},
   "source": [
    "#### 初始化列表\n"
   ]
  },
  {
   "cell_type": "code",
   "execution_count": null,
   "id": "f34a2dd0",
   "metadata": {},
   "outputs": [],
   "source": [
    "#初始化ls0为空列表\n",
    "ls0=[]"
   ]
  },
  {
   "cell_type": "code",
   "execution_count": null,
   "id": "0874993e",
   "metadata": {},
   "outputs": [],
   "source": [
    "#初始化ls1列表，含4个列表元素\n",
    "ls1=[90,93,85,96]"
   ]
  },
  {
   "cell_type": "code",
   "execution_count": null,
   "id": "8ebccdd1",
   "metadata": {},
   "outputs": [],
   "source": [
    "#初始化ls3列表，含2个列表元素，每个列表元素为列表类型\n",
    "ls3=[[\"张三\",93,85,96],[\"李四\",83,95,91]]"
   ]
  },
  {
   "cell_type": "markdown",
   "id": "efef425d",
   "metadata": {},
   "source": [
    "#### 求列表长度"
   ]
  },
  {
   "cell_type": "code",
   "execution_count": 1,
   "id": "376582f0",
   "metadata": {},
   "outputs": [
    {
     "name": "stdout",
     "output_type": "stream",
     "text": [
      "4\n"
     ]
    }
   ],
   "source": [
    "#可以使用内置的len()函数求数据类型的长度\n",
    "ls2=[90,93,85,96]\n",
    "x=len(ls2)\n",
    "print(x)"
   ]
  },
  {
   "cell_type": "code",
   "execution_count": null,
   "id": "91cce9d8",
   "metadata": {},
   "outputs": [],
   "source": []
  },
  {
   "cell_type": "markdown",
   "id": "7e7ed877",
   "metadata": {},
   "source": [
    "#### 访问列表元素\n",
    "列表中的元素，可以通过列表名[索引号]来进行访问，索引号从0开始</br> </br> </br> \n",
    " <img src=\"img/列表数据访问.png\" width=\"400\" height=\"300\" align=\"left\" /></br> "
   ]
  },
  {
   "cell_type": "code",
   "execution_count": 4,
   "id": "affb804d",
   "metadata": {},
   "outputs": [
    {
     "name": "stdout",
     "output_type": "stream",
     "text": [
      "90 93 96 85\n"
     ]
    }
   ],
   "source": [
    "ls2=[90,93,85,96]\n",
    "#将ls2的索引为0的元素，也就是第1个元素赋值给变量a\n",
    "a=ls2[0]\n",
    "#将ls2的索引为1的元素，也就是第1个元素赋值给变量b\n",
    "b=ls2[1]\n",
    "#将ls2的索引为-1的元素，也就是最后一个元素赋值给变量c\n",
    "c=ls2[-1]\n",
    "#将ls2的索引为-2的元素，也就是倒数第二个元素赋值给变量c\n",
    "d=ls2[-2]\n",
    "print(a,b,c,d)"
   ]
  },
  {
   "cell_type": "code",
   "execution_count": 5,
   "id": "dcd1b527",
   "metadata": {},
   "outputs": [
    {
     "name": "stdout",
     "output_type": "stream",
     "text": [
      "268\n"
     ]
    }
   ],
   "source": [
    "#计算ls2的0-2号元素的和，将其结果赋给变量sum\n",
    "ls2=[90,93,85,96]\n",
    "sum=ls2[0]+ls2[1]+ls2[2]\n",
    "print(sum)\n"
   ]
  },
  {
   "cell_type": "code",
   "execution_count": 7,
   "id": "37ebc641",
   "metadata": {},
   "outputs": [
    {
     "name": "stdout",
     "output_type": "stream",
     "text": [
      "364\n"
     ]
    }
   ],
   "source": [
    "#累加ls2的所有元素，将其结果赋给变量sum\n",
    "sum=0\n",
    "ls2=[90,93,85,96]\n",
    "for s in ls2:\n",
    "    sum+=s\n",
    "print(sum)"
   ]
  },
  {
   "cell_type": "code",
   "execution_count": 13,
   "id": "e6c2080b",
   "metadata": {},
   "outputs": [
    {
     "name": "stdout",
     "output_type": "stream",
     "text": [
      "268\n"
     ]
    }
   ],
   "source": [
    "#累加ls2除最后一个元素的其他所有元素，将其结果赋给变量sumtotal2\n",
    "sumtotal2=0\n",
    "for i in range(len(ls2)-1):\n",
    "    sumtotal2+=ls2[i]\n",
    "print(sumtotal2)"
   ]
  },
  {
   "cell_type": "markdown",
   "id": "3d99042b",
   "metadata": {},
   "source": [
    "#### 修改和添加列表元素\n"
   ]
  },
  {
   "cell_type": "code",
   "execution_count": 15,
   "id": "cead22fa",
   "metadata": {},
   "outputs": [
    {
     "name": "stdout",
     "output_type": "stream",
     "text": [
      "[90, 95, 85, 96]\n",
      "[90, 95, 85, 96, 88]\n"
     ]
    }
   ],
   "source": [
    "ls2=[90,93,85,96]\n",
    "#将ls2的索引为1的元素值由93修改为95\n",
    "ls2[1]=95\n",
    "print(ls2)\n",
    "#在ls2列表末尾添加新元素88\n",
    "ls2.append(88)\n",
    "print(ls2)"
   ]
  },
  {
   "cell_type": "markdown",
   "id": "0ae8f51d",
   "metadata": {},
   "source": [
    "#### 判断某个数据是否是列表元素\n"
   ]
  },
  {
   "cell_type": "code",
   "execution_count": 17,
   "id": "4790b58c",
   "metadata": {},
   "outputs": [
    {
     "name": "stdout",
     "output_type": "stream",
     "text": [
      "False\n",
      "True\n"
     ]
    }
   ],
   "source": [
    "ls2=[90,93,85,96]\n",
    "#判断95是否为ls2的元素，x的值为False，y的值为True\n",
    "print(95 in ls2)\n",
    "print(95 not in ls2)\n"
   ]
  },
  {
   "cell_type": "markdown",
   "id": "dbb3bef1",
   "metadata": {},
   "source": [
    "#### 列表排序\n"
   ]
  },
  {
   "cell_type": "code",
   "execution_count": 20,
   "id": "ebcbbadb",
   "metadata": {},
   "outputs": [
    {
     "name": "stdout",
     "output_type": "stream",
     "text": [
      "[85, 90, 93, 96]\n",
      "[96, 93, 90, 85]\n"
     ]
    }
   ],
   "source": [
    "ls2=[90,93,85,96]\n",
    "#ls2中的元素从小到大排序\n",
    "ls2.sort()\n",
    "print(ls2)\n",
    "#ls2中的元素从小到大排序\n",
    "ls2.sort(reverse=True)\n",
    "print(ls2)"
   ]
  },
  {
   "cell_type": "code",
   "execution_count": null,
   "id": "87ae5cf9",
   "metadata": {},
   "outputs": [],
   "source": []
  },
  {
   "cell_type": "markdown",
   "id": "3ad6b558",
   "metadata": {},
   "source": [
    "#### 列表切片"
   ]
  },
  {
   "cell_type": "code",
   "execution_count": 27,
   "id": "32d32899",
   "metadata": {},
   "outputs": [
    {
     "name": "stdout",
     "output_type": "stream",
     "text": [
      "[90, 93, 85, 96, 97, 91, 92] [93, 85, 96]\n"
     ]
    }
   ],
   "source": [
    "ls2=[90,93,85,96,97,91,92]\n",
    "ls3=ls2[1:4]\n",
    "print(ls2,ls3)"
   ]
  },
  {
   "cell_type": "markdown",
   "id": "d940f5ad",
   "metadata": {},
   "source": [
    "### 3.2.4 课堂练习之列表"
   ]
  },
  {
   "cell_type": "markdown",
   "id": "75f6aca5",
   "metadata": {},
   "source": [
    "#### 代码补全"
   ]
  },
  {
   "cell_type": "code",
   "execution_count": 37,
   "id": "e2ecbe7e",
   "metadata": {},
   "outputs": [
    {
     "name": "stdout",
     "output_type": "stream",
     "text": [
      "[98, 97, 78, 70, 69, 55]\n",
      "[97, 69, 55]\n",
      "3\n",
      "['you', 'need', 'python3']\n",
      "[70, 69, 55]\n"
     ]
    }
   ],
   "source": [
    "list0 = [55,78,97,98,69,70]\n",
    "list2 = ['you','need','python']\n",
    "\n",
    "# 对list0降序排序并输出\n",
    "list0.sort(reverse=True)\n",
    "print(list0)\n",
    "# 初始化list1为空列表\n",
    "list1=[]\n",
    "# 将list0中的奇数添加到list1中\n",
    "for i in list0:\n",
    "    if(i%2!=0):\n",
    "        list1.append(i)\n",
    "print(list1)\n",
    "# 统计list1中元素个数，存放到变量numtotal\n",
    "numtotal=len(list1)\n",
    "print(numtotal)\n",
    "# 将list2的元素'python'改为'python3'\n",
    "count=0\n",
    "for i in list2:\n",
    "    if(i!=\"python\"):\n",
    "        count+=1\n",
    "list2[count]=\"python3\"\n",
    "print(list2)\n",
    "# 将list0中的3-5号元素切片到list3中\n",
    "list3=list0[3:6]\n",
    "print(list3)"
   ]
  },
  {
   "cell_type": "markdown",
   "id": "d0f44458",
   "metadata": {},
   "source": [
    "#### 任务应用\n",
    "> 初始化空列表ls<br>\n",
    "（1）从键盘输入若干数字，添加到列表，输入-1退出<br>\n",
    "（2）统计并输出 ls的元素个数，ls的平均值<br>\n",
    "（3）降序输出值为偶数的列表元素。输出格式：<br>\n",
    "（4）每个元素占位宽度为10，右对齐，每行打印多个元素<br>"
   ]
  },
  {
   "cell_type": "code",
   "execution_count": 175,
   "id": "1ee78934",
   "metadata": {},
   "outputs": [
    {
     "name": "stdout",
     "output_type": "stream",
     "text": [
      "请输入数字(输入-1结束):11\n",
      "请输入数字(输入-1结束):22\n",
      "请输入数字(输入-1结束):33\n",
      "请输入数字(输入-1结束):44\n",
      "请输入数字(输入-1结束):-1\n",
      "[11, 22, 33, 44]\n",
      "4 27.5\n",
      "44 22 "
     ]
    }
   ],
   "source": [
    "# 初始化空列表ls\n",
    "ls=[]\n",
    "# 从键盘输入若干数字，添加到列表，输入-1退出（不添加到列表）\n",
    "while(1):\n",
    "    a=int(input(\"请输入数字(输入-1结束):\"))\n",
    "    if(a!=-1):\n",
    "        ls.append(a)\n",
    "    else:\n",
    "        break\n",
    "print(ls)\n",
    "# 统计并输出ls的元素个数，ls的平均值\n",
    "isum=0\n",
    "count=len(ls)\n",
    "for i in range(count):\n",
    "    isum+=ls[i]\n",
    "print(count,isum/count)\n",
    "# 降序输出值为偶数的列表元素，输出格式：每个元素占位宽度10，右对齐，每行打印多个元素\n",
    "ls.sort(reverse=True)\n",
    "for i in ls:\n",
    "    if(i%2==0):\n",
    "        print(i,end=\" \")"
   ]
  },
  {
   "cell_type": "markdown",
   "id": "40e66ef8",
   "metadata": {},
   "source": [
    "### 3.2.4 random库常用函数\n",
    "random库是Python自带的标准库，用于生成随机函数，可以使用from random import *导入这个库中所有的随机数函数\n"
   ]
  },
  {
   "cell_type": "code",
   "execution_count": 16,
   "id": "3d5cbc43",
   "metadata": {},
   "outputs": [
    {
     "data": {
      "text/plain": [
       "41"
      ]
     },
     "execution_count": 16,
     "metadata": {},
     "output_type": "execute_result"
    }
   ],
   "source": [
    "#生成[10,100)之间的随机整数\n",
    "from random import *\n",
    "randrange(10,100)\n"
   ]
  },
  {
   "cell_type": "code",
   "execution_count": 30,
   "id": "e585337d",
   "metadata": {},
   "outputs": [
    {
     "data": {
      "text/plain": [
       "94"
      ]
     },
     "execution_count": 30,
     "metadata": {},
     "output_type": "execute_result"
    }
   ],
   "source": [
    "#生成[10,100]之间的随机整数\n",
    "randint(10,100)"
   ]
  },
  {
   "cell_type": "markdown",
   "id": "de5b6432",
   "metadata": {},
   "source": [
    "## 3.3 抽奖游戏项目实战\n",
    "### 3.3.1 任务分析\n",
    "- 机选投注\n",
    "- 开奖号码\n",
    "- 中奖匹配\n",
    "- 中奖等级与兑奖"
   ]
  },
  {
   "cell_type": "markdown",
   "id": "1dd7421c",
   "metadata": {},
   "source": [
    "### 3.3.2 任务实现\n",
    "#### 任务初始化"
   ]
  },
  {
   "cell_type": "code",
   "execution_count": null,
   "id": "f9ba1221",
   "metadata": {},
   "outputs": [],
   "source": [
    "#初始化\n",
    "from random import randint\n",
    "mynum=[]\n",
    "lotterynum=[]\n",
    "blackok=0\n",
    "whiteok=False\n",
    "prizerank=\"\""
   ]
  },
  {
   "cell_type": "markdown",
   "id": "58dbd2a2",
   "metadata": {},
   "source": [
    "#### 机选投注"
   ]
  },
  {
   "cell_type": "code",
   "execution_count": 47,
   "id": "259691ba",
   "metadata": {},
   "outputs": [],
   "source": [
    "mynum=[]\n",
    "x=0\n",
    "while(x<4):\n",
    "    num=randint(1,10)\n",
    "    if num not in mynum:\n",
    "        mynum.append(num)\n",
    "        x+=1\n",
    "mynum.sort()\n",
    "num=randint(1,5)\n",
    "mynum.append(num)"
   ]
  },
  {
   "cell_type": "markdown",
   "id": "76925c32",
   "metadata": {},
   "source": [
    "#### 开奖号码"
   ]
  },
  {
   "cell_type": "code",
   "execution_count": 48,
   "id": "3fb4e31c",
   "metadata": {},
   "outputs": [],
   "source": [
    "lotterynum=[]\n",
    "x=0\n",
    "while(x<4):\n",
    "    num=randint(1,10)\n",
    "    if num not in lotterynum:\n",
    "        lotterynum.append(num)\n",
    "        x+=1\n",
    "num=randint(1,5)\n",
    "lotterynum.append(num)"
   ]
  },
  {
   "cell_type": "markdown",
   "id": "eea0c3fa",
   "metadata": {},
   "source": [
    "#### 中奖匹配"
   ]
  },
  {
   "cell_type": "code",
   "execution_count": 61,
   "id": "71815941",
   "metadata": {},
   "outputs": [],
   "source": [
    "\n",
    "blacklotterynum=lotterynum[0:4]\n",
    "for i in range(len(mynum)-1):\n",
    "    x=mynum[i]\n",
    "    if x in blacklotterynum:\n",
    "        blackok+=1\n",
    "    if mynum[-1]==lotterynum[-1]:\n",
    "        whiteok=True\n"
   ]
  },
  {
   "cell_type": "markdown",
   "id": "dae2e977",
   "metadata": {},
   "source": [
    "#### 中奖等级与兑奖"
   ]
  },
  {
   "cell_type": "code",
   "execution_count": null,
   "id": "6a955312",
   "metadata": {},
   "outputs": [],
   "source": [
    "if(blackok==4 and whiteok):\n",
    "    prizerank=\"一等奖\"\n",
    "elif(blackok==4):\n",
    "    prizerank=\"二等奖\"\n",
    "elif(blackok==3 and whiteok):\n",
    "    prizerank=\"三等奖\"\n",
    "elif(blackok==3):\n",
    "    prizerank=\"四等奖\"\n",
    "elif(blackok==2 and whiteok):\n",
    "    prizerank=\"五等奖\"\n",
    "elif(blackok==2):\n",
    "    prizerank=\"六等奖\"\n",
    "else:\n",
    "    prizerank=\"未中奖\""
   ]
  },
  {
   "cell_type": "code",
   "execution_count": 204,
   "id": "45bc094b",
   "metadata": {},
   "outputs": [
    {
     "name": "stdout",
     "output_type": "stream",
     "text": [
      "此次开出的中奖号码为:\n",
      "\t 黑色球: 8 1 2 3 白色球:2\n",
      "你机选投注号码为:\n",
      "\t 黑色球: 2 4 6 8 白色球:2\n",
      "恭喜你，中奖等级为五等奖，请及时兑奖！\n"
     ]
    }
   ],
   "source": [
    "from random import randint\n",
    "\n",
    "mynum=[]\n",
    "x=0\n",
    "while(x<4):\n",
    "    num=randint(1,10)\n",
    "    if num not in mynum:\n",
    "        mynum.append(num)\n",
    "        x+=1\n",
    "mynum.sort()\n",
    "num=randint(1,5)\n",
    "mynum.append(num)\n",
    "\n",
    "lotterynum=[]\n",
    "x=0\n",
    "while(x<4):\n",
    "    num=randint(1,10)\n",
    "    if num not in lotterynum:\n",
    "        lotterynum.append(num)\n",
    "        x+=1\n",
    "num=randint(1,5)\n",
    "lotterynum.append(num)\n",
    "blacklotterynum=lotterynum[0:4]\n",
    "\n",
    "blackok=0\n",
    "prizerank=\"\"\n",
    "whiteok=False\n",
    "for i in range(len(mynum)-1):\n",
    "    x=mynum[i]\n",
    "    if x in blacklotterynum:\n",
    "        blackok+=1\n",
    "    if mynum[-1]==lotterynum[-1]:\n",
    "        whiteok=True\n",
    "if(blackok==4 and whiteok):\n",
    "    prizerank=\"一等奖\"\n",
    "elif(blackok==4):\n",
    "    prizerank=\"二等奖\"\n",
    "elif(blackok==3 and whiteok):\n",
    "    prizerank=\"三等奖\"\n",
    "elif(blackok==3):\n",
    "    prizerank=\"四等奖\"\n",
    "elif(blackok==2 and whiteok):\n",
    "    prizerank=\"五等奖\"\n",
    "elif(blackok==2):\n",
    "    prizerank=\"六等奖\"\n",
    "else:\n",
    "    prizerank=\"未中奖\"\n",
    "\n",
    "print(\"此次开出的中奖号码为:\")\n",
    "print(\"\\t 黑色球:\",end=\" \")\n",
    "for i in range(len(blacklotterynum)):\n",
    "    print(blacklotterynum[i],end=\" \")\n",
    "print(\"白色球:{}\".format(lotterynum[-1]))\n",
    "\n",
    "print(\"你机选投注号码为:\")\n",
    "print(\"\\t 黑色球:\",end=\" \")\n",
    "for i in range(len(mynum)-1):\n",
    "    print(mynum[i],end=\" \")\n",
    "print(\"白色球:{}\".format(mynum[-1]))\n",
    "if(prizerank==\"未中奖\"):\n",
    "    print(\"很遗憾，你没有中奖，继续努力.\")\n",
    "else:\n",
    "    print(\"恭喜你，中奖等级为{}，请及时兑奖！\".format(prizerank))"
   ]
  },
  {
   "cell_type": "markdown",
   "id": "8b5e5ab3",
   "metadata": {},
   "source": [
    "## 3.4 总结与提高--列表、random库和元组"
   ]
  },
  {
   "cell_type": "markdown",
   "id": "aa33d859",
   "metadata": {},
   "source": [
    "### 3.4.1 列表\n"
   ]
  },
  {
   "cell_type": "markdown",
   "id": "af0b20b9",
   "metadata": {},
   "source": [
    "#### 创建列表\n",
    "> 可以在列表中添加不同的数据类型"
   ]
  },
  {
   "cell_type": "code",
   "execution_count": null,
   "id": "99b581a6",
   "metadata": {},
   "outputs": [],
   "source": [
    "list1=['python 3','软件技术',2019,95]\n",
    "list2=[]"
   ]
  },
  {
   "cell_type": "markdown",
   "id": "6ed833e4",
   "metadata": {},
   "source": [
    "#### 添加列表元素\n",
    "> * append()方法用于向列表结尾添加元素\n",
    "> * insert()方法可以在指定位置插入元素\n",
    "> * extend()方法可以将一个列表添加到该列表的尾部"
   ]
  },
  {
   "cell_type": "code",
   "execution_count": 226,
   "id": "13fb6c17",
   "metadata": {},
   "outputs": [
    {
     "name": "stdout",
     "output_type": "stream",
     "text": [
      "['Python 3', '大数据技术', 2022, 95]\n",
      "[93, 'lewis', 'kevin']\n"
     ]
    }
   ],
   "source": [
    "list1=['Python 3','大数据技术',2022,95]\n",
    "list2=[93]\n",
    "#在List1列表末尾添加元素\"Mike\"\n",
    "list2.append(\"kevin\")\n",
    "print(list1)\n",
    "#在索引为1的位置插入元素\"John\"\n",
    "list2.insert(1,'lewis')\n",
    "print(list2)\n",
    "#将list2列表扩展到list1中\n"
   ]
  },
  {
   "cell_type": "markdown",
   "id": "89802cad",
   "metadata": {},
   "source": [
    "#### 删除列表元素\n",
    "> * remove()方法用于删除第一次出现的元素\n",
    "> * pop()方法用于删除指定位置的元素\n",
    "> * del()语句用于删除指定元素或列表"
   ]
  },
  {
   "cell_type": "code",
   "execution_count": null,
   "id": "34b612ed",
   "metadata": {
    "scrolled": true
   },
   "outputs": [],
   "source": [
    "list1=['Python 3', 95,'大数据技术', 2022, 95, 96,95]\n",
    "#删除第一次出现的元素95\n",
    "\n",
    "#删除最后一个元素\n",
    "\n",
    "#删除指定索引的元素\n",
    "\n",
    "#用del 语句删除指定元素或列表，\n"
   ]
  },
  {
   "cell_type": "markdown",
   "id": "635db123",
   "metadata": {},
   "source": [
    "#### 列表反转\n",
    "> reverse()方法用于反转列表元素"
   ]
  },
  {
   "cell_type": "code",
   "execution_count": null,
   "id": "91547cf5",
   "metadata": {},
   "outputs": [],
   "source": []
  },
  {
   "cell_type": "markdown",
   "id": "7d0ad638",
   "metadata": {},
   "source": [
    "#### 列表切片\n",
    ">列表切片的通用格式为：列表名[start:end:step],step表示步长，注意切片的结果不包含结束索引位置，即不包含最后的一位"
   ]
  },
  {
   "cell_type": "code",
   "execution_count": null,
   "id": "b4ae96f3",
   "metadata": {},
   "outputs": [],
   "source": []
  },
  {
   "cell_type": "markdown",
   "id": "c15b4c6d",
   "metadata": {},
   "source": [
    "#### 列表操作常用函数\n",
    ">* len()求列表长度\n",
    ">* max()，求列表中最大元素\n",
    ">* min()，求列表中最小元素"
   ]
  },
  {
   "cell_type": "code",
   "execution_count": null,
   "id": "8bb6bf85",
   "metadata": {},
   "outputs": [],
   "source": []
  },
  {
   "cell_type": "markdown",
   "id": "7206ccba",
   "metadata": {},
   "source": [
    "#### 列表操作常用方法\n",
    ">* count() 统计某个元素在列表中出现次数\n",
    ">* index()用于从列表中找出某个值第一个匹配项的索引位置<br><br><br><br>\n",
    "<img src=\"img/3-fun-method.png\" width=\"700\" height=\"600\" align=\"left\" />\n"
   ]
  },
  {
   "cell_type": "code",
   "execution_count": null,
   "id": "4d87b37c",
   "metadata": {},
   "outputs": [],
   "source": []
  },
  {
   "cell_type": "markdown",
   "id": "61a17952",
   "metadata": {},
   "source": [
    "### 3.4.2 random库常用函数\n",
    "程序有时候需要产生随机数，random库提供了一些产生随机数的函数，列举如下：\n",
    ">1、生成闭合区间的整数随机数<br> \n",
    "   randint(start,stop)，参数start代表最小值,参数stop代表最大值，产生的整数随机数在[start,stop]区间\n",
    "   \n",
    ">2、生成半闭合整数随机数<br> \n",
    "randrange(start,stop,step)，参数start代表最小值,参数stop代表最大值，step代表步长，产生的随机数在[start,stop)之间，不含stop值\n",
    "\n",
    ">3、随机选择函数<br> \n",
    "choice()函数在列表等集合中随机选择一个元素输出，元素的类型没有限制\n",
    "\n",
    ">4、生成半闭合区间浮点数随机数<br> \n",
    "random()函数生成[0.0,1.0]之间的任意浮点数\n",
    "  \n"
   ]
  },
  {
   "cell_type": "markdown",
   "id": "ba62db6b",
   "metadata": {},
   "source": [
    "#### 生成闭合区间整数随机数 randint(start,stop)"
   ]
  },
  {
   "cell_type": "code",
   "execution_count": null,
   "id": "63c6f85d",
   "metadata": {},
   "outputs": [],
   "source": [
    "#生成0-100之间的整数随机数\n"
   ]
  },
  {
   "cell_type": "markdown",
   "id": "082a795b",
   "metadata": {},
   "source": [
    "#### 生成半闭合区间整数随机数 randrange(start,stop,step)"
   ]
  },
  {
   "cell_type": "code",
   "execution_count": null,
   "id": "f216c9e8",
   "metadata": {},
   "outputs": [],
   "source": [
    "#生成10-100(不含100)之间的整数随机数\n"
   ]
  },
  {
   "cell_type": "markdown",
   "id": "c6974473",
   "metadata": {},
   "source": [
    "#### 随机选择函数 choice()\n"
   ]
  },
  {
   "cell_type": "code",
   "execution_count": null,
   "id": "16a10b53",
   "metadata": {},
   "outputs": [],
   "source": []
  },
  {
   "cell_type": "markdown",
   "id": "b6e914e2",
   "metadata": {},
   "source": [
    "#### 生成半闭合区间浮点数随机数 random()"
   ]
  },
  {
   "cell_type": "code",
   "execution_count": null,
   "id": "f36435b2",
   "metadata": {},
   "outputs": [],
   "source": []
  },
  {
   "cell_type": "markdown",
   "id": "fc30f8e5",
   "metadata": {},
   "source": [
    "### 思考：randint和randrange函数的区别在哪里？"
   ]
  },
  {
   "cell_type": "markdown",
   "id": "c10931f6",
   "metadata": {},
   "source": [
    "randint和randrange的区别：\n",
    "- randint 产生的随机数区间是封闭区间，[1, n]，能取到1和n。而 randrange 产生的随机数区间是左闭右开的[1, n)，1能取到，而n取不到。\n",
    "- randint 产生的随机数是在指定的某个区间内的一个值，而 randrange 产生的随机数可以设定一个步长，也就是一个间隔。\n",
    "- randint 无法设定步长，会报错。"
   ]
  },
  {
   "cell_type": "markdown",
   "id": "9cf4a47a",
   "metadata": {},
   "source": [
    "### 3.4.3 元组\n",
    "> 是序列类型中比较特殊的类型，因为它一旦创建就不能被修改。Python中元组采用逗号和圆括号（可选）来表示。"
   ]
  },
  {
   "cell_type": "markdown",
   "id": "6e7e9a24",
   "metadata": {},
   "source": [
    "#### 创建元组\n",
    "创建元组时有两种方法。 \n",
    "- 1 tuple（iterable）函数：参数iterable是可迭代对象（字符串、列表、元组、集合和字典等）。 \n",
    "- 2 （元素1，元素2，元素3，⋯）：指定具体的元组元素，元素之间 以逗号分隔。对于元组元素，可以使用小括号括起来，也可以省略小括号."
   ]
  },
  {
   "cell_type": "code",
   "execution_count": null,
   "id": "5bdf596e",
   "metadata": {},
   "outputs": [],
   "source": []
  },
  {
   "cell_type": "code",
   "execution_count": null,
   "id": "84786c93",
   "metadata": {},
   "outputs": [],
   "source": []
  },
  {
   "cell_type": "markdown",
   "id": "ed6afc67",
   "metadata": {},
   "source": [
    "#### 访问元祖"
   ]
  },
  {
   "cell_type": "code",
   "execution_count": null,
   "id": "609d8b94",
   "metadata": {},
   "outputs": [],
   "source": []
  },
  {
   "cell_type": "markdown",
   "id": "46efb5fe",
   "metadata": {},
   "source": [
    "#### 元素对象一旦创建，就不能修改"
   ]
  },
  {
   "cell_type": "code",
   "execution_count": null,
   "id": "8d68cf62",
   "metadata": {},
   "outputs": [],
   "source": []
  },
  {
   "cell_type": "markdown",
   "id": "0fcf3377",
   "metadata": {},
   "source": [
    "## 3.5 巩固与应用\n",
    "### 3.5.1 十进制转二进制"
   ]
  },
  {
   "cell_type": "code",
   "execution_count": null,
   "id": "300c3f7c",
   "metadata": {},
   "outputs": [],
   "source": []
  },
  {
   "cell_type": "markdown",
   "id": "05874ad1",
   "metadata": {},
   "source": [
    "### 3.5.2 名单去重"
   ]
  },
  {
   "cell_type": "code",
   "execution_count": null,
   "id": "f67a6ab7",
   "metadata": {},
   "outputs": [],
   "source": []
  },
  {
   "cell_type": "code",
   "execution_count": null,
   "id": "0036e221",
   "metadata": {},
   "outputs": [],
   "source": []
  },
  {
   "cell_type": "code",
   "execution_count": null,
   "id": "fdacf314",
   "metadata": {},
   "outputs": [],
   "source": []
  },
  {
   "cell_type": "markdown",
   "id": "58596ab9",
   "metadata": {},
   "source": [
    "### 列表去重的多种方法"
   ]
  },
  {
   "cell_type": "code",
   "execution_count": null,
   "id": "fa172c43",
   "metadata": {},
   "outputs": [],
   "source": []
  },
  {
   "cell_type": "code",
   "execution_count": null,
   "id": "33773b6b",
   "metadata": {},
   "outputs": [],
   "source": [
    " #列表推导式写法\n"
   ]
  },
  {
   "cell_type": "code",
   "execution_count": null,
   "id": "f481f265",
   "metadata": {},
   "outputs": [],
   "source": [
    "#先转换成集合，因为集合的特点是没有重复项\n",
    "list3 = [3,5,1,2,6,8,7,7,6,5,4,9,3,2]\n",
    "new_list = list(set(list3))   #不保证顺序\n",
    "print(new_list) \n",
    "\n",
    "new_list.sort(key=list3.index)  #保留顺序\n",
    "print(new_list)    "
   ]
  },
  {
   "cell_type": "markdown",
   "id": "70de0ade",
   "metadata": {},
   "source": [
    "### 3.5.3 演讲比赛评分"
   ]
  },
  {
   "cell_type": "code",
   "execution_count": null,
   "id": "588aa512",
   "metadata": {},
   "outputs": [],
   "source": []
  },
  {
   "cell_type": "markdown",
   "id": "61917ad7",
   "metadata": {},
   "source": [
    "### 3.5.4 围圈数数游戏"
   ]
  },
  {
   "cell_type": "code",
   "execution_count": null,
   "id": "82854576",
   "metadata": {},
   "outputs": [],
   "source": []
  },
  {
   "cell_type": "code",
   "execution_count": null,
   "id": "57b5fab6",
   "metadata": {},
   "outputs": [],
   "source": []
  },
  {
   "cell_type": "code",
   "execution_count": null,
   "id": "98cfaffc",
   "metadata": {},
   "outputs": [],
   "source": []
  }
 ],
 "metadata": {
  "hide_input": false,
  "kernelspec": {
   "display_name": "Python 3",
   "language": "python",
   "name": "python3"
  },
  "language_info": {
   "codemirror_mode": {
    "name": "ipython",
    "version": 3
   },
   "file_extension": ".py",
   "mimetype": "text/x-python",
   "name": "python",
   "nbconvert_exporter": "python",
   "pygments_lexer": "ipython3",
   "version": "3.8.8"
  },
  "toc": {
   "base_numbering": 1,
   "nav_menu": {},
   "number_sections": true,
   "sideBar": true,
   "skip_h1_title": false,
   "title_cell": "Table of Contents",
   "title_sidebar": "Contents",
   "toc_cell": false,
   "toc_position": {},
   "toc_section_display": true,
   "toc_window_display": false
  }
 },
 "nbformat": 4,
 "nbformat_minor": 5
}
