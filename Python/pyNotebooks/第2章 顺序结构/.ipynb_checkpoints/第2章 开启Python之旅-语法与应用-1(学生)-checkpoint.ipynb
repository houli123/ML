{
 "cells": [
  {
   "cell_type": "markdown",
   "id": "f603720e",
   "metadata": {},
   "source": [
    "<img src=\"img/首页.png\" width=\"900\" height=\"600\" align=\"center\" />"
   ]
  },
  {
   "cell_type": "markdown",
   "id": "acaedb7e",
   "metadata": {},
   "source": [
    "### 知识点思维导图：\n",
    "<img src=\"img/思维导图.png\" width=\"1000\" height=\"800\" align=\"center\" />\n",
    "\n",
    "### 学习目标：\n",
    "\n",
    "\n",
    "* #### 能够正确定义变量\n",
    "* #### 能根据需要给变量赋以正确的数据类型\n",
    "* #### 能进行变量运算\n",
    "* #### 能够根据需要导入第三方库"
   ]
  },
  {
   "cell_type": "markdown",
   "id": "4c04c386",
   "metadata": {},
   "source": [
    "### 学习步骤：\n",
    "1、 项目1（计算pizza的大小）\n",
    "\n",
    "2、 预备知识--变量的使用\n",
    "\n",
    "3、计算pizza大小任务实现\n",
    "\n",
    "4、总结与提高\n",
    "\n",
    "5、巩固与应用"
   ]
  },
  {
   "cell_type": "markdown",
   "id": "20ea13e1",
   "metadata": {},
   "source": [
    "### 1、引子故事\n",
    "<img src=\"img/引子故事.png\" width=\"400\" height=\"400\" align=\"left\" />"
   ]
  },
  {
   "cell_type": "markdown",
   "id": "62775bb9",
   "metadata": {},
   "source": [
    "## 2、变量的使用"
   ]
  },
  {
   "cell_type": "markdown",
   "id": "8dfa7387",
   "metadata": {},
   "source": [
    "## 2.1 Python程序框架：\n",
    "\n",
    "<img src=\"img/框架2.png\" width=\"600\" height=\"600\" align=\"left\" />\n"
   ]
  },
  {
   "cell_type": "code",
   "execution_count": null,
   "id": "757b6842",
   "metadata": {},
   "outputs": [],
   "source": [
    "#程序框架知识点演示代码\n"
   ]
  },
  {
   "cell_type": "markdown",
   "id": "74012972",
   "metadata": {},
   "source": [
    "## 2.2 Python变量使用\n",
    "<img src=\"img/变量.png\" width=\"600\" height=\"600\" align=\"left\" />"
   ]
  },
  {
   "cell_type": "markdown",
   "id": "09a77a0c",
   "metadata": {},
   "source": [
    "#### 系统保留字\n",
    "<img src=\"img/保留字介绍.png\" width=\"600\" height=\"600\" align=\"left\" />\n",
    "<img src=\"img/保留字列表.png\" width=\"400\" height=\"400\" align=\"center\" />"
   ]
  },
  {
   "cell_type": "markdown",
   "id": "0a93f430",
   "metadata": {},
   "source": [
    "## 2.3 数据类型\n",
    "\n",
    "   * #### 基本数据类型\n",
    "     * #### 数字类型（整数、浮点数、复数）、布尔类型\n",
    "   * #### 组合数据类型\n",
    "     * #### 字符串、元组、列表、集合、字典"
   ]
  },
  {
   "cell_type": "markdown",
   "id": "b2c53755",
   "metadata": {},
   "source": [
    "#### 数字类型主要特点：\n",
    "> * 整数类型没有范围限制\n",
    ">* 四种不同进制，之间可以相互转换\n",
    ">* 不同数据类型，之间可以相互转换"
   ]
  },
  {
   "cell_type": "markdown",
   "id": "98b79388",
   "metadata": {},
   "source": [
    "#### 示例代码1： Python整数类型没有范围限制"
   ]
  },
  {
   "cell_type": "code",
   "execution_count": 23,
   "id": "1de696f9",
   "metadata": {},
   "outputs": [
    {
     "data": {
      "text/plain": [
       "3273390607896141870013189696827599152216642046043064789483291368096133796404674554883270092325904157150886684127560071009217256545885393053328527589376"
      ]
     },
     "execution_count": 23,
     "metadata": {},
     "output_type": "execute_result"
    }
   ],
   "source": []
  },
  {
   "cell_type": "markdown",
   "id": "d2d942a9",
   "metadata": {},
   "source": [
    "#### 整数类型：四种不同进制，整数类型没有取值范围限制，不同类型进制可以相互转换\n",
    "\n",
    "<img src=\"img/四种进制整数类型.png\" width=\"550\" height=\"450\" align=\"left\" />"
   ]
  },
  {
   "cell_type": "markdown",
   "id": "105a706e",
   "metadata": {},
   "source": [
    "#### 示例代码2: 进制间进行转换"
   ]
  },
  {
   "cell_type": "code",
   "execution_count": null,
   "id": "cb553782",
   "metadata": {},
   "outputs": [],
   "source": [
    "#10进制转换为16进制字符串\n",
    "\n",
    "#10进制转换为2进制字符串\n",
    "\n",
    "#10进制转换为8进制字符串"
   ]
  },
  {
   "cell_type": "markdown",
   "id": "fde71b6e",
   "metadata": {},
   "source": [
    "#### 浮点数类型\n",
    "#### 浮点数据类型有十进制表示和科学计数表示，如0.0,-77. ,-2.19, 96e4, 4.5e-3, 9.6E5"
   ]
  },
  {
   "cell_type": "markdown",
   "id": "9e4a23f0",
   "metadata": {},
   "source": [
    "### 2.3 程序的基本输入输出\n",
    " > ##### IPO程序编写方法<br>\n",
    " 每个计算机程序都是用来解决特定计算问题，无论程序规模如何，每个程序都有统一的运算模式：输入数据、处理数据和输出数据，这种运算模式形成了基本的程序编写方法IPO(Input、Process、Output)\n",
    " * 输入数据（Input）<br>\n",
    " * 处理数据 (Process)<br>\n",
    " * 输出数据 (Output)<br>\n",
    ">#### 2.3.1 输入数据\n",
    "输入是一个程序的开始，程序要处理的数据有多重来源，因此形成了多重输入方式，包括文件输入、网络输入、控制台输入、交互界面输入、随机数据输入、内部参数输入等。\n",
    ">#### 2.3.2 处理数据\n",
    "输出是程序展示运算成果的方式，程序的输出方式包括控制台输出、图形输出、文件输出、网络输出、操作系统内部变量输出等。\n",
    ">#### 2.3.3 处理数据\n",
    "处理是程序对输入数据进行计算产生输出结果的过程，计算问题的处理方法统称为“算法”，它是程序最重要的组成部分，可以说，算法是一个程序的灵魂。\n",
    ">#### 2.3.4 两个基本的输入输出函数\n",
    "> #### print()函数<br>\n",
    "&nbsp;&nbsp;&nbsp;&nbsp;&nbsp;&nbsp;print()函数用于打印输出，最常见的一个函数。<br>\n",
    "> #### input()函数<br>\n",
    "&nbsp;&nbsp;&nbsp; &nbsp;&nbsp;&nbsp;input() 函数接受一个标准输入数据，返回为 string 类型。<br>\n",
    ">  #### eval()函数<br>\n",
    "&nbsp;&nbsp;&nbsp; &nbsp;&nbsp;&nbsp;eval()函数能够以Python表达式的方式解析并执行字符串，将返回结果输出。如果用户希望输入一个数字，并用程序对这个数字进行计算，可以采用eval(input(<输入提示字符串>))的组合。\n"
   ]
  },
  {
   "cell_type": "markdown",
   "id": "07ee886d",
   "metadata": {},
   "source": [
    "示例代码3：eval()函数使用"
   ]
  },
  {
   "cell_type": "code",
   "execution_count": 22,
   "id": "12c7b99e",
   "metadata": {},
   "outputs": [
    {
     "name": "stdout",
     "output_type": "stream",
     "text": [
      "请输入要计算的数字：5\n",
      "5\n"
     ]
    }
   ],
   "source": [
    "value1=input(\"请输入要计算的数字：\")\n"
   ]
  },
  {
   "cell_type": "code",
   "execution_count": 6,
   "id": "da71f453",
   "metadata": {},
   "outputs": [
    {
     "name": "stdout",
     "output_type": "stream",
     "text": [
      "请输入要计算的数字：5\n",
      "<class 'int'>\n"
     ]
    }
   ],
   "source": [
    "#如果用户希望输入一个数字，并用程序对这个数字进行计算，\n",
    "#可以采用eval(input(<输入提示字符串>))的组合\n"
   ]
  },
  {
   "cell_type": "code",
   "execution_count": null,
   "id": "48300873",
   "metadata": {},
   "outputs": [],
   "source": [
    "#eval()函数练习\n",
    "x=1\n",
    "s=eval(\"x+1\")\n",
    "#问题： 请问s的值是多少？"
   ]
  },
  {
   "cell_type": "markdown",
   "id": "b1d9d2f6",
   "metadata": {},
   "source": [
    "### 2.4 表达式的计算"
   ]
  },
  {
   "cell_type": "code",
   "execution_count": 9,
   "id": "964ffa5f",
   "metadata": {},
   "outputs": [
    {
     "name": "stdout",
     "output_type": "stream",
     "text": [
      "sum is 68,diff is 58,product is 315,quotient is 12.6\n"
     ]
    }
   ],
   "source": [
    "#定义两个变量，并分别使用“=”运算法进行赋值\n",
    "\n",
    "#运算符包括+ - * /等多种运算符，以下语句分别计算两个数的和、差、积、商\n",
    "\n",
    "#分别输出两个数的和、差、积、商\n",
    "\n",
    "\n"
   ]
  },
  {
   "cell_type": "markdown",
   "id": "585f869b",
   "metadata": {},
   "source": [
    "### 2.5 导入库\n",
    "> #### Python语言功能之所以强大，其中很重要的原因之一是它有很多标准模块可以调用，也有很多第三方模块可以调用，调用方法主要有两种：<br>\n",
    "(1) import 库名，引用函数时，使用库名.函数名<br><br>\n",
    "(2) from 库名 import 函数名，引用函数时，直接函数名"
   ]
  },
  {
   "cell_type": "markdown",
   "id": "2894cc4f",
   "metadata": {},
   "source": [
    "#### 示例代码：导入库"
   ]
  },
  {
   "cell_type": "code",
   "execution_count": 10,
   "id": "99633c09",
   "metadata": {},
   "outputs": [
    {
     "name": "stdout",
     "output_type": "stream",
     "text": [
      "3.141592653589793\n",
      "9.0\n",
      "3.0\n"
     ]
    }
   ],
   "source": [
    "#导入math库，方便使用math库中的函数\n",
    "#方法1：import 库名，引用函数时，使用库名.函数名\n",
    "\n",
    "#方法2：from 库名 import 函数名，引用函数时，直接函数名\n",
    "\n",
    "\n",
    "\n",
    "#输出圆周率\n",
    "\n",
    "\n",
    "#输出a变量的绝对值\n",
    "\n",
    "\n",
    "#使用sqrt函数，输出a变量的平方根\n",
    "\n"
   ]
  },
  {
   "cell_type": "markdown",
   "id": "ba4b48e9",
   "metadata": {},
   "source": [
    "# 3、 计算pizza的大小任务实现\n",
    "<img src=\"img/pizza.png\" width=\"600\" height=\"600\" align=\"left\" />\n"
   ]
  },
  {
   "cell_type": "code",
   "execution_count": 25,
   "id": "f1709044",
   "metadata": {},
   "outputs": [
    {
     "name": "stdout",
     "output_type": "stream",
     "text": [
      "This program will calcaulate the area of pizza\n",
      "please input the Radius:2\n",
      "area is      12.57\n"
     ]
    }
   ],
   "source": [
    "import math\n",
    "print(\"This program will calcaulate the area of pizza\")\n",
    "r=eval(input(\"please input the Radius:\"))\n",
    "area=math.pi*r*r\n",
    "print(\"area is {:10.2f}\".format(area))"
   ]
  },
  {
   "cell_type": "markdown",
   "id": "35c60a61",
   "metadata": {},
   "source": [
    "## 4、总结和提高\n",
    "####  4.1 Python提供了加减乘除之外的另外一些基本运算符\n",
    "\n",
    "  \n",
    "  \n",
    "![title](img/运算操作符.png)\n",
    "\n",
    "  > 不同操作符优先级不一样\n",
    "  \n",
    "![title](img/优先级.png)"
   ]
  },
  {
   "cell_type": "code",
   "execution_count": null,
   "id": "e6fbec6a",
   "metadata": {},
   "outputs": [],
   "source": [
    "#定义两个变量，并分别使用“=”运算符进行赋值\n",
    "\n",
    "#求x与y的商，然后取整，结果为3\n",
    "\n",
    "#求x与y的余，也称为取模，结果为1\n",
    "\n",
    "#x的y次幂，结果为49\n",
    "\n",
    "#x的负值，结果为-7"
   ]
  },
  {
   "cell_type": "markdown",
   "id": "8f9e9242",
   "metadata": {},
   "source": [
    "#### 4.2 Python还提供了一些内置函数\n"
   ]
  },
  {
   "cell_type": "code",
   "execution_count": 1,
   "id": "5370d10f",
   "metadata": {},
   "outputs": [
    {
     "name": "stdout",
     "output_type": "stream",
     "text": [
      "5\n",
      "3\n",
      "8\n",
      "(4, 1)\n",
      "9\n",
      "-4\n"
     ]
    }
   ],
   "source": [
    "#绝对值\n",
    "\n",
    "#四舍五入取整 \n",
    "\n",
    "#幂指数运算，这里是求2的三次方\n",
    "\n",
    "#返回除法结果和余数，结果为4和1\n",
    "\n",
    "#求最大值\n",
    "\n",
    "#求最小值"
   ]
  },
  {
   "cell_type": "code",
   "execution_count": 14,
   "id": "5be6b1f9",
   "metadata": {},
   "outputs": [
    {
     "name": "stdout",
     "output_type": "stream",
     "text": [
      "5.0\n",
      "3\n",
      "5\n",
      "2.3\n",
      "A\n"
     ]
    }
   ],
   "source": [
    "#内置的数据类型转换函数\n",
    "\n",
    "# 转换为浮点数 float  \n",
    "\n",
    "# 转换为整型\n",
    "\n",
    "# 转换为整数 integer，结果为数字 5\n",
    "\n",
    "# 转换为字符串 string，结果为‘2.3’\n",
    "\n",
    "# 数值 65 对应的字符，结果为'A'"
   ]
  },
  {
   "cell_type": "markdown",
   "id": "e861dcd2",
   "metadata": {},
   "source": [
    "#### 4.3 关系表达式和逻辑表达式\n",
    "<img src=\"img/关系运算符.png\" width=\"400\" height=\"400\" align=\"left\" />\n",
    "<img src=\"img/逻辑运算符.png\" width=\"400\" height=\"400\" align=\"left\" />"
   ]
  },
  {
   "cell_type": "markdown",
   "id": "f2cf3c65",
   "metadata": {},
   "source": [
    "## 5、巩固与应用\n",
    "### 数字的各个位数求和问题\n",
    "<img src=\"img/位数求和.png\" width=\"600\" height=\"600\" align=\"left\" />"
   ]
  },
  {
   "cell_type": "code",
   "execution_count": 15,
   "id": "231ed64e",
   "metadata": {},
   "outputs": [
    {
     "name": "stdout",
     "output_type": "stream",
     "text": [
      "请输入一个三位数:（100-999）456\n",
      "15\n"
     ]
    }
   ],
   "source": []
  },
  {
   "cell_type": "code",
   "execution_count": null,
   "id": "c67932ce",
   "metadata": {},
   "outputs": [],
   "source": []
  }
 ],
 "metadata": {
  "kernelspec": {
   "display_name": "Python 3 (ipykernel)",
   "language": "python",
   "name": "python3"
  },
  "language_info": {
   "codemirror_mode": {
    "name": "ipython",
    "version": 3
   },
   "file_extension": ".py",
   "mimetype": "text/x-python",
   "name": "python",
   "nbconvert_exporter": "python",
   "pygments_lexer": "ipython3",
   "version": "3.9.7"
  }
 },
 "nbformat": 4,
 "nbformat_minor": 5
}
