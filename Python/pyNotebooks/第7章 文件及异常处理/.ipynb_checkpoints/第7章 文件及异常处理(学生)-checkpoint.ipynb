{
 "cells": [
  {
   "cell_type": "markdown",
   "metadata": {},
   "source": [
    "## 7.1 学生成绩处理与批量修改"
   ]
  },
  {
   "cell_type": "markdown",
   "metadata": {},
   "source": [
    "<img src=\"img/7-学生成绩整理.png\" width=\"1000\" height=\"800\" align=\"left\" />"
   ]
  },
  {
   "cell_type": "markdown",
   "metadata": {},
   "source": [
    "## 7.2 预备知识--文件操作与openpyxl库\n",
    "### 7.2.1 文件"
   ]
  },
  {
   "cell_type": "markdown",
   "metadata": {},
   "source": [
    "- 文件可分为文本文件和二进制文件两大类\n",
    "- 文本文件：由若干行以特定编码存储的字符组成，常见编码形式有ASCII编码，UNICODE编码等等。通常每行以换行符“\\n”结尾。在Windows系统中，扩展名为txt、log、ini、py的文件都属于文本文件。可用记事本之类的文本编辑器进行编辑。\n",
    "- 二进制文件：除文本文件以外的文件都可以称为二进制文件，其信息以字节串形式存储，不能用记事本或普通文字处理软件编辑，打开会是乱码，需使用相关软件进行解码后读取。常见的如各类office文档、音视频文件、可执行文件、图形图像文件等。\n"
   ]
  },
  {
   "cell_type": "markdown",
   "metadata": {},
   "source": [
    "### 7.2.2 文件常用操作\n",
    "#### 文件的打开\n",
    "我们在使用文件之前要先将文件打开，这通过open（）函数实现。   \n",
    "open（）函数的语法如下：   \n",
    "![](img/7-file.png)\n",
    "open（）函数中的参数还有很多，这里介绍4个常用参数，这些参数的含义如下。   \n",
    "- 1.file参数 file参数用于表示要打开的文件，可以是字符串或整数。如果file是 字符串，则表示文件名，文件名既可以是当前目录的相对路径，也可以 是绝对路径；如果file是整数，则表示一个已经打开的文件。   \n",
    "- 2.mode参数 mode参数用于设置文件打开模式，用字符串表示，例如rb表示以只 读模式打开二进制文件。用于设置文件打开模式的字符串中的每一个字 符都表示不同的含义，对这些字符的具体说明如下。 \n",
    "    - t：以文本文件模式打开文件。   \n",
    "    - b：以二进制文件模式打开文件。   \n",
    "    - r：以只读模式打开文件。  \n",
    "    - w：以只写模式打开文件，不能读内容。如果文件不存在，则创建 文件；如果文件存在，则覆盖文件的内容。   \n",
    "    - x：以独占创建模式打开文件，如果文件不存在，则创建并以写入模式打开；如果文件已存在，则引发FileExistsError异常。   \n",
    "    - a：以追加模式打开文件，不能读内容。如果文件不存在，则创建文件；如果文件存在，则在文件末尾追加。   \n",
    "    - +：以更新（读写）模式打开文件，必须与r、w或a组合使用，才能设置文件为读写模式。 这些字符可以进行组合，以表示不同类型的文件的打开模式，如下表所示。  \n",
    "![](img/7-file-1.png)\n",
    "\n",
    "- 3.encoding参数 encoding用来指定打开文件时的文件编码，默认是UTF-8编码，主要用于打开文本文件。   \n",
    "- 4.errors参数 errors参数用来指定在文本文件发生编码错误时如何处理。推荐erro rs参数的取值为'ignore'，表示在遇到编码错误时忽略该错误，程序会继 续执行，不会退出。\n"
   ]
  },
  {
   "cell_type": "code",
   "execution_count": null,
   "metadata": {},
   "outputs": [],
   "source": []
  },
  {
   "cell_type": "markdown",
   "metadata": {},
   "source": [
    "#### 文件的关闭\n",
    "在打开文件后，如果不再使用该文件，则应该将其关闭，会用到cl ose（）方法。"
   ]
  },
  {
   "cell_type": "code",
   "execution_count": null,
   "metadata": {},
   "outputs": [],
   "source": []
  },
  {
   "cell_type": "markdown",
   "metadata": {},
   "source": [
    "#### 文件的读写\n",
    "读写文本文件的相关方法如下。 \n",
    "- read（size=-1）：从文件中读取字符串，size限制读取的字符数，size=-1指对读取的字符数没有限制。  \n",
    "- readline（size=-1）：在读取到换行符或文件尾时返回单行字符串 。如果已经到文件尾，则返回一个空字符串。size是限制读取的字符数 ，size=-1表示没有限制。   \n",
    "- readlines（）：读取文件数据到一个字符串列表中，每一行数据都是列表的一个元素。   \n",
    "- write（s）：将字符串s写入文件中，并返回写入的字符数。   \n",
    "- writelines（lines）：向文件中写入一个字符串列表。不添加行分隔符，因此通常为每一行末尾都提供行分隔符。   \n",
    "- flush（）：刷新写缓冲区，在文件没有关闭的情况下将数据写入文件中。"
   ]
  },
  {
   "cell_type": "code",
   "execution_count": 2,
   "metadata": {},
   "outputs": [
    {
     "name": "stdout",
     "output_type": "stream",
     "text": [
      "Hello\n",
      "Hello world!\n"
     ]
    }
   ],
   "source": [
    "#打开某文件,向其中写入字符串\n",
    "f=open(\"myfile.txt\",\"w\")\n",
    "f.write(\"Hello world!\")\n",
    "f.close()\n",
    "#将上述文件打开\n",
    "f=open(\"myfile.txt\",\"r\")\n",
    "print(f.read(5))\n",
    "f.seek(0)\n",
    "print(f.read())\n",
    "f.close()"
   ]
  },
  {
   "cell_type": "code",
   "execution_count": null,
   "metadata": {},
   "outputs": [],
   "source": [
    "#readline()的应用\n",
    "f=open(\"data/test1.txt\",\"r\",encoding=\"utf-8\")\n",
    "# print(f.read())\n",
    "\n",
    "print(f.readline())\n",
    "print(f.readline())\n",
    "\n",
    "f.close()\n",
    "\n"
   ]
  },
  {
   "cell_type": "code",
   "execution_count": null,
   "metadata": {
    "code_folding": []
   },
   "outputs": [],
   "source": [
    "#读取文件的所有行并输出也可以这样实现\n",
    "f=open(\"data/test1.txt\",\"r\",encoding=\"utf-8\")\n",
    "for line in f:\n",
    "    print(line)\n",
    "f.close()"
   ]
  },
  {
   "cell_type": "code",
   "execution_count": null,
   "metadata": {},
   "outputs": [],
   "source": [
    "#readlines()的应用\n",
    "f=open(\"data/test1.txt\",\"r\",encoding=\"utf-8\")\n",
    "# print(f.read())\n",
    "\n",
    "ls=f.readlines()\n",
    "for i in ls:\n",
    "    print(i)\n",
    "f.close()"
   ]
  },
  {
   "cell_type": "code",
   "execution_count": null,
   "metadata": {},
   "outputs": [],
   "source": [
    "path=\"data/test1.txt\"\n",
    "with open(path,\"r\",encoding=\"utf-8\") as f:\n",
    "    for line in f:\n",
    "        print(line)"
   ]
  },
  {
   "cell_type": "markdown",
   "metadata": {},
   "source": [
    "#### with语句\n",
    "![](img/7-file-2.png)"
   ]
  },
  {
   "cell_type": "code",
   "execution_count": null,
   "metadata": {},
   "outputs": [],
   "source": []
  },
  {
   "cell_type": "code",
   "execution_count": 6,
   "metadata": {},
   "outputs": [
    {
     "name": "stdout",
     "output_type": "stream",
     "text": [
      "学生\n",
      "学生成绩表\n",
      "学号,姓名,课堂表现,课后实训,大作业,期末成绩\n",
      "01301001,朱志豪,92,85,84,91\n",
      "01301002,许可,87,81,82,89\n",
      "01301003,张炜发,82,83,79,80\n",
      "01301004,萧嘉慧,83,90,71,64\n",
      "01301005,林崇嘉,91,97,76,68\n",
      "01301006,郑振灿,96,85,71,61\n",
      "01301007,杜秋楠,90,87,79,82\n",
      "01301008,杨德生,77,86,64,45\n",
      "01301009,韩振峰,86,84,76,75\n",
      "01301010,罗曼琳,92,98,93,92\n",
      "01301011,潘保文,90,92,80,77\n",
      "01301012,曾繁智,89,90,78,76\n",
      "01301013,江希超,90,85,89,87\n",
      "01301014,谢宝宜,95,90,95,97\n",
      "01301015,张颖,98,98,93,87\n",
      "01301016,欧源,90,100,96,94\n",
      "01301017,杨淼坤,88,86,78,67\n",
      "01301018,蔡朝丹,86,96,85,77\n",
      "01301019,曾胜强,85,93,77,63\n",
      "01301020,许桂忠,84,88,82,74\n",
      "01301021,郑夏琪,91,85,75,50\n",
      "01301022,郑铭伟,88,75,75,73\n",
      "01301023,钟霸星,93,87,78,64\n",
      "01301024,欧雅丽,93,87,70,60\n",
      "01301025,陈钊锋,86,78,79,71\n",
      "01301026,洪金奎,94,88,80,67\n",
      "01301027,陈志鹏,91,88,97,99\n",
      "01301028,杜嘉颖,92,80,86,84\n",
      "01301029,谢俊辉,94,83,80,68\n",
      "01301030,杨定康,90,78,85,79\n",
      "01301031,江梓健,88,89,85,78\n",
      "01301032,侯必莲,90,86,81,69\n",
      "01301033,李炫廷,95,87,87,82\n",
      "01301034,赖永伟,95,84,76,60\n",
      "01301035,李勇,88,85,70,55\n",
      "01301036,詹婷珊,92,82,89,88\n",
      "01301037,张三,90,88,85,70"
     ]
    }
   ],
   "source": [
    "f=open(\"data/test1.txt\",\"r\",encoding=\"utf-8\")\n",
    "print(f.readline(2))\n",
    "f.close()\n",
    "with open(\"data/test1.txt\",\"r\",encoding=\"utf-8\") as f:\n",
    "    for i in f:\n",
    "        print(i,end=\"\")"
   ]
  },
  {
   "cell_type": "markdown",
   "metadata": {},
   "source": [
    "### 7.2.3 openpyxl库常用方法\n",
    "#### 创建Excel文件"
   ]
  },
  {
   "cell_type": "code",
   "execution_count": 58,
   "metadata": {},
   "outputs": [],
   "source": [
    "from openpyxl import Workbook  #需要大写\n",
    "wb=Workbook()\n",
    "ws=wb.worksheets[0]"
   ]
  },
  {
   "cell_type": "markdown",
   "metadata": {},
   "source": [
    "#### append函数"
   ]
  },
  {
   "cell_type": "code",
   "execution_count": 59,
   "metadata": {},
   "outputs": [],
   "source": [
    "row=['a','b','c','d','e']\n",
    "ws.append(row)"
   ]
  },
  {
   "cell_type": "markdown",
   "metadata": {},
   "source": [
    "#### 保存文件"
   ]
  },
  {
   "cell_type": "code",
   "execution_count": 60,
   "metadata": {},
   "outputs": [],
   "source": [
    "wb.save(r\"d:\\python\\myexcel.xlsx\")"
   ]
  },
  {
   "cell_type": "markdown",
   "metadata": {},
   "source": [
    "#### 读写Excel文件"
   ]
  },
  {
   "cell_type": "code",
   "execution_count": 61,
   "metadata": {},
   "outputs": [],
   "source": [
    "from openpyxl import load_workbook\n",
    "wb=load_workbook(r\"d:/python/myexcel.xlsx\")\n",
    "ws=wb.worksheets[0]"
   ]
  },
  {
   "cell_type": "markdown",
   "metadata": {},
   "source": [
    "#### 获取单元格内容"
   ]
  },
  {
   "cell_type": "code",
   "execution_count": 62,
   "metadata": {},
   "outputs": [
    {
     "name": "stdout",
     "output_type": "stream",
     "text": [
      "a\n",
      "None\n"
     ]
    }
   ],
   "source": [
    "a1=ws['A1'].value\n",
    "print(a1)\n",
    "print(ws.cell(row=2,column=1).value)"
   ]
  },
  {
   "cell_type": "markdown",
   "metadata": {},
   "source": [
    "#### 单元格赋值"
   ]
  },
  {
   "cell_type": "code",
   "execution_count": 63,
   "metadata": {},
   "outputs": [],
   "source": [
    "#直接通过单元格赋值\n",
    "ws['A1']=10\n",
    "ws.cell(row=2,column=1.,value=20)\n",
    "wb.save(r\"d:/python/myexcel.xlsx\")"
   ]
  },
  {
   "cell_type": "markdown",
   "metadata": {},
   "source": [
    "#### 获取行和列"
   ]
  },
  {
   "cell_type": "code",
   "execution_count": 64,
   "metadata": {},
   "outputs": [
    {
     "name": "stdout",
     "output_type": "stream",
     "text": [
      "2\n",
      "5\n"
     ]
    }
   ],
   "source": [
    "print(ws.max_row)\n",
    "print(ws.max_column)"
   ]
  },
  {
   "cell_type": "markdown",
   "metadata": {},
   "source": [
    "#### 获取所有单元格"
   ]
  },
  {
   "cell_type": "code",
   "execution_count": 65,
   "metadata": {},
   "outputs": [
    {
     "name": "stdout",
     "output_type": "stream",
     "text": [
      "10\n",
      "b\n",
      "c\n",
      "d\n",
      "e\n",
      "20\n",
      "None\n",
      "None\n",
      "None\n",
      "None\n"
     ]
    }
   ],
   "source": [
    "for r in range(ws.max_row):\n",
    "    for c in range(ws.max_column):\n",
    "        print(ws.cell(row=r+1,column=c+1).value)"
   ]
  },
  {
   "cell_type": "code",
   "execution_count": null,
   "metadata": {},
   "outputs": [],
   "source": []
  },
  {
   "cell_type": "markdown",
   "metadata": {},
   "source": [
    "### 7.2.4 os库常用方法"
   ]
  },
  {
   "cell_type": "code",
   "execution_count": 67,
   "metadata": {},
   "outputs": [
    {
     "name": "stdout",
     "output_type": "stream",
     "text": [
      "myexcel.xlsx\n",
      "第7章 文件及异常处理\n"
     ]
    }
   ],
   "source": [
    "import os\n",
    "path=r\"d:/python\"\n",
    "file_list=os.listdir(path)\n",
    "for file in file_list:\n",
    "    print(file)"
   ]
  },
  {
   "cell_type": "code",
   "execution_count": 96,
   "metadata": {},
   "outputs": [
    {
     "name": "stdout",
     "output_type": "stream",
     "text": [
      "\"张三\",\"李四\",\"王五\"\n",
      "a,a,a,a,a\n",
      "d,d,d,d,d\n",
      "1,2,3,4,5,6\n",
      "7,8,9,10,11"
     ]
    }
   ],
   "source": [
    "#代码补全1\n",
    "# ouput=open(\"d:data/file.txt\",\"w\")\n",
    "# ouput.write(\"这是最新的输入\")\n",
    "# ouput.close()\n",
    "\n",
    "# f=open(\"data/file.txt\",\"a\")\n",
    "# f.write(\"这是追加的信息！\")\n",
    "# f.close()\n",
    "\n",
    "f1=open(\"data/file.txt\",\"r\")\n",
    "for i in f1:\n",
    "    print(i,end=\"\")\n",
    "f1.close()"
   ]
  },
  {
   "cell_type": "code",
   "execution_count": 107,
   "metadata": {},
   "outputs": [
    {
     "name": "stdout",
     "output_type": "stream",
     "text": [
      "\"张三\",\"李四\",\"王五\"\n",
      "a,a,a,a,a\n",
      "读取到了第三行： d,d,d,d,d\n",
      "1\n",
      "2\n",
      "3\n",
      "4\n",
      "5\n",
      "6\n",
      "\n",
      "7,8,9,10,11"
     ]
    }
   ],
   "source": [
    "#代码补全2\n",
    "with open(\"data/file.txt\",\"r\") as f:\n",
    "    line=f.readlines()\n",
    "    for i in line:\n",
    "        if i==line[2]:\n",
    "            print(\"读取到了第三行：\",i,end=\"\")\n",
    "        elif i==line[3]:\n",
    "            i=i.split(',')\n",
    "            for j in i:\n",
    "                print(j)\n",
    "        else:\n",
    "            print(i,end=\"\")"
   ]
  },
  {
   "cell_type": "code",
   "execution_count": 112,
   "metadata": {},
   "outputs": [
    {
     "name": "stdout",
     "output_type": "stream",
     "text": [
      "37\n",
      "2\n",
      "{'01301001': '朱志豪', '01301002': '许可', '01301003': '张炜发', '01301004': '萧嘉慧', '01301005': '林崇嘉', '01301006': '郑振灿', '01301007': '杜秋楠', '01301008': '杨德生', '01301009': '韩振峰', '01301010': '罗曼琳', '01301011': '潘保文', '01301012': '曾繁智', '01301013': '江希超', '01301014': '谢宝宜', '01301015': '张颖', '01301016': '欧源', '01301017': '杨淼坤', '01301018': '蔡朝丹', '01301019': '曾胜强', '01301020': '许桂忠', '01301021': '郑夏琪', '01301022': '郑铭伟', '01301023': '钟霸星', '01301024': '欧雅丽', '01301025': '陈钊锋', '01301026': '洪金奎', '01301027': '陈志鹏', '01301028': '杜嘉颖', '01301029': '谢俊辉', '01301030': '杨定康', '01301031': '江梓健', '01301032': '侯必莲', '01301033': '李炫廷', '01301034': '赖永伟', '01301035': '李勇', '01301036': '詹婷珊', '01301037': '张三'}\n"
     ]
    }
   ],
   "source": [
    "#练习\n",
    "from openpyxl import load_workbook\n",
    "wb=load_workbook(r\"student.xlsx\")\n",
    "#返回第一张工作表\n",
    "ws=wb.worksheets[0]\n",
    "dic={}\n",
    "for r in range(1,ws.max_row+1):\n",
    "    i=ws.cell(row=r,column=1).value\n",
    "    for c in range(1,ws.max_column+1):\n",
    "        dic[i]=ws.cell(row=r,column=c).value\n",
    "print(ws.max_row)\n",
    "print(ws.max_column)\n",
    "print(dic)"
   ]
  },
  {
   "cell_type": "markdown",
   "metadata": {},
   "source": [
    "## 7.3 任务分析\n",
    "### 7.3.1任务分析--单个文件格式转换"
   ]
  },
  {
   "cell_type": "code",
   "execution_count": null,
   "metadata": {},
   "outputs": [],
   "source": []
  },
  {
   "cell_type": "markdown",
   "metadata": {},
   "source": [
    "### 7.3.2 任务分析--批量文件格式转换"
   ]
  },
  {
   "cell_type": "code",
   "execution_count": null,
   "metadata": {
    "scrolled": true
   },
   "outputs": [],
   "source": []
  },
  {
   "cell_type": "markdown",
   "metadata": {},
   "source": [
    "### 7.3.3 任务分析--单个文件内容修改"
   ]
  },
  {
   "cell_type": "code",
   "execution_count": null,
   "metadata": {},
   "outputs": [],
   "source": []
  },
  {
   "cell_type": "markdown",
   "metadata": {},
   "source": [
    "### 7.3.4 任务分析--批量文件内容修改"
   ]
  },
  {
   "cell_type": "code",
   "execution_count": 40,
   "metadata": {},
   "outputs": [
    {
     "name": "stdout",
     "output_type": "stream",
     "text": [
      "错误\n"
     ]
    }
   ],
   "source": [
    "ls=[1,2,3,4]\n",
    "try:\n",
    "#     print(ls[-6])\n",
    "    a=5/0\n",
    "except:\n",
    "    print(\"错误\")\n",
    "else:\n",
    "    print(\"正常\")\n",
    "# from openpyxl import Workbook\n",
    "# wb=Workbook()\n",
    "# ws=wb.active\n",
    "# ws.append([1,2,3])\n",
    "# wb.save(\"1.xlsx\")"
   ]
  },
  {
   "cell_type": "markdown",
   "metadata": {},
   "source": [
    "## 7.4 任务实现\n",
    "#### 单个文件格式转换"
   ]
  },
  {
   "cell_type": "code",
   "execution_count": 25,
   "metadata": {},
   "outputs": [],
   "source": [
    "from openpyxl import Workbook\n",
    "def convert(fname):\n",
    "    fn=fname.split('.txt')[0]\n",
    "    wb=Workbook()\n",
    "    ws=wb.worksheets[0]\n",
    "    with open(fname,\"r\",encoding=\"utf-8\") as fp:\n",
    "        for i in fp:\n",
    "            ws.append(i.strip('').split(','))\n",
    "    wb.save(fn+\".xlsx\")"
   ]
  },
  {
   "cell_type": "markdown",
   "metadata": {},
   "source": [
    "#### 批量文件格式转换"
   ]
  },
  {
   "cell_type": "code",
   "execution_count": 26,
   "metadata": {},
   "outputs": [],
   "source": [
    "#将某个目录的txt文件转换成excel文件\n",
    "import os\n",
    "file_list=os.listdir(\"./test/\")\n",
    "for file in file_list:\n",
    "    if(file[-3:]==\"txt\"):\n",
    "        convert(\"test/\"+file)"
   ]
  },
  {
   "cell_type": "markdown",
   "metadata": {},
   "source": [
    "#### 单个文件内容修改"
   ]
  },
  {
   "cell_type": "code",
   "execution_count": 27,
   "metadata": {},
   "outputs": [],
   "source": [
    "from openpyxl import load_workbook\n",
    "def change(file):\n",
    "    wb=load_workbook(file)\n",
    "    ws=wb.active\n",
    "    for i in range(ws.max_row):\n",
    "        for j in range(ws.max_column):\n",
    "            if(ws.cell(row=i+1,column=j+1).value==\"朱志豪\"):\n",
    "                ws.cell(row=i+1,column=j+1,value=\"朱智豪\")\n",
    "    wb.save(file)"
   ]
  },
  {
   "cell_type": "markdown",
   "metadata": {},
   "source": [
    "#### 批量文件内容修改"
   ]
  },
  {
   "cell_type": "code",
   "execution_count": 28,
   "metadata": {},
   "outputs": [],
   "source": [
    "import os\n",
    "file_list=os.listdir(\"./test/\")\n",
    "for file in file_list:\n",
    "    if(file[-4:]==\"xlsx\"):\n",
    "        change(\"test/\"+file)"
   ]
  },
  {
   "cell_type": "markdown",
   "metadata": {},
   "source": [
    "## 7.5 学生成绩文件异常处理"
   ]
  },
  {
   "cell_type": "code",
   "execution_count": null,
   "metadata": {},
   "outputs": [],
   "source": []
  },
  {
   "cell_type": "markdown",
   "metadata": {},
   "source": [
    "## 7.6 预备知识--异常\n",
    "为增强程序的健壮性，我们也需要考虑异常处理方面的内容。例如 ，在读取文件时需要考虑文件不存在、文件格式不正确等异常情况。\n",
    "### 7.6.1 异常"
   ]
  },
  {
   "cell_type": "code",
   "execution_count": null,
   "metadata": {},
   "outputs": [],
   "source": []
  },
  {
   "cell_type": "markdown",
   "metadata": {},
   "source": [
    "#### 除零异常\n",
    "![](img/7-exception.png)"
   ]
  },
  {
   "cell_type": "code",
   "execution_count": 8,
   "metadata": {},
   "outputs": [
    {
     "name": "stdout",
     "output_type": "stream",
     "text": [
      "ZeroDivisionError\n"
     ]
    }
   ],
   "source": [
    "#ZeroDivisionError\n",
    "try:\n",
    "    print(3/0)\n",
    "except ZeroDivisionError:\n",
    "    print(\"ZeroDivisionError\")"
   ]
  },
  {
   "cell_type": "markdown",
   "metadata": {},
   "source": [
    "#### 操作数类型异常"
   ]
  },
  {
   "cell_type": "code",
   "execution_count": 9,
   "metadata": {},
   "outputs": [
    {
     "name": "stdout",
     "output_type": "stream",
     "text": [
      "TypeError\n"
     ]
    }
   ],
   "source": [
    "#TypeError\n",
    "try:\n",
    "    print(3+'1')\n",
    "except TypeError:\n",
    "    print(\"TypeError\")"
   ]
  },
  {
   "cell_type": "markdown",
   "metadata": {},
   "source": [
    "#### 命名异常"
   ]
  },
  {
   "cell_type": "code",
   "execution_count": 11,
   "metadata": {},
   "outputs": [
    {
     "name": "stdout",
     "output_type": "stream",
     "text": [
      "NameError\n"
     ]
    }
   ],
   "source": [
    "#NameError\n",
    "try:\n",
    "    print(a)\n",
    "except NameError:\n",
    "    print(\"NameError\")"
   ]
  },
  {
   "cell_type": "markdown",
   "metadata": {},
   "source": [
    "#### 文件不存在异常"
   ]
  },
  {
   "cell_type": "code",
   "execution_count": 13,
   "metadata": {},
   "outputs": [
    {
     "name": "stdout",
     "output_type": "stream",
     "text": [
      "FileNotFoundError\n"
     ]
    }
   ],
   "source": [
    "#FileNotFoundError\n",
    "try:\n",
    "    print(open(\"D\"))\n",
    "except FileNotFoundError:\n",
    "    print(\"FileNotFoundError\")"
   ]
  },
  {
   "cell_type": "markdown",
   "metadata": {},
   "source": [
    "#### 下标越界异常"
   ]
  },
  {
   "cell_type": "code",
   "execution_count": 14,
   "metadata": {},
   "outputs": [
    {
     "name": "stdout",
     "output_type": "stream",
     "text": [
      "IndexError\n"
     ]
    }
   ],
   "source": [
    "#IndexError\n",
    "try:\n",
    "    print([1,2][3])\n",
    "except IndexError:\n",
    "    print(\"IndexError\")"
   ]
  },
  {
   "cell_type": "markdown",
   "metadata": {},
   "source": [
    "#### 参数类型异常"
   ]
  },
  {
   "cell_type": "code",
   "execution_count": 15,
   "metadata": {},
   "outputs": [
    {
     "name": "stdout",
     "output_type": "stream",
     "text": [
      "TypeError\n"
     ]
    }
   ],
   "source": [
    "#TypeError\n",
    "try:\n",
    "    print(len(5))\n",
    "except TypeError:\n",
    "    print(\"TypeError\")"
   ]
  },
  {
   "cell_type": "markdown",
   "metadata": {},
   "source": [
    "### 7.6.2 常见异常结构处理\n",
    "#### try...except...\n",
    "异常捕获是通过try-except语句实现的，基本的try-except语句的语法 如下。在try代码块中包含在执行过程中可能引发异常的语句，如果没有发 生异常，则跳到except代码块执行，这就是异常捕获。\n",
    "![](img/7-exception-1.png)"
   ]
  },
  {
   "cell_type": "code",
   "execution_count": null,
   "metadata": {},
   "outputs": [],
   "source": []
  },
  {
   "cell_type": "code",
   "execution_count": null,
   "metadata": {},
   "outputs": [],
   "source": []
  },
  {
   "cell_type": "markdown",
   "metadata": {},
   "source": [
    "#### try...except...else..."
   ]
  },
  {
   "cell_type": "code",
   "execution_count": 23,
   "metadata": {},
   "outputs": [
    {
     "name": "stdout",
     "output_type": "stream",
     "text": [
      "input a data:0\n",
      "1\n"
     ]
    }
   ],
   "source": [
    "x=input(\"input a data:\")\n",
    "try:\n",
    "    x=int(x)\n",
    "    print(5/x)\n",
    "except Exception:  #Exception可省略\n",
    "    print(\"error\")\n",
    "else:\n",
    "    print(\"5/{}={}\".format(x,5/x))"
   ]
  },
  {
   "cell_type": "markdown",
   "metadata": {},
   "source": [
    "#### try...except...finally...\n",
    "![](img/7-exception-3.png)  \n",
    "无论是try代码块正常结束还是except代码块异常结束，都会执行finally代码块。"
   ]
  },
  {
   "cell_type": "code",
   "execution_count": 25,
   "metadata": {},
   "outputs": [
    {
     "name": "stdout",
     "output_type": "stream",
     "text": [
      "1\n",
      "except不执行则执行\n",
      "finally无论如何都会执行\n"
     ]
    }
   ],
   "source": [
    "#TypeError\n",
    "try:\n",
    "    print(len(\"5\"))\n",
    "except TypeError:\n",
    "    print(\"TypeError\")\n",
    "else:\n",
    "    print(\"except不执行则执行\")\n",
    "finally:\n",
    "    print(\"finally无论如何都会执行\")"
   ]
  },
  {
   "cell_type": "code",
   "execution_count": 28,
   "metadata": {},
   "outputs": [
    {
     "name": "stdout",
     "output_type": "stream",
     "text": [
      "input a data:a\n",
      "x应为整数类型\n"
     ]
    }
   ],
   "source": [
    "x=input(\"input a data:\")\n",
    "try:\n",
    "    x=int(x)\n",
    "    print(5/x)\n",
    "except ZeroDivisionError:\n",
    "    print(\"0的错\")\n",
    "except ValueError:\n",
    "    print(\"x应为整数类型\")\n",
    "except TypeError:\n",
    "    print(\"类型的错\")\n",
    "except NameError:\n",
    "    print(\"变量没有定义\")\n",
    "except Exception:  #Exception可省略\n",
    "    print(\"error\")\n",
    "else:\n",
    "    print(\"5/{}={}\".format(x,5/x))"
   ]
  },
  {
   "cell_type": "markdown",
   "metadata": {},
   "source": [
    "#### 捕捉多种异常的处理结构\n",
    "![](img/7-exception-2.png)"
   ]
  },
  {
   "cell_type": "code",
   "execution_count": null,
   "metadata": {},
   "outputs": [],
   "source": []
  },
  {
   "cell_type": "markdown",
   "metadata": {},
   "source": [
    "## 7.7 任务分析"
   ]
  },
  {
   "cell_type": "code",
   "execution_count": null,
   "metadata": {},
   "outputs": [],
   "source": []
  },
  {
   "cell_type": "markdown",
   "metadata": {},
   "source": [
    "## 7.8 任务实现"
   ]
  },
  {
   "cell_type": "code",
   "execution_count": 39,
   "metadata": {},
   "outputs": [
    {
     "name": "stdout",
     "output_type": "stream",
     "text": [
      "文件不存在\n"
     ]
    }
   ],
   "source": [
    "from openpyxl import load_workbook\n",
    "try:\n",
    "    wb=load_workbook(\"./data/\")\n",
    "    ws=wb.worksheets[5]\n",
    "    ws.append([1,2,3,4,5])\n",
    "    ws.save(\"test.xlsx\")\n",
    "except FileNotFoundError:\n",
    "    print(\"文件不存在\")\n",
    "except IndexError:\n",
    "    print(\"下表越界\")\n",
    "except TypeError:\n",
    "    print(\"类型错误\")\n",
    "except PermissionError:\n",
    "    printnt(\"文件未关闭\")\n",
    "else:\n",
    "    print(\"正常的\")"
   ]
  },
  {
   "cell_type": "markdown",
   "metadata": {},
   "source": [
    "## 7.9 职业院校建设方案的分词和云图"
   ]
  },
  {
   "cell_type": "code",
   "execution_count": null,
   "metadata": {},
   "outputs": [],
   "source": []
  },
  {
   "cell_type": "markdown",
   "metadata": {},
   "source": [
    "## 7.10 预备知识--jieba库和wordcloud库\n",
    "### 7.10.1 jieba库"
   ]
  },
  {
   "cell_type": "code",
   "execution_count": null,
   "metadata": {},
   "outputs": [],
   "source": []
  },
  {
   "cell_type": "markdown",
   "metadata": {},
   "source": [
    "#### 精确模式"
   ]
  },
  {
   "cell_type": "code",
   "execution_count": null,
   "metadata": {},
   "outputs": [],
   "source": []
  },
  {
   "cell_type": "markdown",
   "metadata": {},
   "source": [
    "#### 全模式"
   ]
  },
  {
   "cell_type": "code",
   "execution_count": null,
   "metadata": {},
   "outputs": [],
   "source": []
  },
  {
   "cell_type": "markdown",
   "metadata": {},
   "source": [
    "#### 搜索引擎模式"
   ]
  },
  {
   "cell_type": "code",
   "execution_count": null,
   "metadata": {},
   "outputs": [],
   "source": []
  },
  {
   "cell_type": "markdown",
   "metadata": {},
   "source": [
    "### 7.10.2 wordcloud库"
   ]
  },
  {
   "cell_type": "code",
   "execution_count": null,
   "metadata": {},
   "outputs": [],
   "source": []
  },
  {
   "cell_type": "markdown",
   "metadata": {},
   "source": [
    "#### 创建词云图"
   ]
  },
  {
   "cell_type": "code",
   "execution_count": null,
   "metadata": {},
   "outputs": [],
   "source": []
  },
  {
   "cell_type": "markdown",
   "metadata": {},
   "source": [
    "## 7.11 任务分析\n",
    "### 7.11.1 词频统计"
   ]
  },
  {
   "cell_type": "code",
   "execution_count": null,
   "metadata": {},
   "outputs": [],
   "source": []
  },
  {
   "cell_type": "markdown",
   "metadata": {},
   "source": [
    "### 7.11.2 统计优化"
   ]
  },
  {
   "cell_type": "code",
   "execution_count": null,
   "metadata": {},
   "outputs": [],
   "source": []
  },
  {
   "cell_type": "markdown",
   "metadata": {},
   "source": [
    "### 7.11.3 词云图的绘制"
   ]
  },
  {
   "cell_type": "code",
   "execution_count": null,
   "metadata": {},
   "outputs": [],
   "source": []
  },
  {
   "cell_type": "markdown",
   "metadata": {},
   "source": [
    "## 7.12 任务实现\n",
    "#### 词频统计"
   ]
  },
  {
   "cell_type": "code",
   "execution_count": null,
   "metadata": {},
   "outputs": [],
   "source": []
  },
  {
   "cell_type": "markdown",
   "metadata": {},
   "source": [
    "#### 统计优化"
   ]
  },
  {
   "cell_type": "code",
   "execution_count": null,
   "metadata": {},
   "outputs": [],
   "source": []
  },
  {
   "cell_type": "markdown",
   "metadata": {},
   "source": [
    "#### 词云图绘制"
   ]
  },
  {
   "cell_type": "code",
   "execution_count": null,
   "metadata": {},
   "outputs": [],
   "source": [
    "import matplotlib.pyplot as plt\n",
    "from wordcloud import WordCloud,ImageColorGenerator\n",
    "from PIL import Image\n",
    "import jieba\n",
    "import numpy\n",
    "#打开图像并转化为数字矩阵\n",
    "img= numpy.array(Image.open(\"data/XXX.jpg\"))\n",
    "\n",
    "text_word = open('data/szpt.txt').read()\n",
    "\n",
    "wordlist= jieba.lcut(text_word, cut_all=True)\n",
    "wl_split = \"/\".join(wordlist)\n",
    "\n",
    "wc1 = WordCloud(background_color='WHITE', max_font_size=1000, mask=img,\n",
    "                font_path=\"C:\\\\Windows\\\\Fonts\\\\STKAITI.TTF\")\n",
    "\n",
    "my_wordcloud = wc1.generate(wl_split)\n",
    "\n",
    "#image_color = ImageColorGenerator(img)\n",
    "#wc1.recolor(color_func=image_color)\n",
    "plt.figure(figsize=(12,8))\n",
    "plt.imshow(my_wordcloud)\n",
    "plt.axis(\"off\")\n",
    "plt.show()"
   ]
  },
  {
   "cell_type": "markdown",
   "metadata": {},
   "source": [
    "## 7.13 总结与提高--os库其他成员、文件编码、再谈异常\n",
    "## 7.13.1 os库其他成员"
   ]
  },
  {
   "cell_type": "code",
   "execution_count": null,
   "metadata": {},
   "outputs": [],
   "source": []
  },
  {
   "cell_type": "markdown",
   "metadata": {},
   "source": [
    "### 7.13.2 文件编码"
   ]
  },
  {
   "cell_type": "code",
   "execution_count": null,
   "metadata": {},
   "outputs": [],
   "source": []
  },
  {
   "cell_type": "markdown",
   "metadata": {},
   "source": [
    "### 7.13.3 再谈异常"
   ]
  },
  {
   "cell_type": "code",
   "execution_count": null,
   "metadata": {},
   "outputs": [],
   "source": []
  },
  {
   "cell_type": "markdown",
   "metadata": {},
   "source": [
    "## 7.14 巩固与提高\n",
    "### 7.14.1 数据处理与文件另存"
   ]
  },
  {
   "cell_type": "code",
   "execution_count": 44,
   "metadata": {},
   "outputs": [
    {
     "name": "stdout",
     "output_type": "stream",
     "text": [
      "['12', '17', '19', '25', '28', '34', '39', '44', '47', '51', '56', '66', '78', '81', '88', '90', '95', '98']\n"
     ]
    }
   ],
   "source": [
    "#我写的\n",
    "ls=[]\n",
    "with open(\"data/data.txt\",\"r\",encoding=\"utf-8\") as f:\n",
    "    for i in f:\n",
    "        ls.extend(i.strip().split(','))\n",
    "ls.sort()\n",
    "print(ls)\n",
    "with open(\"data/datasort.txt\",\"w\",encoding=\"utf-8\") as f:\n",
    "    for i in ls:\n",
    "        f.write(i)\n",
    "        if(i!=ls[-1]):\n",
    "            f.write(\",\")"
   ]
  },
  {
   "cell_type": "code",
   "execution_count": 81,
   "metadata": {},
   "outputs": [
    {
     "name": "stdout",
     "output_type": "stream",
     "text": [
      "[12, 17, 19, 25, 28, 34, 39, 44, 47, 51, 56, 66, 78, 81, 88, 90, 95, 98]\n"
     ]
    },
    {
     "ename": "TypeError",
     "evalue": "sequence item 0: expected str instance, int found",
     "output_type": "error",
     "traceback": [
      "\u001b[1;31m---------------------------------------------------------------------------\u001b[0m",
      "\u001b[1;31mTypeError\u001b[0m                                 Traceback (most recent call last)",
      "\u001b[1;32m<ipython-input-81-89fcf12b44f7>\u001b[0m in \u001b[0;36m<module>\u001b[1;34m\u001b[0m\n\u001b[0;32m     13\u001b[0m \u001b[0mls2\u001b[0m\u001b[1;33m.\u001b[0m\u001b[0msort\u001b[0m\u001b[1;33m(\u001b[0m\u001b[1;33m)\u001b[0m\u001b[1;33m\u001b[0m\u001b[1;33m\u001b[0m\u001b[0m\n\u001b[0;32m     14\u001b[0m \u001b[0mprint\u001b[0m\u001b[1;33m(\u001b[0m\u001b[0mls2\u001b[0m\u001b[1;33m)\u001b[0m\u001b[1;33m\u001b[0m\u001b[1;33m\u001b[0m\u001b[0m\n\u001b[1;32m---> 15\u001b[1;33m \u001b[0mstr\u001b[0m\u001b[1;33m=\u001b[0m\u001b[1;34m','\u001b[0m\u001b[1;33m.\u001b[0m\u001b[0mjoin\u001b[0m\u001b[1;33m(\u001b[0m\u001b[0mls2\u001b[0m\u001b[1;33m)\u001b[0m\u001b[1;33m\u001b[0m\u001b[1;33m\u001b[0m\u001b[0m\n\u001b[0m\u001b[0;32m     16\u001b[0m \u001b[1;32mwith\u001b[0m \u001b[0mopen\u001b[0m\u001b[1;33m(\u001b[0m\u001b[1;34m\"data/datasort.txt\"\u001b[0m\u001b[1;33m,\u001b[0m\u001b[1;34m\"w\"\u001b[0m\u001b[1;33m,\u001b[0m\u001b[0mencoding\u001b[0m\u001b[1;33m=\u001b[0m\u001b[1;34m\"utf-8\"\u001b[0m\u001b[1;33m)\u001b[0m \u001b[1;32mas\u001b[0m \u001b[0mf\u001b[0m\u001b[1;33m:\u001b[0m\u001b[1;33m\u001b[0m\u001b[1;33m\u001b[0m\u001b[0m\n\u001b[0;32m     17\u001b[0m     \u001b[0mf\u001b[0m\u001b[1;33m.\u001b[0m\u001b[0mwrite\u001b[0m\u001b[1;33m(\u001b[0m\u001b[0mstr\u001b[0m\u001b[1;33m)\u001b[0m\u001b[1;33m\u001b[0m\u001b[1;33m\u001b[0m\u001b[0m\n",
      "\u001b[1;31mTypeError\u001b[0m: sequence item 0: expected str instance, int found"
     ]
    }
   ],
   "source": [
    "#书本的\n",
    "ls=[]\n",
    "with open(\"data/data.txt\",\"r\",encoding=\"utf-8\") as f:\n",
    "    for i in f:\n",
    "        ls.append(i)\n",
    "for i in range(len(ls)):\n",
    "    ls[i]=ls[i].strip()\n",
    "str=','.join(ls)\n",
    "ls=str.split(',')\n",
    "ls2=[]\n",
    "for i in ls:\n",
    "    ls2.append(int(i))\n",
    "ls2.sort()\n",
    "print(ls2)\n",
    "str=','.join(ls2)\n",
    "with open(\"data/datasort.txt\",\"w\",encoding=\"utf-8\") as f:\n",
    "    f.write(str)"
   ]
  },
  {
   "cell_type": "markdown",
   "metadata": {},
   "source": [
    "### 7.14.2 批量修改记事本文件编码格式"
   ]
  },
  {
   "cell_type": "code",
   "execution_count": 77,
   "metadata": {},
   "outputs": [
    {
     "name": "stdout",
     "output_type": "stream",
     "text": [
      "['.ipynb_checkpoints', '8.3.1.txt', '8.3.1.xlsx', 'data', 'img', 'myfile.txt', 'student.xlsx', 'test', '第7章 文件及异常处理(学生).ipynb']\n"
     ]
    }
   ],
   "source": [
    "import os\n",
    "ls=[]\n",
    "for i in os.listdir(\".\"):\n",
    "    if(i[-4:]==\".txt\"):\n",
    "        ls.appendp(i)"
   ]
  },
  {
   "cell_type": "markdown",
   "metadata": {},
   "source": [
    "### 7.14.3 演员参演信息"
   ]
  },
  {
   "cell_type": "code",
   "execution_count": null,
   "metadata": {},
   "outputs": [],
   "source": [
    "import openpyxl\n",
    "from openpyxl import Workbook\n",
    "\n",
    "def getData(filename):\n",
    "    actors = dict()\n",
    "    # 打开xlsx文件，并获取第一个worksheet\n",
    "    wb = openpyxl.load_workbook(filename)\n",
    "    ws = wb.worksheets[0]\n",
    "    # 遍历Excel文件中的所有行\n",
    "    for index, row in enumerate(ws.rows):\n",
    "        # 绕过第一行的表头\n",
    "        if index == 0:\n",
    "            continue\n",
    "        # 获取电影名称和演员列表\n",
    "        filmName, actor = row[0].value, row[2].value.split('，')\n",
    "        # 遍历该电影的所有演员，统计参演电影\n",
    "        for a in actor:\n",
    "            actors[a] = actors.get(a, set())\n",
    "            actors[a].add(filmName)\n",
    "    return actors\n",
    "\n",
    "data = getData('data/电影导演演员.xlsx')\n",
    "# 排序\n",
    "data = sorted(data.items(), key=lambda x:int(x[0][2:]))\n",
    "for item in data:\n",
    "    print(item)"
   ]
  },
  {
   "cell_type": "code",
   "execution_count": null,
   "metadata": {},
   "outputs": [],
   "source": [
    "from openpyxl import load_workbook\n",
    "ws=load_workbook(\"data/电影导演演员.xlsx电影\")\n",
    "\n",
    "dic={}\n",
    "for i in range(ws.max_row):\n",
    "    if i==0:\n",
    "        continue\n",
    "    "
   ]
  },
  {
   "cell_type": "markdown",
   "metadata": {},
   "source": [
    "## 7.15 编程习题"
   ]
  },
  {
   "cell_type": "code",
   "execution_count": null,
   "metadata": {},
   "outputs": [],
   "source": []
  },
  {
   "cell_type": "code",
   "execution_count": null,
   "metadata": {},
   "outputs": [],
   "source": []
  }
 ],
 "metadata": {
  "hide_input": false,
  "kernelspec": {
   "display_name": "Python 3",
   "language": "python",
   "name": "python3"
  },
  "language_info": {
   "codemirror_mode": {
    "name": "ipython",
    "version": 3
   },
   "file_extension": ".py",
   "mimetype": "text/x-python",
   "name": "python",
   "nbconvert_exporter": "python",
   "pygments_lexer": "ipython3",
   "version": "3.8.8"
  },
  "toc": {
   "base_numbering": 1,
   "nav_menu": {},
   "number_sections": false,
   "sideBar": false,
   "skip_h1_title": false,
   "title_cell": "Table of Contents",
   "title_sidebar": "Contents",
   "toc_cell": false,
   "toc_position": {},
   "toc_section_display": false,
   "toc_window_display": false
  },
  "vscode": {
   "interpreter": {
    "hash": "287ce0282b01c1888cda87edf8a6ea705b55de1d257c8ee64a27122feab8970f"
   }
  }
 },
 "nbformat": 4,
 "nbformat_minor": 2
}
