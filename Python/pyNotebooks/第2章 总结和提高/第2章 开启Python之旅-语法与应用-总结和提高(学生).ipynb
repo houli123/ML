{
 "cells": [
  {
   "cell_type": "markdown",
   "id": "f67845d9",
   "metadata": {},
   "source": [
    "<img src=\"img/总结与提高.png\" width=\"900\" height=\"600\" align=\"center\" />"
   ]
  },
  {
   "cell_type": "markdown",
   "id": "b6eda894",
   "metadata": {},
   "source": [
    "##  知识点思维导图\n",
    "\n",
    "<img src=\"img/思维导图2.png\" width=\"1000\" height=\"900\" align=\"left\" />"
   ]
  },
  {
   "cell_type": "markdown",
   "id": "41938918",
   "metadata": {},
   "source": [
    "## 学习目标：\n",
    "* ## 能够使用for语句实现对不同数据结构的遍历\n",
    "* ## 能够使用continue和break语句实现对循环的控制\n"
   ]
  },
  {
   "cell_type": "markdown",
   "id": "07fa6878",
   "metadata": {},
   "source": [
    "#### 学习步骤：\n",
    "1、项目1:百货公司折扣战\n",
    "\n",
    "2、预备知识--循环结构\n",
    "\n",
    "3、百货公司折扣战任务实现\n",
    "\n",
    "4、总结与提高\n",
    "\n",
    "5、巩固与应用（项目2、3、4）"
   ]
  },
  {
   "cell_type": "markdown",
   "id": "a5bbaded",
   "metadata": {},
   "source": [
    "## 1、总结和提高\n",
    "<img src=\"img/总结提高.png\" width=\"400\" height=\"400\" align=\"left\" />\n"
   ]
  },
  {
   "cell_type": "markdown",
   "id": "904451b1",
   "metadata": {},
   "source": [
    "### 1.1 for语句的遍历\n",
    "#### 遍历结构可以是字符串、文件、组合数据类型或range()函数等\n",
    "* #### 循环N次<br>\n",
    "for i in range(N):<br>\n",
    " &nbsp;&nbsp;&nbsp;<语句块>\n",
    " \n",
    "* #### 遍历文件fi的每一行<br>\n",
    " for line in fi:<br>\n",
    "    &nbsp;&nbsp;&nbsp; <语句块>\n",
    "* #### 遍历字符串S<br>\n",
    "for c in s:<br>\n",
    "    &nbsp;&nbsp;&nbsp; <语句块>\n",
    "    \n",
    "* #### 遍历列表ls<br>\n",
    "for item in ls:<br>\n",
    "    &nbsp;&nbsp;&nbsp; <语句块>"
   ]
  },
  {
   "cell_type": "markdown",
   "id": "57368c7f",
   "metadata": {},
   "source": [
    "练习1：请用for循环输出字符串“庆祝中华人民共和国成立70周年”的每一个字符"
   ]
  },
  {
   "cell_type": "code",
   "execution_count": 2,
   "id": "f51a1de5",
   "metadata": {},
   "outputs": [
    {
     "name": "stdout",
     "output_type": "stream",
     "text": [
      "庆\n",
      "祝\n",
      "中\n",
      "华\n",
      "人\n",
      "民\n",
      "共\n",
      "和\n",
      "国\n",
      "成\n",
      "立\n",
      "7\n",
      "4\n",
      "周\n",
      "年\n"
     ]
    }
   ],
   "source": [
    "s=\"庆祝中华人民共和国成立74周年\"\n",
    "for c in s:\n",
    "    print(c)"
   ]
  },
  {
   "cell_type": "markdown",
   "id": "e46b5399",
   "metadata": {},
   "source": [
    "### 1.2 break和continue的使用\n",
    "> #### 循环结构有两个保留字，break和continue，可以用来辅助控制循环执行\n",
    "* ##### continue可以用来结束当前当次循环，即跳出循环体中下面尚未执行的语句，但不跳出当前循环。\n",
    "* ##### break可以跳出当前循环，即当前循环彻底结束"
   ]
  },
  {
   "cell_type": "markdown",
   "id": "4228eb83",
   "metadata": {},
   "source": [
    "#### 练习2：break和continue语句效果练习"
   ]
  },
  {
   "cell_type": "code",
   "execution_count": 4,
   "id": "9c3f52e8",
   "metadata": {},
   "outputs": [
    {
     "name": "stdout",
     "output_type": "stream",
     "text": [
      "pyhon"
     ]
    }
   ],
   "source": [
    "#continue保留字练习\n",
    "for s in \"python\":\n",
    "    if s==\"t\":\n",
    "        continue\n",
    "    print(s,end=\"\")"
   ]
  },
  {
   "cell_type": "code",
   "execution_count": 6,
   "id": "abc488fd",
   "metadata": {},
   "outputs": [
    {
     "name": "stdout",
     "output_type": "stream",
     "text": [
      "py"
     ]
    }
   ],
   "source": [
    "#break保留字练习\n",
    "for s in \"python\":\n",
    "    if s==\"t\":\n",
    "        break\n",
    "    print(s,end=\"\")"
   ]
  },
  {
   "cell_type": "markdown",
   "id": "96f4ea07",
   "metadata": {},
   "source": [
    "### 练习3：请输出1-30之间所有的数，遇到尾数为6时不输出"
   ]
  },
  {
   "cell_type": "code",
   "execution_count": 10,
   "id": "f31c011c",
   "metadata": {},
   "outputs": [
    {
     "name": "stdout",
     "output_type": "stream",
     "text": [
      "1 2 3 4 5 7 8 9 10 11 12 13 14 15 17 18 19 20 21 22 23 24 25 27 28 29 "
     ]
    }
   ],
   "source": [
    "for i in range(1,30):\n",
    "    if (i%10==6):\n",
    "        continue\n",
    "    print(i,end=\" \")"
   ]
  },
  {
   "cell_type": "markdown",
   "id": "ead8a95c",
   "metadata": {},
   "source": [
    "### 1.3 循环的嵌套\n",
    "> 在一个循环中可以包含另一个循环，称之为循环的嵌套。可以在 for 语句中嵌套 for 语句和 while 语句，也可以在 while 语句中嵌套 for 语句和 while 语句。使用循环嵌套时，需特别注意执行次数问题，其执行次数为各层循环执行次数的乘积。若执行次数太多，会耗费大量的计算资源，可能会让用户以为计算机暂停了。\n"
   ]
  },
  {
   "cell_type": "markdown",
   "id": "d33fd5f9",
   "metadata": {},
   "source": [
    "#### 练习4：循环嵌套练习 \n",
    "以下程序中的 print(I,j,end=””)的语句会被执行 4 次，输出结果均为 0 0,0 1,1 0,1 1,"
   ]
  },
  {
   "cell_type": "code",
   "execution_count": 13,
   "id": "5381f73a",
   "metadata": {},
   "outputs": [
    {
     "name": "stdout",
     "output_type": "stream",
     "text": [
      "0 0,0 1,1 0,1 1,"
     ]
    }
   ],
   "source": [
    "#for 语句中嵌套 for 语句\n",
    "for i in range(2):\n",
    "    for j in range(2):\n",
    "        print(i,j,end=\",\")\n"
   ]
  },
  {
   "cell_type": "markdown",
   "id": "23a63d6a",
   "metadata": {},
   "source": [
    "### 练习4：逐字用中文语音朗读字符"
   ]
  },
  {
   "cell_type": "code",
   "execution_count": null,
   "id": "17508d37",
   "metadata": {},
   "outputs": [],
   "source": [
    "背景知识：语音操控分为语音识别和语音朗读两部分。\n",
    "可以使Python调用WIN32COM接口，SAPI是微软Speech API , 是微软公司推出的语音接口"
   ]
  },
  {
   "cell_type": "code",
   "execution_count": 16,
   "id": "87cd346e",
   "metadata": {},
   "outputs": [
    {
     "data": {
      "text/plain": [
       "1"
      ]
     },
     "execution_count": 16,
     "metadata": {},
     "output_type": "execute_result"
    }
   ],
   "source": [
    "import win32com.client                          \n",
    "speaker = win32com.client.Dispatch(\"SAPI.SpVoice\")\n",
    "string1=\"我来自深圳职业技术学院大数据技术专业\"\n",
    "speaker.Speak(string1)"
   ]
  },
  {
   "cell_type": "markdown",
   "id": "77a012e8",
   "metadata": {},
   "source": [
    "程序要求：制作一个含有语音提示的手机号码输入程序：\n",
    "要求：\n",
    "> 1、输入前有语音提示请输入手机号码<br>\n",
    "> 2、在屏幕的输入框输入手机号<br>\n",
    "> 3、通过for循环把输入的手机号逐个数字读出，并逐字语音播放"
   ]
  },
  {
   "cell_type": "code",
   "execution_count": 25,
   "id": "b0c8a6cb",
   "metadata": {},
   "outputs": [
    {
     "name": "stdout",
     "output_type": "stream",
     "text": [
      "请输入您的手机号:13326643254\n"
     ]
    }
   ],
   "source": [
    "# import win32com.client\n",
    "import win32com.client                          \n",
    "speaker = win32com.client.Dispatch(\"SAPI.SpVoice\")\n",
    "s=input(\"请输入您的手机号:\")\n",
    "for c in s:\n",
    "    speaker.Speak(c)\n"
   ]
  },
  {
   "cell_type": "code",
   "execution_count": 41,
   "id": "9e5fc516",
   "metadata": {},
   "outputs": [
    {
     "name": "stdout",
     "output_type": "stream",
     "text": [
      "请输入猜的数字:12\n",
      "谜底数字比你猜的要大\n",
      "请输入猜的数字:45\n",
      "谜底数字比你猜的要大\n",
      "请输入猜的数字:78\n",
      "谜底数字比你猜的要小\n",
      "请输入猜的数字:66\n",
      "猜对了，一共猜了 4 次\n"
     ]
    }
   ],
   "source": [
    "num=66\n",
    "count=1\n",
    "i=eval(input(\"请输入猜的数字:\"))\n",
    "while(i!=num):\n",
    "    if(i>num):\n",
    "        print(\"谜底数字比你猜的要小\")\n",
    "        count+=1\n",
    "    if(i<num):\n",
    "        print(\"谜底数字比你猜的要大\")\n",
    "        count+=1\n",
    "    i=eval(input(\"请输入猜的数字:\"))\n",
    "            \n",
    "print(\"猜对了，一共猜了\",count,\"次\")    "
   ]
  },
  {
   "cell_type": "code",
   "execution_count": 46,
   "id": "e44f0fd1",
   "metadata": {},
   "outputs": [
    {
     "name": "stdout",
     "output_type": "stream",
     "text": [
      "1 * 1 = 1  \n",
      "\n",
      "1 * 2 = 2  2 * 2 = 4  \n",
      "\n",
      "1 * 3 = 3  2 * 3 = 6  3 * 3 = 9  \n",
      "\n",
      "1 * 4 = 4  2 * 4 = 8  3 * 4 = 12  4 * 4 = 16  \n",
      "\n",
      "1 * 5 = 5  2 * 5 = 10  3 * 5 = 15  4 * 5 = 20  5 * 5 = 25  \n",
      "\n",
      "1 * 6 = 6  2 * 6 = 12  3 * 6 = 18  4 * 6 = 24  5 * 6 = 30  6 * 6 = 36  \n",
      "\n",
      "1 * 7 = 7  2 * 7 = 14  3 * 7 = 21  4 * 7 = 28  5 * 7 = 35  6 * 7 = 42  7 * 7 = 49  \n",
      "\n",
      "1 * 8 = 8  2 * 8 = 16  3 * 8 = 24  4 * 8 = 32  5 * 8 = 40  6 * 8 = 48  7 * 8 = 56  8 * 8 = 64  \n",
      "\n",
      "1 * 9 = 9  2 * 9 = 18  3 * 9 = 27  4 * 9 = 36  5 * 9 = 45  6 * 9 = 54  7 * 9 = 63  8 * 9 = 72  9 * 9 = 81  \n",
      "\n"
     ]
    }
   ],
   "source": [
    "for i in range(1,10):\n",
    "    for j in range(1,i+1):\n",
    "        print(j,\"*\",i,\"=\",i*j,end=\"  \")\n",
    "    print(\"\\n\")"
   ]
  },
  {
   "cell_type": "code",
   "execution_count": null,
   "id": "b9769a09",
   "metadata": {},
   "outputs": [],
   "source": [
    "for i range(3,100):\n",
    "    for j range(2,i):\n",
    "        i"
   ]
  }
 ],
 "metadata": {
  "hide_input": false,
  "kernelspec": {
   "display_name": "Python 3",
   "language": "python",
   "name": "python3"
  },
  "language_info": {
   "codemirror_mode": {
    "name": "ipython",
    "version": 3
   },
   "file_extension": ".py",
   "mimetype": "text/x-python",
   "name": "python",
   "nbconvert_exporter": "python",
   "pygments_lexer": "ipython3",
   "version": "3.8.8"
  },
  "toc": {
   "base_numbering": 1,
   "nav_menu": {},
   "number_sections": true,
   "sideBar": true,
   "skip_h1_title": false,
   "title_cell": "Table of Contents",
   "title_sidebar": "Contents",
   "toc_cell": false,
   "toc_position": {},
   "toc_section_display": true,
   "toc_window_display": false
  }
 },
 "nbformat": 4,
 "nbformat_minor": 5
}
