{
 "cells": [
  {
   "cell_type": "markdown",
   "metadata": {},
   "source": [
    "<img src=\"img/8-首页.png\" width=\"1200\" height=\"700\" align=\"center\" />"
   ]
  },
  {
   "cell_type": "markdown",
   "metadata": {},
   "source": [
    "##  知识点\n",
    "\n",
    "<img src=\"img/8-思维导图.png\" width=\"1000\" height=\"800\" align=\"left\" />"
   ]
  },
  {
   "cell_type": "markdown",
   "metadata": {},
   "source": [
    "\n",
    "## 8.1 中国股票交易数据的格式化存储"
   ]
  },
  {
   "cell_type": "code",
   "execution_count": null,
   "metadata": {},
   "outputs": [],
   "source": []
  },
  {
   "cell_type": "markdown",
   "metadata": {},
   "source": [
    "## 8.2 预备知识--数据类型的转换与对象的文件存储\n",
    "### 8.2.1 数据类型的转换"
   ]
  },
  {
   "cell_type": "code",
   "execution_count": 22,
   "metadata": {},
   "outputs": [
    {
     "name": "stdout",
     "output_type": "stream",
     "text": [
      "2023-12-30 00:00:00\n",
      "2023年12月30日\n"
     ]
    }
   ],
   "source": [
    "import datetime\n",
    "#字符串转日期\n",
    "a=\"23/12/30\"\n",
    "#使用strptime（）函数格式化转换\n",
    "date1=datetime.datetime.strptime(a,\"%y/%m/%d\")\n",
    "print(date1)\n",
    "#按格式输出日期\n",
    "date2=date1.strftime(\"%Y{y}%m{m}%d{d}\".format(y='年',m='月',d='日'))\n",
    "print(date2)"
   ]
  },
  {
   "cell_type": "markdown",
   "metadata": {},
   "source": [
    "### 8.2.2 常用数据类型和格式转换\n",
    "#### 基本数据类型的转换"
   ]
  },
  {
   "cell_type": "code",
   "execution_count": null,
   "metadata": {},
   "outputs": [],
   "source": []
  },
  {
   "cell_type": "markdown",
   "metadata": {},
   "source": [
    "#### 列表、集合和字典的转换"
   ]
  },
  {
   "cell_type": "code",
   "execution_count": 41,
   "metadata": {
    "scrolled": true
   },
   "outputs": [
    {
     "name": "stdout",
     "output_type": "stream",
     "text": [
      "{'k1': 'v1', 'k2': 'v2', 'k3': 'v3'}\n",
      "{1: 3, 2: 5}\n",
      "['name', 'age', 'gender', 'address']\n"
     ]
    }
   ],
   "source": [
    "k=['k1','k2','k3']\n",
    "v=['v1','v2','v3','v4']\n",
    "z=zip(k,v)  #zip组合，不等于extend。当两个列表的长度不一致时，多出点元素将被忽略\n",
    "d=dict(z)\n",
    "print(d)\n",
    "\n",
    "\n",
    "d2={\"name\":\"zhangdan\",\"age\":\"22\",\"gender\":\"male\",\"address\":\"shanghai\"}\n",
    "print(list(d2))  #默认是key，其他的要用字典的方法"
   ]
  },
  {
   "cell_type": "markdown",
   "metadata": {},
   "source": [
    "### zip() 函数\n",
    "> #### 用于将可迭代的对象作为参数，将对象中对应的元素打包成一个个元组，然后返回由这些元组组成的列表。如果各个迭代器的元素个数不一致，则返回列表长度与最短的对象相同"
   ]
  },
  {
   "cell_type": "code",
   "execution_count": 48,
   "metadata": {},
   "outputs": [
    {
     "name": "stdout",
     "output_type": "stream",
     "text": [
      "{1: 3, 2: 5}\n"
     ]
    }
   ],
   "source": [
    "a=(1,2)\n",
    "b=3,5\n",
    "c=zip(a,b)  #a的[0]匹配b的[0]，以此类推\n",
    "print(dict(c))"
   ]
  },
  {
   "cell_type": "markdown",
   "metadata": {},
   "source": [
    "#### 由字符串创建字典"
   ]
  },
  {
   "cell_type": "code",
   "execution_count": 64,
   "metadata": {},
   "outputs": [
    {
     "name": "stdout",
     "output_type": "stream",
     "text": [
      "[('1', '4'), ('2', '5'), ('3', '6')]\n",
      "{'股票名称': '福建', '金凯': '罗门'}\n",
      "{'股票名称': '福建', '金凯': '罗门'}\n"
     ]
    }
   ],
   "source": [
    "import json\n",
    "a=\"123\";b=\"456\"  \n",
    "c=zip(a,b)  #字符串的每一个字符组合\n",
    "print(list(c))\n",
    "\n",
    "\n",
    "#符合字典语法的字符串\n",
    "str=\"{'股票名称':'福建','金凯':'罗门'}\"   #单双无所谓\n",
    "#使用eval表达式将符合字典语法的字符串转换成字典\n",
    "d=eval(str)\n",
    "print(d)\n",
    "\n",
    "#符合字符语法的字符串，可以用json库的方法转换\n",
    "str1='{\"股票名称\":\"福建\",\"金凯\":\"罗门\"}'   #字典外单引号，字典内单引号\n",
    "d2=json.loads(str1)\n",
    "print(d2)"
   ]
  },
  {
   "cell_type": "markdown",
   "metadata": {},
   "source": [
    "### 8.2.3 对象的文件存储\n",
    "#### 利用pickle包存储对象\n",
    "\n",
    "pickle是Python序列化的一个工具。通俗的说，就是把python 的 对象从内存里弄出来，变成一个二进制流，然后可以向其他文件一样存在硬盘，或者发送给其他进程。"
   ]
  },
  {
   "cell_type": "code",
   "execution_count": null,
   "metadata": {},
   "outputs": [],
   "source": []
  },
  {
   "cell_type": "markdown",
   "metadata": {},
   "source": [
    "#### 利用pickle包读取对象"
   ]
  },
  {
   "cell_type": "code",
   "execution_count": null,
   "metadata": {},
   "outputs": [],
   "source": []
  },
  {
   "cell_type": "markdown",
   "metadata": {},
   "source": [
    "### 8.2.4 整数不同进制的转换"
   ]
  },
  {
   "cell_type": "code",
   "execution_count": null,
   "metadata": {},
   "outputs": [],
   "source": []
  },
  {
   "cell_type": "markdown",
   "metadata": {},
   "source": [
    "### 8.2.5 课堂练习之数据格式转换\n",
    "#### 代码补全"
   ]
  },
  {
   "cell_type": "code",
   "execution_count": 70,
   "metadata": {},
   "outputs": [
    {
     "name": "stdout",
     "output_type": "stream",
     "text": [
      "20.19\n",
      "201900.0\n"
     ]
    }
   ],
   "source": [
    "s=\"20.19万手\"\n",
    "num=s.split(\"万手\")[0]\n",
    "print(num)\n",
    "print(float(num)*10000)"
   ]
  },
  {
   "cell_type": "markdown",
   "metadata": {},
   "source": [
    "#### 任务应用"
   ]
  },
  {
   "cell_type": "code",
   "execution_count": 66,
   "metadata": {},
   "outputs": [
    {
     "name": "stdout",
     "output_type": "stream",
     "text": [
      "2023年04月09日\n"
     ]
    }
   ],
   "source": [
    "import datetime\n",
    "a=\"2022/12/30\"\n",
    "date1=datetime.datetime.strptime(a,\"%Y/%m/%d\")\n",
    "future_time=date1+datetime.timedelta(days=100)\n",
    "fu=future_time.strftime('%Y{y}%m{m}%d{d}').format(y='年',m='月',d='日')\n",
    "print(fu)"
   ]
  },
  {
   "cell_type": "code",
   "execution_count": null,
   "metadata": {},
   "outputs": [],
   "source": []
  },
  {
   "cell_type": "markdown",
   "metadata": {},
   "source": [
    "## 8.3 中国股票交易数据项目实战\n",
    "### 8.3.1 任务分析\n",
    "- 逐行读入单只股票\n",
    "- 利用字典存储单只股票信息\n",
    "- 利用嵌套字典存储多只股票信息\n",
    "- 股票信息保存到文件"
   ]
  },
  {
   "cell_type": "code",
   "execution_count": null,
   "metadata": {},
   "outputs": [],
   "source": []
  },
  {
   "cell_type": "markdown",
   "metadata": {},
   "source": [
    "### 8.3.2 任务实现\n",
    "#### 逐行读入单只股票\n"
   ]
  },
  {
   "cell_type": "code",
   "execution_count": null,
   "metadata": {},
   "outputs": [],
   "source": []
  },
  {
   "cell_type": "markdown",
   "metadata": {},
   "source": [
    "#### 利用字典存储单只股票信息\n"
   ]
  },
  {
   "cell_type": "code",
   "execution_count": null,
   "metadata": {},
   "outputs": [],
   "source": []
  },
  {
   "cell_type": "code",
   "execution_count": null,
   "metadata": {},
   "outputs": [],
   "source": [
    "\n"
   ]
  },
  {
   "cell_type": "markdown",
   "metadata": {},
   "source": [
    "#### 利用嵌套字典存储多只股票信息\n"
   ]
  },
  {
   "cell_type": "code",
   "execution_count": null,
   "metadata": {},
   "outputs": [],
   "source": []
  },
  {
   "cell_type": "markdown",
   "metadata": {},
   "source": [
    "#### 股票信息保存到文件"
   ]
  },
  {
   "cell_type": "code",
   "execution_count": null,
   "metadata": {},
   "outputs": [],
   "source": []
  },
  {
   "cell_type": "markdown",
   "metadata": {},
   "source": [
    "## 8.4 总结与提高--数据格式转换\n",
    "### 8.4.1 数据类型的转换\n",
    "#### 基本数据类型转换"
   ]
  },
  {
   "cell_type": "code",
   "execution_count": null,
   "metadata": {},
   "outputs": [],
   "source": []
  },
  {
   "cell_type": "markdown",
   "metadata": {},
   "source": [
    "#### 列表、集合和字典的转换"
   ]
  },
  {
   "cell_type": "code",
   "execution_count": null,
   "metadata": {},
   "outputs": [],
   "source": []
  },
  {
   "cell_type": "markdown",
   "metadata": {},
   "source": [
    "### 8.4.2 使用表达式求值创建对象"
   ]
  },
  {
   "cell_type": "code",
   "execution_count": null,
   "metadata": {},
   "outputs": [],
   "source": []
  },
  {
   "cell_type": "markdown",
   "metadata": {},
   "source": [
    "### 8.4.3 对象的文件存储\n",
    "#### 利用pickle包进行对象的二进制文件存储"
   ]
  },
  {
   "cell_type": "code",
   "execution_count": null,
   "metadata": {},
   "outputs": [],
   "source": []
  },
  {
   "cell_type": "code",
   "execution_count": null,
   "metadata": {},
   "outputs": [],
   "source": []
  },
  {
   "cell_type": "markdown",
   "metadata": {},
   "source": [
    "#### 利用shelve包进行对象的二进制文件存储"
   ]
  },
  {
   "cell_type": "code",
   "execution_count": null,
   "metadata": {},
   "outputs": [],
   "source": []
  },
  {
   "cell_type": "markdown",
   "metadata": {},
   "source": [
    "## 巩固与应用\n",
    "### 8.5.1 列表转化字典"
   ]
  },
  {
   "cell_type": "code",
   "execution_count": null,
   "metadata": {},
   "outputs": [],
   "source": []
  },
  {
   "cell_type": "code",
   "execution_count": null,
   "metadata": {},
   "outputs": [],
   "source": []
  }
 ],
 "metadata": {
  "hide_input": false,
  "kernelspec": {
   "display_name": "Python 3",
   "language": "python",
   "name": "python3"
  },
  "language_info": {
   "codemirror_mode": {
    "name": "ipython",
    "version": 3
   },
   "file_extension": ".py",
   "mimetype": "text/x-python",
   "name": "python",
   "nbconvert_exporter": "python",
   "pygments_lexer": "ipython3",
   "version": "3.8.8"
  },
  "toc": {
   "base_numbering": 1,
   "nav_menu": {},
   "number_sections": false,
   "sideBar": false,
   "skip_h1_title": false,
   "title_cell": "Table of Contents",
   "title_sidebar": "Contents",
   "toc_cell": false,
   "toc_position": {},
   "toc_section_display": false,
   "toc_window_display": false
  }
 },
 "nbformat": 4,
 "nbformat_minor": 2
}
