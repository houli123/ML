{
 "cells": [
  {
   "cell_type": "markdown",
   "metadata": {},
   "source": [
    "<img src=\"img/首页.png\" width=\"1200\" height=\"700\" align=\"center\" />"
   ]
  },
  {
   "cell_type": "markdown",
   "metadata": {},
   "source": [
    "##  知识点思维导图\n",
    "\n",
    "<img src=\"img/思维导图.png\" width=\"1000\" height=\"800\" align=\"left\" />"
   ]
  },
  {
   "cell_type": "markdown",
   "metadata": {},
   "source": [
    "#  本章能力目标：\n",
    "* ## 能对字符串进行一些拼接、访问、切片操作\n",
    "* ## 能对字符串进行格式化输出\n",
    "* ## 掌握一些常用字符串方法和函数的操作\n"
   ]
  },
  {
   "cell_type": "markdown",
   "metadata": {},
   "source": [
    "# 4.1 情报译码"
   ]
  },
  {
   "cell_type": "markdown",
   "metadata": {},
   "source": [
    "<img src=\"img/情报译码.png\" width=\"700\" height=\"700\" align=\"left\" />"
   ]
  },
  {
   "cell_type": "markdown",
   "metadata": {},
   "source": [
    "# 4.2 字符串类型及其表示\n",
    "<img src=\"img/字符串表示.png\" width=\"700\" height=\"700\" align=\"left\" /><br><br><br><br><br><br><br><br><br><br><br><br><br><br><br><br><br><br><br>\n",
    "\n"
   ]
  },
  {
   "cell_type": "markdown",
   "metadata": {},
   "source": [
    "## 4.2.1 字符串转义字符\n",
    "反斜杠字符( \\ )是一个特殊字符，在字符串中表示转义，即该字符与后面相邻的一个字符共同组成了新的含义，如\\n表示换行，\\\\表示反斜杠、\\t表示制表符（Tab）等。\n",
    "\n",
    "<img src=\"img/转义字符.png\" width=\"600\" height=\"600\" align=\"center\" />"
   ]
  },
  {
   "cell_type": "code",
   "execution_count": null,
   "metadata": {},
   "outputs": [],
   "source": [
    "#输出字符串Jacky's book\n",
    "\n"
   ]
  },
  {
   "cell_type": "code",
   "execution_count": null,
   "metadata": {},
   "outputs": [],
   "source": [
    "#反斜杠用在一行的末尾表示这一行代码还没结束\n"
   ]
  },
  {
   "cell_type": "markdown",
   "metadata": {},
   "source": [
    "## 4.2.2 字符索引\n",
    "字符串是一个字符序列，访问字符串有两种方式：正向索引和反向索引。字符串最左端位置标记为0，依次增加，这是正向索引访问，也可以从最右端位置开始访问，最右端位置标记为-1，一次递减，这是反向索引访问。\n",
    "<img src=\"img/索引访问.png\" width=\"600\" height=\"600\" align=\"center\" />"
   ]
  },
  {
   "cell_type": "markdown",
   "metadata": {},
   "source": [
    "## 4.2.3 字符串的基本操作\n",
    "#### 初始化字符串"
   ]
  },
  {
   "cell_type": "code",
   "execution_count": null,
   "metadata": {},
   "outputs": [],
   "source": []
  },
  {
   "cell_type": "markdown",
   "metadata": {},
   "source": [
    "#### 求字符串长度"
   ]
  },
  {
   "cell_type": "code",
   "execution_count": null,
   "metadata": {},
   "outputs": [],
   "source": []
  },
  {
   "cell_type": "markdown",
   "metadata": {},
   "source": [
    "#### 字符串拼接"
   ]
  },
  {
   "cell_type": "code",
   "execution_count": null,
   "metadata": {},
   "outputs": [],
   "source": []
  },
  {
   "cell_type": "markdown",
   "metadata": {},
   "source": [
    "#### 字符串重复"
   ]
  },
  {
   "cell_type": "code",
   "execution_count": null,
   "metadata": {},
   "outputs": [],
   "source": []
  },
  {
   "cell_type": "markdown",
   "metadata": {},
   "source": [
    "#### 字符串包含判断"
   ]
  },
  {
   "cell_type": "code",
   "execution_count": null,
   "metadata": {},
   "outputs": [],
   "source": []
  },
  {
   "cell_type": "markdown",
   "metadata": {},
   "source": [
    "#### 访问字符串的字符"
   ]
  },
  {
   "cell_type": "code",
   "execution_count": null,
   "metadata": {},
   "outputs": [],
   "source": []
  },
  {
   "cell_type": "markdown",
   "metadata": {},
   "source": [
    "#### 字符串切片"
   ]
  },
  {
   "cell_type": "code",
   "execution_count": null,
   "metadata": {},
   "outputs": [],
   "source": [
    "#字符串对元素的访问和切片和其他序列类型对元素的访问方法一样\n",
    "#语法：字符串[开始索引:结束索引:步长(可省略)]\n"
   ]
  },
  {
   "cell_type": "markdown",
   "metadata": {},
   "source": [
    "## 4.2.4 字符串格式化输出\n",
    ">* ### 在输出字符串时，有时候字符串的内容是动态变化的，比如说：\"2019-10-7：计算机的CPU平均占用率为10%\"，其中2019-10-7和10%这两块内容可能随时变化，这需要特定函数将字符串输出结果即使填充更新，字符串格式化方法可以解决这问题。\n",
    "> * ### Python字符串的格式化有两种方法，一种为传统的百分号方式，即C语言中的输入输出函数采用的格式化方法，一种为format()方法，两种并存，但是后者在Python里更为常用，也更加适用。本书均采用format()格式化方法。\n"
   ]
  },
  {
   "cell_type": "markdown",
   "metadata": {},
   "source": [
    "  ###  format()方法的基本使用\n",
    " * #### 基本格式如下：\"模板字符串\".format(<逗号分隔的参数>)\n",
    "<img src=\"img/format格式.png\" width=\"600\" height=\"600\" align=\"center\" /> <br><br><br><br>\n",
    "* #### 可以指定参数序号，则按照序号对应参数替换\n",
    "\n",
    "<img src=\"img/format格式2.png\" width=\"600\" height=\"600\" align=\"center\" />\n"
   ]
  },
  {
   "cell_type": "code",
   "execution_count": null,
   "metadata": {},
   "outputs": [],
   "source": [
    "#传统的百分号格式化方法\n",
    "s = 'hello, %s, %d!' % ('python', 2018)\n",
    "print(s)"
   ]
  },
  {
   "cell_type": "code",
   "execution_count": null,
   "metadata": {},
   "outputs": [],
   "source": [
    "\n"
   ]
  },
  {
   "cell_type": "markdown",
   "metadata": {},
   "source": [
    "###  格式控制信息 \n",
    "<img src=\"img/格式化输出2.png\" width=\"900\" height=\"600\" align=\"center\" />"
   ]
  },
  {
   "cell_type": "code",
   "execution_count": null,
   "metadata": {},
   "outputs": [],
   "source": [
    "#format()方法中槽除了包括参数序号，还可以包括格式控制信息。槽的内部格式是：{<参数序号>:<格式控制标记>}\n",
    "\n",
    "#输出的字符串变量s输出宽度为10，默认左对齐\n",
    "\n",
    "#第1个槽输出右对齐，输出宽度为10，且使用*填充。第2个槽居中对齐，输出宽度为10，小数点后保留2位小数。\n",
    "\n"
   ]
  },
  {
   "cell_type": "markdown",
   "metadata": {},
   "source": [
    "# 4.2.5 课堂练习：字符串\n",
    "#### 代码补全"
   ]
  },
  {
   "cell_type": "code",
   "execution_count": null,
   "metadata": {},
   "outputs": [],
   "source": [
    "greet1 = 'Hello,'\n",
    "greet2 = 'John!'\n",
    "\n",
    "# 合并greet1和greet2并赋值给变量eet\n",
    "\n",
    "# 打印输出greet的子串，从索引6的字符开始一直到结尾\n"
   ]
  },
  {
   "cell_type": "code",
   "execution_count": null,
   "metadata": {},
   "outputs": [],
   "source": []
  },
  {
   "cell_type": "markdown",
   "metadata": {},
   "source": [
    "#### 任务应用\n",
    "身份证号码对应的生日信息"
   ]
  },
  {
   "cell_type": "code",
   "execution_count": null,
   "metadata": {},
   "outputs": [],
   "source": []
  },
  {
   "cell_type": "markdown",
   "metadata": {},
   "source": [
    "## 4.3 情报译码项目实战\n",
    "### 4.3.1 任务分析"
   ]
  },
  {
   "cell_type": "markdown",
   "metadata": {},
   "source": [
    "<img src=\"img/情报译码3.png\" width=\"600\" height=\"400\" align=\"left\" />\n",
    "<img src=\"img/情报译码2.png\" width=\"600\" height=\"400\" align=\"left\" />"
   ]
  },
  {
   "cell_type": "markdown",
   "metadata": {},
   "source": [
    "### 4.3.2 任务实现"
   ]
  },
  {
   "cell_type": "code",
   "execution_count": 45,
   "metadata": {},
   "outputs": [
    {
     "name": "stdout",
     "output_type": "stream",
     "text": [
      "请输入密码：0101\n",
      "['我']\n"
     ]
    }
   ],
   "source": [
    "#初始化密码本\n",
    "code_book = '''    我和莫绍谦手拉着手回到了老房子，我们已经像最平凡的恋人一\n",
    "样手拉着手，一点也不会感到别扭，心里充满了快乐。\n",
    "    转头看见莫绍谦好笑地看着我，眼睛里都是宠溺。\n",
    "    他带我去了阁楼，那间阁楼我从未进去过，搬来的第一天，我便\n",
    "看到了那上面红色的大锁。结果莫绍谦连钥匙都没用就打开了锁，他\n",
    "举着那把锁对我说：“如果你多点好奇心，你早就会发现，我也会暴\n",
    "出更多秘密。”\n",
    "    阁楼古老陈旧，木质的地板散发着琥珀色的沉香。莫绍谦移出角\n",
    "落里的一个纸箱，我好奇地凑上去。   我打开一本相册，看到了童\n",
    "年的莫绍谦。他的脸白白净净，发型古怪，还露出缺了大门牙的牙齿。\n",
    "我笑得肚子疼，笑得流眼泪了。\n",
    "'''\n",
    "message=[]\n",
    "password=input(\"请输入密码：\").split(\",\")\n",
    "code_book=code_book.replace(\" \",\"\").strip().split(\"\\n\")\n",
    "for i in password:\n",
    "    r=int(i[:2]);c=int(i[2:])\n",
    "    message.append(code_book[r-1][c-1])\n",
    "print(message)"
   ]
  },
  {
   "cell_type": "code",
   "execution_count": 10,
   "metadata": {},
   "outputs": [
    {
     "name": "stdout",
     "output_type": "stream",
     "text": [
      "密码本第0行是：<    我和莫绍谦手拉着手回到了老房子，我们已经像最平凡的恋人一>\n",
      "密码本第1行是：<样手拉着手，一点也不会感到别扭，心里充满了快乐。>\n",
      "密码本第2行是：<    转头看见莫绍谦好笑地看着我，眼睛里都是宠溺。>\n",
      "密码本第3行是：<    他带我去了阁楼，那间阁楼我从未进去过，搬来的第一天，我便>\n",
      "密码本第4行是：<看到了那上面红色的大锁。结果莫绍谦连钥匙都没用就打开了锁，他>\n",
      "密码本第5行是：<举着那把锁对我说：“如果你多点好奇心，你早就会发现，我也会暴>\n",
      "密码本第6行是：<出更多秘密。”>\n",
      "密码本第7行是：<    阁楼古老陈旧，木质的地板散发着琥珀色的沉香。莫绍谦移出角>\n",
      "密码本第8行是：<落里的一个纸箱，我好奇地凑上去。   我打开一本相册，看到了童>\n",
      "密码本第9行是：<年的莫绍谦。他的脸白白净净，发型古怪，还露出缺了大门牙的牙齿。>\n",
      "密码本第10行是：<我笑得肚子疼，笑得流眼泪了。>\n",
      "密码本第11行是：<>\n",
      "最终情报是：已暴露快转移\n"
     ]
    }
   ],
   "source": [
    "#初始化密码本\n",
    "code_book = '''    我和莫绍谦手拉着手回到了老房子，我们已经像最平凡的恋人一\n",
    "样手拉着手，一点也不会感到别扭，心里充满了快乐。\n",
    "    转头看见莫绍谦好笑地看着我，眼睛里都是宠溺。\n",
    "    他带我去了阁楼，那间阁楼我从未进去过，搬来的第一天，我便\n",
    "看到了那上面红色的大锁。结果莫绍谦连钥匙都没用就打开了锁，他\n",
    "举着那把锁对我说：“如果你多点好奇心，你早就会发现，我也会暴\n",
    "出更多秘密。”\n",
    "    阁楼古老陈旧，木质的地板散发着琥珀色的沉香。莫绍谦移出角\n",
    "落里的一个纸箱，我好奇地凑上去。   我打开一本相册，看到了童\n",
    "年的莫绍谦。他的脸白白净净，发型古怪，还露出缺了大门牙的牙齿。\n",
    "我笑得肚子疼，笑得流眼泪了。\n",
    "'''\n",
    "code=\"0022,0529,0920,0121,0204,0729\"\n",
    "information=\"\"\n",
    "list=code_book.split(\"\\n\")\n",
    "i=0\n",
    "for item in list:\n",
    "    print(\"密码本第{}行是：<{}>\".format(i,item))\n",
    "    i+=1\n",
    "code_list = code.split(\",\")\n",
    "for item in code_list:\n",
    "    row=int(item[0:2])\n",
    "    col=int(item[2:])\n",
    "    information+=list[row][col]\n",
    "print(\"最终情报是：{}\".format(information))"
   ]
  },
  {
   "cell_type": "markdown",
   "metadata": {},
   "source": [
    "## 4.4 总结与提高\n",
    "### 4.4.1 字符串基本操作\n"
   ]
  },
  {
   "cell_type": "markdown",
   "metadata": {},
   "source": [
    "\n",
    "\n",
    "\n",
    "<h2>Python字符串运算符</h2>\n",
    "<p>下表实例变量 a 值为字符串 \"Hello\"，b 变量值为 \"Python\"：</p>\n",
    "<table class=\"reference\">\n",
    "<tbody><tr>\n",
    "<th width=\"10%\">操作符</th><th width=\"60%\">描述</th><th>实例</th>\n",
    "</tr>\n",
    "<tr>\n",
    "<td>+</td><td>字符串连接</td><td>\n",
    "<div class=\"hl-main\"><span class=\"hl-code\">&gt;&gt;&gt;</span><span class=\"hl-identifier\">a</span><span class=\"hl-code\"> + </span><span class=\"hl-identifier\">b</span><span class=\"hl-code\">\n",
    "</span><span class=\"hl-quotes\">'</span><span class=\"hl-string\">HelloPython</span><span class=\"hl-quotes\">'</span></div> \n",
    "</td>\n",
    "</tr>\n",
    "<tr>\n",
    "<td>*</td><td>重复输出字符串</td><td>\n",
    "<div class=\"hl-main\"><span class=\"hl-code\">&gt;&gt;&gt;</span><span class=\"hl-identifier\">a</span><span class=\"hl-code\"> * </span><span class=\"hl-number\">2</span><span class=\"hl-code\">\n",
    "</span><span class=\"hl-quotes\">'</span><span class=\"hl-string\">HelloHello</span><span class=\"hl-quotes\">'</span></div> \n",
    "</td>\n",
    "</tr>\n",
    "<tr>\n",
    "<td>[]</td><td>通过索引获取字符串中字符</td><td>\n",
    "<div class=\"hl-main\"><span class=\"hl-code\">&gt;&gt;&gt;</span><span class=\"hl-identifier\">a</span><span class=\"hl-brackets\">[</span><span class=\"hl-number\">1</span><span class=\"hl-brackets\">]</span><span class=\"hl-code\">\n",
    "</span><span class=\"hl-quotes\">'</span><span class=\"hl-string\">e</span><span class=\"hl-quotes\">'</span></div> \n",
    "</td>\n",
    "</tr>\n",
    "<tr>\n",
    "<td>[ : ]</td><td>截取字符串中的一部分</td><td>\n",
    "<div class=\"hl-main\"><span class=\"hl-code\">&gt;&gt;&gt;</span><span class=\"hl-identifier\">a</span><span class=\"hl-brackets\">[</span><span class=\"hl-number\">1</span><span class=\"hl-code\">:</span><span class=\"hl-number\">4</span><span class=\"hl-brackets\">]</span><span class=\"hl-code\">\n",
    "</span><span class=\"hl-quotes\">'</span><span class=\"hl-string\">ell</span><span class=\"hl-quotes\">'</span></div> \n",
    "</td>\n",
    "</tr>\n",
    "<tr>\n",
    "<td>in</td><td>成员运算符 - 如果字符串中包含给定的字符返回 True </td><td> \n",
    "<div class=\"hl-main\"><span class=\"hl-code\">&gt;&gt;&gt;</span><span class=\"hl-quotes\">&quot;</span><span class=\"hl-string\">H</span><span class=\"hl-quotes\">&quot;</span><span class=\"hl-code\"> </span><span class=\"hl-reserved\">in</span><span class=\"hl-code\"> </span><span class=\"hl-identifier\">a</span><span class=\"hl-code\">\n",
    "</span><span class=\"hl-reserved\">True</span></div> \n",
    "</td>\n",
    "</tr>\n",
    "<tr>\n",
    "<td>not in </td><td>成员运算符 - 如果字符串中不包含给定的字符返回 True </td><td> \n",
    "<div class=\"hl-main\"><span class=\"hl-code\">&gt;&gt;&gt;</span><span class=\"hl-quotes\">&quot;</span><span class=\"hl-string\">M</span><span class=\"hl-quotes\">&quot;</span><span class=\"hl-code\"> </span><span class=\"hl-reserved\">not</span><span class=\"hl-code\"> </span><span class=\"hl-reserved\">in</span><span class=\"hl-code\"> </span><span class=\"hl-identifier\">a</span><span class=\"hl-code\">\n",
    "</span><span class=\"hl-reserved\">True</span></div> \n",
    "</td>\n",
    "</tr>\n",
    "<tr>\n",
    "<td>rR</td><td>原始字符串 - 原始字符串：所有的字符串都是直接按照字面的意思来使用，没有转义特殊或不能打印的字符。\n",
    "\n",
    "原始字符串除在字符串的第一个引号前加上字母\"r\"（可以大小写）以外，与普通字符串有着几乎完全相同的语法。</td><td> <div class=\"hl-main\"><span class=\"hl-code\">&gt;&gt;&gt;</span><span class=\"hl-reserved\">print(</span><span class=\"hl-code\"> </span><span class=\"hl-identifier\">r</span><span class=\"hl-quotes\">'</span><span class=\"hl-special\">\\n</span><span class=\"hl-quotes\">')</span><span class=\"hl-code\">\n",
    "\\</span><span class=\"hl-identifier\">n</span><span class=\"hl-code\">\n",
    "&gt;&gt;&gt; </span><span class=\"hl-reserved\">print(</span><span class=\"hl-code\"> </span><span class=\"hl-identifier\">R</span><span class=\"hl-quotes\">'</span><span class=\"hl-special\">\\n</span><span class=\"hl-quotes\">')</span><span class=\"hl-code\">\n",
    "\\</span><span class=\"hl-identifier\">n</span></div> </td>\n",
    "</tr>\n",
    "\n",
    "</tbody></table>\n"
   ]
  },
  {
   "cell_type": "code",
   "execution_count": null,
   "metadata": {},
   "outputs": [],
   "source": []
  },
  {
   "cell_type": "code",
   "execution_count": null,
   "metadata": {},
   "outputs": [],
   "source": []
  },
  {
   "cell_type": "markdown",
   "metadata": {},
   "source": []
  },
  {
   "cell_type": "markdown",
   "metadata": {},
   "source": [
    "### 4.4.2 字符串操作常用函数\n",
    "Python解释器提供了一些字符串处理内置函数，Python3以Unicode字符为计数基础，字符串中的英文字符和中文字符都是1个长度单位。\n",
    "\n",
    "<img src=\"img/内置函数.png\" width=\"600\" height=\"600\" align=\"center\" />\n"
   ]
  },
  {
   "cell_type": "markdown",
   "metadata": {},
   "source": [
    "###  Unicode字符编码\n",
    "> 计算机程序中，每个字符都可以表示为一个数字，称为编码，最早的编码格式是ASCII码，它是由一个字节（8位）的来表示空格、标点符号、数字、大小写字母等一些英文字符，例如：小写字母C对应的Ascii编码数字是99。随着计算机的普及，除了英语国家，别的国家有使用本国语言文字的要求，很多国家就制定了一些适合本国语言文字对应的编码格式，这种编码格式是在Ascii码基础上发展来的，如中国有GB2312,GBK等。每个国家都有自己的字符编码格式，各自为政，互相不支持。为此ISO（国际标准化组织）推出用Unicode码（多个字节编码）来表示和存储全世界不同国家的语言文字。Unicode字符集在网络上一般以utf-8编码格式进行传播。不同编码之间可以相互转换。<br>\n",
    ">  字符编码参考文档1：  https://www.cnblogs.com/gavin-num1/p/5170247.html<br>\n",
    "> 字符编码参考文档2：https://blog.csdn.net/LemonWatermelon/article/details/90300413"
   ]
  },
  {
   "cell_type": "code",
   "execution_count": 52,
   "metadata": {
    "code_folding": []
   },
   "outputs": [
    {
     "name": "stdout",
     "output_type": "stream",
     "text": [
      "Unicode码为10005对应的字符是：✕\n",
      "Unicode码为99对应的字符是：c\n",
      "Unicode码为0X4E60对应的字符是：习\n",
      "Unicode码为0X3041对应的日本字符是：ぁ\n",
      "Unicode码为0X2460对应的印刷字符是：①\n",
      "a的Unicode的编码是：97\n",
      "b的Unicode的编码是：98\n",
      "c的Unicode的编码是：99\n",
      "d的Unicode的编码是：100\n",
      "e的Unicode的编码是：101\n",
      "f的Unicode的编码是：102\n",
      "g的Unicode的编码是：103\n",
      "h的Unicode的编码是：104\n",
      "i的Unicode的编码是：105\n",
      "j的Unicode的编码是：106\n",
      "k的Unicode的编码是：107\n",
      "l的Unicode的编码是：108\n",
      "m的Unicode的编码是：109\n",
      "n的Unicode的编码是：110\n",
      "o的Unicode的编码是：111\n",
      "p的Unicode的编码是：112\n",
      "q的Unicode的编码是：113\n",
      "r的Unicode的编码是：114\n",
      "s的Unicode的编码是：115\n",
      "t的Unicode的编码是：116\n",
      "u的Unicode的编码是：117\n",
      "v的Unicode的编码是：118\n",
      "w的Unicode的编码是：119\n",
      "x的Unicode的编码是：120\n",
      "y的Unicode的编码是：121\n",
      "z的Unicode的编码是：122\n"
     ]
    }
   ],
   "source": [
    "#chr()函数，返回Unicode码对应的字符\n",
    "print(\"Unicode码为10005对应的字符是：\"+chr(10005))\n",
    "print(\"Unicode码为99对应的字符是：\"+chr(99))  \n",
    "print(\"Unicode码为0X4E60对应的字符是：\"+chr(0X4E60))  \n",
    "print(\"Unicode码为0X3041对应的日本字符是：\"+chr(0X3041))  \n",
    "print(\"Unicode码为0X2460对应的印刷字符是：\"+chr(0X2460))\n",
    "#输出26个英文字母的Unicode编码\n",
    "for char in \"abcdefghijklmnopqrstuvwxyz\":\n",
    "    print(\"{}的Unicode的编码是：{}\".format(char,ord(char)))"
   ]
  },
  {
   "cell_type": "markdown",
   "metadata": {},
   "source": [
    "### 4.4.3 字符串操作常用方法\n",
    "在Python解释器内部，所有数据类型都采用面向对象方式实现，封装为一个类，字符串类型的方法有很多，如下表所示<br>\n",
    "<br><img src=\"img/内置方法.png\" width=\"500\" height=\"500\" align=\"center\" />\n",
    "<img src=\"img/内置方法2.png\" width=\"500\" height=\"500\" align=\"center\" />"
   ]
  },
  {
   "cell_type": "markdown",
   "metadata": {},
   "source": [
    "####  字符串的查找和替换\n",
    "- find方法  \n",
    "字符串的find（）方法用于查找子字符串。该方法的语法为str.find （sub[，start[，end]]），表示：在索引start到end之间查找子字符串sub ，如果找到，则返回最左端位置的索引；如果没有找到，则返回-1。\n",
    "- replace方法  \n",
    "若想进行字符串替换，则可以使用replace（）方法替换匹配的子字 符串，返回值是替换之后的字符串。该方法的语法为str.replace（old，n ew[，count]），表示：用new子字符串替换old子字符串。count参数指 定了替换old子字符串的个数，如果count被省略，则替换所有old子字符串。"
   ]
  },
  {
   "cell_type": "markdown",
   "metadata": {},
   "source": [
    "#### 字符串的分割和连接\n",
    "- split方法  \n",
    "若想进行字符串分割，则可以使用split（）方法，按照子字符串来 分割字符串，返回字符串列表对象。该方法的语法为str.split（sep=None ，maxsplit=-1），表示：使用sep子字符串分割字符串str。maxsplit是最 大分割次数，如果maxsplit被省略，则表示不限制分割次数。\n",
    "- join方法  "
   ]
  },
  {
   "cell_type": "code",
   "execution_count": 53,
   "metadata": {},
   "outputs": [
    {
     "name": "stdout",
     "output_type": "stream",
     "text": [
      "语文&英语\n"
     ]
    }
   ],
   "source": [
    "course=['语文','英语']\n",
    "print(\"&\".join(course))\n"
   ]
  },
  {
   "cell_type": "code",
   "execution_count": null,
   "metadata": {},
   "outputs": [],
   "source": []
  },
  {
   "cell_type": "code",
   "execution_count": null,
   "metadata": {},
   "outputs": [],
   "source": [
    "\n"
   ]
  },
  {
   "cell_type": "code",
   "execution_count": null,
   "metadata": {},
   "outputs": [],
   "source": [
    "\n"
   ]
  },
  {
   "cell_type": "markdown",
   "metadata": {},
   "source": [
    "## 4.5 巩固与提高\n",
    "### 1 回文判断\n",
    "顺着读和倒着读都一样，比如中国的回文对联“心清可品茶;茶品可清心”、英文单词“noon”、数字“1234321”。\n"
   ]
  },
  {
   "cell_type": "code",
   "execution_count": 74,
   "metadata": {},
   "outputs": [
    {
     "name": "stdout",
     "output_type": "stream",
     "text": [
      "请输入要判断回文的变量：131\n",
      "131 是回文数\n"
     ]
    }
   ],
   "source": [
    "str=input(\"请输入要判断回文的变量：\")\n",
    "j=-1\n",
    "for i in range(len(str)//2):\n",
    "    if str[i]==str[j]:\n",
    "        j-=1\n",
    "    else:\n",
    "        print(str,\"不是回文数\")\n",
    "        break\n",
    "if(i==-j-2):\n",
    "    print(str,\"是回文数\")"
   ]
  },
  {
   "cell_type": "code",
   "execution_count": 76,
   "metadata": {},
   "outputs": [
    {
     "name": "stdout",
     "output_type": "stream",
     "text": [
      "请输入要判断回文的变量：11211\n",
      "11211 是回文数\n"
     ]
    }
   ],
   "source": [
    "str=input(\"请输入要判断回文的变量：\")\n",
    "str1=str[::-1]\n",
    "if(str==str1):\n",
    "    print(str,\"是回文数\")\n",
    "else:\n",
    "    print(str,\"不是回文数\")"
   ]
  },
  {
   "cell_type": "markdown",
   "metadata": {},
   "source": [
    "## while(for) ...else语法：\n",
    "while(for) 条件：<br>\n",
    "\n",
    "     条件成立重复执行的代码\n",
    "else:<br>\n",
    "\n",
    "    循环正常结束之后要执行的代码\n"
   ]
  },
  {
   "cell_type": "code",
   "execution_count": null,
   "metadata": {},
   "outputs": [],
   "source": [
    "#for ...else语句的使用\n",
    "str1 = 'Python'\n",
    "for i in str1:\n",
    "    print(i)\n",
    "else:\n",
    "    print('循环正常结束之后要执行的else的代码')"
   ]
  },
  {
   "cell_type": "code",
   "execution_count": null,
   "metadata": {},
   "outputs": [],
   "source": [
    "##for ...else语句的使用\n",
    "str1 = 'PYTHON'\n",
    "for i in str1:\n",
    "    if i == 'T':\n",
    "        break\n",
    "    print(i)\n",
    "else:\n",
    "    print('循环正常结束之后要执行的else的代码')"
   ]
  },
  {
   "cell_type": "markdown",
   "metadata": {},
   "source": [
    "### 2 字符串循环左移"
   ]
  },
  {
   "cell_type": "code",
   "execution_count": null,
   "metadata": {},
   "outputs": [],
   "source": []
  },
  {
   "cell_type": "markdown",
   "metadata": {},
   "source": [
    "### 3 将Excel的列名转为十进制数"
   ]
  },
  {
   "cell_type": "code",
   "execution_count": null,
   "metadata": {},
   "outputs": [],
   "source": []
  },
  {
   "cell_type": "markdown",
   "metadata": {},
   "source": [
    "## 4.6 编程习题"
   ]
  },
  {
   "cell_type": "code",
   "execution_count": null,
   "metadata": {},
   "outputs": [],
   "source": [
    "#获取星期字符串\n",
    "week_str = \"星期一星期二星期三星期四星期五星期六星期日\"\n",
    "week_id = eval(input(\"请输入一个数字（1-7）：\"))\n",
    "pass"
   ]
  },
  {
   "cell_type": "code",
   "execution_count": null,
   "metadata": {},
   "outputs": [],
   "source": [
    "'''\n",
    "### 凯撒密码\n",
    "凯撒密码是古罗马凯撒大帝用来对军事情报进行加密的算法，它采用了替换方法对信息中的每一个\n",
    "英文字符循环替换为字母表序列该字符后面第三个字符，对应关系如下：  \n",
    "原文：A B C D E F G H I J K L M N O P Q R S T U V W X Y Z  \n",
    "密文：D E F G H I J K L M N O P Q R S T U V W X Y Z A B C  \n",
    "原文字符P，其密文字符C满足如下条件：  \n",
    "C = ( P + 3 ) mod 26  \n",
    "解密方法反之，满足：  \n",
    "P = ( C – 3 ) mod 26  \n",
    "假设只使用小写字母\n",
    "'''\n",
    "# 加密：chr(ord(\"a\")+(ord(p)-ord(\"a\")+3)%26)\n",
    "plain_code = input(\"请输入明文：\")\n",
    "pass"
   ]
  },
  {
   "cell_type": "code",
   "execution_count": null,
   "metadata": {},
   "outputs": [],
   "source": [
    "# 解密：chr(ord(\"a\")+(ord(p)-ord(\"a\")-3)%26)\n",
    "plain_code = input(\"请输入密文：\")\n",
    "pass"
   ]
  }
 ],
 "metadata": {
  "hide_input": false,
  "kernelspec": {
   "display_name": "Python 3",
   "language": "python",
   "name": "python3"
  },
  "language_info": {
   "codemirror_mode": {
    "name": "ipython",
    "version": 3
   },
   "file_extension": ".py",
   "mimetype": "text/x-python",
   "name": "python",
   "nbconvert_exporter": "python",
   "pygments_lexer": "ipython3",
   "version": "3.8.8"
  },
  "toc": {
   "base_numbering": 1,
   "nav_menu": {},
   "number_sections": false,
   "sideBar": false,
   "skip_h1_title": false,
   "title_cell": "Table of Contents",
   "title_sidebar": "Contents",
   "toc_cell": false,
   "toc_position": {},
   "toc_section_display": false,
   "toc_window_display": false
  },
  "vscode": {
   "interpreter": {
    "hash": "ad2bdc8ecc057115af97d19610ffacc2b4e99fae6737bb82f5d7fb13d2f2c186"
   }
  }
 },
 "nbformat": 4,
 "nbformat_minor": 2
}
