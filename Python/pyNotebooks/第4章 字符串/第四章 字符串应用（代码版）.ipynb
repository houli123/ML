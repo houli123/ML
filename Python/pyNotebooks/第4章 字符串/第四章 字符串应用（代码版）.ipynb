{
 "cells": [
  {
   "cell_type": "markdown",
   "metadata": {},
   "source": [
    "<img src=\"img/首页.png\" width=\"1200\" height=\"700\" align=\"center\" />"
   ]
  },
  {
   "cell_type": "markdown",
   "metadata": {},
   "source": [
    "##  知识点思维导图\n",
    "\n",
    "<img src=\"img/思维导图.png\" width=\"1000\" height=\"800\" align=\"left\" />"
   ]
  },
  {
   "cell_type": "markdown",
   "metadata": {},
   "source": [
    "#  本章能力目标：\n",
    "* ## 能对字符串进行一些拼接、访问、切片操作\n",
    "* ## 能对字符串进行格式化输出\n",
    "* ## 掌握一些常用字符串方法和函数的操作\n"
   ]
  },
  {
   "cell_type": "markdown",
   "metadata": {},
   "source": [
    "\n",
    "<details>\n",
    "<summary>\n",
    "\n",
    "<mark><font size=6>\n",
    " 课前问题1：请问以下输出结果是什么？<br><br>\n",
    "\n",
    "creature=(\"a\",\"b\",\"c\")<br><br>\n",
    "creature[0]=\"d\"\n",
    " </font></mark>\n",
    "\n",
    " </summary>\n",
    "<br><br>答案：TypeError: 'tuple' object does not support item assignment <br>\n",
    "\n",
    "    \n",
    " <br>\n",
    "</details>"
   ]
  },
  {
   "cell_type": "markdown",
   "metadata": {},
   "source": [
    "\n",
    "<details>\n",
    "<summary>\n",
    "\n",
    "<mark><font size=6>\n",
    " 课前问题2：请问以下输出结果是什么？<br><br>\n",
    "\n",
    "ls1=[1,2,3,4,5] <br><br>\n",
    "print(ls1[:])<br><br>\n",
    "print(ls1[1:-1])<br><br>\n",
    "print(ls1[1:])<br><br>\n",
    " </font></mark>\n",
    "\n",
    " </summary>\n",
    "<br><br>答案：<br>\n",
    "[1,2,3,4,5]<br>\n",
    "[2,3,4]<br>\n",
    "[2,3,4,5]\n",
    "    \n",
    " <br>\n",
    "\n"
   ]
  },
  {
   "cell_type": "markdown",
   "metadata": {},
   "source": [
    "# 4.1 情报译码"
   ]
  },
  {
   "cell_type": "markdown",
   "metadata": {},
   "source": [
    "<img src=\"img/情报译码.png\" width=\"700\" height=\"700\" align=\"left\" />"
   ]
  },
  {
   "cell_type": "markdown",
   "metadata": {},
   "source": [
    "# 4.2 字符串类型及其表示\n",
    "<img src=\"img/字符串表示.png\" width=\"700\" height=\"700\" align=\"left\" /><br><br><br><br><br><br><br><br><br><br><br><br><br><br><br><br><br><br><br>\n",
    "\n"
   ]
  },
  {
   "cell_type": "markdown",
   "metadata": {},
   "source": [
    "## 4.2.1 字符串转义字符\n",
    "反斜杠字符( \\ )是一个特殊字符，在字符串中表示转义，即该字符与后面相邻的一个字符共同组成了新的含义，如\\n表示换行，\\\\表示反斜杠、\\t表示制表符（Tab）等。\n",
    "\n",
    "<img src=\"img/转义字符.png\" width=\"600\" height=\"600\" align=\"center\" />"
   ]
  },
  {
   "cell_type": "code",
   "execution_count": null,
   "metadata": {},
   "outputs": [],
   "source": [
    "#输出字符串Jacky's book\n",
    "print('Jacky\\'s book')\n"
   ]
  },
  {
   "cell_type": "code",
   "execution_count": null,
   "metadata": {},
   "outputs": [],
   "source": [
    "#反斜杠用在一行的末尾表示这一行代码还没结束\n",
    "print(\"德业并进，\\\n",
    "自强不息\")"
   ]
  },
  {
   "cell_type": "markdown",
   "metadata": {},
   "source": [
    "## 4.2.2 字符索引\n",
    "字符串是一个字符序列，访问字符串有两种方式：正向索引和反向索引。字符串最左端位置标记为0，依次增加，这是正向索引访问，也可以从最右端位置开始访问，最右端位置标记为-1，一次递减，这是反向索引访问。\n",
    "<img src=\"img/索引访问.png\" width=\"600\" height=\"600\" align=\"center\" />"
   ]
  },
  {
   "cell_type": "markdown",
   "metadata": {},
   "source": [
    "## 4.2.3 字符串的基本操作\n",
    "#### 初始化字符串"
   ]
  },
  {
   "cell_type": "code",
   "execution_count": null,
   "metadata": {},
   "outputs": [],
   "source": [
    "#初始化str0的空字符串\n",
    "str0=''\n",
    "#通过input（）函数，将用户输入的内容当做一个字符串\n",
    "str1=input(\"请输入姓名：\")\n",
    "#初始化str3,含有11个字符\n",
    "str3=\"Hello Mike!\"\n"
   ]
  },
  {
   "cell_type": "markdown",
   "metadata": {},
   "source": [
    "#### 求字符串长度"
   ]
  },
  {
   "cell_type": "code",
   "execution_count": null,
   "metadata": {},
   "outputs": [],
   "source": [
    "#内置函数len(s)返回字符串s的长度\n",
    "name=\"Mike\"\n",
    "#求字符串name的长度，x的值为4\n",
    "x=len(name)"
   ]
  },
  {
   "cell_type": "markdown",
   "metadata": {},
   "source": [
    "#### 字符串拼接"
   ]
  },
  {
   "cell_type": "code",
   "execution_count": null,
   "metadata": {},
   "outputs": [],
   "source": [
    "#加号（+）用来拼接（合并）字符串\n",
    "first_name='Mike'\n",
    "last_name='Smith'\n",
    "full_name=first_name + last_name\n",
    "print(full_name)\n",
    "#打印一个问候的句子\n",
    "print(\"Hello,\"+full_name+\"!\")\n",
    "#下列语句会出错吗？如果出错，原因是什么呢？\n",
    "#print(full_name+666)"
   ]
  },
  {
   "cell_type": "markdown",
   "metadata": {},
   "source": [
    "#### 访问字符串的字符"
   ]
  },
  {
   "cell_type": "code",
   "execution_count": null,
   "metadata": {},
   "outputs": [],
   "source": [
    "message=\"Welcome to Shenzhen!\"\n",
    "#将message的第0号字符赋给变量char1\n",
    "char1=message[0]\n",
    "#将message的最后一个元素赋给变量char_last\n",
    "char_last=message[-1]\n",
    "#枚举字符串message的所有字符，逐个打印输出\n",
    "for char in message:\n",
    "    print(char)"
   ]
  },
  {
   "cell_type": "markdown",
   "metadata": {},
   "source": [
    "#### 字符串重复"
   ]
  },
  {
   "cell_type": "code",
   "execution_count": null,
   "metadata": {},
   "outputs": [],
   "source": [
    "#乘号（*）可以用来复制（重复）字符串\n",
    "print('重要的事情说三遍'*3)\n",
    "#下列语句会出错吗？如果出错什么原因呢？\n",
    "#print('重要的事情说三遍'*3.0)"
   ]
  },
  {
   "cell_type": "markdown",
   "metadata": {},
   "source": [
    "#### 字符串包含判断"
   ]
  },
  {
   "cell_type": "code",
   "execution_count": null,
   "metadata": {},
   "outputs": [],
   "source": [
    "#运算符in用来判断一个字符串是否是另一个字符串的字串，返回值：True或者False\n",
    "badminton_star='Dan Lin'\n",
    "print(\"L\" in badminton_star)\n",
    "print('Dan' in badminton_star)\n",
    "print('lin' in badminton_star)\n",
    "print('xie' in badminton_star)"
   ]
  },
  {
   "cell_type": "markdown",
   "metadata": {},
   "source": [
    "#### 字符串切片"
   ]
  },
  {
   "cell_type": "code",
   "execution_count": null,
   "metadata": {},
   "outputs": [],
   "source": [
    "#字符串对元素的访问和切片和其他序列类型对元素的访问方法一样\n",
    "#语法：字符串[开始索引:结束索引:步长(可省略)]\n",
    "wish='healthy,happy!'\n",
    "#访问第一个元素,并赋值给变量char1\n",
    "char1=wish[0]\n",
    "#访问最后一个元素，并赋值给变量char_last\n",
    "char_last=wish[-1]\n",
    "#打印输出前7个字符\n",
    "print(wish[0:7])\n",
    "#打印输出倒数第6个到倒数第2个字符\n",
    "print(wish[-6:-1])\n",
    "#打印输出整个字符串，3个参数值全部省略，默认值分别为0，字符串长度1\n",
    "print(wish[::])\n",
    "print(wish[:])\n",
    "print(wish[0:len(wish):1])\n",
    "#遍历字符串所有字符,并打印输出\n",
    "for char in wish:\n",
    "    print(char,end='')"
   ]
  },
  {
   "cell_type": "markdown",
   "metadata": {},
   "source": [
    "## 4.2.4 字符串格式化输出\n",
    ">* ### 在输出字符串时，有时候字符串的内容是动态变化的，比如说：\"2019-10-7：计算机的CPU平均占用率为10%\"，其中2019-10-7和10%这两块内容可能随时变化，这需要特定函数将字符串输出结果即使填充更新，字符串格式化方法可以解决这问题。\n",
    "> * ### Python字符串的格式化有两种方法，一种为传统的百分号方式，即C语言中的输入输出函数采用的格式化方法，一种为format()方法，两种并存，但是后者在Python里更为常用，也更加适用。本书均采用format()格式化方法。\n"
   ]
  },
  {
   "cell_type": "markdown",
   "metadata": {},
   "source": [
    "  ###  format()方法的基本使用\n",
    " * #### 基本格式如下：\"模板字符串\".format(<逗号分隔的参数>)\n",
    "<img src=\"img/format格式.png\" width=\"600\" height=\"600\" align=\"center\" /> <br><br><br><br>\n",
    "* #### 可以指定参数序号，则按照序号对应参数替换\n",
    "\n",
    "<img src=\"img/format格式2.png\" width=\"600\" height=\"600\" align=\"center\" />\n"
   ]
  },
  {
   "cell_type": "code",
   "execution_count": null,
   "metadata": {},
   "outputs": [],
   "source": [
    "#传统的百分号格式化方法\n",
    "s = 'hello, %s, %d!' % ('python', 2018)\n",
    "print(s)"
   ]
  },
  {
   "cell_type": "code",
   "execution_count": null,
   "metadata": {},
   "outputs": [],
   "source": [
    "#按顺序为槽指定参数值\n",
    "name=\"张三\"\n",
    "print(\"{} {} {}\".format(\"a\",1,name))\n",
    "#槽里面名称，按照名称匹配参数值\n",
    "print(\"{x} {y} {z}\".format(x=1,z=2,y=3))\n",
    "#槽中指定了参数的序号，按照序号对应参数替换\n",
    "print(\"{0}的{2}成绩为：{1}\".format(\"小明\",95,\"语文\"))\n",
    "#\n"
   ]
  },
  {
   "cell_type": "markdown",
   "metadata": {},
   "source": [
    "###  格式控制信息 \n",
    "<img src=\"img/格式化输出2.png\" width=\"900\" height=\"600\" align=\"center\" />"
   ]
  },
  {
   "cell_type": "code",
   "execution_count": null,
   "metadata": {},
   "outputs": [],
   "source": [
    "#format()方法中槽除了包括参数序号，还可以包括格式控制信息。槽的内部格式是：{<参数序号>:<格式控制标记>}\n",
    "s=\"Hello\"\n",
    "#输出的字符串变量s输出宽度为10，默认左对齐\n",
    "print(\"***{0:10}***\".format(s))\n",
    "#第1个槽输出右对齐，输出宽度为10，且使用*填充。第2个槽居中对齐，输出宽度为10，小数点后保留2位小数。\n",
    "\n",
    "print(\"{0:*>10}是{1:^10.2f}\".format(\"圆周率\",3.1415926))"
   ]
  },
  {
   "cell_type": "markdown",
   "metadata": {},
   "source": [
    "# 4.2.5 课堂练习：字符串\n",
    "#### 代码补全"
   ]
  },
  {
   "cell_type": "code",
   "execution_count": null,
   "metadata": {},
   "outputs": [],
   "source": [
    "greet1 = 'Hello,'\n",
    "greet2 = 'John!'\n",
    "\n",
    "# 合并greet1和greet2并赋值给变量eet\n",
    "\n",
    "# 打印输出greet的子串，从索引6的字符开始一直到结尾\n"
   ]
  },
  {
   "cell_type": "code",
   "execution_count": null,
   "metadata": {},
   "outputs": [],
   "source": [
    "greet1 = 'Hello,'\n",
    "greet2 = 'John!'\n",
    "# 合并greet1和greet2，并赋值给变量greet\n",
    "greet = greet1 + greet2\n",
    "print(greet)\n",
    "# 打印输出greet的子串，从字符索引为6的字符开始一直到字符串的结尾\n",
    "print(greet[6:])"
   ]
  },
  {
   "cell_type": "markdown",
   "metadata": {},
   "source": [
    "#### 任务应用\n",
    "身份证号码对应的生日信息"
   ]
  },
  {
   "cell_type": "code",
   "execution_count": null,
   "metadata": {},
   "outputs": [],
   "source": [
    "#例如350103198203106623对应的生日信息输出为“1982年03月10日出”\n",
    "myid = str(input(\"请输入18位身份证号码：\"))\n",
    "print(\"出生年月日为：{}年{}月{}日\".format(myid[6:10],myid[10:12],myid[12:14]))\n",
    "#思考，“03”月怎么样输出为“3月”？\n",
    "print(\"出生年月日为：{}年{}月{}日\".format(myid[6:10],int(myid[10:12]),int(myid[12:14])))"
   ]
  },
  {
   "cell_type": "markdown",
   "metadata": {},
   "source": [
    "## 4.3 情报译码项目实战\n",
    "### 4.3.1 任务分析"
   ]
  },
  {
   "cell_type": "markdown",
   "metadata": {},
   "source": [
    "<img src=\"img/情报译码3.png\" width=\"600\" height=\"400\" align=\"left\" />\n",
    "<img src=\"img/情报译码2.png\" width=\"600\" height=\"400\" align=\"left\" />"
   ]
  },
  {
   "cell_type": "markdown",
   "metadata": {},
   "source": [
    "### 4.3.2 任务实现"
   ]
  },
  {
   "cell_type": "code",
   "execution_count": null,
   "metadata": {},
   "outputs": [],
   "source": [
    "#初始化密码本\n",
    "code_book = '''    我和莫绍谦手拉着手回到了老房子，我们已经像最平凡的恋人一\n",
    "样手拉着手，一点也不会感到别扭，心里充满了快乐。\n",
    "    转头看见莫绍谦好笑地看着我，眼睛里都是宠溺。\n",
    "    他带我去了阁楼，那间阁楼我从未进去过，搬来的第一天，我便\n",
    "看到了那上面红色的大锁。结果莫绍谦连钥匙都没用就打开了锁，他\n",
    "举着那把锁对我说：“如果你多点好奇心，你早就会发现，我也会暴\n",
    "出更多秘密。”\n",
    "    阁楼古老陈旧，木质的地板散发着琥珀色的沉香。莫绍谦移出角\n",
    "落里的一个纸箱，我好奇地凑上去。   我打开一本相册，看到了童\n",
    "年的莫绍谦。他的脸白白净净，发型古怪，还露出缺了大门牙的牙齿。\n",
    "我笑得肚子疼，笑得流眼泪了。\n",
    "'''\n",
    "\n",
    "#初始化密码\n",
    "code = \"0022,0529,0920,0121,0204,0729\"\n",
    "\n",
    "#初始化最终情报\n",
    "information=''\n",
    "\n",
    "#将密码本按行存储到列表，每一行是一个字符串，这些字符串组成了一个列表\n",
    "#打印输出列表的每一个元素\n",
    "list = code_book.split(\"\\n\")\n",
    "i = 0\n",
    "for item in list:\n",
    "    print(\"密码本第{}行是 ：<{}>\".format(i, item))\n",
    "    i += 1\n",
    "#把密码code，对照密码本列表list，返回最终的情报\n",
    "info = \"\"\n",
    "code_list = code.split(\",\")\n",
    "for item_c in code_list:\n",
    "    row = int(item_c[0:2])\n",
    "    column = int(item_c[2:])\n",
    "    information += list[row][column]\n",
    "#调用函数，完成最终的译码工作\n",
    "print(\"最终情报是：{}\".format(information))"
   ]
  },
  {
   "cell_type": "markdown",
   "metadata": {},
   "source": [
    "## 4.4 总结与提高\n",
    "### 4.4.1 字符串基本操作\n"
   ]
  },
  {
   "cell_type": "markdown",
   "metadata": {},
   "source": [
    "\n",
    "\n",
    "\n",
    "<h2>Python字符串运算符</h2>\n",
    "<p>下表实例变量 a 值为字符串 \"Hello\"，b 变量值为 \"Python\"：</p>\n",
    "<table class=\"reference\">\n",
    "<tbody><tr>\n",
    "<th width=\"10%\">操作符</th><th width=\"60%\">描述</th><th>实例</th>\n",
    "</tr>\n",
    "<tr>\n",
    "<td>+</td><td>字符串连接</td><td>\n",
    "<div class=\"hl-main\"><span class=\"hl-code\">&gt;&gt;&gt;</span><span class=\"hl-identifier\">a</span><span class=\"hl-code\"> + </span><span class=\"hl-identifier\">b</span><span class=\"hl-code\">\n",
    "</span><span class=\"hl-quotes\">'</span><span class=\"hl-string\">HelloPython</span><span class=\"hl-quotes\">'</span></div> \n",
    "</td>\n",
    "</tr>\n",
    "<tr>\n",
    "<td>*</td><td>重复输出字符串</td><td>\n",
    "<div class=\"hl-main\"><span class=\"hl-code\">&gt;&gt;&gt;</span><span class=\"hl-identifier\">a</span><span class=\"hl-code\"> * </span><span class=\"hl-number\">2</span><span class=\"hl-code\">\n",
    "</span><span class=\"hl-quotes\">'</span><span class=\"hl-string\">HelloHello</span><span class=\"hl-quotes\">'</span></div> \n",
    "</td>\n",
    "</tr>\n",
    "<tr>\n",
    "<td>[]</td><td>通过索引获取字符串中字符</td><td>\n",
    "<div class=\"hl-main\"><span class=\"hl-code\">&gt;&gt;&gt;</span><span class=\"hl-identifier\">a</span><span class=\"hl-brackets\">[</span><span class=\"hl-number\">1</span><span class=\"hl-brackets\">]</span><span class=\"hl-code\">\n",
    "</span><span class=\"hl-quotes\">'</span><span class=\"hl-string\">e</span><span class=\"hl-quotes\">'</span></div> \n",
    "</td>\n",
    "</tr>\n",
    "<tr>\n",
    "<td>[ : ]</td><td>截取字符串中的一部分</td><td>\n",
    "<div class=\"hl-main\"><span class=\"hl-code\">&gt;&gt;&gt;</span><span class=\"hl-identifier\">a</span><span class=\"hl-brackets\">[</span><span class=\"hl-number\">1</span><span class=\"hl-code\">:</span><span class=\"hl-number\">4</span><span class=\"hl-brackets\">]</span><span class=\"hl-code\">\n",
    "</span><span class=\"hl-quotes\">'</span><span class=\"hl-string\">ell</span><span class=\"hl-quotes\">'</span></div> \n",
    "</td>\n",
    "</tr>\n",
    "<tr>\n",
    "<td>in</td><td>成员运算符 - 如果字符串中包含给定的字符返回 True </td><td> \n",
    "<div class=\"hl-main\"><span class=\"hl-code\">&gt;&gt;&gt;</span><span class=\"hl-quotes\">&quot;</span><span class=\"hl-string\">H</span><span class=\"hl-quotes\">&quot;</span><span class=\"hl-code\"> </span><span class=\"hl-reserved\">in</span><span class=\"hl-code\"> </span><span class=\"hl-identifier\">a</span><span class=\"hl-code\">\n",
    "</span><span class=\"hl-reserved\">True</span></div> \n",
    "</td>\n",
    "</tr>\n",
    "<tr>\n",
    "<td>not in </td><td>成员运算符 - 如果字符串中不包含给定的字符返回 True </td><td> \n",
    "<div class=\"hl-main\"><span class=\"hl-code\">&gt;&gt;&gt;</span><span class=\"hl-quotes\">&quot;</span><span class=\"hl-string\">M</span><span class=\"hl-quotes\">&quot;</span><span class=\"hl-code\"> </span><span class=\"hl-reserved\">not</span><span class=\"hl-code\"> </span><span class=\"hl-reserved\">in</span><span class=\"hl-code\"> </span><span class=\"hl-identifier\">a</span><span class=\"hl-code\">\n",
    "</span><span class=\"hl-reserved\">True</span></div> \n",
    "</td>\n",
    "</tr>\n",
    "<tr>\n",
    "<td>rR</td><td>原始字符串 - 原始字符串：所有的字符串都是直接按照字面的意思来使用，没有转义特殊或不能打印的字符。\n",
    "\n",
    "原始字符串除在字符串的第一个引号前加上字母\"r\"（可以大小写）以外，与普通字符串有着几乎完全相同的语法。</td><td> <div class=\"hl-main\"><span class=\"hl-code\">&gt;&gt;&gt;</span><span class=\"hl-reserved\">print(</span><span class=\"hl-code\"> </span><span class=\"hl-identifier\">r</span><span class=\"hl-quotes\">'</span><span class=\"hl-special\">\\n</span><span class=\"hl-quotes\">')</span><span class=\"hl-code\">\n",
    "\\</span><span class=\"hl-identifier\">n</span><span class=\"hl-code\">\n",
    "&gt;&gt;&gt; </span><span class=\"hl-reserved\">print(</span><span class=\"hl-code\"> </span><span class=\"hl-identifier\">R</span><span class=\"hl-quotes\">'</span><span class=\"hl-special\">\\n</span><span class=\"hl-quotes\">')</span><span class=\"hl-code\">\n",
    "\\</span><span class=\"hl-identifier\">n</span></div> </td>\n",
    "</tr>\n",
    "\n",
    "</tbody></table>\n"
   ]
  },
  {
   "cell_type": "code",
   "execution_count": null,
   "metadata": {},
   "outputs": [],
   "source": [
    "x=12345.5\n",
    "print(type(x))\n",
    "#通过内置函数str()返回任意类型x所对应的字符串形式\n",
    "y=str(x)\n",
    "print(type(y))"
   ]
  },
  {
   "cell_type": "code",
   "execution_count": null,
   "metadata": {},
   "outputs": [],
   "source": []
  },
  {
   "cell_type": "markdown",
   "metadata": {},
   "source": []
  },
  {
   "cell_type": "markdown",
   "metadata": {},
   "source": [
    "### 4.4.2 字符串操作常用函数\n",
    "Python解释器提供了一些字符串处理内置函数，Python3以Unicode字符为计数基础，字符串中的英文字符和中文字符都是1个长度单位。\n",
    "\n",
    "<img src=\"img/内置函数.png\" width=\"600\" height=\"600\" align=\"center\" />\n"
   ]
  },
  {
   "cell_type": "markdown",
   "metadata": {},
   "source": [
    "###  Unicode字符编码\n",
    "> 计算机程序中，每个字符都可以表示为一个数字，称为编码，最早的编码格式是ASCII码，它是由一个字节（8位）的来表示空格、标点符号、数字、大小写字母等一些英文字符，例如：小写字母C对应的Ascii编码数字是99。随着计算机的普及，除了英语国家，别的国家有使用本国语言文字的要求，很多国家就制定了一些适合本国语言文字对应的编码格式，这种编码格式是在Ascii码基础上发展来的，如中国有GB2312,GBK等。每个国家都有自己的字符编码格式，各自为政，互相不支持。为此ISO（国际标准化组织）推出用Unicode码（多个字节编码）来表示和存储全世界不同国家的语言文字。Unicode字符集在网络上一般以utf-8编码格式进行传播。不同编码之间可以相互转换。<br>\n",
    ">  字符编码参考文档1：  https://www.cnblogs.com/gavin-num1/p/5170247.html<br>\n",
    "> 字符编码参考文档2：https://blog.csdn.net/LemonWatermelon/article/details/90300413"
   ]
  },
  {
   "cell_type": "code",
   "execution_count": null,
   "metadata": {},
   "outputs": [],
   "source": [
    "#chr()函数，返回Unicode码对应的字符\n",
    "print(\"Unicode码为10005对应的字符是：\"+chr(10005))\n",
    "print(\"Unicode码为99对应的字符是：\"+chr(99))  \n",
    "print(\"Unicode码为0X4E60对应的字符是：\"+chr(0X4E60))  \n",
    "print(\"Unicode码为0X3041对应的日本字符是：\"+chr(0x3041))  \n",
    "print(\"Unicode码为0X2460对应的印刷字符是：\"+chr(0x270B))\n",
    "#输出26个英文字母的Unicode编码\n",
    "for char in \"abcdefghijklmnopqrstuvwxyz\":\n",
    "    print(\"{}的Unicode编码是：{}\\n\".format(char,ord(char)))\n"
   ]
  },
  {
   "cell_type": "markdown",
   "metadata": {},
   "source": [
    "### 4.4.3 字符串操作常用方法\n",
    "在Python解释器内部，所有数据类型都采用面向对象方式实现，封装为一个类，字符串类型的方法有很多，如下表所示<br>\n",
    "<br><img src=\"img/内置方法.png\" width=\"500\" height=\"500\" align=\"center\" />\n",
    "<img src=\"img/内置方法2.png\" width=\"500\" height=\"500\" align=\"center\" />"
   ]
  },
  {
   "cell_type": "markdown",
   "metadata": {},
   "source": [
    "####  字符串的查找和替换\n",
    "- find方法  \n",
    "字符串的find（）方法用于查找子字符串。该方法的语法为str.find （sub[，start[，end]]），表示：在索引start到end之间查找子字符串sub ，如果找到，则返回最左端位置的索引；如果没有找到，则返回-1。\n",
    "- replace方法  \n",
    "若想进行字符串替换，则可以使用replace（）方法替换匹配的子字 符串，返回值是替换之后的字符串。该方法的语法为str.replace（old，n ew[，count]），表示：用new子字符串替换old子字符串。count参数指 定了替换old子字符串的个数，如果count被省略，则替换所有old子字符串。"
   ]
  },
  {
   "cell_type": "markdown",
   "metadata": {},
   "source": [
    "#### 字符串的分割和连接\n",
    "- split方法  \n",
    "若想进行字符串分割，则可以使用split（）方法，按照子字符串来 分割字符串，返回字符串列表对象。该方法的语法为str.split（sep=None ，maxsplit=-1），表示：使用sep子字符串分割字符串str。maxsplit是最 大分割次数，如果maxsplit被省略，则表示不限制分割次数。\n",
    "- join方法  "
   ]
  },
  {
   "cell_type": "code",
   "execution_count": null,
   "metadata": {},
   "outputs": [],
   "source": [
    "#find()方法在字符串s中查找子串“o”第一次出现的位置\n",
    "s=\"Hello world!\"\n",
    "print(s.find(\"o\"))\n"
   ]
  },
  {
   "cell_type": "code",
   "execution_count": null,
   "metadata": {},
   "outputs": [],
   "source": [
    "#使用replace（）方法替换子串\n",
    "print(\"I like dancing\".replace(\"dancing\",\"singing\"))"
   ]
  },
  {
   "cell_type": "code",
   "execution_count": null,
   "metadata": {},
   "outputs": [],
   "source": [
    "#使用split()方法将一个以逗号分割的字符串分割，并保存在一个列表对象中。\n",
    "print(\"北京,上海,广州,深圳\".split(\",\"))"
   ]
  },
  {
   "cell_type": "code",
   "execution_count": null,
   "metadata": {},
   "outputs": [],
   "source": [
    "#使用Join方法把列表中各元素用逗号分隔并组成新字符串，输出此新字符串\n",
    "course_list=[\"语文\",\"数学\",\"物理\",\"化学\"]\n",
    "print(\"&\".join(course_list))"
   ]
  },
  {
   "cell_type": "markdown",
   "metadata": {},
   "source": [
    "## 4.5 巩固与提高--回文判断\n",
    "顺着读和倒着读都一样，比如中国的回文对联“心清可品茶;茶品可清心”、英文单词“noon”、数字“1234321”。\n"
   ]
  },
  {
   "cell_type": "code",
   "execution_count": null,
   "metadata": {},
   "outputs": [],
   "source": [
    "#回文判断方法1：\n",
    "str1 = input(\"请输入一个字符串：\")\n",
    "low = 0\n",
    "high = len(str1) - 1\n",
    "while(low < high):\n",
    "    if str1[low] != str1[high]:\n",
    "        print(\"{}不是回文字符串\".format(str1))\n",
    "        break\n",
    "    low += 1\n",
    "    high -= 1\n",
    "if low>=high:\n",
    "    print(\"{}是回文字符串\".format(str1))\n",
    "    "
   ]
  },
  {
   "cell_type": "code",
   "execution_count": null,
   "metadata": {
    "code_folding": [],
    "scrolled": true
   },
   "outputs": [],
   "source": [
    "#回文判断方法1：\n",
    "s=input(\"请输入要判断的字符串：\")\n",
    "low = 0\n",
    "high = len(s) - 1\n",
    "while(low < high):\n",
    "    if s[low] != s[high]:\n",
    "            print(\"输入的字符串不是回文\")\n",
    "            break\n",
    "    low += 1\n",
    "    high -= 1\n",
    "else:print(\"输入的字符串是回文\")"
   ]
  },
  {
   "cell_type": "code",
   "execution_count": null,
   "metadata": {},
   "outputs": [],
   "source": [
    "#回文判断方法2:\n",
    "s = input(\"请输入一个字符串：\")\n",
    "s_reverse = s[::-1]\n",
    "if(s != s_reverse):\n",
    "    print(\"“{}”不是回文字符串\".format(s))\n",
    "else:\n",
    "    print(\"“{}”是回文字符串\".format(s))"
   ]
  },
  {
   "cell_type": "markdown",
   "metadata": {},
   "source": [
    "## while(for) ...else语法：\n",
    "while(for) 条件：<br>\n",
    "\n",
    "     条件成立重复执行的代码\n",
    "else:<br>\n",
    "\n",
    "    循环正常结束之后要执行的代码\n"
   ]
  },
  {
   "cell_type": "code",
   "execution_count": 1,
   "metadata": {},
   "outputs": [
    {
     "name": "stdout",
     "output_type": "stream",
     "text": [
      "P\n",
      "y\n",
      "t\n",
      "h\n",
      "o\n",
      "n\n",
      "循环正常结束之后要执行的else的代码\n"
     ]
    }
   ],
   "source": [
    "str1 = 'Python'\n",
    "for i in str1:\n",
    "    print(i)\n",
    "else:\n",
    "    print('循环正常结束之后要执行的else的代码')"
   ]
  },
  {
   "cell_type": "code",
   "execution_count": 2,
   "metadata": {},
   "outputs": [
    {
     "name": "stdout",
     "output_type": "stream",
     "text": [
      "P\n",
      "Y\n"
     ]
    }
   ],
   "source": [
    "str1 = 'PYTHON'\n",
    "for i in str1:\n",
    "    if i == 'T':\n",
    "        break\n",
    "    print(i)\n",
    "else:\n",
    "    print('循环正常结束之后要执行的else的代码')"
   ]
  },
  {
   "cell_type": "markdown",
   "metadata": {},
   "source": [
    "### 2 字符串循环左移"
   ]
  },
  {
   "cell_type": "code",
   "execution_count": null,
   "metadata": {},
   "outputs": [],
   "source": [
    "#定义一个字符串\n",
    "S = \"ABCDEFG\"\n",
    "\n",
    "#变量n存放的是需要进行移动的左侧字符个数\n",
    "n = 3\n",
    "for i in range(n):\n",
    "    SL=S[1:]\n",
    "    S=SL+S[0]\n",
    "print(S)"
   ]
  },
  {
   "cell_type": "markdown",
   "metadata": {},
   "source": [
    "### 3 将Excel的列名转为十进制数"
   ]
  },
  {
   "cell_type": "code",
   "execution_count": null,
   "metadata": {},
   "outputs": [],
   "source": [
    "S = \"CC\"\n",
    "number  =0\n",
    "for ch in S:\n",
    "    number = number * 26\n",
    "    number += ord(ch) - ord('A') + 1\n",
    "print(number)\n"
   ]
  },
  {
   "cell_type": "markdown",
   "metadata": {},
   "source": [
    "## 4.6 编程习题"
   ]
  },
  {
   "cell_type": "code",
   "execution_count": null,
   "metadata": {},
   "outputs": [],
   "source": [
    "#获取星期字符串\n",
    "week_str = \"星期一星期二星期三星期四星期五星期六星期日\"\n",
    "week_id = eval(input(\"请输入一个数字（1-7）：\"))\n",
    "pass"
   ]
  },
  {
   "cell_type": "code",
   "execution_count": null,
   "metadata": {},
   "outputs": [],
   "source": [
    "'''\n",
    "### 凯撒密码\n",
    "凯撒密码是古罗马凯撒大帝用来对军事情报进行加密的算法，它采用了替换方法对信息中的每一个英文字符循环替换为字母表序列该字符后面第三个字符，对应关系如下：  \n",
    "原文：A B C D E F G H I J K L M N O P Q R S T U V W X Y Z  \n",
    "密文：D E F G H I J K L M N O P Q R S T U V W X Y Z A B C  \n",
    "原文字符P，其密文字符C满足如下条件：  \n",
    "C = ( P + 3 ) mod 26  \n",
    "解密方法反之，满足：  \n",
    "P = ( C – 3 ) mod 26  \n",
    "假设只使用小写字母\n",
    "'''\n",
    "# 加密：chr(ord(\"a\")+(ord(p)-ord(\"a\")+3)%26)\n",
    "plain_code = input(\"请输入明文：\")\n",
    "pass"
   ]
  },
  {
   "cell_type": "code",
   "execution_count": null,
   "metadata": {},
   "outputs": [],
   "source": [
    "# 解密：chr(ord(\"a\")+(ord(p)-ord(\"a\")-3)%26)\n",
    "plain_code = input(\"请输入密文：\")\n",
    "pass"
   ]
  }
 ],
 "metadata": {
  "hide_input": false,
  "kernelspec": {
   "display_name": "Python 3",
   "language": "python",
   "name": "python3"
  },
  "language_info": {
   "codemirror_mode": {
    "name": "ipython",
    "version": 3
   },
   "file_extension": ".py",
   "mimetype": "text/x-python",
   "name": "python",
   "nbconvert_exporter": "python",
   "pygments_lexer": "ipython3",
   "version": "3.8.8"
  },
  "toc": {
   "base_numbering": 1,
   "nav_menu": {},
   "number_sections": false,
   "sideBar": false,
   "skip_h1_title": false,
   "title_cell": "Table of Contents",
   "title_sidebar": "Contents",
   "toc_cell": false,
   "toc_position": {},
   "toc_section_display": false,
   "toc_window_display": false
  }
 },
 "nbformat": 4,
 "nbformat_minor": 2
}
