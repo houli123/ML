{
 "cells": [
  {
   "attachments": {},
   "cell_type": "markdown",
   "metadata": {},
   "source": [
    "# 项目1：PyTorch对MNIST手写数字数据集进行分类"
   ]
  },
  {
   "attachments": {},
   "cell_type": "markdown",
   "metadata": {},
   "source": [
    "## 1、导入库和数据集"
   ]
  },
  {
   "cell_type": "code",
   "execution_count": 34,
   "metadata": {},
   "outputs": [
    {
     "name": "stdout",
     "output_type": "stream",
     "text": [
      "2.4.1\n",
      "CUDA是否可用? False\n",
      "当前CUDA 版本: 11.8\n",
      "11.8\n"
     ]
    },
    {
     "ename": "RuntimeError",
     "evalue": "No CUDA GPUs are available",
     "output_type": "error",
     "traceback": [
      "\u001b[1;31m---------------------------------------------------------------------------\u001b[0m",
      "\u001b[1;31mRuntimeError\u001b[0m                              Traceback (most recent call last)",
      "Cell \u001b[1;32mIn[34], line 11\u001b[0m\n\u001b[0;32m      8\u001b[0m \u001b[38;5;28mprint\u001b[39m(torch\u001b[38;5;241m.\u001b[39mversion\u001b[38;5;241m.\u001b[39mcuda)\n\u001b[0;32m     10\u001b[0m \u001b[38;5;66;03m# Storing ID of current CUDA device\u001b[39;00m\n\u001b[1;32m---> 11\u001b[0m cuda_id \u001b[38;5;241m=\u001b[39m \u001b[43mtorch\u001b[49m\u001b[38;5;241;43m.\u001b[39;49m\u001b[43mcuda\u001b[49m\u001b[38;5;241;43m.\u001b[39;49m\u001b[43mcurrent_device\u001b[49m\u001b[43m(\u001b[49m\u001b[43m)\u001b[49m\n\u001b[0;32m     12\u001b[0m \u001b[38;5;28mprint\u001b[39m(\u001b[38;5;124mf\u001b[39m\u001b[38;5;124m\"\u001b[39m\u001b[38;5;124m当前CUDA ID:\u001b[39m\u001b[38;5;132;01m{\u001b[39;00mtorch\u001b[38;5;241m.\u001b[39mcuda\u001b[38;5;241m.\u001b[39mcurrent_device()\u001b[38;5;132;01m}\u001b[39;00m\u001b[38;5;124m\"\u001b[39m)\n\u001b[0;32m     14\u001b[0m \u001b[38;5;28mprint\u001b[39m(\u001b[38;5;124mf\u001b[39m\u001b[38;5;124m\"\u001b[39m\u001b[38;5;124mCUDA设备名称:\u001b[39m\u001b[38;5;132;01m{\u001b[39;00mtorch\u001b[38;5;241m.\u001b[39mcuda\u001b[38;5;241m.\u001b[39mget_device_name(cuda_id)\u001b[38;5;132;01m}\u001b[39;00m\u001b[38;5;124m\"\u001b[39m)\n",
      "File \u001b[1;32md:\\Anaconda\\envs\\pytorch\\lib\\site-packages\\torch\\cuda\\__init__.py:878\u001b[0m, in \u001b[0;36mcurrent_device\u001b[1;34m()\u001b[0m\n\u001b[0;32m    876\u001b[0m \u001b[38;5;28;01mdef\u001b[39;00m \u001b[38;5;21mcurrent_device\u001b[39m() \u001b[38;5;241m-\u001b[39m\u001b[38;5;241m>\u001b[39m \u001b[38;5;28mint\u001b[39m:\n\u001b[0;32m    877\u001b[0m \u001b[38;5;250m    \u001b[39m\u001b[38;5;124mr\u001b[39m\u001b[38;5;124;03m\"\"\"Return the index of a currently selected device.\"\"\"\u001b[39;00m\n\u001b[1;32m--> 878\u001b[0m     \u001b[43m_lazy_init\u001b[49m\u001b[43m(\u001b[49m\u001b[43m)\u001b[49m\n\u001b[0;32m    879\u001b[0m     \u001b[38;5;28;01mreturn\u001b[39;00m torch\u001b[38;5;241m.\u001b[39m_C\u001b[38;5;241m.\u001b[39m_cuda_getDevice()\n",
      "File \u001b[1;32md:\\Anaconda\\envs\\pytorch\\lib\\site-packages\\torch\\cuda\\__init__.py:314\u001b[0m, in \u001b[0;36m_lazy_init\u001b[1;34m()\u001b[0m\n\u001b[0;32m    312\u001b[0m \u001b[38;5;28;01mif\u001b[39;00m \u001b[38;5;124m\"\u001b[39m\u001b[38;5;124mCUDA_MODULE_LOADING\u001b[39m\u001b[38;5;124m\"\u001b[39m \u001b[38;5;129;01mnot\u001b[39;00m \u001b[38;5;129;01min\u001b[39;00m os\u001b[38;5;241m.\u001b[39menviron:\n\u001b[0;32m    313\u001b[0m     os\u001b[38;5;241m.\u001b[39menviron[\u001b[38;5;124m\"\u001b[39m\u001b[38;5;124mCUDA_MODULE_LOADING\u001b[39m\u001b[38;5;124m\"\u001b[39m] \u001b[38;5;241m=\u001b[39m \u001b[38;5;124m\"\u001b[39m\u001b[38;5;124mLAZY\u001b[39m\u001b[38;5;124m\"\u001b[39m\n\u001b[1;32m--> 314\u001b[0m \u001b[43mtorch\u001b[49m\u001b[38;5;241;43m.\u001b[39;49m\u001b[43m_C\u001b[49m\u001b[38;5;241;43m.\u001b[39;49m\u001b[43m_cuda_init\u001b[49m\u001b[43m(\u001b[49m\u001b[43m)\u001b[49m\n\u001b[0;32m    315\u001b[0m \u001b[38;5;66;03m# Some of the queued calls may reentrantly call _lazy_init();\u001b[39;00m\n\u001b[0;32m    316\u001b[0m \u001b[38;5;66;03m# we need to just return without initializing in that case.\u001b[39;00m\n\u001b[0;32m    317\u001b[0m \u001b[38;5;66;03m# However, we must not let any *other* threads in!\u001b[39;00m\n\u001b[0;32m    318\u001b[0m _tls\u001b[38;5;241m.\u001b[39mis_initializing \u001b[38;5;241m=\u001b[39m \u001b[38;5;28;01mTrue\u001b[39;00m\n",
      "\u001b[1;31mRuntimeError\u001b[0m: No CUDA GPUs are available"
     ]
    }
   ],
   "source": [
    "import torch\n",
    "\n",
    "import torch\n",
    "print(torch.__version__)\n",
    "\n",
    "print(f\"CUDA是否可用? {torch.cuda.is_available()}\")\n",
    "print(f\"当前CUDA 版本: {torch.version.cuda}\")\n",
    "print(torch.version.cuda)\n",
    "\n",
    "# Storing ID of current CUDA device\n",
    "cuda_id = torch.cuda.current_device()\n",
    "print(f\"当前CUDA ID:{torch.cuda.current_device()}\")\n",
    "\n",
    "print(f\"CUDA设备名称:{torch.cuda.get_device_name(cuda_id)}\")\n"
   ]
  },
  {
   "cell_type": "code",
   "execution_count": 26,
   "metadata": {},
   "outputs": [],
   "source": [
    "# %pip install matplotlib\n",
    "# !pip install torch torchvision torchaudio --index-url https://download.pytorch.org/whl/cu121 -c https://mirrors.tuna.tsinghua.edu.cn/anaconda/cloud/pytorch/win-64/\n",
    "# !pip uninstall torch torchvision torchaudio\n",
    "import torch\n",
    "import torch.nn as nn  #神经网络的缩写，核心组件包括卷积层、池化层和全连接层。卷积层通过滤波器提取局部特征，池化层降低特征的空间维度，全连接层则用于最终的分类或回归。很常用的模块，很多网络层都是封装在这里\n",
    "# 这个模块包含了构建神经网络所需的所有核心组件。nn 模块提供了一系列的类和函数，用于构建、训练和测试神经网络。以下是一些关键组件：\n",
    "# 卷积层（Convolutional Layers）：nn.Conv2d 是一个二维卷积层，用于图像处理。它通过滤波器（也称为卷积核）在输入数据上滑动，提取局部特征。\n",
    "# 池化层（Pooling Layers）：nn.MaxPool2d 是一个最大池化层，用于降低特征图的空间维度，减少参数数量和计算量，同时保持重要的特征信息。\n",
    "# 全连接层（Fully Connected Layers）：nn.Linear 是一个全连接层，用于将特征图展平后进行分类或回归任务。\n",
    "# 激活函数（Activation Functions）：nn.ReLU、nn.Sigmoid、nn.Tanh 等，用于引入非线性，使网络能够学习复杂的模式。\n",
    "# 损失函数（Loss Functions）：nn.CrossEntropyLoss、nn.MSELoss 等，用于计算模型预测和真实标签之间的差异。\n",
    "# 优化器（Optimizers）：虽然优化器在 torch.optim 模块中，但它们通常与 nn 模块一起使用，用于更新网络权重。\n",
    "import torch.optim as optim  #优化器如SGD，Adam、Adagrad（自适应梯度）等常用优化器\n",
    "from torch.utils.data import DataLoader  #加载数据集\n",
    "from torchvision import datasets,transforms  #数据集的处理库\n",
    "import matplotlib.pyplot as plt \n",
    "# 循环神经网络（Recurrent Neural Networks，RNN）是一种能够处理序列数据的神经网络，它能够捕捉时间序列中的动态特征。LSTM结构：长短期记忆网络（Long Short-Term Memory，LSTM）是RNN的一种变体，它通过引入门控机制解决了传统RNN的长期依赖问题，能够学习长期时间依赖关系。\n",
    "\n",
    "#定义数据预处理的步骤\n",
    "transform=transforms.Compose([\n",
    "    transforms.ToTensor(),  #torch使用的是张量，将图片转换为张量\n",
    "    transforms.Normalize((0.5,),(0.5,))  #归一化处理（对数据进行标准化处理，使其均值为0.5） 左边平均值 右边方差\n",
    "])\n",
    "#加载数据集，download指定下载数据集\n",
    "train_dataset=datasets.MNIST(root='./data',train=True,transform=transform,download=True)\n",
    "test_dataset=datasets.MNIST(root='./data',train=False,transform=transform,download=True)\n",
    "\n",
    "#创建数据加载器，用于分批次加载训练数据，实现的是批量优化算法\n",
    "train_loader=DataLoader(\n",
    "    dataset=train_dataset,  #指定要加载的数据集（训练集）\n",
    "    batch_size=32,  #批处理的大小，每一次使用多少个样本用于训练，一般取2的幂次方，如32 64 128 256 512\n",
    "    shuffle=True,  #训练集一定要True进行每次打乱数据顺序\n",
    "    num_workers=2,  #使用多少个线程跑这个程序\n",
    ")\n",
    "test_loader=DataLoader(\n",
    "    dataset=test_dataset,  \n",
    "    batch_size=32,  \n",
    "    shuffle=False,  #测试集不需要打乱，可以False\n",
    "    num_workers=2,  \n",
    ")"
   ]
  },
  {
   "attachments": {},
   "cell_type": "markdown",
   "metadata": {},
   "source": [
    "## 2、构建CNN模型"
   ]
  },
  {
   "cell_type": "code",
   "execution_count": 27,
   "metadata": {},
   "outputs": [
    {
     "name": "stdout",
     "output_type": "stream",
     "text": [
      "CNN(\n",
      "  (conv1): Conv2d(1, 32, kernel_size=(3, 3), stride=(1, 1), padding=(1, 1))\n",
      "  (conv2): Conv2d(32, 128, kernel_size=(3, 3), stride=(1, 1), padding=(1, 1))\n",
      "  (conv3): Conv2d(128, 256, kernel_size=(3, 3), stride=(1, 1), padding=(1, 1))\n",
      "  (relu): ReLU()\n",
      "  (maxpool): MaxPool2d(kernel_size=2, stride=2, padding=0, dilation=1, ceil_mode=False)\n",
      "  (avgpool): AvgPool2d(kernel_size=7, stride=7, padding=0)\n",
      "  (fc): Linear(in_features=256, out_features=10, bias=True)\n",
      ")\n"
     ]
    }
   ],
   "source": [
    "#继承nn.Module模块，一个模型包括初始化和前向传播\n",
    "class CNN(nn.Module):\n",
    "    #模型的初始化\n",
    "    def __init__(self,C=10):   #C是10个类\n",
    "        super(CNN, self).__init__()  #调用父类的初始化函数\n",
    "        self.C=C\n",
    "    # 定义卷积层\n",
    "        #下面是第一层的卷积层，由于我们的数据是一维的（黑白照片）所以通道数为1，经过这一层卷积层之后特征变为32维\n",
    "        self.conv1=nn.Conv2d(in_channels=1, #输入的通道数。\n",
    "                             out_channels=32, #输出的通道数\n",
    "                             kernel_size=3,  #卷积核，一般为单数,3用的很多\n",
    "                             stride=1,  #步伐，就是卷积核（滑动）的补偿\n",
    "                             padding=1  # 在边上填充图片/特征，在边上填充0来放大图片\n",
    "                             ) \n",
    "        # 定义卷积层2\n",
    "        self.conv2=nn.Conv2d(in_channels=32, #要严格按照上一个网络层输出的通道大小进行设置\n",
    "                             out_channels=128, #输出的通道数\n",
    "                             kernel_size=3,  #卷积核，一般为单数,3用的很多\n",
    "                             stride=1,  #步伐，就是卷积核（滑动）的补偿\n",
    "                             padding=1  # 在边上填充图片/特征，在边上填充0来放大图片\n",
    "                             ) \n",
    "        # 定义卷积层3\n",
    "        self.conv3=nn.Conv2d(in_channels=128, #要严格按照上一个网络层输出的通道大小进行设置\n",
    "                             out_channels=256, #输出的通道数\n",
    "                             kernel_size=3,  #卷积核，一般为单数,3用的很多\n",
    "                             stride=1,  #步伐，就是卷积核（滑动）的补偿\n",
    "                             padding=1  # 在边上填充图片/特征，在边上填充0来放大图片\n",
    "                             ) \n",
    "        \n",
    "    # 定义第二层的激活层\n",
    "        self.relu=nn.ReLU()\n",
    "\n",
    "    # 定义最大池化层，一般是最大池化，池化的窗口是2X2，步长为空，这意味着特征图会缩小一半，如果原来输入的维度是[32,64,64]，则经过池化层后会变为[32,32,32]\n",
    "        # 2x2的窗口在2x2的步长下进行滑动，将2x2的窗口降为1x1，得到64个通道的图片\n",
    "        self.maxpool=nn.MaxPool2d(kernel_size=2,stride=None)  # 将2x2的窗口降为1x1\n",
    "\n",
    "        # 定义全局平均池化层，计算区域内平均值作为代表，同样降低维度，但保留的信息更为平滑。\n",
    "        self.avgpool=nn.AvgPool2d(kernel_size=7,stride=None)  #将7x7的窗口降为1x1\n",
    "\n",
    "        # 定义模型最后一层：全连接层，将最后的32x32x32的特征转化为10个类别\n",
    "        self.fc=nn.Linear(256,self.C)  # 256是输入该层的网络通道数，C是输出的网络通道类别数，即10个类别数\n",
    "        \n",
    "\n",
    "# 卷积层: 提取特征，增加通道数。例如，从 [32, 1, 28, 28] 变为 [32, 32, 28, 28]\n",
    "# 激活层: 应用非线性函数，不改变形状。例如，从 [32, 32, 28, 28] 保持为 [32, 32, 28, 28]\n",
    "# 池化层: 降低分辨率，减少计算量，保持通道数。例如，从 [32, 32, 28, 28] 变为 [32, 32, 14, 14]\n",
    "# 全连接层: 展平特征图，转换为 [批次大小, 输出特征数]。例如，从 [32, 32, 14, 14] 展平后变为 [32, 6272]\n",
    "\n",
    "    def forward(self, x):  #模型的前向传播函数，x是传进来的图片，torch.Size([32, 1, 28, 28])\n",
    "\n",
    "    #定义第一个网络层\n",
    "#### 四维张量形状：[批次大小, 通道数, 高度, 宽度]\n",
    "#### 这里32表示批次大小，32表示通道数，28表示图像高度，28表示图像宽度\n",
    "        #先卷积，增加通道数，变第二个\n",
    "        x=self.relu(self.conv1(x))   #torch.Size([32, 32, 28, 28])\n",
    "\n",
    "        #池化层，降维：目的是要变为[32,10]，即从四维张量变为二维张量，第二维（通道数）变为类别数10，用于该分类任务。\n",
    "        #其中第3第4的高度宽度就是特征的维度\n",
    "        x=self.maxpool(x)  #torch.Size([32, 32, 14, 14])\n",
    "\n",
    "    #第二个网络层\n",
    "        #卷积，增加通道数\n",
    "        x=self.relu(self.conv2(x))   #torch.Size([32, 128, 14, 14])\n",
    "        #降维，缩半\n",
    "        x=self.maxpool(x)  #torch.Size([32, 128, 7, 7])\n",
    "\n",
    "    #第三个网络层\n",
    "        x=self.relu(self.conv3(x))   #torch.Size([32, 256, 7, 7])\n",
    "        #按平均池化层kernel_size=7进行降维\n",
    "        x=self.avgpool(x)              #torch.Size([32, 256, 1, 1])\n",
    "\n",
    "        #这行代码首先通过两次 squeeze 操作去除多余的单一维度，然后将处理后的特征图传递给全连接层 self.fc。\n",
    "#这样做的目的是确保全连接层的输入维度正确，因为全连接层期望接收一个一维张量作为输入。\n",
    "        x=self.fc(x.squeeze().squeeze())\n",
    "\n",
    "        # print(x.shape)\n",
    "        # pp\n",
    "\n",
    "        return x #我们最终输出的维度是[32,10]来对每一个类别进行分类\n",
    "\n",
    "model=CNN()\n",
    "print(model)"
   ]
  },
  {
   "attachments": {},
   "cell_type": "markdown",
   "metadata": {},
   "source": [
    "## 3、定义损失函数和优化器"
   ]
  },
  {
   "cell_type": "code",
   "execution_count": 28,
   "metadata": {},
   "outputs": [],
   "source": [
    "#定义交叉熵损失函数,常用于多分类问题\n",
    "criterion=nn.CrossEntropyLoss()    \n",
    "\n",
    "#定义优化器\n",
    "optimizer = optim.Adam(model.parameters(), lr=0.001)  # Adam优化器收敛的速度比较快，对模型的参数parameters进行优化，学习率0.001"
   ]
  },
  {
   "attachments": {},
   "cell_type": "markdown",
   "metadata": {},
   "source": [
    "## 4、训练模型"
   ]
  },
  {
   "cell_type": "code",
   "execution_count": 29,
   "metadata": {},
   "outputs": [
    {
     "name": "stdout",
     "output_type": "stream",
     "text": [
      "Epoch：[1/5]，Loss：0.39\n",
      "Epoch：[2/5]，Loss：0.09\n",
      "Epoch：[3/5]，Loss：0.06\n",
      "Epoch：[4/5]，Loss：0.05\n"
     ]
    },
    {
     "ename": "KeyboardInterrupt",
     "evalue": "",
     "output_type": "error",
     "traceback": [
      "\u001b[1;31m---------------------------------------------------------------------------\u001b[0m",
      "\u001b[1;31mKeyboardInterrupt\u001b[0m                         Traceback (most recent call last)",
      "Cell \u001b[1;32mIn[29], line 19\u001b[0m\n\u001b[0;32m     16\u001b[0m     \u001b[38;5;66;03m#反向传播：就是逆序执行的前向传播\u001b[39;00m\n\u001b[0;32m     17\u001b[0m     \u001b[38;5;66;03m#首先清零所有参数的梯度，其默认情况下梯度是累加的\u001b[39;00m\n\u001b[0;32m     18\u001b[0m     optimizer\u001b[38;5;241m.\u001b[39mzero_grad()   \u001b[38;5;66;03m#必须要有\u001b[39;00m\n\u001b[1;32m---> 19\u001b[0m     \u001b[43mloss\u001b[49m\u001b[38;5;241;43m.\u001b[39;49m\u001b[43mbackward\u001b[49m\u001b[43m(\u001b[49m\u001b[43m)\u001b[49m  \u001b[38;5;66;03m#开启反向传播，计算损失函数关于参数的梯度\u001b[39;00m\n\u001b[0;32m     20\u001b[0m     optimizer\u001b[38;5;241m.\u001b[39mstep() \u001b[38;5;66;03m#根据梯度来更新参数\u001b[39;00m\n\u001b[0;32m     22\u001b[0m avg_loss \u001b[38;5;241m=\u001b[39m losses\u001b[38;5;241m/\u001b[39m\u001b[38;5;28mlen\u001b[39m(train_loader)  \u001b[38;5;66;03m#计算的是每一个epoch的迭代数量\u001b[39;00m\n",
      "File \u001b[1;32md:\\Anaconda\\envs\\pytorch\\lib\\site-packages\\torch\\_tensor.py:521\u001b[0m, in \u001b[0;36mTensor.backward\u001b[1;34m(self, gradient, retain_graph, create_graph, inputs)\u001b[0m\n\u001b[0;32m    511\u001b[0m \u001b[38;5;28;01mif\u001b[39;00m has_torch_function_unary(\u001b[38;5;28mself\u001b[39m):\n\u001b[0;32m    512\u001b[0m     \u001b[38;5;28;01mreturn\u001b[39;00m handle_torch_function(\n\u001b[0;32m    513\u001b[0m         Tensor\u001b[38;5;241m.\u001b[39mbackward,\n\u001b[0;32m    514\u001b[0m         (\u001b[38;5;28mself\u001b[39m,),\n\u001b[1;32m   (...)\u001b[0m\n\u001b[0;32m    519\u001b[0m         inputs\u001b[38;5;241m=\u001b[39minputs,\n\u001b[0;32m    520\u001b[0m     )\n\u001b[1;32m--> 521\u001b[0m \u001b[43mtorch\u001b[49m\u001b[38;5;241;43m.\u001b[39;49m\u001b[43mautograd\u001b[49m\u001b[38;5;241;43m.\u001b[39;49m\u001b[43mbackward\u001b[49m\u001b[43m(\u001b[49m\n\u001b[0;32m    522\u001b[0m \u001b[43m    \u001b[49m\u001b[38;5;28;43mself\u001b[39;49m\u001b[43m,\u001b[49m\u001b[43m \u001b[49m\u001b[43mgradient\u001b[49m\u001b[43m,\u001b[49m\u001b[43m \u001b[49m\u001b[43mretain_graph\u001b[49m\u001b[43m,\u001b[49m\u001b[43m \u001b[49m\u001b[43mcreate_graph\u001b[49m\u001b[43m,\u001b[49m\u001b[43m \u001b[49m\u001b[43minputs\u001b[49m\u001b[38;5;241;43m=\u001b[39;49m\u001b[43minputs\u001b[49m\n\u001b[0;32m    523\u001b[0m \u001b[43m\u001b[49m\u001b[43m)\u001b[49m\n",
      "File \u001b[1;32md:\\Anaconda\\envs\\pytorch\\lib\\site-packages\\torch\\autograd\\__init__.py:289\u001b[0m, in \u001b[0;36mbackward\u001b[1;34m(tensors, grad_tensors, retain_graph, create_graph, grad_variables, inputs)\u001b[0m\n\u001b[0;32m    284\u001b[0m     retain_graph \u001b[38;5;241m=\u001b[39m create_graph\n\u001b[0;32m    286\u001b[0m \u001b[38;5;66;03m# The reason we repeat the same comment below is that\u001b[39;00m\n\u001b[0;32m    287\u001b[0m \u001b[38;5;66;03m# some Python versions print out the first line of a multi-line function\u001b[39;00m\n\u001b[0;32m    288\u001b[0m \u001b[38;5;66;03m# calls in the traceback and some print out the last line\u001b[39;00m\n\u001b[1;32m--> 289\u001b[0m \u001b[43m_engine_run_backward\u001b[49m\u001b[43m(\u001b[49m\n\u001b[0;32m    290\u001b[0m \u001b[43m    \u001b[49m\u001b[43mtensors\u001b[49m\u001b[43m,\u001b[49m\n\u001b[0;32m    291\u001b[0m \u001b[43m    \u001b[49m\u001b[43mgrad_tensors_\u001b[49m\u001b[43m,\u001b[49m\n\u001b[0;32m    292\u001b[0m \u001b[43m    \u001b[49m\u001b[43mretain_graph\u001b[49m\u001b[43m,\u001b[49m\n\u001b[0;32m    293\u001b[0m \u001b[43m    \u001b[49m\u001b[43mcreate_graph\u001b[49m\u001b[43m,\u001b[49m\n\u001b[0;32m    294\u001b[0m \u001b[43m    \u001b[49m\u001b[43minputs\u001b[49m\u001b[43m,\u001b[49m\n\u001b[0;32m    295\u001b[0m \u001b[43m    \u001b[49m\u001b[43mallow_unreachable\u001b[49m\u001b[38;5;241;43m=\u001b[39;49m\u001b[38;5;28;43;01mTrue\u001b[39;49;00m\u001b[43m,\u001b[49m\n\u001b[0;32m    296\u001b[0m \u001b[43m    \u001b[49m\u001b[43maccumulate_grad\u001b[49m\u001b[38;5;241;43m=\u001b[39;49m\u001b[38;5;28;43;01mTrue\u001b[39;49;00m\u001b[43m,\u001b[49m\n\u001b[0;32m    297\u001b[0m \u001b[43m\u001b[49m\u001b[43m)\u001b[49m\n",
      "File \u001b[1;32md:\\Anaconda\\envs\\pytorch\\lib\\site-packages\\torch\\autograd\\graph.py:769\u001b[0m, in \u001b[0;36m_engine_run_backward\u001b[1;34m(t_outputs, *args, **kwargs)\u001b[0m\n\u001b[0;32m    767\u001b[0m     unregister_hooks \u001b[38;5;241m=\u001b[39m _register_logging_hooks_on_whole_graph(t_outputs)\n\u001b[0;32m    768\u001b[0m \u001b[38;5;28;01mtry\u001b[39;00m:\n\u001b[1;32m--> 769\u001b[0m     \u001b[38;5;28;01mreturn\u001b[39;00m \u001b[43mVariable\u001b[49m\u001b[38;5;241;43m.\u001b[39;49m\u001b[43m_execution_engine\u001b[49m\u001b[38;5;241;43m.\u001b[39;49m\u001b[43mrun_backward\u001b[49m\u001b[43m(\u001b[49m\u001b[43m  \u001b[49m\u001b[38;5;66;43;03m# Calls into the C++ engine to run the backward pass\u001b[39;49;00m\n\u001b[0;32m    770\u001b[0m \u001b[43m        \u001b[49m\u001b[43mt_outputs\u001b[49m\u001b[43m,\u001b[49m\u001b[43m \u001b[49m\u001b[38;5;241;43m*\u001b[39;49m\u001b[43margs\u001b[49m\u001b[43m,\u001b[49m\u001b[43m \u001b[49m\u001b[38;5;241;43m*\u001b[39;49m\u001b[38;5;241;43m*\u001b[39;49m\u001b[43mkwargs\u001b[49m\n\u001b[0;32m    771\u001b[0m \u001b[43m    \u001b[49m\u001b[43m)\u001b[49m  \u001b[38;5;66;03m# Calls into the C++ engine to run the backward pass\u001b[39;00m\n\u001b[0;32m    772\u001b[0m \u001b[38;5;28;01mfinally\u001b[39;00m:\n\u001b[0;32m    773\u001b[0m     \u001b[38;5;28;01mif\u001b[39;00m attach_logging_hooks:\n",
      "\u001b[1;31mKeyboardInterrupt\u001b[0m: "
     ]
    }
   ],
   "source": [
    "num_epochs=5   #训练总周期数为5\n",
    "model.train() #启动model的训练模式\n",
    "\n",
    "for epoch in range(num_epochs):  #for循环来遍历每个训练周期\n",
    "    losses=0  #每个批处理开始都清0\n",
    "    for images,labels in train_loader:  #在每一个周期内，迭代训练数据加载器也就是每个train_loader的所有批次数据，左边是图片，右边是标签\n",
    "        #调用模型的前向传播函数，向模型model输入训练数据images，得到输出，outputs维度应该为[32,10]，32个样本，10个类别\n",
    "        outputs=model(images)\n",
    "        # print(outputs.shape)\n",
    "        # p\n",
    "\n",
    "        #损失函数\n",
    "        loss=criterion(outputs,labels)  #用交叉熵损失来计算预测输出与真是标签之间的损失值\n",
    "        losses+=loss.item()\n",
    "\n",
    "        #反向传播：就是逆序执行的前向传播\n",
    "        #首先清零所有参数的梯度，其默认情况下梯度是累加的\n",
    "        optimizer.zero_grad()   #必须要有\n",
    "        loss.backward()  #开启反向传播，计算损失函数关于参数的梯度\n",
    "        optimizer.step() #根据梯度来更新参数\n",
    "\n",
    "    avg_loss = losses/len(train_loader)  #计算的是每一个epoch的迭代数量\n",
    "    print(f'Epoch：[{epoch+1}/{num_epochs}]，Loss：{avg_loss:.2f}')"
   ]
  },
  {
   "attachments": {},
   "cell_type": "markdown",
   "metadata": {},
   "source": [
    "## 5、评估模型（测试集）"
   ]
  },
  {
   "cell_type": "code",
   "execution_count": null,
   "metadata": {},
   "outputs": [
    {
     "name": "stdout",
     "output_type": "stream",
     "text": [
      "Acuuracy：98.15%\n"
     ]
    }
   ],
   "source": [
    "model.eval()   #启动model的测试模式，这个阶段就不需要反向传播了\n",
    "with torch.no_grad():  #这里不需要计算梯度，减少计算和内存的使用\n",
    "    correct=0  #正确的数量\n",
    "    total=0  # 所有图片总的数量\n",
    "    for images,labels in test_loader:  # 在每一个周期内，迭代测试数据加载器也就是每个test_loader的所有批次数据，左边是图片，右边是标签\n",
    "        outputs=model(images)  # 得到模型的输出\n",
    "        _, predicted = torch.max(outputs.data, 1)  # torch.max()函数返回每一行中最大值及其索引，返回的是每一行的最大值和每一行的最大值的下标，即预测的类别\n",
    "        total += labels.size(0)  # 累加所有图片的数量\n",
    "        correct += (predicted == labels).sum().item()  # 累加正确的数量\n",
    "\n",
    "print(f'Acuuracy：{100*correct/total:.2f}%')"
   ]
  },
  {
   "attachments": {},
   "cell_type": "markdown",
   "metadata": {},
   "source": [
    "## 6、可视化预测的结果"
   ]
  },
  {
   "cell_type": "code",
   "execution_count": null,
   "metadata": {},
   "outputs": [
    {
     "data": {
      "image/png": "[encoded data removed]",
      "text/plain": [
       "<Figure size 640x480 with 1 Axes>"
      ]
     },
     "metadata": {},
     "output_type": "display_data"
    }
   ],
   "source": [
    "plt.rcParams['font.sans-serif'] = 'SimHei'\n",
    "plt.rcParams['axes.unicode_minus'] = False\n",
    "\n",
    "#定义一个函数用于显示图像及其标签和预测结果\n",
    "def imshow(img,label,predicted):\n",
    "    img=img/2+0.5  #反归一化处理，因为原始图像数据在加载时被归一化了\n",
    "    plt.imshow(img[0],cmap='gray')  #显示图像，灰度模式\n",
    "    plt.title(f\"Label：{label},Predicted：{predicted}\") \n",
    "    plt.show()\n",
    "\n",
    "#从测试数据加载器中获取一个批次的数据\n",
    "images,labels=next(iter(test_loader))\n",
    "\n",
    "#使用模型对这个批次的数据进行预测\n",
    "outputs=model(images)\n",
    "\n",
    "#得到每一行中最大值及其索引，返回的是每一行的最大值和每一行的最大值的下标，即预测的类别\n",
    "#torch.max  返回最大值及其索引，这里的_是最大值，predicted是其对应的索引\n",
    "_, predicted = torch.max(outputs, 1)\n",
    "\n",
    "#可视化第一个图像的预测结果\n",
    "#images[0] 是批次中的第一个图像\n",
    "# labels[0].item()  将第一个标签从张量转换为数字\n",
    "# predicted[0].item()  将第一个预测结果从张量转换为数字\n",
    "imshow(images[0],labels[0].item(),predicted[0].item())"
   ]
  },
  {
   "attachments": {},
   "cell_type": "markdown",
   "metadata": {},
   "source": [
    "## 作业：CIFAR-100 "
   ]
  },
  {
   "cell_type": "code",
   "execution_count": null,
   "metadata": {},
   "outputs": [
    {
     "name": "stdout",
     "output_type": "stream",
     "text": [
      "Downloading https://www.cs.toronto.edu/~kriz/cifar-100-python.tar.gz to ./data\\cifar-100-python.tar.gz\n"
     ]
    },
    {
     "name": "stderr",
     "output_type": "stream",
     "text": [
      "100.0%\n"
     ]
    },
    {
     "name": "stdout",
     "output_type": "stream",
     "text": [
      "Extracting ./data\\cifar-100-python.tar.gz to ./data\n",
      "Files already downloaded and verified\n"
     ]
    }
   ],
   "source": [
    "import torch\n",
    "import torch.nn as nn  #神经网络的缩写，核心组件包括卷积层、池化层和全连接层。卷积层通过滤波器提取局部特征，池化层降低特征的空间维度，全连接层则用于最终的分类或回归。很常用的模块，很多网络层都是封装在这里\n",
    "import torch.optim as optim  #优化器如SGD，Adam、Adagrad（自适应梯度）等常用优化器\n",
    "from torch.utils.data import DataLoader  #加载数据集\n",
    "from torchvision import datasets,transforms  #数据集的处理库\n",
    "import matplotlib.pyplot as plt \n",
    "\n",
    "#数据转换\n",
    "transform=transforms.Compose([\n",
    "    transforms.RandomHorizontalFlip(),  #随机水平翻转图像\n",
    "    transforms.RandomCrop(32,padding=4), #随机裁剪图像\n",
    "    transforms.ToTensor(),  #将图片转换为张量\n",
    "    transforms.Normalize((0.5,0.5,0.5),(0.5,0.5,0.5))  #归一化处理（对数据进行标准化处理，使其均值为0.5） 左边平均值 右边方差\n",
    "])\n",
    "#加载数据集，download指定下载数据集\n",
    "train_dataset=datasets.CIFAR100(root='./data',train=True,transform=transform,download=True)\n",
    "test_dataset=datasets.CIFAR100(root='./data',train=False,transform=transform,download=True)\n",
    "\n",
    "#创建数据加载器，用于分批次加载训练数据，实现的是批量优化算法\n",
    "train_loader=DataLoader(\n",
    "    dataset=train_dataset,  #指定要加载的数据集（训练集）\n",
    "    batch_size=64,  #批处理的大小，每一次使用多少个样本用于训练，一般取2的幂次方，如32 64 128 256 512\n",
    "    shuffle=True,  #训练集一定要True进行每次打乱数据顺序\n",
    "    num_workers=2,  #使用多少个线程跑这个程序\n",
    ")\n",
    "test_loader=DataLoader(\n",
    "    dataset=test_dataset,  \n",
    "    batch_size=64,  \n",
    "    shuffle=False,  #测试集不需要打乱，可以False\n",
    "    num_workers=2,  \n",
    ")"
   ]
  },
  {
   "cell_type": "code",
   "execution_count": null,
   "metadata": {},
   "outputs": [
    {
     "name": "stdout",
     "output_type": "stream",
     "text": [
      "CNN(\n",
      "  (conv1): Conv2d(3, 32, kernel_size=(3, 3), stride=(1, 1), padding=(1, 1))\n",
      "  (conv2): Conv2d(32, 64, kernel_size=(3, 3), stride=(1, 1), padding=(1, 1))\n",
      "  (conv3): Conv2d(64, 128, kernel_size=(3, 3), stride=(1, 1), padding=(1, 1))\n",
      "  (relu): ReLU()\n",
      "  (maxpool): MaxPool2d(kernel_size=2, stride=2, padding=0, dilation=1, ceil_mode=False)\n",
      "  (avgpool): AvgPool2d(kernel_size=4, stride=4, padding=0)\n",
      "  (fc): Linear(in_features=128, out_features=100, bias=True)\n",
      "  (batchnorm1): BatchNorm2d(32, eps=1e-05, momentum=0.1, affine=True, track_running_stats=True)\n",
      "  (batchnorm2): BatchNorm2d(64, eps=1e-05, momentum=0.1, affine=True, track_running_stats=True)\n",
      "  (batchnorm3): BatchNorm2d(128, eps=1e-05, momentum=0.1, affine=True, track_running_stats=True)\n",
      ")\n"
     ]
    }
   ],
   "source": [
    "#继承nn.Module模块，一个模型包括初始化和前向传播\n",
    "class CNN(nn.Module):\n",
    "    #模型的初始化\n",
    "    def __init__(self,C=100):   \n",
    "        super(CNN, self).__init__()  #调用父类的初始化函数\n",
    "        self.C=C\n",
    "    # 定义卷积层 \n",
    "        #下面是第一层的卷积层，由于我们的数据是一维的（黑白照片）所以通道数为1，经过这一层卷积层之后特征变为32维\n",
    "        self.conv1=nn.Conv2d(in_channels=3, #输入的通道数。\n",
    "                             out_channels=32, #输出的通道数\n",
    "                             kernel_size=3,  #卷积核，一般为单数,3用的很多\n",
    "                             stride=1,  #步伐，就是卷积核（滑动）的补偿\n",
    "                             padding=1  # 在边上填充图片/特征，在边上填充0来放大图片\n",
    "                             ) \n",
    "#### 四维张量形状：[批次大小, 通道数, 高度, 宽度]\n",
    "#### 这里32表示批次大小，32表示通道数，28表示图像高度，28表示图像宽度\n",
    "        # # 定义卷积层2\n",
    "        self.conv2=nn.Conv2d(in_channels=32, #要严格按照上一个网络层输出的通道大小进行设置\n",
    "                             out_channels=64, #输出的通道数\n",
    "                             kernel_size=3,  #卷积核，一般为单数,3用的很多\n",
    "                             stride=1,  #步伐，就是卷积核（滑动）的补偿\n",
    "                             padding=1  # 在边上填充图片/特征，在边上填充0来放大图片\n",
    "                             ) \n",
    "        # # 定义卷积层3\n",
    "        self.conv3=nn.Conv2d(in_channels=64, #要严格按照上一个网络层输出的通道大小进行设置\n",
    "                             out_channels=128, #输出的通道数\n",
    "                             kernel_size=3,  #卷积核，一般为单数,3用的很多\n",
    "                             stride=1,  #步伐，就是卷积核（滑动）的补偿\n",
    "                             padding=1  # 在边上填充图片/特征，在边上填充0来放大图片\n",
    "                             ) \n",
    "        \n",
    "    # 定义第二层的激活层\n",
    "        self.relu=nn.ReLU()\n",
    "\n",
    "    # 定义最大池化层，一般是最大池化，池化的窗口是2X2，步长为空，这意味着特征图会缩小一半，如果原来输入的维度是[32,64,64]，则经过池化层后会变为[32,32,32]\n",
    "        # 2x2的窗口在2x2的步长下进行滑动，将2x2的窗口降为1x1，得到64个通道的图片\n",
    "        self.maxpool=nn.MaxPool2d(kernel_size=2,stride=None)  # 将2x2的窗口降为1x1\n",
    "        # 定义全局平均池化层，计算区域内平均值作为代表，同样降低维度，但保留的信息更为平滑。\n",
    "        self.avgpool=nn.AvgPool2d(kernel_size=4,stride=None)  \n",
    "        # 定义模型最后一层：全连接层，将最后的32x32x32的特征转化为10个类别\n",
    "        self.fc=nn.Linear(128,self.C)  # 256是输入该层的网络通道数，C是输出的网络通道类别数，即10个类别数\n",
    "\n",
    "        self.batchnorm1 = nn.BatchNorm2d(32)  # 添加批量归一化\n",
    "        self.batchnorm2 = nn.BatchNorm2d(64)  # 添加批量归一化\n",
    "        self.batchnorm3 = nn.BatchNorm2d(128)  # 添加批量归一化\n",
    "        \n",
    "    def forward(self, x):  #模型的前向传播函数，x是传进来的图片，torch.Size([32, 1, 28, 28])\n",
    "\n",
    "    #定义第一个网络层\n",
    "#### 四维张量形状：[批次大小, 通道数, 高度, 宽度]\n",
    "#### 这里32表示批次大小，32表示通道数，28表示图像高度，28表示图像宽度\n",
    "    #     x=self.relu(self.conv1(x))   \n",
    "    #     x=self.maxpool(x)  \n",
    "    #     # x=self.avgpool(x) \n",
    "\n",
    "    # #第二个网络层\n",
    "    #     x=self.relu(self.conv2(x))   \n",
    "    #     x=self.avgpool(x)\n",
    "    #     # x=self.maxpool(x)      \n",
    "    # #第三个网络层\n",
    "    #     x=self.relu(self.conv3(x))\n",
    "    #     # x=self.avgpool(x) \n",
    "    #     x=self.maxpool(x)          \n",
    "\n",
    "    #     x=self.fc(x.squeeze().squeeze())\n",
    "    #     # print(x.shape)\n",
    "    #     # pp\n",
    "\n",
    "        #定义第一个网络层\n",
    "        #     x=self.relu(self.conv1(x))   \n",
    "        x = self.relu(self.batchnorm1(self.conv1(x)))  # 添加批量归一化\n",
    "        x = self.maxpool(x)\n",
    "        # #第二个网络层\n",
    "        #     x=self.relu(self.conv2(x)) \n",
    "        x = self.relu(self.batchnorm2(self.conv2(x)))  # 添加批量归一化\n",
    "        x = self.avgpool(x)  \n",
    "        # #第三个网络层\n",
    "        #     x=self.relu(self.conv3(x)) \n",
    "        x = self.relu(self.batchnorm3(self.conv3(x)))  # 添加批量归一化\n",
    "        x = self.avgpool(x)  \n",
    "        x=self.fc(x.squeeze().squeeze())\n",
    "        # print(x.shape)\n",
    "        # pp\n",
    "        return x \n",
    "\n",
    "model=CNN()\n",
    "print(model)\n",
    "\n",
    "#定义交叉熵损失函数,常用于多分类问题\n",
    "criterion=nn.CrossEntropyLoss()    \n",
    "\n",
    "#定义优化器\n",
    "optimizer = optim.Adam(model.parameters(), lr=0.0001)  # Adam优化器收敛的速度比较快，对模型的参数parameters进行优化，学习率0.001"
   ]
  },
  {
   "cell_type": "code",
   "execution_count": null,
   "metadata": {},
   "outputs": [
    {
     "name": "stdout",
     "output_type": "stream",
     "text": [
      "Epoch：[1/5]，Loss：4.26\n",
      "Epoch：[2/5]，Loss：3.88\n",
      "Epoch：[3/5]，Loss：3.63\n",
      "Epoch：[4/5]，Loss：3.45\n",
      "Epoch：[5/5]，Loss：3.31\n"
     ]
    }
   ],
   "source": [
    "num_epochs=5   #训练总周期数为5\n",
    "model.train() #启动model的训练模式\n",
    "\n",
    "for epoch in range(num_epochs):  #for循环来遍历每个训练周期\n",
    "    losses=0  #每个批处理开始都清0\n",
    "    for images,labels in train_loader:  #在每一个周期内，迭代训练数据加载器也就是每个train_loader的所有批次数据，左边是图片，右边是标签\n",
    "        #调用模型的前向传播函数，向模型model输入训练数据images，得到输出，outputs维度应该为[32,10]，32个样本，10个类别\n",
    "        outputs=model(images)\n",
    "        # print(outputs.shape)\n",
    "        # p\n",
    "\n",
    "    #     #损失函数\n",
    "        loss=criterion(outputs,labels)  #用交叉熵损失来计算预测输出与真是标签之间的损失值\n",
    "        losses+=loss.item()\n",
    "\n",
    "    #     #反向传播：就是逆序执行的前向传播\n",
    "    #     #首先清零所有参数的梯度，其默认情况下梯度是累加的\n",
    "        optimizer.zero_grad()   #必须要有\n",
    "        loss.backward()  #开启反向传播，计算损失函数关于参数的梯度\n",
    "        optimizer.step() #根据梯度来更新参数\n",
    "\n",
    "    avg_loss = losses/len(train_loader)  #计算的是每一个epoch的迭代数量\n",
    "    print(f'Epoch：[{epoch+1}/{num_epochs}]，Loss：{avg_loss:.2f}')"
   ]
  },
  {
   "cell_type": "code",
   "execution_count": null,
   "metadata": {},
   "outputs": [
    {
     "name": "stdout",
     "output_type": "stream",
     "text": [
      "Acuuracy：22.17%\n"
     ]
    }
   ],
   "source": [
    "model.eval()   #启动model的测试模式，这个阶段就不需要反向传播了\n",
    "with torch.no_grad():  #这里不需要计算梯度，减少计算和内存的使用\n",
    "    correct=0  #正确的数量\n",
    "    total=0  # 所有图片总的数量\n",
    "    for images,labels in test_loader:  # 在每一个周期内，迭代测试数据加载器也就是每个test_loader的所有批次数据，左边是图片，右边是标签\n",
    "        outputs=model(images)  # 得到模型的输出\n",
    "        _, predicted = torch.max(outputs.data, 1)  # torch.max()函数返回每一行中最大值及其索引，返回的是每一行的最大值和每一行的最大值的下标，即预测的类别\n",
    "        total += labels.size(0)  # 累加所有图片的数量\n",
    "        correct += (predicted == labels).sum().item()  # 累加正确的数量\n",
    "\n",
    "print(f'Acuuracy：{100*correct/total:.2f}%')"
   ]
  },
  {
   "cell_type": "code",
   "execution_count": null,
   "metadata": {},
   "outputs": [
    {
     "data": {
      "image/png": "[encoded data removed]",
      "text/plain": [
       "<Figure size 640x480 with 1 Axes>"
      ]
     },
     "metadata": {},
     "output_type": "display_data"
    }
   ],
   "source": [
    "plt.rcParams['font.sans-serif'] = 'SimHei'\n",
    "plt.rcParams['axes.unicode_minus'] = False\n",
    "\n",
    "#定义一个函数用于显示图像及其标签和预测结果\n",
    "def imshow(img,label,predicted):\n",
    "    img=img/2+0.5  #反归一化处理，因为原始图像数据在加载时被归一化了\n",
    "    plt.imshow(img[0],cmap='gray')  #显示图像，灰度模式\n",
    "    plt.title(f\"Label：{label},Predicted：{predicted}\") \n",
    "    plt.show()\n",
    "\n",
    "#从测试数据加载器中获取一个批次的数据\n",
    "images,labels=next(iter(test_loader))\n",
    "\n",
    "#使用模型对这个批次的数据进行预测\n",
    "outputs=model(images)\n",
    "\n",
    "#得到每一行中最大值及其索引，返回的是每一行的最大值和每一行的最大值的下标，即预测的类别\n",
    "#torch.max  返回最大值及其索引，这里的_是最大值，predicted是其对应的索引\n",
    "_, predicted = torch.max(outputs, 1)\n",
    "\n",
    "#可视化第一个图像的预测结果\n",
    "#images[0] 是批次中的第一个图像\n",
    "# labels[0].item()  将第一个标签从张量转换为数字\n",
    "# predicted[0].item()  将第一个预测结果从张量转换为数字\n",
    "imshow(images[0],labels[0].item(),predicted[0].item())"
   ]
  }
 ],
 "metadata": {
  "kernelspec": {
   "display_name": "Python 3",
   "language": "python",
   "name": "python3"
  },
  "language_info": {
   "codemirror_mode": {
    "name": "ipython",
    "version": 3
   },
   "file_extension": ".py",
   "mimetype": "text/x-python",
   "name": "python",
   "nbconvert_exporter": "python",
   "pygments_lexer": "ipython3",
   "version": "3.8.20"
  }
 },
 "nbformat": 4,
 "nbformat_minor": 2
}
