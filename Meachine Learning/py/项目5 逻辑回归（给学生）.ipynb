{
 "cells": [
  {
   "cell_type": "markdown",
   "id": "15ce6d50",
   "metadata": {},
   "source": [
    "# 一、逻辑回归：二分类问题"
   ]
  },
  {
   "cell_type": "markdown",
   "id": "fc3e0622",
   "metadata": {},
   "source": [
    "## 案例1：学生考试是否通过"
   ]
  },
  {
   "cell_type": "markdown",
   "id": "c1c99156",
   "metadata": {},
   "source": [
    "student-mat数据集记录了葡萄牙两所学校的数学课程的学生成绩。数据集包含多种特征，如学生的性别、年龄、家庭背景、学校支持等，可以用于预测学生的最终成绩或是否通过考试"
   ]
  },
  {
   "cell_type": "code",
   "execution_count": 38,
   "id": "f2cba51a",
   "metadata": {},
   "outputs": [
    {
     "data": {
      "text/html": [
       "<div>\n",
       "<style scoped>\n",
       "    .dataframe tbody tr th:only-of-type {\n",
       "        vertical-align: middle;\n",
       "    }\n",
       "\n",
       "    .dataframe tbody tr th {\n",
       "        vertical-align: top;\n",
       "    }\n",
       "\n",
       "    .dataframe thead th {\n",
       "        text-align: right;\n",
       "    }\n",
       "</style>\n",
       "<table border=\"1\" class=\"dataframe\">\n",
       "  <thead>\n",
       "    <tr style=\"text-align: right;\">\n",
       "      <th></th>\n",
       "      <th>school</th>\n",
       "      <th>sex</th>\n",
       "      <th>age</th>\n",
       "      <th>address</th>\n",
       "      <th>famsize</th>\n",
       "      <th>Pstatus</th>\n",
       "      <th>Medu</th>\n",
       "      <th>Fedu</th>\n",
       "      <th>Mjob</th>\n",
       "      <th>Fjob</th>\n",
       "      <th>...</th>\n",
       "      <th>famrel</th>\n",
       "      <th>freetime</th>\n",
       "      <th>goout</th>\n",
       "      <th>Dalc</th>\n",
       "      <th>Walc</th>\n",
       "      <th>health</th>\n",
       "      <th>absences</th>\n",
       "      <th>G1</th>\n",
       "      <th>G2</th>\n",
       "      <th>G3</th>\n",
       "    </tr>\n",
       "  </thead>\n",
       "  <tbody>\n",
       "    <tr>\n",
       "      <th>0</th>\n",
       "      <td>GP</td>\n",
       "      <td>F</td>\n",
       "      <td>18</td>\n",
       "      <td>U</td>\n",
       "      <td>GT3</td>\n",
       "      <td>A</td>\n",
       "      <td>4</td>\n",
       "      <td>4</td>\n",
       "      <td>at_home</td>\n",
       "      <td>teacher</td>\n",
       "      <td>...</td>\n",
       "      <td>4</td>\n",
       "      <td>3</td>\n",
       "      <td>4</td>\n",
       "      <td>1</td>\n",
       "      <td>1</td>\n",
       "      <td>3</td>\n",
       "      <td>6</td>\n",
       "      <td>5</td>\n",
       "      <td>6</td>\n",
       "      <td>6</td>\n",
       "    </tr>\n",
       "    <tr>\n",
       "      <th>1</th>\n",
       "      <td>GP</td>\n",
       "      <td>F</td>\n",
       "      <td>17</td>\n",
       "      <td>U</td>\n",
       "      <td>GT3</td>\n",
       "      <td>T</td>\n",
       "      <td>1</td>\n",
       "      <td>1</td>\n",
       "      <td>at_home</td>\n",
       "      <td>other</td>\n",
       "      <td>...</td>\n",
       "      <td>5</td>\n",
       "      <td>3</td>\n",
       "      <td>3</td>\n",
       "      <td>1</td>\n",
       "      <td>1</td>\n",
       "      <td>3</td>\n",
       "      <td>4</td>\n",
       "      <td>5</td>\n",
       "      <td>5</td>\n",
       "      <td>6</td>\n",
       "    </tr>\n",
       "    <tr>\n",
       "      <th>2</th>\n",
       "      <td>GP</td>\n",
       "      <td>F</td>\n",
       "      <td>15</td>\n",
       "      <td>U</td>\n",
       "      <td>LE3</td>\n",
       "      <td>T</td>\n",
       "      <td>1</td>\n",
       "      <td>1</td>\n",
       "      <td>at_home</td>\n",
       "      <td>other</td>\n",
       "      <td>...</td>\n",
       "      <td>4</td>\n",
       "      <td>3</td>\n",
       "      <td>2</td>\n",
       "      <td>2</td>\n",
       "      <td>3</td>\n",
       "      <td>3</td>\n",
       "      <td>10</td>\n",
       "      <td>7</td>\n",
       "      <td>8</td>\n",
       "      <td>10</td>\n",
       "    </tr>\n",
       "    <tr>\n",
       "      <th>3</th>\n",
       "      <td>GP</td>\n",
       "      <td>F</td>\n",
       "      <td>15</td>\n",
       "      <td>U</td>\n",
       "      <td>GT3</td>\n",
       "      <td>T</td>\n",
       "      <td>4</td>\n",
       "      <td>2</td>\n",
       "      <td>health</td>\n",
       "      <td>services</td>\n",
       "      <td>...</td>\n",
       "      <td>3</td>\n",
       "      <td>2</td>\n",
       "      <td>2</td>\n",
       "      <td>1</td>\n",
       "      <td>1</td>\n",
       "      <td>5</td>\n",
       "      <td>2</td>\n",
       "      <td>15</td>\n",
       "      <td>14</td>\n",
       "      <td>15</td>\n",
       "    </tr>\n",
       "    <tr>\n",
       "      <th>4</th>\n",
       "      <td>GP</td>\n",
       "      <td>F</td>\n",
       "      <td>16</td>\n",
       "      <td>U</td>\n",
       "      <td>GT3</td>\n",
       "      <td>T</td>\n",
       "      <td>3</td>\n",
       "      <td>3</td>\n",
       "      <td>other</td>\n",
       "      <td>other</td>\n",
       "      <td>...</td>\n",
       "      <td>4</td>\n",
       "      <td>3</td>\n",
       "      <td>2</td>\n",
       "      <td>1</td>\n",
       "      <td>2</td>\n",
       "      <td>5</td>\n",
       "      <td>4</td>\n",
       "      <td>6</td>\n",
       "      <td>10</td>\n",
       "      <td>10</td>\n",
       "    </tr>\n",
       "    <tr>\n",
       "      <th>...</th>\n",
       "      <td>...</td>\n",
       "      <td>...</td>\n",
       "      <td>...</td>\n",
       "      <td>...</td>\n",
       "      <td>...</td>\n",
       "      <td>...</td>\n",
       "      <td>...</td>\n",
       "      <td>...</td>\n",
       "      <td>...</td>\n",
       "      <td>...</td>\n",
       "      <td>...</td>\n",
       "      <td>...</td>\n",
       "      <td>...</td>\n",
       "      <td>...</td>\n",
       "      <td>...</td>\n",
       "      <td>...</td>\n",
       "      <td>...</td>\n",
       "      <td>...</td>\n",
       "      <td>...</td>\n",
       "      <td>...</td>\n",
       "      <td>...</td>\n",
       "    </tr>\n",
       "    <tr>\n",
       "      <th>390</th>\n",
       "      <td>MS</td>\n",
       "      <td>M</td>\n",
       "      <td>20</td>\n",
       "      <td>U</td>\n",
       "      <td>LE3</td>\n",
       "      <td>A</td>\n",
       "      <td>2</td>\n",
       "      <td>2</td>\n",
       "      <td>services</td>\n",
       "      <td>services</td>\n",
       "      <td>...</td>\n",
       "      <td>5</td>\n",
       "      <td>5</td>\n",
       "      <td>4</td>\n",
       "      <td>4</td>\n",
       "      <td>5</td>\n",
       "      <td>4</td>\n",
       "      <td>11</td>\n",
       "      <td>9</td>\n",
       "      <td>9</td>\n",
       "      <td>9</td>\n",
       "    </tr>\n",
       "    <tr>\n",
       "      <th>391</th>\n",
       "      <td>MS</td>\n",
       "      <td>M</td>\n",
       "      <td>17</td>\n",
       "      <td>U</td>\n",
       "      <td>LE3</td>\n",
       "      <td>T</td>\n",
       "      <td>3</td>\n",
       "      <td>1</td>\n",
       "      <td>services</td>\n",
       "      <td>services</td>\n",
       "      <td>...</td>\n",
       "      <td>2</td>\n",
       "      <td>4</td>\n",
       "      <td>5</td>\n",
       "      <td>3</td>\n",
       "      <td>4</td>\n",
       "      <td>2</td>\n",
       "      <td>3</td>\n",
       "      <td>14</td>\n",
       "      <td>16</td>\n",
       "      <td>16</td>\n",
       "    </tr>\n",
       "    <tr>\n",
       "      <th>392</th>\n",
       "      <td>MS</td>\n",
       "      <td>M</td>\n",
       "      <td>21</td>\n",
       "      <td>R</td>\n",
       "      <td>GT3</td>\n",
       "      <td>T</td>\n",
       "      <td>1</td>\n",
       "      <td>1</td>\n",
       "      <td>other</td>\n",
       "      <td>other</td>\n",
       "      <td>...</td>\n",
       "      <td>5</td>\n",
       "      <td>5</td>\n",
       "      <td>3</td>\n",
       "      <td>3</td>\n",
       "      <td>3</td>\n",
       "      <td>3</td>\n",
       "      <td>3</td>\n",
       "      <td>10</td>\n",
       "      <td>8</td>\n",
       "      <td>7</td>\n",
       "    </tr>\n",
       "    <tr>\n",
       "      <th>393</th>\n",
       "      <td>MS</td>\n",
       "      <td>M</td>\n",
       "      <td>18</td>\n",
       "      <td>R</td>\n",
       "      <td>LE3</td>\n",
       "      <td>T</td>\n",
       "      <td>3</td>\n",
       "      <td>2</td>\n",
       "      <td>services</td>\n",
       "      <td>other</td>\n",
       "      <td>...</td>\n",
       "      <td>4</td>\n",
       "      <td>4</td>\n",
       "      <td>1</td>\n",
       "      <td>3</td>\n",
       "      <td>4</td>\n",
       "      <td>5</td>\n",
       "      <td>0</td>\n",
       "      <td>11</td>\n",
       "      <td>12</td>\n",
       "      <td>10</td>\n",
       "    </tr>\n",
       "    <tr>\n",
       "      <th>394</th>\n",
       "      <td>MS</td>\n",
       "      <td>M</td>\n",
       "      <td>19</td>\n",
       "      <td>U</td>\n",
       "      <td>LE3</td>\n",
       "      <td>T</td>\n",
       "      <td>1</td>\n",
       "      <td>1</td>\n",
       "      <td>other</td>\n",
       "      <td>at_home</td>\n",
       "      <td>...</td>\n",
       "      <td>3</td>\n",
       "      <td>2</td>\n",
       "      <td>3</td>\n",
       "      <td>3</td>\n",
       "      <td>3</td>\n",
       "      <td>5</td>\n",
       "      <td>5</td>\n",
       "      <td>8</td>\n",
       "      <td>9</td>\n",
       "      <td>9</td>\n",
       "    </tr>\n",
       "  </tbody>\n",
       "</table>\n",
       "<p>395 rows × 33 columns</p>\n",
       "</div>"
      ],
      "text/plain": [
       "    school sex  age address famsize Pstatus  Medu  Fedu      Mjob      Fjob  \\\n",
       "0       GP   F   18       U     GT3       A     4     4   at_home   teacher   \n",
       "1       GP   F   17       U     GT3       T     1     1   at_home     other   \n",
       "2       GP   F   15       U     LE3       T     1     1   at_home     other   \n",
       "3       GP   F   15       U     GT3       T     4     2    health  services   \n",
       "4       GP   F   16       U     GT3       T     3     3     other     other   \n",
       "..     ...  ..  ...     ...     ...     ...   ...   ...       ...       ...   \n",
       "390     MS   M   20       U     LE3       A     2     2  services  services   \n",
       "391     MS   M   17       U     LE3       T     3     1  services  services   \n",
       "392     MS   M   21       R     GT3       T     1     1     other     other   \n",
       "393     MS   M   18       R     LE3       T     3     2  services     other   \n",
       "394     MS   M   19       U     LE3       T     1     1     other   at_home   \n",
       "\n",
       "     ... famrel freetime  goout  Dalc  Walc health absences  G1  G2  G3  \n",
       "0    ...      4        3      4     1     1      3        6   5   6   6  \n",
       "1    ...      5        3      3     1     1      3        4   5   5   6  \n",
       "2    ...      4        3      2     2     3      3       10   7   8  10  \n",
       "3    ...      3        2      2     1     1      5        2  15  14  15  \n",
       "4    ...      4        3      2     1     2      5        4   6  10  10  \n",
       "..   ...    ...      ...    ...   ...   ...    ...      ...  ..  ..  ..  \n",
       "390  ...      5        5      4     4     5      4       11   9   9   9  \n",
       "391  ...      2        4      5     3     4      2        3  14  16  16  \n",
       "392  ...      5        5      3     3     3      3        3  10   8   7  \n",
       "393  ...      4        4      1     3     4      5        0  11  12  10  \n",
       "394  ...      3        2      3     3     3      5        5   8   9   9  \n",
       "\n",
       "[395 rows x 33 columns]"
      ]
     },
     "execution_count": 38,
     "metadata": {},
     "output_type": "execute_result"
    }
   ],
   "source": [
    "import pandas as pd\n",
    "# 加载数据集\n",
    "pd.read_csv('datasets/student-mat.csv', sep=';')\n",
    "# 一个单元格里面所有变量都会输出\n",
    "from IPython.core.interactiveshell import InteractiveShell\n",
    "InteractiveShell.ast_node_interactivity = \"last\""
   ]
  },
  {
   "cell_type": "code",
   "execution_count": 19,
   "id": "2987632a",
   "metadata": {},
   "outputs": [
    {
     "name": "stdout",
     "output_type": "stream",
     "text": [
      "-----------------------逻辑回归---------------------------\n",
      "分类的正确率为：91.14%\n",
      "\n",
      "分类报告（精确率、召回率、F1 分数等）为：\n",
      "              precision    recall  f1-score   support\n",
      "\n",
      "           0       0.81      0.96      0.88        27\n",
      "           1       0.98      0.88      0.93        52\n",
      "\n",
      "    accuracy                           0.91        79\n",
      "   macro avg       0.90      0.92      0.91        79\n",
      "weighted avg       0.92      0.91      0.91        79\n",
      "\n"
     ]
    }
   ],
   "source": [
    "# 数据预处理：从student-mat.csv文件加载数据，并为数据集添加一个新列passed，其中passed = 1表示学生通过考试（即G3 >= 10），passed = 0表示未通过。选择studytime, failures, absences, G1, G2作为特征变量。\n",
    "# 2、特征标准化：使用StandardScaler对选定的特征进行标准化处理。\n",
    "# 3、模型训练与评估：使用LogisticRegression模型在训练数据上进行拟合。在测试集上进行预测，并计算模型的分类正确率以及输出分类报告（包括精确率、召回率、F1分数等指标）。\n",
    "\n",
    "#导入库\n",
    "import pandas as pd\n",
    "import numpy as np\n",
    "from sklearn.linear_model import LogisticRegression   #逻辑回归\n",
    "from sklearn.model_selection import train_test_split #划分训练集和测试集\n",
    "from sklearn.metrics import accuracy_score, classification_report    #正确率、分类报告（精确率、召回率、F1 分数等）\n",
    "from sklearn.preprocessing import StandardScaler       #数据标准化\n",
    "\n",
    "# 加载数据集\n",
    "df = pd.read_csv('datasets/student-mat.csv', sep=';')\n",
    "df.head()\n",
    "\n",
    "# 目标变量：将 G3（最终成绩）作为是否通过考试的指标（假设 G3 >= 10 表示通过）\n",
    "df['passed']=np.where(df['G3']>=10,1,0)  #条件为真返回第二个，假返回第三个\n",
    "df.head()\n",
    "y=df['passed']\n",
    "x=df[['studytime', 'failures', 'absences', 'G1', 'G2']]\n",
    "x\n",
    "\n",
    "#数据标准化\n",
    "scaler=StandardScaler()\n",
    "x=scaler.fit_transform(x)  #fit_transform是在数据标准化的内容\n",
    "x.shape\n",
    "\n",
    "#训练集划分\n",
    "x_train,x_test,y_train,y_test=train_test_split(x,y,random_state=42,test_size=0.2)\n",
    "\n",
    "#模型训练\n",
    "clf=LogisticRegression().fit(x_train,y_train)\n",
    "#模型预测\n",
    "y_pre=clf.predict(x_test)\n",
    "y_pre.shape\n",
    "\n",
    "#模型评价：正确率、精确率、召回率、F1值、支持率\n",
    "acc=accuracy_score(y_test,y_pre)  #左边真实，右边预测\n",
    "report=classification_report(y_test,y_pre)\n",
    "print(\"-----------------------逻辑回归---------------------------\\n\\\n",
    "分类的正确率为：{:.2f}%\\n\".format(acc*100))\n",
    "print(\"分类报告（精确率、召回率、F1 分数等）为：\")\n",
    "print(report)"
   ]
  },
  {
   "cell_type": "markdown",
   "id": "5bb5ab80-86eb-4ab9-868a-0698d3e22211",
   "metadata": {},
   "source": [
    "### 思考题：同样是分类，SGDClassifier和LogisticRegression，有什么区别"
   ]
  },
  {
   "cell_type": "markdown",
   "id": "9624074c-5bb6-4758-bb10-6f3550a82e71",
   "metadata": {},
   "source": [
    "#### #请这里完成答案：\n",
    "SGDClassifier：它是一个基于梯度下降（Stochastic Gradient Descent，SGD）的线性分类器。它通过最小化损失函数来拟合模型，通常使用 hinge loss 或 log loss（用于二分类和多分类问题）。\n",
    "\n",
    "LogisticRegression：它是一个更传统的逻辑回归模型，通常使用闭式解（例如，通过最大似然估计和求解正规方程）来拟合模型。"
   ]
  },
  {
   "cell_type": "markdown",
   "id": "4487bc91",
   "metadata": {},
   "source": [
    "## 案例2：乳腺癌诊断（二分类问题）"
   ]
  },
  {
   "cell_type": "code",
   "execution_count": 20,
   "id": "97282fb4",
   "metadata": {
    "ExecuteTime": {
     "end_time": "2024-06-03T03:16:21.847525Z",
     "start_time": "2024-06-03T03:16:21.096667Z"
    }
   },
   "outputs": [
    {
     "name": "stdout",
     "output_type": "stream",
     "text": [
      "dict_keys(['data', 'target', 'frame', 'target_names', 'DESCR', 'feature_names', 'filename', 'data_module'])\n",
      "-----------------------逻辑回归---------------------------\n",
      "分类的正确率为：97.37%\n",
      "\n",
      "分类报告（精确率、召回率、F1 分数等）为：\n",
      "              precision    recall  f1-score   support\n",
      "\n",
      "           0       0.98      0.95      0.96        43\n",
      "           1       0.97      0.99      0.98        71\n",
      "\n",
      "    accuracy                           0.97       114\n",
      "   macro avg       0.97      0.97      0.97       114\n",
      "weighted avg       0.97      0.97      0.97       114\n",
      "\n"
     ]
    }
   ],
   "source": [
    "#导入库\n",
    "from sklearn.linear_model import LogisticRegression   #逻辑回归\n",
    "from sklearn.model_selection import train_test_split #划分训练集和测试集\n",
    "from sklearn.metrics import accuracy_score, classification_report    #正确率、分类报告（精确率、召回率、F1 分数等）\n",
    "from sklearn.preprocessing import StandardScaler       #数据标准化\n",
    "from sklearn.datasets import load_breast_cancer         #导入乳腺癌数据集\n",
    "# 读取数据集\n",
    "data = load_breast_cancer()  \n",
    "print(data.keys())\n",
    "x = data.data  \n",
    "y = data.target\n",
    "\n",
    "#数据标准化\n",
    "scaler=StandardScaler()\n",
    "x=scaler.fit_transform(x)  #fit_transform是在数据标准化的内容\n",
    "x.shape\n",
    "#训练集划分\n",
    "x_train,x_test,y_train,y_test=train_test_split(x,y,random_state=42,test_size=0.2)\n",
    "\n",
    "#模型训练\n",
    "clf=LogisticRegression().fit(x_train,y_train)\n",
    "#模型预测\n",
    "y_pre=clf.predict(x_test)\n",
    "y_pre.shape\n",
    "\n",
    "#模型评价：正确率、精确率、召回率、F1值、支持率\n",
    "acc=accuracy_score(y_test,y_pre)  #左边真实，右边预测\n",
    "report=classification_report(y_test,y_pre)\n",
    "print(\"-----------------------逻辑回归---------------------------\\n\\\n",
    "分类的正确率为：{:.2f}%\\n\".format(acc*100))\n",
    "print(\"分类报告（精确率、召回率、F1 分数等）为：\")\n",
    "print(report)"
   ]
  },
  {
   "cell_type": "markdown",
   "id": "7b181fc3",
   "metadata": {},
   "source": [
    "# 二、逻辑回归：多分类问题"
   ]
  },
  {
   "cell_type": "markdown",
   "id": "b550ed56",
   "metadata": {},
   "source": [
    "### 1. ovr策略——案例3：鸢尾花数据"
   ]
  },
  {
   "cell_type": "code",
   "execution_count": 35,
   "id": "99e6c0fd",
   "metadata": {},
   "outputs": [
    {
     "data": {
      "text/plain": [
       "dict_keys(['data', 'target', 'frame', 'target_names', 'DESCR', 'feature_names', 'filename', 'data_module'])"
      ]
     },
     "execution_count": 35,
     "metadata": {},
     "output_type": "execute_result"
    },
    {
     "data": {
      "text/plain": [
       "(150, 4)"
      ]
     },
     "execution_count": 35,
     "metadata": {},
     "output_type": "execute_result"
    },
    {
     "data": {
      "text/plain": [
       "(150,)"
      ]
     },
     "execution_count": 35,
     "metadata": {},
     "output_type": "execute_result"
    },
    {
     "data": {
      "text/plain": [
       "array([0, 1, 2])"
      ]
     },
     "execution_count": 35,
     "metadata": {},
     "output_type": "execute_result"
    },
    {
     "data": {
      "text/plain": [
       "(150, 4)"
      ]
     },
     "execution_count": 35,
     "metadata": {},
     "output_type": "execute_result"
    },
    {
     "data": {
      "text/plain": [
       "(45,)"
      ]
     },
     "execution_count": 35,
     "metadata": {},
     "output_type": "execute_result"
    },
    {
     "name": "stdout",
     "output_type": "stream",
     "text": [
      "-----------------------逻辑回归---------------------------\n",
      "分类的正确率为：97.78%\n",
      "\n",
      "分类报告（精确率、召回率、F1 分数等）为：\n",
      "              precision    recall  f1-score   support\n",
      "\n",
      "           0       1.00      1.00      1.00        16\n",
      "           1       1.00      0.94      0.97        18\n",
      "           2       0.92      1.00      0.96        11\n",
      "\n",
      "    accuracy                           0.98        45\n",
      "   macro avg       0.97      0.98      0.98        45\n",
      "weighted avg       0.98      0.98      0.98        45\n",
      "\n"
     ]
    }
   ],
   "source": [
    "#导入库\n",
    "from sklearn.datasets import load_iris\n",
    "from sklearn.linear_model import LogisticRegression\n",
    "from sklearn.model_selection import train_test_split\n",
    "from sklearn.metrics import accuracy_score\n",
    "from sklearn.preprocessing import StandardScaler       #数据标准化\n",
    "#读取数据集\n",
    "iris=load_iris()\n",
    "iris.keys()\n",
    "x=iris['data']\n",
    "y=iris['target']\n",
    "x.shape\n",
    "y.shape\n",
    "np.unique(y)\n",
    "\n",
    "#数据标准化\n",
    "scaler=StandardScaler()\n",
    "x=scaler.fit_transform(x)  #fit_transform是在数据标准化的内容\n",
    "x.shape\n",
    "#训练集划分\n",
    "x_train,x_test,y_train,y_test=train_test_split(x,y,random_state=0,test_size=0.3)\n",
    "\n",
    "#模型训练\n",
    "clf=LogisticRegression(max_iter=200).fit(x_train,y_train)\n",
    "#模型预测\n",
    "y_pre=clf.predict(x_test)\n",
    "y_pre.shape\n",
    "\n",
    "#模型评价：正确率、精确率、召回率、F1值、支持率\n",
    "acc=accuracy_score(y_test,y_pre)  #左边真实，右边预测\n",
    "report=classification_report(y_test,y_pre)\n",
    "print(\"-----------------------逻辑回归---------------------------\\n\\\n",
    "分类的正确率为：{:.2f}%\\n\".format(acc*100))\n",
    "print(\"分类报告（精确率、召回率、F1 分数等）为：\")\n",
    "print(report)"
   ]
  },
  {
   "cell_type": "markdown",
   "id": "523bb700",
   "metadata": {},
   "source": [
    "## 2. Softmax—案例4：鸢尾花数据"
   ]
  },
  {
   "cell_type": "markdown",
   "id": "47673c3b",
   "metadata": {},
   "source": [
    "LogisticRegression(multi_class=“multinomial”,solver=“lbfgs”, C=10, penalty=‘l2’， random_state=42)\n",
    "* 使用softmax需要设置：multi_class=“multinomial”（多项式损失）。\n",
    "* 支持 Softmax回归的求解器：lbfgs、sag、saga、newton-cg求解器。\n",
    "* 一般情况，使用Softmax回归要比默认的OvR效果要好。\n",
    "* penalty : {'l1', 'l2', 'elasticnet', None}, default='l2'\n",
    "   \n",
    "   'liblinear'：支持 'l1' 和 'l2' 正则化。\n",
    "   \n",
    "  'lbfgs'、'newton-cg'、'newton-cholesky'、'sag'：支持 'l2' 正则化。\n",
    "  \n",
    "   'saga'：支持 'elasticnet'、'l1'、'l2' 正则化。"
   ]
  },
  {
   "cell_type": "code",
   "execution_count": 69,
   "id": "4cd1c15b",
   "metadata": {},
   "outputs": [
    {
     "name": "stdout",
     "output_type": "stream",
     "text": [
      "-----------------------逻辑回归---------------------------\n",
      "分类的正确率为：100.00%\n",
      "\n",
      "分类报告（精确率、召回率、F1 分数等）为：\n",
      "              precision    recall  f1-score   support\n",
      "\n",
      "           0       1.00      1.00      1.00        19\n",
      "           1       1.00      1.00      1.00        13\n",
      "           2       1.00      1.00      1.00        13\n",
      "\n",
      "    accuracy                           1.00        45\n",
      "   macro avg       1.00      1.00      1.00        45\n",
      "weighted avg       1.00      1.00      1.00        45\n",
      "\n"
     ]
    },
    {
     "name": "stderr",
     "output_type": "stream",
     "text": [
      "c:\\Users\\user\\AppData\\Local\\Programs\\Python\\Python311\\Lib\\site-packages\\sklearn\\linear_model\\_logistic.py:1247: FutureWarning: 'multi_class' was deprecated in version 1.5 and will be removed in 1.7. From then on, it will always use 'multinomial'. Leave it to its default value to avoid this warning.\n",
      "  warnings.warn(\n"
     ]
    }
   ],
   "source": [
    "#导入库\n",
    "from sklearn.datasets import load_iris\n",
    "from sklearn.linear_model import LogisticRegression\n",
    "from sklearn.model_selection import train_test_split\n",
    "from sklearn.metrics import accuracy_score\n",
    "#读取数据集\n",
    "iris=load_iris()\n",
    "x=iris['data']\n",
    "y=iris['target']\n",
    "# y\n",
    "\n",
    "#数据标准化\n",
    "scaler=StandardScaler()\n",
    "x=scaler.fit_transform(x)  #fit_transform是在数据标准化的内容\n",
    "x.shape\n",
    "#训练集划分\n",
    "x_train,x_test,y_train,y_test=train_test_split(x,y,random_state=42,test_size=0.3)\n",
    "\n",
    "#模型训练\n",
    "clf=LogisticRegression(max_iter=200,C=10,multi_class='multinomial',solver='lbfgs',penalty='l2').fit(x_train,y_train)\n",
    "#模型预测\n",
    "y_pre=clf.predict(x_test)\n",
    "y_pre.shape\n",
    "\n",
    "#模型评价：正确率、精确率、召回率、F1值、支持率\n",
    "acc=accuracy_score(y_test,y_pre)  #左边真实，右边预测\n",
    "report=classification_report(y_test,y_pre)\n",
    "print(\"-----------------------逻辑回归---------------------------\\n\\\n",
    "分类的正确率为：{:.2f}%\\n\".format(acc*100))\n",
    "print(\"分类报告（精确率、召回率、F1 分数等）为：\")\n",
    "print(report)"
   ]
  },
  {
   "cell_type": "markdown",
   "id": "2c12b4dd",
   "metadata": {},
   "source": [
    "## 认识Digits数据集"
   ]
  },
  {
   "cell_type": "markdown",
   "id": "808a1e7c",
   "metadata": {},
   "source": [
    "Digits 数据集是一个包含手写数字图像的多类分类数据集，每个样本都是一个 8x8 像素的灰度图像，共有 1797 个样本。每个像素的值在 0 到 16 之间，表示不同的灰度级别。每个样本对应一个类别标签，表示手写的数字（0 到 9）。\n",
    "具体描述：\n",
    "* 样本数：1797\n",
    "* 特征数：64（每个样本是 8x8 的图像）\n",
    "* 类别数：10（数字 0 到 9）\n",
    "* 特征类型：数值型（灰度值）"
   ]
  },
  {
   "cell_type": "code",
   "execution_count": 53,
   "id": "ca9565b9",
   "metadata": {},
   "outputs": [
    {
     "name": "stdout",
     "output_type": "stream",
     "text": [
      "Data shape: (1797, 64)\n",
      "Target shape: (1797,)\n",
      "Number of classes: 10\n"
     ]
    },
    {
     "data": {
      "image/png": "[encoded data removed]",
      "text/plain": [
       "<Figure size 1000x200 with 20 Axes>"
      ]
     },
     "metadata": {},
     "output_type": "display_data"
    }
   ],
   "source": [
    "import numpy as np\n",
    "import matplotlib.pyplot as plt\n",
    "from sklearn.datasets import load_digits\n",
    "\n",
    "# 加载 Digits 数据集\n",
    "digits = load_digits()\n",
    "X, y = digits.data, digits.target\n",
    "\n",
    "# 打印数据集的基本信息\n",
    "print(f\"Data shape: {X.shape}\")  # (1797, 64)\n",
    "print(f\"Target shape: {y.shape}\")  # (1797,)\n",
    "print(f\"Number of classes: {len(np.unique(y))}\")  # 10\n",
    "\n",
    "# 可视化前 20 个样本\n",
    "fig, axes = plt.subplots(2, 10, figsize=(10, 2))\n",
    "for ax, image, label in zip(axes.ravel(), digits.images, digits.target):\n",
    "    ax.imshow(image, cmap=plt.cm.gray_r)\n",
    "    ax.set_title(f'{label}')\n",
    "    ax.axis('off')\n",
    "plt.show()"
   ]
  },
  {
   "cell_type": "markdown",
   "id": "70cbace5",
   "metadata": {},
   "source": [
    "## 三、作业\n",
    "* 请使用 scikit-learn 提供的 Digits 数据集，训练一个逻辑回归模型对手写数字进行分类。具体要求如下：\n",
    "1. 加载数据集：加载 Digits 数据集，并展示数据集的基本信息。\n",
    "2. 数据预处理：对特征进行标准化处理。\n",
    "3. 数据划分：将数据集划分为训练集和测试集，比例为 80%：20%。\n",
    "4. 模型训练：使用逻辑回归模型（Softmax 回归）进行训练。\n",
    "5. 模型评估：评估模型在测试集上的性能，包括计算准确率和分类报告。"
   ]
  },
  {
   "cell_type": "code",
   "execution_count": 71,
   "id": "24428116",
   "metadata": {},
   "outputs": [
    {
     "name": "stdout",
     "output_type": "stream",
     "text": [
      "dict_keys(['data', 'target', 'frame', 'feature_names', 'target_names', 'images', 'DESCR'])\n",
      "Data shape: (1797, 64)\n",
      "Target shape: (1797,)\n",
      "Number of classes: 10\n"
     ]
    },
    {
     "data": {
      "image/png": "[encoded data removed]",
      "text/plain": [
       "<Figure size 1000x200 with 20 Axes>"
      ]
     },
     "metadata": {},
     "output_type": "display_data"
    },
    {
     "name": "stdout",
     "output_type": "stream",
     "text": [
      "-----------------------逻辑回归---------------------------\n",
      "分类的正确率为：94.44%\n",
      "\n",
      "分类报告（精确率、召回率、F1 分数等）为：\n",
      "              precision    recall  f1-score   support\n",
      "\n",
      "           0       0.97      1.00      0.99        33\n",
      "           1       0.86      0.89      0.88        28\n",
      "           2       0.97      1.00      0.99        33\n",
      "           3       1.00      0.94      0.97        34\n",
      "           4       1.00      0.98      0.99        46\n",
      "           5       0.95      0.89      0.92        47\n",
      "           6       0.97      0.97      0.97        35\n",
      "           7       0.97      0.97      0.97        34\n",
      "           8       0.90      0.90      0.90        30\n",
      "           9       0.84      0.90      0.87        40\n",
      "\n",
      "    accuracy                           0.94       360\n",
      "   macro avg       0.94      0.94      0.94       360\n",
      "weighted avg       0.95      0.94      0.94       360\n",
      "\n"
     ]
    },
    {
     "name": "stderr",
     "output_type": "stream",
     "text": [
      "c:\\Users\\user\\AppData\\Local\\Programs\\Python\\Python311\\Lib\\site-packages\\sklearn\\linear_model\\_logistic.py:1247: FutureWarning: 'multi_class' was deprecated in version 1.5 and will be removed in 1.7. From then on, it will always use 'multinomial'. Leave it to its default value to avoid this warning.\n",
      "  warnings.warn(\n"
     ]
    }
   ],
   "source": [
    "import numpy as np\n",
    "import matplotlib.pyplot as plt\n",
    "from sklearn.linear_model import LogisticRegression\n",
    "from sklearn.preprocessing import StandardScaler\n",
    "from sklearn.datasets import load_digits\n",
    "from sklearn.model_selection import train_test_split\n",
    "from sklearn.metrics import accuracy_score, classification_report\n",
    "from sklearn.preprocessing import Normalizer\n",
    "\n",
    "# 加载 Digits 数据集\n",
    "digits = load_digits()\n",
    "print(digits.keys())\n",
    "x, y = digits.data, digits.target\n",
    "# 打印数据集的基本信息\n",
    "print(f\"Data shape: {x.shape}\")  # (1797, 64)\n",
    "print(f\"Target shape: {y.shape}\")  # (1797,)\n",
    "print(f\"Number of classes: {len(np.unique(y))}\")  # 10\n",
    "# 可视化前 20 个样本\n",
    "fig, axes = plt.subplots(2, 10, figsize=(10, 2))\n",
    "for ax, image, label in zip(axes.ravel(), digits.images, digits.target):\n",
    "    ax.imshow(image, cmap=plt.cm.gray_r)\n",
    "    ax.set_title(f'{label}')\n",
    "    ax.axis('off')\n",
    "plt.show()\n",
    "\n",
    "#数据标准化\n",
    "scaler=Normalizer(norm='l2')\n",
    "x=scaler.fit_transform(x)  #fit_transform是在数据标准化的内容\n",
    "x.shape\n",
    "#训练集划分\n",
    "x_train,x_test,y_train,y_test=train_test_split(x,y,random_state=42,test_size=0.2)\n",
    "\n",
    "#模型训练\n",
    "clf=LogisticRegression(max_iter=200,multi_class='multinomial',solver='lbfgs',penalty='l2').fit(x_train,y_train)\n",
    "#模型预测\n",
    "y_pre=clf.predict(x_test)\n",
    "y_pre.shape\n",
    "\n",
    "#模型评价：正确率、精确率、召回率、F1值、支持率\n",
    "acc=accuracy_score(y_test,y_pre)  #左边真实，右边预测\n",
    "report=classification_report(y_test,y_pre)\n",
    "print(\"-----------------------逻辑回归---------------------------\\n\\\n",
    "分类的正确率为：{:.2f}%\\n\".format(acc*100))\n",
    "print(\"分类报告（精确率、召回率、F1 分数等）为：\")\n",
    "print(report)"
   ]
  },
  {
   "cell_type": "markdown",
   "id": "6476f4a9",
   "metadata": {},
   "source": [
    "## 其他方法：随机梯度下降法分类、随机森林"
   ]
  },
  {
   "cell_type": "code",
   "execution_count": 47,
   "id": "975c70b1",
   "metadata": {},
   "outputs": [
    {
     "name": "stdout",
     "output_type": "stream",
     "text": [
      "dict_keys(['data', 'target', 'frame', 'target_names', 'DESCR', 'feature_names', 'filename', 'data_module'])\n",
      "分类正确率为：53.33%\n"
     ]
    }
   ],
   "source": [
    "from sklearn.datasets import load_iris\n",
    "from sklearn.linear_model import SGDClassifier  #线性模型\n",
    "from sklearn.model_selection import train_test_split\n",
    "from sklearn.metrics import accuracy_score\n",
    "iris = load_iris()\n",
    "print(iris.keys())\n",
    "x = iris.data\n",
    "y = iris.target\n",
    "x.shape,y.shape\n",
    "\n",
    "x_train,x_test,y_train,y_test = train_test_split(x,y,test_size=0.3,random_state=0)\n",
    "sgd = SGDClassifier().fit(x_train,y_train)\n",
    "y_pre = sgd.predict(x_test)\n",
    "accuracy = accuracy_score(y_test,y_pre)\n",
    "print(\"分类正确率为：{:.2f}%\".format(accuracy*100))"
   ]
  },
  {
   "cell_type": "code",
   "execution_count": 49,
   "id": "babf053c",
   "metadata": {},
   "outputs": [
    {
     "name": "stdout",
     "output_type": "stream",
     "text": [
      "dict_keys(['data', 'target', 'frame', 'target_names', 'DESCR', 'feature_names', 'filename', 'data_module'])\n",
      "分类正确率为：97.78%\n"
     ]
    }
   ],
   "source": [
    "from sklearn.datasets import load_iris\n",
    "from sklearn.ensemble import RandomForestClassifier  #线性模型\n",
    "from sklearn.model_selection import train_test_split\n",
    "from sklearn.metrics import accuracy_score\n",
    "iris = load_iris()\n",
    "print(iris.keys())\n",
    "x = iris.data\n",
    "y = iris.target\n",
    "x.shape,y.shape\n",
    "\n",
    "x_train,x_test,y_train,y_test = train_test_split(x,y,test_size=0.3,random_state=0)\n",
    "sgd = RandomForestClassifier().fit(x_train,y_train)\n",
    "y_pre = sgd.predict(x_test)\n",
    "accuracy = accuracy_score(y_test,y_pre)\n",
    "print(\"分类正确率为：{:.2f}%\".format(accuracy*100))"
   ]
  },
  {
   "cell_type": "code",
   "execution_count": null,
   "id": "62f0f235",
   "metadata": {},
   "outputs": [],
   "source": []
  }
 ],
 "metadata": {
  "kernelspec": {
   "display_name": "Python 3 (ipykernel)",
   "language": "python",
   "name": "python3"
  },
  "language_info": {
   "codemirror_mode": {
    "name": "ipython",
    "version": 3
   },
   "file_extension": ".py",
   "mimetype": "text/x-python",
   "name": "python",
   "nbconvert_exporter": "python",
   "pygments_lexer": "ipython3",
   "version": "3.11.7"
  }
 },
 "nbformat": 4,
 "nbformat_minor": 5
}
