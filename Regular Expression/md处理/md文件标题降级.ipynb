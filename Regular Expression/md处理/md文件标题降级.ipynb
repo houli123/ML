{
 "cells": [
  {
   "cell_type": "code",
   "execution_count": 14,
   "metadata": {},
   "outputs": [],
   "source": [
    "fileName = r'.\\Python.md'\n",
    "with open(file=fileName, mode=\"r\", encoding='utf-8') as f1:\n",
    "    lines = f1.readlines()\n",
    "    for i in range(0, len(lines)):\n",
    "        if lines[i][0] == '#':\n",
    "            lines[i] = lines[i][1:]\n",
    "\n",
    "#将处理过的lines写入新的文件中\n",
    "fileName2 = r'.\\Python.md'\n",
    "with open(file = fileName2,mode='w',encoding='utf-8') as f2:\n",
    "    f2.writelines(lines)"
   ]
  }
 ],
 "metadata": {
  "kernelspec": {
   "display_name": "Python 3",
   "language": "python",
   "name": "python3"
  },
  "language_info": {
   "codemirror_mode": {
    "name": "ipython",
    "version": 3
   },
   "file_extension": ".py",
   "mimetype": "text/x-python",
   "name": "python",
   "nbconvert_exporter": "python",
   "pygments_lexer": "ipython3",
   "version": "3.6.4"
  }
 },
 "nbformat": 4,
 "nbformat_minor": 2
}
