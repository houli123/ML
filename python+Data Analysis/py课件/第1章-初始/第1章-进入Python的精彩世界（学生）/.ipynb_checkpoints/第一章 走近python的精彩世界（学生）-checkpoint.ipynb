{
 "cells": [
  {
   "cell_type": "markdown",
   "metadata": {},
   "source": [
    "<img src=\"img/第一章首页.png\" width=\"1200\" height=\"700\" align=\"center\" />"
   ]
  },
  {
   "cell_type": "markdown",
   "metadata": {},
   "source": [
    "<img src=\"img/自我介绍.png\" width=\"400\" height=\"200\" align=\"left\" />"
   ]
  },
  {
   "cell_type": "markdown",
   "metadata": {},
   "source": [
    "<img src=\"img/思维导图.png\" width=\"600\" height=\"400\" align=\"align\" />"
   ]
  },
  {
   "cell_type": "markdown",
   "metadata": {},
   "source": [
    "<img src=\"img/体系框架.png\" width=\"600\" height=\"400\" align=\"left\" />"
   ]
  },
  {
   "cell_type": "markdown",
   "metadata": {},
   "source": [
    "<img src=\"img/课程开设目标.png\" width=\"600\" height=\"400\" align=\"left\" />"
   ]
  },
  {
   "cell_type": "markdown",
   "metadata": {},
   "source": [
    "<img src=\"img/教材参考书.png\" width=\"600\" height=\"400\" align=\"left\" />"
   ]
  },
  {
   "cell_type": "markdown",
   "metadata": {},
   "source": [
    "<img src=\"img/考核方式.png\" width=\"600\" height=\"400\" align=\"left\" />"
   ]
  },
  {
   "cell_type": "markdown",
   "metadata": {},
   "source": [
    "<img src=\"img/走近精彩世界.png\" width=\"600\" height=\"400\" align=\"align\" />"
   ]
  },
  {
   "cell_type": "markdown",
   "metadata": {},
   "source": [
    "<img src=\"img/排行榜.png\" width=\"600\" height=\"400\" align=\"left\" />\n",
    "<img src=\"img/ieee.png\" width=\"600\" height=\"400\" align=\"left\" />"
   ]
  },
  {
   "cell_type": "markdown",
   "metadata": {},
   "source": [
    "近日，IEEE Spectrum发布了IEEE Spectrum编程语言排行榜。\n",
    "\n",
    "Python连续多年夺冠。Java和C语言分列第二和第三。\n",
    "\n",
    "为了进行编程语言流行度的分析，IEEE Spectrum编程语言排行榜综合了八个来源的11个指标，通过加权和组合来进行排行的。\n",
    "\n",
    "这八个来源分别是CareerBuilder，GitHub，Google，Hacker News，IEEE，Reddit，Stack Overflow和Twitter。\n",
    "\n",
    "其11个指标分别是：\n",
    "\n",
    "1. 谷歌搜索的每种语言的点击次数。\n",
    "\n",
    "2. 谷歌趋势报告每种语言的索引。\n",
    "\n",
    "3. 推特上每种语言的点击次数。\n",
    "\n",
    "4. GitHub每种语言创建的新存储库数量。\n",
    "\n",
    "5. GitHub每种语言的活动存储库数量。\n",
    "\n",
    "6. Stack Overflow提及的每种语言的问题数量。\n",
    "\n",
    "7. Reddit的所有subreddit上测量了提及每种语言的帖子数。\n",
    "\n",
    "8. Hacker News提及每种语言的帖子数量。\n",
    "\n",
    "9. CareerBuilder上提及该语言的新职位空缺（少于30天的职位）的数量。\n",
    "\n",
    "10. IEEE求职站点上对不同编程语言的需求数量。\n",
    "\n",
    "11. IEEE Xplore数字图书馆提及的每种语言的文章数量。\n",
    "\n",
    "上述数值均为1年时间内的数值。\n",
    "\n",
    "与其它榜单不同的是，IEEE Spectrum编程语言排行榜可以让用户自己选择各个加权和组合的权重，来得到多种多样的排序结果。"
   ]
  },
  {
   "cell_type": "markdown",
   "metadata": {},
   "source": [
    "<img src=\"img/应用场景.png\" width=\"600\" height=\"400\" align=\"left\" />"
   ]
  },
  {
   "cell_type": "markdown",
   "metadata": {},
   "source": [
    "<img src=\"img/语言特点.png\" width=\"600\" height=\"400\" align=\"left\" />"
   ]
  },
  {
   "cell_type": "markdown",
   "metadata": {},
   "source": [
    "### Python语言的哲学\n",
    "<img src=\"img/py.png\" width=\"200\" height=\"100\" align=\"left\" />\n",
    "<br><br><br><br><br><br><br><br><br>\n",
    "同一个问题，用不同的语言解决，代码量是不一样的，一般情况下，Python是Java的1/5，\n",
    "所以说\"人生苦短,我用Python\" 。"
   ]
  },
  {
   "cell_type": "markdown",
   "metadata": {},
   "source": [
    "<img src=\"img/语言特点2.png\" width=\"600\" height=\"400\" align=\"left\" />"
   ]
  },
  {
   "cell_type": "markdown",
   "metadata": {},
   "source": [
    "<img src=\"img/语言特点3.png\" width=\"600\" height=\"400\" align=\"left\" />"
   ]
  },
  {
   "cell_type": "markdown",
   "metadata": {},
   "source": [
    "<img src=\"img/语言特点4.png\" width=\"600\" height=\"400\" align=\"left\" />"
   ]
  },
  {
   "cell_type": "markdown",
   "metadata": {},
   "source": [
    "<img src=\"img/语言特点5.png\" width=\"600\" height=\"400\" align=\"left\" />"
   ]
  },
  {
   "cell_type": "markdown",
   "metadata": {},
   "source": [
    "<img src=\"img/语言特点6.png\" width=\"600\" height=\"400\" align=\"left\" />"
   ]
  },
  {
   "cell_type": "markdown",
   "metadata": {},
   "source": [
    "<img src=\"img/语言特点7.png\" width=\"600\" height=\"400\" align=\"left\" />"
   ]
  },
  {
   "cell_type": "markdown",
   "metadata": {},
   "source": [
    "<img src=\"img/语言特点8.png\" width=\"600\" height=\"400\" align=\"left\" />"
   ]
  },
  {
   "cell_type": "markdown",
   "metadata": {},
   "source": [
    "### 爬虫演示"
   ]
  },
  {
   "cell_type": "code",
   "execution_count": 10,
   "metadata": {},
   "outputs": [
    {
     "data": {
      "text/html": [
       "<div>\n",
       "<style scoped>\n",
       "    .dataframe tbody tr th:only-of-type {\n",
       "        vertical-align: middle;\n",
       "    }\n",
       "\n",
       "    .dataframe tbody tr th {\n",
       "        vertical-align: top;\n",
       "    }\n",
       "\n",
       "    .dataframe thead th {\n",
       "        text-align: right;\n",
       "    }\n",
       "</style>\n",
       "<table border=\"1\" class=\"dataframe\">\n",
       "  <thead>\n",
       "    <tr style=\"text-align: right;\">\n",
       "      <th></th>\n",
       "      <th>电影名称</th>\n",
       "      <th>评分</th>\n",
       "      <th>评价人数</th>\n",
       "    </tr>\n",
       "  </thead>\n",
       "  <tbody>\n",
       "    <tr>\n",
       "      <th>0</th>\n",
       "      <td>肖申克的救赎</td>\n",
       "      <td>9.7</td>\n",
       "      <td>2915164</td>\n",
       "    </tr>\n",
       "    <tr>\n",
       "      <th>1</th>\n",
       "      <td>霸王别姬</td>\n",
       "      <td>9.6</td>\n",
       "      <td>2152093</td>\n",
       "    </tr>\n",
       "    <tr>\n",
       "      <th>2</th>\n",
       "      <td>阿甘正传</td>\n",
       "      <td>9.5</td>\n",
       "      <td>2173300</td>\n",
       "    </tr>\n",
       "    <tr>\n",
       "      <th>3</th>\n",
       "      <td>泰坦尼克号</td>\n",
       "      <td>9.5</td>\n",
       "      <td>2205134</td>\n",
       "    </tr>\n",
       "    <tr>\n",
       "      <th>4</th>\n",
       "      <td>这个杀手不太冷</td>\n",
       "      <td>9.4</td>\n",
       "      <td>2306897</td>\n",
       "    </tr>\n",
       "    <tr>\n",
       "      <th>5</th>\n",
       "      <td>千与千寻</td>\n",
       "      <td>9.4</td>\n",
       "      <td>2257223</td>\n",
       "    </tr>\n",
       "    <tr>\n",
       "      <th>6</th>\n",
       "      <td>美丽人生</td>\n",
       "      <td>9.6</td>\n",
       "      <td>1333434</td>\n",
       "    </tr>\n",
       "    <tr>\n",
       "      <th>7</th>\n",
       "      <td>辛德勒的名单</td>\n",
       "      <td>9.6</td>\n",
       "      <td>1111863</td>\n",
       "    </tr>\n",
       "    <tr>\n",
       "      <th>8</th>\n",
       "      <td>星际穿越</td>\n",
       "      <td>9.4</td>\n",
       "      <td>1853441</td>\n",
       "    </tr>\n",
       "    <tr>\n",
       "      <th>9</th>\n",
       "      <td>盗梦空间</td>\n",
       "      <td>9.4</td>\n",
       "      <td>2074773</td>\n",
       "    </tr>\n",
       "    <tr>\n",
       "      <th>10</th>\n",
       "      <td>楚门的世界</td>\n",
       "      <td>9.4</td>\n",
       "      <td>1722792</td>\n",
       "    </tr>\n",
       "    <tr>\n",
       "      <th>11</th>\n",
       "      <td>忠犬八公的故事</td>\n",
       "      <td>9.4</td>\n",
       "      <td>1405619</td>\n",
       "    </tr>\n",
       "    <tr>\n",
       "      <th>12</th>\n",
       "      <td>海上钢琴师</td>\n",
       "      <td>9.3</td>\n",
       "      <td>1686428</td>\n",
       "    </tr>\n",
       "    <tr>\n",
       "      <th>13</th>\n",
       "      <td>三傻大闹宝莱坞</td>\n",
       "      <td>9.2</td>\n",
       "      <td>1868403</td>\n",
       "    </tr>\n",
       "    <tr>\n",
       "      <th>14</th>\n",
       "      <td>放牛班的春天</td>\n",
       "      <td>9.3</td>\n",
       "      <td>1318871</td>\n",
       "    </tr>\n",
       "    <tr>\n",
       "      <th>15</th>\n",
       "      <td>机器人总动员</td>\n",
       "      <td>9.3</td>\n",
       "      <td>1323253</td>\n",
       "    </tr>\n",
       "    <tr>\n",
       "      <th>16</th>\n",
       "      <td>疯狂动物城</td>\n",
       "      <td>9.2</td>\n",
       "      <td>1951321</td>\n",
       "    </tr>\n",
       "    <tr>\n",
       "      <th>17</th>\n",
       "      <td>无间道</td>\n",
       "      <td>9.3</td>\n",
       "      <td>1372306</td>\n",
       "    </tr>\n",
       "    <tr>\n",
       "      <th>18</th>\n",
       "      <td>控方证人</td>\n",
       "      <td>9.6</td>\n",
       "      <td>566170</td>\n",
       "    </tr>\n",
       "    <tr>\n",
       "      <th>19</th>\n",
       "      <td>大话西游之大圣娶亲</td>\n",
       "      <td>9.2</td>\n",
       "      <td>1541859</td>\n",
       "    </tr>\n",
       "    <tr>\n",
       "      <th>20</th>\n",
       "      <td>熔炉</td>\n",
       "      <td>9.4</td>\n",
       "      <td>935806</td>\n",
       "    </tr>\n",
       "    <tr>\n",
       "      <th>21</th>\n",
       "      <td>教父</td>\n",
       "      <td>9.3</td>\n",
       "      <td>973561</td>\n",
       "    </tr>\n",
       "    <tr>\n",
       "      <th>22</th>\n",
       "      <td>触不可及</td>\n",
       "      <td>9.3</td>\n",
       "      <td>1120940</td>\n",
       "    </tr>\n",
       "    <tr>\n",
       "      <th>23</th>\n",
       "      <td>当幸福来敲门</td>\n",
       "      <td>9.2</td>\n",
       "      <td>1527979</td>\n",
       "    </tr>\n",
       "    <tr>\n",
       "      <th>24</th>\n",
       "      <td>末代皇帝</td>\n",
       "      <td>9.3</td>\n",
       "      <td>891220</td>\n",
       "    </tr>\n",
       "  </tbody>\n",
       "</table>\n",
       "</div>"
      ],
      "text/plain": [
       "         电影名称   评分     评价人数\n",
       "0      肖申克的救赎  9.7  2915164\n",
       "1        霸王别姬  9.6  2152093\n",
       "2        阿甘正传  9.5  2173300\n",
       "3       泰坦尼克号  9.5  2205134\n",
       "4     这个杀手不太冷  9.4  2306897\n",
       "5        千与千寻  9.4  2257223\n",
       "6        美丽人生  9.6  1333434\n",
       "7      辛德勒的名单  9.6  1111863\n",
       "8        星际穿越  9.4  1853441\n",
       "9        盗梦空间  9.4  2074773\n",
       "10      楚门的世界  9.4  1722792\n",
       "11    忠犬八公的故事  9.4  1405619\n",
       "12      海上钢琴师  9.3  1686428\n",
       "13    三傻大闹宝莱坞  9.2  1868403\n",
       "14     放牛班的春天  9.3  1318871\n",
       "15     机器人总动员  9.3  1323253\n",
       "16      疯狂动物城  9.2  1951321\n",
       "17        无间道  9.3  1372306\n",
       "18       控方证人  9.6   566170\n",
       "19  大话西游之大圣娶亲  9.2  1541859\n",
       "20         熔炉  9.4   935806\n",
       "21         教父  9.3   973561\n",
       "22       触不可及  9.3  1120940\n",
       "23     当幸福来敲门  9.2  1527979\n",
       "24       末代皇帝  9.3   891220"
      ]
     },
     "execution_count": 10,
     "metadata": {},
     "output_type": "execute_result"
    }
   ],
   "source": [
    "#爬虫演示\n",
    "import re\n",
    "import requests\n",
    "from bs4 import BeautifulSoup\n",
    "import pandas as pd\n",
    "\n",
    "headers={'User-Agent': 'Mozilla/5.0 (Windows NT 6.1; Win64; x64) AppleWebKit/537.36 (KHTML, like Gecko) Chrome/79.0.3945.88 Safari/537.36'}\n",
    "contents = ''\n",
    "for i in range(10):\n",
    "    url = 'https://movie.douban.com/top250?start=' + str(i*25) + '&filter='\n",
    "    page = requests.get(url, headers=headers)\n",
    "    page.raise_for_status()\n",
    "    page.encoding = page.apparent_encoding\n",
    "    contents += page.text\n",
    "soup = BeautifulSoup(contents, \"lxml\")\n",
    "\n",
    "#电影中文名\n",
    "names = []\n",
    "for tag in soup.find_all(attrs={'class':'title'}):\n",
    "    if not tag.get_text().startswith(u'\\xa0/\\xa0'):\n",
    "        names.append(tag.get_text())\n",
    "\n",
    "#电影评分\n",
    "scores = []\n",
    "for tag in soup.find_all(attrs={'class':'rating_num'}):\n",
    "    scores.append(float(tag.get_text()))\n",
    "\n",
    "#评价人数\n",
    "rates = []\n",
    "for tag in soup.find_all(attrs={'class':'star'}):\n",
    "    rtag = tag.find_all('span')[-1]\n",
    "    rates.append(int(rtag.string[:-3]))\n",
    "#print(len(rates))\n",
    "\n",
    "df = pd.DataFrame({'电影名称':names,'评分':scores,'评价人数':rates})\n",
    "df"
   ]
  },
  {
   "cell_type": "markdown",
   "metadata": {},
   "source": [
    "<img src=\"img/语言特点9.png\" width=\"600\" height=\"400\" align=\"left\" />"
   ]
  },
  {
   "cell_type": "markdown",
   "metadata": {},
   "source": [
    "<img src=\"img/怎么学python.png\" width=\"600\" height=\"400\" align=\"left\" />"
   ]
  },
  {
   "cell_type": "markdown",
   "metadata": {},
   "source": [
    "<img src=\"img/本课程学习内容.png\" width=\"600\" height=\"400\" align=\"left\" />"
   ]
  },
  {
   "cell_type": "markdown",
   "metadata": {},
   "source": [
    "<img src=\"img/语言诞生.png\" width=\"600\" height=\"400\" align=\"left\" />\n",
    "<img src=\"img/python历史.png\" width=\"400\" height=\"200\" align=\"left\" />"
   ]
  },
  {
   "cell_type": "markdown",
   "metadata": {},
   "source": [
    "1.1989年的圣诞节期间，吉多*范罗苏姆为了在阿姆斯特丹打发时间，决心开发一个新的解释程序，作为ABC语言的一种继承。\n",
    "\n",
    "2.ABC是由吉多参加设计的一种教学语言，就吉多本人看来，ABC这种语言非常优美和强大，是专门为非专业程序员设计的。但是ABC语言并没有成功，\n",
    "究其原因，吉多认为是非开发造成的。吉多决心在Python中避免这一错误，并获取了非常好的效果。\n",
    "\n",
    "3.之所以选中Python（蟒蛇）作为程序的名字，是因为他是BBC电视剧--蒙提*派森的飞行马戏团的爱好者。\n",
    "<img src=\"img/蟒蛇.png\" width=\"200\" height=\"100\" align=\"left\" />\n",
    "\n"
   ]
  },
  {
   "cell_type": "markdown",
   "metadata": {},
   "source": [
    "<img src=\"img/开发环境介绍.png\" width=\"600\" height=\"400\" align=\"left\" />"
   ]
  },
  {
   "cell_type": "markdown",
   "metadata": {},
   "source": [
    "<img src=\"img/常用编辑器.png\" width=\"600\" height=\"400\" align=\"left\" />"
   ]
  },
  {
   "cell_type": "markdown",
   "metadata": {},
   "source": [
    "<img src=\"img/本课程python环境.png\" width=\"600\" height=\"400\" align=\"left\" />"
   ]
  },
  {
   "cell_type": "markdown",
   "metadata": {},
   "source": [
    "<img src=\"img/本课程python环境2.png\" width=\"600\" height=\"400\" align=\"left\" />"
   ]
  },
  {
   "cell_type": "markdown",
   "metadata": {},
   "source": [
    "<img src=\"img/本课程python环境3.png\" width=\"600\" height=\"400\" align=\"left\" />"
   ]
  },
  {
   "cell_type": "markdown",
   "metadata": {},
   "source": [
    "<img src=\"img/jynb应用实例1.png\" width=\"600\" height=\"400\" align=\"left\" />"
   ]
  },
  {
   "cell_type": "code",
   "execution_count": 11,
   "metadata": {},
   "outputs": [
    {
     "data": {
      "image/png": "[encoded data removed]",
      "text/plain": [
       "<Figure size 432x288 with 1 Axes>"
      ]
     },
     "metadata": {
      "needs_background": "light"
     },
     "output_type": "display_data"
    }
   ],
   "source": [
    "# 定义两个列表变量\n",
    "x = range(20)\n",
    "y = [i ** 2 + i * 2 - 3 for i in x]\n",
    "# 引入matplotlib模块绘图\n",
    "%matplotlib inline\n",
    "import matplotlib.pyplot as plt\n",
    "plt.scatter(x,y)                       #绘制散点图\n",
    "plt.show()                             #显示图形\n"
   ]
  },
  {
   "cell_type": "markdown",
   "metadata": {},
   "source": [
    "<img src=\"img/jynb应用实例2.png\" width=\"600\" height=\"400\" align=\"left\" />"
   ]
  },
  {
   "cell_type": "code",
   "execution_count": 12,
   "metadata": {},
   "outputs": [
    {
     "name": "stderr",
     "output_type": "stream",
     "text": [
      "C:\\Users\\SZPT\\AppData\\Local\\Temp/ipykernel_4464/2041460291.py:5: MatplotlibDeprecationWarning: Axes3D(fig) adding itself to the figure is deprecated since 3.4. Pass the keyword argument auto_add_to_figure=False and use fig.add_axes(ax) to suppress this warning. The default value of auto_add_to_figure will change to False in mpl3.5 and True values will no longer work in 3.6.  This is consistent with other Axes classes.\n",
      "  ax = Axes3D(fig)\n"
     ]
    },
    {
     "data": {
      "image/png": "[encoded data removed]",
      "text/plain": [
       "<Figure size 432x288 with 1 Axes>"
      ]
     },
     "metadata": {
      "needs_background": "light"
     },
     "output_type": "display_data"
    }
   ],
   "source": [
    "import numpy as np\n",
    "import matplotlib.pyplot as plt\n",
    "from mpl_toolkits.mplot3d import Axes3D\n",
    "fig = plt.figure()\n",
    "ax = Axes3D(fig)\n",
    "X = np.arange(-4, 4, 0.25)\n",
    "Y = np.arange(-4, 4, 0.25)\n",
    "X,Y = np.meshgrid(X, Y)\n",
    "R=np.sqrt(X**2 + Y**2)\n",
    "Z = np.sin(R)\n",
    "ax.plot_surface(X, Y, Z, rstride=1, cstride=1, cmap='rainbow')\n",
    "plt.show()"
   ]
  },
  {
   "cell_type": "markdown",
   "metadata": {},
   "source": [
    "# 第一个Python程序，输出hello world"
   ]
  },
  {
   "cell_type": "code",
   "execution_count": 1,
   "metadata": {},
   "outputs": [
    {
     "name": "stdout",
     "output_type": "stream",
     "text": [
      "hello world!\n"
     ]
    }
   ],
   "source": [
    "print(\"hello world!\")"
   ]
  },
  {
   "cell_type": "markdown",
   "metadata": {},
   "source": [
    "# 第二个Python程序，实现英寸到厘米的转换\n",
    "<img src=\"img/第二个python程序.png\" width=\"400\" height=\"200\" align=\"left\" />"
   ]
  },
  {
   "cell_type": "code",
   "execution_count": 6,
   "metadata": {},
   "outputs": [
    {
     "name": "stdout",
     "output_type": "stream",
     "text": [
      "请输入英寸数值：40\n",
      "转换后的数值为： 101.6 厘米\n"
     ]
    }
   ],
   "source": [
    "ying=eval(input(\"请输入英寸数值：\"))\n",
    "limi=ying*2.54\n",
    "print(\"转换后的数值为：\",limi,\"厘米\")"
   ]
  },
  {
   "cell_type": "markdown",
   "metadata": {},
   "source": [
    "# 实战演练\n",
    "\n",
    "## 1、华氏转换为摄氏\n",
    "\n"
   ]
  },
  {
   "cell_type": "code",
   "execution_count": 7,
   "metadata": {},
   "outputs": [
    {
     "name": "stdout",
     "output_type": "stream",
     "text": [
      "请输入华氏温度:100\n",
      "摄氏温度为: 37.77777777777778\n"
     ]
    }
   ],
   "source": [
    "hua=eval(input(\"请输入华氏温度:\"))\n",
    "she=(hua-32)/1.8\n",
    "print(\"摄氏温度为:\",she)"
   ]
  },
  {
   "cell_type": "markdown",
   "metadata": {},
   "source": [
    "# 实战演练\n",
    "## 2、厘米转换为英尺英寸\n",
    "<img src=\"img/实战演练2.png\" width=\"300\" height=\"200\" align=\"left\" />\n",
    "\n"
   ]
  },
  {
   "cell_type": "code",
   "execution_count": 9,
   "metadata": {},
   "outputs": [
    {
     "name": "stdout",
     "output_type": "stream",
     "text": [
      "请输入厘米:175\n",
      "5.775 68.25\n"
     ]
    }
   ],
   "source": [
    "limi=eval(input(\"请输入厘米:\"))\n",
    "yingcun=limi*0.39\n",
    "yingchi=limi*0.033\n",
    "print(yingchi,yingcun)"
   ]
  },
  {
   "cell_type": "markdown",
   "metadata": {},
   "source": [
    " <img src=\"img/思考题2.png\" width=\"500\" height=\"300\" align=\"left\" />"
   ]
  },
  {
   "cell_type": "code",
   "execution_count": 16,
   "metadata": {},
   "outputs": [
    {
     "name": "stdout",
     "output_type": "stream",
     "text": [
      "请输入一个温度：234.2342134\n",
      "保留两位小数: 234.23\n"
     ]
    }
   ],
   "source": [
    "shuru=eval(input(\"请输入一个温度：\"))\n",
    "shuchu=round(shuru,2)\n",
    "print(\"保留两位小数:\",shuchu)"
   ]
  },
  {
   "cell_type": "markdown",
   "metadata": {},
   "source": [
    "<img src=\"img/总结.png\" width=\"600\" height=\"400\" align=\"left\" />"
   ]
  }
 ],
 "metadata": {
  "kernelspec": {
   "display_name": "Python 3",
   "language": "python",
   "name": "python3"
  },
  "language_info": {
   "codemirror_mode": {
    "name": "ipython",
    "version": 3
   },
   "file_extension": ".py",
   "mimetype": "text/x-python",
   "name": "python",
   "nbconvert_exporter": "python",
   "pygments_lexer": "ipython3",
   "version": "3.6.4"
  }
 },
 "nbformat": 4,
 "nbformat_minor": 5
}
