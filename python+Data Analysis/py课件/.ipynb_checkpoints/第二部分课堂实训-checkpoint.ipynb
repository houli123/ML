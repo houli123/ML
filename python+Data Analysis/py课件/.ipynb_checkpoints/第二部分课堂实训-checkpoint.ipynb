{
 "cells": [
  {
   "cell_type": "markdown",
   "metadata": {},
   "source": [
    "# 第二章 Numpy数值计算基础\n",
    "## 学习目标\n",
    "- Numpy创建多维数组和生成随机数的方法\n",
    "- 数组的索引与变换\n",
    "- Numpy中数组矩阵的运算及通用函数的基本使用方法\n",
    "- Numpy读写文件的方法和常用的统计分析函数"
   ]
  },
  {
   "cell_type": "code",
   "execution_count": 7,
   "metadata": {},
   "outputs": [],
   "source": [
    "# 显示所有变量\n",
    "from IPython.core.interactiveshell import InteractiveShell\n",
    "InteractiveShell.ast_node_interactivity = \"all\""
   ]
  },
  {
   "cell_type": "markdown",
   "metadata": {},
   "source": [
    "## 2.1 掌握 NumPy 数组对象 ndarray\n",
    "Python 提供了一个array 模块。array 和list 不同，它直接保存数值，和C 语言的一维\n",
    "数组比较类似。但是由于Python 的array 模块不支持多维，也没有各种运算函数，因此也\n",
    "不适合做数值运算。NumPy 的诞生弥补了这些不足。NumPy 提供了一种**存储单一数据类型\n",
    "的多维数组——ndarray**。"
   ]
  },
  {
   "cell_type": "code",
   "execution_count": 10,
   "metadata": {},
   "outputs": [
    {
     "data": {
      "text/plain": [
       "[10, 20, 30, 'abc', 1.23, True]"
      ]
     },
     "execution_count": 10,
     "metadata": {},
     "output_type": "execute_result"
    },
    {
     "data": {
      "text/plain": [
       "list"
      ]
     },
     "execution_count": 10,
     "metadata": {},
     "output_type": "execute_result"
    },
    {
     "data": {
      "text/plain": [
       "30"
      ]
     },
     "execution_count": 10,
     "metadata": {},
     "output_type": "execute_result"
    },
    {
     "data": {
      "text/plain": [
       "[20, 30]"
      ]
     },
     "execution_count": 10,
     "metadata": {},
     "output_type": "execute_result"
    }
   ],
   "source": [
    "# Python的列表list\n",
    "l=[10,20,30,\"abc\",1.23,True]\n",
    "l\n",
    "type(l)\n",
    "# 默认只输出最后一个返回值\n",
    "l[2]\n",
    "l[1:3]"
   ]
  },
  {
   "cell_type": "code",
   "execution_count": null,
   "metadata": {},
   "outputs": [],
   "source": [
    "l1=[4,5,6,7]\n",
    "l2=[1,2,3,4]\n",
    "l1+l2"
   ]
  },
  {
   "cell_type": "markdown",
   "metadata": {},
   "source": [
    "### 2.1.1 创建数组对象\n",
    "#### 数组的属性\n",
    "#### 数组的创建\n",
    "- 一维数组\n",
    "\n",
    "![](img/创建一维数组.png)  \n",
    "- 二维数组  "
   ]
  },
  {
   "cell_type": "code",
   "execution_count": 26,
   "metadata": {},
   "outputs": [
    {
     "data": {
      "text/plain": [
       "array([1, 2, 3, 4])"
      ]
     },
     "execution_count": 26,
     "metadata": {},
     "output_type": "execute_result"
    },
    {
     "data": {
      "text/plain": [
       "numpy.ndarray"
      ]
     },
     "execution_count": 26,
     "metadata": {},
     "output_type": "execute_result"
    },
    {
     "data": {
      "text/plain": [
       "(4,)"
      ]
     },
     "execution_count": 26,
     "metadata": {},
     "output_type": "execute_result"
    },
    {
     "data": {
      "text/plain": [
       "dtype('int32')"
      ]
     },
     "execution_count": 26,
     "metadata": {},
     "output_type": "execute_result"
    },
    {
     "data": {
      "text/plain": [
       "array([[1, 2, 3, 4],\n",
       "       [5, 6, 7, 8]])"
      ]
     },
     "execution_count": 26,
     "metadata": {},
     "output_type": "execute_result"
    },
    {
     "data": {
      "text/plain": [
       "2"
      ]
     },
     "execution_count": 26,
     "metadata": {},
     "output_type": "execute_result"
    },
    {
     "data": {
      "text/plain": [
       "(2, 4)"
      ]
     },
     "execution_count": 26,
     "metadata": {},
     "output_type": "execute_result"
    },
    {
     "data": {
      "text/plain": [
       "dtype('int32')"
      ]
     },
     "execution_count": 26,
     "metadata": {},
     "output_type": "execute_result"
    }
   ],
   "source": [
    "#代码2-1\n",
    "#导入Numpy库\n",
    "import numpy as np\n",
    "\n",
    "#创建一维数组\n",
    "l1=[1,2,3,4]\n",
    "n1=np.array(l1)\n",
    "n1\n",
    "type(n1)\n",
    "n1.shape  #多少行多少列\n",
    "n1.dtype  #元素的数据类型\n",
    "\n",
    "#创建二维数组\n",
    "n2=np.array([[1,2,3,4],[5,6,7,8]])\n",
    "n2\n",
    "\n",
    "# 查看数组的维度\n",
    "n2.ndim\n",
    "#查看数组结构（shape）\n",
    "n2.shape\n",
    "#查看数组类型（dtype）\n",
    "n2.dtype\n",
    "#查看数组元素个数（size）\n",
    "\n",
    "#查看数组每个元素大小（itemsize）\n"
   ]
  },
  {
   "cell_type": "code",
   "execution_count": null,
   "metadata": {},
   "outputs": [],
   "source": [
    "#代码2-2\n",
    "#重新设置数组的shape形状\n"
   ]
  },
  {
   "cell_type": "code",
   "execution_count": null,
   "metadata": {},
   "outputs": [],
   "source": [
    "# reshape\n"
   ]
  },
  {
   "cell_type": "code",
   "execution_count": null,
   "metadata": {},
   "outputs": [],
   "source": [
    "# 显示所有变量\n",
    "from IPython.core.interactiveshell import InteractiveShell\n",
    "InteractiveShell.ast_node_interactivity = \"all\""
   ]
  },
  {
   "cell_type": "code",
   "execution_count": null,
   "metadata": {},
   "outputs": [],
   "source": [
    "#代码2-3\n",
    "#使用Numpy的arange函数创建数组\n"
   ]
  },
  {
   "cell_type": "code",
   "execution_count": null,
   "metadata": {},
   "outputs": [],
   "source": [
    "#代码2-4\n",
    "#使用Numpy的linspace函数创建等差数列数组\n"
   ]
  },
  {
   "cell_type": "code",
   "execution_count": null,
   "metadata": {},
   "outputs": [],
   "source": [
    "#代码2-5 \n",
    "#使用Numpy的logspace函数创建等比数列数组\n"
   ]
  },
  {
   "cell_type": "markdown",
   "metadata": {},
   "source": [
    "- 全0和全1数组\n",
    "![](img/创建全0和全1数组.png)  "
   ]
  },
  {
   "cell_type": "code",
   "execution_count": null,
   "metadata": {},
   "outputs": [],
   "source": [
    "#代码2-6\n",
    "#使用Numpy的zeros函数创建全0数组\n"
   ]
  },
  {
   "cell_type": "code",
   "execution_count": null,
   "metadata": {},
   "outputs": [],
   "source": [
    "#代码2-8\n",
    "#使用Numpy的ones函数创建全1数组\n"
   ]
  },
  {
   "cell_type": "code",
   "execution_count": null,
   "metadata": {},
   "outputs": [],
   "source": [
    "#代码2-7\n",
    "#使用Numpy的eye函数创建对角单位数组\n"
   ]
  },
  {
   "cell_type": "code",
   "execution_count": null,
   "metadata": {},
   "outputs": [],
   "source": []
  },
  {
   "cell_type": "code",
   "execution_count": null,
   "metadata": {},
   "outputs": [],
   "source": [
    "#代码2-9\n",
    "#使用Numpy的diag函数创建对角数组\n"
   ]
  },
  {
   "cell_type": "code",
   "execution_count": null,
   "metadata": {},
   "outputs": [],
   "source": [
    "#代码2-10\n",
    "#数组数据类型的变换\n"
   ]
  },
  {
   "cell_type": "markdown",
   "metadata": {},
   "source": [
    "### 2.1.2 生成随机数"
   ]
  },
  {
   "cell_type": "markdown",
   "metadata": {},
   "source": [
    "![](img/创建随机数组.png)  "
   ]
  },
  {
   "cell_type": "code",
   "execution_count": null,
   "metadata": {},
   "outputs": [],
   "source": [
    "# 标准库random\n"
   ]
  },
  {
   "cell_type": "code",
   "execution_count": null,
   "metadata": {},
   "outputs": [],
   "source": [
    "#代码2-14 \n",
    "#生成随机数组（注意是Numpy库的random子库中的random函数）\n"
   ]
  },
  {
   "cell_type": "code",
   "execution_count": null,
   "metadata": {},
   "outputs": [],
   "source": [
    "#代码2-15\n",
    "#生成服从均匀分布的随机数数组（注意是Numpy库的random子库中的rand函数）\n"
   ]
  },
  {
   "cell_type": "code",
   "execution_count": null,
   "metadata": {},
   "outputs": [],
   "source": [
    "#代码2-16\n",
    "#生成服从正态分布的随机数数组（注意是Numpy库的random子库中的randn函数）\n"
   ]
  },
  {
   "cell_type": "code",
   "execution_count": null,
   "metadata": {},
   "outputs": [],
   "source": [
    "#代码2-17\n",
    "#生成给定上下限的随机整数数组（注意是Numpy库的random子库中的randint函数）\n"
   ]
  },
  {
   "cell_type": "markdown",
   "metadata": {},
   "source": [
    "### 项目实例：全国人口数据的读取"
   ]
  },
  {
   "cell_type": "code",
   "execution_count": null,
   "metadata": {},
   "outputs": [],
   "source": [
    "# 从文本文件读取人口数据\n",
    "# datas\n"
   ]
  },
  {
   "cell_type": "code",
   "execution_count": null,
   "metadata": {},
   "outputs": [],
   "source": [
    "# names"
   ]
  },
  {
   "cell_type": "markdown",
   "metadata": {},
   "source": [
    "### 2.1.3 通过索引访问数组"
   ]
  },
  {
   "cell_type": "code",
   "execution_count": null,
   "metadata": {},
   "outputs": [],
   "source": [
    "# 显示所有变量\n",
    "from IPython.core.interactiveshell import InteractiveShell\n",
    "InteractiveShell.ast_node_interactivity = \"all\""
   ]
  },
  {
   "cell_type": "markdown",
   "metadata": {},
   "source": [
    "- 一维数组索引  \n",
    "![](img/一维数组索引.png)  "
   ]
  },
  {
   "cell_type": "code",
   "execution_count": null,
   "metadata": {},
   "outputs": [],
   "source": [
    "##### 代码2-18：一维数组\n",
    "#使用arange创建数组\n",
    "\n",
    "#整数作为下标访问\n",
    "\n",
    "#范围作为下标切片\n",
    "\n",
    "#省略切片的开始下标，表示从0开始\n",
    "\n",
    "#负数作为下标\n",
    "\n",
    "#下标用来修改数组元素的值\n",
    "\n",
    "#切片中加入步长\n",
    "\n",
    "#步长为负数时，切片的开始下标必须大于结束下标\n"
   ]
  },
  {
   "cell_type": "markdown",
   "metadata": {},
   "source": [
    "- 二维数组索引\n",
    "![](img/二维数组索引.png)  "
   ]
  },
  {
   "cell_type": "code",
   "execution_count": null,
   "metadata": {},
   "outputs": [],
   "source": [
    "#代码2-19：多维数组\n",
    "#创建二维数组\n",
    "\n",
    "#二维数组只有一个下标索引代表行\n",
    "\n",
    "#索引访问第0行的第3和第4列\n",
    "\n",
    "#索引第2和第3行的3-4列\n",
    "\n",
    "#索引第2列\n"
   ]
  },
  {
   "cell_type": "code",
   "execution_count": null,
   "metadata": {},
   "outputs": [],
   "source": [
    "#代码2-20\n",
    "#从两个序列对应位置取出整数组成下标索引\n",
    "\n",
    "#索引第2，3行中的第0，2，3列（不连续的列使用元组表示）\n",
    "\n",
    "#利用布尔数组来索引\n"
   ]
  },
  {
   "cell_type": "markdown",
   "metadata": {},
   "source": [
    "### 项目实例：全国人口数据的索引和切片"
   ]
  },
  {
   "cell_type": "code",
   "execution_count": null,
   "metadata": {},
   "outputs": [],
   "source": [
    "# 从文本文件读取人口数据\n"
   ]
  },
  {
   "cell_type": "code",
   "execution_count": null,
   "metadata": {},
   "outputs": [],
   "source": [
    "# 读取北京的数据\n",
    "\n",
    "# 读取上海1994年的人口数据\n",
    "\n",
    "# 读取北京、上海、广东所有年份的人口数据\n",
    "\n",
    "# 读取北京、上海、广东1993到2000年的数据\n",
    "\n",
    "# 读取北京1991年、上海1994年，广东1995年的数据\n",
    "\n",
    "\n",
    "#读取北京、上海，广东1991年、1994年、1995年的数据\n"
   ]
  },
  {
   "cell_type": "code",
   "execution_count": null,
   "metadata": {},
   "outputs": [],
   "source": [
    "# 前5行的省市名称\n",
    "\n",
    "# 1992年各省市人口数据\n",
    "\n",
    "# 山西历年人口数据\n",
    "\n",
    "\n",
    "# 河北，山西，内蒙1994年到1999年的数据\n",
    "\n",
    "# 北京、上海、广东1991年、1994年和1995年的数据\n"
   ]
  },
  {
   "cell_type": "markdown",
   "metadata": {},
   "source": [
    "### 2.1.4 变换数组的形态"
   ]
  },
  {
   "cell_type": "markdown",
   "metadata": {},
   "source": [
    "![](img/数组变形.png)  "
   ]
  },
  {
   "cell_type": "code",
   "execution_count": null,
   "metadata": {},
   "outputs": [],
   "source": [
    "#代码2-21\n",
    "#arange创建一维数组\n",
    "\n",
    "#设置数组的形状\n",
    "\n",
    "#查看数组的维度\n"
   ]
  },
  {
   "cell_type": "code",
   "execution_count": null,
   "metadata": {},
   "outputs": [],
   "source": [
    "#代码2-22\n",
    "#创建二维数组（使用arange和reshape）\n",
    "\n",
    "#使用ravel函数展平数组\n"
   ]
  },
  {
   "cell_type": "code",
   "execution_count": null,
   "metadata": {},
   "outputs": [],
   "source": [
    "#代码2-23\n",
    "#使用flatten函数展平数组（横向）\n",
    "\n",
    "#使用flatten函数展平数组（纵向）\n"
   ]
  },
  {
   "cell_type": "markdown",
   "metadata": {},
   "source": [
    "![](img/hstack和vstack.jpg)  "
   ]
  },
  {
   "cell_type": "code",
   "execution_count": null,
   "metadata": {},
   "outputs": [],
   "source": [
    "#代码2-24\n",
    "#创建一个3X4的二维数组\n",
    "\n",
    "#上一个数组*3创建另一个数组\n",
    "\n",
    "#使用hstack函数将两个数组横向组合\n"
   ]
  },
  {
   "cell_type": "code",
   "execution_count": null,
   "metadata": {},
   "outputs": [],
   "source": [
    "#代码2-25\n",
    "#使用vstack函数将两个数组纵向组合\n"
   ]
  },
  {
   "cell_type": "code",
   "execution_count": null,
   "metadata": {},
   "outputs": [],
   "source": [
    "#代码2-26\n",
    "#使用concatenate函数组合数组，横向：axis=1；纵向：axis=0\n"
   ]
  },
  {
   "cell_type": "code",
   "execution_count": null,
   "metadata": {},
   "outputs": [],
   "source": []
  },
  {
   "cell_type": "markdown",
   "metadata": {},
   "source": [
    "![](img/hsplit和vsplit.jpg)  "
   ]
  },
  {
   "cell_type": "code",
   "execution_count": null,
   "metadata": {},
   "outputs": [],
   "source": [
    "#代码2-27\n",
    "#使用hsplit函数实现数组的横向分割\n"
   ]
  },
  {
   "cell_type": "code",
   "execution_count": null,
   "metadata": {},
   "outputs": [],
   "source": [
    "#代码2-28\n",
    "#使用vsplit函数实现数组的纵向分割\n"
   ]
  },
  {
   "cell_type": "code",
   "execution_count": null,
   "metadata": {},
   "outputs": [],
   "source": [
    "#代码2-29\n",
    "#使用split函数加上axis参数实现数组的横向和纵向分割\n"
   ]
  },
  {
   "cell_type": "code",
   "execution_count": null,
   "metadata": {},
   "outputs": [],
   "source": [
    "# 关于reshape\n"
   ]
  },
  {
   "cell_type": "markdown",
   "metadata": {},
   "source": [
    "![](img/tile和repeat.jpg)  "
   ]
  },
  {
   "cell_type": "code",
   "execution_count": 1,
   "metadata": {},
   "outputs": [],
   "source": [
    "# tile和repeat\n"
   ]
  },
  {
   "cell_type": "markdown",
   "metadata": {},
   "source": [
    "### 课堂练习"
   ]
  },
  {
   "cell_type": "code",
   "execution_count": null,
   "metadata": {},
   "outputs": [],
   "source": [
    "#课堂练习1：创建一个数值从0到1，间隔为0.01的数组\n",
    "\n",
    "#课堂练习2：创建100个服从正态分布的随机数\n",
    "\n",
    "#课堂练习3：对创建的数组进行数组运算\n",
    "\n",
    "#课堂练习4：创建一个国际象棋的棋盘：黑为1，白为0\n"
   ]
  },
  {
   "cell_type": "markdown",
   "metadata": {},
   "source": [
    "### 项目实例：全国人口数据人口的切片（续）"
   ]
  },
  {
   "cell_type": "code",
   "execution_count": null,
   "metadata": {},
   "outputs": [],
   "source": [
    "# 从文本文件读取人口数据\n"
   ]
  },
  {
   "cell_type": "code",
   "execution_count": null,
   "metadata": {},
   "outputs": [],
   "source": [
    "# 前五行是哪些省市\n",
    "\n",
    "# 1991年各省市人口(某一列)\n",
    "\n",
    "# 山西省历年人口数据（某一行）\n",
    "\n",
    "\n",
    "# 河北山西内蒙古历年人口数据\n"
   ]
  },
  {
   "cell_type": "markdown",
   "metadata": {},
   "source": [
    "![](img/数组布尔索引.png)  "
   ]
  },
  {
   "cell_type": "code",
   "execution_count": null,
   "metadata": {},
   "outputs": [],
   "source": [
    "# 预备知识：条件索引和切片\n",
    "\n",
    "# 截取奇数\n",
    "\n",
    "\n",
    "# 能被2和3同时整除的数\n",
    "\n",
    "# 能被2或3整除的数\n"
   ]
  },
  {
   "cell_type": "code",
   "execution_count": null,
   "metadata": {},
   "outputs": [],
   "source": [
    "# 广东省历年人口数据（不知道广东省在peoples的行号）\n",
    "\n",
    "# 广东省1991、1994、1997年的人口数据\n",
    "\n",
    "# 北京上海广东1991,1994,1997年的人口数据\n"
   ]
  },
  {
   "cell_type": "code",
   "execution_count": null,
   "metadata": {},
   "outputs": [],
   "source": [
    "# 另一种方式\n",
    "# 找到省市的序号\n"
   ]
  },
  {
   "cell_type": "markdown",
   "metadata": {},
   "source": [
    "## 2.2 掌握NumPy矩阵与通用函数\n",
    "NumPy 对于多维数组的运算，默认情况下并不使用矩阵运算。如果需要对数组进行矩\n",
    "阵运算，则可以调用相应的函数。"
   ]
  },
  {
   "cell_type": "code",
   "execution_count": null,
   "metadata": {},
   "outputs": [],
   "source": [
    "# 显示所有变量\n",
    "from IPython.core.interactiveshell import InteractiveShell\n",
    "InteractiveShell.ast_node_interactivity = \"all\""
   ]
  },
  {
   "cell_type": "markdown",
   "metadata": {},
   "source": [
    "### 2.2.1 创建Numpy矩阵"
   ]
  },
  {
   "cell_type": "code",
   "execution_count": null,
   "metadata": {},
   "outputs": [],
   "source": [
    "# 新版numpy不再更新矩阵的支持，由二维数组取代\n"
   ]
  },
  {
   "cell_type": "markdown",
   "metadata": {},
   "source": [
    "### 2.2.2 掌握ufunc函数"
   ]
  },
  {
   "cell_type": "markdown",
   "metadata": {},
   "source": [
    "![](img/二维数组计算.png)  "
   ]
  },
  {
   "cell_type": "code",
   "execution_count": null,
   "metadata": {},
   "outputs": [],
   "source": [
    "#代码2-34：数组的四则运算\n",
    "#创建两个一维数组x和y\n",
    "\n",
    "#数组相加\n",
    "\n",
    "#数组相减\n",
    "\n",
    "#数组相乘\n",
    "\n",
    "#数组相除\n",
    "\n",
    "\n",
    "#数组幂运算\n"
   ]
  },
  {
   "cell_type": "code",
   "execution_count": null,
   "metadata": {},
   "outputs": [],
   "source": [
    "#代码2-35：数组的比较运算\n",
    "#>,<,==,>=,<=,!=\n"
   ]
  },
  {
   "cell_type": "code",
   "execution_count": null,
   "metadata": {},
   "outputs": [],
   "source": [
    "#代码2-36：数组的逻辑运算\n",
    "#all\n",
    "\n",
    "#any\n"
   ]
  },
  {
   "cell_type": "code",
   "execution_count": null,
   "metadata": {},
   "outputs": [],
   "source": [
    "#代码2-37\n",
    "#一维数组的广播机制\n"
   ]
  },
  {
   "cell_type": "markdown",
   "metadata": {},
   "source": [
    "![](img/数组的广播.png)  "
   ]
  },
  {
   "cell_type": "code",
   "execution_count": null,
   "metadata": {},
   "outputs": [],
   "source": [
    "#代码2-38\n",
    "#二维数组的广播机制\n"
   ]
  },
  {
   "cell_type": "markdown",
   "metadata": {},
   "source": [
    "## 2.3 利用NumPy进行统计分析\n",
    "在NumPy 中，数组运算更为简捷而快速，通常比等价的Python 方式快几倍，特别是\n",
    "处理数组统计计算与分析的情况时。"
   ]
  },
  {
   "cell_type": "markdown",
   "metadata": {},
   "source": [
    "### 2.3.1 读写文件"
   ]
  },
  {
   "cell_type": "code",
   "execution_count": null,
   "metadata": {},
   "outputs": [],
   "source": [
    "#代码2-39：二进制存储数据\n",
    "#导入Numpy库\n",
    "\n",
    "#创建一个数组\n",
    "\n",
    "#使用save保存数组到文件\n",
    "\n",
    "#打印数组\n"
   ]
  },
  {
   "cell_type": "code",
   "execution_count": null,
   "metadata": {},
   "outputs": [],
   "source": [
    "#代码2-40：多个数组的存储\n",
    "#创建两个数组\n",
    "\n",
    "#使用savez保存多个数组到文件\n",
    "\n",
    "#打印数组\n"
   ]
  },
  {
   "cell_type": "code",
   "execution_count": null,
   "metadata": {},
   "outputs": [],
   "source": [
    "#代码2-41：二进制读取文件\n",
    "#读取单个数组的文件\n",
    "\n",
    "#读取多个数组的文件\n"
   ]
  },
  {
   "cell_type": "markdown",
   "metadata": {},
   "source": [
    "### 项目实例：全国人口数据的二进制存储和读取"
   ]
  },
  {
   "cell_type": "code",
   "execution_count": null,
   "metadata": {},
   "outputs": [],
   "source": [
    "# 从文本文件读取人口数据\n"
   ]
  },
  {
   "cell_type": "code",
   "execution_count": null,
   "metadata": {},
   "outputs": [],
   "source": [
    "# 读取人口数据二进制文件\n"
   ]
  },
  {
   "cell_type": "code",
   "execution_count": null,
   "metadata": {},
   "outputs": [],
   "source": [
    "#代码2-42：文本文件的存储与读取\n",
    "#创建数组\n",
    "\n",
    "#存储文本文件savetxt\n",
    "\n",
    "#读取文本文件loadtxt\n"
   ]
  },
  {
   "cell_type": "code",
   "execution_count": null,
   "metadata": {},
   "outputs": [],
   "source": [
    "#代码2-43：使用genfromtxt函数读取数据\n"
   ]
  },
  {
   "cell_type": "code",
   "execution_count": null,
   "metadata": {},
   "outputs": [],
   "source": [
    "np.genfromtxt?"
   ]
  },
  {
   "cell_type": "code",
   "execution_count": null,
   "metadata": {},
   "outputs": [],
   "source": [
    "# genfromtxt 读取人口数据\n"
   ]
  },
  {
   "cell_type": "markdown",
   "metadata": {},
   "source": [
    "### 课堂练习"
   ]
  },
  {
   "cell_type": "code",
   "execution_count": null,
   "metadata": {},
   "outputs": [],
   "source": [
    "#课堂练习：生成2个2行2列的矩阵，计算矩阵乘积\n"
   ]
  },
  {
   "cell_type": "code",
   "execution_count": 2,
   "metadata": {},
   "outputs": [],
   "source": [
    "# 生成正反对角线都为1，其余为0的矩阵\n"
   ]
  },
  {
   "cell_type": "markdown",
   "metadata": {},
   "source": [
    "### 2.3.2 使用数组进行简单的统计分析\n",
    "- 排序\n",
    "- 去重\n",
    "- 统计函数"
   ]
  },
  {
   "cell_type": "markdown",
   "metadata": {},
   "source": [
    "![](img/数组排序-1.jpg)  "
   ]
  },
  {
   "cell_type": "code",
   "execution_count": null,
   "metadata": {},
   "outputs": [],
   "source": [
    "#代码2-44：sort排序\n",
    "#设置随机数种子\n",
    "\n",
    "#创建一维随机数组\n",
    "\n",
    "#数组排序\n"
   ]
  },
  {
   "cell_type": "code",
   "execution_count": null,
   "metadata": {},
   "outputs": [],
   "source": [
    "#生成二维随机数组\n",
    "\n",
    "#沿横轴排序\n",
    "\n",
    "#沿纵轴排序\n"
   ]
  },
  {
   "cell_type": "code",
   "execution_count": null,
   "metadata": {},
   "outputs": [],
   "source": [
    "#代码2-46和2-47\n",
    "#argsort：排序后的原始下标\n",
    "\n",
    "#lexsort：间接排序\n"
   ]
  },
  {
   "cell_type": "code",
   "execution_count": null,
   "metadata": {},
   "outputs": [],
   "source": [
    "#代码2-47：数组内去重\n",
    "#创建字符串数组\n",
    "\n",
    "#数组去重\n",
    "\n",
    "#不用Numpy的实现\n",
    "\n",
    "#创建整型数组\n",
    "\n",
    "#整型数组去重\n"
   ]
  },
  {
   "cell_type": "code",
   "execution_count": null,
   "metadata": {},
   "outputs": [],
   "source": [
    "#代码2-48和代码2-49：重复数据\n",
    "#tile函数实现数据重复\n",
    "\n",
    "#repeat函数实现数据重复\n"
   ]
  },
  {
   "cell_type": "markdown",
   "metadata": {},
   "source": [
    "![](img/数组最大最小值.png)  "
   ]
  },
  {
   "cell_type": "code",
   "execution_count": null,
   "metadata": {},
   "outputs": [],
   "source": [
    "#代码2-50：Numpy中常用统计函数\n",
    "#创建二维数组\n",
    "\n",
    "#数组的和\n",
    "\n",
    "#沿横轴的和(行的和)\n",
    "\n",
    "#沿纵轴的和（列的和）\n",
    "\n",
    "#数组均值\n",
    "\n",
    "#沿横轴均值\n",
    "\n",
    "#沿纵轴均值\n",
    "\n",
    "#标准差和方差\n",
    "\n",
    "#最大值和最小值\n",
    "\n",
    "#最大值和最小值的索引\n"
   ]
  },
  {
   "cell_type": "code",
   "execution_count": null,
   "metadata": {},
   "outputs": [],
   "source": [
    "#代码2-51：cumsum和cumprod\n",
    "#创建数组\n",
    "\n",
    "#累计和\n",
    "\n",
    "#累计积\n"
   ]
  },
  {
   "cell_type": "markdown",
   "metadata": {},
   "source": [
    "### 2.3.3 任务实现"
   ]
  },
  {
   "cell_type": "code",
   "execution_count": null,
   "metadata": {},
   "outputs": [],
   "source": [
    "# 显示所有变量\n",
    "from IPython.core.interactiveshell import InteractiveShell\n",
    "InteractiveShell.ast_node_interactivity = \"all\""
   ]
  },
  {
   "cell_type": "code",
   "execution_count": null,
   "metadata": {},
   "outputs": [],
   "source": [
    "#代码2-52：花萼长度数据的统计分析\n",
    "\n",
    "#读取文件中的数据\n",
    "\n",
    "#打印花萼长度数组\n",
    "\n",
    "#排序\n",
    "\n",
    "#去重\n",
    "\n",
    "#求和\n",
    "\n",
    "#累计和\n",
    "\n",
    "#累计积\n",
    "#iris.cumprod()\n",
    "#均值\n",
    "\n",
    "#标准差\n",
    "\n",
    "#方差\n",
    "\n",
    "#最小值\n",
    "\n",
    "#最大值\n"
   ]
  },
  {
   "cell_type": "code",
   "execution_count": 4,
   "metadata": {},
   "outputs": [],
   "source": [
    "# 国际象棋棋盘数组\n"
   ]
  },
  {
   "cell_type": "markdown",
   "metadata": {
    "collapsed": true
   },
   "source": [
    "### 项目实例：全国人口数据的统计计算"
   ]
  },
  {
   "cell_type": "code",
   "execution_count": null,
   "metadata": {},
   "outputs": [],
   "source": [
    "# 从文本文件读取人口数据\n"
   ]
  },
  {
   "cell_type": "code",
   "execution_count": null,
   "metadata": {},
   "outputs": [],
   "source": [
    "# 1990年全国人口总和\n",
    "\n",
    "# 2001年全国人口总和\n",
    "\n",
    "# 2001年各省市人口的均值和标准差\n",
    "\n",
    "# 广东1990年的人口\n",
    "\n",
    "# 广东2001年人口\n",
    "\n",
    "# 广东每年人口增长值\n",
    "\n",
    "# 东北三省1990年人口之和\n",
    "\n",
    "# 东北三省2001年人口之和\n",
    "\n",
    "# 东北每年人口增长值\n",
    "\n",
    "# 历年人口之和\n",
    "\n",
    "# 1990年人口最多的省份\n",
    "\n",
    "# 2001年人口最多的省份\n",
    "\n",
    "# 2001年人口最少的省份\n",
    "\n"
   ]
  }
 ],
 "metadata": {
  "hide_input": false,
  "kernelspec": {
   "display_name": "Python 3 (ipykernel)",
   "language": "python",
   "name": "python3"
  },
  "language_info": {
   "codemirror_mode": {
    "name": "ipython",
    "version": 3
   },
   "file_extension": ".py",
   "mimetype": "text/x-python",
   "name": "python",
   "nbconvert_exporter": "python",
   "pygments_lexer": "ipython3",
   "version": "3.11.5"
  },
  "toc": {
   "base_numbering": 1,
   "nav_menu": {},
   "number_sections": false,
   "sideBar": true,
   "skip_h1_title": false,
   "title_cell": "Table of Contents",
   "title_sidebar": "Contents",
   "toc_cell": false,
   "toc_position": {},
   "toc_section_display": true,
   "toc_window_display": false
  }
 },
 "nbformat": 4,
 "nbformat_minor": 2
}
