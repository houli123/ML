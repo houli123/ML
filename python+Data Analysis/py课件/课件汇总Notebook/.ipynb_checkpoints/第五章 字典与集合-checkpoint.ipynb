{
 "cells": [
  {
   "cell_type": "markdown",
   "metadata": {},
   "source": [
    "# 第五章 字典与集合\n",
    "## 5.1 购物车\n",
    "（1）输入要购买的商品编号  \n",
    "（2）若购物车中没有该商品，则继续输入购买数量  \n",
    "（3）若购物车中已有该商品，则提示“你已选购该商品，请选购新的商品”  \n",
    "（4）将商品信息及数量加入购物车  \n",
    "（5）-1退出购物车  \n",
    "（6）显示购物车信息和购物的总金额。  \n"
   ]
  },
  {
   "cell_type": "code",
   "execution_count": 12,
   "metadata": {},
   "outputs": [
    {
     "name": "stdout",
     "output_type": "stream",
     "text": [
      "名字 19\n",
      "名字 is now sitting.\n",
      "名字 rolled over!\n"
     ]
    }
   ],
   "source": [
    "class Dog:\n",
    "    def __init__(self, name, age):\n",
    "        self.name = name\n",
    "        self.age = age\n",
    "    def sit(self):\n",
    "        print(f\"{self.name} is now sitting.\")\n",
    "    def roll_over(self):\n",
    "        print(f\"{self.name} rolled over!\")\n",
    "dog=Dog(\"名字\",\"19\")\n",
    "print(dog.name,dog.age)\n",
    "dog.sit()\n",
    "dog.roll_over()"
   ]
  },
  {
   "cell_type": "markdown",
   "metadata": {},
   "source": [
    "## 5.2 预备知识\n",
    "### 5.2.1 字典组合数据类型\n",
    "- 字典dict是Python 语言的基石。字典活跃在所有 Python 程序的背后。\n",
    "- Python字典是一种“键值”（key：value）的映射类型，就像我们使用的汉语字典，每个汉字及其解释就构成了一本字典。\n",
    "- 键值对是一种二元关系，源于属性和值的映射关系。键值对实质上是一种映射关系。\n",
    "- 基本上所有的编程语言都有键值对存储技术。Python字典的特别之处在于键和值都可以是任意数据类型。\n"
   ]
  },
  {
   "cell_type": "markdown",
   "metadata": {},
   "source": [
    "- 字典由两部分视图构成：键视图和值视图。键视图不能包含重复的 元素，值视图能。在键视图中，键和值是成对出现的。\n",
    "![](img/5-dict.png)"
   ]
  },
  {
   "cell_type": "markdown",
   "metadata": {},
   "source": [
    "### 5.2.2 字典常用操作\n",
    "我们可以通过以下两种方法创建字典。 \n",
    "- 1 dict（）函数。  \n",
    "- 2 {key1：value1，key2：value2，...，key_n：value_n}：指定具体 的字典键值对，键值对之间以逗号分隔，最后用大括号括起来。  \n",
    "#### 初始化字典\n",
    "- 字典可以这样描述：字典dict{键key：值value}\n",
    "- 创建字典的语法： \n",
    "     字典名 = {键1：值1，键2：值2，…}  \n",
    "- 字典中的key必须唯一。字符串、整数等都可以作为key。\n",
    "- 我们可以一次性创建字典的数据。\n"
   ]
  },
  {
   "cell_type": "code",
   "execution_count": 76,
   "metadata": {},
   "outputs": [
    {
     "name": "stdout",
     "output_type": "stream",
     "text": [
      "2019 Tesla Model S\n"
     ]
    },
    {
     "ename": "AttributeError",
     "evalue": "'ElectricCar' object has no attribute 'battery'",
     "output_type": "error",
     "traceback": [
      "\u001b[1;31m---------------------------------------------------------------------------\u001b[0m",
      "\u001b[1;31mAttributeError\u001b[0m                            Traceback (most recent call last)",
      "\u001b[1;32m<ipython-input-76-f566c61d7d0b>\u001b[0m in \u001b[0;36m<module>\u001b[1;34m\u001b[0m\n\u001b[0;32m     17\u001b[0m \u001b[0mmy_tesla\u001b[0m \u001b[1;33m=\u001b[0m \u001b[0mElectricCar\u001b[0m\u001b[1;33m(\u001b[0m\u001b[1;34m'tesla'\u001b[0m\u001b[1;33m,\u001b[0m \u001b[1;34m'model s'\u001b[0m\u001b[1;33m,\u001b[0m \u001b[1;36m2019\u001b[0m\u001b[1;33m)\u001b[0m\u001b[1;33m\u001b[0m\u001b[1;33m\u001b[0m\u001b[0m\n\u001b[0;32m     18\u001b[0m \u001b[0mprint\u001b[0m\u001b[1;33m(\u001b[0m\u001b[0mmy_tesla\u001b[0m\u001b[1;33m.\u001b[0m\u001b[0mget_descriptive_name\u001b[0m\u001b[1;33m(\u001b[0m\u001b[1;33m)\u001b[0m\u001b[1;33m)\u001b[0m\u001b[1;33m\u001b[0m\u001b[1;33m\u001b[0m\u001b[0m\n\u001b[1;32m---> 19\u001b[1;33m \u001b[0mmy_tesla\u001b[0m\u001b[1;33m.\u001b[0m\u001b[0mbattery\u001b[0m\u001b[1;33m.\u001b[0m\u001b[0mdescribe_battery\u001b[0m\u001b[1;33m(\u001b[0m\u001b[1;33m)\u001b[0m\u001b[1;33m\u001b[0m\u001b[1;33m\u001b[0m\u001b[0m\n\u001b[0m",
      "\u001b[1;31mAttributeError\u001b[0m: 'ElectricCar' object has no attribute 'battery'"
     ]
    }
   ],
   "source": [
    "class Car:\n",
    "    pass\n",
    "class Battery:\n",
    "    def __init__(self, battery_size=75):\n",
    "        self.battery_size = battery_size\n",
    "    def describe_battery(self):\n",
    "        print(f\"This car has a {self.battery_size}-kWh battery.\")\n",
    "    class ElectricCar(Car):\n",
    "         #电动汽车的独特之处。\n",
    "        def __init__(self, make, model, year):\n",
    "             #初始化父类的属性。\n",
    "             #再初始化电动汽车特有的属性。\n",
    "            super().__init__(make, model, year)\n",
    "            self.battery = Battery()\n",
    "my_tesla = ElectricCar('tesla', 'model s', 2019)\n",
    "print(my_tesla.get_descriptive_name())\n",
    "my_tesla.battery.describe_battery()"
   ]
  },
  {
   "cell_type": "markdown",
   "metadata": {},
   "source": [
    "#### 创建空字典\n",
    "- 先创建一个空字典，再去添加字典的元素。步骤如下：\n",
    "- 首先，创建一个空字典：sd = {}\n",
    "- 添加一个元素：sd[“中国”] = “北京”\n",
    "- 添加和修改字典元素的语法是一样的：字典[键] = 值\n",
    "- 想看一下整个字典： print(sd)\n",
    "- 运行结果如下：{“中国” : “北京”}\n"
   ]
  },
  {
   "cell_type": "code",
   "execution_count": null,
   "metadata": {},
   "outputs": [],
   "source": []
  },
  {
   "cell_type": "markdown",
   "metadata": {},
   "source": [
    "#### 修改和添加元素"
   ]
  },
  {
   "cell_type": "code",
   "execution_count": null,
   "metadata": {},
   "outputs": [],
   "source": []
  },
  {
   "cell_type": "markdown",
   "metadata": {},
   "source": [
    "#### 输出字典"
   ]
  },
  {
   "cell_type": "code",
   "execution_count": null,
   "metadata": {},
   "outputs": [],
   "source": []
  },
  {
   "cell_type": "markdown",
   "metadata": {},
   "source": [
    "#### 访问字典元素\n",
    "- 语法： 字典[键]\n",
    "注意，这里使用方括号来指定你想要找的键key。\n",
    "例如 print(sd[\"法国\"])\n",
    "- 字典查数据的语法，与列表有点类似，都是用中括号，但是列表是用的是索引：\n",
    "- 列表[索引]\n",
    "例如 list[0]、list[3:5]、list[-1]。\n",
    "- 字典是无序的，先输入的数据不一定出现在前面。\n"
   ]
  },
  {
   "cell_type": "code",
   "execution_count": null,
   "metadata": {},
   "outputs": [],
   "source": []
  },
  {
   "cell_type": "markdown",
   "metadata": {},
   "source": [
    "#### 字典的删除\n",
    "- 字典的删除，有两种方法：删除字典中的一个元素、清除字典的所有元素\n",
    "- 通过键删除字典中的元素， \n",
    "<字典>.pop(<键>)  \n",
    "或  \n",
    "del(<字典> [<键>])  \n",
    "- 清除字典中的所有元素\n",
    "<字典>.clear()  \n",
    "或  \n",
    "del(<字典>)  \n"
   ]
  },
  {
   "cell_type": "code",
   "execution_count": 59,
   "metadata": {},
   "outputs": [
    {
     "name": "stdout",
     "output_type": "stream",
     "text": [
      "{2: 'two', 3: 'two', 4: 'two'}\n",
      "{3: 'two', 4: 'two'}\n",
      "{}\n"
     ]
    }
   ],
   "source": [
    "num={1:\"one\",2:\"two\",3:\"two\",4:\"two\"}\n",
    "num.pop(1)\n",
    "print(num)\n",
    "del(num[2])\n",
    "print(num)\n",
    "num.clear()\n",
    "print(num)"
   ]
  },
  {
   "cell_type": "markdown",
   "metadata": {},
   "source": [
    "#### 求字典的长度"
   ]
  },
  {
   "cell_type": "code",
   "execution_count": 60,
   "metadata": {},
   "outputs": [
    {
     "name": "stdout",
     "output_type": "stream",
     "text": [
      "4\n"
     ]
    }
   ],
   "source": [
    "num={1:\"one\",2:\"two\",3:\"two\",4:\"two\"}\n",
    "print(len(num))"
   ]
  },
  {
   "cell_type": "markdown",
   "metadata": {},
   "source": [
    "#### 遍历字典元素\n",
    "- 一个Python字典可能包含数百万个键值对，如何遍历数据呢？\n",
    "- 简单的查询一个元素，语法：字典[键]\n",
    "- 复杂的查询和处理，最好是使用遍历for语法。\n",
    "- 有多种遍历字典的方式：\n",
    "    - 遍历字典的所有键。\n",
    "    - 遍历字典的所有值。\n",
    "    - 遍历字典的所有键值对。\n",
    "\n",
    "![](img/5-dict-1.png)\n",
    "\n",
    "- 遍历键"
   ]
  },
  {
   "cell_type": "code",
   "execution_count": 62,
   "metadata": {},
   "outputs": [
    {
     "name": "stdout",
     "output_type": "stream",
     "text": [
      "1\n",
      "2\n",
      "3\n",
      "4\n"
     ]
    }
   ],
   "source": [
    "num={1:\"one\",2:\"two\",3:\"two\",4:\"two\"}\n",
    "for i in num.keys():\n",
    "    print(i)"
   ]
  },
  {
   "cell_type": "markdown",
   "metadata": {},
   "source": [
    "- 遍历值"
   ]
  },
  {
   "cell_type": "code",
   "execution_count": 63,
   "metadata": {},
   "outputs": [
    {
     "name": "stdout",
     "output_type": "stream",
     "text": [
      "one\n",
      "two\n",
      "two\n",
      "two\n"
     ]
    }
   ],
   "source": [
    "num={1:\"one\",2:\"two\",3:\"two\",4:\"two\"}\n",
    "for i in num.keys():\n",
    "    print(num[i])"
   ]
  },
  {
   "cell_type": "markdown",
   "metadata": {},
   "source": [
    "- 遍历字典元素"
   ]
  },
  {
   "cell_type": "code",
   "execution_count": 64,
   "metadata": {},
   "outputs": [
    {
     "name": "stdout",
     "output_type": "stream",
     "text": [
      "(1, 'one')\n",
      "(2, 'two')\n",
      "(3, 'two')\n",
      "(4, 'two')\n"
     ]
    }
   ],
   "source": [
    "for i in num.items():\n",
    "    print(i)"
   ]
  },
  {
   "cell_type": "markdown",
   "metadata": {},
   "source": [
    "- 遍历键值对"
   ]
  },
  {
   "cell_type": "code",
   "execution_count": null,
   "metadata": {},
   "outputs": [],
   "source": []
  },
  {
   "cell_type": "markdown",
   "metadata": {},
   "source": [
    "## 5.3 课堂练习之创建字典"
   ]
  },
  {
   "cell_type": "code",
   "execution_count": null,
   "metadata": {},
   "outputs": [],
   "source": []
  },
  {
   "cell_type": "markdown",
   "metadata": {},
   "source": [
    "## 5.4 课堂练习之遍历字典"
   ]
  },
  {
   "cell_type": "code",
   "execution_count": null,
   "metadata": {},
   "outputs": [],
   "source": []
  },
  {
   "cell_type": "markdown",
   "metadata": {},
   "source": [
    "## 5.5 项目实战\n",
    "### 5.5.1 购物车项目分析\n",
    "- 购物车程序，主要是数据的存储、购物流程的设计、购物金额的计算、以及购物信息的显示。可以将任务分解为以下步骤：\n",
    "（1）创建一个存储商品信息的字典goodsdic，将商品编号作为键。  \n",
    "（2）创建一个存储购物车信息的字典mycart，将商品编号作为键。  \n",
    "（3）键盘输入用户要购买的商品编号nid。  \n",
    "（4）设置while循环条件。  \n",
    "（5）若商品字典中没有该商品，则提示用户\"该商品不存在，请重新输入\"。  \n",
    "（6）若购物车字典中有该商品，则提示用户\"你已选购该商品，请选购新的商品\"。  \n",
    "（7）若购物车字典中没有该商品，则提示用户继续输入购买数量 num。  \n",
    "（8）将商品编号nid和购买数量 num存储到购物车字典，可以把商品名称和商品价格也存储到购物车字典。  \n",
    "（9）若键盘输入的是\"-1\"，则购物结束。  \n",
    "（10）初始化购物的总金额summoney。  \n",
    "（11）遍历购物车字典，计算购物的总金额。  \n",
    "（12）显示购物信息和总金额。  \n"
   ]
  },
  {
   "cell_type": "markdown",
   "metadata": {},
   "source": [
    "\n",
    "### 5.5.2 购物车项目实现"
   ]
  },
  {
   "cell_type": "code",
   "execution_count": null,
   "metadata": {},
   "outputs": [],
   "source": []
  },
  {
   "cell_type": "markdown",
   "metadata": {},
   "source": [
    "## 5.6 总结与提高\n"
   ]
  },
  {
   "cell_type": "code",
   "execution_count": null,
   "metadata": {},
   "outputs": [],
   "source": []
  },
  {
   "cell_type": "markdown",
   "metadata": {},
   "source": [
    "### 对字典的键排序"
   ]
  },
  {
   "cell_type": "code",
   "execution_count": null,
   "metadata": {},
   "outputs": [],
   "source": []
  },
  {
   "cell_type": "markdown",
   "metadata": {},
   "source": [
    "### 用列表协助对字典的值排序"
   ]
  },
  {
   "cell_type": "code",
   "execution_count": null,
   "metadata": {},
   "outputs": [],
   "source": []
  },
  {
   "cell_type": "markdown",
   "metadata": {},
   "source": [
    "### 使用lambda匿名函数"
   ]
  },
  {
   "cell_type": "code",
   "execution_count": null,
   "metadata": {},
   "outputs": [],
   "source": []
  },
  {
   "cell_type": "markdown",
   "metadata": {},
   "source": [
    "## 5.7 巩固与提高\n",
    "### 5.7.1 用户注册\n",
    "- 请编写程序，要求：输入用户注册信息（用户名和密码），用户名唯一，输入-1退出，然后显示所有注册信息。\n",
    "-  任务分析\n",
    "    - 用字典userdic存储用户的注册信息。\n",
    "    - 创建一个用户注册信息的字典userdic，将用户名作为键。\n",
    "    - 键盘输入要注册的用户名username。\n",
    "    - 设置while循环条件。\n",
    "    - 若字典中没有该用户名，则提示用户继续输入密码pwd。\n",
    "    - 若字典中有该用户名，则提示用户重新输入。\n",
    "    - 若键盘输入的是\"-1\"，则循环结束。\n",
    "    - 显示字典信息。\n"
   ]
  },
  {
   "cell_type": "code",
   "execution_count": null,
   "metadata": {},
   "outputs": [],
   "source": []
  },
  {
   "cell_type": "markdown",
   "metadata": {},
   "source": [
    "### 5.7.2 统计城市数量\n",
    "- 字典中的”省份-城市”定义如下:  \n",
    "{'山东':['济南','青岛','淄博','枣庄','东营','烟台','潍坊','济宁','泰安','威海','日照','莱芜',\n",
    "       '临沂','德州','聊城','滨州','菏泽'],\n",
    "'内蒙古':['呼和浩特','包头','乌海','赤峰','通辽','鄂尔多斯','呼伦贝尔','巴彦淖尔','乌兰察布',\n",
    "      '兴安盟','锡林郭勒盟','阿拉善盟','巴彦淖尔盟','乌兰察布盟'],\n",
    "'贵州':['贵阳','六盘水','遵义','安顺','铜仁地区','黔西南布依族苗族自治州','毕节地区',\n",
    "     '黔东南苗族侗族自治州','黔南布依族苗族自治州','黔南','黔东南','毕节','铜仁']}\n",
    "- 利用字典统计这三个省份的城市数量。\n",
    "- 任务分析\n",
    "    - 用字典dic存储 ”省份-城市”的信息。\n",
    "    - 创建一个存储 ”省份-城市”信息的字典dic，将省份名称作为键。\n",
    "    - 遍历字典dic的元素x。\n",
    "    - 在上述遍历中输出x的键和x的元素长度。"
   ]
  },
  {
   "cell_type": "code",
   "execution_count": null,
   "metadata": {},
   "outputs": [],
   "source": []
  },
  {
   "cell_type": "markdown",
   "metadata": {},
   "source": [
    "### 5.7.3 点菜\n",
    "任务分析\n",
    "- 用字典menudic存储菜单信息。\n",
    "- 创建一个存储菜单信息的字典menudic，将菜单编号作为键。\n",
    "- 创建一个用户点菜信息的列表mymenulist，将菜单编号作为元素。\n",
    "- 键盘输入用户的点菜信息：菜单编号nid。\n",
    "- 设置while循环条件。\n",
    "- 若字典中没有该编号，则提示用户\"该菜单编号不存在，请重新输入\"。\n",
    "- 将编号nid存储到列表mymenulist。\n",
    "- 若键盘输入的是\"-1\"，则点菜结束。\n",
    "- 初始化总金额totalmoney。遍历字典，计算总金额。\n"
   ]
  },
  {
   "cell_type": "code",
   "execution_count": null,
   "metadata": {},
   "outputs": [],
   "source": []
  },
  {
   "cell_type": "markdown",
   "metadata": {},
   "source": [
    "### 5.7.4 购物车项目的改进\n",
    "请增加购物车项目的修改和删除功能：\n",
    "- （1）输入商品编号\n",
    "- （2）若购物车中有该商品，则输入修改数量\n",
    "- （3）若修改数量为0，删除该商品，否则修改对应数量\n",
    "- （4）-1退出购物车\n",
    "- （5）显示购物车信息"
   ]
  },
  {
   "cell_type": "markdown",
   "metadata": {},
   "source": [
    "任务分析  \n",
    "- 购物车程序，主要是数据的存储、购物流程的设计、购物金额的计算、以及购物信息的显示。可以将任务分解为以下步骤：\n",
    "- 创建一个存储商品信息的字典goodsdic，将商品编号作为键。\n",
    "- 创建一个存储购物车信息的字典mycart，将商品编号作为键。\n",
    "- 键盘输入用户要购买的商品编号nid。\n",
    "- 设置while循环条件。\n",
    "- 若商品字典中没有该商品，则提示用户\"该商品不存在，请重新输入\"。\n",
    "- 若购物车字典中没有该商品，则提示用户继续输入购买数量 num。将商品编号nid和购买数量 num存储到购物车字典。\n",
    "- 若购物车中有该商品，则提示用户已选购该商品以及购买数量，并请用户重新输入购买数量。\n",
    "- 若购买数量 num为0，删从购物车中除该商品。\n",
    "- 若购买数量 num大于0，将商品编号nid和购买数量 num存储到购物车字典。\n",
    "- 若键盘输入的是\"-1\"，则购物结束。\n",
    "- 初始化购物的总金额summoney。\n",
    "- 遍历购物车字典，计算购物的总金额。\n",
    "- 显示购物信息和总金额。\n"
   ]
  },
  {
   "cell_type": "markdown",
   "metadata": {},
   "source": [
    "## 5.8 集合\n",
    "集合（set）是一种可迭代的、无序的、不能包含重复元素的容器类 型的数据。\n",
    "### 5.8.1 组合数据类型\n",
    "Python组合数据类型包含了序列类型、字典类型和集合类型。Python的列表、元组和字符串都是序列类型。"
   ]
  },
  {
   "cell_type": "code",
   "execution_count": 54,
   "metadata": {},
   "outputs": [
    {
     "name": "stdout",
     "output_type": "stream",
     "text": [
      "2019 Tesla Model S\n",
      "2019 Tesla Model S\n"
     ]
    }
   ],
   "source": [
    "class Car:\n",
    "    def __init__(self, make, model, year):\n",
    "        self.make = make\n",
    "        self.model = model\n",
    "        self.year = year\n",
    "        self.odometer_reading = 0\n",
    "    def get_descriptive_name(self):\n",
    "        long_name = f\"{self.year} {self.make} {self.model}\"\n",
    "        return long_name.title()\n",
    "\n",
    "class ElectricCar(Car):\n",
    "    def __init__(self, make, model, year):\n",
    "        super().__init__(make, model, year)\n",
    "\n",
    "my_tesla = ElectricCar('tesla', 'model s', 2019)\n",
    "print(my_tesla.get_descriptive_name())\n",
    "print(my_tesla.get_descriptive_name())"
   ]
  },
  {
   "cell_type": "markdown",
   "metadata": {},
   "source": [
    "### 5.8.2 集合\n",
    "![](img/5-set.png)\n",
    "- 集合类型与数学中集合的概念一致。是一组元素的集合，元素之间无序，每个元素都必须是独一无二的。\n",
    "- 集合没有索引和位置的概念，也不能分片。集合中元素可以增加或删除。\n",
    "- 集合用大括号表示，可以用赋值语句生成一个集合。\n",
    "- 例如：aset= {'apple', 'orange', 'apple', 'pear', 'orange', 'banana'}\n",
    "- 或者用函数set()创建集合。\n",
    "- 例如：bset = set()\n",
    "- 注意：创建一个空集合必须用set()，而不是{}，因为{}被用来创建一个空字典。\n"
   ]
  },
  {
   "cell_type": "code",
   "execution_count": null,
   "metadata": {},
   "outputs": [],
   "source": []
  },
  {
   "cell_type": "markdown",
   "metadata": {},
   "source": [
    "#### 集合的特征\n",
    "- 集合是具有无序和互异的特征。\n",
    "- 无序：集合内的元素没有顺序。  \n",
    "          例如｛1，3，2｝和｛1，2，3｝是同一个集合。\n",
    "- 互异：集合没有相同的两个元素。  \n",
    "          例如｛1，3，3｝和｛1，3｝是同一个集合。\n",
    "- 集合类型不包含重复元素，因此，当需要对数据进行去重处理时，可通过集合来完成。\n",
    "![](img/5-set-1.png)"
   ]
  },
  {
   "cell_type": "code",
   "execution_count": null,
   "metadata": {},
   "outputs": [],
   "source": []
  },
  {
   "cell_type": "markdown",
   "metadata": {},
   "source": [
    "#### 集合与列表"
   ]
  },
  {
   "cell_type": "code",
   "execution_count": null,
   "metadata": {},
   "outputs": [],
   "source": []
  },
  {
   "cell_type": "markdown",
   "metadata": {},
   "source": [
    "#### 创建集合\n",
    "我们可以通过以下两种方式创建集合。 \n",
    "- 1 set（iterable）函数：参数iterable是可迭代对象（字符串、列表、 元组、集合和字典等）。   \n",
    "- 2 {元素1，元素2，元素3，⋯}：指定具体的集合元素，元素之间以 逗号分隔。对于集合元素，需要使用大括号括起来。  \n",
    "\n",
    "实例如下：\n",
    "- 怎么知道有多少支球队曾经获得过奥运会女排冠军？\n",
    "- 我们把球队放入集合中，定义一个集合teams，代码如下。  \n",
    "teams = {'日本','苏联','苏联','日本','苏联','中国','苏联',\n",
    "         '古巴','古巴','古巴','中国','巴西','巴西','中国',} \n",
    "print('有多少支曾经获得过奥运会女排冠军球队:',len(teams))  \n",
    "print(teams)  \n",
    "- 这是一个集合，按照集合的特性，会自动过滤掉了相同的数据，得到了不同的球队。\n"
   ]
  },
  {
   "cell_type": "code",
   "execution_count": null,
   "metadata": {},
   "outputs": [],
   "source": []
  },
  {
   "cell_type": "markdown",
   "metadata": {},
   "source": [
    "#### 增加集合元素\n",
    "add（elem）：添加元素，如果元素已经存在，则不能添加，不会 抛出错误。"
   ]
  },
  {
   "cell_type": "code",
   "execution_count": null,
   "metadata": {},
   "outputs": [],
   "source": []
  },
  {
   "cell_type": "markdown",
   "metadata": {},
   "source": [
    "#### 删除集合元素\n",
    "remove（elem）：删除元素，如果元素不存在，则抛出错误。   \n",
    "clear（）：清除集合。"
   ]
  },
  {
   "cell_type": "code",
   "execution_count": null,
   "metadata": {},
   "outputs": [],
   "source": []
  },
  {
   "cell_type": "markdown",
   "metadata": {},
   "source": [
    "#### 成员关系"
   ]
  },
  {
   "cell_type": "code",
   "execution_count": null,
   "metadata": {},
   "outputs": [],
   "source": []
  },
  {
   "cell_type": "markdown",
   "metadata": {},
   "source": [
    "#### 集合的交集"
   ]
  },
  {
   "cell_type": "code",
   "execution_count": null,
   "metadata": {},
   "outputs": [],
   "source": []
  },
  {
   "cell_type": "markdown",
   "metadata": {},
   "source": [
    "#### 集合的并集"
   ]
  },
  {
   "cell_type": "code",
   "execution_count": null,
   "metadata": {},
   "outputs": [],
   "source": []
  },
  {
   "cell_type": "markdown",
   "metadata": {},
   "source": [
    "#### 集合的差集"
   ]
  },
  {
   "cell_type": "code",
   "execution_count": null,
   "metadata": {},
   "outputs": [],
   "source": []
  },
  {
   "cell_type": "markdown",
   "metadata": {},
   "source": [
    "#### 复合数据类型（容器类型）的总结\n",
    "![](img/5-types.png)"
   ]
  },
  {
   "cell_type": "markdown",
   "metadata": {},
   "source": [
    "## 5.9 课堂练习之创建集合\n",
    "- 1．使用一个集合来存储学生的兴趣爱好Hobbies。输出集合信息。\n",
    "- 2．使用一个字典来存储学生的信息，包括姓名、出生日期和兴趣爱好。\n",
    "- 3．输出集合信息Hobbies，在每一项集合信息后面，输出拥有该项信息的学生姓名和出生日期。\n"
   ]
  },
  {
   "cell_type": "code",
   "execution_count": null,
   "metadata": {},
   "outputs": [],
   "source": []
  },
  {
   "cell_type": "markdown",
   "metadata": {},
   "source": [
    "## 5.10 编程习题"
   ]
  },
  {
   "cell_type": "code",
   "execution_count": null,
   "metadata": {},
   "outputs": [],
   "source": []
  }
 ],
 "metadata": {
  "hide_input": false,
  "kernelspec": {
   "display_name": "Python 3",
   "language": "python",
   "name": "python3"
  },
  "language_info": {
   "codemirror_mode": {
    "name": "ipython",
    "version": 3
   },
   "file_extension": ".py",
   "mimetype": "text/x-python",
   "name": "python",
   "nbconvert_exporter": "python",
   "pygments_lexer": "ipython3",
   "version": "3.8.8"
  },
  "toc": {
   "base_numbering": 1,
   "nav_menu": {},
   "number_sections": false,
   "sideBar": false,
   "skip_h1_title": false,
   "title_cell": "Table of Contents",
   "title_sidebar": "Contents",
   "toc_cell": false,
   "toc_position": {},
   "toc_section_display": false,
   "toc_window_display": false
  },
  "vscode": {
   "interpreter": {
    "hash": "287ce0282b01c1888cda87edf8a6ea705b55de1d257c8ee64a27122feab8970f"
   }
  }
 },
 "nbformat": 4,
 "nbformat_minor": 2
}
