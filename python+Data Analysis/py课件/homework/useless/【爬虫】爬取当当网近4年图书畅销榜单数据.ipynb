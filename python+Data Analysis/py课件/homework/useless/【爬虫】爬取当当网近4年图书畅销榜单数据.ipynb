{
 "cells": [
  {
   "cell_type": "markdown",
   "metadata": {
    "id": "D89B0EAB542642F98900CCC4D4E49360",
    "jupyter": {},
    "notebookId": "6673c4848129d33b690d0258",
    "runtime": {
     "execution_status": null,
     "is_visible": false,
     "status": "default"
    },
    "scrolled": false,
    "slideshow": {
     "slide_type": "slide"
    },
    "tags": []
   },
   "source": [
    "# 前言  \n",
    "\n"
   ]
  },
  {
   "cell_type": "markdown",
   "metadata": {
    "id": "EDCB2C2C8AC1479F83472DEFD3E40322",
    "jupyter": {},
    "notebookId": "6673c4848129d33b690d0258",
    "runtime": {
     "execution_status": null,
     "is_visible": false,
     "status": "default"
    },
    "scrolled": false,
    "slideshow": {
     "slide_type": "slide"
    },
    "tags": []
   },
   "source": [
    "📚提要：  \n",
    "\n",
    "* 本期主要爬一爬当当网网站，看下过去的疫情四年（2020年至2023年），每年的图书畅销榜单TOP500都有哪些书？秉持尽可能多的获取网页上有的信息，满足小伙伴的不同需求，本次一共爬取12个字段数据，非常干货，搬起小板凳搞起来，如有任何问题的话欢迎私信交流；  \n",
    "\n",
    "⏰温馨提示  \n",
    "\n",
    "* 1）网站前端代码会随时变化，可能出现报错情况，爬取代码仅供参考；  \n",
    "* 2）前面几个part环节代码仅作展示，可能存在部分变量未定义报错，若想要运行出结果，建议直接运行最终代码；  \n",
    "* 3）由于部分代码过长，隐藏其中一部分，可点击运行Fork查看哦~；  \n",
    "\n",
    "🏠个人专栏  \n",
    "* [数分小白龙🐉](https://www.heywhale.com/home/column/65f93aebe948b593299975ec?shareby=5f0a61d72be199002c073935)  \n",
    "\n",
    "📖其他爬虫项目推荐  👇👇  \n",
    "* [【爬虫】中国电影市场近10年票房榜单数据](https://www.heywhale.com/mw/project/6627bd4aa67e459494d84abc)  \n",
    "* [【爬虫】当当网2020-2023年畅销图书榜单](https://www.heywhale.com/mw/project/65f6fae03e36b30ae9e7e80e)  \n",
    "* [【爬虫】链家网上海市在售新房楼盘数据](https://www.heywhale.com/mw/project/6628a7f95c42defa7a974592)  \n",
    "* [【爬虫】华为Pura70微博热搜帖子数据（进阶版）](https://www.heywhale.com/mw/project/661e4800a3185f16a0177f2a)  \n",
    "* [【爬虫】国内各品牌汽车销量排行榜单](https://www.heywhale.com/mw/project/6618f95e20e12fcbf348767a)  \n",
    "* [【爬虫】小米雷神微博下网友评论数据](https://www.heywhale.com/mw/project/65f94992e948b593299bdfe9)  \n",
    "* [【爬虫】微博<任意关键词>相关帖子数据（基础版）](https://www.heywhale.com/mw/project/65f1978693f67e9a14b3c836)  \n",
    "* [【爬虫】交通局民航生产指标数据](https://www.heywhale.com/mw/project/65f1abc1617433dc66366aec)  \n",
    "* [【爬虫】携程飞机航班数据](https://www.heywhale.com/mw/project/65f1a8b693f67e9a14b56535)  \n",
    "* [【爬虫】安居客南京市在售房源数据](https://www.heywhale.com/mw/project/61bc07037e520c001798623c)  \n",
    "* [【爬虫】房天下武汉市在售房源数据](https://www.heywhale.com/mw/project/624009ad40f3c800183801a6)  \n",
    "* [【爬虫】Python零基础入门爬虫（含基础+五大案例）](https://www.heywhale.com/mw/project/60be1fa8acdcb3001707b133)  "
   ]
  },
  {
   "cell_type": "markdown",
   "metadata": {
    "id": "3CF07C35EA404D9BAD3958E86B566A2B",
    "jupyter": {},
    "notebookId": "6673c4848129d33b690d0258",
    "runtime": {
     "execution_status": null,
     "is_visible": false,
     "status": "default"
    },
    "scrolled": false,
    "slideshow": {
     "slide_type": "slide"
    },
    "tags": []
   },
   "source": [
    "# Part 1 目标网站"
   ]
  },
  {
   "cell_type": "markdown",
   "metadata": {
    "id": "85806651F4F5464AB0992E533FDB4B40",
    "jupyter": {},
    "notebookId": "6673c4848129d33b690d0258",
    "runtime": {
     "execution_status": null,
     "is_visible": false,
     "status": "default"
    },
    "scrolled": false,
    "slideshow": {
     "slide_type": "slide"
    },
    "tags": []
   },
   "source": [
    "爬取的网站url = 'http://bang.dangdang.com/books/bestsellers/01.00.00.00.00.00-year-2023-0-1-1'"
   ]
  },
  {
   "cell_type": "markdown",
   "metadata": {
    "id": "544F07E7F25F4779BC4D36A700A23372",
    "jupyter": {},
    "notebookId": "6673c4848129d33b690d0258",
    "runtime": {
     "execution_status": null,
     "is_visible": false,
     "status": "default"
    },
    "scrolled": false,
    "slideshow": {
     "slide_type": "slide"
    },
    "tags": []
   },
   "source": [
    "![Image Name](https://cdn.kesci.com/upload/seb0rwwgk0.png?imageView2/0/w/960/h/960)"
   ]
  },
  {
   "cell_type": "markdown",
   "metadata": {
    "id": "E4946C96BE2A4F17821BEE55B016078B",
    "jupyter": {},
    "notebookId": "6673c4848129d33b690d0258",
    "runtime": {
     "execution_status": null,
     "is_visible": false,
     "status": "default"
    },
    "scrolled": false,
    "slideshow": {
     "slide_type": "slide"
    },
    "tags": []
   },
   "source": [
    "# Part 2 网站解析"
   ]
  },
  {
   "cell_type": "markdown",
   "metadata": {
    "id": "1C06F3CD51014E83B511BE33FE1F3188",
    "jupyter": {},
    "notebookId": "6673c4848129d33b690d0258",
    "runtime": {
     "execution_status": null,
     "is_visible": false,
     "status": "default"
    },
    "scrolled": false,
    "slideshow": {
     "slide_type": "slide"
    },
    "tags": []
   },
   "source": [
    "本次主要爬取的字段有：年份、书籍排行、书名、评论数、推荐值、作者、出版日期、出版社、原价、折扣价、折扣比例、电子书价格共12个字段；"
   ]
  },
  {
   "cell_type": "markdown",
   "metadata": {
    "id": "BA13263A55E6418C9044E7B035166668",
    "jupyter": {},
    "notebookId": "6673c4848129d33b690d0258",
    "runtime": {
     "execution_status": null,
     "is_visible": false,
     "status": "default"
    },
    "scrolled": false,
    "slideshow": {
     "slide_type": "slide"
    },
    "tags": []
   },
   "source": [
    "\n",
    "![Image Name](https://cdn.kesci.com/upload/seb0t0qceg.png?imageView2/0/w/960/h/960)  \n"
   ]
  },
  {
   "cell_type": "markdown",
   "metadata": {
    "id": "CE63BC41341849AA96DDED6B67580E65",
    "jupyter": {},
    "notebookId": "6673c4848129d33b690d0258",
    "runtime": {
     "execution_status": null,
     "is_visible": false,
     "status": "default"
    },
    "scrolled": false,
    "slideshow": {
     "slide_type": "slide"
    },
    "tags": []
   },
   "source": [
    "通过检查网页源码发现，当当网是静态网页，只需在doc里找到html文件，依次搜索相关指标字段即可完成查询；"
   ]
  },
  {
   "cell_type": "markdown",
   "metadata": {
    "id": "3FD799349E9B42E8AFD941A72BB48E41",
    "jupyter": {},
    "notebookId": "6673c4848129d33b690d0258",
    "runtime": {
     "execution_status": null,
     "is_visible": false,
     "status": "default"
    },
    "scrolled": false,
    "slideshow": {
     "slide_type": "slide"
    },
    "tags": []
   },
   "source": [
    "# Part 3 多页爬取  \n",
    "\n",
    "本次有两处涉及循环多页爬取的地方：1：遍历每个年份，从2020年至2023年；2、遍历每年的图书榜单，共计25页；"
   ]
  },
  {
   "cell_type": "markdown",
   "metadata": {
    "id": "A8ECE566AFA84598891CC728A1DB34A0",
    "jupyter": {},
    "notebookId": "6673c4848129d33b690d0258",
    "runtime": {
     "execution_status": null,
     "is_visible": false,
     "status": "default"
    },
    "scrolled": false,
    "slideshow": {
     "slide_type": "slide"
    },
    "tags": []
   },
   "source": [
    "## 年份遍历  \n",
    "\n",
    "发现不同年份之间的url的唯一不同就是year后面的数字不一样；"
   ]
  },
  {
   "cell_type": "markdown",
   "metadata": {
    "id": "EAD86484855243A8AC7BD6C06F9B4098",
    "jupyter": {},
    "notebookId": "6673c4848129d33b690d0258",
    "runtime": {
     "execution_status": null,
     "is_visible": false,
     "status": "default"
    },
    "scrolled": false,
    "slideshow": {
     "slide_type": "slide"
    },
    "tags": []
   },
   "source": [
    "\n",
    "http://bang.dangdang.com/books/bestsellers/01.00.00.00.00.00-year-2020-0-1-1  \n",
    "http://bang.dangdang.com/books/bestsellers/01.00.00.00.00.00-year-2021-0-1-1  \n",
    "http://bang.dangdang.com/books/bestsellers/01.00.00.00.00.00-year-2022-0-1-1  \n",
    "http://bang.dangdang.com/books/bestsellers/01.00.00.00.00.00-year-2023-0-1-1"
   ]
  },
  {
   "cell_type": "markdown",
   "metadata": {
    "id": "B864888A6C244624B2F559048ACC448F",
    "jupyter": {},
    "notebookId": "6673c4848129d33b690d0258",
    "runtime": {
     "execution_status": null,
     "is_visible": false,
     "status": "default"
    },
    "scrolled": false,
    "slideshow": {
     "slide_type": "slide"
    },
    "tags": []
   },
   "source": [
    "## 页面遍历  \n",
    "\n",
    "遍历页面的话，是最后一个数字不一样；"
   ]
  },
  {
   "cell_type": "markdown",
   "metadata": {
    "id": "255DE3D0ACDF42399DBD299CB74AFFCD",
    "jupyter": {},
    "notebookId": "6673c4848129d33b690d0258",
    "runtime": {
     "execution_status": null,
     "is_visible": false,
     "status": "default"
    },
    "scrolled": false,
    "slideshow": {
     "slide_type": "slide"
    },
    "tags": []
   },
   "source": [
    "http://bang.dangdang.com/books/bestsellers/01.00.00.00.00.00-year-2023-0-1-1  \n",
    "http://bang.dangdang.com/books/bestsellers/01.00.00.00.00.00-year-2023-0-1-2  \n",
    "http://bang.dangdang.com/books/bestsellers/01.00.00.00.00.00-year-2023-0-1-3  \n",
    "http://bang.dangdang.com/books/bestsellers/01.00.00.00.00.00-year-2023-0-1-4"
   ]
  },
  {
   "cell_type": "markdown",
   "metadata": {
    "id": "378EB241740E4CA5BDDE873F434F64A6",
    "jupyter": {},
    "notebookId": "6673c4848129d33b690d0258",
    "runtime": {
     "execution_status": null,
     "is_visible": false,
     "status": "default"
    },
    "scrolled": false,
    "slideshow": {
     "slide_type": "slide"
    },
    "tags": []
   },
   "source": [
    "因此，可以写成http://bang.dangdang.com/books/bestsellers/01.00.00.00.00.00-{year}-{page}这样的通用URL；"
   ]
  },
  {
   "cell_type": "markdown",
   "metadata": {
    "id": "034DAD4390304A5E96CF27BD92CDE55A",
    "jupyter": {},
    "notebookId": "6673c4848129d33b690d0258",
    "runtime": {
     "execution_status": null,
     "is_visible": false,
     "status": "default"
    },
    "scrolled": false,
    "slideshow": {
     "slide_type": "slide"
    },
    "tags": []
   },
   "source": [
    "# Part 4 完整代码"
   ]
  },
  {
   "cell_type": "markdown",
   "metadata": {
    "id": "70EEC28DE5674118B10DFE7FEA43CFBD",
    "jupyter": {},
    "notebookId": "6673c4848129d33b690d0258",
    "runtime": {
     "execution_status": null,
     "is_visible": false,
     "status": "default"
    },
    "scrolled": false,
    "slideshow": {
     "slide_type": "slide"
    },
    "tags": []
   },
   "source": [
    "## 导入模块"
   ]
  },
  {
   "cell_type": "code",
   "execution_count": 1,
   "metadata": {
    "id": "E3B9F2F491DA4691A2230C2E42C2924D",
    "jupyter": {},
    "notebookId": "6673c4848129d33b690d0258",
    "scrolled": false,
    "slideshow": {
     "slide_type": "slide"
    },
    "tags": []
   },
   "outputs": [],
   "source": [
    "from lxml import etree\n",
    "import requests\n",
    "import random\n",
    "import time\n",
    "import csv\n",
    "import pandas as pd \n",
    "import numpy as np\n",
    "import re\n",
    "import os"
   ]
  },
  {
   "cell_type": "markdown",
   "metadata": {
    "id": "B369BC4843B047F99DE9BC86CD27A5F5",
    "jupyter": {},
    "notebookId": "6673c4848129d33b690d0258",
    "runtime": {
     "execution_status": null,
     "is_visible": false,
     "status": "default"
    },
    "scrolled": false,
    "slideshow": {
     "slide_type": "slide"
    },
    "tags": []
   },
   "source": [
    "## 设置请求头"
   ]
  },
  {
   "cell_type": "code",
   "execution_count": 2,
   "metadata": {
    "id": "AB89EE70717240ABA6EFBDC60EE7DCB6",
    "jupyter": {},
    "notebookId": "6673c4848129d33b690d0258",
    "scrolled": false,
    "slideshow": {
     "slide_type": "slide"
    },
    "tags": []
   },
   "outputs": [],
   "source": [
    "cookies = {\n",
    "    'ddscreen': '2',\n",
    "    'ddscreen': '2',\n",
    "    'dest_area': 'country_id%3D9000%26province_id%3D111%26city_id%20%3D0%26district_id%3D0%26town_id%3D0',\n",
    "    '__permanent_id': '20240423210658530124490989268736883',\n",
    "    'MDD_channelId': '70000',\n",
    "    'MDD_fromPlatform': '307',\n",
    "    'ddscreen': '2',\n",
    "    '__visit_id': '20240530154038979262380281306734049',\n",
    "    '__out_refer': '',\n",
    "    '__rpm': '...1717054859559%7C...1717054899777',\n",
    "    '__trace_id': '20240530154142377181404279783243769',\n",
    "}\n",
    "\n",
    "headers = {\n",
    "    'Accept': 'text/html,application/xhtml+xml,application/xml;q=0.9,image/avif,image/webp,image/apng,*/*;q=0.8,application/signed-exchange;v=b3;q=0.7',\n",
    "    'Accept-Language': 'zh-CN,zh;q=0.9',\n",
    "    'Cache-Control': 'max-age=0',\n",
    "    'Connection': 'keep-alive',\n",
    "    # 'Cookie': 'ddscreen=2; ddscreen=2; dest_area=country_id%3D9000%26province_id%3D111%26city_id%20%3D0%26district_id%3D0%26town_id%3D0; __permanent_id=20240423210658530124490989268736883; MDD_channelId=70000; MDD_fromPlatform=307; ddscreen=2; __visit_id=20240530154038979262380281306734049; __out_refer=; __rpm=...1717054859559%7C...1717054899777; __trace_id=20240530154142377181404279783243769',\n",
    "    'Upgrade-Insecure-Requests': '1',\n",
    "    'User-Agent': 'Mozilla/5.0 (Macintosh; Intel Mac OS X 10_15_7) AppleWebKit/537.36 (KHTML, like Gecko) Chrome/125.0.0.0 Safari/537.36',\n",
    "}"
   ]
  },
  {
   "cell_type": "markdown",
   "metadata": {
    "id": "F83A752FC1194861A695E9DA0FDCFCCC",
    "jupyter": {},
    "notebookId": "6673c4848129d33b690d0258",
    "runtime": {
     "execution_status": null,
     "is_visible": false,
     "status": "default"
    },
    "scrolled": false,
    "slideshow": {
     "slide_type": "slide"
    },
    "tags": []
   },
   "source": [
    "## 爬取及解析函数"
   ]
  },
  {
   "cell_type": "code",
   "execution_count": 3,
   "metadata": {
    "id": "27137B224CCC4B09810105429D6E68A1",
    "jupyter": {},
    "notebookId": "6673c4848129d33b690d0258",
    "scrolled": false,
    "slideshow": {
     "slide_type": "slide"
    },
    "tags": []
   },
   "outputs": [],
   "source": [
    "def SpiderData(url):\n",
    "    response = requests.get(\n",
    "        url,\n",
    "        cookies=cookies,\n",
    "        headers=headers,\n",
    "        verify=False,\n",
    "    )\n",
    "    page_text = response.text\n",
    "    return page_text"
   ]
  },
  {
   "cell_type": "markdown",
   "metadata": {
    "id": "1016C93CB02349EB9CF0B760C600B64A",
    "jupyter": {},
    "notebookId": "6673c4848129d33b690d0258",
    "runtime": {
     "execution_status": null,
     "is_visible": false,
     "status": "default"
    },
    "scrolled": false,
    "slideshow": {
     "slide_type": "slide"
    },
    "tags": []
   },
   "source": [
    "👇👇下面解析函数代码过长，仅展示一部分，详细代码可以点击右上角【Fork】按钮查看哈～"
   ]
  },
  {
   "cell_type": "markdown",
   "metadata": {
    "id": "FCC691AC20F54121A68178BA76D9C8E5",
    "jupyter": {},
    "notebookId": "6673c4848129d33b690d0258",
    "runtime": {
     "execution_status": null,
     "is_visible": false,
     "status": "default"
    },
    "scrolled": false,
    "slideshow": {
     "slide_type": "slide"
    },
    "tags": []
   },
   "source": [
    "\n",
    "![Image Name](https://cdn.kesci.com/upload/seb0x6tirj.png?imageView2/0/w/960/h/960)  \n"
   ]
  },
  {
   "cell_type": "code",
   "execution_count": 4,
   "metadata": {
    "hide_input": true,
    "id": "F69F2D0032BA4C45BDFD6EB9D6C2E9DE",
    "jupyter": {},
    "notebookId": "6673c4848129d33b690d0258",
    "scrolled": false,
    "slideshow": {
     "slide_type": "slide"
    },
    "tags": []
   },
   "outputs": [],
   "source": [
    "def ParseData(page_text,key):\n",
    "    tree = etree.HTML(page_text)\n",
    "    lis = tree.xpath('.//ul[@class=\"bang_list clearfix bang_list_mode\"]/li')\n",
    "    rank, name, comments, recommends, author, publish_date, publish_house, original_price, discount_price, discount, ebook_price = [[] for i in range(11)]\n",
    "    for li in lis:\n",
    "        rank.append(''.join(li.xpath('.//div[@class=\"list_num red\" or @class=\"list_num \"]/text()')).replace('.',''))\n",
    "        name.append(''.join(li.xpath('.//div[@class=\"name\"]/a/text()')))\n",
    "        comments.append(''.join(li.xpath('.//div[@class=\"star\"]/a/text()')).split('条')[0])\n",
    "        recommends.append(''.join(li.xpath('.//div[@class=\"star\"]/span/text()')).split('推荐')[0])\n",
    "        author.append(''.join(li.xpath('.//div[@class=\"publisher_info\"][1]/a[1]/text()')))\n",
    "        publish_date.append(''.join(li.xpath('.//div[@class=\"publisher_info\"][2]/span/text()')))\n",
    "        publish_house.append(''.join(li.xpath('.//div[@class=\"publisher_info\"][2]/a/text()')))\n",
    "        original_price.append(''.join(li.xpath('.//div[@class=\"price\"]/p[1]/span[1]/text()')).replace(\"¥\", \"\"))\n",
    "        discount_price.append(''.join(li.xpath('.//span[@class=\"price_r\"]/text()')).replace(\"¥\", \"\"))\n",
    "        discount.append(''.join(li.xpath('.//span[@class=\"price_s\"]/text()')))\n",
    "        ebook_price.append(''.join(li.xpath('./div[@class=\"price\"]/p[@class=\"price_e\"]/span[@class=\"price_n\"]/text()')).replace(\"¥\", \"\"))\n",
    "\n",
    "    # print(original_price)\n",
    "    #print(len(rank),len(name),len(comments),len(recommends),len(author),len(publish_date),len(publish_date),len(original_price),len(discount_price),len(discount))\n",
    "\n",
    "    # 保存数据\n",
    "    dic = {\n",
    "        '排行榜类型':key,\n",
    "        '排序':rank, \n",
    "        '书名':name, \n",
    "        '评论数':comments,\n",
    "        '推荐值':recommends, \n",
    "        '作者':author, \n",
    "        '出版日期':publish_date, \n",
    "        '出版社':publish_date, \n",
    "        '原价':original_price,\n",
    "        '折扣价':discount_price, \n",
    "        '折扣比例':discount,\n",
    "        '电子书价格':ebook_price\n",
    "    }\n",
    "    df1 = pd.DataFrame(dic)\n",
    "    return df1"
   ]
  },
  {
   "cell_type": "markdown",
   "metadata": {
    "id": "EAF1C49391224FE7A95A01660A353C5A",
    "jupyter": {},
    "notebookId": "6673c4848129d33b690d0258",
    "runtime": {
     "execution_status": null,
     "is_visible": false,
     "status": "default"
    },
    "scrolled": false,
    "slideshow": {
     "slide_type": "slide"
    },
    "tags": []
   },
   "source": [
    "## 主函数"
   ]
  },
  {
   "cell_type": "code",
   "execution_count": 5,
   "metadata": {
    "id": "16BEDEF83DF24B65ABB0E52615CECDCB",
    "jupyter": {},
    "notebookId": "6673c4848129d33b690d0258",
    "scrolled": false,
    "slideshow": {
     "slide_type": "slide"
    },
    "tags": []
   },
   "outputs": [
    {
     "name": "stdout",
     "output_type": "stream",
     "text": [
      "=====================开始爬2020年榜单数据===================\n",
      "*****************开始爬取第1页数据*****************\n",
      "*********第1页数据爬取完成，爬取20条数据，目前共爬取20条数据**********\n",
      "*****************开始爬取第2页数据*****************\n",
      "*********第2页数据爬取完成，爬取20条数据，目前共爬取40条数据**********\n",
      "*****************开始爬取第3页数据*****************\n",
      "*********第3页数据爬取完成，爬取20条数据，目前共爬取60条数据**********\n",
      "*****************开始爬取第4页数据*****************\n",
      "*********第4页数据爬取完成，爬取20条数据，目前共爬取80条数据**********\n",
      "*****************开始爬取第5页数据*****************\n",
      "*********第5页数据爬取完成，爬取20条数据，目前共爬取100条数据**********\n",
      "*****************开始爬取第6页数据*****************\n",
      "*********第6页数据爬取完成，爬取20条数据，目前共爬取120条数据**********\n",
      "*****************开始爬取第7页数据*****************\n",
      "*********第7页数据爬取完成，爬取20条数据，目前共爬取140条数据**********\n",
      "*****************开始爬取第8页数据*****************\n",
      "*********第8页数据爬取完成，爬取20条数据，目前共爬取160条数据**********\n",
      "*****************开始爬取第9页数据*****************\n",
      "*********第9页数据爬取完成，爬取20条数据，目前共爬取180条数据**********\n",
      "*****************开始爬取第10页数据*****************\n",
      "*********第10页数据爬取完成，爬取20条数据，目前共爬取200条数据**********\n",
      "*****************开始爬取第11页数据*****************\n",
      "*********第11页数据爬取完成，爬取20条数据，目前共爬取220条数据**********\n",
      "*****************开始爬取第12页数据*****************\n",
      "*********第12页数据爬取完成，爬取20条数据，目前共爬取240条数据**********\n",
      "*****************开始爬取第13页数据*****************\n",
      "*********第13页数据爬取完成，爬取20条数据，目前共爬取260条数据**********\n",
      "*****************开始爬取第14页数据*****************\n",
      "*********第14页数据爬取完成，爬取20条数据，目前共爬取280条数据**********\n",
      "*****************开始爬取第15页数据*****************\n",
      "*********第15页数据爬取完成，爬取20条数据，目前共爬取300条数据**********\n",
      "*****************开始爬取第16页数据*****************\n",
      "*********第16页数据爬取完成，爬取20条数据，目前共爬取320条数据**********\n",
      "*****************开始爬取第17页数据*****************\n",
      "*********第17页数据爬取完成，爬取20条数据，目前共爬取340条数据**********\n",
      "*****************开始爬取第18页数据*****************\n",
      "*********第18页数据爬取完成，爬取20条数据，目前共爬取360条数据**********\n",
      "*****************开始爬取第19页数据*****************\n",
      "*********第19页数据爬取完成，爬取20条数据，目前共爬取380条数据**********\n",
      "*****************开始爬取第20页数据*****************\n",
      "*********第20页数据爬取完成，爬取20条数据，目前共爬取400条数据**********\n",
      "*****************开始爬取第21页数据*****************\n",
      "*********第21页数据爬取完成，爬取20条数据，目前共爬取420条数据**********\n",
      "*****************开始爬取第22页数据*****************\n",
      "*********第22页数据爬取完成，爬取20条数据，目前共爬取440条数据**********\n",
      "*****************开始爬取第23页数据*****************\n",
      "*********第23页数据爬取完成，爬取20条数据，目前共爬取460条数据**********\n",
      "*****************开始爬取第24页数据*****************\n",
      "*********第24页数据爬取完成，爬取20条数据，目前共爬取480条数据**********\n",
      "*****************开始爬取第25页数据*****************\n",
      "*********第25页数据爬取完成，爬取20条数据，目前共爬取500条数据**********\n",
      "==================2020年榜单数据爬取完成，共有500条数据===================\n",
      "=====================开始爬2021年榜单数据===================\n",
      "*****************开始爬取第1页数据*****************\n",
      "*********第1页数据爬取完成，爬取20条数据，目前共爬取520条数据**********\n",
      "*****************开始爬取第2页数据*****************\n",
      "*********第2页数据爬取完成，爬取20条数据，目前共爬取540条数据**********\n",
      "*****************开始爬取第3页数据*****************\n",
      "*********第3页数据爬取完成，爬取20条数据，目前共爬取560条数据**********\n",
      "*****************开始爬取第4页数据*****************\n",
      "*********第4页数据爬取完成，爬取20条数据，目前共爬取580条数据**********\n",
      "*****************开始爬取第5页数据*****************\n",
      "*********第5页数据爬取完成，爬取20条数据，目前共爬取600条数据**********\n",
      "*****************开始爬取第6页数据*****************\n",
      "*********第6页数据爬取完成，爬取20条数据，目前共爬取620条数据**********\n",
      "*****************开始爬取第7页数据*****************\n",
      "*********第7页数据爬取完成，爬取20条数据，目前共爬取640条数据**********\n",
      "*****************开始爬取第8页数据*****************\n",
      "*********第8页数据爬取完成，爬取20条数据，目前共爬取660条数据**********\n",
      "*****************开始爬取第9页数据*****************\n",
      "*********第9页数据爬取完成，爬取20条数据，目前共爬取680条数据**********\n",
      "*****************开始爬取第10页数据*****************\n",
      "*********第10页数据爬取完成，爬取20条数据，目前共爬取700条数据**********\n",
      "*****************开始爬取第11页数据*****************\n",
      "*********第11页数据爬取完成，爬取20条数据，目前共爬取720条数据**********\n",
      "*****************开始爬取第12页数据*****************\n",
      "*********第12页数据爬取完成，爬取20条数据，目前共爬取740条数据**********\n",
      "*****************开始爬取第13页数据*****************\n",
      "*********第13页数据爬取完成，爬取20条数据，目前共爬取760条数据**********\n",
      "*****************开始爬取第14页数据*****************\n",
      "*********第14页数据爬取完成，爬取20条数据，目前共爬取780条数据**********\n",
      "*****************开始爬取第15页数据*****************\n",
      "*********第15页数据爬取完成，爬取20条数据，目前共爬取800条数据**********\n",
      "*****************开始爬取第16页数据*****************\n",
      "*********第16页数据爬取完成，爬取20条数据，目前共爬取820条数据**********\n",
      "*****************开始爬取第17页数据*****************\n",
      "*********第17页数据爬取完成，爬取20条数据，目前共爬取840条数据**********\n",
      "*****************开始爬取第18页数据*****************\n",
      "*********第18页数据爬取完成，爬取20条数据，目前共爬取860条数据**********\n",
      "*****************开始爬取第19页数据*****************\n",
      "*********第19页数据爬取完成，爬取20条数据，目前共爬取880条数据**********\n",
      "*****************开始爬取第20页数据*****************\n",
      "*********第20页数据爬取完成，爬取20条数据，目前共爬取900条数据**********\n",
      "*****************开始爬取第21页数据*****************\n",
      "*********第21页数据爬取完成，爬取20条数据，目前共爬取920条数据**********\n",
      "*****************开始爬取第22页数据*****************\n",
      "*********第22页数据爬取完成，爬取20条数据，目前共爬取940条数据**********\n",
      "*****************开始爬取第23页数据*****************\n",
      "*********第23页数据爬取完成，爬取20条数据，目前共爬取960条数据**********\n",
      "*****************开始爬取第24页数据*****************\n",
      "*********第24页数据爬取完成，爬取20条数据，目前共爬取980条数据**********\n",
      "*****************开始爬取第25页数据*****************\n",
      "*********第25页数据爬取完成，爬取20条数据，目前共爬取1000条数据**********\n",
      "==================2021年榜单数据爬取完成，共有1000条数据===================\n",
      "=====================开始爬2022年榜单数据===================\n",
      "*****************开始爬取第1页数据*****************\n",
      "*********第1页数据爬取完成，爬取20条数据，目前共爬取1020条数据**********\n",
      "*****************开始爬取第2页数据*****************\n",
      "*********第2页数据爬取完成，爬取20条数据，目前共爬取1040条数据**********\n",
      "*****************开始爬取第3页数据*****************\n",
      "*********第3页数据爬取完成，爬取20条数据，目前共爬取1060条数据**********\n",
      "*****************开始爬取第4页数据*****************\n",
      "*********第4页数据爬取完成，爬取20条数据，目前共爬取1080条数据**********\n",
      "*****************开始爬取第5页数据*****************\n",
      "*********第5页数据爬取完成，爬取20条数据，目前共爬取1100条数据**********\n",
      "*****************开始爬取第6页数据*****************\n",
      "*********第6页数据爬取完成，爬取20条数据，目前共爬取1120条数据**********\n",
      "*****************开始爬取第7页数据*****************\n",
      "*********第7页数据爬取完成，爬取20条数据，目前共爬取1140条数据**********\n",
      "*****************开始爬取第8页数据*****************\n",
      "*********第8页数据爬取完成，爬取20条数据，目前共爬取1160条数据**********\n",
      "*****************开始爬取第9页数据*****************\n",
      "*********第9页数据爬取完成，爬取20条数据，目前共爬取1180条数据**********\n",
      "*****************开始爬取第10页数据*****************\n",
      "*********第10页数据爬取完成，爬取20条数据，目前共爬取1200条数据**********\n",
      "*****************开始爬取第11页数据*****************\n",
      "*********第11页数据爬取完成，爬取20条数据，目前共爬取1220条数据**********\n",
      "*****************开始爬取第12页数据*****************\n",
      "*********第12页数据爬取完成，爬取20条数据，目前共爬取1240条数据**********\n",
      "*****************开始爬取第13页数据*****************\n",
      "*********第13页数据爬取完成，爬取20条数据，目前共爬取1260条数据**********\n",
      "*****************开始爬取第14页数据*****************\n",
      "*********第14页数据爬取完成，爬取20条数据，目前共爬取1280条数据**********\n",
      "*****************开始爬取第15页数据*****************\n",
      "*********第15页数据爬取完成，爬取20条数据，目前共爬取1300条数据**********\n",
      "*****************开始爬取第16页数据*****************\n",
      "*********第16页数据爬取完成，爬取20条数据，目前共爬取1320条数据**********\n",
      "*****************开始爬取第17页数据*****************\n",
      "*********第17页数据爬取完成，爬取20条数据，目前共爬取1340条数据**********\n",
      "*****************开始爬取第18页数据*****************\n",
      "*********第18页数据爬取完成，爬取20条数据，目前共爬取1360条数据**********\n",
      "*****************开始爬取第19页数据*****************\n",
      "*********第19页数据爬取完成，爬取20条数据，目前共爬取1380条数据**********\n",
      "*****************开始爬取第20页数据*****************\n",
      "*********第20页数据爬取完成，爬取20条数据，目前共爬取1400条数据**********\n",
      "*****************开始爬取第21页数据*****************\n",
      "*********第21页数据爬取完成，爬取20条数据，目前共爬取1420条数据**********\n",
      "*****************开始爬取第22页数据*****************\n",
      "*********第22页数据爬取完成，爬取20条数据，目前共爬取1440条数据**********\n",
      "*****************开始爬取第23页数据*****************\n",
      "*********第23页数据爬取完成，爬取20条数据，目前共爬取1460条数据**********\n",
      "*****************开始爬取第24页数据*****************\n",
      "*********第24页数据爬取完成，爬取20条数据，目前共爬取1480条数据**********\n",
      "*****************开始爬取第25页数据*****************\n",
      "*********第25页数据爬取完成，爬取20条数据，目前共爬取1500条数据**********\n",
      "==================2022年榜单数据爬取完成，共有1500条数据===================\n",
      "=====================开始爬2023年榜单数据===================\n",
      "*****************开始爬取第1页数据*****************\n",
      "*********第1页数据爬取完成，爬取20条数据，目前共爬取1520条数据**********\n",
      "*****************开始爬取第2页数据*****************\n",
      "*********第2页数据爬取完成，爬取20条数据，目前共爬取1540条数据**********\n",
      "*****************开始爬取第3页数据*****************\n",
      "*********第3页数据爬取完成，爬取20条数据，目前共爬取1560条数据**********\n",
      "*****************开始爬取第4页数据*****************\n",
      "*********第4页数据爬取完成，爬取20条数据，目前共爬取1580条数据**********\n",
      "*****************开始爬取第5页数据*****************\n",
      "*********第5页数据爬取完成，爬取20条数据，目前共爬取1600条数据**********\n",
      "*****************开始爬取第6页数据*****************\n",
      "*********第6页数据爬取完成，爬取20条数据，目前共爬取1620条数据**********\n",
      "*****************开始爬取第7页数据*****************\n",
      "*********第7页数据爬取完成，爬取20条数据，目前共爬取1640条数据**********\n",
      "*****************开始爬取第8页数据*****************\n",
      "*********第8页数据爬取完成，爬取20条数据，目前共爬取1660条数据**********\n",
      "*****************开始爬取第9页数据*****************\n"
     ]
    },
    {
     "name": "stdout",
     "output_type": "stream",
     "text": [
      "*********第9页数据爬取完成，爬取20条数据，目前共爬取1680条数据**********\n",
      "*****************开始爬取第10页数据*****************\n",
      "*********第10页数据爬取完成，爬取20条数据，目前共爬取1700条数据**********\n",
      "*****************开始爬取第11页数据*****************\n",
      "*********第11页数据爬取完成，爬取20条数据，目前共爬取1720条数据**********\n",
      "*****************开始爬取第12页数据*****************\n",
      "*********第12页数据爬取完成，爬取20条数据，目前共爬取1740条数据**********\n",
      "*****************开始爬取第13页数据*****************\n",
      "*********第13页数据爬取完成，爬取20条数据，目前共爬取1760条数据**********\n",
      "*****************开始爬取第14页数据*****************\n",
      "*********第14页数据爬取完成，爬取20条数据，目前共爬取1780条数据**********\n",
      "*****************开始爬取第15页数据*****************\n",
      "*********第15页数据爬取完成，爬取20条数据，目前共爬取1800条数据**********\n",
      "*****************开始爬取第16页数据*****************\n",
      "*********第16页数据爬取完成，爬取20条数据，目前共爬取1820条数据**********\n",
      "*****************开始爬取第17页数据*****************\n",
      "*********第17页数据爬取完成，爬取20条数据，目前共爬取1840条数据**********\n",
      "*****************开始爬取第18页数据*****************\n",
      "*********第18页数据爬取完成，爬取20条数据，目前共爬取1860条数据**********\n",
      "*****************开始爬取第19页数据*****************\n",
      "*********第19页数据爬取完成，爬取20条数据，目前共爬取1880条数据**********\n",
      "*****************开始爬取第20页数据*****************\n",
      "*********第20页数据爬取完成，爬取20条数据，目前共爬取1900条数据**********\n",
      "*****************开始爬取第21页数据*****************\n",
      "*********第21页数据爬取完成，爬取20条数据，目前共爬取1920条数据**********\n",
      "*****************开始爬取第22页数据*****************\n",
      "*********第22页数据爬取完成，爬取20条数据，目前共爬取1940条数据**********\n",
      "*****************开始爬取第23页数据*****************\n",
      "*********第23页数据爬取完成，爬取20条数据，目前共爬取1960条数据**********\n",
      "*****************开始爬取第24页数据*****************\n",
      "*********第24页数据爬取完成，爬取20条数据，目前共爬取1980条数据**********\n",
      "*****************开始爬取第25页数据*****************\n",
      "*********第25页数据爬取完成，爬取20条数据，目前共爬取2000条数据**********\n",
      "==================2023年榜单数据爬取完成，共有2000条数据===================\n"
     ]
    }
   ],
   "source": [
    "if __name__ == \"__main__\":\n",
    "    # 创建空数据框\n",
    "    columns = ['排行榜类型', '排序', '书名', '评论数', '推荐值', '作者', '出版日期', '出版社', '原价','折扣价', '折扣比例', '电子书价格']\n",
    "    df = pd.DataFrame(columns=columns)\n",
    "\n",
    "    book_rank_type = {\n",
    "        \"2020年\": \"year-2020-0-1\",\n",
    "        \"2021年\": \"year-2021-0-1\",\n",
    "        \"2022年\": \"year-2022-0-1\",\n",
    "        \"2023年\": \"year-2023-0-1\"\n",
    "    }\n",
    "\n",
    "    # 循环爬取\n",
    "    for key, value in book_rank_type.items():\n",
    "        print(f'=====================开始爬{key}榜单数据===================')\n",
    "        for page in range(25): # 排行榜共有25页数据\n",
    "            print('*****************开始爬取第{}页数据*****************'.format(page+1))\n",
    "            url = f'http://bang.dangdang.com/books/bestsellers/01.00.00.00.00.00-{value}-{page+1}'\n",
    "            #print(url)\n",
    "            # try:\n",
    "            time.sleep(1)\n",
    "            data = SpiderData(url)\n",
    "            df1 = ParseData(data, key)\n",
    "            k = len(df)\n",
    "            df = pd.concat([df,df1], axis=0)\n",
    "            df.drop_duplicates(subset=None, keep='first', inplace=True)\n",
    "            print('*********第{}页数据爬取完成，爬取{}条数据，目前共爬取{}条数据**********'.format(page+1,len(df)-k,len(df)))\n",
    "            # except:\n",
    "            #     print('!!!!!!!!!第{}页数据爬取有误，需进行优化!!!!!!!!!'.format(page+1))\n",
    "            #     break\n",
    "        df = df.reset_index(drop=True)\n",
    "        print(f'=================={key}榜单数据爬取完成，共有{len(df)}条数据===================')"
   ]
  },
  {
   "cell_type": "markdown",
   "metadata": {
    "id": "D2275D89AF354F61B7BE21D4A647BF85",
    "jupyter": {},
    "notebookId": "6673c4848129d33b690d0258",
    "runtime": {
     "execution_status": null,
     "is_visible": false,
     "status": "default"
    },
    "scrolled": false,
    "slideshow": {
     "slide_type": "slide"
    },
    "tags": []
   },
   "source": [
    "## 数据展示"
   ]
  },
  {
   "cell_type": "code",
   "execution_count": 6,
   "metadata": {
    "id": "5340F5E39CE1411289AE17C800057233",
    "jupyter": {},
    "notebookId": "6673c4848129d33b690d0258",
    "scrolled": false,
    "slideshow": {
     "slide_type": "slide"
    },
    "tags": []
   },
   "outputs": [
    {
     "data": {
      "text/plain": [
       "(2000, 12)"
      ]
     },
     "execution_count": 6,
     "metadata": {},
     "output_type": "execute_result"
    }
   ],
   "source": [
    "df.shape"
   ]
  },
  {
   "cell_type": "code",
   "execution_count": 7,
   "metadata": {
    "id": "D8D77CE0A9934447A9A0E7757132D275",
    "jupyter": {},
    "notebookId": "6673c4848129d33b690d0258",
    "scrolled": false,
    "slideshow": {
     "slide_type": "slide"
    },
    "tags": []
   },
   "outputs": [
    {
     "data": {
      "text/html": [
       "<div>\n",
       "<style scoped>\n",
       "    .dataframe tbody tr th:only-of-type {\n",
       "        vertical-align: middle;\n",
       "    }\n",
       "\n",
       "    .dataframe tbody tr th {\n",
       "        vertical-align: top;\n",
       "    }\n",
       "\n",
       "    .dataframe thead th {\n",
       "        text-align: right;\n",
       "    }\n",
       "</style>\n",
       "<table border=\"1\" class=\"dataframe\">\n",
       "  <thead>\n",
       "    <tr style=\"text-align: right;\">\n",
       "      <th></th>\n",
       "      <th>书名</th>\n",
       "      <th>作者</th>\n",
       "      <th>出版日期</th>\n",
       "      <th>出版社</th>\n",
       "      <th>原价</th>\n",
       "      <th>折扣价</th>\n",
       "      <th>折扣比例</th>\n",
       "      <th>排序</th>\n",
       "      <th>排行榜类型</th>\n",
       "      <th>推荐值</th>\n",
       "      <th>电子书价格</th>\n",
       "      <th>评论数</th>\n",
       "    </tr>\n",
       "  </thead>\n",
       "  <tbody>\n",
       "    <tr>\n",
       "      <th>0</th>\n",
       "      <td>你当像鸟飞往你的山（中文版销量超200万册，比尔・盖茨年度特别推</td>\n",
       "      <td>塔拉</td>\n",
       "      <td>2019-11-01</td>\n",
       "      <td>2019-11-01</td>\n",
       "      <td>34.80</td>\n",
       "      <td>59.00</td>\n",
       "      <td>5.9折</td>\n",
       "      <td>1</td>\n",
       "      <td>2020年</td>\n",
       "      <td>100%</td>\n",
       "      <td>24.99</td>\n",
       "      <td>1705641</td>\n",
       "    </tr>\n",
       "    <tr>\n",
       "      <th>1</th>\n",
       "      <td>人间失格（日本小说家太宰治代表作，一个对村上春树影响至深的绝</td>\n",
       "      <td>太宰治</td>\n",
       "      <td>2015-08-01</td>\n",
       "      <td>2015-08-01</td>\n",
       "      <td>9.80</td>\n",
       "      <td>25.00</td>\n",
       "      <td>3.9折</td>\n",
       "      <td>2</td>\n",
       "      <td>2020年</td>\n",
       "      <td>99.8%</td>\n",
       "      <td>4.99</td>\n",
       "      <td>2227301</td>\n",
       "    </tr>\n",
       "    <tr>\n",
       "      <th>2</th>\n",
       "      <td>乌合之众 : 大众心理研究（群体心理学创始人古斯塔夫・勒庞代表作</td>\n",
       "      <td>古斯塔夫・勒庞</td>\n",
       "      <td>2018-04-06</td>\n",
       "      <td>2018-04-06</td>\n",
       "      <td>10.10</td>\n",
       "      <td>26.00</td>\n",
       "      <td>3.9折</td>\n",
       "      <td>3</td>\n",
       "      <td>2020年</td>\n",
       "      <td>100%</td>\n",
       "      <td></td>\n",
       "      <td>752375</td>\n",
       "    </tr>\n",
       "    <tr>\n",
       "      <th>3</th>\n",
       "      <td>神奇校车・图画书版（全12册）</td>\n",
       "      <td>乔安娜柯尔</td>\n",
       "      <td>2018-05-10</td>\n",
       "      <td>2018-05-10</td>\n",
       "      <td>165.00</td>\n",
       "      <td>198.00</td>\n",
       "      <td>8.3折</td>\n",
       "      <td>4</td>\n",
       "      <td>2020年</td>\n",
       "      <td>99.9%</td>\n",
       "      <td></td>\n",
       "      <td>1784300</td>\n",
       "    </tr>\n",
       "    <tr>\n",
       "      <th>4</th>\n",
       "      <td>作家榜名著：月亮与六便士（159万+读者高分推荐版！好评率高达99</td>\n",
       "      <td>毛姆</td>\n",
       "      <td>2017-01-10</td>\n",
       "      <td>2017-01-10</td>\n",
       "      <td>39.80</td>\n",
       "      <td>39.80</td>\n",
       "      <td>10.0折</td>\n",
       "      <td>5</td>\n",
       "      <td>2020年</td>\n",
       "      <td>100%</td>\n",
       "      <td>3.99</td>\n",
       "      <td>1590551</td>\n",
       "    </tr>\n",
       "  </tbody>\n",
       "</table>\n",
       "</div>"
      ],
      "text/plain": [
       "                                  书名       作者        出版日期         出版社      原价  \\\n",
       "0   你当像鸟飞往你的山（中文版销量超200万册，比尔・盖茨年度特别推       塔拉  2019-11-01  2019-11-01   34.80   \n",
       "1     人间失格（日本小说家太宰治代表作，一个对村上春树影响至深的绝      太宰治  2015-08-01  2015-08-01    9.80   \n",
       "2   乌合之众 : 大众心理研究（群体心理学创始人古斯塔夫・勒庞代表作  古斯塔夫・勒庞  2018-04-06  2018-04-06   10.10   \n",
       "3                    神奇校车・图画书版（全12册）    乔安娜柯尔  2018-05-10  2018-05-10  165.00   \n",
       "4  作家榜名著：月亮与六便士（159万+读者高分推荐版！好评率高达99       毛姆  2017-01-10  2017-01-10   39.80   \n",
       "\n",
       "      折扣价   折扣比例 排序  排行榜类型    推荐值  电子书价格      评论数  \n",
       "0   59.00   5.9折  1  2020年   100%  24.99  1705641  \n",
       "1   25.00   3.9折  2  2020年  99.8%   4.99  2227301  \n",
       "2   26.00   3.9折  3  2020年   100%          752375  \n",
       "3  198.00   8.3折  4  2020年  99.9%         1784300  \n",
       "4   39.80  10.0折  5  2020年   100%   3.99  1590551  "
      ]
     },
     "execution_count": 7,
     "metadata": {},
     "output_type": "execute_result"
    }
   ],
   "source": [
    "df.head()"
   ]
  },
  {
   "cell_type": "markdown",
   "metadata": {
    "id": "0DA127B020C24ED981C9C90CA1FEDB01",
    "jupyter": {},
    "notebookId": "6673c4848129d33b690d0258",
    "runtime": {
     "execution_status": null,
     "is_visible": false,
     "status": "default"
    },
    "scrolled": false,
    "slideshow": {
     "slide_type": "slide"
    },
    "tags": []
   },
   "source": [
    "## 数据保存"
   ]
  },
  {
   "cell_type": "code",
   "execution_count": 8,
   "metadata": {
    "id": "65F1656D43674AB88452B463674EE2E3",
    "jupyter": {},
    "notebookId": "6673c4848129d33b690d0258",
    "scrolled": false,
    "slideshow": {
     "slide_type": "slide"
    },
    "tags": []
   },
   "outputs": [],
   "source": [
    "df.to_excel('当当网近4年畅销图书榜单数据.xlsx',header=True,index=False)"
   ]
  },
  {
   "cell_type": "markdown",
   "metadata": {
    "id": "F6E1E73FC7BB4C608ADB395C92195146",
    "jupyter": {},
    "notebookId": "6673c4848129d33b690d0258",
    "runtime": {
     "execution_status": null,
     "is_visible": false,
     "status": "default"
    },
    "scrolled": false,
    "slideshow": {
     "slide_type": "slide"
    },
    "tags": []
   },
   "source": [
    "*好了，本项目到现在为止基本就算完成了，如果后续有更好的想法可以留言或者私信哈，由于做的时间比较匆忙，不完善的地方敬请谅解；*  \n",
    "\n",
    "*最后，欢迎大家点赞、收藏、评论、Fork，动动小手指一起来学习呀！关注我，后续继续不断更新爬虫项目～*"
   ]
  }
 ],
 "metadata": {
  "kernelspec": {
   "display_name": "Python 3",
   "language": "python",
   "name": "python3"
  },
  "language_info": {
   "codemirror_mode": {
    "name": "ipython",
    "version": 3
   },
   "file_extension": ".py",
   "mimetype": "text/x-python",
   "name": "python",
   "nbconvert_exporter": "python",
   "pygments_lexer": "ipython3",
   "version": "3.6.4"
  }
 },
 "nbformat": 4,
 "nbformat_minor": 1
}
