{
 "cells": [
  {
   "cell_type": "code",
   "execution_count": 3,
   "metadata": {},
   "outputs": [],
   "source": [
    "import pandas as pd\n",
    "import numpy as np\n",
    "\n",
    "# 生成示例性质的数据\n",
    "np.random.seed(0)\n",
    "data = {\n",
    "    '性别': np.random.choice(['男', '女'], 5000),\n",
    "    '年龄': np.random.randint(18, 25, 5000),\n",
    "    '专业': np.random.choice(['计算机科学', '心理学', '经济学', '机械工程', '医学', '文学'], 5000),\n",
    "    '阅读频次': np.random.choice(['每天', '每周', '每月', '偶尔'], 5000),\n",
    "    '阅读目的': np.random.choice(['知识学习', '娱乐放松', '考试准备', '技能提升'], 5000),\n",
    "    '平均阅读时间': np.random.randint(1, 5, 5000), # 单位: 小时\n",
    "    '书名': np.random.choice(['西游记', '红楼梦', '三体', '百年孤独', '论语', '资治通鉴'], 5000),\n",
    "    '出版社': np.random.choice(['人民文学出版社', '高等教育出版社', '外语教学与研究出版社', '中信出版社'], 5000),\n",
    "    '价格': np.random.uniform(20.0, 200.0, 5000).round(2),\n",
    "    '阅读该该书的时间段': np.random.choice(['早上', '中午','下午','晚上'], 5000), # 单位: 天\n",
    "    '学历': np.random.choice(['本科', '研究生', '博士'], 5000),\n",
    "    '作者国籍': np.random.choice(['中国', '美国', '英国', '俄罗斯', '日本', '法国'], 5000)\n",
    "}\n",
    "\n",
    "df = pd.DataFrame(data)\n",
    "file_path = '中国大学生阅读数据.xlsx'\n",
    "df.to_excel(file_path, index=False)"
   ]
  }
 ],
 "metadata": {
  "kernelspec": {
   "display_name": "Python 3",
   "language": "python",
   "name": "python3"
  },
  "language_info": {
   "codemirror_mode": {
    "name": "ipython",
    "version": 3
   },
   "file_extension": ".py",
   "mimetype": "text/x-python",
   "name": "python",
   "nbconvert_exporter": "python",
   "pygments_lexer": "ipython3",
   "version": "3.6.4"
  }
 },
 "nbformat": 4,
 "nbformat_minor": 2
}
