{
 "cells": [
  {
   "cell_type": "markdown",
   "metadata": {},
   "source": [
    "# 基于图书馆借书数据分析的大学生课外阅读的偏好研究"
   ]
  },
  {
   "cell_type": "markdown",
   "metadata": {},
   "source": [
    "## 摘要\n",
    "图书馆数据包含许多学生的阅读记录，这些记录反映了他们的一般知识获取情况。本研究的目的是深入挖掘图书馆的借书数据，关注不同的书籍目录和属性，以预测学生的课外兴趣。\n",
    "## 一、引言\n",
    "课外学习是大学生知识获取的重要组成部分，在很大程度上影响着学生的毕业、求职乃至未来的发展。除了注重专业课程学习外，大学生的课外学习行为也逐渐成为大学教育管理关注的问题。了解大学生的课外学习偏好，有助于及早预测大学生阅读习惯和状态，从而防止学生偏向学习的不良后果。\n",
    "\n",
    "作为学生学习的场所，校园图书馆是研究学生课外阅读行为的主要来源场所。客观地说，每个大学图书馆都有一个图书访问系统，是一个单向模块，可以完整地记录学生的个人信息和借书历史。然后，通过分析这些记录的数据，可以调查学生的学习和阅读行为。然而，许多来自不同专业的学生去图书馆查看各种不同类型的学术或课外阅读材料。图书馆积累了大量的借书和还书数据，工作人员也需要定期对数据进行描述性统计分析。\n",
    "## 二、导入必要的库"
   ]
  },
  {
   "cell_type": "code",
   "execution_count": 1,
   "metadata": {
    "execution": {
     "iopub.execute_input": "2023-08-30T06:22:11.763256Z",
     "iopub.status.busy": "2023-08-30T06:22:11.762933Z",
     "iopub.status.idle": "2023-08-30T06:22:12.338904Z",
     "shell.execute_reply": "2023-08-30T06:22:12.337323Z",
     "shell.execute_reply.started": "2023-08-30T06:22:11.763233Z"
    }
   },
   "outputs": [],
   "source": [
    "import pandas as pd\n",
    "import seaborn as sns\n",
    "import matplotlib.pyplot as plt\n",
    "import statistics as st"
   ]
  },
  {
   "cell_type": "markdown",
   "metadata": {},
   "source": [
    "## 导入数据集"
   ]
  },
  {
   "cell_type": "code",
   "execution_count": 2,
   "metadata": {
    "execution": {
     "iopub.execute_input": "2023-08-30T06:22:30.923392Z",
     "iopub.status.busy": "2023-08-30T06:22:30.923026Z",
     "iopub.status.idle": "2023-08-30T06:22:30.933797Z",
     "shell.execute_reply": "2023-08-30T06:22:30.932714Z",
     "shell.execute_reply.started": "2023-08-30T06:22:30.923364Z"
    }
   },
   "outputs": [],
   "source": [
    "df=pd.read_csv('Reading Habbit Of Students.csv')"
   ]
  },
  {
   "cell_type": "markdown",
   "metadata": {},
   "source": [
    "## 关于数据集\n",
    "### 数据内容"
   ]
  },
  {
   "cell_type": "code",
   "execution_count": 3,
   "metadata": {
    "execution": {
     "iopub.execute_input": "2023-08-30T06:22:32.624761Z",
     "iopub.status.busy": "2023-08-30T06:22:32.624415Z",
     "iopub.status.idle": "2023-08-30T06:22:32.645901Z",
     "shell.execute_reply": "2023-08-30T06:22:32.644789Z",
     "shell.execute_reply.started": "2023-08-30T06:22:32.624736Z"
    }
   },
   "outputs": [
    {
     "data": {
      "text/html": [
       "<div>\n",
       "<style scoped>\n",
       "    .dataframe tbody tr th:only-of-type {\n",
       "        vertical-align: middle;\n",
       "    }\n",
       "\n",
       "    .dataframe tbody tr th {\n",
       "        vertical-align: top;\n",
       "    }\n",
       "\n",
       "    .dataframe thead th {\n",
       "        text-align: right;\n",
       "    }\n",
       "</style>\n",
       "<table border=\"1\" class=\"dataframe\">\n",
       "  <thead>\n",
       "    <tr style=\"text-align: right;\">\n",
       "      <th></th>\n",
       "      <th>Unnamed: 0</th>\n",
       "      <th>gender</th>\n",
       "      <th>faculty</th>\n",
       "      <th>Enter Your Location</th>\n",
       "      <th>kind of books preffered for study</th>\n",
       "      <th>How Frequently do you visit library</th>\n",
       "      <th>For what Purposes do yo visit library</th>\n",
       "      <th>Average Time spent in collage</th>\n",
       "      <th>What is general Purposes</th>\n",
       "      <th>Which one is your Prefered location</th>\n",
       "      <th>...</th>\n",
       "      <th>Dose Covid 19 Pandemic Affected Your Reading Habits</th>\n",
       "      <th>Do you purchase Books from store</th>\n",
       "      <th>Average Expenditure on books</th>\n",
       "      <th>Occupation Of Father</th>\n",
       "      <th>Parents Education</th>\n",
       "      <th>Select your Faculty</th>\n",
       "      <th>Enter your Location</th>\n",
       "      <th>Preferred Language for Learning</th>\n",
       "      <th>Do you Using National dig</th>\n",
       "      <th>Occupation of Father</th>\n",
       "    </tr>\n",
       "  </thead>\n",
       "  <tbody>\n",
       "    <tr>\n",
       "      <th>0</th>\n",
       "      <td>0</td>\n",
       "      <td>Female</td>\n",
       "      <td>Arts</td>\n",
       "      <td>Urban</td>\n",
       "      <td>Text Books</td>\n",
       "      <td>Once in a week</td>\n",
       "      <td>For Reading Novels and</td>\n",
       "      <td>s 2-4 hours</td>\n",
       "      <td>To while away time</td>\n",
       "      <td>Home</td>\n",
       "      <td>...</td>\n",
       "      <td>No - Not Affected</td>\n",
       "      <td>Yes</td>\n",
       "      <td>Less Than Rs. 500</td>\n",
       "      <td>Farmer</td>\n",
       "      <td>Educated</td>\n",
       "      <td>Science</td>\n",
       "      <td>Rural</td>\n",
       "      <td>English</td>\n",
       "      <td>No</td>\n",
       "      <td>Farmer</td>\n",
       "    </tr>\n",
       "    <tr>\n",
       "      <th>1</th>\n",
       "      <td>1</td>\n",
       "      <td>Female</td>\n",
       "      <td>Commerce</td>\n",
       "      <td>Urban</td>\n",
       "      <td>Lecture Videos</td>\n",
       "      <td>Once in a month</td>\n",
       "      <td>For Reading Novels and</td>\n",
       "      <td>s Less than an hour</td>\n",
       "      <td>To pass the examination</td>\n",
       "      <td>Class Room</td>\n",
       "      <td>...</td>\n",
       "      <td>Yes - Positively Affected</td>\n",
       "      <td>Yes</td>\n",
       "      <td>Rs. 500 to Rs. 2000</td>\n",
       "      <td>Job</td>\n",
       "      <td>Educated</td>\n",
       "      <td>Science</td>\n",
       "      <td>Rural</td>\n",
       "      <td>English</td>\n",
       "      <td>No</td>\n",
       "      <td>Farmer</td>\n",
       "    </tr>\n",
       "    <tr>\n",
       "      <th>2</th>\n",
       "      <td>2</td>\n",
       "      <td>Female</td>\n",
       "      <td>Science</td>\n",
       "      <td>Rural</td>\n",
       "      <td>Reference Books</td>\n",
       "      <td>Rarely</td>\n",
       "      <td>For Reading Novels and</td>\n",
       "      <td>s Less than an hour</td>\n",
       "      <td>To get the knowledge and</td>\n",
       "      <td>Home</td>\n",
       "      <td>...</td>\n",
       "      <td>No - Not Affected</td>\n",
       "      <td>No</td>\n",
       "      <td>Less Than Rs. 500</td>\n",
       "      <td>Business</td>\n",
       "      <td>Educated</td>\n",
       "      <td>Science</td>\n",
       "      <td>Rural</td>\n",
       "      <td>English</td>\n",
       "      <td>No</td>\n",
       "      <td>Farmer</td>\n",
       "    </tr>\n",
       "    <tr>\n",
       "      <th>3</th>\n",
       "      <td>3</td>\n",
       "      <td>Male</td>\n",
       "      <td>other</td>\n",
       "      <td>Urban</td>\n",
       "      <td>Text Books</td>\n",
       "      <td>Once in a week</td>\n",
       "      <td>For Reading Novels and</td>\n",
       "      <td>s Less than an hour</td>\n",
       "      <td>To get the knowledge and</td>\n",
       "      <td>Central Library</td>\n",
       "      <td>...</td>\n",
       "      <td>No - Not Affected</td>\n",
       "      <td>Yes</td>\n",
       "      <td>Rs. 500 to Rs. 2000</td>\n",
       "      <td>Business</td>\n",
       "      <td>Educated</td>\n",
       "      <td>Science</td>\n",
       "      <td>Rural</td>\n",
       "      <td>English</td>\n",
       "      <td>No</td>\n",
       "      <td>Farmer</td>\n",
       "    </tr>\n",
       "    <tr>\n",
       "      <th>4</th>\n",
       "      <td>4</td>\n",
       "      <td>Male</td>\n",
       "      <td>Science</td>\n",
       "      <td>Rural</td>\n",
       "      <td>Lecture Videos</td>\n",
       "      <td>2-3 times in a week</td>\n",
       "      <td>To Complete Assignment</td>\n",
       "      <td>Less than an hour</td>\n",
       "      <td>To get the knowledge and</td>\n",
       "      <td>Home</td>\n",
       "      <td>...</td>\n",
       "      <td>No - Not Affected</td>\n",
       "      <td>Yes</td>\n",
       "      <td>Rs. 500 to Rs. 2000</td>\n",
       "      <td>Farmer</td>\n",
       "      <td>Educated</td>\n",
       "      <td>Science</td>\n",
       "      <td>Rural</td>\n",
       "      <td>English</td>\n",
       "      <td>No</td>\n",
       "      <td>Farmer</td>\n",
       "    </tr>\n",
       "  </tbody>\n",
       "</table>\n",
       "<p>5 rows × 30 columns</p>\n",
       "</div>"
      ],
      "text/plain": [
       "   Unnamed: 0  gender   faculty Enter Your Location  \\\n",
       "0           0  Female      Arts               Urban   \n",
       "1           1  Female  Commerce               Urban   \n",
       "2           2  Female   Science               Rural   \n",
       "3           3    Male     other               Urban   \n",
       "4           4    Male   Science               Rural   \n",
       "\n",
       "  kind of books preffered for study How Frequently do you visit library  \\\n",
       "0                        Text Books                      Once in a week   \n",
       "1                    Lecture Videos                     Once in a month   \n",
       "2                   Reference Books                              Rarely   \n",
       "3                        Text Books                      Once in a week   \n",
       "4                    Lecture Videos                 2-3 times in a week   \n",
       "\n",
       "  For what Purposes do yo visit library Average Time spent in collage  \\\n",
       "0                For Reading Novels and                   s 2-4 hours   \n",
       "1                For Reading Novels and           s Less than an hour   \n",
       "2                For Reading Novels and           s Less than an hour   \n",
       "3                For Reading Novels and           s Less than an hour   \n",
       "4                To Complete Assignment             Less than an hour   \n",
       "\n",
       "   What is general Purposes Which one is your Prefered location   \\\n",
       "0        To while away time                                 Home   \n",
       "1   To pass the examination                           Class Room   \n",
       "2  To get the knowledge and                                 Home   \n",
       "3  To get the knowledge and                      Central Library   \n",
       "4  To get the knowledge and                                 Home   \n",
       "\n",
       "          ...          Dose Covid 19 Pandemic Affected Your Reading Habits  \\\n",
       "0         ...                                           No - Not Affected    \n",
       "1         ...                                   Yes - Positively Affected    \n",
       "2         ...                                           No - Not Affected    \n",
       "3         ...                                           No - Not Affected    \n",
       "4         ...                                           No - Not Affected    \n",
       "\n",
       "  Do you purchase Books from store Average Expenditure on books  \\\n",
       "0                              Yes            Less Than Rs. 500   \n",
       "1                              Yes          Rs. 500 to Rs. 2000   \n",
       "2                               No            Less Than Rs. 500   \n",
       "3                              Yes          Rs. 500 to Rs. 2000   \n",
       "4                              Yes          Rs. 500 to Rs. 2000   \n",
       "\n",
       "  Occupation Of Father Parents Education Select your Faculty  \\\n",
       "0               Farmer          Educated             Science   \n",
       "1                  Job          Educated             Science   \n",
       "2             Business          Educated             Science   \n",
       "3             Business          Educated             Science   \n",
       "4               Farmer          Educated             Science   \n",
       "\n",
       "  Enter your Location Preferred Language for Learning  \\\n",
       "0               Rural                         English   \n",
       "1               Rural                         English   \n",
       "2               Rural                         English   \n",
       "3               Rural                         English   \n",
       "4               Rural                         English   \n",
       "\n",
       "  Do you Using National dig Occupation of Father  \n",
       "0                        No               Farmer  \n",
       "1                        No               Farmer  \n",
       "2                        No               Farmer  \n",
       "3                        No               Farmer  \n",
       "4                        No               Farmer  \n",
       "\n",
       "[5 rows x 30 columns]"
      ]
     },
     "execution_count": 3,
     "metadata": {},
     "output_type": "execute_result"
    }
   ],
   "source": [
    "df.head()"
   ]
  },
  {
   "cell_type": "markdown",
   "metadata": {},
   "source": [
    "### 数据信息"
   ]
  },
  {
   "cell_type": "code",
   "execution_count": 4,
   "metadata": {
    "execution": {
     "iopub.execute_input": "2023-08-30T06:22:33.833421Z",
     "iopub.status.busy": "2023-08-30T06:22:33.833067Z",
     "iopub.status.idle": "2023-08-30T06:22:33.845605Z",
     "shell.execute_reply": "2023-08-30T06:22:33.844736Z",
     "shell.execute_reply.started": "2023-08-30T06:22:33.833395Z"
    }
   },
   "outputs": [
    {
     "name": "stdout",
     "output_type": "stream",
     "text": [
      "<class 'pandas.core.frame.DataFrame'>\n",
      "RangeIndex: 228 entries, 0 to 227\n",
      "Data columns (total 30 columns):\n",
      "Unnamed: 0                                             228 non-null int64\n",
      "gender                                                 228 non-null object\n",
      "faculty                                                228 non-null object\n",
      "Enter Your Location                                    228 non-null object\n",
      "kind of books preffered for study                      228 non-null object\n",
      "How Frequently do you visit library                    228 non-null object\n",
      "For what Purposes do yo visit library                  228 non-null object\n",
      "Average Time spent in collage                          228 non-null object\n",
      "What is general Purposes                               228 non-null object\n",
      "Which one is your Prefered location                    228 non-null object\n",
      "What is your preferred time?                           228 non-null object\n",
      "Preferred language for Learning                        228 non-null object\n",
      "Preferred type for reading                             228 non-null object\n",
      "Do you enjoy the Reading                               228 non-null object\n",
      "Which mode of learning /                               228 non-null object\n",
      "Dose Covid Pandemic Ch                                 228 non-null object\n",
      "How do you study before collage                        228 non-null object\n",
      "How do you study after Collage                         228 non-null object\n",
      "Do you aware about Nati                                228 non-null object\n",
      "Do you Using National di                               228 non-null object\n",
      "Dose Covid 19 Pandemic Affected Your Reading Habits    228 non-null object\n",
      "Do you purchase Books from store                       228 non-null object\n",
      "Average Expenditure on books                           228 non-null object\n",
      "Occupation Of Father                                   228 non-null object\n",
      "Parents Education                                      228 non-null object\n",
      "Select your Faculty                                    228 non-null object\n",
      "Enter your Location                                    228 non-null object\n",
      "Preferred Language for Learning                        228 non-null object\n",
      "Do you Using National dig                              228 non-null object\n",
      "Occupation of Father                                   228 non-null object\n",
      "dtypes: int64(1), object(29)\n",
      "memory usage: 53.5+ KB\n"
     ]
    }
   ],
   "source": [
    "df.info()"
   ]
  },
  {
   "cell_type": "markdown",
   "metadata": {},
   "source": [
    "### 删除不要的列"
   ]
  },
  {
   "cell_type": "code",
   "execution_count": 5,
   "metadata": {
    "execution": {
     "iopub.execute_input": "2023-08-30T06:22:45.278146Z",
     "iopub.status.busy": "2023-08-30T06:22:45.277774Z",
     "iopub.status.idle": "2023-08-30T06:22:45.285346Z",
     "shell.execute_reply": "2023-08-30T06:22:45.283775Z",
     "shell.execute_reply.started": "2023-08-30T06:22:45.278117Z"
    }
   },
   "outputs": [],
   "source": [
    "df =df.drop(['Unnamed: 0','Select your Faculty','Occupation of Father',\"Enter your Location\",\"Preferred Language for Learning\",\"Do you Using National dig\"], axis=1)"
   ]
  },
  {
   "cell_type": "code",
   "execution_count": 6,
   "metadata": {
    "execution": {
     "iopub.execute_input": "2023-08-30T06:22:46.611201Z",
     "iopub.status.busy": "2023-08-30T06:22:46.610823Z",
     "iopub.status.idle": "2023-08-30T06:22:46.62376Z",
     "shell.execute_reply": "2023-08-30T06:22:46.622827Z",
     "shell.execute_reply.started": "2023-08-30T06:22:46.611155Z"
    }
   },
   "outputs": [
    {
     "name": "stdout",
     "output_type": "stream",
     "text": [
      "<class 'pandas.core.frame.DataFrame'>\n",
      "RangeIndex: 228 entries, 0 to 227\n",
      "Data columns (total 24 columns):\n",
      "gender                                                 228 non-null object\n",
      "faculty                                                228 non-null object\n",
      "Enter Your Location                                    228 non-null object\n",
      "kind of books preffered for study                      228 non-null object\n",
      "How Frequently do you visit library                    228 non-null object\n",
      "For what Purposes do yo visit library                  228 non-null object\n",
      "Average Time spent in collage                          228 non-null object\n",
      "What is general Purposes                               228 non-null object\n",
      "Which one is your Prefered location                    228 non-null object\n",
      "What is your preferred time?                           228 non-null object\n",
      "Preferred language for Learning                        228 non-null object\n",
      "Preferred type for reading                             228 non-null object\n",
      "Do you enjoy the Reading                               228 non-null object\n",
      "Which mode of learning /                               228 non-null object\n",
      "Dose Covid Pandemic Ch                                 228 non-null object\n",
      "How do you study before collage                        228 non-null object\n",
      "How do you study after Collage                         228 non-null object\n",
      "Do you aware about Nati                                228 non-null object\n",
      "Do you Using National di                               228 non-null object\n",
      "Dose Covid 19 Pandemic Affected Your Reading Habits    228 non-null object\n",
      "Do you purchase Books from store                       228 non-null object\n",
      "Average Expenditure on books                           228 non-null object\n",
      "Occupation Of Father                                   228 non-null object\n",
      "Parents Education                                      228 non-null object\n",
      "dtypes: object(24)\n",
      "memory usage: 42.8+ KB\n"
     ]
    }
   ],
   "source": [
    "df.info()"
   ]
  },
  {
   "cell_type": "markdown",
   "metadata": {},
   "source": [
    "### 重命名列"
   ]
  },
  {
   "cell_type": "code",
   "execution_count": 7,
   "metadata": {
    "execution": {
     "iopub.execute_input": "2023-08-30T06:22:51.06559Z",
     "iopub.status.busy": "2023-08-30T06:22:51.065244Z",
     "iopub.status.idle": "2023-08-30T06:22:51.070358Z",
     "shell.execute_reply": "2023-08-30T06:22:51.069682Z",
     "shell.execute_reply.started": "2023-08-30T06:22:51.065564Z"
    }
   },
   "outputs": [],
   "source": [
    "\"rename the column\"\n",
    "df.rename(columns = {'Select your faculty':'faculty'}, inplace = True)"
   ]
  },
  {
   "cell_type": "markdown",
   "metadata": {},
   "source": [
    "### 数据集缩略图"
   ]
  },
  {
   "cell_type": "code",
   "execution_count": 8,
   "metadata": {
    "execution": {
     "iopub.execute_input": "2023-08-30T06:22:58.425376Z",
     "iopub.status.busy": "2023-08-30T06:22:58.425042Z",
     "iopub.status.idle": "2023-08-30T06:22:58.646586Z",
     "shell.execute_reply": "2023-08-30T06:22:58.64535Z",
     "shell.execute_reply.started": "2023-08-30T06:22:58.42535Z"
    }
   },
   "outputs": [
    {
     "ename": "NameError",
     "evalue": "name 'grouped' is not defined",
     "output_type": "error",
     "traceback": [
      "\u001b[1;31m---------------------------------------------------------------------------\u001b[0m",
      "\u001b[1;31mNameError\u001b[0m                                 Traceback (most recent call last)",
      "\u001b[1;32m<ipython-input-8-fd391ce01608>\u001b[0m in \u001b[0;36m<module>\u001b[1;34m()\u001b[0m\n\u001b[0;32m      2\u001b[0m \u001b[1;33m\u001b[0m\u001b[0m\n\u001b[0;32m      3\u001b[0m \u001b[1;31m# Plot the bar chart\u001b[0m\u001b[1;33m\u001b[0m\u001b[1;33m\u001b[0m\u001b[0m\n\u001b[1;32m----> 4\u001b[1;33m \u001b[0max\u001b[0m \u001b[1;33m=\u001b[0m \u001b[0mgrouped\u001b[0m\u001b[1;33m.\u001b[0m\u001b[0mplot\u001b[0m\u001b[1;33m(\u001b[0m\u001b[0mkind\u001b[0m\u001b[1;33m=\u001b[0m\u001b[1;34m\"bar\"\u001b[0m\u001b[1;33m,\u001b[0m \u001b[0mlegend\u001b[0m\u001b[1;33m=\u001b[0m\u001b[1;32mFalse\u001b[0m\u001b[1;33m,\u001b[0m \u001b[0mfigsize\u001b[0m\u001b[1;33m=\u001b[0m\u001b[1;33m(\u001b[0m\u001b[1;36m10\u001b[0m\u001b[1;33m,\u001b[0m \u001b[1;36m5\u001b[0m\u001b[1;33m)\u001b[0m\u001b[1;33m)\u001b[0m\u001b[1;33m\u001b[0m\u001b[0m\n\u001b[0m\u001b[0;32m      5\u001b[0m \u001b[0mplt\u001b[0m\u001b[1;33m.\u001b[0m\u001b[0mxlabel\u001b[0m\u001b[1;33m(\u001b[0m\u001b[1;34m\"Faculty\"\u001b[0m\u001b[1;33m)\u001b[0m\u001b[1;33m\u001b[0m\u001b[0m\n\u001b[0;32m      6\u001b[0m \u001b[0mplt\u001b[0m\u001b[1;33m.\u001b[0m\u001b[0mylabel\u001b[0m\u001b[1;33m(\u001b[0m\u001b[1;34m\"Number of visits\"\u001b[0m\u001b[1;33m)\u001b[0m\u001b[1;33m\u001b[0m\u001b[0m\n",
      "\u001b[1;31mNameError\u001b[0m: name 'grouped' is not defined"
     ]
    }
   ],
   "source": [
    "\n",
    "\n",
    "# Plot the bar chart\n",
    "ax = grouped.plot(kind=\"bar\", legend=False, figsize=(10, 5))\n",
    "plt.xlabel(\"Faculty\")\n",
    "plt.ylabel(\"Number of visits\")\n",
    "plt.title(\"Faculty wise visit in library\")\n",
    "\n",
    "# Adding actual numbers on top of the bars\n",
    "for idx, value in enumerate(grouped[\"How Frequently do you visit library\"]):\n",
    "    ax.text(idx, value, str(value), ha='center', va='bottom')\n",
    "\n",
    "plt.show()\n"
   ]
  },
  {
   "cell_type": "markdown",
   "metadata": {},
   "source": [
    "# Faculty wise Reading Habbits"
   ]
  },
  {
   "cell_type": "code",
   "execution_count": null,
   "metadata": {
    "execution": {
     "iopub.execute_input": "2023-08-30T06:24:50.279729Z",
     "iopub.status.busy": "2023-08-30T06:24:50.27939Z",
     "iopub.status.idle": "2023-08-30T06:24:50.470062Z",
     "shell.execute_reply": "2023-08-30T06:24:50.469002Z",
     "shell.execute_reply.started": "2023-08-30T06:24:50.279701Z"
    }
   },
   "outputs": [],
   "source": [
    "import seaborn as sns\n",
    "import matplotlib.pyplot as plt\n",
    "\n",
    "sns.countplot(x='faculty', data=df)\n",
    "plt.title('Reading Habits of Different Faculties')\n",
    "plt.xlabel('Faculty')\n",
    "plt.ylabel('Count')\n",
    "\n",
    "plt.show()\n"
   ]
  },
  {
   "cell_type": "markdown",
   "metadata": {},
   "source": [
    "# To see What contains in Dataset"
   ]
  },
  {
   "cell_type": "code",
   "execution_count": null,
   "metadata": {
    "execution": {
     "iopub.execute_input": "2023-05-30T14:17:21.415423Z",
     "iopub.status.busy": "2023-05-30T14:17:21.414744Z",
     "iopub.status.idle": "2023-05-30T14:17:21.438731Z",
     "shell.execute_reply": "2023-05-30T14:17:21.437669Z",
     "shell.execute_reply.started": "2023-05-30T14:17:21.415393Z"
    }
   },
   "outputs": [],
   "source": [
    "df.head()"
   ]
  },
  {
   "cell_type": "markdown",
   "metadata": {},
   "source": [
    "# All Columns"
   ]
  },
  {
   "cell_type": "code",
   "execution_count": null,
   "metadata": {
    "execution": {
     "iopub.execute_input": "2023-05-30T14:17:21.440329Z",
     "iopub.status.busy": "2023-05-30T14:17:21.440018Z",
     "iopub.status.idle": "2023-05-30T14:17:21.447263Z",
     "shell.execute_reply": "2023-05-30T14:17:21.446215Z",
     "shell.execute_reply.started": "2023-05-30T14:17:21.440303Z"
    }
   },
   "outputs": [],
   "source": [
    "df.columns"
   ]
  },
  {
   "cell_type": "markdown",
   "metadata": {},
   "source": [
    "# Information of Data"
   ]
  },
  {
   "cell_type": "code",
   "execution_count": null,
   "metadata": {
    "execution": {
     "iopub.execute_input": "2023-05-30T14:17:21.449302Z",
     "iopub.status.busy": "2023-05-30T14:17:21.448506Z",
     "iopub.status.idle": "2023-05-30T14:17:21.46757Z",
     "shell.execute_reply": "2023-05-30T14:17:21.466253Z",
     "shell.execute_reply.started": "2023-05-30T14:17:21.449273Z"
    }
   },
   "outputs": [],
   "source": [
    "df.info()"
   ]
  },
  {
   "cell_type": "code",
   "execution_count": null,
   "metadata": {},
   "outputs": [],
   "source": []
  },
  {
   "cell_type": "markdown",
   "metadata": {},
   "source": [
    "# OBJECTIVES"
   ]
  },
  {
   "cell_type": "markdown",
   "metadata": {},
   "source": [
    "# Objective 1\n",
    "To find the reading habits of different faculties"
   ]
  },
  {
   "cell_type": "code",
   "execution_count": null,
   "metadata": {
    "execution": {
     "iopub.execute_input": "2023-05-30T14:17:21.472452Z",
     "iopub.status.busy": "2023-05-30T14:17:21.472058Z",
     "iopub.status.idle": "2023-05-30T14:17:21.482406Z",
     "shell.execute_reply": "2023-05-30T14:17:21.481215Z",
     "shell.execute_reply.started": "2023-05-30T14:17:21.472418Z"
    }
   },
   "outputs": [],
   "source": [
    "\"\"\"To find the reading habits of different faculties, you can use the \"groupby\" \n",
    "function in pandas to group the data by faculty and then analyze the reading \n",
    "habits for each group.\"\"\""
   ]
  },
  {
   "cell_type": "code",
   "execution_count": null,
   "metadata": {
    "execution": {
     "iopub.execute_input": "2023-05-30T14:17:21.484369Z",
     "iopub.status.busy": "2023-05-30T14:17:21.483855Z",
     "iopub.status.idle": "2023-05-30T14:17:21.499557Z",
     "shell.execute_reply": "2023-05-30T14:17:21.498342Z",
     "shell.execute_reply.started": "2023-05-30T14:17:21.484335Z"
    }
   },
   "outputs": [],
   "source": [
    "import pandas as pd\n",
    "\n",
    "\n",
    "# Group the data by faculty\n",
    "grouped = df.groupby('faculty')\n",
    "\n",
    "# Get the count of each value for the \"Do you enjoy the Reading\" column for each faculty\n",
    "reading_habits = grouped['Do you enjoy the Reading'].value_counts()\n",
    "\n",
    "# Print the results\n",
    "print(reading_habits)\n"
   ]
  },
  {
   "cell_type": "code",
   "execution_count": null,
   "metadata": {
    "execution": {
     "iopub.execute_input": "2023-05-30T14:17:21.501377Z",
     "iopub.status.busy": "2023-05-30T14:17:21.500993Z",
     "iopub.status.idle": "2023-05-30T14:17:21.888449Z",
     "shell.execute_reply": "2023-05-30T14:17:21.887292Z",
     "shell.execute_reply.started": "2023-05-30T14:17:21.501339Z"
    }
   },
   "outputs": [],
   "source": [
    "import pandas as pd\n",
    "import seaborn as sns\n",
    "\n",
    "\n",
    "\n",
    "# Group the data by faculty\n",
    "grouped = df.groupby('faculty')\n",
    "\n",
    "# Get the count of each value for the \"Do you enjoy the Reading\" column for each faculty\n",
    "reading_habits = grouped['Do you enjoy the Reading'].value_counts().reset_index(name='count')\n",
    "\n",
    "# Create a bar plot using Seaborn\n",
    "sns.catplot(x='faculty', y='count', hue='Do you enjoy the Reading', data=reading_habits, kind='bar')\n",
    "\n",
    "# Display the plot\n",
    "plt.show()\n"
   ]
  },
  {
   "cell_type": "markdown",
   "metadata": {},
   "source": [
    "# Objective 2\n",
    "\tTo find the association between parents education and  frequency of reading of students."
   ]
  },
  {
   "cell_type": "code",
   "execution_count": null,
   "metadata": {
    "execution": {
     "iopub.execute_input": "2023-05-30T14:17:21.890229Z",
     "iopub.status.busy": "2023-05-30T14:17:21.889909Z",
     "iopub.status.idle": "2023-05-30T14:17:21.89628Z",
     "shell.execute_reply": "2023-05-30T14:17:21.895302Z",
     "shell.execute_reply.started": "2023-05-30T14:17:21.890202Z"
    }
   },
   "outputs": [],
   "source": [
    "\"\"\"To find the association between parents' education and the frequency of \n",
    "reading of students, we can create a contingency table and perform \n",
    "a chi-square test of independence.\"\"\""
   ]
  },
  {
   "cell_type": "code",
   "execution_count": null,
   "metadata": {
    "execution": {
     "iopub.execute_input": "2023-05-30T14:17:21.897972Z",
     "iopub.status.busy": "2023-05-30T14:17:21.897592Z",
     "iopub.status.idle": "2023-05-30T14:17:21.923799Z",
     "shell.execute_reply": "2023-05-30T14:17:21.922779Z",
     "shell.execute_reply.started": "2023-05-30T14:17:21.897941Z"
    }
   },
   "outputs": [],
   "source": [
    "import pandas as pd\n",
    "from scipy.stats import chi2_contingency\n",
    "\n",
    "\n",
    "# Create a contingency table for parents education and frequency of reading\n",
    "contingency_table = pd.crosstab(df['Parents Education'], df['How Frequently do you visit library'])\n",
    "\n",
    "# Perform chi-square test of independence\n",
    "chi2, p, dof, expected = chi2_contingency(contingency_table)\n",
    "\n",
    "# Print the results\n",
    "print(\"Chi-square value:\", chi2)\n",
    "print(\"p-value:\", p)\n",
    "print(\"Degrees of freedom:\", dof)\n",
    "print(\"Expected values:\", expected)\n"
   ]
  },
  {
   "cell_type": "markdown",
   "metadata": {},
   "source": [
    "# Objective \n",
    "\t\tTo find association of frequency of reading between rural and urban area."
   ]
  },
  {
   "cell_type": "code",
   "execution_count": null,
   "metadata": {
    "execution": {
     "iopub.execute_input": "2023-05-30T14:17:21.927288Z",
     "iopub.status.busy": "2023-05-30T14:17:21.926909Z",
     "iopub.status.idle": "2023-05-30T14:17:21.933681Z",
     "shell.execute_reply": "2023-05-30T14:17:21.932599Z",
     "shell.execute_reply.started": "2023-05-30T14:17:21.927257Z"
    }
   },
   "outputs": [],
   "source": [
    "\"\"\"To find the association of frequency of reading between rural and urban areas, \n",
    "we can first group the data by location (rural or urban) and then compare the\n",
    "frequency of reading between the two groups.\n",
    "\n",
    "\"\"\""
   ]
  },
  {
   "cell_type": "code",
   "execution_count": null,
   "metadata": {
    "execution": {
     "iopub.execute_input": "2023-05-30T14:17:21.935958Z",
     "iopub.status.busy": "2023-05-30T14:17:21.935527Z",
     "iopub.status.idle": "2023-05-30T14:17:22.355605Z",
     "shell.execute_reply": "2023-05-30T14:17:22.354411Z",
     "shell.execute_reply.started": "2023-05-30T14:17:21.935918Z"
    }
   },
   "outputs": [],
   "source": [
    "import pandas as pd\n",
    "import seaborn as sns\n",
    "\n",
    "\n",
    "\n",
    "# Group the data by location (rural or urban)\n",
    "grouped = df.groupby('Enter Your Location')\n",
    "\n",
    "# Create a new dataframe with the frequency of reading for each location\n",
    "reading_freq = grouped['How Frequently do you visit library'].value_counts().unstack().fillna(0)\n",
    "\n",
    "# Create a stacked bar chart to compare the frequency of reading between rural and urban areas\n",
    "sns.set_style(\"whitegrid\")\n",
    "ax = reading_freq.plot(kind='bar', stacked=True)\n",
    "ax.set_xlabel(\"Location\")\n",
    "ax.set_ylabel(\"Frequency of Reading\")\n",
    "ax.set_title(\"Association between Frequency of Reading and Location\")\n"
   ]
  },
  {
   "cell_type": "markdown",
   "metadata": {},
   "source": [
    "# objective 4\n",
    "\n",
    "\tTo find association of reading frequency between male and female.\n"
   ]
  },
  {
   "cell_type": "code",
   "execution_count": null,
   "metadata": {
    "execution": {
     "iopub.execute_input": "2023-05-30T14:17:22.357504Z",
     "iopub.status.busy": "2023-05-30T14:17:22.357121Z",
     "iopub.status.idle": "2023-05-30T14:17:22.364704Z",
     "shell.execute_reply": "2023-05-30T14:17:22.363554Z",
     "shell.execute_reply.started": "2023-05-30T14:17:22.357473Z"
    }
   },
   "outputs": [],
   "source": [
    "\"\"\"To find the association between reading frequency and gender, \n",
    "we can use a chi-square test of independence\"\"\""
   ]
  },
  {
   "cell_type": "code",
   "execution_count": null,
   "metadata": {
    "execution": {
     "iopub.execute_input": "2023-05-30T14:17:22.366321Z",
     "iopub.status.busy": "2023-05-30T14:17:22.365983Z",
     "iopub.status.idle": "2023-05-30T14:17:22.396001Z",
     "shell.execute_reply": "2023-05-30T14:17:22.394842Z",
     "shell.execute_reply.started": "2023-05-30T14:17:22.366291Z"
    }
   },
   "outputs": [],
   "source": [
    "import pandas as pd\n",
    "from scipy.stats import chi2_contingency\n",
    "\n",
    "\n",
    "\n",
    "# Create a contingency table of reading frequency and gender\n",
    "cont_table = pd.crosstab(df['How Frequently do you visit library'], df['gender'])\n",
    "\n",
    "\n",
    "# Perform chi-square test of independence\n",
    "chi2, p_value, dof, expected = chi2_contingency(cont_table)\n",
    "\n",
    "# Print the results\n",
    "print(\"Chi-square test statistic: \", chi2)\n",
    "print(\"P-value: \", p_value)\n",
    "print(\"Degrees of freedom: \", dof)\n",
    "print(\"Expected frequencies: \")\n",
    "print(expected)\n"
   ]
  },
  {
   "cell_type": "code",
   "execution_count": null,
   "metadata": {
    "execution": {
     "iopub.execute_input": "2023-05-30T14:17:22.398184Z",
     "iopub.status.busy": "2023-05-30T14:17:22.397179Z",
     "iopub.status.idle": "2023-05-30T14:17:22.404539Z",
     "shell.execute_reply": "2023-05-30T14:17:22.403409Z",
     "shell.execute_reply.started": "2023-05-30T14:17:22.398148Z"
    }
   },
   "outputs": [],
   "source": [
    "\"\"\"The null hypothesis for the chi-square test of independence is that there is\n",
    "no association between the two variables (reading frequency and gender). \n",
    "If the p-value is less than the significance level (usually 0.05), \n",
    "we can reject the null hypothesis and conclude that there is a \n",
    "significant association between the variables.\"\"\""
   ]
  },
  {
   "cell_type": "code",
   "execution_count": null,
   "metadata": {},
   "outputs": [],
   "source": []
  },
  {
   "cell_type": "markdown",
   "metadata": {},
   "source": [
    "# Pie charts"
   ]
  },
  {
   "cell_type": "code",
   "execution_count": null,
   "metadata": {
    "execution": {
     "iopub.execute_input": "2023-05-30T14:17:22.406597Z",
     "iopub.status.busy": "2023-05-30T14:17:22.40627Z",
     "iopub.status.idle": "2023-05-30T14:17:27.273856Z",
     "shell.execute_reply": "2023-05-30T14:17:27.27263Z",
     "shell.execute_reply.started": "2023-05-30T14:17:22.40657Z"
    },
    "scrolled": true
   },
   "outputs": [],
   "source": [
    "\n",
    "for col in df.columns:\n",
    "    plt.figure(figsize=(5,5))\n",
    "    df[col].value_counts().plot.pie(autopct='%1.1f%%')\n",
    "    plt.title(col + \" Distribution\")\n",
    "    plt.show()"
   ]
  },
  {
   "cell_type": "markdown",
   "metadata": {},
   "source": [
    "# Bar plots"
   ]
  },
  {
   "cell_type": "code",
   "execution_count": null,
   "metadata": {
    "execution": {
     "iopub.execute_input": "2023-05-30T14:17:27.276363Z",
     "iopub.status.busy": "2023-05-30T14:17:27.275428Z",
     "iopub.status.idle": "2023-05-30T14:17:34.53523Z",
     "shell.execute_reply": "2023-05-30T14:17:34.534304Z",
     "shell.execute_reply.started": "2023-05-30T14:17:27.27632Z"
    },
    "scrolled": true
   },
   "outputs": [],
   "source": [
    "\n",
    "for col in df.columns:\n",
    "    plt.figure(figsize=(5,5))\n",
    "    sns.countplot(x=col, data=df)\n",
    "    plt.title(col + \" Distribution\")\n",
    "    plt.show()"
   ]
  },
  {
   "cell_type": "markdown",
   "metadata": {},
   "source": [
    "# Histogram"
   ]
  },
  {
   "cell_type": "code",
   "execution_count": null,
   "metadata": {
    "execution": {
     "iopub.execute_input": "2023-05-30T14:17:34.537197Z",
     "iopub.status.busy": "2023-05-30T14:17:34.536848Z",
     "iopub.status.idle": "2023-05-30T14:17:42.253742Z",
     "shell.execute_reply": "2023-05-30T14:17:42.252018Z",
     "shell.execute_reply.started": "2023-05-30T14:17:34.537167Z"
    },
    "scrolled": true
   },
   "outputs": [],
   "source": [
    "for col in df.columns:\n",
    "    plt.figure(figsize=(5,5))\n",
    "    sns.histplot(x=col, data=df)\n",
    "    plt.title(col + \" Distribution\")\n",
    "    plt.show()"
   ]
  },
  {
   "cell_type": "markdown",
   "metadata": {},
   "source": [
    "# Displot"
   ]
  },
  {
   "cell_type": "code",
   "execution_count": null,
   "metadata": {
    "execution": {
     "iopub.execute_input": "2023-05-30T14:17:42.255688Z",
     "iopub.status.busy": "2023-05-30T14:17:42.255336Z",
     "iopub.status.idle": "2023-05-30T14:17:53.205267Z",
     "shell.execute_reply": "2023-05-30T14:17:53.203872Z",
     "shell.execute_reply.started": "2023-05-30T14:17:42.255659Z"
    },
    "scrolled": true
   },
   "outputs": [],
   "source": [
    "\n",
    "for col in df.columns:\n",
    "    plt.figure(figsize=(5,5))\n",
    "    sns.displot(x=col, data=df)\n",
    "    plt.title(col + \" Distribution\")\n",
    "    plt.show()\n"
   ]
  }
 ],
 "metadata": {
  "kaggle": {
   "accelerator": "none",
   "dataSources": [
    {
     "datasetId": 3338542,
     "sourceId": 5811620,
     "sourceType": "datasetVersion"
    }
   ],
   "dockerImageVersionId": 30497,
   "isGpuEnabled": false,
   "isInternetEnabled": false,
   "language": "python",
   "sourceType": "notebook"
  },
  "kernelspec": {
   "display_name": "Python 3",
   "language": "python",
   "name": "python3"
  },
  "language_info": {
   "codemirror_mode": {
    "name": "ipython",
    "version": 3
   },
   "file_extension": ".py",
   "mimetype": "text/x-python",
   "name": "python",
   "nbconvert_exporter": "python",
   "pygments_lexer": "ipython3",
   "version": "3.6.4"
  }
 },
 "nbformat": 4,
 "nbformat_minor": 4
}
