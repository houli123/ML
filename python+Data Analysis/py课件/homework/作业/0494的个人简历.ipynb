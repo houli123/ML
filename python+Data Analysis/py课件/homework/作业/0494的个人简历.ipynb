{
 "cells": [
  {
   "cell_type": "markdown",
   "metadata": {},
   "source": [
    "# 个人简历\n",
    "\n",
    "## 目录\n",
    "- [个人信息](#个人信息)\n",
    "- [教育背景](#教育背景)\n",
    "- [技能专长](#技能专长)\n",
    "- [证书](#证书)\n",
    "- [联系方式](#联系方式)\n",
    "- [个人爱好](#个人爱好)\n",
    "\n",
    "## 个人信息\n",
    "- **姓名**：刘杰\n",
    "- **专业**：大数据技术\n",
    "\n",
    "## 教育背景\n",
    "| 时间 | 学校 | 专业 | 学位 |\n",
    "| --- | --- | --- | --- |\n",
    "| 2022 - 至今 | 深圳职业技术大学 | 大数据技术 | 大专 |\n",
    "\n",
    "## 技能专长\n",
    "- **编程语言**：熟练使用Python、C\n",
    "- **数据库**：MySQL、Oracle\n",
    "- **数据分析工具**：熟悉Excel\n",
    "\n",
    "## 证书\n",
    "- **软考数据库系统工程师中级证书** - 2023年\n",
    "\n",
    "## 联系方式\n",
    "- **邮箱**：22190494@szpu.edu.cn\n",
    "- **qq**：1823003955\n",
    "\n",
    "## 个人照片\n",
    "<img src=\"1.png\" width = 30% height=30%>\n",
    "\n",
    "## 个人爱好\n",
    "- **健身**：业余健身人\n",
    "- **读书**：对文学作品充满兴趣\n",
    "- **旅游**：热爱探索不同文化和自然风景"
   ]
  }
 ],
 "metadata": {
  "kernelspec": {
   "display_name": "Python 3",
   "language": "python",
   "name": "python3"
  },
  "language_info": {
   "codemirror_mode": {
    "name": "ipython",
    "version": 3
   },
   "file_extension": ".py",
   "mimetype": "text/x-python",
   "name": "python",
   "nbconvert_exporter": "python",
   "pygments_lexer": "ipython3",
   "version": "3.6.4"
  }
 },
 "nbformat": 4,
 "nbformat_minor": 2
}
