{
 "cells": [
  {
   "cell_type": "markdown",
   "metadata": {},
   "source": [
    "<img src=\"img/7-首页.png\" width=\"1200\" height=\"700\" align=\"center\" />"
   ]
  },
  {
   "cell_type": "markdown",
   "metadata": {},
   "source": [
    "##  知识点思维导图\n",
    "\n",
    "<img src=\"img/7-思维导图.png\" width=\"1000\" height=\"800\" align=\"left\" />"
   ]
  },
  {
   "cell_type": "markdown",
   "metadata": {},
   "source": [
    "## 7.1 学生成绩处理与批量修改"
   ]
  },
  {
   "cell_type": "markdown",
   "metadata": {},
   "source": [
    "<img src=\"img/7-学生成绩整理.png\" width=\"1000\" height=\"800\" align=\"left\" />"
   ]
  },
  {
   "cell_type": "markdown",
   "metadata": {},
   "source": [
    "## 7.2 预备知识--文件操作与openpyxl库\n",
    "### 7.2.1 文件"
   ]
  },
  {
   "cell_type": "markdown",
   "metadata": {},
   "source": [
    "- 文件可分为文本文件和二进制文件两大类\n",
    "- 文本文件：由若干行以特定编码存储的字符组成，常见编码形式有ASCII编码，UNICODE编码等等。通常每行以换行符“\\n”结尾。在Windows系统中，扩展名为txt、log、ini、py的文件都属于文本文件。可用记事本之类的文本编辑器进行编辑。\n",
    "- 二进制文件：除文本文件以外的文件都可以称为二进制文件，其信息以字节串形式存储，不能用记事本或普通文字处理软件编辑，打开会是乱码，需使用相关软件进行解码后读取。常见的如各类office文档、音视频文件、可执行文件、图形图像文件等。\n"
   ]
  },
  {
   "cell_type": "markdown",
   "metadata": {},
   "source": [
    "### 7.2.2 文件常用操作\n",
    "#### 文件的打开\n",
    "我们在使用文件之前要先将文件打开，这通过open（）函数实现。   \n",
    "open（）函数的语法如下：   \n",
    "![](img/7-file.png)\n",
    "open（）函数中的参数还有很多，这里介绍4个常用参数，这些参数的含义如下。   \n",
    "- 1.file参数 file参数用于表示要打开的文件，可以是字符串或整数。如果file是 字符串，则表示文件名，文件名既可以是当前目录的相对路径，也可以 是绝对路径；如果file是整数，则表示一个已经打开的文件。   \n",
    "- 2.mode参数 mode参数用于设置文件打开模式，用字符串表示，例如rb表示以只 读模式打开二进制文件。用于设置文件打开模式的字符串中的每一个字 符都表示不同的含义，对这些字符的具体说明如下。 \n",
    "    - t：以文本文件模式打开文件。   \n",
    "    - b：以二进制文件模式打开文件。   \n",
    "    - r：以只读模式打开文件。  \n",
    "    - w：以只写模式打开文件，不能读内容。如果文件不存在，则创建 文件；如果文件存在，则覆盖文件的内容。   \n",
    "    - x：以独占创建模式打开文件，如果文件不存在，则创建并以写入模式打开；如果文件已存在，则引发FileExistsError异常。   \n",
    "    - a：以追加模式打开文件，不能读内容。如果文件不存在，则创建文件；如果文件存在，则在文件末尾追加。   \n",
    "    - +：以更新（读写）模式打开文件，必须与r、w或a组合使用，才能设置文件为读写模式。 这些字符可以进行组合，以表示不同类型的文件的打开模式，如下表所示。  \n",
    "![](img/7-file-1.png)\n",
    "\n",
    "- 3.encoding参数 encoding用来指定打开文件时的文件编码，默认是UTF-8编码，主要用于打开文本文件。   \n",
    "- 4.errors参数 errors参数用来指定在文本文件发生编码错误时如何处理。推荐erro rs参数的取值为'ignore'，表示在遇到编码错误时忽略该错误，程序会继 续执行，不会退出。\n"
   ]
  },
  {
   "cell_type": "code",
   "execution_count": 4,
   "metadata": {},
   "outputs": [],
   "source": [
    "f=open(\"data/test.txt\",\"r\")"
   ]
  },
  {
   "cell_type": "markdown",
   "metadata": {},
   "source": [
    "#### 文件的关闭\n",
    "在打开文件后，如果不再使用该文件，则应该将其关闭，会用到cl ose（）方法。"
   ]
  },
  {
   "cell_type": "code",
   "execution_count": null,
   "metadata": {},
   "outputs": [],
   "source": [
    "f.close()"
   ]
  },
  {
   "cell_type": "markdown",
   "metadata": {},
   "source": [
    "#### 文件的读写\n",
    "读写文本文件的相关方法如下。 \n",
    "- read（size=-1）：从文件中读取字符串，size限制读取的字符数，size=-1指对读取的字符数没有限制。  \n",
    "- readline（size=-1）：在读取到换行符或文件尾时返回单行字符串 。如果已经到文件尾，则返回一个空字符串。size是限制读取的字符数 ，size=-1表示没有限制。   \n",
    "- readlines（）：读取文件数据到一个字符串列表中，每一行数据都是列表的一个元素。   \n",
    "- write（s）：将字符串s写入文件中，并返回写入的字符数。   \n",
    "- writelines（lines）：向文件中写入一个字符串列表。不添加行分隔符，因此通常为每一行末尾都提供行分隔符。   \n",
    "- flush（）：刷新写缓冲区，在文件没有关闭的情况下将数据写入文件中。"
   ]
  },
  {
   "cell_type": "code",
   "execution_count": null,
   "metadata": {},
   "outputs": [],
   "source": [
    "#打开某文件，向其中写入字符串“hello World”\n",
    "f=open(\"myfile.txt\",\"w\")\n",
    "f.write(\"Hello,World!\")\n",
    "f.close()\n",
    "#将上述文件打开，先读取5个字符，再读取剩余字符串\n",
    "f=open(\"myfile.txt\",\"r\")\n",
    "print(f.read(5))  #输出 “Hello”\n",
    "print(f.read())  #输出“,World！“"
   ]
  },
  {
   "cell_type": "markdown",
   "metadata": {},
   "source": [
    "#### with语句\n",
    "![](img/7-file-2.png)"
   ]
  },
  {
   "cell_type": "code",
   "execution_count": 21,
   "metadata": {},
   "outputs": [
    {
     "name": "stdout",
     "output_type": "stream",
     "text": [
      "请输入要打开的文件名称:data\\test1.txt\n",
      "学生成绩表\n",
      "\n",
      "学号,姓名,课堂表现,课后实训,大作业,期末成绩\n",
      "\n",
      "01301001,朱志豪,92,85,84,91\n",
      "\n",
      "01301002,许可,87,81,82,89\n",
      "\n",
      "01301003,张炜发,82,83,79,80\n",
      "\n",
      "01301004,萧嘉慧,83,90,71,64\n",
      "\n",
      "01301005,林崇嘉,91,97,76,68\n",
      "\n",
      "01301006,郑振灿,96,85,71,61\n",
      "\n",
      "01301007,杜秋楠,90,87,79,82\n",
      "\n",
      "01301008,杨德生,77,86,64,45\n",
      "\n",
      "01301009,韩振峰,86,84,76,75\n",
      "\n",
      "01301010,罗曼琳,92,98,93,92\n",
      "\n",
      "01301011,潘保文,90,92,80,77\n",
      "\n",
      "01301012,曾繁智,89,90,78,76\n",
      "\n",
      "01301013,江希超,90,85,89,87\n",
      "\n",
      "01301014,谢宝宜,95,90,95,97\n",
      "\n",
      "01301015,张颖,98,98,93,87\n",
      "\n",
      "01301016,欧源,90,100,96,94\n",
      "\n",
      "01301017,杨淼坤,88,86,78,67\n",
      "\n",
      "01301018,蔡朝丹,86,96,85,77\n",
      "\n",
      "01301019,曾胜强,85,93,77,63\n",
      "\n",
      "01301020,许桂忠,84,88,82,74\n",
      "\n",
      "01301021,郑夏琪,91,85,75,50\n",
      "\n",
      "01301022,郑铭伟,88,75,75,73\n",
      "\n",
      "01301023,钟霸星,93,87,78,64\n",
      "\n",
      "01301024,欧雅丽,93,87,70,60\n",
      "\n",
      "01301025,陈钊锋,86,78,79,71\n",
      "\n",
      "01301026,洪金奎,94,88,80,67\n",
      "\n",
      "01301027,陈志鹏,91,88,97,99\n",
      "\n",
      "01301028,杜嘉颖,92,80,86,84\n",
      "\n",
      "01301029,谢俊辉,94,83,80,68\n",
      "\n",
      "01301030,杨定康,90,78,85,79\n",
      "\n",
      "01301031,江梓健,88,89,85,78\n",
      "\n",
      "01301032,侯必莲,90,86,81,69\n",
      "\n",
      "01301033,李炫廷,95,87,87,82\n",
      "\n",
      "01301034,赖永伟,95,84,76,60\n",
      "\n",
      "01301035,李勇,88,85,70,55\n",
      "\n",
      "01301036,詹婷珊,92,82,89,88\n",
      "\n",
      "01301037,张三,90,88,85,70\n"
     ]
    }
   ],
   "source": [
    "#利用with打开文件，一次读入，分行打印\n",
    "fn=input(\"请输入要打开的文件名称:\")\n",
    "with open(fn,\"r\",encoding=\"utf-8\") as fo:\n",
    "    #print(fo.readlines())\n",
    "    for line in fo.readlines():\n",
    "        print(line)"
   ]
  },
  {
   "cell_type": "code",
   "execution_count": 22,
   "metadata": {},
   "outputs": [
    {
     "name": "stdout",
     "output_type": "stream",
     "text": [
      "请输入要打开的文件名称:data/test1.txt\n",
      "学生成绩表\n",
      "\n",
      "学号,姓名,课堂表现,课后实训,大作业,期末成绩\n",
      "\n",
      "01301001,朱志豪,92,85,84,91\n",
      "\n",
      "01301002,许可,87,81,82,89\n",
      "\n",
      "01301003,张炜发,82,83,79,80\n",
      "\n",
      "01301004,萧嘉慧,83,90,71,64\n",
      "\n",
      "01301005,林崇嘉,91,97,76,68\n",
      "\n",
      "01301006,郑振灿,96,85,71,61\n",
      "\n",
      "01301007,杜秋楠,90,87,79,82\n",
      "\n",
      "01301008,杨德生,77,86,64,45\n",
      "\n",
      "01301009,韩振峰,86,84,76,75\n",
      "\n",
      "01301010,罗曼琳,92,98,93,92\n",
      "\n",
      "01301011,潘保文,90,92,80,77\n",
      "\n",
      "01301012,曾繁智,89,90,78,76\n",
      "\n",
      "01301013,江希超,90,85,89,87\n",
      "\n",
      "01301014,谢宝宜,95,90,95,97\n",
      "\n",
      "01301015,张颖,98,98,93,87\n",
      "\n",
      "01301016,欧源,90,100,96,94\n",
      "\n",
      "01301017,杨淼坤,88,86,78,67\n",
      "\n",
      "01301018,蔡朝丹,86,96,85,77\n",
      "\n",
      "01301019,曾胜强,85,93,77,63\n",
      "\n",
      "01301020,许桂忠,84,88,82,74\n",
      "\n",
      "01301021,郑夏琪,91,85,75,50\n",
      "\n",
      "01301022,郑铭伟,88,75,75,73\n",
      "\n",
      "01301023,钟霸星,93,87,78,64\n",
      "\n",
      "01301024,欧雅丽,93,87,70,60\n",
      "\n",
      "01301025,陈钊锋,86,78,79,71\n",
      "\n",
      "01301026,洪金奎,94,88,80,67\n",
      "\n",
      "01301027,陈志鹏,91,88,97,99\n",
      "\n",
      "01301028,杜嘉颖,92,80,86,84\n",
      "\n",
      "01301029,谢俊辉,94,83,80,68\n",
      "\n",
      "01301030,杨定康,90,78,85,79\n",
      "\n",
      "01301031,江梓健,88,89,85,78\n",
      "\n",
      "01301032,侯必莲,90,86,81,69\n",
      "\n",
      "01301033,李炫廷,95,87,87,82\n",
      "\n",
      "01301034,赖永伟,95,84,76,60\n",
      "\n",
      "01301035,李勇,88,85,70,55\n",
      "\n",
      "01301036,詹婷珊,92,82,89,88\n",
      "\n",
      "01301037,张三,90,88,85,70\n"
     ]
    }
   ],
   "source": [
    "fn=input(\"请输入要打开的文件名称:\")\n",
    "with open(fn,\"r\",encoding=\"utf-8\") as fo:\n",
    "    #print(fo.readlines())\n",
    "    for line in fo:\n",
    "        print(line)"
   ]
  },
  {
   "cell_type": "markdown",
   "metadata": {},
   "source": [
    "### 7.2.3 openpyxl库常用方法\n",
    "#### 创建Excel文件"
   ]
  },
  {
   "cell_type": "code",
   "execution_count": null,
   "metadata": {},
   "outputs": [],
   "source": [
    "from openpyxl import Workbook\n",
    "wb=Workbook()\n",
    "ws=wb.worksheets[0]"
   ]
  },
  {
   "cell_type": "markdown",
   "metadata": {},
   "source": [
    "#### append函数"
   ]
  },
  {
   "cell_type": "code",
   "execution_count": null,
   "metadata": {},
   "outputs": [],
   "source": [
    "row=[\"a\",\"b\",\"c\",\"d\",\"e\"]\n",
    "ws.append(row)"
   ]
  },
  {
   "cell_type": "markdown",
   "metadata": {},
   "source": [
    "#### 保存文件"
   ]
  },
  {
   "cell_type": "code",
   "execution_count": null,
   "metadata": {},
   "outputs": [],
   "source": [
    "import os\n",
    "wb.save(r\"d:\\myexcel.xlsx\")"
   ]
  },
  {
   "cell_type": "markdown",
   "metadata": {},
   "source": [
    "#### 读写Excel文件"
   ]
  },
  {
   "cell_type": "code",
   "execution_count": null,
   "metadata": {},
   "outputs": [],
   "source": [
    "from openpyxl import load_workbook\n",
    "wb=load_workbook(r\"d:\\myexcel.xlsx\")\n",
    "ws=wb.worksheets[0]\n"
   ]
  },
  {
   "cell_type": "markdown",
   "metadata": {},
   "source": [
    "#### 获取单元格内容"
   ]
  },
  {
   "cell_type": "code",
   "execution_count": null,
   "metadata": {},
   "outputs": [],
   "source": [
    "a1=ws['A1'].value\n",
    "print(a1)"
   ]
  },
  {
   "cell_type": "markdown",
   "metadata": {},
   "source": [
    "#### 单元格赋值"
   ]
  },
  {
   "cell_type": "code",
   "execution_count": null,
   "metadata": {},
   "outputs": [],
   "source": [
    "#直接赋值\n",
    "ws['A1']=10\n",
    "#使用cell()函数赋值\n",
    "ws.cell(row=2,column=1,value=20)"
   ]
  },
  {
   "cell_type": "markdown",
   "metadata": {},
   "source": [
    "#### 获取行和列"
   ]
  },
  {
   "cell_type": "code",
   "execution_count": null,
   "metadata": {},
   "outputs": [],
   "source": [
    "#获取工作表中有效的数据行数和列数\n",
    "print(ws.max_row)\n",
    "print(ws.max_column)"
   ]
  },
  {
   "cell_type": "markdown",
   "metadata": {},
   "source": [
    "#### 获取所有单元格"
   ]
  },
  {
   "cell_type": "code",
   "execution_count": null,
   "metadata": {},
   "outputs": [],
   "source": [
    "#双重循环遍历打印所有单元格的值\n",
    "for r in range(ws.max_row):\n",
    "    for c in range(ws.max_column):\n",
    "        print(ws.cell(row=r+1,column=c+1).value)"
   ]
  },
  {
   "cell_type": "code",
   "execution_count": null,
   "metadata": {},
   "outputs": [],
   "source": [
    "#把更改保存到文件中\n",
    "wb.save(r\"d:\\test.xlsx\")"
   ]
  },
  {
   "cell_type": "markdown",
   "metadata": {},
   "source": [
    "### 7.2.4 os库常用方法"
   ]
  },
  {
   "cell_type": "code",
   "execution_count": null,
   "metadata": {},
   "outputs": [],
   "source": [
    "import os\n",
    "path=r\"d:\\python\"\n",
    "file_list=os.listdir(path)\n",
    "for file in file_list:\n",
    "    print(file)"
   ]
  },
  {
   "cell_type": "markdown",
   "metadata": {},
   "source": [
    "### 7.2.5 文件练习\n",
    "\n"
   ]
  },
  {
   "cell_type": "code",
   "execution_count": 5,
   "metadata": {},
   "outputs": [
    {
     "name": "stdout",
     "output_type": "stream",
     "text": [
      "这是最新的输入这是追加的信息\n"
     ]
    }
   ],
   "source": [
    "output=open(\"file.txt\",\"w\")\n",
    "output.write(\"这是最新的输入\")\n",
    "output.close()\n",
    "#追加模式写入\n",
    "output=open(\"file.txt\",\"a\")\n",
    "output.write(\"这是追加的信息\")\n",
    "output.close()\n",
    "#以只读模式打开file.txt文件，并逐行读取文件内容\n",
    "output=open(r\"file.txt\",\"r\")\n",
    "for line in output.readlines():\n",
    "    print(line)\n",
    "output.close()"
   ]
  },
  {
   "cell_type": "code",
   "execution_count": 9,
   "metadata": {},
   "outputs": [
    {
     "name": "stdout",
     "output_type": "stream",
     "text": [
      "d,d,d,d,d\n",
      "\n",
      "['1', '2', '3', '4', '5', '6\\n']\n",
      "1,2,3,4,5,6\n",
      ","
     ]
    }
   ],
   "source": [
    "f=open(r\"data/file.txt\",\"r\")\n",
    "line_num=0\n",
    "for line in f.readlines():\n",
    "    line_num+=1\n",
    "    if line_num==3:\n",
    "        print(line)\n",
    "    if line_num==4:\n",
    "        ls=line.split(\",\")\n",
    "        print(ls)\n",
    "        for i in ls:\n",
    "            print(i,end=',')\n",
    "f.close()"
   ]
  },
  {
   "cell_type": "code",
   "execution_count": 12,
   "metadata": {},
   "outputs": [
    {
     "name": "stdout",
     "output_type": "stream",
     "text": [
      "d,d,d,d,d\n",
      "\n",
      "1,2,3,4,5,6\n",
      ","
     ]
    }
   ],
   "source": [
    "with open(r\"data/file.txt\",\"r\") as f:\n",
    "    line_num=0\n",
    "    for line in f.readlines():\n",
    "        line_num+=1\n",
    "        if line_num==3:\n",
    "            print(line)\n",
    "        if line_num==4:\n",
    "            ls=line.split(\",\")\n",
    "            for i in ls:\n",
    "                print(i,end=',')"
   ]
  },
  {
   "cell_type": "markdown",
   "metadata": {},
   "source": [
    "## 7.3 任务分析\n",
    "### 7.3.1任务分析--单个文件格式转换"
   ]
  },
  {
   "cell_type": "code",
   "execution_count": 23,
   "metadata": {},
   "outputs": [
    {
     "ename": "FileNotFoundError",
     "evalue": "[Errno 2] No such file or directory: 'test.txt'",
     "output_type": "error",
     "traceback": [
      "\u001b[1;31m---------------------------------------------------------------------------\u001b[0m",
      "\u001b[1;31mFileNotFoundError\u001b[0m                         Traceback (most recent call last)",
      "\u001b[1;32m~\\AppData\\Local\\Temp/ipykernel_18640/951018486.py\u001b[0m in \u001b[0;36m<module>\u001b[1;34m\u001b[0m\n\u001b[0;32m     13\u001b[0m \u001b[1;33m\u001b[0m\u001b[0m\n\u001b[0;32m     14\u001b[0m \u001b[0mmain\u001b[0m\u001b[1;33m(\u001b[0m\u001b[1;34m\"myfile.txt\"\u001b[0m\u001b[1;33m)\u001b[0m\u001b[1;33m\u001b[0m\u001b[1;33m\u001b[0m\u001b[0m\n\u001b[1;32m---> 15\u001b[1;33m \u001b[0mmain\u001b[0m\u001b[1;33m(\u001b[0m\u001b[1;34m\"test.txt\"\u001b[0m\u001b[1;33m)\u001b[0m\u001b[1;33m\u001b[0m\u001b[1;33m\u001b[0m\u001b[0m\n\u001b[0m",
      "\u001b[1;32m~\\AppData\\Local\\Temp/ipykernel_18640/951018486.py\u001b[0m in \u001b[0;36mmain\u001b[1;34m(txtFileName)\u001b[0m\n\u001b[0;32m      6\u001b[0m     \u001b[0mwb\u001b[0m \u001b[1;33m=\u001b[0m \u001b[0mWorkbook\u001b[0m\u001b[1;33m(\u001b[0m\u001b[1;33m)\u001b[0m\u001b[1;33m\u001b[0m\u001b[1;33m\u001b[0m\u001b[0m\n\u001b[0;32m      7\u001b[0m     \u001b[0mws\u001b[0m \u001b[1;33m=\u001b[0m \u001b[0mwb\u001b[0m\u001b[1;33m.\u001b[0m\u001b[0mworksheets\u001b[0m\u001b[1;33m[\u001b[0m\u001b[1;36m0\u001b[0m\u001b[1;33m]\u001b[0m\u001b[1;33m\u001b[0m\u001b[1;33m\u001b[0m\u001b[0m\n\u001b[1;32m----> 8\u001b[1;33m     \u001b[1;32mwith\u001b[0m \u001b[0mopen\u001b[0m\u001b[1;33m(\u001b[0m\u001b[0mtxtFileName\u001b[0m\u001b[1;33m,\u001b[0m\u001b[0mencoding\u001b[0m\u001b[1;33m=\u001b[0m\u001b[1;34m\"utf-8\"\u001b[0m\u001b[1;33m)\u001b[0m \u001b[1;32mas\u001b[0m \u001b[0mfp\u001b[0m\u001b[1;33m:\u001b[0m\u001b[1;33m\u001b[0m\u001b[1;33m\u001b[0m\u001b[0m\n\u001b[0m\u001b[0;32m      9\u001b[0m         \u001b[1;32mfor\u001b[0m \u001b[0mline\u001b[0m \u001b[1;32min\u001b[0m \u001b[0mfp\u001b[0m\u001b[1;33m:\u001b[0m\u001b[1;33m\u001b[0m\u001b[1;33m\u001b[0m\u001b[0m\n\u001b[0;32m     10\u001b[0m             \u001b[0mline\u001b[0m \u001b[1;33m=\u001b[0m \u001b[0mline\u001b[0m\u001b[1;33m.\u001b[0m\u001b[0mstrip\u001b[0m\u001b[1;33m(\u001b[0m\u001b[1;33m)\u001b[0m\u001b[1;33m.\u001b[0m\u001b[0msplit\u001b[0m\u001b[1;33m(\u001b[0m\u001b[1;34m','\u001b[0m\u001b[1;33m)\u001b[0m\u001b[1;33m\u001b[0m\u001b[1;33m\u001b[0m\u001b[0m\n",
      "\u001b[1;31mFileNotFoundError\u001b[0m: [Errno 2] No such file or directory: 'test.txt'"
     ]
    }
   ],
   "source": [
    "from openpyxl import Workbook\n",
    "import os\n",
    "\n",
    "def main(txtFileName):\n",
    "    new_XlsxFileName = txtFileName[:-3] + 'xlsx'\n",
    "    wb = Workbook()\n",
    "    ws = wb.worksheets[0]\n",
    "    with open(txtFileName,encoding=\"utf-8\") as fp:\n",
    "        for line in fp:\n",
    "            line = line.strip().split(',')\n",
    "            ws.append(line)\n",
    "        wb.save(new_XlsxFileName)\n",
    "\n",
    "main(\"myfile.txt\")\n"
   ]
  },
  {
   "cell_type": "markdown",
   "metadata": {},
   "source": [
    "### 7.3.2 任务分析--批量文件格式转换"
   ]
  },
  {
   "cell_type": "code",
   "execution_count": null,
   "metadata": {
    "scrolled": true
   },
   "outputs": [],
   "source": [
    "#查找该目录下所有txt文件，批量转换\n",
    "file_list = os.listdir(\"test/\")\n",
    "for filename in file_list:\n",
    "    pos = filename.rindex(\".\")\n",
    "    if filename[pos+1:] == \"txt\":\n",
    "        main(filename)"
   ]
  },
  {
   "cell_type": "markdown",
   "metadata": {},
   "source": [
    "### 7.3.3 任务分析--单个文件内容修改"
   ]
  },
  {
   "cell_type": "code",
   "execution_count": null,
   "metadata": {},
   "outputs": [],
   "source": []
  },
  {
   "cell_type": "markdown",
   "metadata": {},
   "source": [
    "### 7.3.4 任务分析--批量文件内容修改"
   ]
  },
  {
   "cell_type": "code",
   "execution_count": null,
   "metadata": {},
   "outputs": [],
   "source": []
  },
  {
   "cell_type": "markdown",
   "metadata": {},
   "source": [
    "## 7.4 任务实现\n",
    "#### 单个文件格式转换"
   ]
  },
  {
   "cell_type": "code",
   "execution_count": 24,
   "metadata": {},
   "outputs": [],
   "source": [
    "from openpyxl import Workbook\n",
    "import os\n",
    "def main(txtFileName):\n",
    "    new_XlsxFileName = txtFileName[:-3] + 'xlsx'\n",
    "    wb = Workbook()\n",
    "    ws = wb.worksheets[0]\n",
    "    with open(txtFileName,encoding=\"utf-8\") as fp:\n",
    "        for line in fp:\n",
    "            line = line.strip().split(',')\n",
    "            ws.append(line)\n",
    "        wb.save(new_XlsxFileName)\n"
   ]
  },
  {
   "cell_type": "markdown",
   "metadata": {},
   "source": [
    "#### 批量文件格式转换"
   ]
  },
  {
   "cell_type": "code",
   "execution_count": 27,
   "metadata": {},
   "outputs": [
    {
     "name": "stdout",
     "output_type": "stream",
     "text": [
      "['test1.txt', 'test10.txt', 'test2.txt', 'test3.txt', 'test4.txt', 'test5.txt', 'test6.txt', 'test7.txt', 'test8.txt', 'test9.txt']\n"
     ]
    },
    {
     "ename": "FileNotFoundError",
     "evalue": "[Errno 2] No such file or directory: 'test1.txt'",
     "output_type": "error",
     "traceback": [
      "\u001b[1;31m---------------------------------------------------------------------------\u001b[0m",
      "\u001b[1;31mFileNotFoundError\u001b[0m                         Traceback (most recent call last)",
      "\u001b[1;32m~\\AppData\\Local\\Temp/ipykernel_18640/2937368351.py\u001b[0m in \u001b[0;36m<module>\u001b[1;34m\u001b[0m\n\u001b[0;32m      5\u001b[0m     \u001b[0mpos\u001b[0m \u001b[1;33m=\u001b[0m \u001b[0mfilename\u001b[0m\u001b[1;33m.\u001b[0m\u001b[0mrindex\u001b[0m\u001b[1;33m(\u001b[0m\u001b[1;34m\".\"\u001b[0m\u001b[1;33m)\u001b[0m\u001b[1;33m\u001b[0m\u001b[1;33m\u001b[0m\u001b[0m\n\u001b[0;32m      6\u001b[0m     \u001b[1;32mif\u001b[0m \u001b[0mfilename\u001b[0m\u001b[1;33m[\u001b[0m\u001b[0mpos\u001b[0m\u001b[1;33m+\u001b[0m\u001b[1;36m1\u001b[0m\u001b[1;33m:\u001b[0m\u001b[1;33m]\u001b[0m \u001b[1;33m==\u001b[0m \u001b[1;34m\"txt\"\u001b[0m\u001b[1;33m:\u001b[0m\u001b[1;33m\u001b[0m\u001b[1;33m\u001b[0m\u001b[0m\n\u001b[1;32m----> 7\u001b[1;33m         \u001b[0mmain\u001b[0m\u001b[1;33m(\u001b[0m\u001b[0mfilename\u001b[0m\u001b[1;33m)\u001b[0m\u001b[1;33m\u001b[0m\u001b[1;33m\u001b[0m\u001b[0m\n\u001b[0m",
      "\u001b[1;32m~\\AppData\\Local\\Temp/ipykernel_18640/925544111.py\u001b[0m in \u001b[0;36mmain\u001b[1;34m(txtFileName)\u001b[0m\n\u001b[0;32m      5\u001b[0m     \u001b[0mwb\u001b[0m \u001b[1;33m=\u001b[0m \u001b[0mWorkbook\u001b[0m\u001b[1;33m(\u001b[0m\u001b[1;33m)\u001b[0m\u001b[1;33m\u001b[0m\u001b[1;33m\u001b[0m\u001b[0m\n\u001b[0;32m      6\u001b[0m     \u001b[0mws\u001b[0m \u001b[1;33m=\u001b[0m \u001b[0mwb\u001b[0m\u001b[1;33m.\u001b[0m\u001b[0mworksheets\u001b[0m\u001b[1;33m[\u001b[0m\u001b[1;36m0\u001b[0m\u001b[1;33m]\u001b[0m\u001b[1;33m\u001b[0m\u001b[1;33m\u001b[0m\u001b[0m\n\u001b[1;32m----> 7\u001b[1;33m     \u001b[1;32mwith\u001b[0m \u001b[0mopen\u001b[0m\u001b[1;33m(\u001b[0m\u001b[0mtxtFileName\u001b[0m\u001b[1;33m,\u001b[0m\u001b[0mencoding\u001b[0m\u001b[1;33m=\u001b[0m\u001b[1;34m\"utf-8\"\u001b[0m\u001b[1;33m)\u001b[0m \u001b[1;32mas\u001b[0m \u001b[0mfp\u001b[0m\u001b[1;33m:\u001b[0m\u001b[1;33m\u001b[0m\u001b[1;33m\u001b[0m\u001b[0m\n\u001b[0m\u001b[0;32m      8\u001b[0m         \u001b[1;32mfor\u001b[0m \u001b[0mline\u001b[0m \u001b[1;32min\u001b[0m \u001b[0mfp\u001b[0m\u001b[1;33m:\u001b[0m\u001b[1;33m\u001b[0m\u001b[1;33m\u001b[0m\u001b[0m\n\u001b[0;32m      9\u001b[0m             \u001b[0mline\u001b[0m \u001b[1;33m=\u001b[0m \u001b[0mline\u001b[0m\u001b[1;33m.\u001b[0m\u001b[0mstrip\u001b[0m\u001b[1;33m(\u001b[0m\u001b[1;33m)\u001b[0m\u001b[1;33m.\u001b[0m\u001b[0msplit\u001b[0m\u001b[1;33m(\u001b[0m\u001b[1;34m','\u001b[0m\u001b[1;33m)\u001b[0m\u001b[1;33m\u001b[0m\u001b[1;33m\u001b[0m\u001b[0m\n",
      "\u001b[1;31mFileNotFoundError\u001b[0m: [Errno 2] No such file or directory: 'test1.txt'"
     ]
    }
   ],
   "source": [
    "#查找该目录下所有txt文件，批量转换\n",
    "file_list = os.listdir(r\"test/\")\n",
    "print(file_list)\n",
    "for filename in file_list:\n",
    "    pos = filename.rindex(\".\")\n",
    "    if filename[pos+1:] == \"txt\":\n",
    "        main(filename)"
   ]
  },
  {
   "cell_type": "markdown",
   "metadata": {},
   "source": [
    "#### 单个文件内容修改"
   ]
  },
  {
   "cell_type": "code",
   "execution_count": null,
   "metadata": {},
   "outputs": [],
   "source": [
    "from openpyxl import load_workbook\n",
    "import os\n",
    "\n",
    "#打开Excel文件修改内容\n",
    "\n",
    "def modifyExcel(xlsxFileName):\n",
    "    wb = load_workbook(xlsxFileName)\n",
    "    ws = wb.worksheets[0]\n",
    "    for r in range(ws.max_row):\n",
    "        for c in range(ws.max_column):\n",
    "            if ws.cell(row=r+1,column=c+1).value == \"朱志豪\":\n",
    "                ws.cell(row=r+1, column=c+1).value = \"朱智豪\"\n",
    "    wb.save(xlsxFileName)"
   ]
  },
  {
   "cell_type": "markdown",
   "metadata": {},
   "source": [
    "#### 批量文件内容修改"
   ]
  },
  {
   "cell_type": "code",
   "execution_count": null,
   "metadata": {},
   "outputs": [],
   "source": [
    " #查找该目录下所有Excel文件，批量修改\n",
    "\n",
    "file_list = os.listdir(\".\")\n",
    "print(file_list)\n",
    "count = 0\n",
    "for filename in file_list:\n",
    "    pos = filename.rindex(\".\")\n",
    "    print(pos)\n",
    "    if filename[pos+1:] == \"xlsx\":\n",
    "        modifyExcel(filename)\n"
   ]
  },
  {
   "cell_type": "markdown",
   "metadata": {},
   "source": [
    "## 7.5 学生成绩文件异常处理"
   ]
  },
  {
   "cell_type": "code",
   "execution_count": null,
   "metadata": {},
   "outputs": [],
   "source": []
  },
  {
   "cell_type": "markdown",
   "metadata": {},
   "source": [
    "## 7.6 预备知识--异常\n",
    "为增强程序的健壮性，我们也需要考虑异常处理方面的内容。例如 ，在读取文件时需要考虑文件不存在、文件格式不正确等异常情况。\n",
    "### 7.6.1 异常"
   ]
  },
  {
   "cell_type": "code",
   "execution_count": null,
   "metadata": {},
   "outputs": [],
   "source": []
  },
  {
   "cell_type": "markdown",
   "metadata": {},
   "source": [
    "#### 除零异常\n",
    "![](img/7-exception.png)"
   ]
  },
  {
   "cell_type": "code",
   "execution_count": null,
   "metadata": {},
   "outputs": [],
   "source": [
    "print(3/0)"
   ]
  },
  {
   "cell_type": "markdown",
   "metadata": {},
   "source": [
    "#### 操作数类型异常"
   ]
  },
  {
   "cell_type": "code",
   "execution_count": null,
   "metadata": {},
   "outputs": [],
   "source": [
    "print('b'+5)"
   ]
  },
  {
   "cell_type": "markdown",
   "metadata": {},
   "source": [
    "#### 命名异常"
   ]
  },
  {
   "cell_type": "code",
   "execution_count": null,
   "metadata": {},
   "outputs": [],
   "source": [
    "print(x)"
   ]
  },
  {
   "cell_type": "markdown",
   "metadata": {},
   "source": [
    "#### 文件不存在异常"
   ]
  },
  {
   "cell_type": "code",
   "execution_count": null,
   "metadata": {},
   "outputs": [],
   "source": [
    "fp=open(r\"d:\\example.txt\")"
   ]
  },
  {
   "cell_type": "markdown",
   "metadata": {},
   "source": [
    "#### 下标越界异常"
   ]
  },
  {
   "cell_type": "code",
   "execution_count": null,
   "metadata": {},
   "outputs": [],
   "source": [
    "mylist=[1,2,3,4]\n",
    "print(mylist[4])"
   ]
  },
  {
   "cell_type": "markdown",
   "metadata": {},
   "source": [
    "#### 参数类型异常"
   ]
  },
  {
   "cell_type": "code",
   "execution_count": null,
   "metadata": {},
   "outputs": [],
   "source": [
    "print(len(5))"
   ]
  },
  {
   "cell_type": "markdown",
   "metadata": {},
   "source": [
    "### 7.6.2 常见异常结构处理\n",
    "#### try...except...\n",
    "异常捕获是通过try-except语句实现的，基本的try-except语句的语法 如下。在try代码块中包含在执行过程中可能引发异常的语句，如果没有发 生异常，则跳到except代码块执行，这就是异常捕获。\n",
    "![](img/7-exception-1.png)"
   ]
  },
  {
   "cell_type": "code",
   "execution_count": null,
   "metadata": {},
   "outputs": [],
   "source": [
    "try:\n",
    "    print(3/0)\n",
    "except ZeroDivisionError:\n",
    "    print(\"除数不能为0！\")"
   ]
  },
  {
   "cell_type": "code",
   "execution_count": null,
   "metadata": {},
   "outputs": [],
   "source": [
    "try:\n",
    "    print(3/0)\n",
    "except NameError:\n",
    "    print(\"除数不能为0！\")"
   ]
  },
  {
   "cell_type": "markdown",
   "metadata": {},
   "source": [
    "#### try...except...else..."
   ]
  },
  {
   "cell_type": "code",
   "execution_count": null,
   "metadata": {},
   "outputs": [],
   "source": [
    "x=input(\"Please input a data:\")\n",
    "try:\n",
    "    x=int(x)\n",
    "    print(5/x)\n",
    "except Exception:\n",
    "    print(\"Error.\")\n",
    "else:\n",
    "    print(\"5/{}={}\".format(x,5/x))"
   ]
  },
  {
   "cell_type": "markdown",
   "metadata": {},
   "source": [
    "#### try...except...finally...\n",
    "![](img/7-exception-3.png)  \n",
    "无论是try代码块正常结束还是except代码块异常结束，都会执行fin ally代码块。"
   ]
  },
  {
   "cell_type": "code",
   "execution_count": null,
   "metadata": {},
   "outputs": [],
   "source": [
    "x=input(\"Please input a data:\")\n",
    "try:\n",
    "    x=int(x)\n",
    "    print(5/x)\n",
    "except Exception:\n",
    "    print(\"Error.\")\n",
    "finally:\n",
    "    print(\"End\")"
   ]
  },
  {
   "cell_type": "code",
   "execution_count": null,
   "metadata": {},
   "outputs": [],
   "source": [
    "x=input(\"Please input a data:\")\n",
    "try:\n",
    "    x=int(x)\n",
    "    print(5/x)\n",
    "except ZeroDivisionError:\n",
    "    print(\"Error.\")\n",
    "finally:\n",
    "    print(\"End\")"
   ]
  },
  {
   "cell_type": "markdown",
   "metadata": {},
   "source": [
    "#### 捕捉多种异常的处理结构\n",
    "![](img/7-exception-2.png)"
   ]
  },
  {
   "cell_type": "code",
   "execution_count": null,
   "metadata": {},
   "outputs": [],
   "source": [
    "x=input(\"Please input a data:\")\n",
    "try:\n",
    "    x=int(x)\n",
    "    print(5/x)\n",
    "except ZeroDivisionError:\n",
    "    print(\"除数不能为0\")\n",
    "except ValueError:\n",
    "    print(\"x应为整数类型\")\n",
    "except NameError:\n",
    "    print(\"变量没有定义\") \n",
    "else:\n",
    "    print('5/',x,'=',5/x)\n",
    "\n",
    "finally:\n",
    "    print(\"End\")"
   ]
  },
  {
   "cell_type": "markdown",
   "metadata": {},
   "source": [
    "## 7.7 任务分析"
   ]
  },
  {
   "cell_type": "code",
   "execution_count": null,
   "metadata": {},
   "outputs": [],
   "source": []
  },
  {
   "cell_type": "markdown",
   "metadata": {},
   "source": [
    "## 7.8 任务实现"
   ]
  },
  {
   "cell_type": "code",
   "execution_count": 20,
   "metadata": {},
   "outputs": [
    {
     "name": "stdout",
     "output_type": "stream",
     "text": [
      "文件正常打开并添加了数据\n"
     ]
    }
   ],
   "source": [
    "from openpyxl import load_workbook\n",
    "try:\n",
    "    wb = load_workbook(\"myfile.xlsx\")\n",
    "    ws = wb.worksheets[0]\n",
    "    ws.append([1,2,3,4,5])\n",
    "    wb.save(\"myfile.xlsx\")\n",
    "except FileNotFoundError:\n",
    "    print(\"文件不存在\")\n",
    "except IndexError:\n",
    "    print(\"工作表下标越界\")\n",
    "except TypeError:\n",
    "    print(\"参数类型错误\")\n",
    "except PermissionError:\n",
    "    print(\"文件未关闭\")\n",
    "else:\n",
    "    print(\"文件正常打开并添加了数据\")\n"
   ]
  },
  {
   "cell_type": "code",
   "execution_count": null,
   "metadata": {},
   "outputs": [],
   "source": [
    "#错误示范\n",
    "from openpyxl import load_workbook\n",
    "try:\n",
    "    wb = load_workbook(\"test1.xlsx\")\n",
    "    ws = wb.worksheets[1]\n",
    "    ws.append([1,2,3,4,5])\n",
    "    wb.save(\"test.xlsx\",encoding=\"ad\")\n",
    "except FileNotFoundError:\n",
    "    print(\"文件不存在\")\n",
    "except IndexError:\n",
    "    print(\"工作表下标越界\")\n",
    "except TypeError:\n",
    "    print(\"参数类型错误\")\n",
    "except PermissionError:\n",
    "    print(\"文件未关闭\")\n",
    "else:\n",
    "    print(\"文件正常打开并添加了数据\")\n"
   ]
  },
  {
   "cell_type": "markdown",
   "metadata": {},
   "source": [
    "## 7.9 职业院校建设方案的分词和云图"
   ]
  },
  {
   "cell_type": "markdown",
   "metadata": {},
   "source": [
    " <img src=\"img/7-szpt.png\" width=\"700\" height=\"700\" align=\"left\" /><br>\n",
    "   <img src=\"img/7-szpt3.png\" width=\"400\" height=\"400\" align=\"left\" /><br>\n",
    "     <img src=\"img/7-szpt2.png\" width=\"400\" height=\"400\" align=\"left\" /><br>"
   ]
  },
  {
   "cell_type": "markdown",
   "metadata": {},
   "source": [
    "## 7.10 预备知识--自然语言处理、中文分词、jieba库和wordcloud库\n"
   ]
  },
  {
   "cell_type": "markdown",
   "metadata": {},
   "source": [
    "##  7.10.1 自然语言处理(NLP)\n",
    "自然语言是人类智慧的结晶，自然语言处理(NLP，Natural Language Processing) 是人工智能（AI）的一个子领域，是指机器理解并解释人类的写作、说话方式的能力。NLP 的目标是让计算机／机器在理解语言上像人类一样智能,NLP是人工智能中最为困难的问题之一。<br>\n",
    "举例：<br>\n",
    "(1) “开刀的是她父亲”,可理解为她父亲是开刀的外科医生,也可理解为他父亲有病,医生给他做了手术。<br>\n",
    "(2)“我要炒肉丝”,“炒”可理解为动词或形容词。　　<br>\n",
    "(3)“饭不热了”,“热”是动词,意即不用热饭了,凉的也可以吃；“热”是形容词,意即饭凉了。<br>\n",
    "(4)“我们把香蕉给猴子，因为它们饿了”和“我们把香蕉给猴子，因为它们熟透了”有同样的结构。但是代词“它们”在第一句中指的是“猴子”，在第二句中指的是“香蕉”。如果不了解猴子和香蕉的属性，无法区分。<br>\n",
    "\n",
    "自然语言处理大致有如下一些范畴：\n",
    "> <img src=\"img/自然语言处理.png\" width=\"600\" height=\"600\" align=\"center\" />"
   ]
  },
  {
   "cell_type": "markdown",
   "metadata": {},
   "source": [
    "##   7.10.2 中文分词处理\n",
    "### 1. 中文分词概述<br>\n",
    " 在对文字进行处理的时候，经常要把文字语句进行分词处理，英文文本可以通过空格或其它标点符号分隔。但是对于中文文本，只是字、句和段能通过明显的分界符来简单划界，唯独词没有一个形式上的分界符，虽然英文也同样存在短语的划分问题，不过在词这一层上，中文比之英文要复杂得多、困难得多。<br>\n",
    "例如：<br>\n",
    "(1)\"兵乓球拍卖完了\"可切分为“乒乓球/拍卖/完了”又可以切分为“乒乓球拍/卖/完了”<br>\n",
    "(2)\"结婚的和尚未结婚的\"可切分为\"结婚的/和尚/未结婚的\",有可以切分为\"结婚的/和/尚未结婚的\"<br>\n",
    "\n",
    "### 2 中文分词应用 \n",
    "在数据分析，人工智能的应用中，经常会涉及到对中文文字数据的处理，如词频统计、舆情分析、相似度检测，信息检索，用户画像、语义识别等方面。<br>\n",
    " * &nbsp;&nbsp; 词频统计:<br> 是一种用于情报检索与文本挖掘的常用加权技术，用以评估一个词对于一个文件或者一个语料库中的一个领域文件集的重要程度。\n",
    "  <img src=\"img/词云.png\" width=\"400\" height=\"400\" align=\"center\" />\n",
    " * &nbsp;&nbsp; 舆情分析：舆情一般是指广泛大众关于社会民情、民意的事情的态度及舆论。舆情分析就是根据特定问题的需要，对针对这个问题的舆情进行深层次的思维加工和分析研究，得到相关结论的过程。 <img src=\"img/舆情分析.jpg\" width=\"500\" height=\"500\" align=\"center\" />\n",
    " * &nbsp;&nbsp; 相似度检测：相似度检测查的是论文当中的重复率问题，两篇或多篇文章中部分或全部内容相似程度 <img src=\"img/相似度检测.png\" width=\"500\" height=\"500\" align=\"center\" />\n",
    " * &nbsp;&nbsp; 信息检索：信息检索是信息按一定的方式进行加工、整理、组织并存储起来，再根据信息用户特定的需要将相关信息准确的查找出来的过程<img src=\"img/信息检索.jpg\" width=\"500\" height=\"500\" align=\"center\" />\n",
    " * &nbsp;&nbsp; 用户画像：用户画像是指在大数据时代，根据用户的属性、用户偏好、生活习惯、用户行为等信息而抽象出来的标签化用户模型。通俗说就是给用户打标签，而标签是通过对用户信息分析而来的高度精炼的特征标识。\n",
    " <img src=\"img/用户画像.jpg\" width=\"500\" height=\"500\" align=\"center\" />\n",
    " <img src=\"img/用户画像意义.png\" width=\"500\" height=\"500\" align=\"center\" />\n",
    " * &nbsp;&nbsp; 语义识别：语义识别是自然语言处理（NLP）技术的重要组成部分之一，语义识别的核心除了理解文本词汇的含义，还要理解这个词语在语句、篇章中所代表的意思，这意味着语义识别从技术上要做到：文本、词汇、句法、词法、篇章（段落）层面的语义分析和歧义消除，以及对应的含义重组，以达到识别本身的目的。语义识别技术可以分析网页、文件、邮件、音频、论坛、社交媒体中的大量数据，应用领域广泛，既可以直接应用于医疗、教育、金融等行业。也可以通过技术接口应用于所有智能语音交互场景，如智能家居、车载语音、可穿戴设备、VR、机器人等，从交互的方式上，也可以分为：事实问答、知识检索、分类问题等。智能语音交互被看做未来人工智能技术中最值得期待的应用场景\n",
    " \n",
    " <img src=\"img/语义识别.jpg\" width=\"500\" height=\"500\" align=\"center\" />\n",
    " "
   ]
  },
  {
   "cell_type": "markdown",
   "metadata": {},
   "source": [
    "##  7.10.3 jieba库概述：\n",
    " * jieba是Python中一个重要的第三方函数库，对中文分词做了一些处理，可以将中文语句按照中文的使用特点和习惯进行分词。其分词原理是利用一个中文词库，将待分词的内容与分词词库进行比对，通过图结构和动态规划方法找到最大概率的词组\n",
    " * jieba库是第三方库，不是安装包自带，需要通过pip指令安装:\n",
    "<br>pip install jieba"
   ]
  },
  {
   "cell_type": "markdown",
   "metadata": {},
   "source": [
    "### 英文分词"
   ]
  },
  {
   "cell_type": "code",
   "execution_count": null,
   "metadata": {},
   "outputs": [],
   "source": [
    "string1=\"China is a great country\"\n",
    "string1.split()"
   ]
  },
  {
   "cell_type": "markdown",
   "metadata": {},
   "source": [
    "### jieba库分词方法\n",
    " <img src=\"img/分词方法.png\" width=\"600\" height=\"600\" align=\"center\" /><br>\n",
    "jieba常用的三种分词模式：\n",
    "* 精确模式，试图将句子最精确地切开，适合文本分析；\n",
    "* 全模式，把句子中所有的可以成词的词语都扫描出来, 速度非常快，但是不能解决歧义；\n",
    "* 搜索引擎模式，在精确模式的基础上，对长词再次切分，提高召回率，适合用于搜索引擎分词。"
   ]
  },
  {
   "cell_type": "markdown",
   "metadata": {},
   "source": [
    "#### 精确模式"
   ]
  },
  {
   "cell_type": "code",
   "execution_count": null,
   "metadata": {},
   "outputs": [],
   "source": [
    "import jieba\n",
    "text=\"我是深圳职业技术学院21大数据专业的一名学生\"\n",
    "seg_list1=jieba.lcut(text,cut_all=False)\n",
    "print(\"精确模式：\"+\"/\".join(seg_list1))"
   ]
  },
  {
   "cell_type": "markdown",
   "metadata": {},
   "source": [
    "#### 全模式"
   ]
  },
  {
   "cell_type": "code",
   "execution_count": null,
   "metadata": {},
   "outputs": [],
   "source": [
    "seg_list2=jieba.lcut(text,cut_all=True)\n",
    "\n",
    "print(\"全模式:\"+\"/\".join(seg_list2))"
   ]
  },
  {
   "cell_type": "markdown",
   "metadata": {},
   "source": [
    "#### 搜索引擎模式"
   ]
  },
  {
   "cell_type": "code",
   "execution_count": null,
   "metadata": {},
   "outputs": [],
   "source": [
    "seg_list3=jieba.lcut_for_search(text)\n",
    "\n",
    "print(\"搜索引擎模式：\"+\"/\".join(seg_list3))"
   ]
  },
  {
   "cell_type": "markdown",
   "metadata": {},
   "source": [
    "### 7.10.2 wordcloud库"
   ]
  },
  {
   "cell_type": "code",
   "execution_count": null,
   "metadata": {},
   "outputs": [],
   "source": []
  },
  {
   "cell_type": "markdown",
   "metadata": {},
   "source": [
    "#### 创建词云图"
   ]
  },
  {
   "cell_type": "code",
   "execution_count": null,
   "metadata": {},
   "outputs": [],
   "source": [
    "import wordcloud\n",
    "c=wordcloud.WordCloud()                                #生成词云对象\n",
    "c.generate(\"wordcloud by Python of Shenzhen Polytenic\")#加载词云文本\n",
    "c.to_file(\"wordcloud.png\")                             #生成词云文件"
   ]
  },
  {
   "cell_type": "markdown",
   "metadata": {},
   "source": [
    "## 7.11 任务分析\n",
    "### 7.11.1 词频统计"
   ]
  },
  {
   "cell_type": "code",
   "execution_count": null,
   "metadata": {},
   "outputs": [],
   "source": [
    "import jieba\n",
    "text=open(\"data/SZPT.TXT\").read()\n",
    "seg_list=jieba.lcut(text,cut_all=False)\n",
    "\n",
    "counts={}\n",
    "\n",
    "for word in seg_list:\n",
    "    counts[word]=counts.get(word,0)+1\n",
    "        #get(word,0)表示获取字典中关键字word对应的值，不存在则默认为0\n",
    "\n",
    "myitem=list(counts.items())\n",
    "    #将字典转换为列表\n",
    "    #print(myitem[0:5])\n",
    "myitem.sort(key=lambda x:x[1],reverse=True)\n",
    "    #当待排序列表的元素由多字段构成时，\n",
    "    #可通过key=lambda x:x[？]指定字段对列表元素进行排序。\n",
    "\n",
    "for i in range(10):\n",
    "    print(myitem[i])\n",
    "    \n"
   ]
  },
  {
   "cell_type": "markdown",
   "metadata": {},
   "source": [
    "<img src=\"img/7-szpt4.png\" width=\"500\" height=\"500\" align=\"left\" /><br><br><br><br><br><br><br><br><br><br><br><br><br><br><br><br><br><br><br><br>\n",
    " \n",
    " \n",
    "## get() 方法 和 dict[key] 访问元素区别\n",
    "####  get(key) 方法在 key（键）不在字典中时，可以返回默认值 None 或者设置的默认值。\n",
    "\n",
    "#### dict[key] 在 key（键）不在字典中时，会触发 KeyError 异常。"
   ]
  },
  {
   "cell_type": "code",
   "execution_count": null,
   "metadata": {},
   "outputs": [],
   "source": [
    "dict1={\"good\":3,\"bad\":4}\n",
    "count=dict1.get(\"good\",0)\n",
    "print(count)\n",
    "count1=dict1['word']\n",
    "print(count1)"
   ]
  },
  {
   "cell_type": "markdown",
   "metadata": {},
   "source": [
    "### 7.11.2 统计优化"
   ]
  },
  {
   "cell_type": "code",
   "execution_count": null,
   "metadata": {},
   "outputs": [],
   "source": [
    "import jieba\n",
    "text=open(\"data//SZPT.txt\").read()\n",
    "seg_list=jieba.lcut(text,cut_all=False)\n",
    "counts={}\n",
    "for word in seg_list:\n",
    "    counts[word]=counts.get(word,0)+1\n",
    "        #get(word,0)表示获取字典中关键字word对应的值，不存在则默认为0\n",
    "excludes={'\\u3000','\\n',' ','的','，','：','（','）','、',' ','。','和','“','”','与','等'}\n",
    "for word in excludes:\n",
    "    del(counts[word])\n",
    "myitem=list(counts.items())\n",
    "    #将字典转换为列表\n",
    "myitem.sort(key=lambda x:x[1],reverse=True)\n",
    "    #当待排序列表的元素由多字段构成时，\n",
    "    #可通过key=lambda x:x[？]指定字段对列表元素进行排序。\n",
    "for i in range(10):\n",
    "    word,count=myitem[i]\n",
    "    #print(myitem[i])\n",
    "    print(\"{0:-<10} {1:->5}\".format(word,count))"
   ]
  },
  {
   "cell_type": "markdown",
   "metadata": {},
   "source": [
    "### 7.11.3 词云图的绘制"
   ]
  },
  {
   "cell_type": "code",
   "execution_count": null,
   "metadata": {},
   "outputs": [],
   "source": []
  },
  {
   "cell_type": "markdown",
   "metadata": {},
   "source": [
    "## 7.12 任务实现\n",
    "#### 词频统计"
   ]
  },
  {
   "cell_type": "code",
   "execution_count": null,
   "metadata": {},
   "outputs": [],
   "source": []
  },
  {
   "cell_type": "markdown",
   "metadata": {},
   "source": [
    "#### 统计优化"
   ]
  },
  {
   "cell_type": "code",
   "execution_count": null,
   "metadata": {},
   "outputs": [],
   "source": []
  },
  {
   "cell_type": "markdown",
   "metadata": {},
   "source": [
    "#### 词云图绘制"
   ]
  },
  {
   "cell_type": "code",
   "execution_count": null,
   "metadata": {},
   "outputs": [],
   "source": [
    "import matplotlib.pyplot as plt\n",
    "from wordcloud import WordCloud,ImageColorGenerator\n",
    "from PIL import Image\n",
    "import jieba\n",
    "import numpy\n",
    "#打开图像并转化为数字矩阵\n",
    "img= numpy.array(Image.open(\"data/XXX.jpg\"))\n",
    "\n",
    "text_word = open('data/szpt.txt').read()\n",
    "\n",
    "wordlist= jieba.lcut(text_word, cut_all=True)\n",
    "wl_split = \"/\".join(wordlist)\n",
    "\n",
    "wc1 = WordCloud(background_color='WHITE', max_font_size=1000, mask=img,\n",
    "                font_path=\"C:\\\\Windows\\\\Fonts\\\\STKAITI.TTF\")\n",
    "\n",
    "my_wordcloud = wc1.generate(wl_split)\n",
    "\n",
    "#image_color = ImageColorGenerator(img)\n",
    "#wc1.recolor(color_func=image_color)\n",
    "plt.figure(figsize=(12,8))\n",
    "plt.imshow(my_wordcloud)\n",
    "plt.axis(\"off\")\n",
    "plt.show()"
   ]
  },
  {
   "cell_type": "markdown",
   "metadata": {},
   "source": [
    "## 7.13 总结与提高--os库其他成员、文件编码、再谈异常\n",
    "## 7.13.1 os库其他成员"
   ]
  },
  {
   "cell_type": "code",
   "execution_count": null,
   "metadata": {},
   "outputs": [],
   "source": [
    "#建立文件夹\n",
    "import os \n",
    "os.mkdir(\"测试文件夹\")\n"
   ]
  },
  {
   "cell_type": "code",
   "execution_count": null,
   "metadata": {},
   "outputs": [],
   "source": [
    "f=open(\"20221204.txt\",\"w\")\n",
    "f.write(\"abcde\")\n",
    "f.close()\n"
   ]
  },
  {
   "cell_type": "code",
   "execution_count": null,
   "metadata": {},
   "outputs": [],
   "source": [
    "#删除文件\n",
    "os.remove(\"20221204.txt\")"
   ]
  },
  {
   "cell_type": "code",
   "execution_count": null,
   "metadata": {},
   "outputs": [],
   "source": []
  },
  {
   "cell_type": "markdown",
   "metadata": {},
   "source": [
    "### 7.13.2 文件编码"
   ]
  },
  {
   "cell_type": "code",
   "execution_count": 3,
   "metadata": {
    "scrolled": true
   },
   "outputs": [
    {
     "name": "stdout",
     "output_type": "stream",
     "text": [
      "import openpyxl\n",
      "\n",
      "from openpyxl import Workbook\n",
      "\n",
      "import math\n",
      "\n",
      "#r为去除转义字符\n",
      "\n",
      "fn = r'D:\\教学任务\\Python\\snow.xlsx'        #定义文件名\n",
      "\n",
      "wb = Workbook()                               #创建工作簿\n",
      "\n",
      "ws = wb.create_sheet(title=\"Hello,Python\")   #创建工资表\n",
      "\n",
      "ws['A1'] = '这是第一个单元格'                #单元格赋值\n",
      "\n",
      "ws['B1'] = 3.1415926\n",
      "\n",
      "wb.save(fn)                                   #保存Excel文件\n",
      "\n",
      "wb = openpyxl.load_workbook(fn)               #打开已有的Excel文件\n",
      "\n",
      "ws = wb.worksheets[1]                         #打开指定索引的工作表\n",
      "\n",
      "print(ws['A1'].value)                         #读取并输出指定单元格的值\n",
      "\n",
      "ws.append([1,2,3,4,5])                        #添加一行数据（列表形式）\n",
      "\n",
      "ws.merge_cells('F2:F3')                      #合并单元格\n",
      "\n",
      "for r in range(10,15):                       #从第10行第3列至第15行第8列区域内写入单元格数据，内容为行*列\n",
      "\n",
      "    for c in range(3,8):\n",
      "\n",
      "        _ = ws.cell(row=r,column=c,value=r*c)\n",
      "\n",
      "wb.save(fn)\n",
      "\n"
     ]
    },
    {
     "data": {
      "text/plain": [
       "<function TextIOWrapper.close()>"
      ]
     },
     "execution_count": 3,
     "metadata": {},
     "output_type": "execute_result"
    }
   ],
   "source": [
    "fp=open(r\"data\\testfile.py\",\"r\",encoding=\"gbk\")\n",
    "#fp=open(r\"data\\testfile.py\",\"r\",encoding=\"gbk\",errors='ignore')\n",
    "#fp=open(r\"data\\testfile.py\",\"r\",encoding=\"utf-8\",errors='ignore')\n",
    "for line in fp:\n",
    "    print(line)\n",
    "fp.close"
   ]
  },
  {
   "cell_type": "code",
   "execution_count": null,
   "metadata": {},
   "outputs": [],
   "source": [
    "fp=open(r\"data\\testfile.py\",\"r\",encoding=\"utf-8\",errors='ignore')\n",
    "for line in fp:\n",
    "    print(line)\n",
    "fp.close"
   ]
  },
  {
   "cell_type": "markdown",
   "metadata": {},
   "source": [
    "### 7.13.3 再谈异常"
   ]
  },
  {
   "cell_type": "code",
   "execution_count": null,
   "metadata": {},
   "outputs": [],
   "source": [
    "from openpyxl import load_workbook\n",
    "import os\n",
    "\n",
    "#打开Excel文件修改内容\n",
    "\n",
    "def modifyExcel(xlsxFileName):\n",
    "    wb = load_workbook(xlsxFileName)\n",
    "    ws = wb.worksheets[0]\n",
    "    for r in range(ws.max_row):\n",
    "        for c in range(ws.max_column):\n",
    "            if ws.cell(row=r+1,column=c+1).value == \"朱志豪\":\n",
    "                ws.cell(row=r+1, column=c+1).value = \"朱智豪\"\n",
    "    wb.save(xlsxFileName)"
   ]
  },
  {
   "cell_type": "code",
   "execution_count": null,
   "metadata": {},
   "outputs": [],
   "source": [
    "file_list=os.listdir(\"test\")\n",
    "print(file_list)\n",
    "for filename in file_list:\n",
    "    try:\n",
    "        pos=filename.rindex(\".\")\n",
    "    except ValueError:\n",
    "        pass\n",
    "    else:\n",
    "        if filename[pos+1:]==\"xlsx\":\n",
    "            modifyExcel(filename)\n",
    "            "
   ]
  },
  {
   "cell_type": "markdown",
   "metadata": {},
   "source": [
    "## 7.14 巩固与提高\n",
    "### 7.14.1 数据处理与文件另存"
   ]
  },
  {
   "cell_type": "code",
   "execution_count": 5,
   "metadata": {},
   "outputs": [
    {
     "name": "stdout",
     "output_type": "stream",
     "text": [
      "['12,34,56,78,98,95\\n', '17,25,66,88,81,44\\n', '19,28,90,47,39,51']\n",
      "12,34,56,78,98,95\n",
      ",17,25,66,88,81,44\n",
      ",19,28,90,47,39,51\n",
      "['12', '34', '56', '78', '98', '95\\n', '17', '25', '66', '88', '81', '44\\n', '19', '28', '90', '47', '39', '51']\n",
      "95\n",
      "------------------------------\n",
      "[12, 17, 19, 25, 28, 34, 39, 44, 47, 51, 56, 66, 78, 81, 88, 90, 95, 98]\n",
      "12,17,19,25,28,34,39,44,47,51,56,66,78,81,88,90,95,98\n"
     ]
    }
   ],
   "source": [
    "with open('data\\data.txt','r') as fp:\n",
    "    data = fp.readlines()                  #读取所有行\n",
    "print(data)\n",
    "for line in data:\n",
    "    line.strip()                           #删除每行两侧的空白字符\n",
    "data = ','.join(data)                      #合并所有行，以“，”间隔\n",
    "print(data)\n",
    "data = data.split(',')                     #分割得到所有数字\n",
    "print(data)\n",
    "print(int(data[5]))\n",
    "newdata = []\n",
    "for item in data:\n",
    "    newdata.append(int(item))              #新建列表，将原字符串中的每个数字字符串转换为数字加进新列表\n",
    "    \n",
    "newdata.sort()                             #升序排序\n",
    "print(\"-\"*30)\n",
    "print(newdata)\n",
    "data = ','.join(map(str,newdata))          #将结果转换为字符串\n",
    "print(data)\n",
    "with open('datasort.txt','w') as fp:     #将结果写入新文件\n",
    "    fp.write(data)"
   ]
  },
  {
   "cell_type": "markdown",
   "metadata": {},
   "source": [
    "### 7.14.2 批量修改记事本文件编码格式"
   ]
  },
  {
   "cell_type": "code",
   "execution_count": null,
   "metadata": {},
   "outputs": [],
   "source": [
    "import os\n",
    "# 获取当前文件夹中所有记事本文件清单\n",
    "list1=os.listdir()\n",
    "for fn in os.listdir():\n",
    "    if fn.endswith('.txt'):\n",
    "        try:\n",
    "        # 首先尝试使用UTF8编码打开并读取文件内容\n",
    "        # 如果失败会抛出异常\n",
    "            with open(fn,encoding=\"utf-8\") as fp:\n",
    "                  fp.read()\n",
    "        except UnicodeDecodeError:\n",
    "        # 以默认的GBK编码读取原文件内容\n",
    "        # 以UTF8编码写入新文件\n",
    "                with open(fn) as fp1:\n",
    "                    with open('t.txt', 'w', encoding='utf-8') as fp2:\n",
    "                        fp2.write(fp1.read())\n",
    "        # 删除原文件，把新文件重命名为原文件\n",
    "        os.remove(fn)\n",
    "        os.rename('t.txt', fn)"
   ]
  },
  {
   "cell_type": "markdown",
   "metadata": {},
   "source": [
    "### 7.14.3 演员参演信息"
   ]
  },
  {
   "cell_type": "code",
   "execution_count": null,
   "metadata": {},
   "outputs": [],
   "source": [
    "import openpyxl\n",
    "from openpyxl import Workbook\n",
    "\n",
    "def getData(filename):\n",
    "    actors = dict()\n",
    "    # 打开xlsx文件，并获取第一个worksheet\n",
    "    wb = openpyxl.load_workbook(filename)\n",
    "    ws = wb.worksheets[0]\n",
    "    # 遍历Excel文件中的所有行\n",
    "    for index, row in enumerate(ws.rows):\n",
    "        # 绕过第一行的表头\n",
    "        if index == 0:\n",
    "            continue\n",
    "        # 获取电影名称和演员列表\n",
    "        filmName, actor = row[0].value, row[2].value.split('，')\n",
    "        # 遍历该电影的所有演员，统计参演电影\n",
    "        for a in actor:\n",
    "            actors[a] = actors.get(a, set())\n",
    "            actors[a].add(filmName)\n",
    "    return actors\n",
    "\n",
    "data = getData('data/电影导演演员.xlsx')\n",
    "# 排序\n",
    "data = sorted(data.items(), key=lambda x:int(x[0][2:]))\n",
    "for item in data:\n",
    "    print(item)"
   ]
  },
  {
   "cell_type": "markdown",
   "metadata": {},
   "source": [
    "## 7.15 编程习题"
   ]
  },
  {
   "cell_type": "code",
   "execution_count": null,
   "metadata": {},
   "outputs": [],
   "source": []
  }
 ],
 "metadata": {
  "hide_input": false,
  "kernelspec": {
   "display_name": "Python 3",
   "language": "python",
   "name": "python3"
  },
  "language_info": {
   "codemirror_mode": {
    "name": "ipython",
    "version": 3
   },
   "file_extension": ".py",
   "mimetype": "text/x-python",
   "name": "python",
   "nbconvert_exporter": "python",
   "pygments_lexer": "ipython3",
   "version": "3.6.4"
  },
  "toc": {
   "base_numbering": 1,
   "nav_menu": {},
   "number_sections": false,
   "sideBar": false,
   "skip_h1_title": false,
   "title_cell": "Table of Contents",
   "title_sidebar": "Contents",
   "toc_cell": false,
   "toc_position": {},
   "toc_section_display": false,
   "toc_window_display": false
  },
  "vscode": {
   "interpreter": {
    "hash": "287ce0282b01c1888cda87edf8a6ea705b55de1d257c8ee64a27122feab8970f"
   }
  }
 },
 "nbformat": 4,
 "nbformat_minor": 2
}
