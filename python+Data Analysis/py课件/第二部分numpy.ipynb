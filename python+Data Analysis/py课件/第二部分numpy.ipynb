{
 "cells": [
  {
   "cell_type": "markdown",
   "metadata": {},
   "source": [
    "# 第二章 Numpy数值计算基础\n",
    "## 学习目标\n",
    "- Numpy创建多维数组和生成随机数的方法\n",
    "- 数组的索引与变换\n",
    "- Numpy中数组矩阵的运算及通用函数的基本使用方法\n",
    "- Numpy读写文件的方法和常用的统计分析函数"
   ]
  },
  {
   "cell_type": "code",
   "execution_count": 3,
   "metadata": {},
   "outputs": [],
   "source": [
    "# 显示所有变量\n",
    "from IPython.core.interactiveshell import InteractiveShell\n",
    "InteractiveShell.ast_node_interactivity = \"all\"\n",
    "import numpy as np"
   ]
  },
  {
   "cell_type": "code",
   "execution_count": 4,
   "metadata": {},
   "outputs": [],
   "source": [
    "# 从文本文件读取人口数据\n",
    "peoples = np.loadtxt(\"data/人口.csv\",skiprows=2,delimiter=',',usecols=(range(1,13)),encoding=\"utf-8\")\n",
    "province = np.loadtxt(\"data/人口.csv\",skiprows=2,delimiter=',',usecols=0,encoding=\"utf-8\",dtype=str)"
   ]
  },
  {
   "cell_type": "markdown",
   "metadata": {},
   "source": [
    "## 2.1 掌握 NumPy 数组对象 ndarray\n",
    "Python 提供了一个array 模块。array 和list 不同，它直接保存数值，和C 语言的一维\n",
    "数组比较类似。但是由于Python 的array 模块不支持多维，也没有各种运算函数，因此也\n",
    "不适合做数值运算。NumPy 的诞生弥补了这些不足。NumPy 提供了一种**存储单一数据类型\n",
    "的多维数组——ndarray**。"
   ]
  },
  {
   "cell_type": "code",
   "execution_count": 10,
   "metadata": {},
   "outputs": [
    {
     "data": {
      "text/plain": [
       "[10, 20, 30, 'abc', 1.23, True]"
      ]
     },
     "execution_count": 10,
     "metadata": {},
     "output_type": "execute_result"
    },
    {
     "data": {
      "text/plain": [
       "list"
      ]
     },
     "execution_count": 10,
     "metadata": {},
     "output_type": "execute_result"
    },
    {
     "data": {
      "text/plain": [
       "30"
      ]
     },
     "execution_count": 10,
     "metadata": {},
     "output_type": "execute_result"
    },
    {
     "data": {
      "text/plain": [
       "[20, 30]"
      ]
     },
     "execution_count": 10,
     "metadata": {},
     "output_type": "execute_result"
    }
   ],
   "source": [
    "# Python的列表list\n",
    "l=[10,20,30,\"abc\",1.23,True]\n",
    "l\n",
    "type(l)\n",
    "# 默认只输出最后一个返回值\n",
    "l[2]\n",
    "l[1:3]"
   ]
  },
  {
   "cell_type": "code",
   "execution_count": 5,
   "metadata": {},
   "outputs": [
    {
     "data": {
      "text/plain": [
       "[4, 5, 6, 7, 1, 2, 3, 4]"
      ]
     },
     "execution_count": 5,
     "metadata": {},
     "output_type": "execute_result"
    },
    {
     "data": {
      "text/plain": [
       "[1, 2, 3]"
      ]
     },
     "execution_count": 5,
     "metadata": {},
     "output_type": "execute_result"
    },
    {
     "data": {
      "text/plain": [
       "[8, 2, 3]"
      ]
     },
     "execution_count": 5,
     "metadata": {},
     "output_type": "execute_result"
    },
    {
     "data": {
      "text/plain": [
       "[1, 2, 3, 4]"
      ]
     },
     "execution_count": 5,
     "metadata": {},
     "output_type": "execute_result"
    }
   ],
   "source": [
    "l1=[4,5,6,7]\n",
    "l2=[1,2,3,4]\n",
    "l1+l2\n",
    "#l1*l2\n",
    "#l2+1\n",
    "\n",
    "#列表切片修改后不影响源列表\n",
    "l3=l2[0:3]\n",
    "l3\n",
    "l3[0]=8\n",
    "l3\n",
    "l2"
   ]
  },
  {
   "cell_type": "markdown",
   "metadata": {},
   "source": [
    "### 2.1.1 创建数组对象\n",
    "#### 数组的属性\n",
    "#### 数组的创建\n",
    "- 一维数组\n",
    "\n",
    "![](img/创建一维数组.png)  \n",
    "- 二维数组  "
   ]
  },
  {
   "cell_type": "code",
   "execution_count": 2,
   "metadata": {
    "scrolled": true
   },
   "outputs": [
    {
     "data": {
      "text/plain": [
       "array([1, 2, 3, 4])"
      ]
     },
     "execution_count": 2,
     "metadata": {},
     "output_type": "execute_result"
    },
    {
     "data": {
      "text/plain": [
       "numpy.ndarray"
      ]
     },
     "execution_count": 2,
     "metadata": {},
     "output_type": "execute_result"
    },
    {
     "data": {
      "text/plain": [
       "(4,)"
      ]
     },
     "execution_count": 2,
     "metadata": {},
     "output_type": "execute_result"
    },
    {
     "data": {
      "text/plain": [
       "dtype('int32')"
      ]
     },
     "execution_count": 2,
     "metadata": {},
     "output_type": "execute_result"
    },
    {
     "data": {
      "text/plain": [
       "array([[1, 2, 3, 4],\n",
       "       [5, 6, 7, 8]])"
      ]
     },
     "execution_count": 2,
     "metadata": {},
     "output_type": "execute_result"
    },
    {
     "data": {
      "text/plain": [
       "2"
      ]
     },
     "execution_count": 2,
     "metadata": {},
     "output_type": "execute_result"
    },
    {
     "data": {
      "text/plain": [
       "(2, 4)"
      ]
     },
     "execution_count": 2,
     "metadata": {},
     "output_type": "execute_result"
    },
    {
     "data": {
      "text/plain": [
       "dtype('int32')"
      ]
     },
     "execution_count": 2,
     "metadata": {},
     "output_type": "execute_result"
    },
    {
     "data": {
      "text/plain": [
       "8"
      ]
     },
     "execution_count": 2,
     "metadata": {},
     "output_type": "execute_result"
    },
    {
     "data": {
      "text/plain": [
       "4"
      ]
     },
     "execution_count": 2,
     "metadata": {},
     "output_type": "execute_result"
    }
   ],
   "source": [
    "#代码2-1\n",
    "#导入Numpy库\n",
    "import numpy as np\n",
    "\n",
    "#创建一维数组\n",
    "l1=[1,2,3,4]\n",
    "n1=np.array(l1)\n",
    "n1\n",
    "type(n1)\n",
    "n1.shape  #多少行多少列\n",
    "n1.dtype  #元素的数据类型\n",
    "\n",
    "#创建二维数组\n",
    "n2=np.array([[1,2,3,4],[5,6,7,8]])\n",
    "n2\n",
    "\n",
    "# 查看数组的维度\n",
    "n2.ndim\n",
    "#查看数组结构（shape）\n",
    "n2.shape\n",
    "#查看数组类型（dtype），包含了大小，8个int型，一个int占4\n",
    "n2.dtype\n",
    "#查看数组元素个数（size）\n",
    "n2.size\n",
    "#查看数组每个元素大小（itemsize），一个int的大小\n",
    "n2.itemsize"
   ]
  },
  {
   "cell_type": "code",
   "execution_count": 19,
   "metadata": {},
   "outputs": [
    {
     "data": {
      "text/plain": [
       "array([[[0., 1., 9.],\n",
       "        [2., 3., 0.],\n",
       "        [2., 3., 0.]],\n",
       "\n",
       "       [[3., 4., 5.],\n",
       "        [1., 6., 7.],\n",
       "        [2., 3., 0.]]])"
      ]
     },
     "execution_count": 19,
     "metadata": {},
     "output_type": "execute_result"
    },
    {
     "data": {
      "text/plain": [
       "(2, 3, 3)"
      ]
     },
     "execution_count": 19,
     "metadata": {},
     "output_type": "execute_result"
    },
    {
     "data": {
      "text/plain": [
       "3"
      ]
     },
     "execution_count": 19,
     "metadata": {},
     "output_type": "execute_result"
    },
    {
     "data": {
      "text/plain": [
       "18"
      ]
     },
     "execution_count": 19,
     "metadata": {},
     "output_type": "execute_result"
    },
    {
     "data": {
      "text/plain": [
       "dtype('float64')"
      ]
     },
     "execution_count": 19,
     "metadata": {},
     "output_type": "execute_result"
    },
    {
     "data": {
      "text/plain": [
       "8"
      ]
     },
     "execution_count": 19,
     "metadata": {},
     "output_type": "execute_result"
    }
   ],
   "source": [
    "#创建三维数组\n",
    "array3=np.array([[[0.0,1,9],[2,3,0],[2,3,0]],[[3,4,5],[1,6,7],[2,3,0]]])\n",
    "array3\n",
    "array3.shape\n",
    "array3.ndim\n",
    "array3.size\n",
    "array3.dtype #array仅能一种数据类型\n",
    "array3.itemsize  #一个float的大小"
   ]
  },
  {
   "cell_type": "code",
   "execution_count": 25,
   "metadata": {},
   "outputs": [
    {
     "data": {
      "text/plain": [
       "array([1, 2, 3, 4, 5, 6, 7, 8])"
      ]
     },
     "execution_count": 25,
     "metadata": {},
     "output_type": "execute_result"
    },
    {
     "data": {
      "text/plain": [
       "(8,)"
      ]
     },
     "execution_count": 25,
     "metadata": {},
     "output_type": "execute_result"
    },
    {
     "data": {
      "text/plain": [
       "array([[1, 2, 3, 4],\n",
       "       [5, 6, 7, 8]])"
      ]
     },
     "execution_count": 25,
     "metadata": {},
     "output_type": "execute_result"
    },
    {
     "data": {
      "text/plain": [
       "(2, 4)"
      ]
     },
     "execution_count": 25,
     "metadata": {},
     "output_type": "execute_result"
    },
    {
     "data": {
      "text/plain": [
       "array([[1, 2],\n",
       "       [3, 4],\n",
       "       [5, 6],\n",
       "       [7, 8]])"
      ]
     },
     "execution_count": 25,
     "metadata": {},
     "output_type": "execute_result"
    },
    {
     "data": {
      "text/plain": [
       "(4, 2)"
      ]
     },
     "execution_count": 25,
     "metadata": {},
     "output_type": "execute_result"
    }
   ],
   "source": [
    "#代码2-2\n",
    "#重新设置数组的shape形状属性\n",
    "a1=np.array([1,2,3,4,5,6,7,8])\n",
    "a1\n",
    "a1.shape\n",
    "\n",
    "#要求变换后个数和前面一致\n",
    "a1.shape=(2,4)\n",
    "a1\n",
    "a1.shape\n",
    "\n",
    "a1.shape=(4,2)\n",
    "a1\n",
    "a1.shape"
   ]
  },
  {
   "cell_type": "code",
   "execution_count": 28,
   "metadata": {},
   "outputs": [
    {
     "data": {
      "text/plain": [
       "array([1, 2, 3, 4, 5, 6, 7, 8])"
      ]
     },
     "execution_count": 28,
     "metadata": {},
     "output_type": "execute_result"
    },
    {
     "data": {
      "text/plain": [
       "(8,)"
      ]
     },
     "execution_count": 28,
     "metadata": {},
     "output_type": "execute_result"
    },
    {
     "data": {
      "text/plain": [
       "array([[1, 2],\n",
       "       [3, 4],\n",
       "       [5, 6],\n",
       "       [7, 8]])"
      ]
     },
     "execution_count": 28,
     "metadata": {},
     "output_type": "execute_result"
    },
    {
     "data": {
      "text/plain": [
       "(4, 2)"
      ]
     },
     "execution_count": 28,
     "metadata": {},
     "output_type": "execute_result"
    }
   ],
   "source": [
    "# reshape方法\n",
    "#属性不用括号，方法和函数要用括号，属性和方法都用 “对象.”的方式调用，只有函数是直接开头\n",
    "a2=np.array([1,2,3,4,5,6,7,8])\n",
    "a2\n",
    "a2.shape\n",
    "\n",
    "a2_new=a2.reshape(4,2)  #有返回值，不会修改原本数据，\n",
    "a2_new\n",
    "a2_new.shape"
   ]
  },
  {
   "cell_type": "code",
   "execution_count": 1,
   "metadata": {},
   "outputs": [],
   "source": [
    "# 显示所有变量\n",
    "from IPython.core.interactiveshell import InteractiveShell\n",
    "InteractiveShell.ast_node_interactivity = \"all\""
   ]
  },
  {
   "cell_type": "code",
   "execution_count": 34,
   "metadata": {},
   "outputs": [
    {
     "data": {
      "text/plain": [
       "range(0, 10)"
      ]
     },
     "execution_count": 34,
     "metadata": {},
     "output_type": "execute_result"
    },
    {
     "data": {
      "text/plain": [
       "range"
      ]
     },
     "execution_count": 34,
     "metadata": {},
     "output_type": "execute_result"
    },
    {
     "data": {
      "text/plain": [
       "[1, 6, 11, 16, 21, 26, 31, 36, 41, 46, 51, 56, 61, 66, 71, 76, 81, 86, 91, 96]"
      ]
     },
     "execution_count": 34,
     "metadata": {},
     "output_type": "execute_result"
    },
    {
     "data": {
      "text/plain": [
       "array([[ 1,  6, 11, 16, 21],\n",
       "       [26, 31, 36, 41, 46],\n",
       "       [51, 56, 61, 66, 71],\n",
       "       [76, 81, 86, 91, 96]])"
      ]
     },
     "execution_count": 34,
     "metadata": {},
     "output_type": "execute_result"
    }
   ],
   "source": [
    "#用range创建数组，麻烦，不如arange\n",
    "range(10)\n",
    "type(range(10))\n",
    "l1=list(range(1,101,5))\n",
    "l1\n",
    "a1=np.array(l1).reshape(4,5)\n",
    "a1"
   ]
  },
  {
   "cell_type": "code",
   "execution_count": 36,
   "metadata": {},
   "outputs": [
    {
     "data": {
      "text/plain": [
       "array([[ 1,  6, 11, 16, 21, 26, 31, 36, 41, 46],\n",
       "       [51, 56, 61, 66, 71, 76, 81, 86, 91, 96]])"
      ]
     },
     "execution_count": 36,
     "metadata": {},
     "output_type": "execute_result"
    }
   ],
   "source": [
    "#代码2-3\n",
    "#使用Numpy的arange函数创建数组\n",
    "np.arange(1,101,5).reshape(2,10)"
   ]
  },
  {
   "cell_type": "code",
   "execution_count": 38,
   "metadata": {},
   "outputs": [
    {
     "data": {
      "text/plain": [
       "array([0, 1, 2, 3, 4, 5, 6, 7, 8, 9])"
      ]
     },
     "execution_count": 38,
     "metadata": {},
     "output_type": "execute_result"
    },
    {
     "data": {
      "text/plain": [
       "(10,)"
      ]
     },
     "execution_count": 38,
     "metadata": {},
     "output_type": "execute_result"
    },
    {
     "data": {
      "text/plain": [
       "array([[0, 1, 2, 3, 4, 5, 6, 7, 8, 9]])"
      ]
     },
     "execution_count": 38,
     "metadata": {},
     "output_type": "execute_result"
    }
   ],
   "source": [
    "a1=np.arange(10)  #一维的\n",
    "a1\n",
    "a1.shape\n",
    "a1.shape=(1,10)  #二维\n",
    "a1"
   ]
  },
  {
   "cell_type": "code",
   "execution_count": 43,
   "metadata": {},
   "outputs": [
    {
     "data": {
      "text/plain": [
       "array([ 1.,  3.,  5.,  7.,  9., 11., 13., 15., 17., 19., 21., 23., 25.,\n",
       "       27., 29., 31., 33., 35., 37., 39., 41., 43., 45., 47., 49., 51.,\n",
       "       53., 55., 57., 59., 61., 63., 65., 67., 69., 71., 73., 75., 77.,\n",
       "       79., 81., 83., 85., 87., 89., 91., 93., 95., 97., 99.])"
      ]
     },
     "execution_count": 43,
     "metadata": {},
     "output_type": "execute_result"
    }
   ],
   "source": [
    "#代码2-4\n",
    "#使用Numpy的linspace函数创建等差数列数组\n",
    "a3=np.linspace(1,99)\n",
    "a3"
   ]
  },
  {
   "cell_type": "code",
   "execution_count": 46,
   "metadata": {
    "scrolled": true
   },
   "outputs": [
    {
     "data": {
      "text/plain": [
       "array([1.00000000e+001, 2.15443469e+029, 4.64158883e+057, 1.00000000e+086,\n",
       "       2.15443469e+114, 4.64158883e+142, 1.00000000e+171, 2.15443469e+199,\n",
       "       4.64158883e+227, 1.00000000e+256])"
      ]
     },
     "execution_count": 46,
     "metadata": {},
     "output_type": "execute_result"
    }
   ],
   "source": [
    "#代码2-5 \n",
    "#使用Numpy的logspace函数创建等比数列数组\n",
    "a4=np.logspace(1,256,10)\n",
    "a4"
   ]
  },
  {
   "cell_type": "code",
   "execution_count": 54,
   "metadata": {},
   "outputs": [
    {
     "data": {
      "text/plain": [
       "array([  5,  10,  15,  20,  25,  30,  35,  40,  45,  50,  55,  60,  65,\n",
       "        70,  75,  80,  85,  90,  95, 100, 105, 110, 115, 120, 125, 130,\n",
       "       135, 140, 145, 150, 155, 160, 165, 170, 175, 180, 185, 190, 195,\n",
       "       200, 205, 210, 215, 220, 225, 230, 235, 240, 245, 250, 255, 260,\n",
       "       265, 270, 275, 280, 285, 290, 295, 300, 305, 310, 315, 320, 325,\n",
       "       330, 335, 340, 345, 350, 355, 360, 365, 370, 375, 380, 385, 390,\n",
       "       395, 400, 405, 410, 415, 420, 425, 430, 435, 440, 445, 450, 455,\n",
       "       460, 465, 470, 475, 480, 485, 490, 495, 500])"
      ]
     },
     "execution_count": 54,
     "metadata": {},
     "output_type": "execute_result"
    },
    {
     "data": {
      "text/plain": [
       "array([  5.,  10.,  15.,  20.,  25.,  30.,  35.,  40.,  45.,  50.,  55.,\n",
       "        60.,  65.,  70.,  75.,  80.,  85.,  90.,  95., 100., 105., 110.,\n",
       "       115., 120., 125., 130., 135., 140., 145., 150., 155., 160., 165.,\n",
       "       170., 175., 180., 185., 190., 195., 200., 205., 210., 215., 220.,\n",
       "       225., 230., 235., 240., 245., 250., 255., 260., 265., 270., 275.,\n",
       "       280., 285., 290., 295., 300., 305., 310., 315., 320., 325., 330.,\n",
       "       335., 340., 345., 350., 355., 360., 365., 370., 375., 380., 385.,\n",
       "       390., 395., 400., 405., 410., 415., 420., 425., 430., 435., 440.,\n",
       "       445., 450., 455., 460., 465., 470., 475., 480., 485., 490., 495.,\n",
       "       500.])"
      ]
     },
     "execution_count": 54,
     "metadata": {},
     "output_type": "execute_result"
    }
   ],
   "source": [
    "#课堂练习 两种方法创建数组array([5,10,15,20...500]),shape不限\n",
    "#方法1\n",
    "a5=np.arange(5,505,5)\n",
    "a5\n",
    "\n",
    "a6=np.linspace(5,500,100)\n",
    "a6"
   ]
  },
  {
   "cell_type": "markdown",
   "metadata": {},
   "source": [
    "- 全0和全1数组\n",
    "![](img/创建全0和全1数组.png)  "
   ]
  },
  {
   "cell_type": "code",
   "execution_count": 60,
   "metadata": {},
   "outputs": [
    {
     "data": {
      "text/plain": [
       "array([[[0., 0., 0., 0.],\n",
       "        [0., 0., 0., 0.],\n",
       "        [0., 0., 0., 0.]],\n",
       "\n",
       "       [[0., 0., 0., 0.],\n",
       "        [0., 0., 0., 0.],\n",
       "        [0., 0., 0., 0.]]])"
      ]
     },
     "execution_count": 60,
     "metadata": {},
     "output_type": "execute_result"
    },
    {
     "data": {
      "text/plain": [
       "dtype('float64')"
      ]
     },
     "execution_count": 60,
     "metadata": {},
     "output_type": "execute_result"
    }
   ],
   "source": [
    "#代码2-6\n",
    "#使用Numpy的zeros函数创建全0数组\n",
    "a0=np.zeros((2,3,4))  #zeros函数里的shape参数，多维的话要用元组\n",
    "a0\n",
    "a0.dtype"
   ]
  },
  {
   "cell_type": "code",
   "execution_count": 62,
   "metadata": {},
   "outputs": [
    {
     "data": {
      "text/plain": [
       "array([[1, 1, 1, 1, 1, 1, 1, 1, 1, 1, 1, 1, 1, 1, 1, 1, 1, 1, 1, 1, 1, 1,\n",
       "        1, 1, 1],\n",
       "       [1, 1, 1, 1, 1, 1, 1, 1, 1, 1, 1, 1, 1, 1, 1, 1, 1, 1, 1, 1, 1, 1,\n",
       "        1, 1, 1],\n",
       "       [1, 1, 1, 1, 1, 1, 1, 1, 1, 1, 1, 1, 1, 1, 1, 1, 1, 1, 1, 1, 1, 1,\n",
       "        1, 1, 1],\n",
       "       [1, 1, 1, 1, 1, 1, 1, 1, 1, 1, 1, 1, 1, 1, 1, 1, 1, 1, 1, 1, 1, 1,\n",
       "        1, 1, 1]])"
      ]
     },
     "execution_count": 62,
     "metadata": {},
     "output_type": "execute_result"
    },
    {
     "data": {
      "text/plain": [
       "dtype('int32')"
      ]
     },
     "execution_count": 62,
     "metadata": {},
     "output_type": "execute_result"
    }
   ],
   "source": [
    "#代码2-8\n",
    "#使用Numpy的ones函数创建全1数组\n",
    "a11=np.ones(100,int).reshape(4,25)\n",
    "a11\n",
    "a11.dtype"
   ]
  },
  {
   "cell_type": "code",
   "execution_count": 67,
   "metadata": {},
   "outputs": [
    {
     "data": {
      "text/plain": [
       "array([[1., 0., 0., 0.],\n",
       "       [0., 1., 0., 0.],\n",
       "       [0., 0., 1., 0.],\n",
       "       [0., 0., 0., 1.]])"
      ]
     },
     "execution_count": 67,
     "metadata": {},
     "output_type": "execute_result"
    }
   ],
   "source": [
    "#代码2-7\n",
    "#使用Numpy的eye函数创建对角单位数组\n",
    "ae=np.eye(4)  #(4,4)\n",
    "ae"
   ]
  },
  {
   "cell_type": "code",
   "execution_count": 68,
   "metadata": {},
   "outputs": [
    {
     "data": {
      "text/plain": [
       "array([[8, 0, 0, 0],\n",
       "       [0, 7, 0, 0],\n",
       "       [0, 0, 6, 0],\n",
       "       [0, 0, 0, 5]])"
      ]
     },
     "execution_count": 68,
     "metadata": {},
     "output_type": "execute_result"
    }
   ],
   "source": [
    "#代码2-9\n",
    "#使用Numpy的diag函数创建对角数组\n",
    "a_diag=np.diag([8,7,6,5])\n",
    "a_diag"
   ]
  },
  {
   "cell_type": "code",
   "execution_count": 70,
   "metadata": {},
   "outputs": [
    {
     "data": {
      "text/plain": [
       "array([[1, 2, 3],\n",
       "       [4, 5, 6]])"
      ]
     },
     "execution_count": 70,
     "metadata": {},
     "output_type": "execute_result"
    },
    {
     "data": {
      "text/plain": [
       "dtype('int32')"
      ]
     },
     "execution_count": 70,
     "metadata": {},
     "output_type": "execute_result"
    },
    {
     "data": {
      "text/plain": [
       "array([[1., 2., 3.],\n",
       "       [4., 5., 6.]], dtype=float32)"
      ]
     },
     "execution_count": 70,
     "metadata": {},
     "output_type": "execute_result"
    },
    {
     "data": {
      "text/plain": [
       "dtype('float32')"
      ]
     },
     "execution_count": 70,
     "metadata": {},
     "output_type": "execute_result"
    }
   ],
   "source": [
    "#代码2-10\n",
    "#数组数据类型的变换\n",
    "a5=np.array([1,2,3,4,5,6]).reshape(2,3)\n",
    "a5\n",
    "a5.dtype\n",
    "\n",
    "a51=np.float32(a5)\n",
    "a51\n",
    "a51.dtype\n",
    "a5  #复制出来的，a5不变"
   ]
  },
  {
   "cell_type": "code",
   "execution_count": 11,
   "metadata": {},
   "outputs": [
    {
     "data": {
      "text/plain": [
       "array([[1, 2, 3],\n",
       "       [4, 5, 6]])"
      ]
     },
     "execution_count": 11,
     "metadata": {},
     "output_type": "execute_result"
    },
    {
     "data": {
      "text/plain": [
       "dtype('int32')"
      ]
     },
     "execution_count": 11,
     "metadata": {},
     "output_type": "execute_result"
    },
    {
     "data": {
      "text/plain": [
       "dtype('int8')"
      ]
     },
     "execution_count": 11,
     "metadata": {},
     "output_type": "execute_result"
    },
    {
     "data": {
      "text/plain": [
       "1"
      ]
     },
     "execution_count": 11,
     "metadata": {},
     "output_type": "execute_result"
    }
   ],
   "source": [
    "import numpy as np\n",
    "a5=np.array([1,2,3,4,5,6]).reshape(2,3)\n",
    "a5\n",
    "a5.dtype\n",
    "\n",
    "#a5.dtype=\"float32\"  #直接修改\n",
    "a5=a5.astype('int8')\n",
    "a5.dtype\n",
    "a5.itemsize"
   ]
  },
  {
   "cell_type": "code",
   "execution_count": 81,
   "metadata": {},
   "outputs": [
    {
     "data": {
      "text/plain": [
       "array([1, 2, 3, 4], dtype=int8)"
      ]
     },
     "execution_count": 81,
     "metadata": {},
     "output_type": "execute_result"
    },
    {
     "data": {
      "text/plain": [
       "dtype('int8')"
      ]
     },
     "execution_count": 81,
     "metadata": {},
     "output_type": "execute_result"
    },
    {
     "name": "stdout",
     "output_type": "stream",
     "text": [
      "\n",
      "a7\n"
     ]
    },
    {
     "data": {
      "text/plain": [
       "array([1., 2., 3., 4.])"
      ]
     },
     "execution_count": 81,
     "metadata": {},
     "output_type": "execute_result"
    },
    {
     "data": {
      "text/plain": [
       "dtype('float64')"
      ]
     },
     "execution_count": 81,
     "metadata": {},
     "output_type": "execute_result"
    },
    {
     "data": {
      "text/plain": [
       "array([         0, 1072693248,          0, 1073741824,          0,\n",
       "       1074266112,          0, 1074790400])"
      ]
     },
     "execution_count": 81,
     "metadata": {},
     "output_type": "execute_result"
    },
    {
     "data": {
      "text/plain": [
       "dtype('int32')"
      ]
     },
     "execution_count": 81,
     "metadata": {},
     "output_type": "execute_result"
    }
   ],
   "source": [
    "a6=np.array([1,2,3,4],dtype='int8')  #只有int可以不用引号，有int8就要引号作为字符串\n",
    "a6\n",
    "a6.dtype\n",
    "\n",
    "print(\"\\n a7\")\n",
    "a7=np.array([1,2,3,4],dtype=float)\n",
    "a7\n",
    "a7.dtype\n",
    "a7.dtype=int\n",
    "a7\n",
    "a7.dtype"
   ]
  },
  {
   "cell_type": "markdown",
   "metadata": {},
   "source": [
    "### 2.1.2 生成随机数"
   ]
  },
  {
   "cell_type": "markdown",
   "metadata": {},
   "source": [
    "![](img/创建随机数组.png)  "
   ]
  },
  {
   "cell_type": "code",
   "execution_count": 49,
   "metadata": {},
   "outputs": [
    {
     "data": {
      "text/plain": [
       "37"
      ]
     },
     "execution_count": 49,
     "metadata": {},
     "output_type": "execute_result"
    },
    {
     "data": {
      "text/plain": [
       "0.3224926339307208"
      ]
     },
     "execution_count": 49,
     "metadata": {},
     "output_type": "execute_result"
    },
    {
     "data": {
      "text/plain": [
       "0.65"
      ]
     },
     "execution_count": 49,
     "metadata": {},
     "output_type": "execute_result"
    }
   ],
   "source": [
    "# 标准库random\n",
    "import random\n",
    "random.seed()\n",
    "random.randint(1,42)\n",
    "random.random()\n",
    "round(random.random(),2)"
   ]
  },
  {
   "cell_type": "code",
   "execution_count": 57,
   "metadata": {},
   "outputs": [
    {
     "data": {
      "text/plain": [
       "array([[0.33812468, 0.81124237, 0.05665804, 0.33029871, 0.94590668],\n",
       "       [0.3383866 , 0.88089281, 0.93961843, 0.08936833, 0.59929615]])"
      ]
     },
     "execution_count": 57,
     "metadata": {},
     "output_type": "execute_result"
    }
   ],
   "source": [
    "#代码2-14 \n",
    "#生成随机数组（注意是Numpy库的random子库中的random函数）\n",
    "import numpy as np\n",
    "np.random.random(10).reshape(2,5)  #没法用round"
   ]
  },
  {
   "cell_type": "code",
   "execution_count": 127,
   "metadata": {},
   "outputs": [
    {
     "data": {
      "text/plain": [
       "array([[0.78188106, 0.5924566 ],\n",
       "       [0.59035143, 0.20562652],\n",
       "       [0.45746225, 0.34511066]])"
      ]
     },
     "execution_count": 127,
     "metadata": {},
     "output_type": "execute_result"
    },
    {
     "data": {
      "text/plain": [
       "array([[[0.65736473, 0.74301881, 0.41893422],\n",
       "        [0.26837232, 0.63142692, 0.11612449],\n",
       "        [0.44417567, 0.2444061 , 0.88673777]],\n",
       "\n",
       "       [[0.46463284, 0.17819139, 0.52818405],\n",
       "        [0.82717761, 0.04628829, 0.69399866],\n",
       "        [0.00670664, 0.3070071 , 0.68156093]]])"
      ]
     },
     "execution_count": 127,
     "metadata": {},
     "output_type": "execute_result"
    }
   ],
   "source": [
    "#代码2-15\n",
    "#生成服从均匀分布的随机数数组（注意是Numpy库的random子库中的rand函数）\n",
    "np.random.rand(3,2)\n",
    "np.random.rand(2,3,3)"
   ]
  },
  {
   "cell_type": "code",
   "execution_count": 15,
   "metadata": {
    "scrolled": true
   },
   "outputs": [
    {
     "data": {
      "text/plain": [
       "array([[0.58438116, 0.25071855, 0.07272126, 0.90427156, 0.18641682],\n",
       "       [0.13849242, 0.67992951, 0.86782711, 0.71488922, 0.88425601],\n",
       "       [0.06542766, 0.46998242, 0.84393294, 0.69781891, 0.35738919],\n",
       "       [0.78241104, 0.91457683, 0.28705341, 0.08068087, 0.35788144],\n",
       "       [0.08355045, 0.82622798, 0.05225122, 0.70597259, 0.29737846],\n",
       "       [0.08202665, 0.05007536, 0.55849174, 0.4968069 , 0.47891547],\n",
       "       [0.20719313, 0.22932925, 0.29454349, 0.43823388, 0.98723836],\n",
       "       [0.91268532, 0.44138373, 0.00101154, 0.67695146, 0.5718503 ],\n",
       "       [0.51133162, 0.85673397, 0.02635416, 0.13599406, 0.95946271],\n",
       "       [0.33114295, 0.47287357, 0.74242795, 0.53944143, 0.63266665]])"
      ]
     },
     "execution_count": 15,
     "metadata": {},
     "output_type": "execute_result"
    }
   ],
   "source": [
    "#生成范围在0~1、服从均匀分布的10行5列的数组。\n",
    "np.random.rand(10,5)"
   ]
  },
  {
   "cell_type": "code",
   "execution_count": 23,
   "metadata": {},
   "outputs": [
    {
     "data": {
      "text/plain": [
       "array([[1, 2],\n",
       "       [4, 5]])"
      ]
     },
     "execution_count": 23,
     "metadata": {},
     "output_type": "execute_result"
    },
    {
     "data": {
      "text/plain": [
       "array([[1, 4],\n",
       "       [2, 5]])"
      ]
     },
     "execution_count": 23,
     "metadata": {},
     "output_type": "execute_result"
    },
    {
     "data": {
      "text/plain": [
       "array([[ 1,  8],\n",
       "       [ 8, 25]])"
      ]
     },
     "execution_count": 23,
     "metadata": {},
     "output_type": "execute_result"
    }
   ],
   "source": [
    "#生成两个2*2矩阵，并计算矩阵乘积。\n",
    "n1 =np.array([[1,2],[4,5]])\n",
    "n2 = np.array([[1,4],[2,5]])\n",
    "n1\n",
    "n2\n",
    "n1*n2"
   ]
  },
  {
   "cell_type": "code",
   "execution_count": 119,
   "metadata": {},
   "outputs": [
    {
     "data": {
      "text/plain": [
       "array([[-0.98960603, -0.89315247],\n",
       "       [-1.33840727, -1.80559454],\n",
       "       [ 0.25138958,  0.04991502]])"
      ]
     },
     "execution_count": 119,
     "metadata": {},
     "output_type": "execute_result"
    }
   ],
   "source": [
    "#代码2-16\n",
    "#生成服从正态分布的随机数数组（注意是Numpy库的random子库中的randn函数）\n",
    "np.random.randn(3,2)"
   ]
  },
  {
   "cell_type": "code",
   "execution_count": 108,
   "metadata": {},
   "outputs": [
    {
     "data": {
      "text/plain": [
       "array([[ 8, 29, 16, 24, 18],\n",
       "       [33, 15, 33, 18,  7]])"
      ]
     },
     "execution_count": 108,
     "metadata": {},
     "output_type": "execute_result"
    }
   ],
   "source": [
    "#代码2-17\n",
    "#生成给定上下限的随机整数数组（注意是Numpy库的random子库中的randint函数）\n",
    "np.random.randint(1,43,size=[2,5])"
   ]
  },
  {
   "cell_type": "code",
   "execution_count": 150,
   "metadata": {},
   "outputs": [
    {
     "data": {
      "text/plain": [
       "array([0.  , 0.01, 0.02, 0.03, 0.04, 0.05, 0.06, 0.07, 0.08, 0.09, 0.1 ,\n",
       "       0.11, 0.12, 0.13, 0.14, 0.15, 0.16, 0.17, 0.18, 0.19, 0.2 , 0.21,\n",
       "       0.22, 0.23, 0.24, 0.25, 0.26, 0.27, 0.28, 0.29, 0.3 , 0.31, 0.32,\n",
       "       0.33, 0.34, 0.35, 0.36, 0.37, 0.38, 0.39, 0.4 , 0.41, 0.42, 0.43,\n",
       "       0.44, 0.45, 0.46, 0.47, 0.48, 0.49, 0.5 , 0.51, 0.52, 0.53, 0.54,\n",
       "       0.55, 0.56, 0.57, 0.58, 0.59, 0.6 , 0.61, 0.62, 0.63, 0.64, 0.65,\n",
       "       0.66, 0.67, 0.68, 0.69, 0.7 , 0.71, 0.72, 0.73, 0.74, 0.75, 0.76,\n",
       "       0.77, 0.78, 0.79, 0.8 , 0.81, 0.82, 0.83, 0.84, 0.85, 0.86, 0.87,\n",
       "       0.88, 0.89, 0.9 , 0.91, 0.92, 0.93, 0.94, 0.95, 0.96, 0.97, 0.98,\n",
       "       0.99])"
      ]
     },
     "execution_count": 150,
     "metadata": {},
     "output_type": "execute_result"
    },
    {
     "data": {
      "text/plain": [
       "array([0.5 , 0.78, 0.58, 0.89, 0.89, 0.97, 0.4 , 0.16, 0.63, 0.99])"
      ]
     },
     "execution_count": 150,
     "metadata": {},
     "output_type": "execute_result"
    }
   ],
   "source": [
    "#课堂练习，创建一个数组，数值在0-1之间，间隔为0.01的数组\n",
    "np.arange(0,1,0.01)\n",
    "#np.linspace(0,1,101)\n",
    "#课堂练习，创建一个数组，数值在0-1之间\n",
    "np.round(np.array([np.random.random() for i in range(10)]),2)\n",
    "np.round()"
   ]
  },
  {
   "cell_type": "markdown",
   "metadata": {},
   "source": [
    "### 项目实例：全国人口数据的读取"
   ]
  },
  {
   "cell_type": "code",
   "execution_count": 12,
   "metadata": {},
   "outputs": [],
   "source": [
    "# 从文本文件读取人口数据\n",
    "# datas\n",
    "import numpy as np\n",
    "peoples = np.loadtxt(\"data/人口.csv\",skiprows=2,delimiter=',',usecols=(range(1,13)),encoding=\"utf-8\")\n",
    "province = np.loadtxt(\"data/人口.csv\",skiprows=2,delimiter=',',usecols=0,encoding=\"utf-8\",dtype=str)"
   ]
  },
  {
   "cell_type": "code",
   "execution_count": 24,
   "metadata": {},
   "outputs": [
    {
     "data": {
      "text/plain": [
       "array(['北京', '天津', '河北', '山西', '内蒙古 ', '辽宁', '吉林', '黑龙江 ', '上海', '江苏',\n",
       "       '浙江', '安徽', '福建', '江西', '山东', '河南', '湖北', '湖南', '广东', '广西', '海南',\n",
       "       '四川', '贵州', '云南', '西藏', '陕西', '甘肃', '青海', '宁夏', '新疆'], dtype='<U4')"
      ]
     },
     "execution_count": 24,
     "metadata": {},
     "output_type": "execute_result"
    },
    {
     "data": {
      "text/plain": [
       "(30, 12)"
      ]
     },
     "execution_count": 24,
     "metadata": {},
     "output_type": "execute_result"
    },
    {
     "data": {
      "text/plain": [
       "array([1035.7, 1042.9, 1048.7, 1056.9, 1068.2, 1077. , 1083.2, 1092.3,\n",
       "       1097.8, 1106.2, 1113.5, 1127.9])"
      ]
     },
     "execution_count": 24,
     "metadata": {},
     "output_type": "execute_result"
    }
   ],
   "source": [
    "# names\n",
    "province\n",
    "peoples.shape\n",
    "peoples[0]"
   ]
  },
  {
   "cell_type": "markdown",
   "metadata": {},
   "source": [
    "### 2.1.3 通过索引访问数组"
   ]
  },
  {
   "cell_type": "code",
   "execution_count": null,
   "metadata": {},
   "outputs": [],
   "source": [
    "# 显示所有变量\n",
    "from IPython.core.interactiveshell import InteractiveShell\n",
    "InteractiveShell.ast_node_interactivity = \"all\""
   ]
  },
  {
   "cell_type": "markdown",
   "metadata": {},
   "source": [
    "- 一维数组索引  \n",
    "![](img/一维数组索引.png)  "
   ]
  },
  {
   "cell_type": "code",
   "execution_count": 37,
   "metadata": {},
   "outputs": [
    {
     "data": {
      "text/plain": [
       "array([1, 2, 3, 4, 5, 6, 7, 8, 9])"
      ]
     },
     "execution_count": 37,
     "metadata": {},
     "output_type": "execute_result"
    },
    {
     "data": {
      "text/plain": [
       "array([1, 6])"
      ]
     },
     "execution_count": 37,
     "metadata": {},
     "output_type": "execute_result"
    },
    {
     "data": {
      "text/plain": [
       "array([3, 4, 5, 6])"
      ]
     },
     "execution_count": 37,
     "metadata": {},
     "output_type": "execute_result"
    },
    {
     "data": {
      "text/plain": [
       "array([1, 2, 3, 4, 5, 6, 7, 8, 9])"
      ]
     },
     "execution_count": 37,
     "metadata": {},
     "output_type": "execute_result"
    },
    {
     "data": {
      "text/plain": [
       "array([1, 2, 3, 4, 5, 6, 7, 8, 9])"
      ]
     },
     "execution_count": 37,
     "metadata": {},
     "output_type": "execute_result"
    },
    {
     "data": {
      "text/plain": [
       "array([9, 2, 8, 4, 7, 6, 6, 8, 9])"
      ]
     },
     "execution_count": 37,
     "metadata": {},
     "output_type": "execute_result"
    },
    {
     "data": {
      "text/plain": [
       "array([9, 6, 7, 8, 9])"
      ]
     },
     "execution_count": 37,
     "metadata": {},
     "output_type": "execute_result"
    }
   ],
   "source": [
    "# 代码2-18：一维数组\n",
    "#使用arange创建数组\n",
    "a=np.arange(1,10)\n",
    "a\n",
    "#整数作为下标访问，分别访问0和5\n",
    "a[[0,5]]    #只能用列表，不能元组\n",
    "#范围作为下标切片\n",
    "a[2:6:1]\n",
    "#省略切片的开始下标，表示从0开始\n",
    "a[:]\n",
    "#负数作为下标\n",
    "a[-10:]\n",
    "#下标用来修改数组元素的值\n",
    "a[0:7:2]=[9,8,7,6]\n",
    "a\n",
    "#步长为负数时，切片的开始下标必须大于结束下标（也可以不，只是没数据，不报错）\n",
    "a[-1::-2]"
   ]
  },
  {
   "cell_type": "markdown",
   "metadata": {},
   "source": [
    "- 二维数组索引\n",
    "![](img/二维数组索引.png)  "
   ]
  },
  {
   "cell_type": "code",
   "execution_count": 4,
   "metadata": {},
   "outputs": [
    {
     "data": {
      "text/plain": [
       "array([[ 1,  2,  3,  4,  5],\n",
       "       [ 6,  7,  8,  9, 10],\n",
       "       [11, 12, 13, 14, 15],\n",
       "       [16, 17, 18, 19, 20]])"
      ]
     },
     "execution_count": 4,
     "metadata": {},
     "output_type": "execute_result"
    },
    {
     "data": {
      "text/plain": [
       "array([ 6,  7,  8,  9, 10])"
      ]
     },
     "execution_count": 4,
     "metadata": {},
     "output_type": "execute_result"
    },
    {
     "data": {
      "text/plain": [
       "array([4, 5])"
      ]
     },
     "execution_count": 4,
     "metadata": {},
     "output_type": "execute_result"
    },
    {
     "data": {
      "text/plain": [
       "array([[14, 15],\n",
       "       [19, 20]])"
      ]
     },
     "execution_count": 4,
     "metadata": {},
     "output_type": "execute_result"
    },
    {
     "data": {
      "text/plain": [
       "array([[ 3],\n",
       "       [ 8],\n",
       "       [13],\n",
       "       [18]])"
      ]
     },
     "execution_count": 4,
     "metadata": {},
     "output_type": "execute_result"
    }
   ],
   "source": [
    "#代码2-19：多维数组\n",
    "#创建二维数组\n",
    "a2=np.arange(1,21).reshape(4,5)\n",
    "a2\n",
    "#二维数组只有一个下标索引代表行\n",
    "a2[1]\n",
    "#索引访问第0行的第3和第4列\n",
    "a2[0,3:]\n",
    "#索引第2和第3行的3-4列\n",
    "a2[2:,3:]\n",
    "#索引第2列\n",
    "a2[:,2:3]"
   ]
  },
  {
   "cell_type": "code",
   "execution_count": 5,
   "metadata": {
    "scrolled": true
   },
   "outputs": [
    {
     "data": {
      "text/plain": [
       "array([[ 2,  3,  4],\n",
       "       [ 7,  8,  9],\n",
       "       [12, 13, 14]])"
      ]
     },
     "execution_count": 5,
     "metadata": {},
     "output_type": "execute_result"
    },
    {
     "data": {
      "text/plain": [
       "array([ 2,  8, 11])"
      ]
     },
     "execution_count": 5,
     "metadata": {},
     "output_type": "execute_result"
    },
    {
     "data": {
      "text/plain": [
       "array([[ 2,  3],\n",
       "       [ 7,  8],\n",
       "       [12, 13]])"
      ]
     },
     "execution_count": 5,
     "metadata": {},
     "output_type": "execute_result"
    },
    {
     "data": {
      "text/plain": [
       "array([[ 1,  2,  3,  4,  5],\n",
       "       [ 6,  7,  8,  9, 10],\n",
       "       [11, 12, 13, 14, 15],\n",
       "       [16, 17, 18, 19, 20]])"
      ]
     },
     "execution_count": 5,
     "metadata": {},
     "output_type": "execute_result"
    },
    {
     "data": {
      "text/plain": [
       "array([[ 3,  4],\n",
       "       [13, 14]])"
      ]
     },
     "execution_count": 5,
     "metadata": {},
     "output_type": "execute_result"
    }
   ],
   "source": [
    "#代码2-20\n",
    "#从两个序列对应位置取出整数组成下标索引\n",
    "a2[0:3,1:4]\n",
    "a2[[0,1,2],[1,2,0]]  #或者a2[(0,1,2),(1,2,0)]，错误的：a2[[0,1,2],[1,2]]\n",
    "#索引第2，3行中的第0，2，3列（不连续的列使用元组表示）\n",
    "a2[0:3,(1,2)]\n",
    "#利用布尔数组来索引\n",
    "a2\n",
    "a2[[True,False,True,False],2:4]"
   ]
  },
  {
   "cell_type": "code",
   "execution_count": 6,
   "metadata": {},
   "outputs": [
    {
     "data": {
      "text/plain": [
       "array([[False, False, False, False, False],\n",
       "       [ True,  True,  True,  True,  True],\n",
       "       [ True,  True,  True,  True,  True],\n",
       "       [ True,  True,  True,  True,  True]])"
      ]
     },
     "execution_count": 6,
     "metadata": {},
     "output_type": "execute_result"
    },
    {
     "data": {
      "text/plain": [
       "array([[False,  True, False,  True, False],\n",
       "       [ True, False,  True, False,  True],\n",
       "       [False,  True, False,  True, False],\n",
       "       [ True, False,  True, False,  True]])"
      ]
     },
     "execution_count": 6,
     "metadata": {},
     "output_type": "execute_result"
    }
   ],
   "source": [
    "a2>5  #广播机制\n",
    "index=a2 % 2==0\n",
    "index"
   ]
  },
  {
   "cell_type": "code",
   "execution_count": 7,
   "metadata": {},
   "outputs": [
    {
     "data": {
      "text/plain": [
       "array([ 2,  4,  6,  8, 10, 12, 14, 16, 18, 20])"
      ]
     },
     "execution_count": 7,
     "metadata": {},
     "output_type": "execute_result"
    }
   ],
   "source": [
    "a2[index]"
   ]
  },
  {
   "cell_type": "markdown",
   "metadata": {},
   "source": [
    "### 项目实例：全国人口数据的索引和切片"
   ]
  },
  {
   "cell_type": "code",
   "execution_count": 9,
   "metadata": {},
   "outputs": [
    {
     "data": {
      "text/plain": [
       "array(['北京', '天津', '河北', '山西', '内蒙古 ', '辽宁', '吉林', '黑龙江 ', '上海', '江苏',\n",
       "       '浙江', '安徽', '福建', '江西', '山东', '河南', '湖北', '湖南', '广东', '广西', '海南',\n",
       "       '四川', '贵州', '云南', '西藏', '陕西', '甘肃', '青海', '宁夏', '新疆'], dtype='<U4')"
      ]
     },
     "execution_count": 9,
     "metadata": {},
     "output_type": "execute_result"
    }
   ],
   "source": [
    "# 从文本文件读取人口数据\n",
    "peoples = np.loadtxt(\"data/人口.csv\",skiprows=2,delimiter=',',usecols=(range(1,13)),encoding=\"utf-8\")\n",
    "province = np.loadtxt(\"data/人口.csv\",skiprows=2,delimiter=',',usecols=0,encoding=\"utf-8\",dtype=str)\n",
    "province"
   ]
  },
  {
   "cell_type": "code",
   "execution_count": 85,
   "metadata": {},
   "outputs": [
    {
     "data": {
      "text/plain": [
       "array([1035.7, 1042.9, 1048.7, 1056.9, 1068.2, 1077. , 1083.2, 1092.3,\n",
       "       1097.8, 1106.2, 1113.5, 1127.9])"
      ]
     },
     "execution_count": 85,
     "metadata": {},
     "output_type": "execute_result"
    },
    {
     "data": {
      "text/plain": [
       "array([[1283.4, 1287.2, 1289.4, 1294.7, 1298.8, 1301.4, 1304.4, 1305.5,\n",
       "        1306.6, 1313.1, 1321.6, 1327.1]])"
      ]
     },
     "execution_count": 85,
     "metadata": {},
     "output_type": "execute_result"
    },
    {
     "data": {
      "text/plain": [
       "array([False, False, False, False, False, False, False, False,  True,\n",
       "       False, False, False, False, False, False, False, False, False,\n",
       "       False, False, False, False, False, False, False, False, False,\n",
       "       False, False, False])"
      ]
     },
     "execution_count": 85,
     "metadata": {},
     "output_type": "execute_result"
    },
    {
     "data": {
      "text/plain": [
       "array([1298.8])"
      ]
     },
     "execution_count": 85,
     "metadata": {},
     "output_type": "execute_result"
    },
    {
     "data": {
      "text/plain": [
       "array([ True, False, False, False, False, False, False, False,  True,\n",
       "       False, False, False, False, False, False, False, False, False,\n",
       "        True, False, False, False, False, False, False, False, False,\n",
       "       False, False, False])"
      ]
     },
     "execution_count": 85,
     "metadata": {},
     "output_type": "execute_result"
    },
    {
     "name": "stdout",
     "output_type": "stream",
     "text": [
      "here\n"
     ]
    },
    {
     "data": {
      "text/plain": [
       "array([[1035.7, 1042.9, 1048.7, 1056.9, 1068.2, 1077. , 1083.2, 1092.3,\n",
       "        1097.8, 1106.2, 1113.5, 1127.9],\n",
       "       [1283.4, 1287.2, 1289.4, 1294.7, 1298.8, 1301.4, 1304.4, 1305.5,\n",
       "        1306.6, 1313.1, 1321.6, 1327.1],\n",
       "       [6246.3, 6349. , 6463.2, 6581.6, 6691.5, 6788.7, 6896.8, 7013.7,\n",
       "        7115.6, 7298.9, 7498.5, 7565.3]])"
      ]
     },
     "execution_count": 85,
     "metadata": {},
     "output_type": "execute_result"
    },
    {
     "data": {
      "text/plain": [
       "array([[1056.9, 1068.2, 1077. , 1083.2, 1092.3, 1097.8, 1106.2, 1113.5],\n",
       "       [1294.7, 1298.8, 1301.4, 1304.4, 1305.5, 1306.6, 1313.1, 1321.6],\n",
       "       [6581.6, 6691.5, 6788.7, 6896.8, 7013.7, 7115.6, 7298.9, 7498.5]])"
      ]
     },
     "execution_count": 85,
     "metadata": {},
     "output_type": "execute_result"
    },
    {
     "data": {
      "text/plain": [
       "array([1042.9, 1298.8, 6788.7])"
      ]
     },
     "execution_count": 85,
     "metadata": {},
     "output_type": "execute_result"
    },
    {
     "data": {
      "text/plain": [
       "array([[1042.9, 1068.2, 1077. ],\n",
       "       [1287.2, 1298.8, 1301.4],\n",
       "       [6349. , 6691.5, 6788.7]])"
      ]
     },
     "execution_count": 85,
     "metadata": {},
     "output_type": "execute_result"
    },
    {
     "data": {
      "text/plain": [
       "array([[1042.9, 1298.8, 6788.7],\n",
       "       [1042.9, 1298.8, 6788.7],\n",
       "       [1042.9, 1298.8, 6788.7]])"
      ]
     },
     "execution_count": 85,
     "metadata": {},
     "output_type": "execute_result"
    },
    {
     "data": {
      "text/plain": [
       "array([[1042.9, 1068.2, 1077. ],\n",
       "       [1287.2, 1298.8, 1301.4],\n",
       "       [6349. , 6691.5, 6788.7]])"
      ]
     },
     "execution_count": 85,
     "metadata": {},
     "output_type": "execute_result"
    }
   ],
   "source": [
    "# 读取北京的数据\n",
    "peoples[0]\n",
    "# 读取上海的人口数据\n",
    "flag=province==\"上海\"\n",
    "peoples[flag]\n",
    "#peoples[True]  #等价于peoples\n",
    "\n",
    "\n",
    "# 读取上海1994年的人口数据\n",
    "peoples[province==\"上海\",4]\n",
    "\n",
    "\n",
    "# 读取北京、上海、广东所有年份的人口数据\n",
    "f1=province==\"上海\"\n",
    "f2=province==\"北京\"\n",
    "f3=province==\"广东\"\n",
    "f4=f1+f2+f3\n",
    "f4\n",
    "print(\"here\")\n",
    "peoples[f4]\n",
    "\n",
    "\n",
    "# 读取北京、上海、广东1993到2000年的数据\n",
    "peoples[f4,3:11]\n",
    "\n",
    "\n",
    "# 读取北京1991年、上海1994年，广东1995年的数据\n",
    "peoples[(0,8,18),(1,4,5)]\n",
    "\n",
    "\n",
    "#读取北京、上海，广东1991年、1994年、1995年的数据\n",
    "peoples[[[0],[8],[18]],(1,4,5)]\n",
    "peoples[[0,8,18],[[1,4,5],[1,4,5],[1,4,5]]]\n",
    "peoples[np.ix_([0,8,18],[1,4,5])]"
   ]
  },
  {
   "cell_type": "code",
   "execution_count": 64,
   "metadata": {},
   "outputs": [
    {
     "data": {
      "text/plain": [
       "array(['北京', '天津', '河北', '山西', '内蒙古 '], dtype='<U4')"
      ]
     },
     "execution_count": 64,
     "metadata": {},
     "output_type": "execute_result"
    },
    {
     "data": {
      "text/plain": [
       "array([ 1048.7,   882.7,  6249.3,  2919.1,  2178.5,  3957.9,  2474. ,\n",
       "        3526.2,  1289.4,  6767.5,  4285.9,  5817.5,  3066.9,  3827. ,\n",
       "        8579.8,  8811.5,  5513.6,  6209.2,  6463.2,  4359.4,   671.3,\n",
       "       10942.9,  3301. ,  3767.1,   225.3,  3340.3,  2288.1,   443.1,\n",
       "         482.3,  1554.1])"
      ]
     },
     "execution_count": 64,
     "metadata": {},
     "output_type": "execute_result"
    },
    {
     "data": {
      "text/plain": [
       "array([[2845.2, 2883.4, 2919.1, 2955.5, 2990.9, 3025.7, 3059.2, 3091.3,\n",
       "        3113.3, 3145.1, 3196.2, 3220.3]])"
      ]
     },
     "execution_count": 64,
     "metadata": {},
     "output_type": "execute_result"
    }
   ],
   "source": [
    "# 前5行的省市名称\n",
    "province[:5]\n",
    "# 1992年各省市人口数据\n",
    "peoples[:,2]\n",
    "# 山西历年人口数据\n",
    "peoples[province==\"山西\"]\n",
    "\n",
    "# 河北，山西，内蒙1994年到1999年的数据\n",
    "\n",
    "# 北京、上海、广东1991年、1994年和1995年的数据\n"
   ]
  },
  {
   "cell_type": "markdown",
   "metadata": {},
   "source": [
    "### 2.1.4 变换数组的形态"
   ]
  },
  {
   "cell_type": "markdown",
   "metadata": {},
   "source": [
    "![](img/数组变形.png)  "
   ]
  },
  {
   "cell_type": "code",
   "execution_count": 5,
   "metadata": {},
   "outputs": [
    {
     "data": {
      "text/plain": [
       "array([ 1,  2,  3,  4,  5,  6,  7,  8,  9, 10, 11, 12])"
      ]
     },
     "execution_count": 5,
     "metadata": {},
     "output_type": "execute_result"
    },
    {
     "data": {
      "text/plain": [
       "(3, 4)"
      ]
     },
     "execution_count": 5,
     "metadata": {},
     "output_type": "execute_result"
    },
    {
     "data": {
      "text/plain": [
       "2"
      ]
     },
     "execution_count": 5,
     "metadata": {},
     "output_type": "execute_result"
    }
   ],
   "source": [
    "#代码2-21\n",
    "#arange创建一维数组\n",
    "a1=np.arange(1,13)\n",
    "a1\n",
    "#设置数组的形状\n",
    "a1=a1.reshape(3,-1)   #-1表示所有，反正规定了一个另一个也就确认了\n",
    "#查看数组的维度\n",
    "a1.shape\n",
    "a1.ndim"
   ]
  },
  {
   "cell_type": "code",
   "execution_count": 90,
   "metadata": {},
   "outputs": [
    {
     "data": {
      "text/plain": [
       "array([[ 1,  2,  3,  4],\n",
       "       [ 5,  6,  7,  8],\n",
       "       [ 9, 10, 11, 12]])"
      ]
     },
     "execution_count": 90,
     "metadata": {},
     "output_type": "execute_result"
    },
    {
     "data": {
      "text/plain": [
       "array([ 1,  2,  3,  4,  5,  6,  7,  8,  9, 10, 11, 12])"
      ]
     },
     "execution_count": 90,
     "metadata": {},
     "output_type": "execute_result"
    },
    {
     "data": {
      "text/plain": [
       "array([[ 1,  2,  3,  4],\n",
       "       [ 5,  6,  7,  8],\n",
       "       [ 9, 10, 11, 12]])"
      ]
     },
     "execution_count": 90,
     "metadata": {},
     "output_type": "execute_result"
    }
   ],
   "source": [
    "#代码2-22\n",
    "#创建二维数组（使用arange和reshape）\n",
    "a1\n",
    "#使用ravel方法按行展平数组\n",
    "a1.ravel()\n",
    "a1"
   ]
  },
  {
   "cell_type": "code",
   "execution_count": 93,
   "metadata": {},
   "outputs": [
    {
     "data": {
      "text/plain": [
       "array([ 1,  2,  3,  4,  5,  6,  7,  8,  9, 10, 11, 12])"
      ]
     },
     "execution_count": 93,
     "metadata": {},
     "output_type": "execute_result"
    },
    {
     "data": {
      "text/plain": [
       "array([ 1,  5,  9,  2,  6, 10,  3,  7, 11,  4,  8, 12])"
      ]
     },
     "execution_count": 93,
     "metadata": {},
     "output_type": "execute_result"
    }
   ],
   "source": [
    "#代码2-23\n",
    "#使用flatten函数按行展平数组（横向）\n",
    "a1.flatten()\n",
    "#使用flatten函数按列展平数组（纵向）\n",
    "a1.flatten(\"F\")"
   ]
  },
  {
   "cell_type": "markdown",
   "metadata": {},
   "source": [
    "![11](img/hstack和vstack.jpg)  "
   ]
  },
  {
   "cell_type": "code",
   "execution_count": 18,
   "metadata": {},
   "outputs": [
    {
     "data": {
      "text/plain": [
       "array([[ 0,  1,  2,  3],\n",
       "       [ 4,  5,  6,  7],\n",
       "       [ 8,  9, 10, 11]])"
      ]
     },
     "execution_count": 18,
     "metadata": {},
     "output_type": "execute_result"
    },
    {
     "data": {
      "text/plain": [
       "array([[ 0,  3,  6,  9],\n",
       "       [12, 15, 18, 21],\n",
       "       [24, 27, 30, 33]])"
      ]
     },
     "execution_count": 18,
     "metadata": {},
     "output_type": "execute_result"
    },
    {
     "data": {
      "text/plain": [
       "array([[ 0,  1,  2,  3,  0,  3,  6,  9],\n",
       "       [ 4,  5,  6,  7, 12, 15, 18, 21],\n",
       "       [ 8,  9, 10, 11, 24, 27, 30, 33]])"
      ]
     },
     "execution_count": 18,
     "metadata": {},
     "output_type": "execute_result"
    }
   ],
   "source": [
    "#代码2-24\n",
    "#创建一个3X4的二维数组\n",
    "a2=np.arange(0,12).reshape(3,4)\n",
    "a2\n",
    "#上一个数组*3创建另一个数组\n",
    "a3=a2*3\n",
    "a3\n",
    "#使用hstack函数将两个数组横向组合\n",
    "np.hstack((a2,a3))"
   ]
  },
  {
   "cell_type": "code",
   "execution_count": 19,
   "metadata": {},
   "outputs": [
    {
     "data": {
      "text/plain": [
       "array([[ 0,  1,  2,  3],\n",
       "       [ 4,  5,  6,  7],\n",
       "       [ 8,  9, 10, 11],\n",
       "       [ 0,  3,  6,  9],\n",
       "       [12, 15, 18, 21],\n",
       "       [24, 27, 30, 33]])"
      ]
     },
     "execution_count": 19,
     "metadata": {},
     "output_type": "execute_result"
    }
   ],
   "source": [
    "#代码2-25\n",
    "#使用vstack函数将两个数组纵向组合，vertical\n",
    "np.vstack((a2,a3))"
   ]
  },
  {
   "cell_type": "code",
   "execution_count": 20,
   "metadata": {},
   "outputs": [
    {
     "data": {
      "text/plain": [
       "array([[ 0,  1,  2,  3],\n",
       "       [ 4,  5,  6,  7],\n",
       "       [ 8,  9, 10, 11],\n",
       "       [ 0,  3,  6,  9],\n",
       "       [12, 15, 18, 21],\n",
       "       [24, 27, 30, 33]])"
      ]
     },
     "execution_count": 20,
     "metadata": {},
     "output_type": "execute_result"
    },
    {
     "data": {
      "text/plain": [
       "array([[ 0,  1,  2,  3,  0,  3,  6,  9],\n",
       "       [ 4,  5,  6,  7, 12, 15, 18, 21],\n",
       "       [ 8,  9, 10, 11, 24, 27, 30, 33]])"
      ]
     },
     "execution_count": 20,
     "metadata": {},
     "output_type": "execute_result"
    }
   ],
   "source": [
    "#代码2-26\n",
    "#使用concatenate函数组合数组，横向：axis=1；纵向：axis=0，axis默认是0\n",
    "np.concatenate((a2,a3))  #因为默认axis=0\n",
    "np.concatenate((a2,a3),axis=1)"
   ]
  },
  {
   "cell_type": "markdown",
   "metadata": {},
   "source": [
    "![](img/hsplit和vsplit.jpg)  "
   ]
  },
  {
   "cell_type": "code",
   "execution_count": 8,
   "metadata": {},
   "outputs": [
    {
     "data": {
      "text/plain": [
       "[array([[ 1,  2],\n",
       "        [ 5,  6],\n",
       "        [ 9, 10]]),\n",
       " array([[ 3,  4],\n",
       "        [ 7,  8],\n",
       "        [11, 12]]),\n",
       " array([[0, 1],\n",
       "        [4, 5],\n",
       "        [8, 9]]),\n",
       " array([[ 2,  3],\n",
       "        [ 6,  7],\n",
       "        [10, 11]])]"
      ]
     },
     "execution_count": 8,
     "metadata": {},
     "output_type": "execute_result"
    },
    {
     "data": {
      "text/plain": [
       "[array([[ 1,  2],\n",
       "        [ 5,  6],\n",
       "        [ 9, 10]]),\n",
       " array([[ 3,  4,  0,  1,  2],\n",
       "        [ 7,  8,  4,  5,  6],\n",
       "        [11, 12,  8,  9, 10]]),\n",
       " array([], shape=(3, 0), dtype=int32),\n",
       " array([], shape=(3, 0), dtype=int32),\n",
       " array([[ 0,  1,  2,  3],\n",
       "        [ 4,  5,  6,  7],\n",
       "        [ 8,  9, 10, 11]])]"
      ]
     },
     "execution_count": 8,
     "metadata": {},
     "output_type": "execute_result"
    }
   ],
   "source": [
    "#代码2-27\n",
    "#使用hsplit函数实现数组的横向分割\n",
    "a4=np.hstack((a1,a2))\n",
    "np.hsplit(a4,4)   #用的数字就表示分成几份\n",
    "# np.hsplit(np.hstack((a1,a2)),[1,2])   #用序列[a,b]表示分三部分，a行（列），(b-a)行（列）剩下的(n-a-b)组成行（列）\n",
    "np.hsplit(a4,[2,7,5,4])  #前面7列切了后面4列也能切"
   ]
  },
  {
   "cell_type": "code",
   "execution_count": 10,
   "metadata": {},
   "outputs": [
    {
     "data": {
      "text/plain": [
       "array([[ 0,  1,  2,  3],\n",
       "       [ 4,  5,  6,  7],\n",
       "       [ 8,  9, 10, 11]])"
      ]
     },
     "execution_count": 10,
     "metadata": {},
     "output_type": "execute_result"
    },
    {
     "data": {
      "text/plain": [
       "array([[ 1,  2,  3,  4,  0,  1,  2,  3],\n",
       "       [ 5,  6,  7,  8,  4,  5,  6,  7],\n",
       "       [ 9, 10, 11, 12,  8,  9, 10, 11]])"
      ]
     },
     "execution_count": 10,
     "metadata": {},
     "output_type": "execute_result"
    },
    {
     "data": {
      "text/plain": [
       "[array([[1, 2, 3, 4, 0, 1, 2, 3]]),\n",
       " array([[ 5,  6,  7,  8,  4,  5,  6,  7],\n",
       "        [ 9, 10, 11, 12,  8,  9, 10, 11]]),\n",
       " array([], shape=(0, 8), dtype=int32)]"
      ]
     },
     "execution_count": 10,
     "metadata": {},
     "output_type": "execute_result"
    }
   ],
   "source": [
    "#代码2-28\n",
    "#使用vsplit函数实现数组的纵向分割\n",
    "a3=np.hstack((a1,a2))  #先合并\n",
    "a3\n",
    "np.vsplit(a3,[1,3])"
   ]
  },
  {
   "cell_type": "code",
   "execution_count": 28,
   "metadata": {
    "scrolled": true
   },
   "outputs": [
    {
     "data": {
      "text/plain": [
       "array([[ 1,  2,  3,  4,  5,  6,  7,  8],\n",
       "       [ 9, 10, 11, 12, 13, 14, 15, 16],\n",
       "       [17, 18, 19, 20, 21, 22, 23, 24],\n",
       "       [25, 26, 27, 28, 29, 30, 31, 32],\n",
       "       [33, 34, 35, 36, 37, 38, 39, 40],\n",
       "       [41, 42, 43, 44, 45, 46, 47, 48]])"
      ]
     },
     "execution_count": 28,
     "metadata": {},
     "output_type": "execute_result"
    },
    {
     "data": {
      "text/plain": [
       "[array([[ 1,  2,  3,  4,  5,  6,  7,  8],\n",
       "        [ 9, 10, 11, 12, 13, 14, 15, 16],\n",
       "        [17, 18, 19, 20, 21, 22, 23, 24]]),\n",
       " array([[25, 26, 27, 28, 29, 30, 31, 32],\n",
       "        [33, 34, 35, 36, 37, 38, 39, 40],\n",
       "        [41, 42, 43, 44, 45, 46, 47, 48]])]"
      ]
     },
     "execution_count": 28,
     "metadata": {},
     "output_type": "execute_result"
    },
    {
     "data": {
      "text/plain": [
       "[array([[ 1,  2,  3,  4],\n",
       "        [ 9, 10, 11, 12],\n",
       "        [17, 18, 19, 20],\n",
       "        [25, 26, 27, 28],\n",
       "        [33, 34, 35, 36],\n",
       "        [41, 42, 43, 44]]),\n",
       " array([[ 5,  6,  7,  8],\n",
       "        [13, 14, 15, 16],\n",
       "        [21, 22, 23, 24],\n",
       "        [29, 30, 31, 32],\n",
       "        [37, 38, 39, 40],\n",
       "        [45, 46, 47, 48]])]"
      ]
     },
     "execution_count": 28,
     "metadata": {},
     "output_type": "execute_result"
    },
    {
     "data": {
      "text/plain": [
       "[array([[ 1,  2,  3,  4,  5,  6,  7,  8],\n",
       "        [ 9, 10, 11, 12, 13, 14, 15, 16],\n",
       "        [17, 18, 19, 20, 21, 22, 23, 24],\n",
       "        [25, 26, 27, 28, 29, 30, 31, 32]]),\n",
       " array([[33, 34, 35, 36, 37, 38, 39, 40],\n",
       "        [41, 42, 43, 44, 45, 46, 47, 48]])]"
      ]
     },
     "execution_count": 28,
     "metadata": {},
     "output_type": "execute_result"
    },
    {
     "ename": "AttributeError",
     "evalue": "module 'numpy' has no attribute 'splite'",
     "output_type": "error",
     "traceback": [
      "\u001b[1;31m---------------------------------------------------------------------------\u001b[0m",
      "\u001b[1;31mAttributeError\u001b[0m                            Traceback (most recent call last)",
      "Cell \u001b[1;32mIn[28], line 8\u001b[0m\n\u001b[0;32m      6\u001b[0m np\u001b[38;5;241m.\u001b[39msplit(a,\u001b[38;5;241m2\u001b[39m,axis\u001b[38;5;241m=\u001b[39m\u001b[38;5;241m1\u001b[39m)\n\u001b[0;32m      7\u001b[0m np\u001b[38;5;241m.\u001b[39msplit(a,(\u001b[38;5;241m4\u001b[39m,))\n\u001b[1;32m----> 8\u001b[0m np\u001b[38;5;241m.\u001b[39msplite(a,(\u001b[38;5;241m2\u001b[39m,\u001b[38;5;241m2\u001b[39m,\u001b[38;5;241m2\u001b[39m,\u001b[38;5;241m2\u001b[39m))\n",
      "File \u001b[1;32mC:\\ProgramData\\anaconda3\\Lib\\site-packages\\numpy\\__init__.py:320\u001b[0m, in \u001b[0;36m__getattr__\u001b[1;34m(attr)\u001b[0m\n\u001b[0;32m    317\u001b[0m     \u001b[38;5;28;01mfrom\u001b[39;00m \u001b[38;5;21;01m.\u001b[39;00m\u001b[38;5;21;01mtesting\u001b[39;00m \u001b[38;5;28;01mimport\u001b[39;00m Tester\n\u001b[0;32m    318\u001b[0m     \u001b[38;5;28;01mreturn\u001b[39;00m Tester\n\u001b[1;32m--> 320\u001b[0m \u001b[38;5;28;01mraise\u001b[39;00m \u001b[38;5;167;01mAttributeError\u001b[39;00m(\u001b[38;5;124m\"\u001b[39m\u001b[38;5;124mmodule \u001b[39m\u001b[38;5;132;01m{!r}\u001b[39;00m\u001b[38;5;124m has no attribute \u001b[39m\u001b[38;5;124m\"\u001b[39m\n\u001b[0;32m    321\u001b[0m                      \u001b[38;5;124m\"\u001b[39m\u001b[38;5;132;01m{!r}\u001b[39;00m\u001b[38;5;124m\"\u001b[39m\u001b[38;5;241m.\u001b[39mformat(\u001b[38;5;18m__name__\u001b[39m, attr))\n",
      "\u001b[1;31mAttributeError\u001b[0m: module 'numpy' has no attribute 'splite'"
     ]
    }
   ],
   "source": [
    "#代码2-29\n",
    "#使用split函数加上axis参数实现数组的横向和纵向分割，1是纵向，0是横向，默认0\n",
    "a=np.arange(1,49).reshape(6,8)\n",
    "a\n",
    "np.split(a,2)\n",
    "np.split(a,2,axis=1)\n",
    "np.split(a,(4,))\n",
    "np.splite(a,(2,2,2,2))"
   ]
  },
  {
   "cell_type": "code",
   "execution_count": 38,
   "metadata": {},
   "outputs": [
    {
     "data": {
      "text/plain": [
       "array([[  0,   1,   2,   3,   4,   5,   6,   7,   8],\n",
       "       [  9,  10,  11,  12,  13,  14,  15,  16,  17],\n",
       "       [ 18,  19,  20,  21,  22,  23,  24,  25,  26],\n",
       "       [ 27,  28,  29,  30,  31,  32,  33,  34,  35],\n",
       "       [ 36,  37,  38,  39,  40,  41,  42,  43,  44],\n",
       "       [ 45,  46,  47,  48,  49,  50,  51,  52,  53],\n",
       "       [ 54,  55,  56,  57,  58,  59,  60,  61,  62],\n",
       "       [ 63,  64,  65,  66,  67,  68,  69,  70,  71],\n",
       "       [ 72,  73,  74,  75,  76,  77,  78,  79,  80],\n",
       "       [ 81,  82,  83,  84,  85,  86,  87,  88,  89],\n",
       "       [ 90,  91,  92,  93,  94,  95,  96,  97,  98],\n",
       "       [ 99, 100, 101, 102, 103, 104, 105, 106, 107],\n",
       "       [108, 109, 110, 111, 112, 113, 114, 115, 116],\n",
       "       [117, 118, 119, 120, 121, 122, 123, 124, 125],\n",
       "       [126, 127, 128, 129, 130, 131, 132, 133, 134],\n",
       "       [135, 136, 137, 138, 139, 140, 141, 142, 143]])"
      ]
     },
     "execution_count": 38,
     "metadata": {},
     "output_type": "execute_result"
    },
    {
     "data": {
      "text/plain": [
       "[array([[ 0,  1,  2,  3,  4,  5,  6,  7,  8],\n",
       "        [ 9, 10, 11, 12, 13, 14, 15, 16, 17],\n",
       "        [18, 19, 20, 21, 22, 23, 24, 25, 26]]),\n",
       " array([[27, 28, 29, 30, 31, 32, 33, 34, 35],\n",
       "        [36, 37, 38, 39, 40, 41, 42, 43, 44],\n",
       "        [45, 46, 47, 48, 49, 50, 51, 52, 53],\n",
       "        [54, 55, 56, 57, 58, 59, 60, 61, 62],\n",
       "        [63, 64, 65, 66, 67, 68, 69, 70, 71]]),\n",
       " array([], shape=(0, 9), dtype=int32),\n",
       " array([[ 0,  1,  2,  3,  4,  5,  6,  7,  8],\n",
       "        [ 9, 10, 11, 12, 13, 14, 15, 16, 17],\n",
       "        [18, 19, 20, 21, 22, 23, 24, 25, 26],\n",
       "        [27, 28, 29, 30, 31, 32, 33, 34, 35],\n",
       "        [36, 37, 38, 39, 40, 41, 42, 43, 44],\n",
       "        [45, 46, 47, 48, 49, 50, 51, 52, 53],\n",
       "        [54, 55, 56, 57, 58, 59, 60, 61, 62],\n",
       "        [63, 64, 65, 66, 67, 68, 69, 70, 71],\n",
       "        [72, 73, 74, 75, 76, 77, 78, 79, 80],\n",
       "        [81, 82, 83, 84, 85, 86, 87, 88, 89]]),\n",
       " array([[ 90,  91,  92,  93,  94,  95,  96,  97,  98],\n",
       "        [ 99, 100, 101, 102, 103, 104, 105, 106, 107],\n",
       "        [108, 109, 110, 111, 112, 113, 114, 115, 116],\n",
       "        [117, 118, 119, 120, 121, 122, 123, 124, 125],\n",
       "        [126, 127, 128, 129, 130, 131, 132, 133, 134],\n",
       "        [135, 136, 137, 138, 139, 140, 141, 142, 143]])]"
      ]
     },
     "execution_count": 38,
     "metadata": {},
     "output_type": "execute_result"
    }
   ],
   "source": [
    "#创建一个（16，9）的数组，进行横向、纵向拆分，分别得到（3，9）（10，9）（5，9）的子数组\n",
    "b=np.arange(0,144).reshape(16,9)\n",
    "b\n",
    "np.vsplit(b,[3,8,0,10])"
   ]
  },
  {
   "cell_type": "code",
   "execution_count": null,
   "metadata": {},
   "outputs": [],
   "source": [
    "# 关于reshape\n",
    "#-1"
   ]
  },
  {
   "cell_type": "markdown",
   "metadata": {},
   "source": [
    "![](img/tile和repeat.jpg)  "
   ]
  },
  {
   "cell_type": "code",
   "execution_count": 45,
   "metadata": {},
   "outputs": [
    {
     "data": {
      "text/plain": [
       "array([[0, 1, 2],\n",
       "       [3, 4, 5]])"
      ]
     },
     "execution_count": 45,
     "metadata": {},
     "output_type": "execute_result"
    },
    {
     "data": {
      "text/plain": [
       "array([[0, 1, 2, 0, 1, 2, 0, 1, 2],\n",
       "       [3, 4, 5, 3, 4, 5, 3, 4, 5],\n",
       "       [0, 1, 2, 0, 1, 2, 0, 1, 2],\n",
       "       [3, 4, 5, 3, 4, 5, 3, 4, 5]])"
      ]
     },
     "execution_count": 45,
     "metadata": {},
     "output_type": "execute_result"
    },
    {
     "data": {
      "text/plain": [
       "array([[0, 0, 0, 1, 1, 1, 2, 2, 2],\n",
       "       [3, 3, 3, 4, 4, 4, 5, 5, 5]])"
      ]
     },
     "execution_count": 45,
     "metadata": {},
     "output_type": "execute_result"
    },
    {
     "data": {
      "text/plain": [
       "array([[0, 1, 2],\n",
       "       [0, 1, 2],\n",
       "       [0, 1, 2],\n",
       "       [3, 4, 5],\n",
       "       [3, 4, 5],\n",
       "       [3, 4, 5]])"
      ]
     },
     "execution_count": 45,
     "metadata": {},
     "output_type": "execute_result"
    }
   ],
   "source": [
    "# tile函数和repeat方法；函数的操作一般是有返回值的，方法的操作一般是原地修改\n",
    "a=np.arange(6).reshape(2,3)\n",
    "a\n",
    "np.tile(a,(2,3))  #2行3列\n",
    "a.repeat(3,axis=1)\n",
    "a.repeat(3,axis=0)"
   ]
  },
  {
   "cell_type": "markdown",
   "metadata": {},
   "source": [
    "### 课堂练习"
   ]
  },
  {
   "cell_type": "code",
   "execution_count": 59,
   "metadata": {},
   "outputs": [
    {
     "data": {
      "text/plain": [
       "array([[1, 0],\n",
       "       [0, 1]])"
      ]
     },
     "execution_count": 59,
     "metadata": {},
     "output_type": "execute_result"
    },
    {
     "data": {
      "text/plain": [
       "array([[1, 0, 1, 0, 1, 0, 1, 0],\n",
       "       [0, 1, 0, 1, 0, 1, 0, 1],\n",
       "       [1, 0, 1, 0, 1, 0, 1, 0],\n",
       "       [0, 1, 0, 1, 0, 1, 0, 1],\n",
       "       [1, 0, 1, 0, 1, 0, 1, 0],\n",
       "       [0, 1, 0, 1, 0, 1, 0, 1],\n",
       "       [1, 0, 1, 0, 1, 0, 1, 0],\n",
       "       [0, 1, 0, 1, 0, 1, 0, 1]])"
      ]
     },
     "execution_count": 59,
     "metadata": {},
     "output_type": "execute_result"
    },
    {
     "data": {
      "text/plain": [
       "array([[1, 0, 1, 0, 1, 0, 1, 0],\n",
       "       [0, 1, 0, 1, 0, 1, 0, 1],\n",
       "       [1, 0, 1, 0, 1, 0, 1, 0],\n",
       "       [0, 1, 0, 1, 0, 1, 0, 1],\n",
       "       [1, 0, 1, 0, 1, 0, 1, 0],\n",
       "       [0, 1, 0, 1, 0, 1, 0, 1],\n",
       "       [1, 0, 1, 0, 1, 0, 1, 0],\n",
       "       [0, 1, 0, 1, 0, 1, 0, 1]])"
      ]
     },
     "execution_count": 59,
     "metadata": {},
     "output_type": "execute_result"
    }
   ],
   "source": [
    "#课堂练习1：创建一个数值从0到1，间隔为0.01的数组\n",
    "\n",
    "#课堂练习2：创建100个服从正态分布的随机数\n",
    "\n",
    "#课堂练习3：对创建的数组进行数组运算\n",
    "\n",
    "#课堂练习4：创建一个国际象棋的棋盘：黑为1，白为0\n",
    "a=np.array([1,0,0,1]).reshape(2,2)\n",
    "a\n",
    "np.tile(a,(4,4))\n",
    "\n",
    "b=np.zeros((8,8),dtype=int)\n",
    "b[::2,::2]=1\n",
    "b[1::2,1::2]=1\n",
    "b"
   ]
  },
  {
   "cell_type": "markdown",
   "metadata": {},
   "source": [
    "### 项目实例：全国人口数据人口的切片（续）"
   ]
  },
  {
   "cell_type": "code",
   "execution_count": 62,
   "metadata": {
    "collapsed": true,
    "jupyter": {
     "outputs_hidden": true
    }
   },
   "outputs": [
    {
     "data": {
      "text/plain": [
       "array(['北京', '天津', '河北', '山西', '内蒙古 ', '辽宁', '吉林', '黑龙江 ', '上海', '江苏',\n",
       "       '浙江', '安徽', '福建', '江西', '山东', '河南', '湖北', '湖南', '广东', '广西', '海南',\n",
       "       '四川', '贵州', '云南', '西藏', '陕西', '甘肃', '青海', '宁夏', '新疆'], dtype='<U4')"
      ]
     },
     "execution_count": 62,
     "metadata": {},
     "output_type": "execute_result"
    },
    {
     "data": {
      "text/plain": [
       "array([[ 1035.7,  1042.9,  1048.7,  1056.9,  1068.2,  1077. ,  1083.2,\n",
       "         1092.3,  1097.8,  1106.2,  1113.5,  1127.9],\n",
       "       [  870.5,   876.6,   882.7,   889.6,   894.5,   898.6,   902.4,\n",
       "          905.1,   910.7,   916.2,   918.7,   923.7],\n",
       "       [ 6116.8,  6183.2,  6249.3,  6309.6,  6366. ,  6420.5,  6461. ,\n",
       "         6508.1,  6555.3,  6602.2,  6670.9,  6702.5],\n",
       "       [ 2845.2,  2883.4,  2919.1,  2955.5,  2990.9,  3025.7,  3059.2,\n",
       "         3091.3,  3113.3,  3145.1,  3196.2,  3220.3],\n",
       "       [ 2149.4,  2164.8,  2178.5,  2198. ,  2217.4,  2237.2,  2263. ,\n",
       "         2288.5,  2310.2,  2329.5,  2300.9,  2319.2],\n",
       "       [ 3917.4,  3938.5,  3957.9,  3982.9,  4007.2,  4034. ,  4056.8,\n",
       "         4077.1,  4090.4,  4103.2,  4135.3,  4147. ],\n",
       "       [ 2440.2,  2459.7,  2474. ,  2496.1,  2515.6,  2550.9,  2579.1,\n",
       "         2600.1,  2603.2,  2616.1,  2627.3,  2637.1],\n",
       "       [ 3488.9,  3510.7,  3526.2,  3538.9,  3557.6,  3576.8,  3605.1,\n",
       "         3628.5,  3642. ,  3660.8,  3698.1,  3715.4],\n",
       "       [ 1283.4,  1287.2,  1289.4,  1294.7,  1298.8,  1301.4,  1304.4,\n",
       "         1305.5,  1306.6,  1313.1,  1321.6,  1327.1],\n",
       "       [ 6671.7,  6733.9,  6767.5,  6800.7,  6831.3,  6868.4,  6908.1,\n",
       "         6948.4,  6983.1,  7009.1,  7069.3,  7097. ],\n",
       "       [ 4235.9,  4261.4,  4285.9,  4313.3,  4341.2,  4369.6,  4400.1,\n",
       "         4422.3,  4446.9,  4467.5,  4501.2,  4519.8],\n",
       "       [ 5660.7,  5744. ,  5817.5,  5870. ,  5937.9,  5999.6,  6054. ,\n",
       "         6109.2,  6152.2,  6205.5,  6278.4,  6325.2],\n",
       "       [ 2999.8,  3039. ,  3066.9,  3099.2,  3126.9,  3164.6,  3210.6,\n",
       "         3237.1,  3260.8,  3283.6,  3304.6,  3321. ],\n",
       "       [ 3761.4,  3801.9,  3827. ,  3857.2,  3893.7,  3938.6,  3981. ,\n",
       "         4026. ,  4070.6,  4117. ,  4164.5,  4212. ],\n",
       "       [ 8423.6,  8534. ,  8579.8,  8620.4,  8652.6,  8701.2,  8747. ,\n",
       "         8809.7,  8871.5,  8921.7,  8975.5,  9024. ],\n",
       "       [ 8564.4,  8687. ,  8811.5,  8914.6,  9005. ,  9108.8,  9203.1,\n",
       "         9292.7,  9373.7,  9446.3,  9526.5,  9603.2],\n",
       "       [ 5373.5,  5446.8,  5513.6,  5590.5,  5656.8,  5727.1,  5776.4,\n",
       "         5838.8,  5890.6,  5942.5,  5936. ,  5956.7],\n",
       "       [ 6110.6,  6167. ,  6209.2,  6248. ,  6305.9,  6356.7,  6403.9,\n",
       "         6444.1,  6482.2,  6520.6,  6515.5,  6539.8],\n",
       "       [ 6246.3,  6349. ,  6463.2,  6581.6,  6691.5,  6788.7,  6896.8,\n",
       "         7013.7,  7115.6,  7298.9,  7498.5,  7565.3],\n",
       "       [ 4241.6,  4294.5,  4359.4,  4408.8,  4455.1,  4502.1,  4545.5,\n",
       "         4588.5,  4622.2,  4657.6,  4723.6,  4758. ],\n",
       "       [  651.2,   661.5,   671.3,   681.8,   691.4,   702.4,   714.1,\n",
       "          724.5,   733.3,   743.2,   760.9,   769.5],\n",
       "       [10813.4, 10886.8, 10942.9, 11022.4, 11084.3, 11162.9, 11238.2,\n",
       "         8264.7,  8315.7,  8358.6,  8407.5,  8436.6],\n",
       "       [ 3237. ,  3271.4,  3301. ,  3332.3,  3380.6,  3419.5,  3459.5,\n",
       "         3495.5,  3536.5,  3582. ,  3676.6,  3710.2],\n",
       "       [ 3694.5,  3734.7,  3767.1,  3802.1,  3837.1,  3873.5,  3909.4,\n",
       "         3944.6,  3983.3,  4018.4,  4076.6,  4106.7],\n",
       "       [  218.1,   221.8,   225.3,   228.9,   232. ,   235.6,   239.3,\n",
       "          242.7,   245.4,   247.7,   251.2,   253.7],\n",
       "       [ 3275. ,  3309.9,  3340.3,  3369.7,  3401.6,  3431.9,  3457.7,\n",
       "         3482.7,  3501.1,  3519.2,  3572.2,  3589.5],\n",
       "       [ 2229.9,  2258. ,  2288.1,  2318.6,  2352.4,  2388.4,  2427.8,\n",
       "         2456.6,  2483.6,  2507.4,  2533.7,  2550.7],\n",
       "       [  434.8,   439.4,   443.1,   446.3,   451. ,   456.2,   462.6,\n",
       "          466.5,   470.3,   473.2,   480.4,   483.5],\n",
       "       [  465.7,   473.8,   482.3,   490.9,   503.9,   512.4,   521.2,\n",
       "          528.9,   536.6,   543.3,   554.3,   566. ],\n",
       "       [ 1498.7,  1528. ,  1554.1,  1577.1,  1605.3,  1637.3,  1675.6,\n",
       "         1705.8,  1733.6,  1763.4,  1791.5,  1823.9]])"
      ]
     },
     "execution_count": 62,
     "metadata": {},
     "output_type": "execute_result"
    }
   ],
   "source": [
    "# 从文本文件读取人口数据\n",
    "peoples = np.loadtxt(\"data/人口.csv\",skiprows=2,delimiter=',',usecols=(range(1,13)),encoding=\"utf-8\")\n",
    "province = np.loadtxt(\"data/人口.csv\",skiprows=2,delimiter=',',usecols=0,encoding=\"utf-8\",dtype=str)\n",
    "# 从文本文件读取人口数据\n",
    "province\n",
    "peoples"
   ]
  },
  {
   "cell_type": "code",
   "execution_count": 81,
   "metadata": {},
   "outputs": [
    {
     "data": {
      "text/plain": [
       "array(['北京', '天津', '河北', '山西', '内蒙古 '], dtype='<U4')"
      ]
     },
     "execution_count": 81,
     "metadata": {},
     "output_type": "execute_result"
    },
    {
     "data": {
      "text/plain": [
       "array([[2845.2, 2883.4, 2919.1, 2955.5, 2990.9, 3025.7, 3059.2, 3091.3,\n",
       "        3113.3, 3145.1, 3196.2, 3220.3]])"
      ]
     },
     "execution_count": 81,
     "metadata": {},
     "output_type": "execute_result"
    },
    {
     "data": {
      "text/plain": [
       "array([[6116.8, 6183.2, 6249.3, 6309.6, 6366. , 6420.5, 6461. , 6508.1,\n",
       "        6555.3, 6602.2, 6670.9, 6702.5],\n",
       "       [2845.2, 2883.4, 2919.1, 2955.5, 2990.9, 3025.7, 3059.2, 3091.3,\n",
       "        3113.3, 3145.1, 3196.2, 3220.3]])"
      ]
     },
     "execution_count": 81,
     "metadata": {},
     "output_type": "execute_result"
    }
   ],
   "source": [
    "# 前五行是哪些省市\n",
    "province[:5]\n",
    "\n",
    "# 1991年各省市人口(某一列)\n",
    "\n",
    "# 山西省历年人口数据（某一行）\n",
    "peoples[province==\"山西\"]\n",
    "\n",
    "# 河北山西内蒙古历年人口数据\n",
    "peoples[np.any([province==\"河北\",province==\"山西\",province==\"内蒙古\"],axis=0)]"
   ]
  },
  {
   "cell_type": "markdown",
   "metadata": {},
   "source": [
    "![](img/数组布尔索引.png)  "
   ]
  },
  {
   "cell_type": "code",
   "execution_count": 77,
   "metadata": {},
   "outputs": [
    {
     "data": {
      "text/plain": [
       "array([ 1,  2,  3,  4,  5,  6,  7,  8,  9, 10, 11, 12])"
      ]
     },
     "execution_count": 77,
     "metadata": {},
     "output_type": "execute_result"
    },
    {
     "data": {
      "text/plain": [
       "array([ 1,  3,  5,  7,  9, 11])"
      ]
     },
     "execution_count": 77,
     "metadata": {},
     "output_type": "execute_result"
    },
    {
     "data": {
      "text/plain": [
       "array([ 6, 12])"
      ]
     },
     "execution_count": 77,
     "metadata": {},
     "output_type": "execute_result"
    },
    {
     "data": {
      "text/plain": [
       "array([ 6, 12])"
      ]
     },
     "execution_count": 77,
     "metadata": {},
     "output_type": "execute_result"
    },
    {
     "data": {
      "text/plain": [
       "array([ 2,  3,  4,  6,  8,  9, 10, 12])"
      ]
     },
     "execution_count": 77,
     "metadata": {},
     "output_type": "execute_result"
    },
    {
     "data": {
      "text/plain": [
       "array([ 2,  3,  4,  6,  8,  9, 10, 12])"
      ]
     },
     "execution_count": 77,
     "metadata": {},
     "output_type": "execute_result"
    }
   ],
   "source": [
    "# 预备知识：条件索引和切片\n",
    "a2=np.arange(1,13)\n",
    "a2\n",
    "# 截取奇数\n",
    "a2[a2%2==1]\n",
    "\n",
    "# 能被2和3同时整除的数\n",
    "a2[(a2%2==0) & (a2%3==0)]\n",
    "a2[np.all([a2%2==0,a2%3==0],axis=0)]\n",
    "\n",
    "# 能被2或3整除的数\n",
    "a2[(a2%2==0) | (a2%3==0)]\n",
    "a2[np.any([a2%2==0,a2%3==0],axis=0)]"
   ]
  },
  {
   "cell_type": "code",
   "execution_count": 11,
   "metadata": {},
   "outputs": [
    {
     "data": {
      "text/plain": [
       "array([[6246.3, 6349. , 6463.2, 6581.6, 6691.5, 6788.7, 6896.8, 7013.7,\n",
       "        7115.6, 7298.9, 7498.5, 7565.3]])"
      ]
     },
     "execution_count": 11,
     "metadata": {},
     "output_type": "execute_result"
    },
    {
     "data": {
      "text/plain": [
       "array([6349. , 6691.5, 7013.7])"
      ]
     },
     "execution_count": 11,
     "metadata": {},
     "output_type": "execute_result"
    },
    {
     "data": {
      "text/plain": [
       "array([[1042.9, 1068.2, 1092.3],\n",
       "       [1287.2, 1298.8, 1305.5],\n",
       "       [6349. , 6691.5, 7013.7]])"
      ]
     },
     "execution_count": 11,
     "metadata": {},
     "output_type": "execute_result"
    }
   ],
   "source": [
    "# 从文本文件读取人口数据\n",
    "peoples = np.loadtxt(\"data/人口.csv\",skiprows=2,delimiter=',',usecols=(range(1,13)),encoding=\"utf-8\")\n",
    "province = np.loadtxt(\"data/人口.csv\",skiprows=2,delimiter=',',usecols=0,encoding=\"utf-8\",dtype=str)\n",
    "\n",
    "# 广东省历年人口数据（不知道广东省在peoples的行号）\n",
    "peoples[province==\"广东\"]\n",
    "# 广东省1991、1994、1997年的人口数据\n",
    "peoples[province==\"广东\",[1,4,7]]\n",
    "# 北京上海广东1991,1994,1997年的人口数据\n",
    "peoples[np.any([province==\"北京\",province==\"上海\",province==\"广东\"],axis=0),1:8:3]\n",
    "#等价于 peoples[np.any([province==\"北京\",province==\"上海\",province==\"广东\"],axis=0)][:,(1,4,7)]"
   ]
  },
  {
   "cell_type": "code",
   "execution_count": 41,
   "metadata": {},
   "outputs": [
    {
     "data": {
      "text/plain": [
       "(array([0], dtype=int64),)"
      ]
     },
     "execution_count": 41,
     "metadata": {},
     "output_type": "execute_result"
    },
    {
     "data": {
      "text/plain": [
       "numpy.ndarray"
      ]
     },
     "execution_count": 41,
     "metadata": {},
     "output_type": "execute_result"
    },
    {
     "data": {
      "text/plain": [
       "array([1035.7, 1042.9, 1048.7, 1056.9, 1068.2, 1077. , 1083.2, 1092.3,\n",
       "       1097.8, 1106.2, 1113.5, 1127.9])"
      ]
     },
     "execution_count": 41,
     "metadata": {},
     "output_type": "execute_result"
    },
    {
     "data": {
      "text/plain": [
       "array([1042.9])"
      ]
     },
     "execution_count": 41,
     "metadata": {},
     "output_type": "execute_result"
    }
   ],
   "source": [
    "# 另一种方式\n",
    "# 找到省市的序号\n",
    "np.where(province==\"北京\")  #单个可以不用[0]；多个就要\n",
    "np.where(province==\"北京\")[0]\n",
    "peoples[0]\n",
    "peoples[[np.where(province==\"北京\")[0],np.where(province==\"天津\")[0]]]"
   ]
  },
  {
   "cell_type": "code",
   "execution_count": 7,
   "metadata": {},
   "outputs": [
    {
     "data": {
      "text/plain": [
       "(array([0, 1], dtype=int64),)"
      ]
     },
     "execution_count": 7,
     "metadata": {},
     "output_type": "execute_result"
    }
   ],
   "source": [
    "np.where((province==\"北京\") | (province==\"天津\"))"
   ]
  },
  {
   "cell_type": "markdown",
   "metadata": {},
   "source": [
    "## 2.2 掌握NumPy矩阵与通用函数\n",
    "NumPy 对于多维数组的运算，默认情况下并不使用矩阵运算。如果需要对数组进行矩\n",
    "阵运算，则可以调用相应的函数。"
   ]
  },
  {
   "cell_type": "code",
   "execution_count": 2,
   "metadata": {},
   "outputs": [],
   "source": [
    "# 显示所有变量\n",
    "from IPython.core.interactiveshell import InteractiveShell\n",
    "InteractiveShell.ast_node_interactivity = \"all\"\n",
    "import numpy as np"
   ]
  },
  {
   "cell_type": "markdown",
   "metadata": {},
   "source": [
    "### 2.2.1 创建Numpy矩阵"
   ]
  },
  {
   "cell_type": "code",
   "execution_count": 10,
   "metadata": {},
   "outputs": [
    {
     "data": {
      "text/plain": [
       "array([[1, 2, 3],\n",
       "       [4, 5, 6]])"
      ]
     },
     "execution_count": 10,
     "metadata": {},
     "output_type": "execute_result"
    },
    {
     "data": {
      "text/plain": [
       "array([[ 1,  3],\n",
       "       [ 5,  7],\n",
       "       [ 9, 11]])"
      ]
     },
     "execution_count": 10,
     "metadata": {},
     "output_type": "execute_result"
    },
    {
     "data": {
      "text/plain": [
       "array([[ 38,  50],\n",
       "       [ 83, 113]])"
      ]
     },
     "execution_count": 10,
     "metadata": {},
     "output_type": "execute_result"
    }
   ],
   "source": [
    "# 新版numpy不再更新矩阵的支持，由二维数组取代\n",
    "a1=np.array([[1,2,3],[4,5,6]])\n",
    "a2=np.array([[1,3],[5,7],[9,11]])\n",
    "a1;a2\n",
    "# a1*a2  目前是数组，没法直接用矩阵的乘法运算\n",
    "np.dot(a1,a2)"
   ]
  },
  {
   "cell_type": "code",
   "execution_count": 48,
   "metadata": {},
   "outputs": [
    {
     "data": {
      "text/plain": [
       "matrix([[1, 2, 3],\n",
       "        [4, 5, 6]])"
      ]
     },
     "execution_count": 48,
     "metadata": {},
     "output_type": "execute_result"
    },
    {
     "data": {
      "text/plain": [
       "matrix([[ 1,  3],\n",
       "        [ 5,  7],\n",
       "        [ 9, 11]])"
      ]
     },
     "execution_count": 48,
     "metadata": {},
     "output_type": "execute_result"
    },
    {
     "data": {
      "text/plain": [
       "matrix([[ 38,  50],\n",
       "        [ 83, 113]])"
      ]
     },
     "execution_count": 48,
     "metadata": {},
     "output_type": "execute_result"
    },
    {
     "data": {
      "text/plain": [
       "array([[1, 2, 3],\n",
       "       [4, 5, 6]])"
      ]
     },
     "execution_count": 48,
     "metadata": {},
     "output_type": "execute_result"
    },
    {
     "data": {
      "text/plain": [
       "matrix([[1, 4],\n",
       "        [2, 5],\n",
       "        [3, 6]])"
      ]
     },
     "execution_count": 48,
     "metadata": {},
     "output_type": "execute_result"
    },
    {
     "data": {
      "text/plain": [
       "matrix([[1, 4],\n",
       "        [2, 5],\n",
       "        [3, 6]])"
      ]
     },
     "execution_count": 48,
     "metadata": {},
     "output_type": "execute_result"
    },
    {
     "data": {
      "text/plain": [
       "matrix([[-0.94444444,  0.44444444],\n",
       "        [-0.11111111,  0.11111111],\n",
       "        [ 0.72222222, -0.22222222]])"
      ]
     },
     "execution_count": 48,
     "metadata": {},
     "output_type": "execute_result"
    }
   ],
   "source": [
    "#matrix函数将数组转成矩阵matrix类型\n",
    "m1=np.matrix(a1)\n",
    "m1\n",
    "m2=np.matrix(a2);m2\n",
    "m1*m2\n",
    "m1.A  #矩阵转成数组array\n",
    "m1.T\n",
    "m1.H\n",
    "m1.I"
   ]
  },
  {
   "cell_type": "markdown",
   "metadata": {},
   "source": [
    "### 2.2.2 掌握ufunc函数"
   ]
  },
  {
   "cell_type": "markdown",
   "metadata": {},
   "source": [
    "![](img/二维数组计算.png)  "
   ]
  },
  {
   "cell_type": "code",
   "execution_count": 18,
   "metadata": {},
   "outputs": [
    {
     "data": {
      "text/plain": [
       "array([1, 2, 3])"
      ]
     },
     "execution_count": 18,
     "metadata": {},
     "output_type": "execute_result"
    },
    {
     "data": {
      "text/plain": [
       "array([4, 5, 6])"
      ]
     },
     "execution_count": 18,
     "metadata": {},
     "output_type": "execute_result"
    },
    {
     "data": {
      "text/plain": [
       "array([5, 7, 9])"
      ]
     },
     "execution_count": 18,
     "metadata": {},
     "output_type": "execute_result"
    },
    {
     "data": {
      "text/plain": [
       "array([5, 7, 9])"
      ]
     },
     "execution_count": 18,
     "metadata": {},
     "output_type": "execute_result"
    },
    {
     "data": {
      "text/plain": [
       "array([-3, -3, -3])"
      ]
     },
     "execution_count": 18,
     "metadata": {},
     "output_type": "execute_result"
    },
    {
     "data": {
      "text/plain": [
       "array([-3, -3, -3])"
      ]
     },
     "execution_count": 18,
     "metadata": {},
     "output_type": "execute_result"
    },
    {
     "data": {
      "text/plain": [
       "array([ 4, 10, 18])"
      ]
     },
     "execution_count": 18,
     "metadata": {},
     "output_type": "execute_result"
    },
    {
     "data": {
      "text/plain": [
       "array([ 4, 10, 18])"
      ]
     },
     "execution_count": 18,
     "metadata": {},
     "output_type": "execute_result"
    },
    {
     "data": {
      "text/plain": [
       "array([0.25, 0.4 , 0.5 ])"
      ]
     },
     "execution_count": 18,
     "metadata": {},
     "output_type": "execute_result"
    },
    {
     "data": {
      "text/plain": [
       "array([0.25, 0.4 , 0.5 ])"
      ]
     },
     "execution_count": 18,
     "metadata": {},
     "output_type": "execute_result"
    },
    {
     "data": {
      "text/plain": [
       "array([  1,  32, 729])"
      ]
     },
     "execution_count": 18,
     "metadata": {},
     "output_type": "execute_result"
    },
    {
     "data": {
      "text/plain": [
       "array([  1,  32, 729])"
      ]
     },
     "execution_count": 18,
     "metadata": {},
     "output_type": "execute_result"
    }
   ],
   "source": [
    "#代码2-34：数组的四则运算\n",
    "#创建两个一维数组x和y\n",
    "x=np.array([1,2,3])\n",
    "y=np.array([4,5,6])\n",
    "x;y\n",
    "#数组相加\n",
    "x+y\n",
    "np.add(x,y)  #通用函数\n",
    "#数组相减\n",
    "x-y\n",
    "np.subtract(x,y)\n",
    "#数组相乘\n",
    "x*y\n",
    "np.multiply(x,y)\n",
    "#数组相除\n",
    "x/y\n",
    "np.divide(x,y)\n",
    "#数组幂运算\n",
    "x**y\n",
    "np.power(x,y)"
   ]
  },
  {
   "cell_type": "code",
   "execution_count": 21,
   "metadata": {},
   "outputs": [
    {
     "data": {
      "text/plain": [
       "array([4, 2, 3])"
      ]
     },
     "execution_count": 21,
     "metadata": {},
     "output_type": "execute_result"
    },
    {
     "data": {
      "text/plain": [
       "array([1, 2, 6])"
      ]
     },
     "execution_count": 21,
     "metadata": {},
     "output_type": "execute_result"
    },
    {
     "data": {
      "text/plain": [
       "array([False, False,  True])"
      ]
     },
     "execution_count": 21,
     "metadata": {},
     "output_type": "execute_result"
    },
    {
     "data": {
      "text/plain": [
       "array([ True, False, False])"
      ]
     },
     "execution_count": 21,
     "metadata": {},
     "output_type": "execute_result"
    },
    {
     "data": {
      "text/plain": [
       "array([False,  True, False])"
      ]
     },
     "execution_count": 21,
     "metadata": {},
     "output_type": "execute_result"
    },
    {
     "data": {
      "text/plain": [
       "array([False,  True, False])"
      ]
     },
     "execution_count": 21,
     "metadata": {},
     "output_type": "execute_result"
    },
    {
     "data": {
      "text/plain": [
       "array([ True,  True, False])"
      ]
     },
     "execution_count": 21,
     "metadata": {},
     "output_type": "execute_result"
    },
    {
     "data": {
      "text/plain": [
       "array([ True, False,  True])"
      ]
     },
     "execution_count": 21,
     "metadata": {},
     "output_type": "execute_result"
    },
    {
     "data": {
      "text/plain": [
       "array([ True, False,  True])"
      ]
     },
     "execution_count": 21,
     "metadata": {},
     "output_type": "execute_result"
    },
    {
     "data": {
      "text/plain": [
       "array([4])"
      ]
     },
     "execution_count": 21,
     "metadata": {},
     "output_type": "execute_result"
    }
   ],
   "source": [
    "#代码2-35：数组的比较运算\n",
    "#>,<,==,>=,<=,!=\n",
    "x=np.array([4,2,3])\n",
    "y=np.array([1,2,6])\n",
    "x;y\n",
    "\n",
    "x<y\n",
    "\n",
    "x>y\n",
    "\n",
    "x==y\n",
    "np.equal(x,y)\n",
    "\n",
    "x>=y\n",
    "\n",
    "x!=y\n",
    "np.not_equal(x,y)\n",
    "\n",
    "x[x>y]"
   ]
  },
  {
   "cell_type": "code",
   "execution_count": 29,
   "metadata": {},
   "outputs": [
    {
     "data": {
      "text/plain": [
       "False"
      ]
     },
     "execution_count": 29,
     "metadata": {},
     "output_type": "execute_result"
    },
    {
     "data": {
      "text/plain": [
       "False"
      ]
     },
     "execution_count": 29,
     "metadata": {},
     "output_type": "execute_result"
    },
    {
     "data": {
      "text/plain": [
       "True"
      ]
     },
     "execution_count": 29,
     "metadata": {},
     "output_type": "execute_result"
    },
    {
     "data": {
      "text/plain": [
       "True"
      ]
     },
     "execution_count": 29,
     "metadata": {},
     "output_type": "execute_result"
    },
    {
     "data": {
      "text/plain": [
       "array([False,  True, False])"
      ]
     },
     "execution_count": 29,
     "metadata": {},
     "output_type": "execute_result"
    }
   ],
   "source": [
    "#代码2-36：数组的逻辑运算\n",
    "#all\n",
    "np.all(x>y)\n",
    "np.all(x!=y)\n",
    "#any\n",
    "np.any(x>y)\n",
    "np.any(x==y)\n",
    "x=x.reshape(1,3)  #调用方法是不会原地修改的，要重新赋值\n",
    "y=y.reshape(1,3)\n",
    "np.any(x==y,axis=0)"
   ]
  },
  {
   "cell_type": "code",
   "execution_count": 44,
   "metadata": {},
   "outputs": [
    {
     "data": {
      "text/plain": [
       "array([[ 0,  1,  2,  3,  4,  5,  6,  7],\n",
       "       [ 8,  9, 10, 11, 12, 13, 14, 15],\n",
       "       [16, 17, 18, 19, 20, 21, 22, 23],\n",
       "       [24, 25, 26, 27, 28, 29, 30, 31]])"
      ]
     },
     "execution_count": 44,
     "metadata": {},
     "output_type": "execute_result"
    },
    {
     "data": {
      "text/plain": [
       "array([[0],\n",
       "       [1],\n",
       "       [2],\n",
       "       [3]])"
      ]
     },
     "execution_count": 44,
     "metadata": {},
     "output_type": "execute_result"
    },
    {
     "data": {
      "text/plain": [
       "array([[ 0,  1,  2,  3,  4,  5,  6,  7],\n",
       "       [ 9, 10, 11, 12, 13, 14, 15, 16],\n",
       "       [18, 19, 20, 21, 22, 23, 24, 25],\n",
       "       [27, 28, 29, 30, 31, 32, 33, 34]])"
      ]
     },
     "execution_count": 44,
     "metadata": {},
     "output_type": "execute_result"
    },
    {
     "data": {
      "text/plain": [
       "array([[0, 1, 2, 3, 4, 5, 6, 7]])"
      ]
     },
     "execution_count": 44,
     "metadata": {},
     "output_type": "execute_result"
    },
    {
     "data": {
      "text/plain": [
       "array([[ 0,  2,  4,  6,  8, 10, 12, 14],\n",
       "       [ 8, 10, 12, 14, 16, 18, 20, 22],\n",
       "       [16, 18, 20, 22, 24, 26, 28, 30],\n",
       "       [24, 26, 28, 30, 32, 34, 36, 38]])"
      ]
     },
     "execution_count": 44,
     "metadata": {},
     "output_type": "execute_result"
    }
   ],
   "source": [
    "#代码2-37\n",
    "#二维数组的广播机制（4，8）和（2，2）（4，）（4，1）（4，2）（1，8）（1，4）\n",
    "a=np.arange(32).reshape(4,8);a\n",
    "# b=np.arange(4).reshape(2,2);b      #(2,2)不行\n",
    "# b=np.arange(4).reshape(4,);b       #(4,)不行\n",
    "b=np.arange(4).reshape(4,1);b        #（4，1）可以\n",
    "a+b\n",
    "# c=np.arange(8).reshape(4,2);c      #(4,2)不行\n",
    "c=np.arange(8).reshape(1,8);c        #（1，8）可以\n",
    "a+c\n",
    "# d=d=np.arange(4).reshape(1,4);d    #（1，4）不行"
   ]
  },
  {
   "cell_type": "markdown",
   "metadata": {},
   "source": [
    "![](img/数组的广播.png)  "
   ]
  },
  {
   "cell_type": "code",
   "execution_count": 59,
   "metadata": {},
   "outputs": [
    {
     "name": "stdout",
     "output_type": "stream",
     "text": [
      "[0 1 2]\n",
      "[0. 1. 2.]\n"
     ]
    }
   ],
   "source": [
    "#函数有没有返回值？是不是本地修改？  --- sort()没有返回值，函数和方法都有返回值\n",
    "a=np.arange(3)\n",
    "print(a)\n",
    "b=a.astype(float)\n",
    "print(b)"
   ]
  },
  {
   "cell_type": "markdown",
   "metadata": {},
   "source": [
    "## 2.3 利用NumPy进行统计分析\n",
    "在NumPy 中，数组运算更为简捷而快速，通常比等价的Python 方式快几倍，特别是\n",
    "处理数组统计计算与分析的情况时。"
   ]
  },
  {
   "cell_type": "markdown",
   "metadata": {},
   "source": [
    "### 2.3.1 读写文件"
   ]
  },
  {
   "cell_type": "code",
   "execution_count": 53,
   "metadata": {},
   "outputs": [
    {
     "data": {
      "text/plain": [
       "array([[ 0,  1,  2,  3,  4,  5,  6,  7,  8,  9],\n",
       "       [10, 11, 12, 13, 14, 15, 16, 17, 18, 19],\n",
       "       [20, 21, 22, 23, 24, 25, 26, 27, 28, 29],\n",
       "       [30, 31, 32, 33, 34, 35, 36, 37, 38, 39],\n",
       "       [40, 41, 42, 43, 44, 45, 46, 47, 48, 49],\n",
       "       [50, 51, 52, 53, 54, 55, 56, 57, 58, 59],\n",
       "       [60, 61, 62, 63, 64, 65, 66, 67, 68, 69],\n",
       "       [70, 71, 72, 73, 74, 75, 76, 77, 78, 79],\n",
       "       [80, 81, 82, 83, 84, 85, 86, 87, 88, 89],\n",
       "       [90, 91, 92, 93, 94, 95, 96, 97, 98, 99]])"
      ]
     },
     "execution_count": 53,
     "metadata": {},
     "output_type": "execute_result"
    }
   ],
   "source": [
    "#代码2-39：二进制存储数据\n",
    "#导入Numpy库\n",
    "import numpy as np\n",
    "#创建一个数组\n",
    "a=np.arange(100).reshape(10,-1);a\n",
    "#使用save保存数组到文件\n",
    "np.save(\"./data/save_a1\",a)\n",
    "#打印数组\n"
   ]
  },
  {
   "cell_type": "code",
   "execution_count": 61,
   "metadata": {},
   "outputs": [
    {
     "data": {
      "text/plain": [
       "array([[0, 1, 2],\n",
       "       [3, 4, 5],\n",
       "       [6, 7, 8]])"
      ]
     },
     "execution_count": 61,
     "metadata": {},
     "output_type": "execute_result"
    },
    {
     "data": {
      "text/plain": [
       "array([0.  , 0.01, 0.02, 0.03, 0.04, 0.05, 0.06, 0.07, 0.08, 0.09, 0.1 ,\n",
       "       0.11, 0.12, 0.13, 0.14, 0.15, 0.16, 0.17, 0.18, 0.19, 0.2 , 0.21,\n",
       "       0.22, 0.23, 0.24, 0.25, 0.26, 0.27, 0.28, 0.29, 0.3 , 0.31, 0.32,\n",
       "       0.33, 0.34, 0.35, 0.36, 0.37, 0.38, 0.39, 0.4 , 0.41, 0.42, 0.43,\n",
       "       0.44, 0.45, 0.46, 0.47, 0.48, 0.49, 0.5 , 0.51, 0.52, 0.53, 0.54,\n",
       "       0.55, 0.56, 0.57, 0.58, 0.59, 0.6 , 0.61, 0.62, 0.63, 0.64, 0.65,\n",
       "       0.66, 0.67, 0.68, 0.69, 0.7 , 0.71, 0.72, 0.73, 0.74, 0.75, 0.76,\n",
       "       0.77, 0.78, 0.79, 0.8 , 0.81, 0.82, 0.83, 0.84, 0.85, 0.86, 0.87,\n",
       "       0.88, 0.89, 0.9 , 0.91, 0.92, 0.93, 0.94, 0.95, 0.96, 0.97, 0.98,\n",
       "       0.99])"
      ]
     },
     "execution_count": 61,
     "metadata": {},
     "output_type": "execute_result"
    }
   ],
   "source": [
    "#代码2-40：多个数组的存储\n",
    "#创建两个数组\n",
    "a=np.arange(9).reshape(3,3)\n",
    "a1=np.arange(0,1,0.01)\n",
    "a;a1\n",
    "#使用savez保存多个数组到文件\n",
    "np.savez(\"./data/save_arrs\",x=a,y=a1)  #x,y随便的，相当于命名\n",
    "#打印数组\n"
   ]
  },
  {
   "cell_type": "code",
   "execution_count": 76,
   "metadata": {},
   "outputs": [
    {
     "data": {
      "text/plain": [
       "array([[ 0,  1,  2,  3,  4,  5,  6,  7,  8,  9],\n",
       "       [10, 11, 12, 13, 14, 15, 16, 17, 18, 19],\n",
       "       [20, 21, 22, 23, 24, 25, 26, 27, 28, 29],\n",
       "       [30, 31, 32, 33, 34, 35, 36, 37, 38, 39],\n",
       "       [40, 41, 42, 43, 44, 45, 46, 47, 48, 49],\n",
       "       [50, 51, 52, 53, 54, 55, 56, 57, 58, 59],\n",
       "       [60, 61, 62, 63, 64, 65, 66, 67, 68, 69],\n",
       "       [70, 71, 72, 73, 74, 75, 76, 77, 78, 79],\n",
       "       [80, 81, 82, 83, 84, 85, 86, 87, 88, 89],\n",
       "       [90, 91, 92, 93, 94, 95, 96, 97, 98, 99]])"
      ]
     },
     "execution_count": 76,
     "metadata": {},
     "output_type": "execute_result"
    },
    {
     "data": {
      "text/plain": [
       "['x', 'y']"
      ]
     },
     "execution_count": 76,
     "metadata": {},
     "output_type": "execute_result"
    },
    {
     "data": {
      "text/plain": [
       "array([[0, 1, 2],\n",
       "       [3, 4, 5],\n",
       "       [6, 7, 8]])"
      ]
     },
     "execution_count": 76,
     "metadata": {},
     "output_type": "execute_result"
    },
    {
     "data": {
      "text/plain": [
       "array([0.  , 0.01, 0.02, 0.03, 0.04, 0.05, 0.06, 0.07, 0.08, 0.09, 0.1 ,\n",
       "       0.11, 0.12, 0.13, 0.14, 0.15, 0.16, 0.17, 0.18, 0.19, 0.2 , 0.21,\n",
       "       0.22, 0.23, 0.24, 0.25, 0.26, 0.27, 0.28, 0.29, 0.3 , 0.31, 0.32,\n",
       "       0.33, 0.34, 0.35, 0.36, 0.37, 0.38, 0.39, 0.4 , 0.41, 0.42, 0.43,\n",
       "       0.44, 0.45, 0.46, 0.47, 0.48, 0.49, 0.5 , 0.51, 0.52, 0.53, 0.54,\n",
       "       0.55, 0.56, 0.57, 0.58, 0.59, 0.6 , 0.61, 0.62, 0.63, 0.64, 0.65,\n",
       "       0.66, 0.67, 0.68, 0.69, 0.7 , 0.71, 0.72, 0.73, 0.74, 0.75, 0.76,\n",
       "       0.77, 0.78, 0.79, 0.8 , 0.81, 0.82, 0.83, 0.84, 0.85, 0.86, 0.87,\n",
       "       0.88, 0.89, 0.9 , 0.91, 0.92, 0.93, 0.94, 0.95, 0.96, 0.97, 0.98,\n",
       "       0.99])"
      ]
     },
     "execution_count": 76,
     "metadata": {},
     "output_type": "execute_result"
    }
   ],
   "source": [
    "#代码2-41：二进制读取文件\n",
    "#读取单个数组的文件\n",
    "load_a1=np.load(\"./data/save_a1.npy\")\n",
    "load_a1\n",
    "#读取多个数组的文件\n",
    "load_arrs=np.load(\"./data/save_arrs.npz\")\n",
    "load_arrs.files\n",
    "x1=load_arrs['x']\n",
    "y1=load_arrs[load_arrs.files[1]]\n",
    "x1;y1"
   ]
  },
  {
   "cell_type": "markdown",
   "metadata": {},
   "source": [
    "### 项目实例：全国人口数据的二进制存储和读取"
   ]
  },
  {
   "cell_type": "code",
   "execution_count": 2,
   "metadata": {},
   "outputs": [],
   "source": [
    "# 从文本文件读取人口数据\n",
    "peoples=np.loadtxt(\"./data/人口.csv\",skiprows=2,delimiter=\",\",usecols=(range(1,13)),encoding=\"utf-8\")\n",
    "province=np.loadtxt(\"./data/人口.csv\",skiprows=2,delimiter=\",\",usecols=(0),encoding=\"utf-8\",dtype=str)\n",
    "np.savez(\"./data/renkou.npz\",p=peoples,pro=province)"
   ]
  },
  {
   "cell_type": "code",
   "execution_count": 3,
   "metadata": {},
   "outputs": [
    {
     "data": {
      "text/plain": [
       "['p', 'pro']"
      ]
     },
     "execution_count": 3,
     "metadata": {},
     "output_type": "execute_result"
    },
    {
     "data": {
      "text/plain": [
       "array([[ 1035.7,  1042.9,  1048.7,  1056.9,  1068.2,  1077. ,  1083.2,\n",
       "         1092.3,  1097.8,  1106.2,  1113.5,  1127.9],\n",
       "       [  870.5,   876.6,   882.7,   889.6,   894.5,   898.6,   902.4,\n",
       "          905.1,   910.7,   916.2,   918.7,   923.7],\n",
       "       [ 6116.8,  6183.2,  6249.3,  6309.6,  6366. ,  6420.5,  6461. ,\n",
       "         6508.1,  6555.3,  6602.2,  6670.9,  6702.5],\n",
       "       [ 2845.2,  2883.4,  2919.1,  2955.5,  2990.9,  3025.7,  3059.2,\n",
       "         3091.3,  3113.3,  3145.1,  3196.2,  3220.3],\n",
       "       [ 2149.4,  2164.8,  2178.5,  2198. ,  2217.4,  2237.2,  2263. ,\n",
       "         2288.5,  2310.2,  2329.5,  2300.9,  2319.2],\n",
       "       [ 3917.4,  3938.5,  3957.9,  3982.9,  4007.2,  4034. ,  4056.8,\n",
       "         4077.1,  4090.4,  4103.2,  4135.3,  4147. ],\n",
       "       [ 2440.2,  2459.7,  2474. ,  2496.1,  2515.6,  2550.9,  2579.1,\n",
       "         2600.1,  2603.2,  2616.1,  2627.3,  2637.1],\n",
       "       [ 3488.9,  3510.7,  3526.2,  3538.9,  3557.6,  3576.8,  3605.1,\n",
       "         3628.5,  3642. ,  3660.8,  3698.1,  3715.4],\n",
       "       [ 1283.4,  1287.2,  1289.4,  1294.7,  1298.8,  1301.4,  1304.4,\n",
       "         1305.5,  1306.6,  1313.1,  1321.6,  1327.1],\n",
       "       [ 6671.7,  6733.9,  6767.5,  6800.7,  6831.3,  6868.4,  6908.1,\n",
       "         6948.4,  6983.1,  7009.1,  7069.3,  7097. ],\n",
       "       [ 4235.9,  4261.4,  4285.9,  4313.3,  4341.2,  4369.6,  4400.1,\n",
       "         4422.3,  4446.9,  4467.5,  4501.2,  4519.8],\n",
       "       [ 5660.7,  5744. ,  5817.5,  5870. ,  5937.9,  5999.6,  6054. ,\n",
       "         6109.2,  6152.2,  6205.5,  6278.4,  6325.2],\n",
       "       [ 2999.8,  3039. ,  3066.9,  3099.2,  3126.9,  3164.6,  3210.6,\n",
       "         3237.1,  3260.8,  3283.6,  3304.6,  3321. ],\n",
       "       [ 3761.4,  3801.9,  3827. ,  3857.2,  3893.7,  3938.6,  3981. ,\n",
       "         4026. ,  4070.6,  4117. ,  4164.5,  4212. ],\n",
       "       [ 8423.6,  8534. ,  8579.8,  8620.4,  8652.6,  8701.2,  8747. ,\n",
       "         8809.7,  8871.5,  8921.7,  8975.5,  9024. ],\n",
       "       [ 8564.4,  8687. ,  8811.5,  8914.6,  9005. ,  9108.8,  9203.1,\n",
       "         9292.7,  9373.7,  9446.3,  9526.5,  9603.2],\n",
       "       [ 5373.5,  5446.8,  5513.6,  5590.5,  5656.8,  5727.1,  5776.4,\n",
       "         5838.8,  5890.6,  5942.5,  5936. ,  5956.7],\n",
       "       [ 6110.6,  6167. ,  6209.2,  6248. ,  6305.9,  6356.7,  6403.9,\n",
       "         6444.1,  6482.2,  6520.6,  6515.5,  6539.8],\n",
       "       [ 6246.3,  6349. ,  6463.2,  6581.6,  6691.5,  6788.7,  6896.8,\n",
       "         7013.7,  7115.6,  7298.9,  7498.5,  7565.3],\n",
       "       [ 4241.6,  4294.5,  4359.4,  4408.8,  4455.1,  4502.1,  4545.5,\n",
       "         4588.5,  4622.2,  4657.6,  4723.6,  4758. ],\n",
       "       [  651.2,   661.5,   671.3,   681.8,   691.4,   702.4,   714.1,\n",
       "          724.5,   733.3,   743.2,   760.9,   769.5],\n",
       "       [10813.4, 10886.8, 10942.9, 11022.4, 11084.3, 11162.9, 11238.2,\n",
       "         8264.7,  8315.7,  8358.6,  8407.5,  8436.6],\n",
       "       [ 3237. ,  3271.4,  3301. ,  3332.3,  3380.6,  3419.5,  3459.5,\n",
       "         3495.5,  3536.5,  3582. ,  3676.6,  3710.2],\n",
       "       [ 3694.5,  3734.7,  3767.1,  3802.1,  3837.1,  3873.5,  3909.4,\n",
       "         3944.6,  3983.3,  4018.4,  4076.6,  4106.7],\n",
       "       [  218.1,   221.8,   225.3,   228.9,   232. ,   235.6,   239.3,\n",
       "          242.7,   245.4,   247.7,   251.2,   253.7],\n",
       "       [ 3275. ,  3309.9,  3340.3,  3369.7,  3401.6,  3431.9,  3457.7,\n",
       "         3482.7,  3501.1,  3519.2,  3572.2,  3589.5],\n",
       "       [ 2229.9,  2258. ,  2288.1,  2318.6,  2352.4,  2388.4,  2427.8,\n",
       "         2456.6,  2483.6,  2507.4,  2533.7,  2550.7],\n",
       "       [  434.8,   439.4,   443.1,   446.3,   451. ,   456.2,   462.6,\n",
       "          466.5,   470.3,   473.2,   480.4,   483.5],\n",
       "       [  465.7,   473.8,   482.3,   490.9,   503.9,   512.4,   521.2,\n",
       "          528.9,   536.6,   543.3,   554.3,   566. ],\n",
       "       [ 1498.7,  1528. ,  1554.1,  1577.1,  1605.3,  1637.3,  1675.6,\n",
       "         1705.8,  1733.6,  1763.4,  1791.5,  1823.9]])"
      ]
     },
     "execution_count": 3,
     "metadata": {},
     "output_type": "execute_result"
    },
    {
     "data": {
      "text/plain": [
       "array(['北京', '天津', '河北', '山西', '内蒙古 ', '辽宁', '吉林', '黑龙江 ', '上海', '江苏',\n",
       "       '浙江', '安徽', '福建', '江西', '山东', '河南', '湖北', '湖南', '广东', '广西', '海南',\n",
       "       '四川', '贵州', '云南', '西藏', '陕西', '甘肃', '青海', '宁夏', '新疆'], dtype='<U4')"
      ]
     },
     "execution_count": 3,
     "metadata": {},
     "output_type": "execute_result"
    }
   ],
   "source": [
    "# 读取人口数据二进制文件\n",
    "renkou=np.load(\"./data/renkou.npz\")\n",
    "renkou.files\n",
    "peoples_=renkou['p']\n",
    "province_=renkou['pro']\n",
    "peoples_;province_"
   ]
  },
  {
   "cell_type": "code",
   "execution_count": 98,
   "metadata": {},
   "outputs": [
    {
     "data": {
      "text/plain": [
       "array([[ 0. ,  0.5,  1. ,  1.5,  2. ,  2.5,  3. ,  3.5],\n",
       "       [ 4. ,  4.5,  5. ,  5.5,  6. ,  6.5,  7. ,  7.5],\n",
       "       [ 8. ,  8.5,  9. ,  9.5, 10. , 10.5, 11. , 11.5],\n",
       "       [12. , 12.5, 13. , 13.5, 14. , 14.5, 15. , 15.5],\n",
       "       [16. , 16.5, 17. , 17.5, 18. , 18.5, 19. , 19.5]])"
      ]
     },
     "execution_count": 98,
     "metadata": {},
     "output_type": "execute_result"
    },
    {
     "data": {
      "text/plain": [
       "array([[ 0. ,  0.5,  1. ,  1.5,  2. ,  2.5,  3. ,  3.5],\n",
       "       [ 4. ,  4.5,  5. ,  5.5,  6. ,  6.5,  7. ,  7.5],\n",
       "       [ 8. ,  8.5,  9. ,  9.5, 10. , 10.5, 11. , 11.5],\n",
       "       [12. , 12.5, 13. , 13.5, 14. , 14.5, 15. , 15.5],\n",
       "       [16. , 16.5, 17. , 17.5, 18. , 18.5, 19. , 19.5]])"
      ]
     },
     "execution_count": 98,
     "metadata": {},
     "output_type": "execute_result"
    }
   ],
   "source": [
    "#代码2-42：文本文件的存储与读取\n",
    "#创建数组\n",
    "a=np.arange(0,20,0.5).reshape(5,8)\n",
    "a\n",
    "#存储文本文件savetxt\n",
    "np.savetxt(\"./data/save_txt\",a,delimiter=\",\")\n",
    "#读取文本文件loadtxt\n",
    "b=np.loadtxt(\"./data/save_txt\",delimiter=\",\")\n",
    "b"
   ]
  },
  {
   "cell_type": "code",
   "execution_count": 100,
   "metadata": {},
   "outputs": [
    {
     "data": {
      "text/plain": [
       "array([[ 4. ,  4.5,  5. ,  5.5,  6. ,  6.5,  7. ,  7.5],\n",
       "       [ 8. ,  8.5,  9. ,  9.5, 10. , 10.5, 11. , 11.5],\n",
       "       [12. , 12.5, 13. , 13.5, 14. , 14.5, 15. , 15.5],\n",
       "       [16. , 16.5, 17. , 17.5, 18. , 18.5, 19. , 19.5]])"
      ]
     },
     "execution_count": 100,
     "metadata": {},
     "output_type": "execute_result"
    }
   ],
   "source": [
    "#代码2-43：使用genfromtxt函数读取数据\n",
    "np.genfromtxt(\"./data/save_txt\",delimiter=\",\",skip_header=1)  #跳过一行"
   ]
  },
  {
   "cell_type": "code",
   "execution_count": null,
   "metadata": {},
   "outputs": [],
   "source": [
    "np.genfromtxt?  #执行可以直接看手册"
   ]
  },
  {
   "cell_type": "code",
   "execution_count": 103,
   "metadata": {},
   "outputs": [
    {
     "data": {
      "text/plain": [
       "array(['北京', '天津', '河北', '山西', '内蒙古 ', '辽宁', '吉林', '黑龙江 ', '上海', '江苏',\n",
       "       '浙江', '安徽', '福建', '江西', '山东', '河南', '湖北', '湖南', '广东', '广西', '海南',\n",
       "       '四川', '贵州', '云南', '西藏', '陕西', '甘肃', '青海', '宁夏', '新疆'], dtype='<U4')"
      ]
     },
     "execution_count": 103,
     "metadata": {},
     "output_type": "execute_result"
    }
   ],
   "source": [
    "# genfromtxt 读取人口数据\n",
    "np.genfromtxt(\"./data/人口.csv\",delimiter=\",\",skip_header=2,usecols=(0),dtype=str,encoding=\"utf-8\")"
   ]
  },
  {
   "cell_type": "markdown",
   "metadata": {},
   "source": [
    "### 课堂练习"
   ]
  },
  {
   "cell_type": "code",
   "execution_count": null,
   "metadata": {},
   "outputs": [],
   "source": [
    "#课堂练习：生成2个2行2列的矩阵，计算矩阵乘积\n"
   ]
  },
  {
   "cell_type": "code",
   "execution_count": 2,
   "metadata": {},
   "outputs": [],
   "source": [
    "# 生成正反对角线都为1，其余为0的矩阵\n"
   ]
  },
  {
   "cell_type": "markdown",
   "metadata": {},
   "source": [
    "### 2.3.2 使用数组进行简单的统计分析\n",
    "- 排序\n",
    "- 去重\n",
    "- 统计函数"
   ]
  },
  {
   "cell_type": "markdown",
   "metadata": {},
   "source": [
    "![](img/数组排序-1.jpg)  "
   ]
  },
  {
   "cell_type": "code",
   "execution_count": 46,
   "metadata": {},
   "outputs": [
    {
     "data": {
      "text/plain": [
       "array([5, 8, 9, 3, 3, 4, 7, 4, 4, 2])"
      ]
     },
     "execution_count": 46,
     "metadata": {},
     "output_type": "execute_result"
    },
    {
     "data": {
      "text/plain": [
       "array([2, 3, 3, 4, 4, 4, 5, 7, 8, 9])"
      ]
     },
     "execution_count": 46,
     "metadata": {},
     "output_type": "execute_result"
    }
   ],
   "source": [
    "#代码2-44：sort排序\n",
    "#设置随机数种子\n",
    "np.random.seed(33)\n",
    "#创建一维随机数组\n",
    "a1=np.random.randint(1,10,size=10)\n",
    "a1\n",
    "#数组排序\n",
    "a1.sort()  #等价于a1=np.sort(a1)\n",
    "a1"
   ]
  },
  {
   "cell_type": "code",
   "execution_count": 83,
   "metadata": {},
   "outputs": [
    {
     "data": {
      "text/plain": [
       "array([[1, 2, 8],\n",
       "       [2, 8, 3],\n",
       "       [9, 1, 1]])"
      ]
     },
     "execution_count": 83,
     "metadata": {},
     "output_type": "execute_result"
    },
    {
     "data": {
      "text/plain": [
       "array([[1, 2, 8],\n",
       "       [2, 3, 8],\n",
       "       [1, 1, 9]])"
      ]
     },
     "execution_count": 83,
     "metadata": {},
     "output_type": "execute_result"
    },
    {
     "data": {
      "text/plain": [
       "array([[1, 1, 8],\n",
       "       [1, 2, 8],\n",
       "       [2, 3, 9]])"
      ]
     },
     "execution_count": 83,
     "metadata": {},
     "output_type": "execute_result"
    }
   ],
   "source": [
    "#生成二维随机数组\n",
    "np.random.seed(11)\n",
    "a2=np.random.randint(1,10,9).reshape(3,3)  #size=9\n",
    "a2\n",
    "#沿横轴排序\n",
    "a2.sort()   #默认按1排序，即行\n",
    "a2\n",
    "#沿纵轴排序\n",
    "a2.sort(axis=0)\n",
    "a2"
   ]
  },
  {
   "cell_type": "code",
   "execution_count": 96,
   "metadata": {},
   "outputs": [
    {
     "data": {
      "text/plain": [
       "array([[2, 3],\n",
       "       [1, 5]])"
      ]
     },
     "execution_count": 96,
     "metadata": {},
     "output_type": "execute_result"
    },
    {
     "data": {
      "text/plain": [
       "array([[0, 1],\n",
       "       [0, 1]], dtype=int64)"
      ]
     },
     "execution_count": 96,
     "metadata": {},
     "output_type": "execute_result"
    },
    {
     "data": {
      "text/plain": [
       "array([[1, 0],\n",
       "       [0, 1]], dtype=int64)"
      ]
     },
     "execution_count": 96,
     "metadata": {},
     "output_type": "execute_result"
    },
    {
     "data": {
      "text/plain": [
       "array(['jb', 'lis', 'wa', 'liu', 'wa'], dtype='<U3')"
      ]
     },
     "execution_count": 96,
     "metadata": {},
     "output_type": "execute_result"
    },
    {
     "data": {
      "text/plain": [
       "array([41, 24, 53, 74, 51])"
      ]
     },
     "execution_count": 96,
     "metadata": {},
     "output_type": "execute_result"
    },
    {
     "data": {
      "text/plain": [
       "array([1, 0, 4, 2, 3], dtype=int64)"
      ]
     },
     "execution_count": 96,
     "metadata": {},
     "output_type": "execute_result"
    },
    {
     "data": {
      "text/plain": [
       "array([0, 1, 3, 4, 2], dtype=int64)"
      ]
     },
     "execution_count": 96,
     "metadata": {},
     "output_type": "execute_result"
    },
    {
     "data": {
      "text/plain": [
       "[('lis', 24), ('jb', 41), ('wa', 51), ('wa', 53), ('liu', 74)]"
      ]
     },
     "execution_count": 96,
     "metadata": {},
     "output_type": "execute_result"
    },
    {
     "data": {
      "text/plain": [
       "{'lis': 24, 'jb': 41, 'wa': 53, 'liu': 74}"
      ]
     },
     "execution_count": 96,
     "metadata": {},
     "output_type": "execute_result"
    },
    {
     "data": {
      "text/plain": [
       "array([['lis', 'jb', 'wa', 'wa', 'liu'],\n",
       "       ['24', '41', '51', '53', '74']], dtype='<U11')"
      ]
     },
     "execution_count": 96,
     "metadata": {},
     "output_type": "execute_result"
    },
    {
     "data": {
      "text/plain": [
       "[('jb', 41), ('lis', 24), ('liu', 74), ('wa', 51), ('wa', 53)]"
      ]
     },
     "execution_count": 96,
     "metadata": {},
     "output_type": "execute_result"
    },
    {
     "data": {
      "text/plain": [
       "{'jb': 41, 'lis': 24, 'liu': 74, 'wa': 53}"
      ]
     },
     "execution_count": 96,
     "metadata": {},
     "output_type": "execute_result"
    }
   ],
   "source": [
    "#代码2-46和2-47\n",
    "#argsort：排序后的原始下标\n",
    "a3=np.array([2,3,1,5]).reshape(2,2)\n",
    "a3\n",
    "a3.argsort()  #默认最大的轴，即1轴\n",
    "a3.argsort(axis=0)\n",
    "\n",
    "\n",
    "#lexsort：间接排序\n",
    "name=np.array(['jb','lis','wa','liu','wa'])\n",
    "age=np.array([41,24,53,74,51])\n",
    "name;age\n",
    "i1=np.lexsort((name,age))  #两个数组是对应的，因此一个排序另一个也要排序，默认先按后面的排，即按照age排\n",
    "i2=np.lexsort((age,name))  #先按name排，相等再按age排\n",
    "i1;i2\n",
    "\n",
    "#lexsort应用\n",
    "[(name[i],age[i])for i in i1]   #列表解析式，可以重复\n",
    "dict(zip(name[i1],age[i1]))  #字典，但不能重复\n",
    "np.vstack((name[i1],age[i1]))\n",
    "#name排\n",
    "[(name[i],age[i])for i in i2]   #列表解析式，可以重复\n",
    "dict(zip(name[i2],age[i2]))  #字典，但不能重复"
   ]
  },
  {
   "cell_type": "code",
   "execution_count": 110,
   "metadata": {},
   "outputs": [
    {
     "data": {
      "text/plain": [
       "array(['jb', 'lis', 'liu', 'wa'], dtype='<U3')"
      ]
     },
     "execution_count": 110,
     "metadata": {},
     "output_type": "execute_result"
    },
    {
     "data": {
      "text/plain": [
       "array(['jb', 'lis', 'wa', 'liu', 'wa'], dtype='<U3')"
      ]
     },
     "execution_count": 110,
     "metadata": {},
     "output_type": "execute_result"
    },
    {
     "data": {
      "text/plain": [
       "{'jb', 'lis', 'liu', 'wa'}"
      ]
     },
     "execution_count": 110,
     "metadata": {},
     "output_type": "execute_result"
    },
    {
     "data": {
      "text/plain": [
       "array([4, 1, 2, 4, 1, 1, 2, 4, 3, 4])"
      ]
     },
     "execution_count": 110,
     "metadata": {},
     "output_type": "execute_result"
    },
    {
     "data": {
      "text/plain": [
       "array([1, 2, 3, 4])"
      ]
     },
     "execution_count": 110,
     "metadata": {},
     "output_type": "execute_result"
    }
   ],
   "source": [
    "#代码2-47：数组内去重\n",
    "#创建字符串数组\n",
    "name=np.array(['jb','lis','wa','liu','wa'])\n",
    "np.unique(name)\n",
    "#数组去重\n",
    "name\n",
    "set(name)\n",
    "#不用Numpy的实现\n",
    "\n",
    "#创建整型数组\n",
    "a4=np.random.randint(1,5,size=10)\n",
    "a4\n",
    "#整型数组去重\n",
    "np.unique(a4)"
   ]
  },
  {
   "cell_type": "code",
   "execution_count": null,
   "metadata": {},
   "outputs": [],
   "source": [
    "#代码2-48和代码2-49：重复数据\n",
    "#tile函数实现数据重复\n",
    "\n",
    "#repeat函数实现数据重复\n"
   ]
  },
  {
   "cell_type": "markdown",
   "metadata": {},
   "source": [
    "![](img/数组最大最小值.png)  "
   ]
  },
  {
   "cell_type": "code",
   "execution_count": 119,
   "metadata": {},
   "outputs": [
    {
     "data": {
      "text/plain": [
       "array([[ 0,  1,  2,  3,  4,  5],\n",
       "       [ 6,  7,  8,  9, 10, 11],\n",
       "       [12, 13, 14, 15, 16, 17],\n",
       "       [18, 19, 20, 21, 22, 23],\n",
       "       [24, 25, 26, 27, 28, 29]])"
      ]
     },
     "execution_count": 119,
     "metadata": {},
     "output_type": "execute_result"
    },
    {
     "data": {
      "text/plain": [
       "435"
      ]
     },
     "execution_count": 119,
     "metadata": {},
     "output_type": "execute_result"
    },
    {
     "data": {
      "text/plain": [
       "array([ 15,  51,  87, 123, 159])"
      ]
     },
     "execution_count": 119,
     "metadata": {},
     "output_type": "execute_result"
    },
    {
     "data": {
      "text/plain": [
       "array([60, 65, 70, 75, 80, 85])"
      ]
     },
     "execution_count": 119,
     "metadata": {},
     "output_type": "execute_result"
    },
    {
     "data": {
      "text/plain": [
       "14.5"
      ]
     },
     "execution_count": 119,
     "metadata": {},
     "output_type": "execute_result"
    },
    {
     "data": {
      "text/plain": [
       "array([ 2.5,  8.5, 14.5, 20.5, 26.5])"
      ]
     },
     "execution_count": 119,
     "metadata": {},
     "output_type": "execute_result"
    },
    {
     "data": {
      "text/plain": [
       "array([12., 13., 14., 15., 16., 17.])"
      ]
     },
     "execution_count": 119,
     "metadata": {},
     "output_type": "execute_result"
    },
    {
     "data": {
      "text/plain": [
       "8.65544144839919"
      ]
     },
     "execution_count": 119,
     "metadata": {},
     "output_type": "execute_result"
    },
    {
     "data": {
      "text/plain": [
       "29"
      ]
     },
     "execution_count": 119,
     "metadata": {},
     "output_type": "execute_result"
    },
    {
     "data": {
      "text/plain": [
       "0"
      ]
     },
     "execution_count": 119,
     "metadata": {},
     "output_type": "execute_result"
    },
    {
     "data": {
      "text/plain": [
       "29"
      ]
     },
     "execution_count": 119,
     "metadata": {},
     "output_type": "execute_result"
    },
    {
     "data": {
      "text/plain": [
       "0"
      ]
     },
     "execution_count": 119,
     "metadata": {},
     "output_type": "execute_result"
    }
   ],
   "source": [
    "#代码2-50：Numpy中常用统计函数\n",
    "#创建二维数组\n",
    "a=np.arange(30).reshape(5,6)\n",
    "a\n",
    "#数组的和\n",
    "a.sum()\n",
    "#沿横轴的和(行的和)\n",
    "a.sum(axis=1)\n",
    "#沿纵轴的和（列的和）\n",
    "a.sum(axis=0)\n",
    "#数组均值\n",
    "a.mean()\n",
    "#沿横轴均值\n",
    "a.mean(axis=1)\n",
    "#沿纵轴均值\n",
    "a.mean(axis=0)\n",
    "#标准差和方差\n",
    "a.std()\n",
    "#最大值和最小值\n",
    "a.max();a.min()\n",
    "#最大值和最小值的索引（重点）\n",
    "a.argmax();a.argmin()"
   ]
  },
  {
   "cell_type": "code",
   "execution_count": 120,
   "metadata": {},
   "outputs": [
    {
     "data": {
      "text/plain": [
       "array([[ 0,  1,  2,  3,  4,  5],\n",
       "       [ 6,  7,  8,  9, 10, 11],\n",
       "       [12, 13, 14, 15, 16, 17],\n",
       "       [18, 19, 20, 21, 22, 23],\n",
       "       [24, 25, 26, 27, 28, 29]])"
      ]
     },
     "execution_count": 120,
     "metadata": {},
     "output_type": "execute_result"
    },
    {
     "data": {
      "text/plain": [
       "array([[ 0,  1,  2,  3,  4,  5],\n",
       "       [ 6,  8, 10, 12, 14, 16],\n",
       "       [18, 21, 24, 27, 30, 33],\n",
       "       [36, 40, 44, 48, 52, 56],\n",
       "       [60, 65, 70, 75, 80, 85]])"
      ]
     },
     "execution_count": 120,
     "metadata": {},
     "output_type": "execute_result"
    }
   ],
   "source": [
    "#代码2-51：cumsum和cumprod\n",
    "#创建数组\n",
    "\n",
    "#累计和\n",
    "a\n",
    "np.cumsum(a,axis=0)\n",
    "#累计积\n"
   ]
  },
  {
   "cell_type": "markdown",
   "metadata": {},
   "source": [
    "### 2.3.3 任务实现"
   ]
  },
  {
   "cell_type": "code",
   "execution_count": null,
   "metadata": {},
   "outputs": [],
   "source": [
    "# 显示所有变量\n",
    "from IPython.core.interactiveshell import InteractiveShell\n",
    "InteractiveShell.ast_node_interactivity = \"all\""
   ]
  },
  {
   "cell_type": "code",
   "execution_count": 130,
   "metadata": {},
   "outputs": [
    {
     "data": {
      "text/plain": [
       "array([4.3, 4.4, 4.4, 4.4, 4.5, 4.6, 4.6, 4.6, 4.6, 4.7, 4.7, 4.8, 4.8,\n",
       "       4.8, 4.8, 4.8, 4.9, 4.9, 4.9, 4.9, 4.9, 4.9, 5. , 5. , 5. , 5. ,\n",
       "       5. , 5. , 5. , 5. , 5. , 5. , 5.1, 5.1, 5.1, 5.1, 5.1, 5.1, 5.1,\n",
       "       5.1, 5.1, 5.2, 5.2, 5.2, 5.2, 5.3, 5.4, 5.4, 5.4, 5.4, 5.4, 5.4,\n",
       "       5.5, 5.5, 5.5, 5.5, 5.5, 5.5, 5.5, 5.6, 5.6, 5.6, 5.6, 5.6, 5.6,\n",
       "       5.7, 5.7, 5.7, 5.7, 5.7, 5.7, 5.7, 5.7, 5.8, 5.8, 5.8, 5.8, 5.8,\n",
       "       5.8, 5.8, 5.9, 5.9, 5.9, 6. , 6. , 6. , 6. , 6. , 6. , 6.1, 6.1,\n",
       "       6.1, 6.1, 6.1, 6.1, 6.2, 6.2, 6.2, 6.2, 6.3, 6.3, 6.3, 6.3, 6.3,\n",
       "       6.3, 6.3, 6.3, 6.3, 6.4, 6.4, 6.4, 6.4, 6.4, 6.4, 6.4, 6.5, 6.5,\n",
       "       6.5, 6.5, 6.5, 6.6, 6.6, 6.7, 6.7, 6.7, 6.7, 6.7, 6.7, 6.7, 6.7,\n",
       "       6.8, 6.8, 6.8, 6.9, 6.9, 6.9, 6.9, 7. , 7.1, 7.2, 7.2, 7.2, 7.3,\n",
       "       7.4, 7.6, 7.7, 7.7, 7.7, 7.7, 7.9])"
      ]
     },
     "execution_count": 130,
     "metadata": {},
     "output_type": "execute_result"
    },
    {
     "data": {
      "text/plain": [
       "array([4.3, 4.4, 4.5, 4.6, 4.7, 4.8, 4.9, 5. , 5.1, 5.2, 5.3, 5.4, 5.5,\n",
       "       5.6, 5.7, 5.8, 5.9, 6. , 6.1, 6.2, 6.3, 6.4, 6.5, 6.6, 6.7, 6.8,\n",
       "       6.9, 7. , 7.1, 7.2, 7.3, 7.4, 7.6, 7.7, 7.9])"
      ]
     },
     "execution_count": 130,
     "metadata": {},
     "output_type": "execute_result"
    },
    {
     "data": {
      "text/plain": [
       "876.5"
      ]
     },
     "execution_count": 130,
     "metadata": {},
     "output_type": "execute_result"
    },
    {
     "data": {
      "text/plain": [
       "array([  4.3,   8.7,  13.1,  17.5,  22. ,  26.6,  31.2,  35.8,  40.4,\n",
       "        45.1,  49.8,  54.6,  59.4,  64.2,  69. ,  73.8,  78.7,  83.6,\n",
       "        88.5,  93.4,  98.3, 103.2, 108.2, 113.2, 118.2, 123.2, 128.2,\n",
       "       133.2, 138.2, 143.2, 148.2, 153.2, 158.3, 163.4, 168.5, 173.6,\n",
       "       178.7, 183.8, 188.9, 194. , 199.1, 204.3, 209.5, 214.7, 219.9,\n",
       "       225.2, 230.6, 236. , 241.4, 246.8, 252.2, 257.6, 263.1, 268.6,\n",
       "       274.1, 279.6, 285.1, 290.6, 296.1, 301.7, 307.3, 312.9, 318.5,\n",
       "       324.1, 329.7, 335.4, 341.1, 346.8, 352.5, 358.2, 363.9, 369.6,\n",
       "       375.3, 381.1, 386.9, 392.7, 398.5, 404.3, 410.1, 415.9, 421.8,\n",
       "       427.7, 433.6, 439.6, 445.6, 451.6, 457.6, 463.6, 469.6, 475.7,\n",
       "       481.8, 487.9, 494. , 500.1, 506.2, 512.4, 518.6, 524.8, 531. ,\n",
       "       537.3, 543.6, 549.9, 556.2, 562.5, 568.8, 575.1, 581.4, 587.7,\n",
       "       594.1, 600.5, 606.9, 613.3, 619.7, 626.1, 632.5, 639. , 645.5,\n",
       "       652. , 658.5, 665. , 671.6, 678.2, 684.9, 691.6, 698.3, 705. ,\n",
       "       711.7, 718.4, 725.1, 731.8, 738.6, 745.4, 752.2, 759.1, 766. ,\n",
       "       772.9, 779.8, 786.8, 793.9, 801.1, 808.3, 815.5, 822.8, 830.2,\n",
       "       837.8, 845.5, 853.2, 860.9, 868.6, 876.5])"
      ]
     },
     "execution_count": 130,
     "metadata": {},
     "output_type": "execute_result"
    },
    {
     "data": {
      "text/plain": [
       "array([4.30000000e+000, 1.89200000e+001, 8.32480000e+001, 3.66291200e+002,\n",
       "       1.64831040e+003, 7.58222784e+003, 3.48782481e+004, 1.60439941e+005,\n",
       "       7.38023729e+005, 3.46871153e+006, 1.63029442e+007, 7.82541320e+007,\n",
       "       3.75619834e+008, 1.80297520e+009, 8.65428097e+009, 4.15405487e+010,\n",
       "       2.03548688e+011, 9.97388573e+011, 4.88720401e+012, 2.39472996e+013,\n",
       "       1.17341768e+014, 5.74974664e+014, 2.87487332e+015, 1.43743666e+016,\n",
       "       7.18718331e+016, 3.59359165e+017, 1.79679583e+018, 8.98397913e+018,\n",
       "       4.49198957e+019, 2.24599478e+020, 1.12299739e+021, 5.61498696e+021,\n",
       "       2.86364335e+022, 1.46045811e+023, 7.44833635e+023, 3.79865154e+024,\n",
       "       1.93731228e+025, 9.88029265e+025, 5.03894925e+026, 2.56986412e+027,\n",
       "       1.31063070e+028, 6.81527964e+028, 3.54394541e+029, 1.84285162e+030,\n",
       "       9.58282840e+030, 5.07889905e+031, 2.74260549e+032, 1.48100696e+033,\n",
       "       7.99743760e+033, 4.31861631e+034, 2.33205280e+035, 1.25930851e+036,\n",
       "       6.92619683e+036, 3.80940826e+037, 2.09517454e+038, 1.15234600e+039,\n",
       "       6.33790299e+039, 3.48584664e+040, 1.91721565e+041, 1.07364077e+042,\n",
       "       6.01238829e+042, 3.36693744e+043, 1.88548497e+044, 1.05587158e+045,\n",
       "       5.91288086e+045, 3.37034209e+046, 1.92109499e+047, 1.09502414e+048,\n",
       "       6.24163763e+048, 3.55773345e+049, 2.02790806e+050, 1.15590760e+051,\n",
       "       6.58867330e+051, 3.82143051e+052, 2.21642970e+053, 1.28552923e+054,\n",
       "       7.45606951e+054, 4.32452031e+055, 2.50822178e+056, 1.45476863e+057,\n",
       "       8.58313494e+057, 5.06404961e+058, 2.98778927e+059, 1.79267356e+060,\n",
       "       1.07560414e+061, 6.45362483e+061, 3.87217490e+062, 2.32330494e+063,\n",
       "       1.39398296e+064, 8.50329607e+064, 5.18701060e+065, 3.16407647e+066,\n",
       "       1.93008665e+067, 1.17735285e+068, 7.18185241e+068, 4.45274849e+069,\n",
       "       2.76070407e+070, 1.71163652e+071, 1.06121464e+072, 6.68565225e+072,\n",
       "       4.21196092e+073, 2.65353538e+074, 1.67172729e+075, 1.05318819e+076,\n",
       "       6.63508561e+076, 4.18010393e+077, 2.63346548e+078, 1.65908325e+079,\n",
       "       1.06181328e+080, 6.79560500e+080, 4.34918720e+081, 2.78347981e+082,\n",
       "       1.78142708e+083, 1.14011333e+084, 7.29672530e+084, 4.74287145e+085,\n",
       "       3.08286644e+086, 2.00386319e+087, 1.30251107e+088, 8.46632196e+088,\n",
       "       5.58777250e+089, 3.68792985e+090, 2.47091300e+091, 1.65551171e+092,\n",
       "       1.10919284e+093, 7.43159206e+093, 4.97916668e+094, 3.33604167e+095,\n",
       "       2.23514792e+096, 1.49754911e+097, 1.01833339e+098, 6.92466707e+098,\n",
       "       4.70877361e+099, 3.24905379e+100, 2.24184712e+101, 1.54687451e+102,\n",
       "       1.06734341e+103, 7.47140388e+103, 5.30469676e+104, 3.81938167e+105,\n",
       "       2.74995480e+106, 1.97996746e+107, 1.44537624e+108, 1.06957842e+109,\n",
       "       8.12879599e+109, 6.25917291e+110, 4.81956314e+111, 3.71106362e+112,\n",
       "       2.85751899e+113, 2.25744000e+114])"
      ]
     },
     "execution_count": 130,
     "metadata": {},
     "output_type": "execute_result"
    },
    {
     "data": {
      "text/plain": [
       "5.843333333333334"
      ]
     },
     "execution_count": 130,
     "metadata": {},
     "output_type": "execute_result"
    },
    {
     "data": {
      "text/plain": [
       "0.8253012917851409"
      ]
     },
     "execution_count": 130,
     "metadata": {},
     "output_type": "execute_result"
    },
    {
     "data": {
      "text/plain": [
       "0.6811222222222223"
      ]
     },
     "execution_count": 130,
     "metadata": {},
     "output_type": "execute_result"
    },
    {
     "data": {
      "text/plain": [
       "4.3"
      ]
     },
     "execution_count": 130,
     "metadata": {},
     "output_type": "execute_result"
    },
    {
     "data": {
      "text/plain": [
       "7.9"
      ]
     },
     "execution_count": 130,
     "metadata": {},
     "output_type": "execute_result"
    }
   ],
   "source": [
    "#代码2-52：花萼长度数据的统计分析\n",
    "\n",
    "#读取文件中的数据\n",
    "iris=np.loadtxt(\"data/iris_sepal_length.csv\")\n",
    "#打印花萼长度数组\n",
    "# iris\n",
    "#排序\n",
    "iris.sort()\n",
    "iris\n",
    "#去重\n",
    "np.unique(iris)  #这些都不会修改原本值\n",
    "#求和\n",
    "iris.sum()\n",
    "#累计和\n",
    "iris.cumsum()\n",
    "#累计积\n",
    "iris.cumprod()\n",
    "#均值\n",
    "iris.mean()\n",
    "#标准差\n",
    "iris.std()\n",
    "#方差\n",
    "iris.var()\n",
    "#最小值\n",
    "iris.min()\n",
    "#最大值\n",
    "iris.max()"
   ]
  },
  {
   "cell_type": "code",
   "execution_count": 4,
   "metadata": {},
   "outputs": [],
   "source": [
    "# 国际象棋棋盘数组\n"
   ]
  },
  {
   "cell_type": "markdown",
   "metadata": {
    "collapsed": true,
    "jupyter": {
     "outputs_hidden": true
    }
   },
   "source": [
    "### 项目实例：全国人口数据的统计计算"
   ]
  },
  {
   "cell_type": "code",
   "execution_count": 5,
   "metadata": {},
   "outputs": [],
   "source": [
    "# 从文本文件读取人口数据\n",
    "peoples = np.loadtxt(\"data/人口.csv\",skiprows=2,delimiter=',',usecols=(range(1,13)),encoding=\"utf-8\")\n",
    "province = np.loadtxt(\"data/人口.csv\",skiprows=2,delimiter=',',usecols=0,encoding=\"utf-8\",dtype=str)"
   ]
  },
  {
   "cell_type": "code",
   "execution_count": 6,
   "metadata": {},
   "outputs": [
    {
     "data": {
      "text/plain": [
       "112955.3"
      ]
     },
     "execution_count": 6,
     "metadata": {},
     "output_type": "execute_result"
    },
    {
     "data": {
      "text/plain": [
       "121332.49999999999"
      ]
     },
     "execution_count": 6,
     "metadata": {},
     "output_type": "execute_result"
    },
    {
     "data": {
      "text/plain": [
       "4044.416666666666"
      ]
     },
     "execution_count": 6,
     "metadata": {},
     "output_type": "execute_result"
    },
    {
     "data": {
      "text/plain": [
       "2638.70154824721"
      ]
     },
     "execution_count": 6,
     "metadata": {},
     "output_type": "execute_result"
    },
    {
     "data": {
      "text/plain": [
       "array([6246.3])"
      ]
     },
     "execution_count": 6,
     "metadata": {},
     "output_type": "execute_result"
    },
    {
     "data": {
      "text/plain": [
       "array([[102.7, 114.2, 118.4, 109.9,  97.2, 108.1, 116.9, 101.9, 183.3,\n",
       "        199.6,  66.8]])"
      ]
     },
     "execution_count": 6,
     "metadata": {},
     "output_type": "execute_result"
    },
    {
     "data": {
      "text/plain": [
       "9846.5"
      ]
     },
     "execution_count": 6,
     "metadata": {},
     "output_type": "execute_result"
    },
    {
     "data": {
      "text/plain": [
       "10499.5"
      ]
     },
     "execution_count": 6,
     "metadata": {},
     "output_type": "execute_result"
    },
    {
     "data": {
      "text/plain": [
       "array([[21.1, 19.4, 25. , 24.3, 26.8, 22.8, 20.3, 13.3, 12.8, 32.1, 11.7],\n",
       "       [19.5, 14.3, 22.1, 19.5, 35.3, 28.2, 21. ,  3.1, 12.9, 11.2,  9.8],\n",
       "       [21.8, 15.5, 12.7, 18.7, 19.2, 28.3, 23.4, 13.5, 18.8, 37.3, 17.3]])"
      ]
     },
     "execution_count": 6,
     "metadata": {},
     "output_type": "execute_result"
    },
    {
     "data": {
      "text/plain": [
       "array([112955.3, 114190.8, 115242.8, 116296.6, 117353.7, 118467.6,\n",
       "       119546.1, 117539.5, 118438.3, 119419.1, 120581. , 121332.5])"
      ]
     },
     "execution_count": 6,
     "metadata": {},
     "output_type": "execute_result"
    },
    {
     "data": {
      "text/plain": [
       "'四川'"
      ]
     },
     "execution_count": 6,
     "metadata": {},
     "output_type": "execute_result"
    },
    {
     "data": {
      "text/plain": [
       "'河南'"
      ]
     },
     "execution_count": 6,
     "metadata": {},
     "output_type": "execute_result"
    },
    {
     "data": {
      "text/plain": [
       "'西藏'"
      ]
     },
     "execution_count": 6,
     "metadata": {},
     "output_type": "execute_result"
    }
   ],
   "source": [
    "# 1990年全国人口总和\n",
    "peoples[:,0].sum()\n",
    "# 2001年全国人口总和\n",
    "p01=peoples[:,11]\n",
    "p01.sum()\n",
    "# 2001年各省市人口的均值和标准差\n",
    "p01.mean()\n",
    "p01.std()\n",
    "# 广东1990年的人口\n",
    "peoples[province==\"广东\",0]\n",
    "# 广东每年人口增长值\n",
    "np.diff(peoples[province==\"广东\"])\n",
    "# 东北三省1990年人口之和\n",
    "three=peoples[np.any([province==\"辽宁\",province==\"吉林\",province==\"黑龙江 \"],axis=0)]\n",
    "np.sum(three[:,0])\n",
    "# 东北三省2001年人口之和\n",
    "np.sum(three[:,11])\n",
    "# 东北三省每年人口增长值\n",
    "np.diff(peoples[np.any([province==\"辽宁\",province==\"吉林\",province==\"黑龙江 \"],axis=0)])\n",
    "# 各个省历年人口之和\n",
    "np.sum(peoples,axis=0)\n",
    "# 1990年人口最多的省份\n",
    "province[np.argmax(peoples[:,0])]\n",
    "# 2001年人口最多的省份\n",
    "province[np.argmax(peoples[:,11])]\n",
    "# 2001年人口最少的省份\n",
    "province[np.argmin(peoples[:,11])]"
   ]
  }
 ],
 "metadata": {
  "hide_input": false,
  "kernelspec": {
   "display_name": "Python 3",
   "language": "python",
   "name": "python3"
  },
  "language_info": {
   "codemirror_mode": {
    "name": "ipython",
    "version": 3
   },
   "file_extension": ".py",
   "mimetype": "text/x-python",
   "name": "python",
   "nbconvert_exporter": "python",
   "pygments_lexer": "ipython3",
   "version": "3.6.4"
  },
  "toc": {
   "base_numbering": 1,
   "nav_menu": {},
   "number_sections": false,
   "sideBar": true,
   "skip_h1_title": false,
   "title_cell": "Table of Contents",
   "title_sidebar": "Contents",
   "toc_cell": false,
   "toc_position": {},
   "toc_section_display": true,
   "toc_window_display": true
  }
 },
 "nbformat": 4,
 "nbformat_minor": 4
}
