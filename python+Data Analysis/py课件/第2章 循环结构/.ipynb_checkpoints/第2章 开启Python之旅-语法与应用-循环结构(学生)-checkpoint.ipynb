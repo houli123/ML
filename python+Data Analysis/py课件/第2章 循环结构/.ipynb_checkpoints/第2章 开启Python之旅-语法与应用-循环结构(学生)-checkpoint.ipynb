{
 "cells": [
  {
   "cell_type": "markdown",
   "id": "f67845d9",
   "metadata": {},
   "source": [
    "<img src=\"img/首页2.png\" width=\"900\" height=\"600\" align=\"center\" />"
   ]
  },
  {
   "cell_type": "markdown",
   "id": "b6eda894",
   "metadata": {},
   "source": [
    "##  知识点思维导图\n",
    "\n",
    "<img src=\"img/思维导图2.png\" width=\"1000\" height=\"900\" align=\"left\" />"
   ]
  },
  {
   "cell_type": "markdown",
   "id": "41938918",
   "metadata": {},
   "source": [
    "## 学习目标：\n",
    "* ## 能够用不同的程序结构解决实际问题\n",
    "* ## 能够用while或者for语句实现程序的循环"
   ]
  },
  {
   "cell_type": "markdown",
   "id": "07fa6878",
   "metadata": {},
   "source": [
    "#### 学习步骤：\n",
    "1、项目1:百货公司折扣战\n",
    "\n",
    "2、预备知识--循环结构\n",
    "\n",
    "3、百货公司折扣战任务实现\n",
    "\n",
    "4、总结与提高\n",
    "\n",
    "5、巩固与应用（项目2、3、4）"
   ]
  },
  {
   "cell_type": "markdown",
   "id": "a5bbaded",
   "metadata": {},
   "source": [
    "## 1、百货公司折扣战\n",
    "<img src=\"img/百货公司折扣引子.png\" width=\"400\" height=\"400\" align=\"left\" />\n",
    "<img src=\"img/任务提出.png\" width=\"400\" height=\"400\" align=\"left\" />"
   ]
  },
  {
   "cell_type": "markdown",
   "id": "904451b1",
   "metadata": {},
   "source": [
    "## 2、程序的基本结构\n",
    "> * #### 顺序结构\n",
    "   　　是程序按照线性顺序依次执行的一种运行方式。\n",
    "   <img src=\"img/顺序结构.png\" width=\"100\" height=\"100\" />\n",
    "   \n",
    "> * #### 分支结构\n",
    "　　程序根据条件判断结果而选择不同向前执行路径的一种运行方式，包括单分支结构和二分支结构\n",
    "   <img src=\"img/分支结构.png\" width=\"300\" height=\"300\" />\n",
    "> * #### 循环结构\n",
    "　　程序根据条件判断结果向后反复执行的一种运行方式，根据循环体触发条件不同，包括条件循环和遍历循环结构\n",
    "  <img src=\"img/循环结构.png\" width=\"450\" height=\"450\" />\n"
   ]
  },
  {
   "cell_type": "markdown",
   "id": "dc70f4fe",
   "metadata": {},
   "source": [
    "### 2.1、Python循环结构\n",
    "可以通过while关键字或者for 关键字实现循环"
   ]
  },
  {
   "cell_type": "markdown",
   "id": "ae7a012b",
   "metadata": {},
   "source": [
    "#### While语句：\n",
    " <img src=\"img/while2.png\" width=\"450\" height=\"450\" align=\"left\"/>"
   ]
  },
  {
   "cell_type": "code",
   "execution_count": 3,
   "id": "dda5f66f",
   "metadata": {},
   "outputs": [
    {
     "name": "stdout",
     "output_type": "stream",
     "text": [
      "循环进行中\n",
      "1\n",
      "循环进行中\n",
      "3\n",
      "循环进行中\n",
      "5\n",
      "循环进行中\n",
      "7\n",
      "循环进行中\n",
      "9\n",
      "循环结束了\n"
     ]
    }
   ],
   "source": [
    "#while循环练习,请输出10之内的奇数\n",
    "i=1\n",
    "while(i<10):\n",
    "    print(\"循环进行中\")\n",
    "    print(i)\n",
    "    i=i+2\n",
    "print(\"循环结束了\")"
   ]
  },
  {
   "cell_type": "markdown",
   "id": "c276b922",
   "metadata": {},
   "source": [
    "#### For语句：\n",
    " <img src=\"img/for2.png\" width=\"450\" height=\"450\" align=\"left\" />"
   ]
  },
  {
   "cell_type": "markdown",
   "id": "1aa4170b",
   "metadata": {},
   "source": [
    "### 练习1：请用for循环依次输出从0到10(包含10)这些数字"
   ]
  },
  {
   "cell_type": "code",
   "execution_count": 6,
   "id": "0b41c69e",
   "metadata": {},
   "outputs": [
    {
     "name": "stdout",
     "output_type": "stream",
     "text": [
      "0\n",
      "1\n",
      "2\n",
      "3\n",
      "4\n",
      "5\n",
      "6\n",
      "7\n",
      "8\n",
      "9\n",
      "10\n"
     ]
    }
   ],
   "source": [
    "#在屏幕上输出0-10这些数字。这里使用range()函数，可以创建一个整数有序列表\n",
    "for i in range(11):\n",
    "    print(i)"
   ]
  },
  {
   "cell_type": "code",
   "execution_count": 21,
   "id": "12239f9a",
   "metadata": {},
   "outputs": [
    {
     "name": "stdout",
     "output_type": "stream",
     "text": [
      "0,1,2,3,4,5,6,7,8,9,10,"
     ]
    }
   ],
   "source": [
    "#print默认是输出回车换行符，如果加end符号代表以end指定的符号为结尾。\n",
    "for i in range(11):\n",
    "    print(i,end=\",\")\n"
   ]
  },
  {
   "cell_type": "markdown",
   "id": "e10bb1a9",
   "metadata": {},
   "source": [
    "####  range()函数语法\n",
    "<img src=\"img/range函数.png\" width=\"450\" height=\"450\" align=\"left\" />"
   ]
  },
  {
   "cell_type": "markdown",
   "id": "a78054f9",
   "metadata": {},
   "source": [
    "### 练习2：整数序列求和。用户输入一个正整数N，计算从1到N（包含1和N）相加之后的结果。"
   ]
  },
  {
   "cell_type": "code",
   "execution_count": 26,
   "id": "dfe0dd5f",
   "metadata": {},
   "outputs": [
    {
     "name": "stdout",
     "output_type": "stream",
     "text": [
      "请输入一个正整数N:5\n",
      "15\n"
     ]
    }
   ],
   "source": [
    "N=eval(input(\"请输入一个正整数N:\"))\n",
    "isum=0\n",
    "for N in range(1,N+1,1):\n",
    "    isum+=N\n",
    "print(isum)"
   ]
  },
  {
   "cell_type": "markdown",
   "id": "d43aff71",
   "metadata": {},
   "source": [
    "### 练习3：找出5-100之间能被5或者7整除的数并输出"
   ]
  },
  {
   "cell_type": "code",
   "execution_count": 47,
   "id": "9bfefde5",
   "metadata": {},
   "outputs": [
    {
     "name": "stdout",
     "output_type": "stream",
     "text": [
      "5,7,10,14,15,20,21,25,28,30,35,40,42,45,49,50,55,56,60,63,65,70,75,77,80,84,85,90,91,95,98,100,"
     ]
    }
   ],
   "source": [
    "for i in range(5,101):\n",
    "    if(i% 5 ==0 or i% 7 ==0):\n",
    "        print(i,end=\",\")"
   ]
  },
  {
   "cell_type": "markdown",
   "id": "43e92afe",
   "metadata": {},
   "source": [
    "### 百货公司折扣战任务实现\n",
    " <img src=\"img/任务实现1.png\" width=\"450\" height=\"450\" align=\"left\" />\n",
    "  <img src=\"img/任务实现2.png\" width=\"450\" height=\"450\" align=\"left\" />"
   ]
  },
  {
   "cell_type": "markdown",
   "id": "6e8cfe36",
   "metadata": {},
   "source": [
    "1.任务初始化\n"
   ]
  },
  {
   "cell_type": "code",
   "execution_count": 5,
   "id": "20d3bf51",
   "metadata": {},
   "outputs": [],
   "source": [
    "#定义一个变量 money 用来保存购物总金额\n",
    "money=0\n",
    "price=1"
   ]
  },
  {
   "cell_type": "markdown",
   "id": "927bce3c",
   "metadata": {},
   "source": [
    "2. 计算购物总金额\n"
   ]
  },
  {
   "cell_type": "code",
   "execution_count": 7,
   "id": "d8d8a2b9",
   "metadata": {},
   "outputs": [
    {
     "name": "stdout",
     "output_type": "stream",
     "text": [
      "请输入所购物品的单价：5\n",
      "请输入所购物品的数量：10\n",
      "请输入所购物品的单价：36\n",
      "请输入所购物品的数量：5\n",
      "请输入所购物品的单价：0\n",
      "请输入所购物品的数量：0\n"
     ]
    }
   ],
   "source": [
    "#从键盘上输入所购物品的单价和数量,并计算购物总金额\n",
    "while(price!=0):\n",
    "    price=eval(input(\"请输入所购物品的单价:\"))\n",
    "    amount=eval(input(\"请输入所购物品的数量:\"))\n",
    "    money+=price*amount"
   ]
  },
  {
   "cell_type": "markdown",
   "id": "0efe0205",
   "metadata": {},
   "source": [
    "3. 计算天虹商场的应付金额\n"
   ]
  },
  {
   "cell_type": "code",
   "execution_count": 8,
   "id": "1cd90152",
   "metadata": {},
   "outputs": [],
   "source": [
    "#计算天虹商场的应付金额,使用 cash_1 变量保存应付金额\n",
    "if(money<=1000):\n",
    "    cash_1=money*0.92\n",
    "elif(money<=3000):\n",
    "    cash_1=money*0.85\n",
    "elif(money<=5000):\n",
    "    cash_1=money*0.78\n",
    "else:\n",
    "    cash_1=money*0.7"
   ]
  },
  {
   "cell_type": "markdown",
   "id": "a7514aa4",
   "metadata": {},
   "source": [
    "4. 计算友谊新天地的应付金额"
   ]
  },
  {
   "cell_type": "code",
   "execution_count": 9,
   "id": "f4bc4eb5",
   "metadata": {},
   "outputs": [],
   "source": [
    "#计算友谊新天地的应付金额，使用 cash_2 变量保存应付金额\n",
    "if(money>=2000):\n",
    "    cash_2=(money-2000)*0.7+2000\n",
    "else:\n",
    "    cash_2=money"
   ]
  },
  {
   "cell_type": "markdown",
   "id": "aecf5a9a",
   "metadata": {},
   "source": [
    "5. 计算大力发商城的应付金额"
   ]
  },
  {
   "cell_type": "code",
   "execution_count": 10,
   "id": "a8f0d738",
   "metadata": {},
   "outputs": [],
   "source": [
    "#计算大力发商城的应付金额，使用 cash_3 变量保存应付金额\n",
    "cash_3=money-int(money/500)*70"
   ]
  },
  {
   "cell_type": "markdown",
   "id": "e2027a2b",
   "metadata": {},
   "source": [
    "6. 比较 3 个商场的应付金额，得出最终结论,应该选择哪个商场购物"
   ]
  },
  {
   "cell_type": "code",
   "execution_count": 53,
   "id": "792f5a32",
   "metadata": {},
   "outputs": [
    {
     "name": "stdout",
     "output_type": "stream",
     "text": [
      "请输入所购物品的单价:3500\n",
      "请输入所购物品的数量:1\n",
      "请输入所购物品的单价:0\n",
      "请输入所购物品的数量:0\n",
      "天虹商场= 2730.0\n",
      "友谊新天地= 3050.0\n",
      "大力发商场= 3010\n",
      "请选择天虹商场\n"
     ]
    }
   ],
   "source": [
    "#比较 3 个商场的应付金额，得出最终结论\n",
    "money=0\n",
    "price=1\n",
    "while(price!=0):\n",
    "    price=eval(input(\"请输入所购物品的单价:\"))\n",
    "    amount=eval(input(\"请输入所购物品的数量:\"))\n",
    "    money+=price*amount\n",
    "if(money<=1000):\n",
    "    cash_1=money*0.92\n",
    "elif(money<=3000):\n",
    "    cash_1=money*0.85\n",
    "elif(money<=5000):\n",
    "    cash_1=money*0.78\n",
    "else:\n",
    "    cash_1=money*0.7\n",
    "    \n",
    "if(money>=2000):\n",
    "    cash_2=(money-2000)*0.7+2000\n",
    "else:\n",
    "    cash_2=money\n",
    "    \n",
    "cash_3=money-int(money/500)*70\n",
    "\n",
    "print(\"天虹商场=\",cash_1)\n",
    "print(\"友谊新天地=\",cash_2)\n",
    "print(\"大力发商场=\",cash_3)\n",
    "\n",
    "if(cash_1<=cash_2):\n",
    "    if(cash_1<=cash_2):\n",
    "        print(\"请选择天虹商场\")\n",
    "    else:\n",
    "        print(\"请选择大力发商场\")\n",
    "else:\n",
    "    if(cash_2<=cash_3):\n",
    "        print(\"请选择友谊新天地\")\n",
    "    else:\n",
    "        print(\"请选择大力发商场\")"
   ]
  },
  {
   "cell_type": "markdown",
   "id": "3e4d3b4c",
   "metadata": {},
   "source": [
    "### 拓展练习：\n",
    "1、阶乘计算。计算1+2！+3！+……10！的结果<br>"
   ]
  },
  {
   "cell_type": "code",
   "execution_count": 57,
   "id": "ce147da3",
   "metadata": {},
   "outputs": [
    {
     "name": "stdout",
     "output_type": "stream",
     "text": [
      "4037913\n"
     ]
    }
   ],
   "source": [
    "n=1\n",
    "isum=0\n",
    "for i in range(1,11):\n",
    "    n*=i\n",
    "    isum+=n\n",
    "print(isum)"
   ]
  }
 ],
 "metadata": {
  "hide_input": false,
  "kernelspec": {
   "display_name": "Python 3",
   "language": "python",
   "name": "python3"
  },
  "language_info": {
   "codemirror_mode": {
    "name": "ipython",
    "version": 3
   },
   "file_extension": ".py",
   "mimetype": "text/x-python",
   "name": "python",
   "nbconvert_exporter": "python",
   "pygments_lexer": "ipython3",
   "version": "3.8.8"
  },
  "toc": {
   "base_numbering": 1,
   "nav_menu": {},
   "number_sections": true,
   "sideBar": true,
   "skip_h1_title": false,
   "title_cell": "Table of Contents",
   "title_sidebar": "Contents",
   "toc_cell": false,
   "toc_position": {},
   "toc_section_display": true,
   "toc_window_display": false
  }
 },
 "nbformat": 4,
 "nbformat_minor": 5
}
