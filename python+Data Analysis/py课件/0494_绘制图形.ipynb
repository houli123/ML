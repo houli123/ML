{
 "cells": [
  {
   "cell_type": "markdown",
   "metadata": {},
   "source": [
    "## 6.3 课堂练习之调用函数绘制图形"
   ]
  },
  {
   "cell_type": "code",
   "execution_count": null,
   "metadata": {},
   "outputs": [],
   "source": [
    "#绘制叠加三角形\n",
    "from turtle import *\n",
    "def draw4(z):  #定义画平行四边形四条边的函数，方便调用\n",
    "    for j in (120,60)*2:\n",
    "        fd(z)\n",
    "        rt(j)\n",
    "def triangle(x,y,z):\n",
    "    j=z\n",
    "    color(\"aqua\")\n",
    "    for i in -120,-60,0:  #先从上面的平行四边形开始，再到右边最后是左边\n",
    "        if i==0:\n",
    "            j=0\n",
    "        pu();goto(j,0);pd();seth(i)\n",
    "        draw4(z)\n",
    "    lt(60)  #使海龟头指向图片的位置\n",
    "    done()\n",
    "triangle(0,0,50)"
   ]
  },
  {
   "cell_type": "code",
   "execution_count": null,
   "metadata": {},
   "outputs": [],
   "source": [
    "#正方形螺旋线的绘制\n",
    "from turtle import *\n",
    "def square(x,y,n):  #n为总长度，步长为5\n",
    "    color(\"aqua\")\n",
    "    pu()\n",
    "    goto(x,y)\n",
    "    pd()\n",
    "    for i in range(1,n,5):\n",
    "        lt(90)\n",
    "        fd(i)\n",
    "    done()\n",
    "square(0,0,500)"
   ]
  }
 ],
 "metadata": {
  "kernelspec": {
   "display_name": "Python 3",
   "language": "python",
   "name": "python3"
  },
  "language_info": {
   "codemirror_mode": {
    "name": "ipython",
    "version": 3
   },
   "file_extension": ".py",
   "mimetype": "text/x-python",
   "name": "python",
   "nbconvert_exporter": "python",
   "pygments_lexer": "ipython3",
   "version": "3.6.4"
  }
 },
 "nbformat": 4,
 "nbformat_minor": 2
}
