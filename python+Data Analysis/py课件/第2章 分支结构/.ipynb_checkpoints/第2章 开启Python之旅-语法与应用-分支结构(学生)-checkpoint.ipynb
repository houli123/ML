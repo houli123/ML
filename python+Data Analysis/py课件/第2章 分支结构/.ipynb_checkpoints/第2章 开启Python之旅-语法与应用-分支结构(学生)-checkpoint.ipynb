{
 "cells": [
  {
   "cell_type": "markdown",
   "id": "f67845d9",
   "metadata": {},
   "source": [
    "<img src=\"img/首页2.png\" width=\"900\" height=\"600\" align=\"center\" />"
   ]
  },
  {
   "cell_type": "markdown",
   "id": "b6eda894",
   "metadata": {},
   "source": [
    "##  知识点思维导图\n",
    "\n",
    "<img src=\"img/思维导图2.png\" width=\"1000\" height=\"900\" align=\"left\" />"
   ]
  },
  {
   "cell_type": "markdown",
   "id": "41938918",
   "metadata": {},
   "source": [
    "## 学习目标：\n",
    "* ## 能够用不同的程序结构解决实际问题\n",
    "* ## 能够用if语句实现程序的分支跳转"
   ]
  },
  {
   "cell_type": "markdown",
   "id": "07fa6878",
   "metadata": {},
   "source": [
    "#### 学习步骤：\n",
    "1、项目1:百货公司折扣战\n",
    "\n",
    "2、预备知识--程序结构\n",
    "\n",
    "3、百货公司折扣战任务实现\n",
    "\n",
    "4、总结与提高\n",
    "\n",
    "5、巩固与应用（项目2、3、4）"
   ]
  },
  {
   "cell_type": "markdown",
   "id": "a5bbaded",
   "metadata": {},
   "source": [
    "## 1、百货公司折扣战\n",
    "<img src=\"img/百货公司折扣引子.png\" width=\"400\" height=\"400\" align=\"left\" />\n",
    "<img src=\"img/任务提出.png\" width=\"400\" height=\"400\" align=\"left\" />"
   ]
  },
  {
   "cell_type": "markdown",
   "id": "904451b1",
   "metadata": {},
   "source": [
    "## 2、程序的基本结构\n",
    "> * #### 顺序结构\n",
    "   　　是程序按照线性顺序依次执行的一种运行方式。\n",
    "   <img src=\"img/顺序结构.png\" width=\"100\" height=\"100\" />\n",
    "   \n",
    "> * #### 分支结构\n",
    "　　程序根据条件判断结果而选择不同向前执行路径的一种运行方式，包括单分支结构和二分支结构、多分支结构\n",
    "   <img src=\"img/分支结构.png\" width=\"300\" height=\"300\" />\n",
    "> * #### 循环结构\n",
    "　　程序根据条件判断结果向后反复执行的一种运行方式，根据循环体触发条件不同，包括条件循环和遍历循环结构\n",
    "  <img src=\"img/循环结构.png\" width=\"450\" height=\"450\" />\n"
   ]
  },
  {
   "cell_type": "markdown",
   "id": "dc70f4fe",
   "metadata": {},
   "source": [
    "### 2.1 分支结构\n",
    "> * #### Python通过if、elif、else等保留字提供单分支、二分支和多分支结构\n",
    "> * #### 语法格式如下：(要注意缩进)  \n",
    ">   #### <img src=\"img/if缩进.png\" width=\"100\" height=\"100\" align=\"left\" />\n",
    "\n",
    "> * #### 形成判断条件最常见的方式是采用关系操作符,Python语言共有6个关系操作符\n",
    ">   #### <img src=\"img/关系操作符.png\" width=\"300\" height=\"300\" align=\"left\" />"
   ]
  },
  {
   "cell_type": "markdown",
   "id": "247ba7c1",
   "metadata": {},
   "source": [
    "#### 单分支结构"
   ]
  },
  {
   "cell_type": "code",
   "execution_count": 2,
   "id": "2959bf81",
   "metadata": {},
   "outputs": [
    {
     "name": "stdout",
     "output_type": "stream",
     "text": [
      "请输入一个数字：-5\n",
      "5\n"
     ]
    }
   ],
   "source": [
    "#程序实现：从键盘输入一个数字，如果小于0，则输出他的相反数\n",
    "a=eval(input(\"请输入一个数字：\"))\n",
    "if(a<0):\n",
    "    print(a*-1)"
   ]
  },
  {
   "cell_type": "markdown",
   "id": "94193f33",
   "metadata": {},
   "source": [
    "#### 双分支结构\n"
   ]
  },
  {
   "cell_type": "code",
   "execution_count": 6,
   "id": "2e3d4932",
   "metadata": {},
   "outputs": [
    {
     "name": "stdout",
     "output_type": "stream",
     "text": [
      "请输入一个数字:7\n",
      "7\n"
     ]
    }
   ],
   "source": [
    "#程序实现：从键盘输入一个数字，输出它的绝对值\n",
    "a=eval(input(\"请输入一个数字:\"))\n",
    "if(a<0):\n",
    "    "
   ]
  },
  {
   "cell_type": "markdown",
   "id": "2853ebbf",
   "metadata": {},
   "source": [
    "#### 多分支结构"
   ]
  },
  {
   "cell_type": "code",
   "execution_count": 8,
   "id": "865251b0",
   "metadata": {},
   "outputs": [
    {
     "name": "stdout",
     "output_type": "stream",
     "text": [
      "请输入一个分数：90\n",
      "优秀\n"
     ]
    }
   ],
   "source": [
    "'''程序实现：从键盘输入一个分数，把分数由百分制转换为五级制,分为不及格（60分以下）\n",
    "、及格（70分以下）、中（80以下）、良（90分以下）、优（100以下）\n",
    "'''\n"
   ]
  },
  {
   "cell_type": "markdown",
   "id": "e5c4bc7e",
   "metadata": {},
   "source": [
    "## 代码补全练习\n"
   ]
  },
  {
   "cell_type": "code",
   "execution_count": 16,
   "id": "9ecf7b7e",
   "metadata": {},
   "outputs": [
    {
     "name": "stdout",
     "output_type": "stream",
     "text": [
      "请输入密码：5678\n",
      "密码错误\n"
     ]
    }
   ],
   "source": [
    "pw=input(\"请输入密码：\")\n",
    "#如果输入密码是1234，输出\"欢迎光临\"，否则输入“密码错误”\n"
   ]
  },
  {
   "cell_type": "code",
   "execution_count": 29,
   "id": "48f8ec4f",
   "metadata": {},
   "outputs": [
    {
     "name": "stdout",
     "output_type": "stream",
     "text": [
      "请输入a的值：400\n",
      "太大了\n"
     ]
    }
   ],
   "source": [
    "#从键盘输入变量a的值\n",
    "#如果a小于160,则输出“太小了”\n",
    "#如果a在160-180之间，则输出“正合适”\n",
    "#如果a大于180，则输出“太大了”\n"
   ]
  },
  {
   "cell_type": "code",
   "execution_count": 33,
   "id": "f73eeafe",
   "metadata": {},
   "outputs": [
    {
     "name": "stdout",
     "output_type": "stream",
     "text": [
      "请输入a的值：41\n",
      "太小了\n"
     ]
    }
   ],
   "source": []
  },
  {
   "cell_type": "markdown",
   "id": "9e42a233",
   "metadata": {},
   "source": [
    "###  分支结构练习1：PM2.5空气质量提醒\n",
    "PM2.5是衡量空气污染的重要指标，PM2.5是指空气中直径小于或等于2.5um的可入肺颗粒物，空气质量等级以PM2.5数值划为3级(简化版分级)，0-35为优，35-75为良，75以上为污染。人们也许不关心PM2.5指数具体为多少，而更关心空气质量等级怎么样，计算机可以通过PM2.5指数分级发布空气质量提醒。<br>\n",
    "要求：\n",
    "     &nbsp;&nbsp;1、有关程序的描述，IPO描述图已给出，请再用程序流程图和伪代码方式来描述实现程序<br>\n",
    "　　　　2、用Python语言实现上述程序<br> \n",
    "    \n",
    "    \n",
    "#### ipo描述图：\n",
    "   <img src=\"img/PM2.5ipo描述图.png\" width=\"400\" height=\"400\" align=\"left\" /><br><br><br><br><br><br>\n",
    "####   伪代码示例：\n",
    " <img src=\"img/伪代码.png\" width=\"400\" height=\"400\" align=\"center\" />"
   ]
  },
  {
   "cell_type": "markdown",
   "id": "b42e5f23",
   "metadata": {},
   "source": [
    "#### 程序流程图：\n",
    "   <img src=\"img/PM2.5流程图.png\" width=\"300\" height=\"300\" align=\"left\" /></br> "
   ]
  },
  {
   "cell_type": "markdown",
   "id": "0b65db3c",
   "metadata": {},
   "source": [
    "##### 单分支实现代码："
   ]
  },
  {
   "cell_type": "code",
   "execution_count": null,
   "id": "0df924ed",
   "metadata": {},
   "outputs": [],
   "source": [
    "#PM2.5空气质量提醒\n"
   ]
  },
  {
   "cell_type": "markdown",
   "id": "cfaa6d97",
   "metadata": {},
   "source": [
    "##### 多分支实现代码："
   ]
  },
  {
   "cell_type": "code",
   "execution_count": null,
   "id": "4902ff69",
   "metadata": {},
   "outputs": [],
   "source": [
    "#PM2.5空气质量提醒\n"
   ]
  },
  {
   "cell_type": "markdown",
   "id": "1863d2bf",
   "metadata": {},
   "source": [
    "#### 分支结构练习2：身体质量指数（书中26页）\n"
   ]
  },
  {
   "cell_type": "code",
   "execution_count": null,
   "id": "dda5f66f",
   "metadata": {},
   "outputs": [],
   "source": []
  }
 ],
 "metadata": {
  "hide_input": false,
  "kernelspec": {
   "display_name": "Python 3",
   "language": "python",
   "name": "python3"
  },
  "language_info": {
   "codemirror_mode": {
    "name": "ipython",
    "version": 3
   },
   "file_extension": ".py",
   "mimetype": "text/x-python",
   "name": "python",
   "nbconvert_exporter": "python",
   "pygments_lexer": "ipython3",
   "version": "3.8.8"
  },
  "toc": {
   "base_numbering": 1,
   "nav_menu": {},
   "number_sections": true,
   "sideBar": true,
   "skip_h1_title": false,
   "title_cell": "Table of Contents",
   "title_sidebar": "Contents",
   "toc_cell": false,
   "toc_position": {},
   "toc_section_display": true,
   "toc_window_display": false
  }
 },
 "nbformat": 4,
 "nbformat_minor": 5
}
