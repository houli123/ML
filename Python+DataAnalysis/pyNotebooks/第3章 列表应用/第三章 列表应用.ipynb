{
 "cells": [
  {
   "cell_type": "markdown",
   "metadata": {},
   "source": [
    "# 第三章 列表应用\n",
    "## 3.1 抽奖游戏规则\n",
    "- 自选号码单式投注规则\n",
    "> 黑色球10选4+白色球5选1\n",
    "- 中奖规则\n",
    "> 中黑色球的个数+是否中白色球"
   ]
  },
  {
   "cell_type": "code",
   "execution_count": null,
   "metadata": {},
   "outputs": [],
   "source": []
  },
  {
   "cell_type": "markdown",
   "metadata": {},
   "source": [
    "## 3.2 预备知识--列表list与随机数random库\n",
    "### 3.2.1 列表组合数据类型\n",
    "- 类比数组\n",
    "- 任意类型且不要求统一\n",
    "- 下标访问，从0开始"
   ]
  },
  {
   "cell_type": "code",
   "execution_count": null,
   "metadata": {},
   "outputs": [],
   "source": [
    "ls0 = []\n",
    "ls0 = list[]\n",
    "ls1 = [80,90,90,95,100]\n",
    "ls2 = [\"张三\"\"李四\"\"王五\"]\n",
    "ls3 = [True,False,False,True]\n",
    "ls4 = [\"张三\",True,20]"
   ]
  },
  {
   "cell_type": "markdown",
   "metadata": {},
   "source": [
    "#### 序列\n",
    "- 序列（sequence）是一种可迭代的、元素有序的容器类型的数据。  \n",
    "![](img/3-seq.png)\n",
    "![](img/3-seq-1.png)"
   ]
  },
  {
   "cell_type": "markdown",
   "metadata": {},
   "source": [
    "#### 列表\n",
    "- 列表（list）是一种可变序列类型，我们可以追加、插入、删除和 替换列表中的元素。\n",
    "![](img/3-list.png)"
   ]
  },
  {
   "cell_type": "markdown",
   "metadata": {},
   "source": [
    "### 3.2.2 列表常用操作\n",
    "#### 初始化列表\n",
    "创建列表有两种方法。 \n",
    "- 1 list（iterable）函数：参数iterable是可迭代对象（字符串、列表、 元组、集合和字典等）。 \n",
    "- 2 [元素1，元素2，元素3，⋯]：指定具体的列表元素，元素之间以 逗号分隔，列表元素需要使用中括号括起来。"
   ]
  },
  {
   "cell_type": "code",
   "execution_count": null,
   "metadata": {},
   "outputs": [],
   "source": []
  },
  {
   "cell_type": "markdown",
   "metadata": {},
   "source": [
    "#### 求列表长度"
   ]
  },
  {
   "cell_type": "code",
   "execution_count": null,
   "metadata": {},
   "outputs": [],
   "source": []
  },
  {
   "cell_type": "markdown",
   "metadata": {},
   "source": [
    "#### 访问列表元素"
   ]
  },
  {
   "cell_type": "code",
   "execution_count": 7,
   "metadata": {},
   "outputs": [
    {
     "name": "stdout",
     "output_type": "stream",
     "text": [
      "80 89\n",
      "95\n"
     ]
    }
   ],
   "source": [
    "ls = [80,85,89,90,95,100]\n",
    "a = ls[0]\n",
    "b = ls[2]\n",
    "print(a,b)\n",
    "print(ls[-2])"
   ]
  },
  {
   "cell_type": "code",
   "execution_count": null,
   "metadata": {},
   "outputs": [],
   "source": [
    "#列表迭代\n"
   ]
  },
  {
   "cell_type": "markdown",
   "metadata": {},
   "source": [
    "\n",
    "#### 修改和添加列表元素"
   ]
  },
  {
   "cell_type": "code",
   "execution_count": 8,
   "metadata": {},
   "outputs": [
    {
     "name": "stdout",
     "output_type": "stream",
     "text": [
      "[80, 90, 100, 95, 96]\n",
      "[80, 90, 100, 95, 96, 200]\n",
      "[80, 90, 100, 95, 300, 96, 200]\n"
     ]
    }
   ],
   "source": [
    "ls1 = [80,90,80,95,96]\n",
    "ls1[2] = 100\n",
    "print(ls1)\n",
    "ls1.append(200)\n",
    "print(ls1)\n",
    "ls1.insert(4,300)\n",
    "print(ls1)"
   ]
  },
  {
   "cell_type": "markdown",
   "metadata": {},
   "source": [
    "#### 判断某个数据是否在列表中"
   ]
  },
  {
   "cell_type": "code",
   "execution_count": null,
   "metadata": {},
   "outputs": [],
   "source": []
  },
  {
   "cell_type": "markdown",
   "metadata": {},
   "source": [
    "#### 列表排序"
   ]
  },
  {
   "cell_type": "code",
   "execution_count": null,
   "metadata": {},
   "outputs": [],
   "source": []
  },
  {
   "cell_type": "markdown",
   "metadata": {},
   "source": [
    "#### 列表切片"
   ]
  },
  {
   "cell_type": "code",
   "execution_count": null,
   "metadata": {},
   "outputs": [],
   "source": []
  },
  {
   "cell_type": "markdown",
   "metadata": {},
   "source": [
    "### 3.2.3 课堂练习之列表"
   ]
  },
  {
   "cell_type": "markdown",
   "metadata": {},
   "source": [
    "#### 代码补全"
   ]
  },
  {
   "cell_type": "code",
   "execution_count": 1,
   "metadata": {},
   "outputs": [],
   "source": [
    "list0 = [55,78,97,98,69,70]\n",
    "list2 = ['you','need','python']\n",
    "\n",
    "# 对list0降序排序并输出\n",
    "\n",
    "# 初始化list1为空列表\n",
    "\n",
    "# 将list0中的奇数添加到list1中\n",
    "\n",
    "# 统计list1中元素个数，存放到变量numtotal\n",
    "\n",
    "# 将list2的元素'python'改为'python3'\n",
    "\n",
    "# 将list0中的3-5号元素切片到list3中\n"
   ]
  },
  {
   "cell_type": "markdown",
   "metadata": {},
   "source": [
    "#### 任务应用"
   ]
  },
  {
   "cell_type": "code",
   "execution_count": 2,
   "metadata": {},
   "outputs": [],
   "source": [
    "# 初始化空列表ls\n",
    "\n",
    "# 从键盘输入若干数字，添加到列表，输入-1退出（不添加到列表）\n",
    "\n",
    "# 统计并输出ls的元素个数，ls的平均值\n",
    "\n",
    "# 降序输出值为偶数的列表元素，输出格式：每个元素占位宽度10，右对齐，每行打印多个元素\n"
   ]
  },
  {
   "cell_type": "markdown",
   "metadata": {},
   "source": [
    "### 3.2.4 random库常用函数\n",
    "- 生成[10,100]之间的随机整数"
   ]
  },
  {
   "cell_type": "code",
   "execution_count": 3,
   "metadata": {},
   "outputs": [
    {
     "data": {
      "text/plain": [
       "71"
      ]
     },
     "execution_count": 3,
     "metadata": {},
     "output_type": "execute_result"
    }
   ],
   "source": [
    "from random import *\n",
    "randrange(10,100)"
   ]
  },
  {
   "cell_type": "code",
   "execution_count": 4,
   "metadata": {},
   "outputs": [
    {
     "data": {
      "text/plain": [
       "40"
      ]
     },
     "execution_count": 4,
     "metadata": {},
     "output_type": "execute_result"
    }
   ],
   "source": [
    "randint(10,100)"
   ]
  },
  {
   "cell_type": "markdown",
   "metadata": {},
   "source": [
    "## 3.3 抽奖游戏项目实战\n",
    "### 3.3.1 任务分析\n",
    "- 机选投注\n",
    "- 开奖号码\n",
    "- 中奖匹配\n",
    "- 中奖等级与兑奖"
   ]
  },
  {
   "cell_type": "markdown",
   "metadata": {},
   "source": [
    "### 3.3.2 任务实现\n",
    "#### 任务初始化"
   ]
  },
  {
   "cell_type": "code",
   "execution_count": null,
   "metadata": {},
   "outputs": [],
   "source": []
  },
  {
   "cell_type": "markdown",
   "metadata": {},
   "source": [
    "#### 机选投注"
   ]
  },
  {
   "cell_type": "code",
   "execution_count": null,
   "metadata": {},
   "outputs": [],
   "source": []
  },
  {
   "cell_type": "markdown",
   "metadata": {},
   "source": [
    "#### 开奖号码"
   ]
  },
  {
   "cell_type": "code",
   "execution_count": null,
   "metadata": {},
   "outputs": [],
   "source": []
  },
  {
   "cell_type": "markdown",
   "metadata": {},
   "source": [
    "#### 中奖匹配"
   ]
  },
  {
   "cell_type": "code",
   "execution_count": null,
   "metadata": {},
   "outputs": [],
   "source": []
  },
  {
   "cell_type": "markdown",
   "metadata": {},
   "source": [
    "#### 中奖等级与兑奖"
   ]
  },
  {
   "cell_type": "code",
   "execution_count": null,
   "metadata": {},
   "outputs": [],
   "source": []
  },
  {
   "cell_type": "markdown",
   "metadata": {},
   "source": [
    "## 3.4 总结与提高--列表、random库和元组\n",
    "![](img/3-fun-method.png)\n",
    "### 3.4.1 列表\n",
    "#### 创建列表"
   ]
  },
  {
   "cell_type": "code",
   "execution_count": null,
   "metadata": {},
   "outputs": [],
   "source": []
  },
  {
   "cell_type": "markdown",
   "metadata": {},
   "source": [
    "#### 添加列表元素"
   ]
  },
  {
   "cell_type": "code",
   "execution_count": null,
   "metadata": {},
   "outputs": [],
   "source": []
  },
  {
   "cell_type": "markdown",
   "metadata": {},
   "source": [
    "#### 删除列表元素"
   ]
  },
  {
   "cell_type": "code",
   "execution_count": null,
   "metadata": {},
   "outputs": [],
   "source": []
  },
  {
   "cell_type": "markdown",
   "metadata": {},
   "source": [
    "#### 列表反转"
   ]
  },
  {
   "cell_type": "code",
   "execution_count": null,
   "metadata": {},
   "outputs": [],
   "source": []
  },
  {
   "cell_type": "markdown",
   "metadata": {},
   "source": [
    "#### 列表切片"
   ]
  },
  {
   "cell_type": "code",
   "execution_count": null,
   "metadata": {},
   "outputs": [],
   "source": []
  },
  {
   "cell_type": "markdown",
   "metadata": {},
   "source": [
    "#### 列表操作常用函数"
   ]
  },
  {
   "cell_type": "code",
   "execution_count": null,
   "metadata": {},
   "outputs": [],
   "source": []
  },
  {
   "cell_type": "markdown",
   "metadata": {},
   "source": [
    "#### 列表操作常用方法"
   ]
  },
  {
   "cell_type": "code",
   "execution_count": null,
   "metadata": {},
   "outputs": [],
   "source": []
  },
  {
   "cell_type": "markdown",
   "metadata": {},
   "source": [
    "### 3.4.2 random随机库\n",
    "randint和randrange的区别：\n",
    "- randint 产生的随机数区间是包含左右极限的，也就是说左右都是闭区间的[1, n]，能取到1和n。而 randrange 产生的随机数区间只包含左极限，也就是左闭右开的[1, n)，1能取到，而n取不到。\n",
    "- randint 产生的随机数是在指定的某个区间内的一个值，而 randrange 产生的随机数可以设定一个步长，也就是一个间隔。\n",
    "- randint 无法设定步长，会报错。\n",
    "#### 生成闭合区间整数随机数"
   ]
  },
  {
   "cell_type": "code",
   "execution_count": null,
   "metadata": {},
   "outputs": [],
   "source": []
  },
  {
   "cell_type": "markdown",
   "metadata": {},
   "source": [
    "#### 生成半闭合区间整数随机数"
   ]
  },
  {
   "cell_type": "code",
   "execution_count": null,
   "metadata": {},
   "outputs": [],
   "source": []
  },
  {
   "cell_type": "markdown",
   "metadata": {},
   "source": [
    "#### 随机选择函数\n",
    "random.choice从序列中获取一个随机元素。"
   ]
  },
  {
   "cell_type": "code",
   "execution_count": null,
   "metadata": {},
   "outputs": [],
   "source": []
  },
  {
   "cell_type": "markdown",
   "metadata": {},
   "source": [
    "#### 生成半闭合区间浮点数随机数\n",
    "random产生[0,1)之间的浮点数"
   ]
  },
  {
   "cell_type": "code",
   "execution_count": null,
   "metadata": {},
   "outputs": [],
   "source": []
  },
  {
   "cell_type": "markdown",
   "metadata": {},
   "source": [
    "### 3.4.3 元组\n",
    "![](img/3-tuple.png)\n",
    "#### 创建元组\n",
    "创建元组时有两种方法。 \n",
    "- 1 tuple（iterable）函数：参数iterable是可迭代对象（字符串、列表、元组、集合和字典等）。 \n",
    "- 2 （元素1，元素2，元素3，⋯）：指定具体的元组元素，元素之间 以逗号分隔。对于元组元素，可以使用小括号括起来，也可以省略小括号."
   ]
  },
  {
   "cell_type": "code",
   "execution_count": 25,
   "metadata": {},
   "outputs": [
    {
     "name": "stdout",
     "output_type": "stream",
     "text": [
      "('h', 'e', 'l', 'l', 'o')\n"
     ]
    }
   ],
   "source": [
    "a=tuple(\"hello\")\n",
    "print(a)"
   ]
  },
  {
   "cell_type": "markdown",
   "metadata": {},
   "source": [
    "#### 访问元祖"
   ]
  },
  {
   "cell_type": "code",
   "execution_count": 11,
   "metadata": {},
   "outputs": [
    {
     "name": "stdout",
     "output_type": "stream",
     "text": [
      "[2, 4]\n"
     ]
    }
   ],
   "source": [
    "print(tuple1[1:4:2])"
   ]
  },
  {
   "cell_type": "markdown",
   "metadata": {},
   "source": [
    "## 3.5 巩固与应用\n",
    "### 3.5.1 十进制转二进制"
   ]
  },
  {
   "cell_type": "code",
   "execution_count": 24,
   "metadata": {},
   "outputs": [
    {
     "name": "stdout",
     "output_type": "stream",
     "text": [
      "请输入一个十进制数：256\n",
      "十进制 1 对应的二进制为 100000000\n"
     ]
    }
   ],
   "source": [
    "mylist=[]\n",
    "mynum=eval(input(\"请输入一个十进制数：\"))\n",
    "while(1):\n",
    "    if(int(mynum/2) >= 1):\n",
    "        mylist.append(mynum % 2)\n",
    "        mynum=int(mynum / 2)\n",
    "    else:\n",
    "        mylist.append(mynum % 2)\n",
    "        break\n",
    "mylist.reverse()\n",
    "s=\"\"\n",
    "for i in mylist:\n",
    "    s+=str(i)\n",
    "print(f\"十进制 {mynum} 对应的二进制为 {s}\")"
   ]
  },
  {
   "cell_type": "markdown",
   "metadata": {},
   "source": [
    "### 3.5.2 名单去重"
   ]
  },
  {
   "cell_type": "code",
   "execution_count": null,
   "metadata": {},
   "outputs": [],
   "source": []
  },
  {
   "cell_type": "markdown",
   "metadata": {},
   "source": [
    "### 3.5.3 演讲比赛评分"
   ]
  },
  {
   "cell_type": "code",
   "execution_count": null,
   "metadata": {},
   "outputs": [],
   "source": []
  },
  {
   "cell_type": "markdown",
   "metadata": {},
   "source": [
    "### 3.5.4 围圈数数游戏"
   ]
  },
  {
   "cell_type": "code",
   "execution_count": null,
   "metadata": {},
   "outputs": [],
   "source": []
  },
  {
   "cell_type": "markdown",
   "metadata": {},
   "source": [
    "## 3.6 编程练习"
   ]
  },
  {
   "cell_type": "code",
   "execution_count": null,
   "metadata": {},
   "outputs": [],
   "source": []
  }
 ],
 "metadata": {
  "hide_input": false,
  "kernelspec": {
   "display_name": "Python 3",
   "language": "python",
   "name": "python3"
  },
  "language_info": {
   "codemirror_mode": {
    "name": "ipython",
    "version": 3
   },
   "file_extension": ".py",
   "mimetype": "text/x-python",
   "name": "python",
   "nbconvert_exporter": "python",
   "pygments_lexer": "ipython3",
   "version": "3.8.8"
  },
  "toc": {
   "base_numbering": 1,
   "nav_menu": {},
   "number_sections": false,
   "sideBar": false,
   "skip_h1_title": false,
   "title_cell": "Table of Contents",
   "title_sidebar": "Contents",
   "toc_cell": false,
   "toc_position": {},
   "toc_section_display": false,
   "toc_window_display": false
  }
 },
 "nbformat": 4,
 "nbformat_minor": 2
}
