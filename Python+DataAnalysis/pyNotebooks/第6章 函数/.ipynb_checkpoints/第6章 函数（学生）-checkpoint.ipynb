{
 "cells": [
  {
   "cell_type": "markdown",
   "metadata": {},
   "source": [
    "<img src=\"img/6-首页.png\" width=\"1200\" height=\"700\" align=\"center\" />"
   ]
  },
  {
   "cell_type": "markdown",
   "metadata": {},
   "source": [
    "##  知识点思维导图\n",
    "\n",
    "<img src=\"img/6-思维导图.png\" width=\"1000\" height=\"800\" align=\"left\" />"
   ]
  },
  {
   "cell_type": "markdown",
   "metadata": {},
   "source": [
    "## 6.1绘制五角星\n",
    "<img src=\"img/6-绘制五角星.png\" width=\"700\" height=\"700\" align=\"left\" />"
   ]
  },
  {
   "cell_type": "markdown",
   "metadata": {},
   "source": [
    "## 6.2 预备知识\n",
    "### 6.2.1 绘图库的介绍\n",
    "> #### turtle库是一个直观有趣的入门级的图形绘制函数库\n",
    "> 使用turtle库，同学们头脑里需要有这样一个概念：想象一个小乌龟，在一个横轴为x、纵轴为y的坐标系原点，(0,0)位置开始，它根据一组函数指令的控制，在这个平面坐标系中移动，从而在它爬行的路径上绘制了图形\n"
   ]
  },
  {
   "cell_type": "markdown",
   "metadata": {},
   "source": [
    "### 6.2.2 绘一颗五角星"
   ]
  },
  {
   "cell_type": "code",
   "execution_count": 1,
   "metadata": {},
   "outputs": [
    {
     "ename": "AttributeError",
     "evalue": "module 'turtle' has no attribute 'tr'",
     "output_type": "error",
     "traceback": [
      "\u001b[1;31m---------------------------------------------------------------------------\u001b[0m",
      "\u001b[1;31mAttributeError\u001b[0m                            Traceback (most recent call last)",
      "\u001b[1;32m<ipython-input-1-e2fc3ecf3fe1>\u001b[0m in \u001b[0;36m<module>\u001b[1;34m\u001b[0m\n\u001b[0;32m      4\u001b[0m \u001b[1;32mfor\u001b[0m \u001b[0mi\u001b[0m \u001b[1;32min\u001b[0m \u001b[0mrange\u001b[0m\u001b[1;33m(\u001b[0m\u001b[1;36m5\u001b[0m\u001b[1;33m)\u001b[0m\u001b[1;33m:\u001b[0m\u001b[1;33m\u001b[0m\u001b[1;33m\u001b[0m\u001b[0m\n\u001b[0;32m      5\u001b[0m     \u001b[0mturtle\u001b[0m\u001b[1;33m.\u001b[0m\u001b[0mfd\u001b[0m\u001b[1;33m(\u001b[0m\u001b[1;36m200\u001b[0m\u001b[1;33m)\u001b[0m\u001b[1;33m\u001b[0m\u001b[1;33m\u001b[0m\u001b[0m\n\u001b[1;32m----> 6\u001b[1;33m     \u001b[0mturtle\u001b[0m\u001b[1;33m.\u001b[0m\u001b[0mtr\u001b[0m\u001b[1;33m(\u001b[0m\u001b[1;36m144\u001b[0m\u001b[1;33m)\u001b[0m\u001b[1;33m\u001b[0m\u001b[1;33m\u001b[0m\u001b[0m\n\u001b[0m\u001b[0;32m      7\u001b[0m \u001b[0mturtle\u001b[0m\u001b[1;33m.\u001b[0m\u001b[0mend_fill\u001b[0m\u001b[1;33m(\u001b[0m\u001b[1;33m)\u001b[0m\u001b[1;33m\u001b[0m\u001b[1;33m\u001b[0m\u001b[0m\n\u001b[0;32m      8\u001b[0m \u001b[0mturtle\u001b[0m\u001b[1;33m.\u001b[0m\u001b[0mdone\u001b[0m\u001b[1;33m(\u001b[0m\u001b[1;33m)\u001b[0m\u001b[1;33m\u001b[0m\u001b[1;33m\u001b[0m\u001b[0m\n",
      "\u001b[1;31mAttributeError\u001b[0m: module 'turtle' has no attribute 'tr'"
     ]
    }
   ],
   "source": [
    "import turtle\n",
    "turtle.color('red','red')\n",
    "turtle.begin_fill()\n",
    "for i in range(5):\n",
    "    turtle.fd(200)\n",
    "    turtle.tr(144)\n",
    "turtle.end_fill()\n",
    "turtle.done()"
   ]
  },
  {
   "cell_type": "markdown",
   "metadata": {},
   "source": [
    "\n",
    "颜色填充函数:使用Turtle不仅可以画线条，也可以将画出的封闭线条进行填充。\n",
    "\n",
    "开始填充：begin_fill()\n",
    "\n",
    "设定填充色：fillecolor()\n",
    "\n",
    "结束填充：end_fill()"
   ]
  },
  {
   "cell_type": "markdown",
   "metadata": {},
   "source": [
    "#### 定义函数与调用函数\n",
    "![](img/6-funcyion-1.png)"
   ]
  },
  {
   "cell_type": "markdown",
   "metadata": {},
   "source": [
    "#### 函数的作用\n",
    "1. 提高代码的可读性和可维护性\n",
    "\n",
    "函数可以将一段代码封装成一个独立的逻辑单元，使得代码的结构更加清晰，易于阅读和理解。通过将不同的功能模块分离成不同的函数，我们可以使得代码更加模块化，易于维护和修改。\n",
    "\n",
    "2. 实现代码的复用\n",
    "\n",
    "函数可以被多次调用，从而实现代码的复用。我们可以将一些常用的功能封装成函数，然后在不同的场景下调用这些函数，避免了重复编写相同的代码，提高了开发效率。\n",
    "\n",
    "3. 提高程序的性能\n",
    "\n",
    "函数可以将一些需要重复执行的计算结果缓存起来，从而避免了重复计算，提高了程序的运行效率。\n",
    "\n",
    "4. 实现抽象和封装\n",
    "\n",
    "函数可以将一些底层的实现细节隐藏起来，只暴露出高层的接口，从而实现了抽象和封装。这样可以使得代码更加安全和可靠，避免了一些潜在的错误和漏洞。\n",
    "\n",
    "5. 支持递归\n",
    "\n",
    "函数可以支持递归调用，这使得我们可以用简单的逻辑实现复杂的计算过程，从而实现了很多算法和数据结构的实现。\n",
    "\n",
    "6. 实现回调\n",
    "\n",
    "函数可以作为参数传递到其他函数中，从而实现回调。这种方式可以使得代码更加灵活，可以根据不同的需求传递不同的函数，实现不同的功能。\n",
    "\n",
    "7. 实现面向对象编程\n",
    "\n",
    "函数可以被用来实现面向对象编程中的方法。我们可以将一些数据和对应的操作封装成类，然后在类中定义一些方法，这些方法实际上就是函数。\n",
    "\n",
    "总结\n",
    "\n",
    "函数是程序设计中非常重要的概念，它可以提高代码的可读性和可维护性，实现代码的复用，提高程序的性能，实现抽象和封装，支持递归，实现回调，以及实现面向对象编程。在实际的开发中，我们需要根据不同的需求选择不同的函数来实现我们的功能，从而使得代码更加清晰、高效和可靠。"
   ]
  },
  {
   "cell_type": "code",
   "execution_count": null,
   "metadata": {},
   "outputs": [],
   "source": []
  },
  {
   "cell_type": "markdown",
   "metadata": {},
   "source": [
    "#### 定义函数\n",
    "![](img/6-function-2.png)"
   ]
  },
  {
   "cell_type": "code",
   "execution_count": null,
   "metadata": {},
   "outputs": [],
   "source": [
    "#调用函数\n"
   ]
  },
  {
   "cell_type": "code",
   "execution_count": null,
   "metadata": {},
   "outputs": [],
   "source": []
  },
  {
   "cell_type": "markdown",
   "metadata": {},
   "source": [
    "#### 调用函数\n",
    "![](img/6-function-3.png)"
   ]
  },
  {
   "cell_type": "code",
   "execution_count": null,
   "metadata": {
    "code_folding": []
   },
   "outputs": [],
   "source": [
    "\n"
   ]
  },
  {
   "cell_type": "markdown",
   "metadata": {},
   "source": [
    "#### 函数的参数传递\n",
    "- 位置参数\n",
    "- 关键字参数\n",
    "- 默认值参数\n",
    "- 可变参数"
   ]
  },
  {
   "cell_type": "markdown",
   "metadata": {},
   "source": [
    "#### 位置参数：\n",
    "> 位置参数就是实参传递的顺序按照形参定义的顺序进行传递的传参方式。下例中，第一位置的实参对应着函数第一个位置的形参，第二个位置的实参对应着第二个位置的形参。"
   ]
  },
  {
   "cell_type": "code",
   "execution_count": null,
   "metadata": {},
   "outputs": [],
   "source": [
    "#位置参数\n",
    "def test(b, c):\n",
    "    print(\"第一个参数是：{}，第二个参数是：{}\".format(b,c))\n",
    "\n",
    "test(20, 30)\n",
    "test(30, 20)\n",
    "\n"
   ]
  },
  {
   "cell_type": "markdown",
   "metadata": {},
   "source": [
    "#### 关键字参数:\n",
    "> 函数传参使用 形参名=实参 的形式传参不需要按照形参的顺序传参，python会自动帮我们找到 形参的位置 然后对应上相应的实参。"
   ]
  },
  {
   "cell_type": "code",
   "execution_count": null,
   "metadata": {},
   "outputs": [],
   "source": [
    "def test(b, c):\n",
    "    print(\"第一个参数是：{}，第二个参数是：{}\".format(b,c))\n",
    "test(c=20, b=30)"
   ]
  },
  {
   "cell_type": "markdown",
   "metadata": {},
   "source": [
    "#### 默认值参数:\n",
    "> 定义函数时，我们给形参一个默认值，在调用函数的时候，如果不给有默认值的形参传参，会自动采用默认值，如果给有默认值的形参传参则覆盖默认值。"
   ]
  },
  {
   "cell_type": "code",
   "execution_count": null,
   "metadata": {},
   "outputs": [],
   "source": [
    "def test(b=777, c=888):\n",
    "    print(\"第一个参数是：{}，第二个参数是：{}\".format(b,c))\n",
    "    \n",
    "test()\n",
    "test(10)\n",
    "test(10, 20)\n"
   ]
  },
  {
   "cell_type": "markdown",
   "metadata": {},
   "source": [
    "#### 可变参数:\n",
    "> 可变参数就是传入的参数个数是可变的，可以是1个、2个到任意个，还可以是0个。"
   ]
  },
  {
   "cell_type": "code",
   "execution_count": null,
   "metadata": {},
   "outputs": [],
   "source": [
    "def test(*numbers):\n",
    "    for n in numbers:\n",
    "        print(n)\n",
    "calc(1, 2)\n",
    "calc(1, 2,3)"
   ]
  },
  {
   "cell_type": "markdown",
   "metadata": {},
   "source": [
    "## 6.3 课堂练习之调用函数绘制图形"
   ]
  },
  {
   "cell_type": "code",
   "execution_count": null,
   "metadata": {},
   "outputs": [],
   "source": [
    "#绘制叠加三角形\n",
    "\n"
   ]
  },
  {
   "cell_type": "code",
   "execution_count": null,
   "metadata": {},
   "outputs": [],
   "source": [
    "#正方形螺旋线的绘制\n"
   ]
  },
  {
   "cell_type": "markdown",
   "metadata": {},
   "source": [
    "## 6.4 项目实战\n",
    "<img src=\"img/6-绘制五角星.png\" width=\"700\" height=\"700\" align=\"left\" />"
   ]
  },
  {
   "cell_type": "code",
   "execution_count": null,
   "metadata": {},
   "outputs": [],
   "source": []
  },
  {
   "cell_type": "markdown",
   "metadata": {},
   "source": [
    "## 6. 5 总结与提高\n",
    "### 6.5.1 参数传递\n",
    "- 传递一个列表作为参数"
   ]
  },
  {
   "cell_type": "code",
   "execution_count": null,
   "metadata": {
    "scrolled": true
   },
   "outputs": [],
   "source": []
  },
  {
   "cell_type": "markdown",
   "metadata": {},
   "source": [
    "- 参数的默认值"
   ]
  },
  {
   "cell_type": "code",
   "execution_count": null,
   "metadata": {},
   "outputs": [],
   "source": []
  },
  {
   "cell_type": "markdown",
   "metadata": {},
   "source": [
    "- 有返回值的函数"
   ]
  },
  {
   "cell_type": "code",
   "execution_count": null,
   "metadata": {},
   "outputs": [],
   "source": []
  },
  {
   "cell_type": "markdown",
   "metadata": {},
   "source": [
    "- return返回一个值"
   ]
  },
  {
   "cell_type": "code",
   "execution_count": null,
   "metadata": {},
   "outputs": [],
   "source": []
  },
  {
   "cell_type": "markdown",
   "metadata": {},
   "source": [
    "- return返回多个值"
   ]
  },
  {
   "cell_type": "code",
   "execution_count": null,
   "metadata": {},
   "outputs": [],
   "source": []
  },
  {
   "cell_type": "markdown",
   "metadata": {},
   "source": [
    "- 全局变量和局部变量\n",
    "变量可以在模块中创建，作用域（变量的有效范围）是整个模块， 被称为全局变量。变量也可以在函数中创建，在默认情况下作用域是整 个函数，被称为局部变量。  \n",
    "![](img/6-function-4.png)  \n",
    "- 全局变量和局部变量有各自的作用域\n",
    "![](img/6-funcyion-5.png)"
   ]
  },
  {
   "cell_type": "code",
   "execution_count": null,
   "metadata": {},
   "outputs": [],
   "source": []
  },
  {
   "cell_type": "code",
   "execution_count": null,
   "metadata": {},
   "outputs": [],
   "source": [
    "\n"
   ]
  },
  {
   "cell_type": "markdown",
   "metadata": {},
   "source": [
    "- global让函数使用全局变量\n",
    "![](img/6-funcyion-6.png)"
   ]
  },
  {
   "cell_type": "code",
   "execution_count": null,
   "metadata": {},
   "outputs": [],
   "source": []
  },
  {
   "cell_type": "markdown",
   "metadata": {},
   "source": [
    "### 6.5.2 递归函数\n",
    ">程序调用自身称为递归"
   ]
  },
  {
   "cell_type": "code",
   "execution_count": null,
   "metadata": {},
   "outputs": [],
   "source": []
  },
  {
   "cell_type": "markdown",
   "metadata": {},
   "source": [
    "#### 递归与循环"
   ]
  },
  {
   "cell_type": "code",
   "execution_count": null,
   "metadata": {},
   "outputs": [],
   "source": []
  },
  {
   "cell_type": "markdown",
   "metadata": {},
   "source": [
    "#### 递归的次数"
   ]
  },
  {
   "cell_type": "code",
   "execution_count": null,
   "metadata": {},
   "outputs": [],
   "source": []
  },
  {
   "cell_type": "markdown",
   "metadata": {},
   "source": [
    "### 6.5.3 匿名函数\n",
    "在Python中使用lambda关键字定义匿名函数。lambda关键字定义的 函数也被称为lambda（）函数，定义lambda（）函数的语法如下。 “参数列表”与函数的参数列表是一样的，但不需要用小括号括起来  \n",
    "![](img/6-function-7.png)\n",
    "\n",
    "![](img/6-function-8.png)\n",
    "\n",
    "![](img/6-function-9.png)"
   ]
  },
  {
   "cell_type": "code",
   "execution_count": null,
   "metadata": {},
   "outputs": [],
   "source": []
  },
  {
   "cell_type": "markdown",
   "metadata": {},
   "source": [
    "#### 求和"
   ]
  },
  {
   "cell_type": "code",
   "execution_count": 1,
   "metadata": {},
   "outputs": [
    {
     "name": "stdout",
     "output_type": "stream",
     "text": [
      "和为9\n"
     ]
    }
   ],
   "source": [
    "def isum(a,b,c):\n",
    "    sum=a+b+c\n",
    "    print(f\"和为{sum}\")\n",
    "isum(1,3,5)"
   ]
  },
  {
   "cell_type": "markdown",
   "metadata": {},
   "source": [
    "#### 取数"
   ]
  },
  {
   "cell_type": "code",
   "execution_count": null,
   "metadata": {},
   "outputs": [],
   "source": []
  },
  {
   "cell_type": "markdown",
   "metadata": {},
   "source": [
    "## 6.6 巩固与应用\n",
    "### 6.6.1 打印程序员信息"
   ]
  },
  {
   "cell_type": "code",
   "execution_count": null,
   "metadata": {},
   "outputs": [],
   "source": []
  },
  {
   "cell_type": "markdown",
   "metadata": {},
   "source": [
    "### 6.6.2 绘制N角星"
   ]
  },
  {
   "cell_type": "code",
   "execution_count": null,
   "metadata": {},
   "outputs": [],
   "source": []
  },
  {
   "cell_type": "markdown",
   "metadata": {},
   "source": [
    "### 6.6.3 温度转换"
   ]
  },
  {
   "cell_type": "code",
   "execution_count": null,
   "metadata": {},
   "outputs": [],
   "source": []
  },
  {
   "cell_type": "markdown",
   "metadata": {},
   "source": [
    "### 6.6.4 计算平均成绩"
   ]
  },
  {
   "cell_type": "code",
   "execution_count": null,
   "metadata": {},
   "outputs": [],
   "source": []
  },
  {
   "cell_type": "markdown",
   "metadata": {},
   "source": [
    "## 6.7 编程习题"
   ]
  },
  {
   "cell_type": "code",
   "execution_count": null,
   "metadata": {},
   "outputs": [],
   "source": []
  }
 ],
 "metadata": {
  "hide_input": false,
  "kernelspec": {
   "display_name": "Python 3",
   "language": "python",
   "name": "python3"
  },
  "language_info": {
   "codemirror_mode": {
    "name": "ipython",
    "version": 3
   },
   "file_extension": ".py",
   "mimetype": "text/x-python",
   "name": "python",
   "nbconvert_exporter": "python",
   "pygments_lexer": "ipython3",
   "version": "3.8.8"
  },
  "toc": {
   "base_numbering": 1,
   "nav_menu": {},
   "number_sections": false,
   "sideBar": false,
   "skip_h1_title": false,
   "title_cell": "Table of Contents",
   "title_sidebar": "Contents",
   "toc_cell": false,
   "toc_position": {},
   "toc_section_display": false,
   "toc_window_display": false
  },
  "vscode": {
   "interpreter": {
    "hash": "287ce0282b01c1888cda87edf8a6ea705b55de1d257c8ee64a27122feab8970f"
   }
  }
 },
 "nbformat": 4,
 "nbformat_minor": 2
}
