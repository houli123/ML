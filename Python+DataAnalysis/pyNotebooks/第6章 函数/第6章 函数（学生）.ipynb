{
 "cells": [
  {
   "cell_type": "markdown",
   "metadata": {},
   "source": [
    "<img src=\"img/6-首页.png\" width=\"1200\" height=\"700\" align=\"center\" />"
   ]
  },
  {
   "cell_type": "markdown",
   "metadata": {},
   "source": [
    "##  知识点思维导图\n",
    "\n",
    "<img src=\"img/6-思维导图.png\" width=\"1000\" height=\"800\" align=\"left\" />"
   ]
  },
  {
   "cell_type": "markdown",
   "metadata": {},
   "source": [
    "## 6.1绘制五角星\n",
    "<img src=\"img/6-绘制五角星.png\" width=\"700\" height=\"700\" align=\"left\" />"
   ]
  },
  {
   "cell_type": "markdown",
   "metadata": {},
   "source": [
    "## 6.2 预备知识\n",
    "### 6.2.1 绘图库的介绍\n",
    "> #### turtle库是一个直观有趣的入门级的图形绘制函数库\n",
    "> 使用turtle库，同学们头脑里需要有这样一个概念：想象一个小乌龟，在一个横轴为x、纵轴为y的坐标系原点，(0,0)位置开始，它根据一组函数指令的控制，在这个平面坐标系中移动，从而在它爬行的路径上绘制了图形\n"
   ]
  },
  {
   "cell_type": "markdown",
   "metadata": {},
   "source": [
    "### 6.2.2 绘一颗五角星"
   ]
  },
  {
   "cell_type": "code",
   "execution_count": null,
   "metadata": {},
   "outputs": [],
   "source": [
    "import turtle\n",
    "turtle.color('red','red')\n",
    "turtle.begin_fill()\n",
    "for i in range(5):\n",
    "    turtle.fd(200)\n",
    "    turtle.rt(144)\n",
    "turtle.end_fill()\n",
    "turtle.done()"
   ]
  },
  {
   "cell_type": "markdown",
   "metadata": {},
   "source": [
    "\n",
    "颜色填充函数:使用Turtle不仅可以画线条，也可以将画出的封闭线条进行填充。\n",
    "\n",
    "开始填充：begin_fill()\n",
    "\n",
    "设定填充色：fillecolor()\n",
    "\n",
    "结束填充：end_fill()"
   ]
  },
  {
   "cell_type": "markdown",
   "metadata": {},
   "source": [
    "#### 定义函数与调用函数\n",
    "![](img/6-funcyion-1.png)"
   ]
  },
  {
   "cell_type": "markdown",
   "metadata": {},
   "source": [
    "#### 函数的作用\n",
    "1. 提高代码的可读性和可维护性\n",
    "\n",
    "函数可以将一段代码封装成一个独立的逻辑单元，使得代码的结构更加清晰，易于阅读和理解。通过将不同的功能模块分离成不同的函数，我们可以使得代码更加模块化，易于维护和修改。\n",
    "\n",
    "2. 实现代码的复用\n",
    "\n",
    "函数可以被多次调用，从而实现代码的复用。我们可以将一些常用的功能封装成函数，然后在不同的场景下调用这些函数，避免了重复编写相同的代码，提高了开发效率。\n",
    "\n",
    "3. 提高程序的性能\n",
    "\n",
    "函数可以将一些需要重复执行的计算结果缓存起来，从而避免了重复计算，提高了程序的运行效率。\n",
    "\n",
    "4. 实现抽象和封装\n",
    "\n",
    "函数可以将一些底层的实现细节隐藏起来，只暴露出高层的接口，从而实现了抽象和封装。这样可以使得代码更加安全和可靠，避免了一些潜在的错误和漏洞。\n",
    "\n",
    "5. 支持递归\n",
    "\n",
    "函数可以支持递归调用，这使得我们可以用简单的逻辑实现复杂的计算过程，从而实现了很多算法和数据结构的实现。\n",
    "\n",
    "6. 实现回调\n",
    "\n",
    "函数可以作为参数传递到其他函数中，从而实现回调。这种方式可以使得代码更加灵活，可以根据不同的需求传递不同的函数，实现不同的功能。\n",
    "\n",
    "7. 实现面向对象编程\n",
    "\n",
    "函数可以被用来实现面向对象编程中的方法。我们可以将一些数据和对应的操作封装成类，然后在类中定义一些方法，这些方法实际上就是函数。\n",
    "\n",
    "总结\n",
    "\n",
    "函数是程序设计中非常重要的概念，它可以提高代码的可读性和可维护性，实现代码的复用，提高程序的性能，实现抽象和封装，支持递归，实现回调，以及实现面向对象编程。在实际的开发中，我们需要根据不同的需求选择不同的函数来实现我们的功能，从而使得代码更加清晰、高效和可靠。"
   ]
  },
  {
   "cell_type": "markdown",
   "metadata": {},
   "source": [
    "#### 定义函数\n",
    "![](img/6-function-2.png)"
   ]
  },
  {
   "cell_type": "code",
   "execution_count": null,
   "metadata": {},
   "outputs": [],
   "source": [
    "import turtle\n",
    "def astar():\n",
    "    turtle.color('red','red')\n",
    "    turtle.begin_fill()\n",
    "    for i in range(5):\n",
    "        turtle.fd(200)\n",
    "        turtle.rt(144)\n",
    "    turtle.end_fill()\n",
    "astar()\n",
    "turtle.done()"
   ]
  },
  {
   "cell_type": "code",
   "execution_count": null,
   "metadata": {},
   "outputs": [],
   "source": [
    "import turtle\n",
    "def astar():\n",
    "    turtle.color('red','red')\n",
    "    turtle.begin_fill()\n",
    "    for i in range(5):\n",
    "        turtle.fd(200)\n",
    "        turtle.rt(144)\n",
    "    turtle.end_fill()\n",
    "astar()\n",
    "turtle.pu()\n",
    "turtle.goto(-300,150)\n",
    "turtle.pd()\n",
    "astar()\n",
    "turtle.pu()\n",
    "turtle.goto(200,60)\n",
    "turtle.pd()\n",
    "astar()\n",
    "turtle.done()"
   ]
  },
  {
   "cell_type": "code",
   "execution_count": null,
   "metadata": {},
   "outputs": [],
   "source": [
    "#使用形参做移动的\n",
    "import turtle\n",
    "turtle.setup(400,400)\n",
    "def astar(x,y,l):\n",
    "    turtle.color('red','red')\n",
    "    turtle.begin_fill()\n",
    "    turtle.pu()\n",
    "    turtle.goto(x,y)\n",
    "    turtle.pd()\n",
    "    for i in range(5):\n",
    "        turtle.fd(l)\n",
    "        turtle.rt(144)\n",
    "    turtle.end_fill()\n",
    "astar(-150,150,100)\n",
    "astar(-50,170,50)\n",
    "astar(-60,120,50)\n",
    "astar(-80,80,50)\n",
    "astar(-140,65,50)\n",
    "turtle.done()"
   ]
  },
  {
   "cell_type": "markdown",
   "metadata": {},
   "source": [
    "#### 调用函数\n",
    "![](img/6-function-3.png)"
   ]
  },
  {
   "cell_type": "markdown",
   "metadata": {},
   "source": [
    "#### 函数的参数传递\n",
    "- 位置参数\n",
    "- 关键字参数\n",
    "- 默认值参数\n",
    "- 可变参数"
   ]
  },
  {
   "cell_type": "markdown",
   "metadata": {},
   "source": [
    "#### 位置参数：\n",
    "> 位置参数就是实参传递的顺序按照形参定义的顺序进行传递的传参方式。下例中，第一位置的实参对应着函数第一个位置的形参，第二个位置的实参对应着第二个位置的形参。"
   ]
  },
  {
   "cell_type": "code",
   "execution_count": null,
   "metadata": {},
   "outputs": [],
   "source": [
    "#位置参数\n",
    "def test(b, c):\n",
    "    print(\"第一个参数是：{}，第二个参数是：{}\".format(b,c))\n",
    "\n",
    "test(20, 30)\n",
    "test(30, 20)\n",
    "\n"
   ]
  },
  {
   "cell_type": "markdown",
   "metadata": {},
   "source": [
    "#### 关键字参数:\n",
    "> 函数传参使用 形参名=实参 的形式传参不需要按照形参的顺序传参，python会自动帮我们找到 形参的位置 然后对应上相应的实参。"
   ]
  },
  {
   "cell_type": "code",
   "execution_count": null,
   "metadata": {},
   "outputs": [],
   "source": [
    "def test(b, c):\n",
    "    print(\"第一个参数是：{}，第二个参数是：{}\".format(b,c))\n",
    "test(c=20, b=30)"
   ]
  },
  {
   "cell_type": "markdown",
   "metadata": {},
   "source": [
    "#### 默认值参数:\n",
    "> 定义函数时，我们给形参一个默认值，在调用函数的时候，如果不给有默认值的形参传参，会自动采用默认值，如果给有默认值的形参传参则覆盖默认值。"
   ]
  },
  {
   "cell_type": "code",
   "execution_count": null,
   "metadata": {},
   "outputs": [],
   "source": [
    "def test(b=777, c=888):\n",
    "    print(\"第一个参数是：{}，第二个参数是：{}\".format(b,c))\n",
    "    \n",
    "test()\n",
    "test(10)\n",
    "test(10, 20)\n"
   ]
  },
  {
   "cell_type": "markdown",
   "metadata": {},
   "source": [
    "#### 可变参数:\n",
    "> 可变参数就是传入的参数个数是可变的，可以是1个、2个到任意个，还可以是0个。"
   ]
  },
  {
   "cell_type": "code",
   "execution_count": null,
   "metadata": {},
   "outputs": [],
   "source": [
    "def test(*numbers):\n",
    "    for n in numbers:\n",
    "        print(n,end=\"\")\n",
    "    print()\n",
    "test(1, 2)\n",
    "test(1, 2,3)"
   ]
  },
  {
   "cell_type": "markdown",
   "metadata": {},
   "source": [
    "## 6.3 课堂练习之调用函数绘制图形"
   ]
  },
  {
   "cell_type": "code",
   "execution_count": null,
   "metadata": {
    "code_folding": []
   },
   "outputs": [],
   "source": []
  },
  {
   "cell_type": "code",
   "execution_count": null,
   "metadata": {},
   "outputs": [],
   "source": [
    "#绘制叠加三角形\n",
    "from turtle import *\n",
    "def draw4(z):  #定义画平行四边形四条边的函数，方便调用\n",
    "    for j in (120,60)*2:\n",
    "        fd(z)\n",
    "        rt(j)\n",
    "def triangle(x,y,z):\n",
    "    j=z\n",
    "    color(\"aqua\")\n",
    "    setup(800,800,400,400)\n",
    "    for i in -120,-60,0:  #先从上面的平行四边形开始，再到右边最后是左边\n",
    "        if i==0:\n",
    "            j=0\n",
    "        pu();goto(j,0);pd();seth(i)\n",
    "        draw4(z)\n",
    "    lt(60)  #使海龟头指向图片的位置\n",
    "    done()\n",
    "triangle(0,0,50)"
   ]
  },
  {
   "cell_type": "code",
   "execution_count": null,
   "metadata": {},
   "outputs": [],
   "source": [
    "from turtle import *\n",
    "#正方形螺旋线的绘制\n",
    "def square(x,y,n):\n",
    "    color(\"aqua\")\n",
    "    pu()\n",
    "    goto(x,y)\n",
    "    pd()\n",
    "    for i in range(1,n,5):\n",
    "        lt(90)\n",
    "        fd(i)\n",
    "    done()\n",
    "square(0,0,500)"
   ]
  },
  {
   "cell_type": "markdown",
   "metadata": {},
   "source": [
    "## 6.4 项目实战\n",
    "<img src=\"img/6-绘制五角星.png\" width=\"700\" height=\"700\" align=\"left\" />"
   ]
  },
  {
   "cell_type": "code",
   "execution_count": null,
   "metadata": {},
   "outputs": [],
   "source": [
    "#使用形参做移动的\n",
    "import turtle\n",
    "setup(450,650)\n",
    "def astar(x,y,l):\n",
    "    turtle.color('red','red')\n",
    "    turtle.begin_fill()\n",
    "    turtle.pu()\n",
    "    turtle.goto(x,y)\n",
    "    turtle.pd()\n",
    "    for i in range(5):\n",
    "        turtle.fd(l)\n",
    "        turtle.rt(-144)\n",
    "    turtle.end_fill()\n",
    "astar(-210,210,100)\n",
    "astar(-31,290,60)\n",
    "astar(-30,181,60)\n",
    "astar(-100,85,60)\n",
    "astar(-210,45,60)\n",
    "turtle.done()"
   ]
  },
  {
   "cell_type": "markdown",
   "metadata": {},
   "source": [
    "## 6. 5 总结与提高\n",
    "### 6.5.1 参数传递\n",
    "- 传递一个列表作为参数"
   ]
  },
  {
   "cell_type": "code",
   "execution_count": null,
   "metadata": {
    "scrolled": true
   },
   "outputs": [],
   "source": [
    "def gusers(names):\n",
    "    for name in names:\n",
    "        msg=\"你好,\"+name.title()+\".欢迎光临\"\n",
    "        print(msg)\n",
    "usernames=[\"晓燕\",\"少文\",\"红岗\",\"tom\",\"alice\"]\n",
    "gusers(usernames)"
   ]
  },
  {
   "cell_type": "markdown",
   "metadata": {},
   "source": [
    "- 参数的默认值"
   ]
  },
  {
   "cell_type": "code",
   "execution_count": null,
   "metadata": {},
   "outputs": [],
   "source": [
    "def cheng(n=9):\n",
    "    if(n>9)or n<1:\n",
    "        n=9\n",
    "    for i in range(1,n+1):\n",
    "        for j in range(1,n+1):\n",
    "            if j<=i:\n",
    "                print(\"{}*{}={}\".format(i,i,i*j),end=\" \")\n",
    "        print()\n",
    "cheng(5)\n",
    "cheng(10)\n",
    "cheng()"
   ]
  },
  {
   "cell_type": "markdown",
   "metadata": {},
   "source": [
    "- 有返回值的函数"
   ]
  },
  {
   "cell_type": "code",
   "execution_count": null,
   "metadata": {},
   "outputs": [],
   "source": []
  },
  {
   "cell_type": "markdown",
   "metadata": {},
   "source": [
    "- return返回一个值"
   ]
  },
  {
   "cell_type": "code",
   "execution_count": null,
   "metadata": {},
   "outputs": [],
   "source": [
    "def isnum(s):\n",
    "    for i in s:\n",
    "        if i in \"1234567890\":\n",
    "            continue\n",
    "        else:\n",
    "            return \"不是数字\"\n",
    "print(isnum(\"%alias\"))"
   ]
  },
  {
   "cell_type": "markdown",
   "metadata": {},
   "source": [
    "- return返回多个值"
   ]
  },
  {
   "cell_type": "code",
   "execution_count": null,
   "metadata": {},
   "outputs": [],
   "source": [
    "def rect(a,b):\n",
    "    area=a*b\n",
    "    perimeter=2*(a+b)\n",
    "    return area,perimeter\n",
    "s,p=rect(5,10)\n",
    "print(s,p)"
   ]
  },
  {
   "cell_type": "markdown",
   "metadata": {},
   "source": [
    "- 全局变量和局部变量\n",
    "变量可以在模块中创建，作用域（变量的有效范围）是整个模块， 被称为全局变量。变量也可以在函数中创建，在默认情况下作用域是整 个函数，被称为局部变量。  \n",
    "![](img/6-function-4.png)  \n",
    "- 全局变量和局部变量有各自的作用域\n",
    "![](img/6-funcyion-5.png)"
   ]
  },
  {
   "cell_type": "code",
   "execution_count": null,
   "metadata": {},
   "outputs": [],
   "source": [
    "def func(a,b):\n",
    "    n=a+b\n",
    "n=1\n",
    "func(3,4)\n",
    "print(n)"
   ]
  },
  {
   "cell_type": "code",
   "execution_count": null,
   "metadata": {},
   "outputs": [],
   "source": []
  },
  {
   "cell_type": "markdown",
   "metadata": {},
   "source": [
    "- global让函数使用全局变量\n",
    "![](img/6-funcyion-6.png)"
   ]
  },
  {
   "cell_type": "code",
   "execution_count": null,
   "metadata": {},
   "outputs": [],
   "source": [
    "def func(a,b):\n",
    "    global n\n",
    "    n=a+b\n",
    "n=1\n",
    "func(3,4)\n",
    "print(n)"
   ]
  },
  {
   "cell_type": "markdown",
   "metadata": {},
   "source": [
    "### 6.5.2 递归函数\n",
    ">程序调用自身称为递归"
   ]
  },
  {
   "cell_type": "code",
   "execution_count": null,
   "metadata": {},
   "outputs": [],
   "source": [
    "def jie(n):\n",
    "    i,sum=1,1\n",
    "    while(i<=n):\n",
    "        sum*=i\n",
    "        i+=1\n",
    "    print(sum)\n",
    "jie(5)"
   ]
  },
  {
   "cell_type": "markdown",
   "metadata": {},
   "source": [
    "#### 递归与循环"
   ]
  },
  {
   "cell_type": "code",
   "execution_count": null,
   "metadata": {},
   "outputs": [],
   "source": [
    "def jie(n):\n",
    "    sum=1\n",
    "    for i in range(1,n+1):\n",
    "        sum*=i\n",
    "    print(sum)\n",
    "jie(5)"
   ]
  },
  {
   "cell_type": "markdown",
   "metadata": {},
   "source": [
    "#### 递归的次数"
   ]
  },
  {
   "cell_type": "code",
   "execution_count": null,
   "metadata": {},
   "outputs": [],
   "source": [
    "def di(n):\n",
    "    if(n>1):\n",
    "        return di(n-1)*n\n",
    "    else:\n",
    "        return 1\n",
    "print(di(3))"
   ]
  },
  {
   "cell_type": "markdown",
   "metadata": {},
   "source": [
    "### 6.5.3 匿名函数\n",
    "在Python中使用lambda关键字定义匿名函数。lambda关键字定义的 函数也被称为lambda（）函数，定义lambda（）函数的语法如下。 “参数列表”与函数的参数列表是一样的，但不需要用小括号括起来  \n",
    "![](img/6-function-7.png)\n",
    "\n",
    "![](img/6-function-8.png)\n",
    "\n",
    "![](img/6-function-9.png)"
   ]
  },
  {
   "cell_type": "code",
   "execution_count": null,
   "metadata": {},
   "outputs": [],
   "source": []
  },
  {
   "cell_type": "markdown",
   "metadata": {},
   "source": [
    "#### 求和"
   ]
  },
  {
   "cell_type": "code",
   "execution_count": null,
   "metadata": {},
   "outputs": [],
   "source": [
    "addx=lambda x,y:x+y\n",
    "a=[1,2,3,4]\n",
    "print(addx(5,8))\n",
    "print(addx(a,a))"
   ]
  },
  {
   "cell_type": "markdown",
   "metadata": {},
   "source": [
    "#### 取数"
   ]
  },
  {
   "cell_type": "code",
   "execution_count": null,
   "metadata": {},
   "outputs": [],
   "source": [
    "findx=lambda x:x[1]\n",
    "data1=['周五','12日']\n",
    "data2=['周六','13日']\n",
    "data3=['周日','14日']\n",
    "print(type(findx))\n",
    "print(findx(data1))\n",
    "print(findx(data2))\n",
    "print(findx(data3))"
   ]
  },
  {
   "cell_type": "markdown",
   "metadata": {},
   "source": [
    "## 6.6 巩固与应用\n",
    "### 6.6.1 打印程序员信息"
   ]
  },
  {
   "cell_type": "code",
   "execution_count": null,
   "metadata": {},
   "outputs": [],
   "source": [
    "def corpfunc(name=\"无名氏\"):\n",
    "    print(\"*\"*10)\n",
    "    print(\"*程序名称：Python程序设计 *\")\n",
    "    print(f\"*程序编写：{name:12}*\")\n",
    "    print(\"*\"*10)\n",
    "corpfunc()"
   ]
  },
  {
   "cell_type": "markdown",
   "metadata": {},
   "source": [
    "### 6.6.2 绘制N角星"
   ]
  },
  {
   "cell_type": "code",
   "execution_count": null,
   "metadata": {},
   "outputs": [],
   "source": [
    "from turtle import *\n",
    "import turtle\n",
    "def stars(side,length,x,y,pensizes,mycolor):\n",
    "    color(mycolor,mycolor)\n",
    "    width(pensizes)\n",
    "    pu()\n",
    "    goto(x,y)\n",
    "    pd()\n",
    "    begin_fill()\n",
    "    for i in range(side):\n",
    "        fd(length)\n",
    "        rt(180-(360/side))\n",
    "    end_fill()\n",
    "    hideturtle()\n",
    "    done()\n",
    "stars(30,200,0,0,3,'aqua')"
   ]
  },
  {
   "cell_type": "markdown",
   "metadata": {},
   "source": [
    "### 6.6.3 温度转换"
   ]
  },
  {
   "cell_type": "code",
   "execution_count": null,
   "metadata": {},
   "outputs": [],
   "source": [
    "def cetofa(cetemp):\n",
    "    print(f\"{cetemp}摄氏度={32+1.8*cetemp:.1f}华氏度\")\n",
    "cetemp=eval(input(\"请输入摄氏度：\"))\n",
    "cetofa(cetemp)"
   ]
  },
  {
   "cell_type": "markdown",
   "metadata": {},
   "source": [
    "### 6.6.4 计算平均成绩"
   ]
  },
  {
   "cell_type": "code",
   "execution_count": null,
   "metadata": {},
   "outputs": [],
   "source": [
    "def avgscore(*score):\n",
    "    sum=0\n",
    "    for i in score:\n",
    "        sum+=i\n",
    "    print(f\"{len(score)}科成绩的平均分是{sum/(score.index(i)+1)}\")\n",
    "avgscore(99,100)\n",
    "avgscore(77,88,99)\n",
    "avgscore(77,88,99,65)"
   ]
  },
  {
   "cell_type": "markdown",
   "metadata": {},
   "source": [
    "## 6.7 编程习题"
   ]
  },
  {
   "cell_type": "code",
   "execution_count": 72,
   "metadata": {},
   "outputs": [
    {
     "ename": "KeyboardInterrupt",
     "evalue": "",
     "output_type": "error",
     "traceback": [
      "\u001b[1;31m---------------------------------------------------------------------------\u001b[0m",
      "\u001b[1;31mKeyboardInterrupt\u001b[0m                         Traceback (most recent call last)",
      "\u001b[1;32m<ipython-input-72-3355f120462d>\u001b[0m in \u001b[0;36m<module>\u001b[1;34m\u001b[0m\n\u001b[0;32m      6\u001b[0m     \u001b[0mpd\u001b[0m\u001b[1;33m(\u001b[0m\u001b[1;33m)\u001b[0m\u001b[1;33m\u001b[0m\u001b[1;33m\u001b[0m\u001b[0m\n\u001b[0;32m      7\u001b[0m     \u001b[0mcircle\u001b[0m\u001b[1;33m(\u001b[0m\u001b[1;36m45\u001b[0m\u001b[1;33m,\u001b[0m\u001b[1;36m360\u001b[0m\u001b[1;33m)\u001b[0m\u001b[1;33m\u001b[0m\u001b[1;33m\u001b[0m\u001b[0m\n\u001b[1;32m----> 8\u001b[1;33m \u001b[0mdone\u001b[0m\u001b[1;33m(\u001b[0m\u001b[1;33m)\u001b[0m\u001b[1;33m\u001b[0m\u001b[1;33m\u001b[0m\u001b[0m\n\u001b[0m",
      "\u001b[1;32mC:\\ProgramData\\Anaconda3\\lib\\turtle.py\u001b[0m in \u001b[0;36mmainloop\u001b[1;34m()\u001b[0m\n",
      "\u001b[1;32mC:\\ProgramData\\Anaconda3\\lib\\turtle.py\u001b[0m in \u001b[0;36mmainloop\u001b[1;34m(self)\u001b[0m\n\u001b[0;32m    812\u001b[0m \u001b[1;33m\u001b[0m\u001b[0m\n\u001b[0;32m    813\u001b[0m         \"\"\"\n\u001b[1;32m--> 814\u001b[1;33m         \u001b[0mTK\u001b[0m\u001b[1;33m.\u001b[0m\u001b[0mmainloop\u001b[0m\u001b[1;33m(\u001b[0m\u001b[1;33m)\u001b[0m\u001b[1;33m\u001b[0m\u001b[1;33m\u001b[0m\u001b[0m\n\u001b[0m\u001b[0;32m    815\u001b[0m \u001b[1;33m\u001b[0m\u001b[0m\n\u001b[0;32m    816\u001b[0m     \u001b[1;32mdef\u001b[0m \u001b[0mtextinput\u001b[0m\u001b[1;33m(\u001b[0m\u001b[0mself\u001b[0m\u001b[1;33m,\u001b[0m \u001b[0mtitle\u001b[0m\u001b[1;33m,\u001b[0m \u001b[0mprompt\u001b[0m\u001b[1;33m)\u001b[0m\u001b[1;33m:\u001b[0m\u001b[1;33m\u001b[0m\u001b[1;33m\u001b[0m\u001b[0m\n",
      "\u001b[1;32mC:\\ProgramData\\Anaconda3\\lib\\tkinter\\__init__.py\u001b[0m in \u001b[0;36mmainloop\u001b[1;34m(n)\u001b[0m\n\u001b[0;32m    601\u001b[0m \u001b[1;32mdef\u001b[0m \u001b[0mmainloop\u001b[0m\u001b[1;33m(\u001b[0m\u001b[0mn\u001b[0m\u001b[1;33m=\u001b[0m\u001b[1;36m0\u001b[0m\u001b[1;33m)\u001b[0m\u001b[1;33m:\u001b[0m\u001b[1;33m\u001b[0m\u001b[1;33m\u001b[0m\u001b[0m\n\u001b[0;32m    602\u001b[0m     \u001b[1;34m\"\"\"Run the main loop of Tcl.\"\"\"\u001b[0m\u001b[1;33m\u001b[0m\u001b[1;33m\u001b[0m\u001b[0m\n\u001b[1;32m--> 603\u001b[1;33m     \u001b[0m_get_default_root\u001b[0m\u001b[1;33m(\u001b[0m\u001b[1;34m'run the main loop'\u001b[0m\u001b[1;33m)\u001b[0m\u001b[1;33m.\u001b[0m\u001b[0mtk\u001b[0m\u001b[1;33m.\u001b[0m\u001b[0mmainloop\u001b[0m\u001b[1;33m(\u001b[0m\u001b[0mn\u001b[0m\u001b[1;33m)\u001b[0m\u001b[1;33m\u001b[0m\u001b[1;33m\u001b[0m\u001b[0m\n\u001b[0m\u001b[0;32m    604\u001b[0m \u001b[1;33m\u001b[0m\u001b[0m\n\u001b[0;32m    605\u001b[0m \u001b[1;33m\u001b[0m\u001b[0m\n",
      "\u001b[1;31mKeyboardInterrupt\u001b[0m: "
     ]
    }
   ],
   "source": [
    "from turtle import *\n",
    "ls=[(-150,0),(-100,0),(-50,0),(0,0),(50,0),(100,0),(150,0)]\n",
    "for i in ls:\n",
    "    pu()\n",
    "    goto(i[0],i[1]-45)  #为了使圆心都是列表的圆心\n",
    "    pd()\n",
    "    circle(45,360)\n",
    "done()"
   ]
  },
  {
   "cell_type": "code",
   "execution_count": 73,
   "metadata": {},
   "outputs": [
    {
     "name": "stdout",
     "output_type": "stream",
     "text": [
      "请输入正整数：2\n",
      "请输入正整数：3\n",
      "请输入正整数：5\n",
      "请输入正整数：7\n",
      "请输入正整数：9\n",
      "请输入正整数：-1\n",
      "-------------------------\n",
      "ls中所有偶数：2,\n",
      "ls的平均数为：5.20\n",
      "ls中的所有素数为：2,3,5,7,"
     ]
    }
   ],
   "source": [
    "def even():\n",
    "    print(\"ls中所有偶数：\",end=\"\")\n",
    "    for i in ls:\n",
    "        if(i%2==0):\n",
    "            print(i,end=\",\")\n",
    "def aver():\n",
    "    print(\"\\nls的平均数为：{:.2f}\".format(sum(ls)/len(ls)))\n",
    "def prime():\n",
    "    print(\"ls中的所有素数为：\",end=\"\")\n",
    "    for i in ls:\n",
    "        if(i==2):   #只有2无法通过一下处理，特殊搞一下\n",
    "            print(i,end=\",\")\n",
    "        for j in range(2,i):   #素数是只有本身和1能整除的数\n",
    "            if(i%j==0):\n",
    "                break\n",
    "            else:\n",
    "                if j==i-1:\n",
    "                    print(i,end=\",\")\n",
    "ls=[]\n",
    "num=int(input(\"请输入正整数：\"))\n",
    "while(num!=-1):\n",
    "    ls.append(num)\n",
    "    num=int(input(\"请输入正整数：\"))\n",
    "print(\"-------------------------\")\n",
    "even()\n",
    "aver()\n",
    "prime()"
   ]
  },
  {
   "cell_type": "code",
   "execution_count": 70,
   "metadata": {},
   "outputs": [
    {
     "name": "stdout",
     "output_type": "stream",
     "text": [
      "请输入正整数t：6\n",
      "8是斐波那契数列中大于或者等于6的第一个数。\n"
     ]
    }
   ],
   "source": [
    "ls=[1,1]\n",
    "#生成斐波那契数列并返回斐波那契数列中大于或者等于t的第一个数。\n",
    "def fib(t):\n",
    "    for i in range(t):\n",
    "        ls.append(ls[i]+ls[i+1])\n",
    "    for i in ls:\n",
    "        if(i>=t):\n",
    "            print(\"{}是斐波那契数列中大于或者等于{}的第一个数。\".format(i,t))\n",
    "            break\n",
    "t=int(input(\"请输入正整数t：\"))\n",
    "fib(t)"
   ]
  },
  {
   "cell_type": "code",
   "execution_count": null,
   "metadata": {},
   "outputs": [],
   "source": [
    "ls=['Alice','Tom']\n",
    "\n",
    "def func(a):\n",
    "    ls=[]\n",
    "    ls.append(a)\n",
    "    return\n",
    "func('John')\n",
    "print(ls)\n",
    "import turtle\n",
    "turtle.goto(0,-25)\n",
    "turtle.circle(25,360)\n",
    "turtle.goto(0,0)\n",
    "turtle.done()"
   ]
  }
 ],
 "metadata": {
  "hide_input": false,
  "kernelspec": {
   "display_name": "Python 3",
   "language": "python",
   "name": "python3"
  },
  "language_info": {
   "codemirror_mode": {
    "name": "ipython",
    "version": 3
   },
   "file_extension": ".py",
   "mimetype": "text/x-python",
   "name": "python",
   "nbconvert_exporter": "python",
   "pygments_lexer": "ipython3",
   "version": "3.8.8"
  },
  "toc": {
   "base_numbering": 1,
   "nav_menu": {},
   "number_sections": false,
   "sideBar": false,
   "skip_h1_title": false,
   "title_cell": "Table of Contents",
   "title_sidebar": "Contents",
   "toc_cell": false,
   "toc_position": {},
   "toc_section_display": false,
   "toc_window_display": false
  },
  "vscode": {
   "interpreter": {
    "hash": "ad2bdc8ecc057115af97d19610ffacc2b4e99fae6737bb82f5d7fb13d2f2c186"
   }
  }
 },
 "nbformat": 4,
 "nbformat_minor": 2
}
