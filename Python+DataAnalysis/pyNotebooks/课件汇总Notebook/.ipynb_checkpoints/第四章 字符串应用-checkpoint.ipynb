{
 "cells": [
  {
   "cell_type": "markdown",
   "metadata": {},
   "source": [
    "# 第四章 字符串应用\n",
    "## 4.1 情报译码"
   ]
  },
  {
   "cell_type": "markdown",
   "metadata": {},
   "source": [
    "- 四个数字代表一个汉字\n",
    "- 前两个代表行号，后两个代表列号"
   ]
  },
  {
   "cell_type": "markdown",
   "metadata": {},
   "source": [
    "## 4.2 预备知识--字符串\n",
    "![](img/4-string.png)\n",
    "### 4.2.1 字符串类型及其表示"
   ]
  },
  {
   "cell_type": "markdown",
   "metadata": {},
   "source": [
    "- 字符串是用双引号\"\"或者单引号''括起来的一个或多个字符  \n",
    "- 字符串可以保存在变量中，也可以单独存在  \n",
    "- 可以用type()函数测试一个字符串的类型  \n",
    "- Python语言转义符： \\  \n",
    "- 如果要使用字符串表示一篇文章，其中包含了换行、缩进等排版字 符，则可以使用长字符串表示。对于长字符串，要使用三个单引号（''' ）或三个双引号（＂＂＂）括起来。\n",
    "![](img/4-string-1.png)"
   ]
  },
  {
   "cell_type": "raw",
   "metadata": {},
   "source": [
    "字符串是Python一个重要的基本数据类型\n",
    "字符串由0个个多个字组成的有序序列\n",
    "三种表示方式：\n",
    "单引号括起来：’Can you program in python?’\n",
    "双引号括起来：”Can you program in python?”\n",
    "三引号括起来：’’’Can you\n",
    "                            program in \n",
    "                                 python?’’’\n"
   ]
  },
  {
   "cell_type": "markdown",
   "metadata": {},
   "source": [
    "### 4.2.2 字符串的基本操作\n",
    "#### 初始化字符串"
   ]
  },
  {
   "cell_type": "code",
   "execution_count": null,
   "metadata": {},
   "outputs": [],
   "source": []
  },
  {
   "cell_type": "markdown",
   "metadata": {},
   "source": [
    "#### 求字符串长度"
   ]
  },
  {
   "cell_type": "code",
   "execution_count": null,
   "metadata": {},
   "outputs": [],
   "source": []
  },
  {
   "cell_type": "markdown",
   "metadata": {},
   "source": [
    "#### 字符串拼接"
   ]
  },
  {
   "cell_type": "code",
   "execution_count": null,
   "metadata": {},
   "outputs": [],
   "source": []
  },
  {
   "cell_type": "markdown",
   "metadata": {},
   "source": [
    "#### 字符串重复"
   ]
  },
  {
   "cell_type": "code",
   "execution_count": null,
   "metadata": {},
   "outputs": [],
   "source": []
  },
  {
   "cell_type": "markdown",
   "metadata": {},
   "source": [
    "#### 字符串包含判断"
   ]
  },
  {
   "cell_type": "code",
   "execution_count": null,
   "metadata": {},
   "outputs": [],
   "source": []
  },
  {
   "cell_type": "markdown",
   "metadata": {},
   "source": [
    "#### 字符串和数字类型的转换\n",
    "- 将字符串转换为数字，可以使用int（）和float（）实现，也可以用eval（），如果成功 则返回数字，否则引发异常。\n",
    "![](img/4-string-2.png)\n",
    "- 将数字转换为字符串，可以使用str（）函数，str（）函数可以将很 多类型的数据都转换为字符串。"
   ]
  },
  {
   "cell_type": "code",
   "execution_count": null,
   "metadata": {},
   "outputs": [],
   "source": [
    "# 字符串类型转换\n"
   ]
  },
  {
   "cell_type": "markdown",
   "metadata": {},
   "source": [
    "#### 字符串索引\n",
    "![](attach/stringindex.png)\n",
    "\n",
    "<h2>Python字符串运算符</h2>\n",
    "<p>下表实例变量 a 值为字符串 \"Hello\"，b 变量值为 \"Python\"：</p>\n",
    "<table class=\"reference\">\n",
    "<tbody><tr>\n",
    "<th width=\"10%\">操作符</th><th width=\"60%\">描述</th><th>实例</th>\n",
    "</tr>\n",
    "<tr>\n",
    "<td>+</td><td>字符串连接</td><td>\n",
    "<div class=\"hl-main\"><span class=\"hl-code\">&gt;&gt;&gt;</span><span class=\"hl-identifier\">a</span><span class=\"hl-code\"> + </span><span class=\"hl-identifier\">b</span><span class=\"hl-code\">\n",
    "</span><span class=\"hl-quotes\">'</span><span class=\"hl-string\">HelloPython</span><span class=\"hl-quotes\">'</span></div> \n",
    "</td>\n",
    "</tr>\n",
    "<tr>\n",
    "<td>*</td><td>重复输出字符串</td><td>\n",
    "<div class=\"hl-main\"><span class=\"hl-code\">&gt;&gt;&gt;</span><span class=\"hl-identifier\">a</span><span class=\"hl-code\"> * </span><span class=\"hl-number\">2</span><span class=\"hl-code\">\n",
    "</span><span class=\"hl-quotes\">'</span><span class=\"hl-string\">HelloHello</span><span class=\"hl-quotes\">'</span></div> \n",
    "</td>\n",
    "</tr>\n",
    "<tr>\n",
    "<td>[]</td><td>通过索引获取字符串中字符</td><td>\n",
    "<div class=\"hl-main\"><span class=\"hl-code\">&gt;&gt;&gt;</span><span class=\"hl-identifier\">a</span><span class=\"hl-brackets\">[</span><span class=\"hl-number\">1</span><span class=\"hl-brackets\">]</span><span class=\"hl-code\">\n",
    "</span><span class=\"hl-quotes\">'</span><span class=\"hl-string\">e</span><span class=\"hl-quotes\">'</span></div> \n",
    "</td>\n",
    "</tr>\n",
    "<tr>\n",
    "<td>[ : ]</td><td>截取字符串中的一部分</td><td>\n",
    "<div class=\"hl-main\"><span class=\"hl-code\">&gt;&gt;&gt;</span><span class=\"hl-identifier\">a</span><span class=\"hl-brackets\">[</span><span class=\"hl-number\">1</span><span class=\"hl-code\">:</span><span class=\"hl-number\">4</span><span class=\"hl-brackets\">]</span><span class=\"hl-code\">\n",
    "</span><span class=\"hl-quotes\">'</span><span class=\"hl-string\">ell</span><span class=\"hl-quotes\">'</span></div> \n",
    "</td>\n",
    "</tr>\n",
    "<tr>\n",
    "<td>in</td><td>成员运算符 - 如果字符串中包含给定的字符返回 True </td><td> \n",
    "<div class=\"hl-main\"><span class=\"hl-code\">&gt;&gt;&gt;</span><span class=\"hl-quotes\">&quot;</span><span class=\"hl-string\">H</span><span class=\"hl-quotes\">&quot;</span><span class=\"hl-code\"> </span><span class=\"hl-reserved\">in</span><span class=\"hl-code\"> </span><span class=\"hl-identifier\">a</span><span class=\"hl-code\">\n",
    "</span><span class=\"hl-reserved\">True</span></div> \n",
    "</td>\n",
    "</tr>\n",
    "<tr>\n",
    "<td>not in </td><td>成员运算符 - 如果字符串中不包含给定的字符返回 True </td><td> \n",
    "<div class=\"hl-main\"><span class=\"hl-code\">&gt;&gt;&gt;</span><span class=\"hl-quotes\">&quot;</span><span class=\"hl-string\">M</span><span class=\"hl-quotes\">&quot;</span><span class=\"hl-code\"> </span><span class=\"hl-reserved\">not</span><span class=\"hl-code\"> </span><span class=\"hl-reserved\">in</span><span class=\"hl-code\"> </span><span class=\"hl-identifier\">a</span><span class=\"hl-code\">\n",
    "</span><span class=\"hl-reserved\">True</span></div> \n",
    "</td>\n",
    "</tr>\n",
    "<tr>\n",
    "<td>rR</td><td>原始字符串 - 原始字符串：所有的字符串都是直接按照字面的意思来使用，没有转义特殊或不能打印的字符。\n",
    "\n",
    "原始字符串除在字符串的第一个引号前加上字母\"r\"（可以大小写）以外，与普通字符串有着几乎完全相同的语法。</td><td> <div class=\"hl-main\"><span class=\"hl-code\">&gt;&gt;&gt;</span><span class=\"hl-reserved\">print(</span><span class=\"hl-code\"> </span><span class=\"hl-identifier\">r</span><span class=\"hl-quotes\">'</span><span class=\"hl-special\">\\n</span><span class=\"hl-quotes\">')</span><span class=\"hl-code\">\n",
    "\\</span><span class=\"hl-identifier\">n</span><span class=\"hl-code\">\n",
    "&gt;&gt;&gt; </span><span class=\"hl-reserved\">print(</span><span class=\"hl-code\"> </span><span class=\"hl-identifier\">R</span><span class=\"hl-quotes\">'</span><span class=\"hl-special\">\\n</span><span class=\"hl-quotes\">')</span><span class=\"hl-code\">\n",
    "\\</span><span class=\"hl-identifier\">n</span></div> </td>\n",
    "</tr>\n",
    "\n",
    "</tbody></table>\n"
   ]
  },
  {
   "cell_type": "markdown",
   "metadata": {},
   "source": [
    "#### 字符串切片"
   ]
  },
  {
   "cell_type": "code",
   "execution_count": null,
   "metadata": {},
   "outputs": [],
   "source": []
  },
  {
   "cell_type": "markdown",
   "metadata": {},
   "source": [
    "### 4.2.3 课堂练习：字符串\n",
    "#### 代码补全"
   ]
  },
  {
   "cell_type": "code",
   "execution_count": 1,
   "metadata": {},
   "outputs": [],
   "source": [
    "greet1 = 'Hello,'\n",
    "greet2 = 'John!'\n",
    "\n",
    "# 合并greet1和greet2并赋值给变量eet\n",
    "\n",
    "# 打印输出greet的子串，从索引6的字符开始一直到结尾\n"
   ]
  },
  {
   "cell_type": "markdown",
   "metadata": {},
   "source": [
    "#### 任务应用\n",
    "身份证号码对应的生日信息"
   ]
  },
  {
   "cell_type": "code",
   "execution_count": null,
   "metadata": {},
   "outputs": [],
   "source": []
  },
  {
   "cell_type": "markdown",
   "metadata": {},
   "source": [
    "## 4.3 情报译码项目实战\n",
    "### 4.3.1 任务分析"
   ]
  },
  {
   "cell_type": "code",
   "execution_count": null,
   "metadata": {},
   "outputs": [],
   "source": []
  },
  {
   "cell_type": "markdown",
   "metadata": {},
   "source": [
    "### 4.3.2 任务实现\n",
    "密码：0022,0529,0920,0121,0204,0729\n",
    "根据译码规则，密码的每4位代表一个字，这四位代表着密码本的第几行的第几个字，将所有字连接在一起就是最终情报。其过程可以描述为：  \n",
    "  ⑴ 初始化密码字符串，初始化情报字符串  \n",
    "  ⑵ 初始化密码本，并将其转换为列表，列表的每一个元素是密码本的每一行字符串  \n",
    "  ⑶ 对密码每四位进行如下处理：  \n",
    "  ⑷ 到密码本找到对应的字  \n",
    "  ⑸ 保存到情报字符串  \n",
    "  ⑹ 返回最终情报  \n"
   ]
  },
  {
   "cell_type": "code",
   "execution_count": null,
   "metadata": {},
   "outputs": [],
   "source": [
    "#初始化密码本\n",
    "code_book = '''    我和莫绍谦手拉着手回到了老房子，我们已经像最平凡的恋人一\n",
    "样手拉着手，一点也不会感到别扭，心里充满了快乐。\n",
    "    转头看见莫绍谦好笑地看着我，眼睛里都是宠溺。\n",
    "    他带我去了阁楼，那间阁楼我从未进去过，搬来的第一天，我便\n",
    "看到了那上面红色的大锁。结果莫绍谦连钥匙都没用就打开了锁，他\n",
    "举着那把锁对我说：“如果你多点好奇心，你早就会发现，我也会暴\n",
    "出更多秘密。”\n",
    "    阁楼古老陈旧，木质的地板散发着琥珀色的沉香。莫绍谦移出角\n",
    "落里的一个纸箱，我好奇地凑上去。   我打开一本相册，看到了童\n",
    "年的莫绍谦。他的脸白白净净，发型古怪，还露出缺了大门牙的牙齿。\n",
    "我笑得肚子疼，笑得流眼泪了。\n",
    "'''"
   ]
  },
  {
   "cell_type": "markdown",
   "metadata": {},
   "source": [
    "## 4.4 总结与提高\n",
    "### 4.4.1 字符串基本操作\n",
    "#### 创建字符串"
   ]
  },
  {
   "cell_type": "code",
   "execution_count": null,
   "metadata": {},
   "outputs": [],
   "source": []
  },
  {
   "cell_type": "markdown",
   "metadata": {},
   "source": [
    "#### 字符串的运算"
   ]
  },
  {
   "cell_type": "code",
   "execution_count": null,
   "metadata": {},
   "outputs": [],
   "source": []
  },
  {
   "cell_type": "markdown",
   "metadata": {},
   "source": [
    "#### 字符串切片"
   ]
  },
  {
   "cell_type": "code",
   "execution_count": null,
   "metadata": {},
   "outputs": [],
   "source": []
  },
  {
   "cell_type": "markdown",
   "metadata": {},
   "source": [
    "####  字符串的查找和替换\n",
    "- find方法  \n",
    "字符串的find（）方法用于查找子字符串。该方法的语法为str.find （sub[，start[，end]]），表示：在索引start到end之间查找子字符串sub ，如果找到，则返回最左端位置的索引；如果没有找到，则返回-1。\n",
    "- replace方法  \n",
    "若想进行字符串替换，则可以使用replace（）方法替换匹配的子字 符串，返回值是替换之后的字符串。该方法的语法为str.replace（old，n ew[，count]），表示：用new子字符串替换old子字符串。count参数指 定了替换old子字符串的个数，如果count被省略，则替换所有old子字符串。"
   ]
  },
  {
   "cell_type": "markdown",
   "metadata": {},
   "source": [
    "#### 字符串的分割和连接\n",
    "- split方法  \n",
    "若想进行字符串分割，则可以使用split（）方法，按照子字符串来 分割字符串，返回字符串列表对象。该方法的语法为str.split（sep=None ，maxsplit=-1），表示：使用sep子字符串分割字符串str。maxsplit是最 大分割次数，如果maxsplit被省略，则表示不限制分割次数。\n",
    "- join方法  "
   ]
  },
  {
   "cell_type": "markdown",
   "metadata": {},
   "source": [
    "#### 字符串操作常用函数\n",
    "字符串操作常用函数：len(s),str(s),chr(s),ord(s),hex(s),oct(s)\n"
   ]
  },
  {
   "cell_type": "code",
   "execution_count": null,
   "metadata": {},
   "outputs": [],
   "source": []
  },
  {
   "cell_type": "markdown",
   "metadata": {},
   "source": [
    "#### 字符串操作常用方法\n",
    "字符串操作常用方法:s.lower(),s.upper(),s.islower(),s.isprintable(),\n",
    "    s.isnumeric(),s.isspace(),s.endswith(),s.startswith(),s.split(),\n",
    "    s.count(),s.replace(),s.center(),s.strip(),s.zfill(),s.format(),\n",
    "    s.join(),s.find()\n"
   ]
  },
  {
   "cell_type": "code",
   "execution_count": null,
   "metadata": {},
   "outputs": [],
   "source": []
  },
  {
   "cell_type": "markdown",
   "metadata": {},
   "source": [
    "### 4.4.2 字符串的格式化\n",
    "#### format方法基本使用\n",
    "- <模板字符串>.format()(<逗号分隔的参数>)\n",
    "- 模板字符串的构成：常量 + 变量（大括号占位，即槽）\n",
    "- 例子：\n",
    "“{} {} {}”.format(1,2,3)  \n",
    "“{0}的{2}成绩是：{1}分”.format(“小明”, 95, “语文”)  \n",
    "- 槽(占位符)的内部格式是：{<参数序号>:<格式控制标记>}\n"
   ]
  },
  {
   "cell_type": "code",
   "execution_count": null,
   "metadata": {},
   "outputs": [],
   "source": []
  },
  {
   "cell_type": "markdown",
   "metadata": {},
   "source": [
    "#### format方法的格式控制"
   ]
  },
  {
   "cell_type": "code",
   "execution_count": null,
   "metadata": {},
   "outputs": [],
   "source": []
  },
  {
   "cell_type": "markdown",
   "metadata": {},
   "source": [
    "## 4.5 巩固与提高--回文判断\n",
    "顺着读和倒着读都一样，比如中国的回文对联“心清可品茶;茶品可清心”、英文单词“noon”、数字“1234321”。\n"
   ]
  },
  {
   "cell_type": "code",
   "execution_count": null,
   "metadata": {},
   "outputs": [],
   "source": []
  },
  {
   "cell_type": "markdown",
   "metadata": {},
   "source": [
    "## 4.6 编程习题"
   ]
  },
  {
   "cell_type": "code",
   "execution_count": 1,
   "metadata": {},
   "outputs": [
    {
     "name": "stdout",
     "output_type": "stream",
     "text": [
      "请输入一个数字（1-7）：1\n"
     ]
    }
   ],
   "source": [
    "#获取星期字符串，P80\n",
    "week_str = \"星期一星期二星期三星期四星期五星期六星期日\"\n",
    "week_id = eval(input(\"请输入一个数字（1-7）：\"))\n",
    "pass"
   ]
  },
  {
   "cell_type": "code",
   "execution_count": null,
   "metadata": {},
   "outputs": [],
   "source": [
    "'''\n",
    "### 凯撒密码\n",
    "凯撒密码是古罗马凯撒大帝用来对军事情报进行加密的算法，它采用了替换方法对信息中的每一个英文字符循环替换为字母表序列该字符后面第三个字符，对应关系如下：  \n",
    "原文：A B C D E F G H I J K L M N O P Q R S T U V W X Y Z  \n",
    "密文：D E F G H I J K L M N O P Q R S T U V W X Y Z A B C  \n",
    "原文字符P，其密文字符C满足如下条件：  \n",
    "C = ( P + 3 ) mod 26  \n",
    "解密方法反之，满足：  \n",
    "P = ( C – 3 ) mod 26  \n",
    "假设只使用小写字母\n",
    "'''\n",
    "# 加密：chr(ord(\"a\")+(ord(p)-ord(\"a\")+3)%26)\n",
    "plain_code = input(\"请输入明文：\")\n",
    "pass"
   ]
  },
  {
   "cell_type": "code",
   "execution_count": null,
   "metadata": {},
   "outputs": [],
   "source": [
    "# 解密：chr(ord(\"a\")+(ord(p)-ord(\"a\")-3)%26)\n",
    "plain_code = input(\"请输入密文：\")\n",
    "pass"
   ]
  }
 ],
 "metadata": {
  "kernelspec": {
   "display_name": "Python 3",
   "language": "python",
   "name": "python3"
  },
  "language_info": {
   "codemirror_mode": {
    "name": "ipython",
    "version": 3
   },
   "file_extension": ".py",
   "mimetype": "text/x-python",
   "name": "python",
   "nbconvert_exporter": "python",
   "pygments_lexer": "ipython3",
   "version": "3.8.8"
  },
  "toc": {
   "base_numbering": 1,
   "nav_menu": {},
   "number_sections": false,
   "sideBar": false,
   "skip_h1_title": false,
   "title_cell": "Table of Contents",
   "title_sidebar": "Contents",
   "toc_cell": false,
   "toc_position": {},
   "toc_section_display": false,
   "toc_window_display": false
  }
 },
 "nbformat": 4,
 "nbformat_minor": 2
}
