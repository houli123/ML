{
 "cells": [
  {
   "cell_type": "markdown",
   "metadata": {},
   "source": [
    "# 第二章 开启Python之旅-语法与应用\n",
    "![](img/2-structure.png)"
   ]
  },
  {
   "cell_type": "markdown",
   "metadata": {},
   "source": [
    "## 2.1 顺序结构"
   ]
  },
  {
   "cell_type": "markdown",
   "metadata": {},
   "source": [
    "### 2.1.1 计算Pizza的面积大小\n",
    "![](img/pizza.jpg)\n",
    "\n"
   ]
  },
  {
   "cell_type": "markdown",
   "metadata": {},
   "source": [
    "### 2.1.2 预备知识：变量的使用\n",
    "#### Python的程序框架"
   ]
  },
  {
   "cell_type": "code",
   "execution_count": 3,
   "metadata": {},
   "outputs": [],
   "source": [
    "#单行注释和多行注释\n"
   ]
  },
  {
   "cell_type": "markdown",
   "metadata": {},
   "source": [
    "### 标识符\n",
    "![](img/2-indicator.png)\n",
    "Python中标识符的命名规则如下。  \n",
    " 1 区分大小写：Myname与myname是两个不同的标识符。   \n",
    " 2 首字符可以是下画线（_）或字母，但不能是数字。   \n",
    " 3 除首字符外的其他字符必须是下画线、字母和数字。   \n",
    " 4 关键字不能作为标识符。  （如：if、for、def等） \n",
    " 5 不要使用Python的内置函数作为自己的标识符。（如：sum、round等）"
   ]
  },
  {
   "cell_type": "markdown",
   "metadata": {},
   "source": [
    "##### 变量\n",
    "- 在Python中为一个变量赋值的同时就声明了该变量，该变量的数据 类型就是赋值数据所属的类型，该变量还可以接收其他类型的数据。"
   ]
  },
  {
   "cell_type": "code",
   "execution_count": 4,
   "metadata": {},
   "outputs": [
    {
     "name": "stdout",
     "output_type": "stream",
     "text": [
      "我的名字是：张三,今年20岁\n"
     ]
    }
   ],
   "source": [
    "#变量命名规则和变量赋值\n",
    "name = \"张三\"\n",
    "age = 20\n",
    "print(\"我的名字是：{},今年{}岁\".format(name,age))"
   ]
  },
  {
   "cell_type": "markdown",
   "metadata": {},
   "source": [
    "![](img/2-valid.png)"
   ]
  },
  {
   "cell_type": "markdown",
   "metadata": {},
   "source": [
    "#### 关键字\n",
    "![](img/2-key.png)"
   ]
  },
  {
   "cell_type": "markdown",
   "metadata": {},
   "source": [
    "#### 数据类型\n",
    "- 在Python中所有的数据类型都是类，每个数据值都是类的“实例”。   \n",
    "- 在Python中有6种主要的内置数据类型：数字、字符串、列表、元组、集合和字典。  \n",
    "- 列表、元组、集合和字典可以容纳多项数据，统称为复合数据类型或容器类型的数据。   \n",
    "- Python中的数字类型有4种：整数类型、浮点类型、复数类型和布尔类型。需要注意的是，布尔类型也是数字类型，它事实上是整数类型 的一种。"
   ]
  },
  {
   "cell_type": "code",
   "execution_count": 5,
   "metadata": {},
   "outputs": [],
   "source": [
    "#数值类型：整型\n",
    "\n",
    "#数值类型：浮点型\n",
    "\n",
    "#布尔类型\n",
    "\n",
    "#字符串类型\n"
   ]
  },
  {
   "cell_type": "markdown",
   "metadata": {},
   "source": [
    "#### 运算符\n",
    "- 算术运算符\n",
    "![](img/2-operator.png)\n",
    "- 比较运算符\n",
    "![](img/2-operator-1.png)\n",
    "- 逻辑运算符\n",
    "![](img/2-operator-2.png)\n",
    "- 位运算符（略）\n",
    "- 赋值运算符\n",
    "![](img/2-operator-3.png)\n",
    "- 运算符优先级（尽量使用小括号）"
   ]
  },
  {
   "cell_type": "markdown",
   "metadata": {},
   "source": [
    "#### 变量的输入、输出和运算"
   ]
  },
  {
   "cell_type": "code",
   "execution_count": 6,
   "metadata": {},
   "outputs": [],
   "source": [
    "#input语句\n",
    "\n",
    "#print语句\n",
    "\n",
    "#运算符\n"
   ]
  },
  {
   "cell_type": "markdown",
   "metadata": {},
   "source": [
    "#### 课堂小练习"
   ]
  },
  {
   "cell_type": "code",
   "execution_count": null,
   "metadata": {},
   "outputs": [],
   "source": []
  },
  {
   "cell_type": "markdown",
   "metadata": {},
   "source": [
    "### 2.1.3 任务实现"
   ]
  },
  {
   "cell_type": "code",
   "execution_count": 7,
   "metadata": {},
   "outputs": [],
   "source": [
    "# 计算pizza的面积\n"
   ]
  },
  {
   "cell_type": "markdown",
   "metadata": {},
   "source": [
    "### 2.1.5 总结与提高：内置函数与条件表达式"
   ]
  },
  {
   "cell_type": "markdown",
   "metadata": {},
   "source": [
    "#### 表达式的计算"
   ]
  },
  {
   "cell_type": "code",
   "execution_count": null,
   "metadata": {},
   "outputs": [],
   "source": []
  },
  {
   "cell_type": "markdown",
   "metadata": {},
   "source": [
    "#### 常用内置函数\n",
    "\n"
   ]
  },
  {
   "cell_type": "markdown",
   "metadata": {},
   "source": [
    "####  实例：天天向上的力量\n",
    "一年365天，以第1天的能力值为基数，记为1.0，当好好学习时能力值相比前一天提高1‰，当没有学习时由于遗忘等原因能力值相比前一天下降1‰。每天努力和每天放任，一年下来的能力值相差多少呢？"
   ]
  },
  {
   "cell_type": "code",
   "execution_count": 8,
   "metadata": {},
   "outputs": [
    {
     "name": "stdout",
     "output_type": "stream",
     "text": [
      "程序运行结果：\n",
      "天天向上:37.78343433288728\n",
      "天天放任0.025517964452291125\n"
     ]
    }
   ],
   "source": [
    "# 不要把参数写死\n",
    "base = 1.0\n",
    "change_rate = 0.01\n",
    "days = 365\n",
    "# 计算天天向上一年的能力值\n",
    "day_up = base * (1 + change_rate) ** days\n",
    "# 计算天天放任一年的能力值\n",
    "day_down = base * (1 - change_rate) ** days\n",
    "# 打印结果\n",
    "print(\"程序运行结果：\\n天天向上:{}\\n天天放任{}\".format(day_up, day_down))"
   ]
  },
  {
   "cell_type": "markdown",
   "metadata": {},
   "source": [
    "课堂练习：修改代码中的参数，如果每天努力和放任的比例改为5‰呢？改成1%呢？（比例如果经常更改呢？）"
   ]
  },
  {
   "cell_type": "code",
   "execution_count": 9,
   "metadata": {},
   "outputs": [],
   "source": [
    "# 设置参数（基数、比率、天数）\n",
    "\n",
    "# 计算天天向上一年的能力值\n",
    "\n",
    "# 计算天天放任一年的能力值\n",
    "\n",
    "# 打印结果\n"
   ]
  },
  {
   "cell_type": "markdown",
   "metadata": {},
   "source": [
    "### 关系表达式和逻辑表达式"
   ]
  },
  {
   "cell_type": "code",
   "execution_count": 10,
   "metadata": {},
   "outputs": [],
   "source": [
    "# 简单示例\n"
   ]
  },
  {
   "cell_type": "markdown",
   "metadata": {},
   "source": [
    "### 巩固与应用\n",
    "#### 温度的转化"
   ]
  },
  {
   "cell_type": "code",
   "execution_count": 11,
   "metadata": {},
   "outputs": [],
   "source": [
    "# 华氏温度和摄氏温度的转换\n"
   ]
  },
  {
   "cell_type": "markdown",
   "metadata": {},
   "source": [
    "#### 数字的各个位数求和"
   ]
  },
  {
   "cell_type": "code",
   "execution_count": 12,
   "metadata": {},
   "outputs": [],
   "source": [
    "# 任意整数的各个位数求和\n",
    "# 思考，课后作业\n"
   ]
  },
  {
   "cell_type": "markdown",
   "metadata": {},
   "source": [
    "## 2.2 选择结构与循环结构\n",
    "> 利用PythonTutor网站可视化展示运行过程"
   ]
  },
  {
   "cell_type": "markdown",
   "metadata": {},
   "source": [
    "### 2.2.1 百货公司折扣站\n"
   ]
  },
  {
   "cell_type": "markdown",
   "metadata": {},
   "source": [
    "### 2.2.2 预备知识：选择结构\n",
    "![](img/2-if.png)"
   ]
  },
  {
   "cell_type": "markdown",
   "metadata": {},
   "source": [
    "#### 单分支选择结构\n",
    "![](img/2-if-1.png)"
   ]
  },
  {
   "cell_type": "code",
   "execution_count": 13,
   "metadata": {},
   "outputs": [],
   "source": [
    "# 实例：分数是否及格\n"
   ]
  },
  {
   "cell_type": "markdown",
   "metadata": {},
   "source": [
    "#### 双分支选择结构\n",
    "![](img/2-if-2.png)"
   ]
  },
  {
   "cell_type": "code",
   "execution_count": 14,
   "metadata": {},
   "outputs": [],
   "source": [
    "# 实例：分数及格和不及格\n"
   ]
  },
  {
   "cell_type": "markdown",
   "metadata": {},
   "source": [
    "#### 多分支选择结构\n",
    "![](img/2-if-3.png)"
   ]
  },
  {
   "cell_type": "code",
   "execution_count": 15,
   "metadata": {},
   "outputs": [],
   "source": [
    "# 实例：分数划分为优、良、中、及格和不及格\n"
   ]
  },
  {
   "cell_type": "markdown",
   "metadata": {},
   "source": [
    "#### 实例：天天向上的力量（拓展一）\n",
    "一年365天，以第1天的能力值为基数，记为1.0，当好好学习时能力值相比前一天提高1‰，当没有学习时由于遗忘等原因能力值相比前一天下降1‰。自己选择是努力还是放任，打印不同选择下的结果"
   ]
  },
  {
   "cell_type": "code",
   "execution_count": 16,
   "metadata": {},
   "outputs": [],
   "source": [
    "# 输入选择（1-努力，0-放任）\n",
    "\n",
    "# 选择结构判断输入\n",
    "\n",
    "    # 1-努力\n",
    "    \n",
    "    # 0-放任\n",
    "    \n",
    "    # 其他-输入错误\n"
   ]
  },
  {
   "cell_type": "markdown",
   "metadata": {},
   "source": [
    "#### 课堂小练习：选择结构\n"
   ]
  },
  {
   "cell_type": "code",
   "execution_count": 17,
   "metadata": {},
   "outputs": [],
   "source": [
    "## 判断输入的分数是否及格"
   ]
  },
  {
   "cell_type": "code",
   "execution_count": 18,
   "metadata": {},
   "outputs": [],
   "source": [
    "## 分数和等级"
   ]
  },
  {
   "cell_type": "code",
   "execution_count": 19,
   "metadata": {},
   "outputs": [],
   "source": [
    "## 猜数字"
   ]
  },
  {
   "cell_type": "markdown",
   "metadata": {},
   "source": [
    "### 2.2.3 预备知识：循环结构"
   ]
  },
  {
   "cell_type": "markdown",
   "metadata": {},
   "source": [
    "#### while语句\n",
    "![](img/2-while.png)"
   ]
  },
  {
   "cell_type": "code",
   "execution_count": 20,
   "metadata": {},
   "outputs": [],
   "source": [
    "# 简单while循环\n"
   ]
  },
  {
   "cell_type": "markdown",
   "metadata": {},
   "source": [
    "#### for语句\n",
    "![](img/2-for.png)\n",
    "![](img/2-for-1.png)"
   ]
  },
  {
   "cell_type": "code",
   "execution_count": 21,
   "metadata": {},
   "outputs": [],
   "source": [
    "# 简单for循环\n"
   ]
  },
  {
   "cell_type": "markdown",
   "metadata": {},
   "source": [
    "#### 课堂小练习：循环结构"
   ]
  },
  {
   "cell_type": "code",
   "execution_count": 22,
   "metadata": {},
   "outputs": [],
   "source": [
    "# 猜数字游戏\n"
   ]
  },
  {
   "cell_type": "markdown",
   "metadata": {},
   "source": [
    "### 任务实现：百货公司折扣"
   ]
  },
  {
   "cell_type": "code",
   "execution_count": 23,
   "metadata": {},
   "outputs": [],
   "source": [
    "# 实例：百货公司折扣\n"
   ]
  },
  {
   "cell_type": "markdown",
   "metadata": {},
   "source": [
    "### 总结与提高\n",
    "#### for语句的遍历"
   ]
  },
  {
   "cell_type": "code",
   "execution_count": 24,
   "metadata": {},
   "outputs": [],
   "source": [
    "# for循环遍历\n"
   ]
  },
  {
   "cell_type": "markdown",
   "metadata": {},
   "source": [
    "#### 循环的嵌套"
   ]
  },
  {
   "cell_type": "code",
   "execution_count": 25,
   "metadata": {},
   "outputs": [],
   "source": [
    "## 及格问题，考虑满分100和120的情况\n"
   ]
  },
  {
   "cell_type": "markdown",
   "metadata": {},
   "source": [
    "#### break和continue\n",
    "- break  \n",
    "![](img/2-break.png)\n",
    "![](img/2-break-1.png)"
   ]
  },
  {
   "cell_type": "markdown",
   "metadata": {},
   "source": [
    "- continue  \n",
    "![](img/2-continue.png)\n",
    "![](img/2-continue-1.png)"
   ]
  },
  {
   "cell_type": "code",
   "execution_count": 26,
   "metadata": {},
   "outputs": [],
   "source": [
    "# continue和break\n"
   ]
  },
  {
   "cell_type": "markdown",
   "metadata": {},
   "source": [
    "### 巩固与应用\n",
    "#### 九九乘法表"
   ]
  },
  {
   "cell_type": "code",
   "execution_count": 27,
   "metadata": {},
   "outputs": [],
   "source": [
    "# 九九乘法表\n"
   ]
  },
  {
   "cell_type": "markdown",
   "metadata": {},
   "source": [
    "#### 质数问题"
   ]
  },
  {
   "cell_type": "code",
   "execution_count": 28,
   "metadata": {},
   "outputs": [],
   "source": [
    "# 判断质数\n"
   ]
  },
  {
   "cell_type": "markdown",
   "metadata": {},
   "source": [
    "#### 身体质量质数"
   ]
  },
  {
   "cell_type": "code",
   "execution_count": 29,
   "metadata": {},
   "outputs": [],
   "source": [
    "# 计算身体质量指数\n"
   ]
  },
  {
   "cell_type": "markdown",
   "metadata": {},
   "source": [
    "#### 实例天天向上的力量（拓展二）\n",
    "继续思考：一年365天，一周5个工作日，如果每个工作日都很努力，可以提高1%，仅在周末放任一下，能力值每天下降1%，效果如何呢？"
   ]
  },
  {
   "cell_type": "code",
   "execution_count": 30,
   "metadata": {},
   "outputs": [],
   "source": [
    "# 设置参数\n",
    "\n",
    "# 循环每一天\n",
    "\n",
    "    # 判断：周末？\n",
    "        # 放任\n",
    "    # 判断：不是周末\n",
    "        # 努力"
   ]
  },
  {
   "cell_type": "markdown",
   "metadata": {},
   "source": [
    "#### 实例天天向上的力量（拓展三）\n",
    "再来：每周工作5天，休息2天，休息日水平下降0.01，工作日要努力到什么程度一年后的水平才与每天努力1%所取得的效果一样呢？"
   ]
  },
  {
   "cell_type": "code",
   "execution_count": 31,
   "metadata": {},
   "outputs": [],
   "source": [
    "# 学习通上讨论\n"
   ]
  },
  {
   "cell_type": "markdown",
   "metadata": {},
   "source": [
    "## 思考\n",
    "#### 实例天天向上的力量（拓展四）\n",
    "**三天打鱼，两天晒网**：每努力三天，放任两天，结果如何？  \n",
    "**半途而废**：前半年努力，后半年放任，结果如何？  \n",
    "**浪子回头，奋起直追**：前半年放任，后半年加倍努力，结果如何？  "
   ]
  },
  {
   "cell_type": "code",
   "execution_count": 32,
   "metadata": {},
   "outputs": [],
   "source": [
    "# 课后作业\n"
   ]
  }
 ],
 "metadata": {
  "kernelspec": {
   "display_name": "Python 3",
   "language": "python",
   "name": "python3"
  },
  "language_info": {
   "codemirror_mode": {
    "name": "ipython",
    "version": 3
   },
   "file_extension": ".py",
   "mimetype": "text/x-python",
   "name": "python",
   "nbconvert_exporter": "python",
   "pygments_lexer": "ipython3",
   "version": "3.8.8"
  },
  "toc": {
   "base_numbering": 1,
   "nav_menu": {},
   "number_sections": false,
   "sideBar": false,
   "skip_h1_title": false,
   "title_cell": "Table of Contents",
   "title_sidebar": "Contents",
   "toc_cell": false,
   "toc_position": {},
   "toc_section_display": false,
   "toc_window_display": false
  },
  "vscode": {
   "interpreter": {
    "hash": "287ce0282b01c1888cda87edf8a6ea705b55de1d257c8ee64a27122feab8970f"
   }
  }
 },
 "nbformat": 4,
 "nbformat_minor": 2
}
